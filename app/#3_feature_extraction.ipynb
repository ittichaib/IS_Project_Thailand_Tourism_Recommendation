{
 "cells": [
  {
   "cell_type": "code",
   "execution_count": null,
   "id": "initial_id",
   "metadata": {
    "collapsed": true
   },
   "outputs": [],
   "source": [
    "import pandas as pd\n",
    "import numpy as np\n",
    "from pythainlp import word_tokenize\n",
    "from pythainlp.corpus import stopwords\n",
    "from sklearn.model_selection import train_test_split\n",
    "from sklearn.feature_extraction.text import TfidfVectorizer\n",
    "from sklearn.linear_model import LogisticRegression\n",
    "from sklearn.pipeline import Pipeline\n",
    "from sklearn.metrics import classification_report, confusion_matrix\n",
    "import joblib\n",
    "import seaborn as sns\n",
    "import matplotlib.pyplot as plt\n",
    "from imblearn.over_sampling import SMOTE"
   ]
  },
  {
   "cell_type": "code",
   "execution_count": null,
   "id": "caf88498",
   "metadata": {},
   "outputs": [],
   "source": [
    "from nltk.corpus import wordnet\n",
    "from collections import Counter"
   ]
  },
  {
   "cell_type": "code",
   "execution_count": null,
   "id": "71a19f57",
   "metadata": {},
   "outputs": [],
   "source": [
    "# Example emotion lexicon (use a real dataset like NRC)\n",
    "emotion_lexicon = {\n",
    "    \"happy\": \"joy\",\n",
    "    \"sad\": \"sadness\",\n",
    "    \"angry\": \"anger\",\n",
    "    \"love\": \"joy\",\n",
    "}\n",
    "\n",
    "def extract_emotion(text):\n",
    "    tokens = preprocess_text(text)\n",
    "    emotions = [emotion_lexicon[word] for word in tokens if word in emotion_lexicon]\n",
    "    return Counter(emotions)\n",
    "\n",
    "text = \"I am so happy and in love!\"\n",
    "print(extract_emotion(text))  # Output: Counter({'joy': 2})\n"
   ]
  },
  {
   "cell_type": "code",
   "execution_count": 1,
   "id": "221c40fe",
   "metadata": {},
   "outputs": [
    {
     "name": "stdout",
     "output_type": "stream",
     "text": [
      "Topics:\n",
      "Topic 1: the, average, love, ambiance, is\n",
      "Topic 2: service, food, but, was, the\n"
     ]
    }
   ],
   "source": [
    "from sklearn.feature_extraction.text import CountVectorizer\n",
    "from sklearn.decomposition import LatentDirichletAllocation\n",
    "\n",
    "texts = [\"The food was great but the service was slow.\", \"I love the ambiance but the food is average.\"]\n",
    "vectorizer = CountVectorizer()\n",
    "X = vectorizer.fit_transform(texts)\n",
    "lda = LatentDirichletAllocation(n_components=2, random_state=42)\n",
    "lda.fit(X)\n",
    "\n",
    "print(\"Topics:\")\n",
    "for idx, topic in enumerate(lda.components_):\n",
    "    print(f\"Topic {idx+1}: {', '.join([vectorizer.get_feature_names_out()[i] for i in topic.argsort()[-5:]])}\")"
   ]
  }
 ],
 "metadata": {
  "kernelspec": {
   "display_name": "is-project-thailand-tourism-recommendation-qwL-LsgH-py3.12",
   "language": "python",
   "name": "python3"
  },
  "language_info": {
   "codemirror_mode": {
    "name": "ipython",
    "version": 3
   },
   "file_extension": ".py",
   "mimetype": "text/x-python",
   "name": "python",
   "nbconvert_exporter": "python",
   "pygments_lexer": "ipython3",
   "version": "3.12.8"
  }
 },
 "nbformat": 4,
 "nbformat_minor": 5
}
