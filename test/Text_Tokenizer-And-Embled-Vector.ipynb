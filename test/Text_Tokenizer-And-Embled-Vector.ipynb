{
 "cells": [
  {
   "cell_type": "code",
   "execution_count": 15,
   "metadata": {},
   "outputs": [],
   "source": [
    "import sys\n",
    "import os\n",
    "import pandas as pd\n",
    "import nltk\n",
    "import string\n",
    "from gensim.models import Word2Vec, KeyedVectors\n",
    "import numpy as np\n",
    "import re\n",
    "import random\n",
    "\n",
    "from nltk.tokenize import word_tokenize, sent_tokenize\n",
    "from nltk.corpus import stopwords \n",
    "from nltk.stem import WordNetLemmatizer\n"
   ]
  },
  {
   "cell_type": "code",
   "execution_count": 16,
   "metadata": {},
   "outputs": [
    {
     "name": "stdout",
     "output_type": "stream",
     "text": [
      "Updated sys.path: ['/opt/homebrew/Cellar/python@3.12/3.12.5/Frameworks/Python.framework/Versions/3.12/lib/python312.zip', '/opt/homebrew/Cellar/python@3.12/3.12.5/Frameworks/Python.framework/Versions/3.12/lib/python3.12', '/opt/homebrew/Cellar/python@3.12/3.12.5/Frameworks/Python.framework/Versions/3.12/lib/python3.12/lib-dynload', '', '/Users/ittichaiboonyarakthunya/Library/Caches/pypoetry/virtualenvs/is-project-thailand-tourism-recommendation-qwL-LsgH-py3.12/lib/python3.12/site-packages', '/Users/ittichaiboonyarakthunya/Documents/WorkDir/developments/utils', '/Users/ittichaiboonyarakthunya/Documents/WorkDir/developments/IS_Project_Thailand_Tourism_Recommendation/utils', '/Users/ittichaiboonyarakthunya/Documents/WorkDir/developments/IS_Project_Thailand_Tourism_Recommendation', '/Users/ittichaiboonyarakthunya/Documents/WorkDir/developments/IS_Project_Thailand_Tourism_Recommendation/utils', '/Users/ittichaiboonyarakthunya/Documents/WorkDir/developments/IS_Project_Thailand_Tourism_Recommendation', '/Users/ittichaiboonyarakthunya/Documents/WorkDir/developments/IS_Project_Thailand_Tourism_Recommendation/utils', '/Users/ittichaiboonyarakthunya/Documents/WorkDir/developments/IS_Project_Thailand_Tourism_Recommendation']\n"
     ]
    }
   ],
   "source": [
    "parent_directory = os.path.abspath(os.path.join(os.getcwd(), '..'))\n",
    "sys.path.append(parent_directory)\n",
    "print(\"Updated sys.path:\", sys.path)\n",
    "\n",
    "sys.path.append(os.path.abspath(os.path.join(os.getcwd(), '../utils')))"
   ]
  },
  {
   "cell_type": "code",
   "execution_count": 17,
   "metadata": {},
   "outputs": [
    {
     "name": "stdout",
     "output_type": "stream",
     "text": [
      "True\n"
     ]
    }
   ],
   "source": [
    "from utils.data_preparation import DataPreparation\n",
    "\n",
    "DP = DataPreparation()\n",
    "DP.check_nltk_path()"
   ]
  },
  {
   "cell_type": "code",
   "execution_count": 18,
   "metadata": {},
   "outputs": [],
   "source": [
    "FINE_TUNED_DIR = '../pretained_or_finetune-models'\n",
    "REVIEWS_DATASET_DIR = '../dataset'\n",
    "UTILS_DIR = '../utils'\n",
    "NLTK_DATA_PATH = f\"{FINE_TUNED_DIR}/nltk_data\"\n",
    "\n",
    "nltk.data.path.append(NLTK_DATA_PATH)\n",
    "\n",
    "custom_stopwords = set(stopwords.words('english'))\n",
    "stop_words = custom_stopwords\n",
    "lemmatizer = WordNetLemmatizer()"
   ]
  },
  {
   "cell_type": "code",
   "execution_count": 19,
   "metadata": {},
   "outputs": [],
   "source": [
    "tourism_reviews_en = pd.read_csv(f\"{REVIEWS_DATASET_DIR}/eng_reviews_emotion_classify.csv\", encoding='utf-8')\n",
    "\n",
    "columns_to_use = ['helpful_votes', 'location_id', 'review_id', 'review',\n",
    "                  'review_subject', 'trip_type', 'rating',\n",
    "                  'location_name', 'province', 'place_id', 'emotion', 'cleaned_review']\n",
    "columns_to_train = ['location_id', 'review', 'rating']\n",
    "review_df = tourism_reviews_en[columns_to_use]"
   ]
  },
  {
   "cell_type": "code",
   "execution_count": 20,
   "metadata": {},
   "outputs": [
    {
     "name": "stdout",
     "output_type": "stream",
     "text": [
      "<class 'pandas.core.frame.DataFrame'>\n",
      "RangeIndex: 5909 entries, 0 to 5908\n",
      "Data columns (total 16 columns):\n",
      " #   Column          Non-Null Count  Dtype \n",
      "---  ------          --------------  ----- \n",
      " 0   Unnamed: 0.1    5909 non-null   int64 \n",
      " 1   Unnamed: 0      5909 non-null   int64 \n",
      " 2   helpful_votes   5909 non-null   int64 \n",
      " 3   location_id     5909 non-null   int64 \n",
      " 4   lang            5909 non-null   object\n",
      " 5   review_id       5909 non-null   int64 \n",
      " 6   review          5909 non-null   object\n",
      " 7   review_subject  5909 non-null   object\n",
      " 8   trip_type       5892 non-null   object\n",
      " 9   travel_date     5892 non-null   object\n",
      " 10  rating          5909 non-null   int64 \n",
      " 11  location_name   5909 non-null   object\n",
      " 12  province        5909 non-null   object\n",
      " 13  place_id        5909 non-null   object\n",
      " 14  cleaned_review  5909 non-null   object\n",
      " 15  emotion         5909 non-null   object\n",
      "dtypes: int64(6), object(10)\n",
      "memory usage: 738.8+ KB\n"
     ]
    }
   ],
   "source": [
    "tourism_reviews_en.info()"
   ]
  },
  {
   "cell_type": "code",
   "execution_count": 21,
   "metadata": {},
   "outputs": [
    {
     "data": {
      "text/html": [
       "<div>\n",
       "<style scoped>\n",
       "    .dataframe tbody tr th:only-of-type {\n",
       "        vertical-align: middle;\n",
       "    }\n",
       "\n",
       "    .dataframe tbody tr th {\n",
       "        vertical-align: top;\n",
       "    }\n",
       "\n",
       "    .dataframe thead th {\n",
       "        text-align: right;\n",
       "    }\n",
       "</style>\n",
       "<table border=\"1\" class=\"dataframe\">\n",
       "  <thead>\n",
       "    <tr style=\"text-align: right;\">\n",
       "      <th></th>\n",
       "      <th>helpful_votes</th>\n",
       "      <th>location_id</th>\n",
       "      <th>review_id</th>\n",
       "      <th>rating</th>\n",
       "    </tr>\n",
       "  </thead>\n",
       "  <tbody>\n",
       "    <tr>\n",
       "      <th>count</th>\n",
       "      <td>5909.000000</td>\n",
       "      <td>5.909000e+03</td>\n",
       "      <td>5.909000e+03</td>\n",
       "      <td>5909.000000</td>\n",
       "    </tr>\n",
       "    <tr>\n",
       "      <th>mean</th>\n",
       "      <td>1.058216</td>\n",
       "      <td>6.483167e+06</td>\n",
       "      <td>7.590446e+08</td>\n",
       "      <td>4.153833</td>\n",
       "    </tr>\n",
       "    <tr>\n",
       "      <th>std</th>\n",
       "      <td>5.625108</td>\n",
       "      <td>4.877561e+06</td>\n",
       "      <td>1.844114e+08</td>\n",
       "      <td>1.067077</td>\n",
       "    </tr>\n",
       "    <tr>\n",
       "      <th>min</th>\n",
       "      <td>0.000000</td>\n",
       "      <td>3.110380e+05</td>\n",
       "      <td>1.049076e+08</td>\n",
       "      <td>1.000000</td>\n",
       "    </tr>\n",
       "    <tr>\n",
       "      <th>25%</th>\n",
       "      <td>0.000000</td>\n",
       "      <td>2.578107e+06</td>\n",
       "      <td>6.573250e+08</td>\n",
       "      <td>4.000000</td>\n",
       "    </tr>\n",
       "    <tr>\n",
       "      <th>50%</th>\n",
       "      <td>0.000000</td>\n",
       "      <td>6.017599e+06</td>\n",
       "      <td>7.832754e+08</td>\n",
       "      <td>4.000000</td>\n",
       "    </tr>\n",
       "    <tr>\n",
       "      <th>75%</th>\n",
       "      <td>1.000000</td>\n",
       "      <td>8.818088e+06</td>\n",
       "      <td>9.240324e+08</td>\n",
       "      <td>5.000000</td>\n",
       "    </tr>\n",
       "    <tr>\n",
       "      <th>max</th>\n",
       "      <td>182.000000</td>\n",
       "      <td>2.714283e+07</td>\n",
       "      <td>9.653184e+08</td>\n",
       "      <td>5.000000</td>\n",
       "    </tr>\n",
       "  </tbody>\n",
       "</table>\n",
       "</div>"
      ],
      "text/plain": [
       "       helpful_votes   location_id     review_id       rating\n",
       "count    5909.000000  5.909000e+03  5.909000e+03  5909.000000\n",
       "mean        1.058216  6.483167e+06  7.590446e+08     4.153833\n",
       "std         5.625108  4.877561e+06  1.844114e+08     1.067077\n",
       "min         0.000000  3.110380e+05  1.049076e+08     1.000000\n",
       "25%         0.000000  2.578107e+06  6.573250e+08     4.000000\n",
       "50%         0.000000  6.017599e+06  7.832754e+08     4.000000\n",
       "75%         1.000000  8.818088e+06  9.240324e+08     5.000000\n",
       "max       182.000000  2.714283e+07  9.653184e+08     5.000000"
      ]
     },
     "execution_count": 21,
     "metadata": {},
     "output_type": "execute_result"
    }
   ],
   "source": [
    "review_df.describe()"
   ]
  },
  {
   "cell_type": "code",
   "execution_count": 22,
   "metadata": {},
   "outputs": [],
   "source": [
    "# df_review_yelp = pd.read_csv(\"../../dataset/Central_Attraction_Reviews.csv\")\n",
    "# df_review_yelp.head(5)\n",
    "\n",
    "\n",
    "# custom_review_df = df_review_yelp[[\"Rating\", \"Review Summary\"]]\n",
    "# new_df_renamed = custom_review_df.rename(columns={\"Rating\": \"label\", \"Review Summary\": \"text\"})\n",
    "# df_review_yelp = new_df_renamed\n",
    "# df_review_yelp.head(5)\n",
    "\n",
    "# df_review_yelp['location_id'] = df_review_yelp['text'].apply(lambda x: map_generate_location_id())\n",
    "# df_review_yelp['review'] = df_review_yelp['text']\n",
    "# df_review_yelp['rating'] = df_review_yelp['label'].apply(map_label_to_rating)\n",
    "\n",
    "# df_review_yelp = df_review_yelp[['rating', 'review', 'location_id']]\n",
    "\n",
    "# df_postive_yelp = df_review_yelp[df_review_yelp['rating'].isin([5])]\n",
    "# df_natural_yelp = df_review_yelp[df_review_yelp['rating'].isin([3, 4])]\n",
    "# df_negative_yelp = df_review_yelp[df_review_yelp['rating'].isin([1, 2])]\n",
    "\n",
    "# print(f\"Positive [{len(df_postive_yelp)}] / Natural [{len(df_natural_yelp)}] / Negative [{len(df_negative_yelp)}]\")\n",
    "\n",
    "# combined_positive_df = pd.concat([df_postive_yelp.iloc[:-len(df_postive)], df_postive])\n",
    "# combined_natural_df = pd.concat([df_natural_yelp.iloc[:-len(df_natural)], df_natural])\n",
    "# combined_negative_df = pd.concat([df_negative_yelp.iloc[:-len(df_negative)], df_negative])\n",
    "\n",
    "# selected_column_trained = ['rating', 'location_id', 'review']\n",
    "# full_combined_df = pd.concat([df_natural[selected_column_trained], df_postive[selected_column_trained], df_negative[selected_column_trained]])"
   ]
  },
  {
   "cell_type": "code",
   "execution_count": 23,
   "metadata": {},
   "outputs": [],
   "source": [
    "def map_label_to_rating(val):\n",
    "    return val + 1\n",
    "\n",
    "def map_generate_location_id():\n",
    "    return f\"CUSTOM{random.randint(10000, 99999)}\"\n"
   ]
  },
  {
   "cell_type": "code",
   "execution_count": 24,
   "metadata": {},
   "outputs": [],
   "source": [
    "# df_postive = review_df[review_df['rating'].isin([5])]\n",
    "# df_natural = review_df[review_df['rating'].isin([3, 4])]\n",
    "# df_negative = review_df[review_df['rating'].isin([1, 2])]\n",
    "\n",
    "# print(f\"Positive [{len(df_postive)}] / Natural [{len(df_natural)}] / Negative [{len(df_negative)}]\")\n",
    "\n",
    "selected_column_trained = ['rating', 'location_id', 'review']\n",
    "# full_combined_df = pd.concat([df_natural[selected_column_trained], df_postive[selected_column_trained], df_negative[selected_column_trained]])\n",
    "\n",
    "full_combined_df = review_df[selected_column_trained]"
   ]
  },
  {
   "cell_type": "code",
   "execution_count": 25,
   "metadata": {},
   "outputs": [
    {
     "name": "stderr",
     "output_type": "stream",
     "text": [
      "/var/folders/fk/449tdf_12hzd2r7ps4659q0m0000gn/T/ipykernel_40155/792440960.py:1: SettingWithCopyWarning: \n",
      "A value is trying to be set on a copy of a slice from a DataFrame.\n",
      "Try using .loc[row_indexer,col_indexer] = value instead\n",
      "\n",
      "See the caveats in the documentation: https://pandas.pydata.org/pandas-docs/stable/user_guide/indexing.html#returning-a-view-versus-a-copy\n",
      "  full_combined_df['cleaned_review'] = full_combined_df['review'].apply(DP.clean_text)\n"
     ]
    }
   ],
   "source": [
    "\n",
    "\n",
    "full_combined_df['cleaned_review'] = full_combined_df['review'].apply(DP.clean_text)\n",
    "\n",
    "# 2. สร้าง Word Embeddings ด้วย Word2Vec\n",
    "# word2vec_model = Word2Vec(sentences=review_df['cleaned_review'], vector_size=300, window=5, min_count=1, sg=1)  # ใช้ Skip-Gram\n",
    "sentences = [row.split() for row in full_combined_df['cleaned_review']]\n",
    "word2vec_model = Word2Vec(sentences, vector_size=300, window=5, min_count=1, workers=4) "
   ]
  },
  {
   "cell_type": "code",
   "execution_count": 26,
   "metadata": {},
   "outputs": [],
   "source": [
    "# Parameters\n",
    "embedding_dim = 300  # Assuming Word2Vec has 300 dimensions\n",
    "gru_units = 128\n",
    "dropout_rate = 0.5\n",
    "num_classes = 1  # Binary classification\n",
    "max_sequence_length = 300  # Maximum length of input sequences\n",
    "ngram_range = (1, 2)  # Unigrams and bigrams\n",
    "max_features = 20000  \n",
    "\n",
    "# Create the embedding matrix from the Word2Vec model\n",
    "word_index = {word: i for i, word in enumerate(word2vec_model.wv.index_to_key)}\n",
    "embedding_matrix = np.zeros((len(word_index) + 1, embedding_dim))"
   ]
  },
  {
   "cell_type": "code",
   "execution_count": 27,
   "metadata": {},
   "outputs": [],
   "source": [
    "def text_to_word2vec(tokens, model, max_length=300):\n",
    "    vector = np.zeros((max_length, 300))\n",
    "    for i, word in enumerate(tokens):\n",
    "        if i < max_length:\n",
    "            if word in model.wv:\n",
    "                vector[i] = model.wv[word]\n",
    "    return vector\n",
    "\n",
    "def map_rating_to_sentiment(rating):\n",
    "    if rating in [1, 2]:\n",
    "        return 'negative'\n",
    "    elif rating in [3]:\n",
    "        return 'neutral'\n",
    "    else:  # 4 or 5\n",
    "        return 'positive'"
   ]
  },
  {
   "cell_type": "code",
   "execution_count": 28,
   "metadata": {},
   "outputs": [
    {
     "name": "stderr",
     "output_type": "stream",
     "text": [
      "/var/folders/fk/449tdf_12hzd2r7ps4659q0m0000gn/T/ipykernel_40155/3550278844.py:1: SettingWithCopyWarning: \n",
      "A value is trying to be set on a copy of a slice from a DataFrame.\n",
      "Try using .loc[row_indexer,col_indexer] = value instead\n",
      "\n",
      "See the caveats in the documentation: https://pandas.pydata.org/pandas-docs/stable/user_guide/indexing.html#returning-a-view-versus-a-copy\n",
      "  full_combined_df['embedding'] = review_df['cleaned_review'].apply(lambda x: text_to_word2vec(x, word2vec_model))\n",
      "/var/folders/fk/449tdf_12hzd2r7ps4659q0m0000gn/T/ipykernel_40155/3550278844.py:2: SettingWithCopyWarning: \n",
      "A value is trying to be set on a copy of a slice from a DataFrame.\n",
      "Try using .loc[row_indexer,col_indexer] = value instead\n",
      "\n",
      "See the caveats in the documentation: https://pandas.pydata.org/pandas-docs/stable/user_guide/indexing.html#returning-a-view-versus-a-copy\n",
      "  full_combined_df['sentiment'] = full_combined_df['rating'].apply(map_rating_to_sentiment)\n"
     ]
    }
   ],
   "source": [
    "full_combined_df['embedding'] = review_df['cleaned_review'].apply(lambda x: text_to_word2vec(x, word2vec_model))\n",
    "full_combined_df['sentiment'] = full_combined_df['rating'].apply(map_rating_to_sentiment)"
   ]
  },
  {
   "cell_type": "code",
   "execution_count": 43,
   "metadata": {},
   "outputs": [],
   "source": [
    "from sklearn.utils import resample\n",
    "\n",
    "# Assuming `review_df` is your original DataFrame with a 'sentiment' column\n",
    "\n",
    "# 1. Separate the data by class\n",
    "df_positive = full_combined_df[full_combined_df.sentiment == 'positive']\n",
    "df_neutral = full_combined_df[full_combined_df.sentiment == 'neutral']\n",
    "df_negative = full_combined_df[full_combined_df.sentiment == 'negative']\n",
    "\n",
    "# 2. Resample the minority classes\n",
    "# For example, oversample the neutral and negative classes to match the positive class\n",
    "df_neutral_upsampled = resample(df_neutral,\n",
    "                                replace=True,  # Sample with replacement\n",
    "                                n_samples=len(df_positive),  # Match number of positive class samples\n",
    "                                random_state=42)  # Reproducible results\n",
    "\n",
    "df_negative_upsampled = resample(df_negative,\n",
    "                                 replace=True,  # Sample with replacement\n",
    "                                 n_samples=len(df_positive),  # Match number of positive class samples\n",
    "                                 random_state=42)  # Reproducible results\n",
    "\n",
    "# 3. Combine the resampled DataFrames\n",
    "df_balanced = pd.concat([df_positive, df_neutral_upsampled, df_negative_upsampled])\n",
    "\n",
    "# 4. Shuffle the combined DataFrame\n",
    "df_balanced = df_balanced.sample(frac=1, random_state=42).reset_index(drop=True)\n",
    "\n",
    "\n"
   ]
  },
  {
   "cell_type": "code",
   "execution_count": 44,
   "metadata": {},
   "outputs": [
    {
     "data": {
      "text/html": [
       "<div>\n",
       "<style scoped>\n",
       "    .dataframe tbody tr th:only-of-type {\n",
       "        vertical-align: middle;\n",
       "    }\n",
       "\n",
       "    .dataframe tbody tr th {\n",
       "        vertical-align: top;\n",
       "    }\n",
       "\n",
       "    .dataframe thead th {\n",
       "        text-align: right;\n",
       "    }\n",
       "</style>\n",
       "<table border=\"1\" class=\"dataframe\">\n",
       "  <thead>\n",
       "    <tr style=\"text-align: right;\">\n",
       "      <th></th>\n",
       "      <th>rating</th>\n",
       "      <th>location_id</th>\n",
       "      <th>review</th>\n",
       "      <th>cleaned_review</th>\n",
       "      <th>embedding</th>\n",
       "      <th>sentiment</th>\n",
       "    </tr>\n",
       "  </thead>\n",
       "  <tbody>\n",
       "    <tr>\n",
       "      <th>0</th>\n",
       "      <td>3</td>\n",
       "      <td>4322585</td>\n",
       "      <td>This was an ornate wat inside Mae Sot. It is a...</td>\n",
       "      <td>ornate wat inside mae sot burmese style wat ty...</td>\n",
       "      <td>[[0.0, 0.0, 0.0, 0.0, 0.0, 0.0, 0.0, 0.0, 0.0,...</td>\n",
       "      <td>neutral</td>\n",
       "    </tr>\n",
       "    <tr>\n",
       "      <th>1</th>\n",
       "      <td>2</td>\n",
       "      <td>2667297</td>\n",
       "      <td>Got the Asia perfect for body treatment. We re...</td>\n",
       "      <td>got asia perfect body treatment read review th...</td>\n",
       "      <td>[[0.000530912249814719, 0.150453582406044, 0.0...</td>\n",
       "      <td>negative</td>\n",
       "    </tr>\n",
       "    <tr>\n",
       "      <th>2</th>\n",
       "      <td>4</td>\n",
       "      <td>10388576</td>\n",
       "      <td>A few years ago a huge market was built in Ban...</td>\n",
       "      <td>year ago huge market built ban phe totally dis...</td>\n",
       "      <td>[[0.0, 0.0, 0.0, 0.0, 0.0, 0.0, 0.0, 0.0, 0.0,...</td>\n",
       "      <td>positive</td>\n",
       "    </tr>\n",
       "    <tr>\n",
       "      <th>3</th>\n",
       "      <td>1</td>\n",
       "      <td>6885224</td>\n",
       "      <td>The visit to this island is worth it just to u...</td>\n",
       "      <td>visit island worth understand tragic result un...</td>\n",
       "      <td>[[0.0, 0.0, 0.0, 0.0, 0.0, 0.0, 0.0, 0.0, 0.0,...</td>\n",
       "      <td>negative</td>\n",
       "    </tr>\n",
       "    <tr>\n",
       "      <th>4</th>\n",
       "      <td>5</td>\n",
       "      <td>6669325</td>\n",
       "      <td>So many different bananas! And a chance to see...</td>\n",
       "      <td>many different banana chance see stored taste ...</td>\n",
       "      <td>[[0.0, 0.0, 0.0, 0.0, 0.0, 0.0, 0.0, 0.0, 0.0,...</td>\n",
       "      <td>positive</td>\n",
       "    </tr>\n",
       "    <tr>\n",
       "      <th>...</th>\n",
       "      <td>...</td>\n",
       "      <td>...</td>\n",
       "      <td>...</td>\n",
       "      <td>...</td>\n",
       "      <td>...</td>\n",
       "      <td>...</td>\n",
       "    </tr>\n",
       "    <tr>\n",
       "      <th>14062</th>\n",
       "      <td>3</td>\n",
       "      <td>7287889</td>\n",
       "      <td>It is not as pretty as some picture lead to be...</td>\n",
       "      <td>pretty picture lead believe big either minute ...</td>\n",
       "      <td>[[0.0, 0.0, 0.0, 0.0, 0.0, 0.0, 0.0, 0.0, 0.0,...</td>\n",
       "      <td>neutral</td>\n",
       "    </tr>\n",
       "    <tr>\n",
       "      <th>14063</th>\n",
       "      <td>1</td>\n",
       "      <td>10631803</td>\n",
       "      <td>The whole trip was spoilt by lying local tour ...</td>\n",
       "      <td>whole trip spoilt lying local tour package sel...</td>\n",
       "      <td>[[0.0, 0.0, 0.0, 0.0, 0.0, 0.0, 0.0, 0.0, 0.0,...</td>\n",
       "      <td>negative</td>\n",
       "    </tr>\n",
       "    <tr>\n",
       "      <th>14064</th>\n",
       "      <td>3</td>\n",
       "      <td>1368429</td>\n",
       "      <td>As a keen biker, I was excited to experience t...</td>\n",
       "      <td>keen biker excited experience breathtaking sce...</td>\n",
       "      <td>[[0.0, 0.0, 0.0, 0.0, 0.0, 0.0, 0.0, 0.0, 0.0,...</td>\n",
       "      <td>neutral</td>\n",
       "    </tr>\n",
       "    <tr>\n",
       "      <th>14065</th>\n",
       "      <td>5</td>\n",
       "      <td>8300428</td>\n",
       "      <td>This place is really beautiful and was decorat...</td>\n",
       "      <td>place really beautiful decorated statue mae na...</td>\n",
       "      <td>[[0.0, 0.0, 0.0, 0.0, 0.0, 0.0, 0.0, 0.0, 0.0,...</td>\n",
       "      <td>positive</td>\n",
       "    </tr>\n",
       "    <tr>\n",
       "      <th>14066</th>\n",
       "      <td>3</td>\n",
       "      <td>8766239</td>\n",
       "      <td>Nice place to come and take some pictures but ...</td>\n",
       "      <td>nice place come take picture flying rat pigeon...</td>\n",
       "      <td>[[-0.007015594746917486, 0.2886660397052765, 0...</td>\n",
       "      <td>neutral</td>\n",
       "    </tr>\n",
       "  </tbody>\n",
       "</table>\n",
       "<p>14067 rows × 6 columns</p>\n",
       "</div>"
      ],
      "text/plain": [
       "       rating  location_id                                             review  \\\n",
       "0           3      4322585  This was an ornate wat inside Mae Sot. It is a...   \n",
       "1           2      2667297  Got the Asia perfect for body treatment. We re...   \n",
       "2           4     10388576  A few years ago a huge market was built in Ban...   \n",
       "3           1      6885224  The visit to this island is worth it just to u...   \n",
       "4           5      6669325  So many different bananas! And a chance to see...   \n",
       "...       ...          ...                                                ...   \n",
       "14062       3      7287889  It is not as pretty as some picture lead to be...   \n",
       "14063       1     10631803  The whole trip was spoilt by lying local tour ...   \n",
       "14064       3      1368429  As a keen biker, I was excited to experience t...   \n",
       "14065       5      8300428  This place is really beautiful and was decorat...   \n",
       "14066       3      8766239  Nice place to come and take some pictures but ...   \n",
       "\n",
       "                                          cleaned_review  \\\n",
       "0      ornate wat inside mae sot burmese style wat ty...   \n",
       "1      got asia perfect body treatment read review th...   \n",
       "2      year ago huge market built ban phe totally dis...   \n",
       "3      visit island worth understand tragic result un...   \n",
       "4      many different banana chance see stored taste ...   \n",
       "...                                                  ...   \n",
       "14062  pretty picture lead believe big either minute ...   \n",
       "14063  whole trip spoilt lying local tour package sel...   \n",
       "14064  keen biker excited experience breathtaking sce...   \n",
       "14065  place really beautiful decorated statue mae na...   \n",
       "14066  nice place come take picture flying rat pigeon...   \n",
       "\n",
       "                                               embedding sentiment  \n",
       "0      [[0.0, 0.0, 0.0, 0.0, 0.0, 0.0, 0.0, 0.0, 0.0,...   neutral  \n",
       "1      [[0.000530912249814719, 0.150453582406044, 0.0...  negative  \n",
       "2      [[0.0, 0.0, 0.0, 0.0, 0.0, 0.0, 0.0, 0.0, 0.0,...  positive  \n",
       "3      [[0.0, 0.0, 0.0, 0.0, 0.0, 0.0, 0.0, 0.0, 0.0,...  negative  \n",
       "4      [[0.0, 0.0, 0.0, 0.0, 0.0, 0.0, 0.0, 0.0, 0.0,...  positive  \n",
       "...                                                  ...       ...  \n",
       "14062  [[0.0, 0.0, 0.0, 0.0, 0.0, 0.0, 0.0, 0.0, 0.0,...   neutral  \n",
       "14063  [[0.0, 0.0, 0.0, 0.0, 0.0, 0.0, 0.0, 0.0, 0.0,...  negative  \n",
       "14064  [[0.0, 0.0, 0.0, 0.0, 0.0, 0.0, 0.0, 0.0, 0.0,...   neutral  \n",
       "14065  [[0.0, 0.0, 0.0, 0.0, 0.0, 0.0, 0.0, 0.0, 0.0,...  positive  \n",
       "14066  [[-0.007015594746917486, 0.2886660397052765, 0...   neutral  \n",
       "\n",
       "[14067 rows x 6 columns]"
      ]
     },
     "execution_count": 44,
     "metadata": {},
     "output_type": "execute_result"
    }
   ],
   "source": [
    "df_balanced"
   ]
  },
  {
   "cell_type": "code",
   "execution_count": 45,
   "metadata": {},
   "outputs": [
    {
     "name": "stdout",
     "output_type": "stream",
     "text": [
      "Number of rows in dataframe before saving: (14067, 6)\n"
     ]
    }
   ],
   "source": [
    "print(\"Number of rows in dataframe before saving:\", df_balanced.shape)\n"
   ]
  },
  {
   "cell_type": "code",
   "execution_count": 46,
   "metadata": {},
   "outputs": [
    {
     "name": "stdout",
     "output_type": "stream",
     "text": [
      "sentiment\n",
      "neutral     4689\n",
      "negative    4689\n",
      "positive    4689\n",
      "Name: count, dtype: int64\n"
     ]
    }
   ],
   "source": [
    "print(df_balanced['sentiment'].value_counts())"
   ]
  },
  {
   "cell_type": "code",
   "execution_count": 47,
   "metadata": {},
   "outputs": [],
   "source": [
    "df_balanced.to_csv(\"dataset/embled_review_combined.csv\", index=False, na_rep='N/A', header=True, sep=',', encoding='utf-8')"
   ]
  }
 ],
 "metadata": {
  "kernelspec": {
   "display_name": "is-project-thailand-tourism-recommendation-qwL-LsgH-py3.12",
   "language": "python",
   "name": "python3"
  },
  "language_info": {
   "codemirror_mode": {
    "name": "ipython",
    "version": 3
   },
   "file_extension": ".py",
   "mimetype": "text/x-python",
   "name": "python",
   "nbconvert_exporter": "python",
   "pygments_lexer": "ipython3",
   "version": "3.12.5"
  }
 },
 "nbformat": 4,
 "nbformat_minor": 2
}
