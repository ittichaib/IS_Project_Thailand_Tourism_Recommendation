{
 "cells": [
  {
   "cell_type": "code",
   "execution_count": 1,
   "metadata": {},
   "outputs": [],
   "source": [
    "\n",
    "import pandas as pd\n",
    "import nltk\n",
    "import string\n",
    "from gensim.models import Word2Vec, KeyedVectors\n",
    "import numpy as np\n",
    "import re\n",
    "from sklearn.model_selection import train_test_split\n",
    "from tensorflow.keras.preprocessing.sequence import pad_sequences\n",
    "from tensorflow.keras.preprocessing.text import Tokenizer\n",
    "from sklearn.metrics import classification_report\n",
    "from tensorflow.keras.regularizers import l2\n"
   ]
  },
  {
   "cell_type": "code",
   "execution_count": 2,
   "metadata": {},
   "outputs": [],
   "source": [
    "FINE_TUNED_DIR = '../../pretained_or_finetune-models'\n",
    "REVIEWS_DATASET_DIR = '../dataset'\n",
    "UTILS_DIR = '../../utils'\n",
    "NLTK_DATA_PATH = f\"{FINE_TUNED_DIR}/nltk_data\"\n",
    "\n",
    "nltk.data.path.append(NLTK_DATA_PATH)"
   ]
  },
  {
   "cell_type": "code",
   "execution_count": 3,
   "metadata": {},
   "outputs": [],
   "source": [
    "# Parameters\n",
    "embedding_dim = 300  # Assuming Word2Vec has 300 dimensions\n",
    "gru_units = 128\n",
    "dropout_rate = 0.5\n",
    "num_classes = 1  # Binary classification\n",
    "max_sequence_length = 300  # Maximum length of input sequences\n",
    "ngram_range = (1, 2)  # Unigrams and bigrams\n",
    "max_features = 20000  "
   ]
  },
  {
   "cell_type": "code",
   "execution_count": 6,
   "metadata": {},
   "outputs": [],
   "source": [
    "df_balanced = pd.read_csv(\"../dataset/embled_review_combined.csv\", encoding='utf-8')"
   ]
  },
  {
   "cell_type": "code",
   "execution_count": 20,
   "metadata": {},
   "outputs": [
    {
     "name": "stdout",
     "output_type": "stream",
     "text": [
      "sentiment\n",
      "neutral     4689\n",
      "negative    4689\n",
      "positive    4689\n",
      "Name: count, dtype: int64\n"
     ]
    }
   ],
   "source": [
    "print(df_balanced['sentiment'].value_counts())"
   ]
  },
  {
   "cell_type": "code",
   "execution_count": 8,
   "metadata": {},
   "outputs": [],
   "source": [
    "df_balanced['location_id_numeric'] = pd.to_numeric(df_balanced['location_id'], errors='coerce')\n",
    "\n",
    "# Filter out rows where 'location_id_numeric' is NaN (i.e., non-integer)\n",
    "filtered_df = df_balanced[df_balanced['location_id_numeric'].notna()]\n",
    "trained_df = df_balanced[df_balanced['location_id_numeric'].isna()] \n",
    "\n",
    "# Drop the helper 'location_id_numeric' column if you don't need it anymore\n",
    "validate_review_df = filtered_df.drop(columns=['location_id_numeric'])\n",
    "training_review_df = trained_df.drop(columns=['location_id_numeric'])\n"
   ]
  },
  {
   "cell_type": "code",
   "execution_count": 9,
   "metadata": {},
   "outputs": [
    {
     "name": "stderr",
     "output_type": "stream",
     "text": [
      "/var/folders/fk/449tdf_12hzd2r7ps4659q0m0000gn/T/ipykernel_20792/3261891692.py:3: DeprecationWarning: DataFrameGroupBy.apply operated on the grouping columns. This behavior is deprecated, and in a future version of pandas the grouping columns will be excluded from the operation. Either pass `include_groups=False` to exclude the groupings or explicitly select the grouping columns after groupby to silence this warning.\n",
      "  df_sampled = training_review_df.groupby('sentiment').apply(lambda x: x.sample(n=min_size, random_state=42)).reset_index(drop=True)\n"
     ]
    }
   ],
   "source": [
    "min_size = training_review_df.groupby('sentiment').size().min()\n",
    "\n",
    "df_sampled = training_review_df.groupby('sentiment').apply(lambda x: x.sample(n=min_size, random_state=42)).reset_index(drop=True)\n"
   ]
  },
  {
   "cell_type": "code",
   "execution_count": 10,
   "metadata": {},
   "outputs": [],
   "source": [
    "tokenizer = Tokenizer(num_words=max_features, oov_token=\"OOV\")\n",
    "tokenizer.fit_on_texts(df_balanced['cleaned_review'])\n",
    "\n",
    "X = tokenizer.texts_to_sequences(df_balanced['cleaned_review'])\n",
    "X = pad_sequences(X, maxlen=max_sequence_length)\n",
    "\n",
    "# แปลงคอลัมน์ 'sentiment' เป็นข้อมูลตัวเลข\n",
    "label_mapping = {'negative': 0, 'neutral': 1, 'positive': 2}\n",
    "y = df_balanced['sentiment'].map(label_mapping)"
   ]
  },
  {
   "cell_type": "code",
   "execution_count": 17,
   "metadata": {},
   "outputs": [
    {
     "data": {
      "text/plain": [
       "(14067, 300)"
      ]
     },
     "execution_count": 17,
     "metadata": {},
     "output_type": "execute_result"
    }
   ],
   "source": [
    "X.shape"
   ]
  },
  {
   "cell_type": "code",
   "execution_count": 18,
   "metadata": {},
   "outputs": [
    {
     "data": {
      "text/plain": [
       "(14067,)"
      ]
     },
     "execution_count": 18,
     "metadata": {},
     "output_type": "execute_result"
    }
   ],
   "source": [
    "y.shape"
   ]
  },
  {
   "cell_type": "code",
   "execution_count": 11,
   "metadata": {},
   "outputs": [],
   "source": [
    "from imblearn.over_sampling import SMOTE\n",
    "smote = SMOTE(random_state=42)\n",
    "X_train_resampled, y_train_resampled = smote.fit_resample(X, y)\n",
    "\n",
    "# แบ่งข้อมูลใหม่อีกครั้งหลังจาก SMOTE\n",
    "X_train_resampled, X_val, y_train_resampled, y_val = train_test_split(X, y, test_size=0.3, random_state=42)"
   ]
  },
  {
   "cell_type": "code",
   "execution_count": 19,
   "metadata": {},
   "outputs": [
    {
     "name": "stdout",
     "output_type": "stream",
     "text": [
      "X_train shape: (9846, 300)\n",
      "y_train shape: (9846,)\n",
      "X_test shape: (4221, 300)\n",
      "y_test shape: (4221,)\n"
     ]
    }
   ],
   "source": [
    "# Check the shapes of the resulting arrays\n",
    "print(f\"X_train shape: {X_train_resampled.shape}\")\n",
    "print(f\"y_train shape: {y_train_resampled.shape}\")\n",
    "print(f\"X_test shape: {X_val.shape}\")\n",
    "print(f\"y_test shape: {y_val.shape}\")\n"
   ]
  },
  {
   "cell_type": "code",
   "execution_count": 16,
   "metadata": {},
   "outputs": [
    {
     "name": "stderr",
     "output_type": "stream",
     "text": [
      "/Users/ittichaiboonyarakthunya/Library/Caches/pypoetry/virtualenvs/is-project-thailand-tourism-recommendation-qwL-LsgH-py3.12/lib/python3.12/site-packages/keras/src/layers/core/embedding.py:90: UserWarning: Argument `input_length` is deprecated. Just remove it.\n",
      "  warnings.warn(\n"
     ]
    }
   ],
   "source": [
    "from sklearn.model_selection import train_test_split\n",
    "from tensorflow.keras.models import Sequential\n",
    "from tensorflow.keras.layers import Embedding, LSTM, Dense, Dropout\n",
    "from tensorflow.keras.preprocessing.sequence import pad_sequences\n",
    "from tensorflow.keras.preprocessing.text import Tokenizer\n",
    "from keras.optimizers import Adam\n",
    "\n",
    "# Step 6: Build the LSTM Model\n",
    "gru_units = 128\n",
    "dropout_rate = 0.5\n",
    "input_shape = X_train_resampled.shape[1:] \n",
    "max_len = 100\n",
    "\n",
    "# สร้างโมเดลด้วย L2 Regularization และ Dropout\n",
    "model = Sequential()\n",
    "model.add(Embedding(input_dim=max_features, output_dim=embedding_dim, input_length=max_len))\n",
    "model.add(LSTM(128, return_sequences=True, kernel_regularizer=l2(0.01)))  # L2 Regularization\n",
    "model.add(Dropout(0.5))\n",
    "model.add(LSTM(64, kernel_regularizer=l2(0.01)))  # L2 Regularization\n",
    "model.add(Dropout(0.5))\n",
    "model.add(Dense(3, activation='softmax'))  # สมมติว่ามี 3 คลาส\n",
    "\n",
    "\n",
    "optimizer = Adam(learning_rate=0.001)  \n",
    "model.compile(optimizer=optimizer, loss='sparse_categorical_crossentropy', metrics=['accuracy'])\n"
   ]
  },
  {
   "cell_type": "code",
   "execution_count": null,
   "metadata": {},
   "outputs": [],
   "source": [
    "word_index = tokenizer.word_index\n",
    "embedding_matrix = np.zeros((len(word_index) + 1, embedding_dim))\n",
    "\n",
    "for word, i in word_index.items():\n",
    "    if i < max_features:\n",
    "        # ใช้ [] แทนการใช้ get() เพื่อดึง embedding vector\n",
    "        if word in word2vec_model.wv:\n",
    "            embedding_vector = word2vec_model.wv[word]\n",
    "            if embedding_vector is not None:\n",
    "                embedding_matrix[i] = embedding_vector"
   ]
  },
  {
   "cell_type": "code",
   "execution_count": 34,
   "metadata": {},
   "outputs": [],
   "source": [
    "from sklearn.utils.class_weight import compute_class_weight\n",
    "\n",
    "unique_classes = np.unique(y_train_resampled)\n",
    "\n",
    "# Compute class weights\n",
    "class_weights = compute_class_weight('balanced', classes=unique_classes, y=y)\n",
    "class_weights_dict = dict(enumerate(class_weights))\n",
    "\n",
    "# Optional: Normalize class weights\n",
    "total = sum(class_weights_dict.values())\n",
    "class_weights_dict = {k: v / total for k, v in class_weights_dict.items()}"
   ]
  },
  {
   "cell_type": "code",
   "execution_count": 35,
   "metadata": {},
   "outputs": [],
   "source": [
    "class_weights_dict = dict(enumerate(class_weights))"
   ]
  },
  {
   "cell_type": "code",
   "execution_count": 36,
   "metadata": {},
   "outputs": [
    {
     "data": {
      "text/plain": [
       "{0: 1.0, 1: 1.0, 2: 1.0}"
      ]
     },
     "execution_count": 36,
     "metadata": {},
     "output_type": "execute_result"
    }
   ],
   "source": [
    "class_weights_dict"
   ]
  },
  {
   "cell_type": "code",
   "execution_count": 14,
   "metadata": {},
   "outputs": [],
   "source": [
    "from tensorflow.keras.callbacks import TensorBoard\n",
    "tensorboard = TensorBoard(log_dir=f'../../logs')"
   ]
  },
  {
   "cell_type": "code",
   "execution_count": 105,
   "metadata": {},
   "outputs": [
    {
     "name": "stdout",
     "output_type": "stream",
     "text": [
      "Epoch 1/50\n",
      "\u001b[1m95/95\u001b[0m \u001b[32m━━━━━━━━━━━━━━━━━━━━\u001b[0m\u001b[37m\u001b[0m \u001b[1m34s\u001b[0m 361ms/step - accuracy: 0.5719 - loss: 2.1779 - val_accuracy: 0.6885 - val_loss: 0.7051\n",
      "Epoch 2/50\n",
      "\u001b[1m95/95\u001b[0m \u001b[32m━━━━━━━━━━━━━━━━━━━━\u001b[0m\u001b[37m\u001b[0m \u001b[1m33s\u001b[0m 352ms/step - accuracy: 0.7319 - loss: 0.6638 - val_accuracy: 0.7519 - val_loss: 0.5644\n",
      "Epoch 3/50\n",
      "\u001b[1m95/95\u001b[0m \u001b[32m━━━━━━━━━━━━━━━━━━━━\u001b[0m\u001b[37m\u001b[0m \u001b[1m34s\u001b[0m 360ms/step - accuracy: 0.8880 - loss: 0.3713 - val_accuracy: 0.7806 - val_loss: 0.5745\n",
      "Epoch 4/50\n",
      "\u001b[1m95/95\u001b[0m \u001b[32m━━━━━━━━━━━━━━━━━━━━\u001b[0m\u001b[37m\u001b[0m \u001b[1m35s\u001b[0m 364ms/step - accuracy: 0.9478 - loss: 0.2298 - val_accuracy: 0.7918 - val_loss: 0.6039\n",
      "Epoch 5/50\n",
      "\u001b[1m95/95\u001b[0m \u001b[32m━━━━━━━━━━━━━━━━━━━━\u001b[0m\u001b[37m\u001b[0m \u001b[1m35s\u001b[0m 367ms/step - accuracy: 0.9690 - loss: 0.1576 - val_accuracy: 0.7790 - val_loss: 0.7007\n",
      "Epoch 6/50\n",
      "\u001b[1m95/95\u001b[0m \u001b[32m━━━━━━━━━━━━━━━━━━━━\u001b[0m\u001b[37m\u001b[0m \u001b[1m34s\u001b[0m 357ms/step - accuracy: 0.9793 - loss: 0.1278 - val_accuracy: 0.7717 - val_loss: 0.9329\n",
      "Epoch 7/50\n",
      "\u001b[1m95/95\u001b[0m \u001b[32m━━━━━━━━━━━━━━━━━━━━\u001b[0m\u001b[37m\u001b[0m \u001b[1m33s\u001b[0m 352ms/step - accuracy: 0.9823 - loss: 0.0999 - val_accuracy: 0.7968 - val_loss: 0.8995\n",
      "Epoch 8/50\n",
      "\u001b[1m95/95\u001b[0m \u001b[32m━━━━━━━━━━━━━━━━━━━━\u001b[0m\u001b[37m\u001b[0m \u001b[1m34s\u001b[0m 357ms/step - accuracy: 0.9871 - loss: 0.0889 - val_accuracy: 0.7872 - val_loss: 0.8756\n",
      "Epoch 9/50\n",
      "\u001b[1m95/95\u001b[0m \u001b[32m━━━━━━━━━━━━━━━━━━━━\u001b[0m\u001b[37m\u001b[0m \u001b[1m34s\u001b[0m 359ms/step - accuracy: 0.9920 - loss: 0.0708 - val_accuracy: 0.7945 - val_loss: 0.9842\n",
      "Epoch 10/50\n",
      "\u001b[1m95/95\u001b[0m \u001b[32m━━━━━━━━━━━━━━━━━━━━\u001b[0m\u001b[37m\u001b[0m \u001b[1m34s\u001b[0m 358ms/step - accuracy: 0.9933 - loss: 0.0584 - val_accuracy: 0.7837 - val_loss: 1.0284\n",
      "Epoch 11/50\n",
      "\u001b[1m95/95\u001b[0m \u001b[32m━━━━━━━━━━━━━━━━━━━━\u001b[0m\u001b[37m\u001b[0m \u001b[1m35s\u001b[0m 370ms/step - accuracy: 0.9911 - loss: 0.0634 - val_accuracy: 0.7543 - val_loss: 0.9757\n",
      "Epoch 12/50\n",
      "\u001b[1m95/95\u001b[0m \u001b[32m━━━━━━━━━━━━━━━━━━━━\u001b[0m\u001b[37m\u001b[0m \u001b[1m35s\u001b[0m 368ms/step - accuracy: 0.9771 - loss: 0.1140 - val_accuracy: 0.7663 - val_loss: 1.1673\n"
     ]
    },
    {
     "name": "stderr",
     "output_type": "stream",
     "text": [
      "2024/10/02 09:57:08 WARNING mlflow.keras.save: You are saving a Keras model without specifying model signature.\n",
      "2024/10/02 09:57:12 WARNING mlflow.models.model: Model logged without a signature and input example. Please set `input_example` parameter when logging the model to auto infer the model signature.\n"
     ]
    }
   ],
   "source": [
    "import mlflow\n",
    "import mlflow.keras\n",
    "from keras.callbacks import EarlyStopping, ModelCheckpoint\n",
    "from sklearn.utils import class_weight\n",
    "\n",
    "# Set up MLflow experiment\n",
    "mlflow.set_experiment(\"LSTM_model_experiment\")\n",
    "\n",
    "# Start MLflow run\n",
    "with mlflow.start_run():\n",
    "    # Log hyperparameters\n",
    "    mlflow.log_param(\"epochs\", 50)  # Changed to 50 since you are using 50 epochs\n",
    "    mlflow.log_param(\"batch_size\", 64)\n",
    "    mlflow.log_param(\"patience\", 10)\n",
    "\n",
    "    # Define EarlyStopping and ModelCheckpoint\n",
    "    early_stopping = EarlyStopping(monitor='val_loss', patience=10, restore_best_weights=True)\n",
    "    model_checkpoint = ModelCheckpoint('../../models/LSTM_models_sample.keras', monitor='val_loss', save_best_only=True)\n",
    "    \n",
    "    # Train model\n",
    "    history = model.fit(X_train_resampled, y_train_resampled,\n",
    "                        epochs=50,\n",
    "                        batch_size=64,\n",
    "                        validation_data=(X_val, y_val),\n",
    "                        callbacks=[early_stopping, model_checkpoint, tensorboard],\n",
    "                        class_weight=None)  # Set to None or omit entirely\n",
    "    \n",
    "    # Log model metrics\n",
    "    mlflow.log_metric(\"train_loss\", history.history['loss'][-1])\n",
    "    mlflow.log_metric(\"val_loss\", history.history['val_loss'][-1])\n",
    "    mlflow.log_metric(\"train_accuracy\", history.history.get('accuracy', [0])[-1])\n",
    "    mlflow.log_metric(\"val_accuracy\", history.history.get('val_accuracy', [0])[-1])\n",
    "\n",
    "    # Log the Keras model\n",
    "    mlflow.keras.log_model(model, \"models/LSTM_model\")\n",
    "\n",
    "    # Log model checkpoint path\n",
    "    mlflow.log_artifact('../../models/LSTM_models_sample.keras', artifact_path='model_checkpoint')\n",
    "\n",
    "# End MLflow run\n",
    "mlflow.end_run()\n"
   ]
  },
  {
   "cell_type": "code",
   "execution_count": 46,
   "metadata": {},
   "outputs": [
    {
     "name": "stdout",
     "output_type": "stream",
     "text": [
      "Epoch 1/20\n",
      "\u001b[1m154/154\u001b[0m \u001b[32m━━━━━━━━━━━━━━━━━━━━\u001b[0m\u001b[37m\u001b[0m \u001b[1m60s\u001b[0m 387ms/step - accuracy: 0.3681 - loss: 1.1812 - val_accuracy: 0.6169 - val_loss: 0.7128\n",
      "Epoch 2/20\n",
      "\u001b[1m154/154\u001b[0m \u001b[32m━━━━━━━━━━━━━━━━━━━━\u001b[0m\u001b[37m\u001b[0m \u001b[1m59s\u001b[0m 385ms/step - accuracy: 0.6469 - loss: 0.6382 - val_accuracy: 0.7811 - val_loss: 0.5037\n",
      "Epoch 3/20\n",
      "\u001b[1m154/154\u001b[0m \u001b[32m━━━━━━━━━━━━━━━━━━━━\u001b[0m\u001b[37m\u001b[0m \u001b[1m59s\u001b[0m 384ms/step - accuracy: 0.8185 - loss: 0.4521 - val_accuracy: 0.8823 - val_loss: 0.3586\n",
      "Epoch 4/20\n",
      "\u001b[1m154/154\u001b[0m \u001b[32m━━━━━━━━━━━━━━━━━━━━\u001b[0m\u001b[37m\u001b[0m \u001b[1m59s\u001b[0m 385ms/step - accuracy: 0.9330 - loss: 0.2653 - val_accuracy: 0.9090 - val_loss: 0.3017\n",
      "Epoch 5/20\n",
      "\u001b[1m154/154\u001b[0m \u001b[32m━━━━━━━━━━━━━━━━━━━━\u001b[0m\u001b[37m\u001b[0m \u001b[1m59s\u001b[0m 386ms/step - accuracy: 0.9574 - loss: 0.1971 - val_accuracy: 0.9330 - val_loss: 0.2474\n",
      "Epoch 6/20\n",
      "\u001b[1m154/154\u001b[0m \u001b[32m━━━━━━━━━━━━━━━━━━━━\u001b[0m\u001b[37m\u001b[0m \u001b[1m60s\u001b[0m 387ms/step - accuracy: 0.9843 - loss: 0.1147 - val_accuracy: 0.9514 - val_loss: 0.2132\n",
      "Epoch 7/20\n",
      "\u001b[1m154/154\u001b[0m \u001b[32m━━━━━━━━━━━━━━━━━━━━\u001b[0m\u001b[37m\u001b[0m \u001b[1m59s\u001b[0m 382ms/step - accuracy: 0.9916 - loss: 0.0709 - val_accuracy: 0.9301 - val_loss: 0.2911\n",
      "Epoch 8/20\n",
      "\u001b[1m154/154\u001b[0m \u001b[32m━━━━━━━━━━━━━━━━━━━━\u001b[0m\u001b[37m\u001b[0m \u001b[1m57s\u001b[0m 372ms/step - accuracy: 0.9888 - loss: 0.0721 - val_accuracy: 0.9216 - val_loss: 0.3682\n",
      "Epoch 9/20\n",
      "\u001b[1m154/154\u001b[0m \u001b[32m━━━━━━━━━━━━━━━━━━━━\u001b[0m\u001b[37m\u001b[0m \u001b[1m63s\u001b[0m 406ms/step - accuracy: 0.9945 - loss: 0.0529 - val_accuracy: 0.9465 - val_loss: 0.2254\n",
      "Epoch 10/20\n",
      "\u001b[1m154/154\u001b[0m \u001b[32m━━━━━━━━━━━━━━━━━━━━\u001b[0m\u001b[37m\u001b[0m \u001b[1m60s\u001b[0m 392ms/step - accuracy: 0.9919 - loss: 0.0615 - val_accuracy: 0.9574 - val_loss: 0.2513\n",
      "Epoch 11/20\n",
      "\u001b[1m154/154\u001b[0m \u001b[32m━━━━━━━━━━━━━━━━━━━━\u001b[0m\u001b[37m\u001b[0m \u001b[1m62s\u001b[0m 404ms/step - accuracy: 0.9953 - loss: 0.0402 - val_accuracy: 0.9450 - val_loss: 0.2828\n"
     ]
    }
   ],
   "source": [
    "from keras.callbacks import EarlyStopping, ModelCheckpoint\n",
    "\n",
    "# กำหนดการตั้งค่า Early Stopping และ Model Checkpoint\n",
    "early_stopping = EarlyStopping(monitor='val_loss', patience=5, restore_best_weights=True)\n",
    "model_checkpoint = ModelCheckpoint('../../models/LSTM_models_sample.keras', monitor='val_loss', save_best_only=True)  # เปลี่ยนจาก .h5 เป็น .keras\n",
    "\n",
    "# ฝึกโมเดล\n",
    "history = model.fit(X_train_resampled, y_train_resampled,\n",
    "                    epochs=20,\n",
    "                    batch_size=64,\n",
    "                    validation_data=(X_val, y_val),\n",
    "                    callbacks=[early_stopping, model_checkpoint, tensorboard],\n",
    "                    class_weight=None)\n"
   ]
  },
  {
   "cell_type": "code",
   "execution_count": 47,
   "metadata": {},
   "outputs": [
    {
     "data": {
      "image/png": "[encoded data removed]",
      "text/plain": [
       "<Figure size 1200x500 with 2 Axes>"
      ]
     },
     "metadata": {},
     "output_type": "display_data"
    }
   ],
   "source": [
    "import matplotlib.pyplot as plt\n",
    "\n",
    "acc = history.history['accuracy']      # Training accuracy\n",
    "val_acc = history.history['val_accuracy']  # Validation accuracy\n",
    "loss = history.history['loss']         # Training loss\n",
    "val_loss = history.history['val_loss']  # Validation loss\n",
    "\n",
    "# Plot Accuracy\n",
    "plt.figure(figsize=(12, 5))\n",
    "plt.subplot(1, 2, 1)  # Create subplot for accuracy\n",
    "plt.plot(acc, label='Training Accuracy')\n",
    "plt.plot(val_acc, label='Validation Accuracy')\n",
    "plt.title('Training and Validation Accuracy')\n",
    "plt.xlabel('Epoch')\n",
    "plt.ylabel('Accuracy')\n",
    "plt.legend()\n",
    "\n",
    "# Plot Loss\n",
    "plt.subplot(1, 2, 2)  # Create subplot for loss\n",
    "plt.plot(loss, label='Training Loss')\n",
    "plt.plot(val_loss, label='Validation Loss')\n",
    "plt.title('Training and Validation Loss')\n",
    "plt.xlabel('Epoch')\n",
    "plt.ylabel('Loss')\n",
    "plt.legend()\n",
    "\n",
    "# Display the plots\n",
    "plt.tight_layout()\n",
    "plt.show()"
   ]
  },
  {
   "cell_type": "code",
   "execution_count": 20,
   "metadata": {},
   "outputs": [
    {
     "ename": "AttributeError",
     "evalue": "module 'pydot' has no attribute 'InvocationException'",
     "output_type": "error",
     "traceback": [
      "\u001b[0;31m---------------------------------------------------------------------------\u001b[0m",
      "\u001b[0;31mFileNotFoundError\u001b[0m                         Traceback (most recent call last)",
      "File \u001b[0;32m~/Library/Caches/pypoetry/virtualenvs/is-project-thailand-tourism-recommendation-qwL-LsgH-py3.12/lib/python3.12/site-packages/pydot/core.py:1799\u001b[0m, in \u001b[0;36mDot.create\u001b[0;34m(self, prog, format, encoding)\u001b[0m\n\u001b[1;32m   1798\u001b[0m \u001b[38;5;28;01mtry\u001b[39;00m:\n\u001b[0;32m-> 1799\u001b[0m     stdout_data, stderr_data, process \u001b[38;5;241m=\u001b[39m \u001b[43mcall_graphviz\u001b[49m\u001b[43m(\u001b[49m\n\u001b[1;32m   1800\u001b[0m \u001b[43m        \u001b[49m\u001b[43mprogram\u001b[49m\u001b[38;5;241;43m=\u001b[39;49m\u001b[43mprog\u001b[49m\u001b[43m,\u001b[49m\n\u001b[1;32m   1801\u001b[0m \u001b[43m        \u001b[49m\u001b[43marguments\u001b[49m\u001b[38;5;241;43m=\u001b[39;49m\u001b[43marguments\u001b[49m\u001b[43m,\u001b[49m\n\u001b[1;32m   1802\u001b[0m \u001b[43m        \u001b[49m\u001b[43mworking_dir\u001b[49m\u001b[38;5;241;43m=\u001b[39;49m\u001b[43mtmp_dir\u001b[49m\u001b[43m,\u001b[49m\n\u001b[1;32m   1803\u001b[0m \u001b[43m    \u001b[49m\u001b[43m)\u001b[49m\n\u001b[1;32m   1804\u001b[0m \u001b[38;5;28;01mexcept\u001b[39;00m \u001b[38;5;167;01mOSError\u001b[39;00m \u001b[38;5;28;01mas\u001b[39;00m e:\n",
      "File \u001b[0;32m~/Library/Caches/pypoetry/virtualenvs/is-project-thailand-tourism-recommendation-qwL-LsgH-py3.12/lib/python3.12/site-packages/pydot/core.py:222\u001b[0m, in \u001b[0;36mcall_graphviz\u001b[0;34m(program, arguments, working_dir, **kwargs)\u001b[0m\n\u001b[1;32m    220\u001b[0m program_with_args \u001b[38;5;241m=\u001b[39m [program] \u001b[38;5;241m+\u001b[39m arguments\n\u001b[0;32m--> 222\u001b[0m process \u001b[38;5;241m=\u001b[39m \u001b[43msubprocess\u001b[49m\u001b[38;5;241;43m.\u001b[39;49m\u001b[43mPopen\u001b[49m\u001b[43m(\u001b[49m\n\u001b[1;32m    223\u001b[0m \u001b[43m    \u001b[49m\u001b[43mprogram_with_args\u001b[49m\u001b[43m,\u001b[49m\n\u001b[1;32m    224\u001b[0m \u001b[43m    \u001b[49m\u001b[43menv\u001b[49m\u001b[38;5;241;43m=\u001b[39;49m\u001b[43menv\u001b[49m\u001b[43m,\u001b[49m\n\u001b[1;32m    225\u001b[0m \u001b[43m    \u001b[49m\u001b[43mcwd\u001b[49m\u001b[38;5;241;43m=\u001b[39;49m\u001b[43mworking_dir\u001b[49m\u001b[43m,\u001b[49m\n\u001b[1;32m    226\u001b[0m \u001b[43m    \u001b[49m\u001b[43mshell\u001b[49m\u001b[38;5;241;43m=\u001b[39;49m\u001b[38;5;28;43;01mFalse\u001b[39;49;00m\u001b[43m,\u001b[49m\n\u001b[1;32m    227\u001b[0m \u001b[43m    \u001b[49m\u001b[43mstderr\u001b[49m\u001b[38;5;241;43m=\u001b[39;49m\u001b[43msubprocess\u001b[49m\u001b[38;5;241;43m.\u001b[39;49m\u001b[43mPIPE\u001b[49m\u001b[43m,\u001b[49m\n\u001b[1;32m    228\u001b[0m \u001b[43m    \u001b[49m\u001b[43mstdout\u001b[49m\u001b[38;5;241;43m=\u001b[39;49m\u001b[43msubprocess\u001b[49m\u001b[38;5;241;43m.\u001b[39;49m\u001b[43mPIPE\u001b[49m\u001b[43m,\u001b[49m\n\u001b[1;32m    229\u001b[0m \u001b[43m    \u001b[49m\u001b[38;5;241;43m*\u001b[39;49m\u001b[38;5;241;43m*\u001b[39;49m\u001b[43mkwargs\u001b[49m\u001b[43m,\u001b[49m\n\u001b[1;32m    230\u001b[0m \u001b[43m\u001b[49m\u001b[43m)\u001b[49m\n\u001b[1;32m    231\u001b[0m stdout_data, stderr_data \u001b[38;5;241m=\u001b[39m process\u001b[38;5;241m.\u001b[39mcommunicate()\n",
      "File \u001b[0;32m/opt/homebrew/Cellar/python@3.12/3.12.5/Frameworks/Python.framework/Versions/3.12/lib/python3.12/subprocess.py:1026\u001b[0m, in \u001b[0;36mPopen.__init__\u001b[0;34m(self, args, bufsize, executable, stdin, stdout, stderr, preexec_fn, close_fds, shell, cwd, env, universal_newlines, startupinfo, creationflags, restore_signals, start_new_session, pass_fds, user, group, extra_groups, encoding, errors, text, umask, pipesize, process_group)\u001b[0m\n\u001b[1;32m   1023\u001b[0m             \u001b[38;5;28mself\u001b[39m\u001b[38;5;241m.\u001b[39mstderr \u001b[38;5;241m=\u001b[39m io\u001b[38;5;241m.\u001b[39mTextIOWrapper(\u001b[38;5;28mself\u001b[39m\u001b[38;5;241m.\u001b[39mstderr,\n\u001b[1;32m   1024\u001b[0m                     encoding\u001b[38;5;241m=\u001b[39mencoding, errors\u001b[38;5;241m=\u001b[39merrors)\n\u001b[0;32m-> 1026\u001b[0m     \u001b[38;5;28;43mself\u001b[39;49m\u001b[38;5;241;43m.\u001b[39;49m\u001b[43m_execute_child\u001b[49m\u001b[43m(\u001b[49m\u001b[43margs\u001b[49m\u001b[43m,\u001b[49m\u001b[43m \u001b[49m\u001b[43mexecutable\u001b[49m\u001b[43m,\u001b[49m\u001b[43m \u001b[49m\u001b[43mpreexec_fn\u001b[49m\u001b[43m,\u001b[49m\u001b[43m \u001b[49m\u001b[43mclose_fds\u001b[49m\u001b[43m,\u001b[49m\n\u001b[1;32m   1027\u001b[0m \u001b[43m                        \u001b[49m\u001b[43mpass_fds\u001b[49m\u001b[43m,\u001b[49m\u001b[43m \u001b[49m\u001b[43mcwd\u001b[49m\u001b[43m,\u001b[49m\u001b[43m \u001b[49m\u001b[43menv\u001b[49m\u001b[43m,\u001b[49m\n\u001b[1;32m   1028\u001b[0m \u001b[43m                        \u001b[49m\u001b[43mstartupinfo\u001b[49m\u001b[43m,\u001b[49m\u001b[43m \u001b[49m\u001b[43mcreationflags\u001b[49m\u001b[43m,\u001b[49m\u001b[43m \u001b[49m\u001b[43mshell\u001b[49m\u001b[43m,\u001b[49m\n\u001b[1;32m   1029\u001b[0m \u001b[43m                        \u001b[49m\u001b[43mp2cread\u001b[49m\u001b[43m,\u001b[49m\u001b[43m \u001b[49m\u001b[43mp2cwrite\u001b[49m\u001b[43m,\u001b[49m\n\u001b[1;32m   1030\u001b[0m \u001b[43m                        \u001b[49m\u001b[43mc2pread\u001b[49m\u001b[43m,\u001b[49m\u001b[43m \u001b[49m\u001b[43mc2pwrite\u001b[49m\u001b[43m,\u001b[49m\n\u001b[1;32m   1031\u001b[0m \u001b[43m                        \u001b[49m\u001b[43merrread\u001b[49m\u001b[43m,\u001b[49m\u001b[43m \u001b[49m\u001b[43merrwrite\u001b[49m\u001b[43m,\u001b[49m\n\u001b[1;32m   1032\u001b[0m \u001b[43m                        \u001b[49m\u001b[43mrestore_signals\u001b[49m\u001b[43m,\u001b[49m\n\u001b[1;32m   1033\u001b[0m \u001b[43m                        \u001b[49m\u001b[43mgid\u001b[49m\u001b[43m,\u001b[49m\u001b[43m \u001b[49m\u001b[43mgids\u001b[49m\u001b[43m,\u001b[49m\u001b[43m \u001b[49m\u001b[43muid\u001b[49m\u001b[43m,\u001b[49m\u001b[43m \u001b[49m\u001b[43mumask\u001b[49m\u001b[43m,\u001b[49m\n\u001b[1;32m   1034\u001b[0m \u001b[43m                        \u001b[49m\u001b[43mstart_new_session\u001b[49m\u001b[43m,\u001b[49m\u001b[43m \u001b[49m\u001b[43mprocess_group\u001b[49m\u001b[43m)\u001b[49m\n\u001b[1;32m   1035\u001b[0m \u001b[38;5;28;01mexcept\u001b[39;00m:\n\u001b[1;32m   1036\u001b[0m     \u001b[38;5;66;03m# Cleanup if the child failed starting.\u001b[39;00m\n",
      "File \u001b[0;32m/opt/homebrew/Cellar/python@3.12/3.12.5/Frameworks/Python.framework/Versions/3.12/lib/python3.12/subprocess.py:1955\u001b[0m, in \u001b[0;36mPopen._execute_child\u001b[0;34m(self, args, executable, preexec_fn, close_fds, pass_fds, cwd, env, startupinfo, creationflags, shell, p2cread, p2cwrite, c2pread, c2pwrite, errread, errwrite, restore_signals, gid, gids, uid, umask, start_new_session, process_group)\u001b[0m\n\u001b[1;32m   1954\u001b[0m \u001b[38;5;28;01mif\u001b[39;00m err_filename \u001b[38;5;129;01mis\u001b[39;00m \u001b[38;5;129;01mnot\u001b[39;00m \u001b[38;5;28;01mNone\u001b[39;00m:\n\u001b[0;32m-> 1955\u001b[0m     \u001b[38;5;28;01mraise\u001b[39;00m child_exception_type(errno_num, err_msg, err_filename)\n\u001b[1;32m   1956\u001b[0m \u001b[38;5;28;01melse\u001b[39;00m:\n",
      "\u001b[0;31mFileNotFoundError\u001b[0m: [Errno 2] No such file or directory: 'dot'",
      "\nDuring handling of the above exception, another exception occurred:\n",
      "\u001b[0;31mFileNotFoundError\u001b[0m                         Traceback (most recent call last)",
      "File \u001b[0;32m~/Library/Caches/pypoetry/virtualenvs/is-project-thailand-tourism-recommendation-qwL-LsgH-py3.12/lib/python3.12/site-packages/keras/src/utils/model_visualization.py:37\u001b[0m, in \u001b[0;36mcheck_graphviz\u001b[0;34m()\u001b[0m\n\u001b[1;32m     34\u001b[0m \u001b[38;5;28;01mtry\u001b[39;00m:\n\u001b[1;32m     35\u001b[0m     \u001b[38;5;66;03m# Attempt to create an image of a blank graph\u001b[39;00m\n\u001b[1;32m     36\u001b[0m     \u001b[38;5;66;03m# to check the pydot/graphviz installation.\u001b[39;00m\n\u001b[0;32m---> 37\u001b[0m     \u001b[43mpydot\u001b[49m\u001b[38;5;241;43m.\u001b[39;49m\u001b[43mDot\u001b[49m\u001b[38;5;241;43m.\u001b[39;49m\u001b[43mcreate\u001b[49m\u001b[43m(\u001b[49m\u001b[43mpydot\u001b[49m\u001b[38;5;241;43m.\u001b[39;49m\u001b[43mDot\u001b[49m\u001b[43m(\u001b[49m\u001b[43m)\u001b[49m\u001b[43m)\u001b[49m\n\u001b[1;32m     38\u001b[0m     \u001b[38;5;28;01mreturn\u001b[39;00m \u001b[38;5;28;01mTrue\u001b[39;00m\n",
      "File \u001b[0;32m~/Library/Caches/pypoetry/virtualenvs/is-project-thailand-tourism-recommendation-qwL-LsgH-py3.12/lib/python3.12/site-packages/pydot/core.py:1808\u001b[0m, in \u001b[0;36mDot.create\u001b[0;34m(self, prog, format, encoding)\u001b[0m\n\u001b[1;32m   1807\u001b[0m     args[\u001b[38;5;241m1\u001b[39m] \u001b[38;5;241m=\u001b[39m \u001b[38;5;124mf\u001b[39m\u001b[38;5;124m'\u001b[39m\u001b[38;5;124m\"\u001b[39m\u001b[38;5;132;01m{\u001b[39;00mprog\u001b[38;5;132;01m}\u001b[39;00m\u001b[38;5;124m\"\u001b[39m\u001b[38;5;124m not found in path.\u001b[39m\u001b[38;5;124m'\u001b[39m\n\u001b[0;32m-> 1808\u001b[0m     \u001b[38;5;28;01mraise\u001b[39;00m \u001b[38;5;167;01mOSError\u001b[39;00m(\u001b[38;5;241m*\u001b[39margs)\n\u001b[1;32m   1809\u001b[0m \u001b[38;5;28;01melse\u001b[39;00m:\n",
      "\u001b[0;31mFileNotFoundError\u001b[0m: [Errno 2] \"dot\" not found in path.",
      "\nDuring handling of the above exception, another exception occurred:\n",
      "\u001b[0;31mAttributeError\u001b[0m                            Traceback (most recent call last)",
      "Cell \u001b[0;32mIn[20], line 3\u001b[0m\n\u001b[1;32m      1\u001b[0m \u001b[38;5;28;01mfrom\u001b[39;00m \u001b[38;5;21;01mtensorflow\u001b[39;00m\u001b[38;5;21;01m.\u001b[39;00m\u001b[38;5;21;01mkeras\u001b[39;00m\u001b[38;5;21;01m.\u001b[39;00m\u001b[38;5;21;01mutils\u001b[39;00m \u001b[38;5;28;01mimport\u001b[39;00m plot_model\n\u001b[0;32m----> 3\u001b[0m \u001b[43mplot_model\u001b[49m\u001b[43m(\u001b[49m\u001b[43mmodel\u001b[49m\u001b[43m,\u001b[49m\u001b[43m \u001b[49m\u001b[43mto_file\u001b[49m\u001b[38;5;241;43m=\u001b[39;49m\u001b[38;5;124;43m'\u001b[39;49m\u001b[38;5;124;43mmodel_plot.png\u001b[39;49m\u001b[38;5;124;43m'\u001b[39;49m\u001b[43m,\u001b[49m\u001b[43m \u001b[49m\u001b[43mshow_shapes\u001b[49m\u001b[38;5;241;43m=\u001b[39;49m\u001b[38;5;28;43;01mTrue\u001b[39;49;00m\u001b[43m,\u001b[49m\u001b[43m \u001b[49m\u001b[43mshow_layer_names\u001b[49m\u001b[38;5;241;43m=\u001b[39;49m\u001b[38;5;28;43;01mTrue\u001b[39;49;00m\u001b[43m)\u001b[49m\n",
      "File \u001b[0;32m~/Library/Caches/pypoetry/virtualenvs/is-project-thailand-tourism-recommendation-qwL-LsgH-py3.12/lib/python3.12/site-packages/keras/src/utils/model_visualization.py:430\u001b[0m, in \u001b[0;36mplot_model\u001b[0;34m(model, to_file, show_shapes, show_dtype, show_layer_names, rankdir, expand_nested, dpi, show_layer_activations, show_trainable, **kwargs)\u001b[0m\n\u001b[1;32m    428\u001b[0m     \u001b[38;5;28;01melse\u001b[39;00m:\n\u001b[1;32m    429\u001b[0m         \u001b[38;5;28;01mraise\u001b[39;00m \u001b[38;5;167;01mImportError\u001b[39;00m(message)\n\u001b[0;32m--> 430\u001b[0m \u001b[38;5;28;01mif\u001b[39;00m \u001b[38;5;129;01mnot\u001b[39;00m \u001b[43mcheck_graphviz\u001b[49m\u001b[43m(\u001b[49m\u001b[43m)\u001b[49m:\n\u001b[1;32m    431\u001b[0m     message \u001b[38;5;241m=\u001b[39m (\n\u001b[1;32m    432\u001b[0m         \u001b[38;5;124m\"\u001b[39m\u001b[38;5;124mYou must install graphviz \u001b[39m\u001b[38;5;124m\"\u001b[39m\n\u001b[1;32m    433\u001b[0m         \u001b[38;5;124m\"\u001b[39m\u001b[38;5;124m(see instructions at https://graphviz.gitlab.io/download/) \u001b[39m\u001b[38;5;124m\"\u001b[39m\n\u001b[1;32m    434\u001b[0m         \u001b[38;5;124m\"\u001b[39m\u001b[38;5;124mfor `plot_model` to work.\u001b[39m\u001b[38;5;124m\"\u001b[39m\n\u001b[1;32m    435\u001b[0m     )\n\u001b[1;32m    436\u001b[0m     \u001b[38;5;28;01mif\u001b[39;00m \u001b[38;5;124m\"\u001b[39m\u001b[38;5;124mIPython.core.magics.namespace\u001b[39m\u001b[38;5;124m\"\u001b[39m \u001b[38;5;129;01min\u001b[39;00m sys\u001b[38;5;241m.\u001b[39mmodules:\n\u001b[1;32m    437\u001b[0m         \u001b[38;5;66;03m# We don't raise an exception here in order to avoid crashing\u001b[39;00m\n\u001b[1;32m    438\u001b[0m         \u001b[38;5;66;03m# notebook tests where graphviz is not available.\u001b[39;00m\n",
      "File \u001b[0;32m~/Library/Caches/pypoetry/virtualenvs/is-project-thailand-tourism-recommendation-qwL-LsgH-py3.12/lib/python3.12/site-packages/keras/src/utils/model_visualization.py:39\u001b[0m, in \u001b[0;36mcheck_graphviz\u001b[0;34m()\u001b[0m\n\u001b[1;32m     37\u001b[0m     pydot\u001b[38;5;241m.\u001b[39mDot\u001b[38;5;241m.\u001b[39mcreate(pydot\u001b[38;5;241m.\u001b[39mDot())\n\u001b[1;32m     38\u001b[0m     \u001b[38;5;28;01mreturn\u001b[39;00m \u001b[38;5;28;01mTrue\u001b[39;00m\n\u001b[0;32m---> 39\u001b[0m \u001b[38;5;28;01mexcept\u001b[39;00m (\u001b[38;5;167;01mOSError\u001b[39;00m, \u001b[43mpydot\u001b[49m\u001b[38;5;241;43m.\u001b[39;49m\u001b[43mInvocationException\u001b[49m):\n\u001b[1;32m     40\u001b[0m     \u001b[38;5;28;01mreturn\u001b[39;00m \u001b[38;5;28;01mFalse\u001b[39;00m\n",
      "\u001b[0;31mAttributeError\u001b[0m: module 'pydot' has no attribute 'InvocationException'"
     ]
    }
   ],
   "source": [
    "from tensorflow.keras.utils import plot_model\n",
    "\n",
    "plot_model(model, to_file='model_plot.png', show_shapes=True, show_layer_names=True)\n"
   ]
  },
  {
   "cell_type": "code",
   "execution_count": 4,
   "metadata": {},
   "outputs": [],
   "source": [
    "from sklearn.ensemble import RandomForestClassifier, GradientBoostingClassifier\n",
    "from sklearn.metrics import accuracy_score, confusion_matrix\n",
    "from keras.models import load_model\n",
    "\n",
    "# โหลดโมเดล LSTM ที่ดีที่สุด\n",
    "best_model = load_model('../../models/LSTM_models_sample.keras')"
   ]
  },
  {
   "cell_type": "code",
   "execution_count": 30,
   "metadata": {},
   "outputs": [
    {
     "data": {
      "text/html": [
       "<div>\n",
       "<style scoped>\n",
       "    .dataframe tbody tr th:only-of-type {\n",
       "        vertical-align: middle;\n",
       "    }\n",
       "\n",
       "    .dataframe tbody tr th {\n",
       "        vertical-align: top;\n",
       "    }\n",
       "\n",
       "    .dataframe thead th {\n",
       "        text-align: right;\n",
       "    }\n",
       "</style>\n",
       "<table border=\"1\" class=\"dataframe\">\n",
       "  <thead>\n",
       "    <tr style=\"text-align: right;\">\n",
       "      <th></th>\n",
       "      <th>rating</th>\n",
       "      <th>location_id</th>\n",
       "      <th>review</th>\n",
       "      <th>cleaned_review</th>\n",
       "      <th>embedding</th>\n",
       "      <th>sentiment</th>\n",
       "      <th>location_id_numeric</th>\n",
       "    </tr>\n",
       "  </thead>\n",
       "  <tbody>\n",
       "    <tr>\n",
       "      <th>0</th>\n",
       "      <td>3</td>\n",
       "      <td>4322585</td>\n",
       "      <td>This was an ornate wat inside Mae Sot. It is a...</td>\n",
       "      <td>ornate wat inside mae sot burmese style wat ty...</td>\n",
       "      <td>[0.0, 0.0, 0.0, 0.0, 0.0, 0.0, 0.0, 0.0, 0.0, ...</td>\n",
       "      <td>neutral</td>\n",
       "      <td>4322585</td>\n",
       "    </tr>\n",
       "    <tr>\n",
       "      <th>1</th>\n",
       "      <td>2</td>\n",
       "      <td>2667297</td>\n",
       "      <td>Got the Asia perfect for body treatment. We re...</td>\n",
       "      <td>got asia perfect body treatment read review th...</td>\n",
       "      <td>[0.00053091, 0.15045358, 0.00889446, -0.038750...</td>\n",
       "      <td>negative</td>\n",
       "      <td>2667297</td>\n",
       "    </tr>\n",
       "    <tr>\n",
       "      <th>2</th>\n",
       "      <td>4</td>\n",
       "      <td>10388576</td>\n",
       "      <td>A few years ago a huge market was built in Ban...</td>\n",
       "      <td>year ago huge market built ban phe totally dis...</td>\n",
       "      <td>[0.0, 0.0, 0.0, 0.0, 0.0, 0.0, 0.0, 0.0, 0.0, ...</td>\n",
       "      <td>positive</td>\n",
       "      <td>10388576</td>\n",
       "    </tr>\n",
       "    <tr>\n",
       "      <th>3</th>\n",
       "      <td>1</td>\n",
       "      <td>6885224</td>\n",
       "      <td>The visit to this island is worth it just to u...</td>\n",
       "      <td>visit island worth understand tragic result un...</td>\n",
       "      <td>[0.0, 0.0, 0.0, 0.0, 0.0, 0.0, 0.0, 0.0, 0.0, ...</td>\n",
       "      <td>negative</td>\n",
       "      <td>6885224</td>\n",
       "    </tr>\n",
       "    <tr>\n",
       "      <th>4</th>\n",
       "      <td>5</td>\n",
       "      <td>6669325</td>\n",
       "      <td>So many different bananas! And a chance to see...</td>\n",
       "      <td>many different banana chance see stored taste ...</td>\n",
       "      <td>[0.0, 0.0, 0.0, 0.0, 0.0, 0.0, 0.0, 0.0, 0.0, ...</td>\n",
       "      <td>positive</td>\n",
       "      <td>6669325</td>\n",
       "    </tr>\n",
       "    <tr>\n",
       "      <th>...</th>\n",
       "      <td>...</td>\n",
       "      <td>...</td>\n",
       "      <td>...</td>\n",
       "      <td>...</td>\n",
       "      <td>...</td>\n",
       "      <td>...</td>\n",
       "      <td>...</td>\n",
       "    </tr>\n",
       "    <tr>\n",
       "      <th>14062</th>\n",
       "      <td>3</td>\n",
       "      <td>7287889</td>\n",
       "      <td>It is not as pretty as some picture lead to be...</td>\n",
       "      <td>pretty picture lead believe big either minute ...</td>\n",
       "      <td>[0.0, 0.0, 0.0, 0.0, 0.0, 0.0, 0.0, 0.0, 0.0, ...</td>\n",
       "      <td>neutral</td>\n",
       "      <td>7287889</td>\n",
       "    </tr>\n",
       "    <tr>\n",
       "      <th>14063</th>\n",
       "      <td>1</td>\n",
       "      <td>10631803</td>\n",
       "      <td>The whole trip was spoilt by lying local tour ...</td>\n",
       "      <td>whole trip spoilt lying local tour package sel...</td>\n",
       "      <td>[0.0, 0.0, 0.0, 0.0, 0.0, 0.0, 0.0, 0.0, 0.0, ...</td>\n",
       "      <td>negative</td>\n",
       "      <td>10631803</td>\n",
       "    </tr>\n",
       "    <tr>\n",
       "      <th>14064</th>\n",
       "      <td>3</td>\n",
       "      <td>1368429</td>\n",
       "      <td>As a keen biker, I was excited to experience t...</td>\n",
       "      <td>keen biker excited experience breathtaking sce...</td>\n",
       "      <td>[0.0, 0.0, 0.0, 0.0, 0.0, 0.0, 0.0, 0.0, 0.0, ...</td>\n",
       "      <td>neutral</td>\n",
       "      <td>1368429</td>\n",
       "    </tr>\n",
       "    <tr>\n",
       "      <th>14065</th>\n",
       "      <td>5</td>\n",
       "      <td>8300428</td>\n",
       "      <td>This place is really beautiful and was decorat...</td>\n",
       "      <td>place really beautiful decorated statue mae na...</td>\n",
       "      <td>[0.0, 0.0, 0.0, 0.0, 0.0, 0.0, 0.0, 0.0, 0.0, ...</td>\n",
       "      <td>positive</td>\n",
       "      <td>8300428</td>\n",
       "    </tr>\n",
       "    <tr>\n",
       "      <th>14066</th>\n",
       "      <td>3</td>\n",
       "      <td>8766239</td>\n",
       "      <td>Nice place to come and take some pictures but ...</td>\n",
       "      <td>nice place come take picture flying rat pigeon...</td>\n",
       "      <td>[-0.00701559, 0.28866604, 0.02099591, -0.07148...</td>\n",
       "      <td>neutral</td>\n",
       "      <td>8766239</td>\n",
       "    </tr>\n",
       "  </tbody>\n",
       "</table>\n",
       "<p>14067 rows × 7 columns</p>\n",
       "</div>"
      ],
      "text/plain": [
       "       rating  location_id                                             review  \\\n",
       "0           3      4322585  This was an ornate wat inside Mae Sot. It is a...   \n",
       "1           2      2667297  Got the Asia perfect for body treatment. We re...   \n",
       "2           4     10388576  A few years ago a huge market was built in Ban...   \n",
       "3           1      6885224  The visit to this island is worth it just to u...   \n",
       "4           5      6669325  So many different bananas! And a chance to see...   \n",
       "...       ...          ...                                                ...   \n",
       "14062       3      7287889  It is not as pretty as some picture lead to be...   \n",
       "14063       1     10631803  The whole trip was spoilt by lying local tour ...   \n",
       "14064       3      1368429  As a keen biker, I was excited to experience t...   \n",
       "14065       5      8300428  This place is really beautiful and was decorat...   \n",
       "14066       3      8766239  Nice place to come and take some pictures but ...   \n",
       "\n",
       "                                          cleaned_review  \\\n",
       "0      ornate wat inside mae sot burmese style wat ty...   \n",
       "1      got asia perfect body treatment read review th...   \n",
       "2      year ago huge market built ban phe totally dis...   \n",
       "3      visit island worth understand tragic result un...   \n",
       "4      many different banana chance see stored taste ...   \n",
       "...                                                  ...   \n",
       "14062  pretty picture lead believe big either minute ...   \n",
       "14063  whole trip spoilt lying local tour package sel...   \n",
       "14064  keen biker excited experience breathtaking sce...   \n",
       "14065  place really beautiful decorated statue mae na...   \n",
       "14066  nice place come take picture flying rat pigeon...   \n",
       "\n",
       "                                               embedding sentiment  \\\n",
       "0      [0.0, 0.0, 0.0, 0.0, 0.0, 0.0, 0.0, 0.0, 0.0, ...   neutral   \n",
       "1      [0.00053091, 0.15045358, 0.00889446, -0.038750...  negative   \n",
       "2      [0.0, 0.0, 0.0, 0.0, 0.0, 0.0, 0.0, 0.0, 0.0, ...  positive   \n",
       "3      [0.0, 0.0, 0.0, 0.0, 0.0, 0.0, 0.0, 0.0, 0.0, ...  negative   \n",
       "4      [0.0, 0.0, 0.0, 0.0, 0.0, 0.0, 0.0, 0.0, 0.0, ...  positive   \n",
       "...                                                  ...       ...   \n",
       "14062  [0.0, 0.0, 0.0, 0.0, 0.0, 0.0, 0.0, 0.0, 0.0, ...   neutral   \n",
       "14063  [0.0, 0.0, 0.0, 0.0, 0.0, 0.0, 0.0, 0.0, 0.0, ...  negative   \n",
       "14064  [0.0, 0.0, 0.0, 0.0, 0.0, 0.0, 0.0, 0.0, 0.0, ...   neutral   \n",
       "14065  [0.0, 0.0, 0.0, 0.0, 0.0, 0.0, 0.0, 0.0, 0.0, ...  positive   \n",
       "14066  [-0.00701559, 0.28866604, 0.02099591, -0.07148...   neutral   \n",
       "\n",
       "       location_id_numeric  \n",
       "0                  4322585  \n",
       "1                  2667297  \n",
       "2                 10388576  \n",
       "3                  6885224  \n",
       "4                  6669325  \n",
       "...                    ...  \n",
       "14062              7287889  \n",
       "14063             10631803  \n",
       "14064              1368429  \n",
       "14065              8300428  \n",
       "14066              8766239  \n",
       "\n",
       "[14067 rows x 7 columns]"
      ]
     },
     "execution_count": 30,
     "metadata": {},
     "output_type": "execute_result"
    }
   ],
   "source": [
    "df_balanced"
   ]
  },
  {
   "cell_type": "code",
   "execution_count": 27,
   "metadata": {},
   "outputs": [
    {
     "data": {
      "text/plain": [
       "'[[ 0.          0.          0.         ...  0.          0.\\n   0.        ]\\n [ 0.          0.          0.         ...  0.          0.\\n   0.        ]\\n [ 0.          0.          0.         ...  0.          0.\\n   0.        ]\\n ...\\n [ 0.          0.          0.         ...  0.          0.\\n   0.        ]\\n [-0.00701559  0.28866604  0.02099591 ... -0.07148592  0.21406499\\n  -0.04538575]\\n [ 0.          0.          0.         ...  0.          0.\\n   0.        ]]'"
      ]
     },
     "execution_count": 27,
     "metadata": {},
     "output_type": "execute_result"
    }
   ],
   "source": [
    "df_balanced['embedding'][0]"
   ]
  },
  {
   "cell_type": "code",
   "execution_count": 28,
   "metadata": {},
   "outputs": [],
   "source": [
    "def convert_embedding(embedding):\n",
    "    # If the embedding is already a numpy array, return it as is\n",
    "    if isinstance(embedding, np.ndarray):\n",
    "        return embedding.flatten()  # Flatten if it's a 2D numpy array\n",
    "    \n",
    "    # If the embedding is a string, clean and parse it\n",
    "    if isinstance(embedding, str):\n",
    "        # Clean up the embedding string: replace newlines and ensure proper spacing\n",
    "        embedding = embedding.replace(\"\\n\", \" \").replace(\"...\", \"\")\n",
    "        # Remove extra spaces and brackets for easier parsing\n",
    "        embedding = embedding.replace(\"[\", \"\").replace(\"]\", \"\").strip()\n",
    "        \n",
    "        try:\n",
    "            # Split the cleaned string by spaces and convert it to a list of floats\n",
    "            embedding_list = [float(val) for val in embedding.split()]\n",
    "            # Convert the list into a numpy array\n",
    "            embedding_array = np.array(embedding_list)\n",
    "            \n",
    "            # Flatten if it's a 2D array (e.g., matrix)\n",
    "            return embedding_array.flatten()\n",
    "        \n",
    "        except ValueError:\n",
    "            print(f\"Error parsing embedding: {embedding}\")\n",
    "            # Return a zero-vector if there's an issue with parsing\n",
    "            return np.zeros(300)  # Adjust size as needed\n",
    "    \n",
    "    # If it's neither a string nor a numpy array, return a default zero vector\n",
    "    print(f\"Unexpected data type: {type(embedding)}\")\n",
    "    return np.zeros(300)  # Adjust size as needed"
   ]
  },
  {
   "cell_type": "code",
   "execution_count": 29,
   "metadata": {},
   "outputs": [],
   "source": [
    "df_balanced['embedding'] = df_balanced['embedding'].apply(convert_embedding)"
   ]
  },
  {
   "cell_type": "code",
   "execution_count": 32,
   "metadata": {},
   "outputs": [],
   "source": [
    "validate_review_df = df_balanced"
   ]
  },
  {
   "cell_type": "code",
   "execution_count": 33,
   "metadata": {},
   "outputs": [
    {
     "data": {
      "text/html": [
       "<div>\n",
       "<style scoped>\n",
       "    .dataframe tbody tr th:only-of-type {\n",
       "        vertical-align: middle;\n",
       "    }\n",
       "\n",
       "    .dataframe tbody tr th {\n",
       "        vertical-align: top;\n",
       "    }\n",
       "\n",
       "    .dataframe thead th {\n",
       "        text-align: right;\n",
       "    }\n",
       "</style>\n",
       "<table border=\"1\" class=\"dataframe\">\n",
       "  <thead>\n",
       "    <tr style=\"text-align: right;\">\n",
       "      <th></th>\n",
       "      <th>rating</th>\n",
       "      <th>location_id</th>\n",
       "      <th>review</th>\n",
       "      <th>cleaned_review</th>\n",
       "      <th>embedding</th>\n",
       "      <th>sentiment</th>\n",
       "      <th>location_id_numeric</th>\n",
       "    </tr>\n",
       "  </thead>\n",
       "  <tbody>\n",
       "    <tr>\n",
       "      <th>7033</th>\n",
       "      <td>1</td>\n",
       "      <td>8146452</td>\n",
       "      <td>A deep drive inland from rayong town. But a pi...</td>\n",
       "      <td>deep drive inland rayong town pity fruit orcha...</td>\n",
       "      <td>[0.0, 0.0, 0.0, 0.0, 0.0, 0.0, 0.0, 0.0, 0.0, ...</td>\n",
       "      <td>negative</td>\n",
       "      <td>8146452</td>\n",
       "    </tr>\n",
       "    <tr>\n",
       "      <th>9866</th>\n",
       "      <td>2</td>\n",
       "      <td>6669305</td>\n",
       "      <td>When people think of \"national parks\" they nor...</td>\n",
       "      <td>people think national park normally except som...</td>\n",
       "      <td>[0.0, 0.0, 0.0, 0.0, 0.0, 0.0, 0.0, 0.0, 0.0, ...</td>\n",
       "      <td>negative</td>\n",
       "      <td>6669305</td>\n",
       "    </tr>\n",
       "    <tr>\n",
       "      <th>9867</th>\n",
       "      <td>1</td>\n",
       "      <td>4340403</td>\n",
       "      <td>All the negative reviews are true! constant ha...</td>\n",
       "      <td>negative review true constant hassle buy drink...</td>\n",
       "      <td>[0.0, 0.0, 0.0, 0.0, 0.0, 0.0, 0.0, 0.0, 0.0, ...</td>\n",
       "      <td>negative</td>\n",
       "      <td>4340403</td>\n",
       "    </tr>\n",
       "    <tr>\n",
       "      <th>9870</th>\n",
       "      <td>1</td>\n",
       "      <td>17642639</td>\n",
       "      <td>Terrible place !! Very bad customer service!! ...</td>\n",
       "      <td>terrible place bad customer service girl rude ...</td>\n",
       "      <td>[0.00044389, 0.02045423, 0.00404787, -0.008911...</td>\n",
       "      <td>negative</td>\n",
       "      <td>17642639</td>\n",
       "    </tr>\n",
       "    <tr>\n",
       "      <th>9871</th>\n",
       "      <td>1</td>\n",
       "      <td>1887234</td>\n",
       "      <td>Definitely prefer the Andaman Wave Master. In ...</td>\n",
       "      <td>definitely prefer andaman wave master phi phi ...</td>\n",
       "      <td>[0.0, 0.0, 0.0, 0.0, 0.0, 0.0, -0.00456293, 0....</td>\n",
       "      <td>negative</td>\n",
       "      <td>1887234</td>\n",
       "    </tr>\n",
       "    <tr>\n",
       "      <th>4206</th>\n",
       "      <td>1</td>\n",
       "      <td>7715997</td>\n",
       "      <td>We went there for 2 times this trip. All offic...</td>\n",
       "      <td>went time trip official time said close pm inc...</td>\n",
       "      <td>[0.0, 0.0, 0.0, 0.0, 0.0, 0.0, 0.0, 0.0, 0.0, ...</td>\n",
       "      <td>negative</td>\n",
       "      <td>7715997</td>\n",
       "    </tr>\n",
       "    <tr>\n",
       "      <th>4205</th>\n",
       "      <td>2</td>\n",
       "      <td>456466</td>\n",
       "      <td>There was nothing to do much. The water fall w...</td>\n",
       "      <td>nothing much water fall like almost dry water ...</td>\n",
       "      <td>[0.0, 0.0, 0.0, 0.0, 0.0, 0.0, 0.0, 0.0, 0.0, ...</td>\n",
       "      <td>negative</td>\n",
       "      <td>456466</td>\n",
       "    </tr>\n",
       "    <tr>\n",
       "      <th>9872</th>\n",
       "      <td>2</td>\n",
       "      <td>6668965</td>\n",
       "      <td>Haven't heard of the \"famous\" Phra Buddha Maha...</td>\n",
       "      <td>heard famous phra buddha maha thammaraja statu...</td>\n",
       "      <td>[0.0, 0.0, 0.0, 0.0, 0.0, 0.0, 0.0, 0.0, 0.0, ...</td>\n",
       "      <td>negative</td>\n",
       "      <td>6668965</td>\n",
       "    </tr>\n",
       "    <tr>\n",
       "      <th>4203</th>\n",
       "      <td>2</td>\n",
       "      <td>9710056</td>\n",
       "      <td>This will bring you to the viewpoint of the Ba...</td>\n",
       "      <td>bring viewpoint bang pra reservoir view ok far...</td>\n",
       "      <td>[0.0, 0.0, 0.0, 0.0, 0.0, 0.0, 0.0, 0.0, 0.0, ...</td>\n",
       "      <td>negative</td>\n",
       "      <td>9710056</td>\n",
       "    </tr>\n",
       "    <tr>\n",
       "      <th>9875</th>\n",
       "      <td>1</td>\n",
       "      <td>455812</td>\n",
       "      <td>It was a really sad experience. This place abu...</td>\n",
       "      <td>really sad experience place abuse animal peopl...</td>\n",
       "      <td>[0.0, 0.0, 0.0, 0.0, 0.0, 0.0, 0.0, 0.0, 0.0, ...</td>\n",
       "      <td>negative</td>\n",
       "      <td>455812</td>\n",
       "    </tr>\n",
       "  </tbody>\n",
       "</table>\n",
       "</div>"
      ],
      "text/plain": [
       "      rating  location_id                                             review  \\\n",
       "7033       1      8146452  A deep drive inland from rayong town. But a pi...   \n",
       "9866       2      6669305  When people think of \"national parks\" they nor...   \n",
       "9867       1      4340403  All the negative reviews are true! constant ha...   \n",
       "9870       1     17642639  Terrible place !! Very bad customer service!! ...   \n",
       "9871       1      1887234  Definitely prefer the Andaman Wave Master. In ...   \n",
       "4206       1      7715997  We went there for 2 times this trip. All offic...   \n",
       "4205       2       456466  There was nothing to do much. The water fall w...   \n",
       "9872       2      6668965  Haven't heard of the \"famous\" Phra Buddha Maha...   \n",
       "4203       2      9710056  This will bring you to the viewpoint of the Ba...   \n",
       "9875       1       455812  It was a really sad experience. This place abu...   \n",
       "\n",
       "                                         cleaned_review  \\\n",
       "7033  deep drive inland rayong town pity fruit orcha...   \n",
       "9866  people think national park normally except som...   \n",
       "9867  negative review true constant hassle buy drink...   \n",
       "9870  terrible place bad customer service girl rude ...   \n",
       "9871  definitely prefer andaman wave master phi phi ...   \n",
       "4206  went time trip official time said close pm inc...   \n",
       "4205  nothing much water fall like almost dry water ...   \n",
       "9872  heard famous phra buddha maha thammaraja statu...   \n",
       "4203  bring viewpoint bang pra reservoir view ok far...   \n",
       "9875  really sad experience place abuse animal peopl...   \n",
       "\n",
       "                                              embedding sentiment  \\\n",
       "7033  [0.0, 0.0, 0.0, 0.0, 0.0, 0.0, 0.0, 0.0, 0.0, ...  negative   \n",
       "9866  [0.0, 0.0, 0.0, 0.0, 0.0, 0.0, 0.0, 0.0, 0.0, ...  negative   \n",
       "9867  [0.0, 0.0, 0.0, 0.0, 0.0, 0.0, 0.0, 0.0, 0.0, ...  negative   \n",
       "9870  [0.00044389, 0.02045423, 0.00404787, -0.008911...  negative   \n",
       "9871  [0.0, 0.0, 0.0, 0.0, 0.0, 0.0, -0.00456293, 0....  negative   \n",
       "4206  [0.0, 0.0, 0.0, 0.0, 0.0, 0.0, 0.0, 0.0, 0.0, ...  negative   \n",
       "4205  [0.0, 0.0, 0.0, 0.0, 0.0, 0.0, 0.0, 0.0, 0.0, ...  negative   \n",
       "9872  [0.0, 0.0, 0.0, 0.0, 0.0, 0.0, 0.0, 0.0, 0.0, ...  negative   \n",
       "4203  [0.0, 0.0, 0.0, 0.0, 0.0, 0.0, 0.0, 0.0, 0.0, ...  negative   \n",
       "9875  [0.0, 0.0, 0.0, 0.0, 0.0, 0.0, 0.0, 0.0, 0.0, ...  negative   \n",
       "\n",
       "      location_id_numeric  \n",
       "7033              8146452  \n",
       "9866              6669305  \n",
       "9867              4340403  \n",
       "9870             17642639  \n",
       "9871              1887234  \n",
       "4206              7715997  \n",
       "4205               456466  \n",
       "9872              6668965  \n",
       "4203              9710056  \n",
       "9875               455812  "
      ]
     },
     "execution_count": 33,
     "metadata": {},
     "output_type": "execute_result"
    }
   ],
   "source": [
    "validate_review_df.sort_values(by='sentiment', ascending=True).head(10)"
   ]
  },
  {
   "cell_type": "code",
   "execution_count": 34,
   "metadata": {},
   "outputs": [],
   "source": [
    "tokenizer = Tokenizer(num_words=max_features, oov_token=\"OOV\")\n",
    "tokenizer.fit_on_texts(validate_review_df['cleaned_review'])\n",
    "\n",
    "X_val_resampled = tokenizer.texts_to_sequences(validate_review_df['cleaned_review'])\n",
    "X_val_resampled = pad_sequences(X_val_resampled, maxlen=max_sequence_length)\n",
    "\n",
    "y_val_resampled = validate_review_df['sentiment'].map(label_mapping)"
   ]
  },
  {
   "cell_type": "code",
   "execution_count": 35,
   "metadata": {},
   "outputs": [
    {
     "data": {
      "text/plain": [
       "(14067,)"
      ]
     },
     "execution_count": 35,
     "metadata": {},
     "output_type": "execute_result"
    }
   ],
   "source": [
    "y_val_resampled.shape"
   ]
  },
  {
   "cell_type": "code",
   "execution_count": 36,
   "metadata": {},
   "outputs": [
    {
     "data": {
      "text/plain": [
       "(14067, 300)"
      ]
     },
     "execution_count": 36,
     "metadata": {},
     "output_type": "execute_result"
    }
   ],
   "source": [
    "X_val_resampled.shape"
   ]
  },
  {
   "cell_type": "code",
   "execution_count": 37,
   "metadata": {},
   "outputs": [
    {
     "name": "stdout",
     "output_type": "stream",
     "text": [
      "\u001b[1m440/440\u001b[0m \u001b[32m━━━━━━━━━━━━━━━━━━━━\u001b[0m\u001b[37m\u001b[0m \u001b[1m41s\u001b[0m 92ms/step\n",
      "              precision    recall  f1-score   support\n",
      "\n",
      "           0       1.00      0.99      1.00      4689\n",
      "           1       0.96      0.99      0.97      4689\n",
      "           2       0.99      0.96      0.97      4689\n",
      "\n",
      "    accuracy                           0.98     14067\n",
      "   macro avg       0.98      0.98      0.98     14067\n",
      "weighted avg       0.98      0.98      0.98     14067\n",
      "\n",
      "[[4665   24    0]\n",
      " [   3 4652   34]\n",
      " [  18  182 4489]]\n"
     ]
    }
   ],
   "source": [
    "# ใช้โมเดล LSTM ทำนายข้อมูล validation set\n",
    "lstm_preds = best_model.predict(X_val_resampled)\n",
    "lstm_preds = np.argmax(lstm_preds, axis=1)\n",
    "\n",
    "# ฝึก Gradient Boosting Classifier บนผลลัพธ์จาก LSTM\n",
    "gb_clf = GradientBoostingClassifier(n_estimators=100, random_state=42)\n",
    "gb_clf.fit(lstm_preds.reshape(-1, 1), y_val_resampled)\n",
    "\n",
    "# # ทำนายผลลัพธ์ด้วย Gradient Boosting\n",
    "ensemble_preds = gb_clf.predict(lstm_preds.reshape(-1, 1))\n",
    "\n",
    "# ตรวจสอบผลลัพธ์\n",
    "print(classification_report(y_val_resampled, ensemble_preds))\n",
    "print(confusion_matrix(y_val_resampled, ensemble_preds))"
   ]
  },
  {
   "cell_type": "code",
   "execution_count": 50,
   "metadata": {},
   "outputs": [
    {
     "name": "stdout",
     "output_type": "stream",
     "text": [
      "Precision: 0.9819\n",
      "Recall: 0.9814\n",
      "F1-Score: 0.9814\n"
     ]
    }
   ],
   "source": [
    "from sklearn.metrics import precision_score, recall_score, f1_score\n",
    "\n",
    "# Calculate precision, recall, and F1-score\n",
    "precision = precision_score(y_val_resampled, lstm_preds, average='weighted')\n",
    "recall = recall_score(y_val_resampled, lstm_preds, average='weighted')\n",
    "f1 = f1_score(y_val_resampled, lstm_preds, average='weighted')\n",
    "\n",
    "print(f'Precision: {precision:.4f}')\n",
    "print(f'Recall: {recall:.4f}')\n",
    "print(f'F1-Score: {f1:.4f}')"
   ]
  },
  {
   "cell_type": "code",
   "execution_count": 43,
   "metadata": {},
   "outputs": [
    {
     "name": "stdout",
     "output_type": "stream",
     "text": [
      "Random Forest Accuracy: 0.9907604832977968\n",
      "Gradient Boosting Accuracy: 0.7898602226960436\n",
      "Logistic Regression Accuracy: 0.3842691305377873\n"
     ]
    },
    {
     "name": "stderr",
     "output_type": "stream",
     "text": [
      "/Users/ittichaiboonyarakthunya/Library/Caches/pypoetry/virtualenvs/is-project-thailand-tourism-recommendation-qwL-LsgH-py3.12/lib/python3.12/site-packages/sklearn/linear_model/_logistic.py:469: ConvergenceWarning: lbfgs failed to converge (status=1):\n",
      "STOP: TOTAL NO. of ITERATIONS REACHED LIMIT.\n",
      "\n",
      "Increase the number of iterations (max_iter) or scale the data as shown in:\n",
      "    https://scikit-learn.org/stable/modules/preprocessing.html\n",
      "Please also refer to the documentation for alternative solver options:\n",
      "    https://scikit-learn.org/stable/modules/linear_model.html#logistic-regression\n",
      "  n_iter_i = _check_optimize_result(\n"
     ]
    }
   ],
   "source": [
    "# สร้างโมเดล Random Forest (Bagging)\n",
    "from sklearn.linear_model import LogisticRegression\n",
    "\n",
    "\n",
    "rf_model = RandomForestClassifier(n_estimators=100, random_state=42)\n",
    "rf_model.fit(X_train_resampled, y_train_resampled)\n",
    "rf_predictions = rf_model.predict(X_val)\n",
    "\n",
    "# สร้างโมเดล Gradient Boosting (Boosting)\n",
    "gb_model = GradientBoostingClassifier(n_estimators=100, random_state=42)\n",
    "gb_model.fit(X_train_resampled, y_train_resampled)\n",
    "gb_predictions = gb_model.predict(X_val)\n",
    "\n",
    "lg_model = LogisticRegression(random_state=42)\n",
    "lg_model.fit(X_train_resampled, y_train_resampled)\n",
    "lg_predictions = lg_model.predict(X_val)\n",
    "\n",
    "# วัดผลลัพธ์ของแต่ละโมเดล\n",
    "print(\"Random Forest Accuracy:\", accuracy_score(y_val, rf_predictions))\n",
    "print(\"Gradient Boosting Accuracy:\", accuracy_score(y_val, gb_predictions))\n",
    "print(\"Logistic Regression Accuracy:\", accuracy_score(y_val, lg_predictions))"
   ]
  },
  {
   "cell_type": "code",
   "execution_count": 44,
   "metadata": {},
   "outputs": [
    {
     "name": "stdout",
     "output_type": "stream",
     "text": [
      "Voting Ensemble Accuracy: 0.9599620942904525\n"
     ]
    },
    {
     "name": "stderr",
     "output_type": "stream",
     "text": [
      "/Users/ittichaiboonyarakthunya/Library/Caches/pypoetry/virtualenvs/is-project-thailand-tourism-recommendation-qwL-LsgH-py3.12/lib/python3.12/site-packages/sklearn/linear_model/_logistic.py:469: ConvergenceWarning: lbfgs failed to converge (status=1):\n",
      "STOP: TOTAL NO. of ITERATIONS REACHED LIMIT.\n",
      "\n",
      "Increase the number of iterations (max_iter) or scale the data as shown in:\n",
      "    https://scikit-learn.org/stable/modules/preprocessing.html\n",
      "Please also refer to the documentation for alternative solver options:\n",
      "    https://scikit-learn.org/stable/modules/linear_model.html#logistic-regression\n",
      "  n_iter_i = _check_optimize_result(\n"
     ]
    }
   ],
   "source": [
    "# Ensemble วิธี Voting (Hard Voting)\n",
    "from sklearn.ensemble import VotingClassifier\n",
    "\n",
    "# รวมโมเดลทั้งสองด้วยการ Voting\n",
    "voting_model = VotingClassifier(estimators=[\n",
    "    ('rf', rf_model), ('gb', gb_model), ('lg', lg_model)],\n",
    "    voting='soft')\n",
    "\n",
    "voting_model.fit(X_train_resampled, y_train_resampled)\n",
    "voting_predictions = voting_model.predict(X_val)\n",
    "\n",
    "# วัดผลลัพธ์จากการใช้ Voting\n",
    "print(\"Voting Ensemble Accuracy:\", accuracy_score(y_val, voting_predictions))"
   ]
  },
  {
   "cell_type": "code",
   "execution_count": 47,
   "metadata": {},
   "outputs": [
    {
     "name": "stdout",
     "output_type": "stream",
     "text": [
      "Voting Ensemble Accuracy: 0.9599620942904525\n",
      "              precision    recall  f1-score   support\n",
      "\n",
      "           0       0.96      1.00      0.98      1453\n",
      "           1       0.94      0.98      0.96      1374\n",
      "           2       0.98      0.90      0.94      1394\n",
      "\n",
      "    accuracy                           0.96      4221\n",
      "   macro avg       0.96      0.96      0.96      4221\n",
      "weighted avg       0.96      0.96      0.96      4221\n",
      "\n"
     ]
    }
   ],
   "source": [
    "conf_matrix = confusion_matrix(y_val, voting_predictions)\n",
    "print(\"Voting Ensemble Accuracy:\", accuracy_score(y_val, voting_predictions))\n",
    "print(classification_report(y_val, voting_predictions))"
   ]
  },
  {
   "cell_type": "code",
   "execution_count": 149,
   "metadata": {},
   "outputs": [
    {
     "name": "stdout",
     "output_type": "stream",
     "text": [
      "Common indices count: 1761\n",
      "Missing indices count: 7239\n"
     ]
    }
   ],
   "source": [
    "common_indices = y_val.index.intersection(review_df.index)\n",
    "missing_indices = y_val.index.difference(review_df.index)\n",
    "print(f\"Common indices count: {len(common_indices)}\")\n",
    "print(f\"Missing indices count: {len(missing_indices)}\")"
   ]
  },
  {
   "cell_type": "code",
   "execution_count": 150,
   "metadata": {},
   "outputs": [],
   "source": [
    "predict_label = y_val_resampled"
   ]
  },
  {
   "cell_type": "code",
   "execution_count": null,
   "metadata": {},
   "outputs": [],
   "source": [
    "# X_train_resampled, X_val, y_train_resampled, y_val = train_test_split(X, y, test_size=0.3, random_state=42)"
   ]
  },
  {
   "cell_type": "code",
   "execution_count": 49,
   "metadata": {},
   "outputs": [
    {
     "name": "stdout",
     "output_type": "stream",
     "text": [
      "\u001b[1m132/132\u001b[0m \u001b[32m━━━━━━━━━━━━━━━━━━━━\u001b[0m\u001b[37m\u001b[0m \u001b[1m11s\u001b[0m 84ms/step\n",
      "Accuracy: 0.9514333096422649\n",
      "              precision    recall  f1-score   support\n",
      "\n",
      "           0       0.99      0.99      0.99      1453\n",
      "           1       0.89      0.99      0.93      1374\n",
      "           2       0.99      0.87      0.93      1394\n",
      "\n",
      "    accuracy                           0.95      4221\n",
      "   macro avg       0.95      0.95      0.95      4221\n",
      "weighted avg       0.96      0.95      0.95      4221\n",
      "\n",
      "[[1443   10    0]\n",
      " [   1 1358   15]\n",
      " [  16  163 1215]]\n"
     ]
    }
   ],
   "source": [
    "lstm_preds = best_model.predict(X_val)\n",
    "lstm_preds = np.argmax(lstm_preds, axis=1)\n",
    "\n",
    "conf_matrix = confusion_matrix(y_val, lstm_preds)\n",
    "\n",
    "print(\"Accuracy:\", accuracy_score(y_val, lstm_preds))\n",
    "print(classification_report(y_val, lstm_preds))\n",
    "print(conf_matrix)"
   ]
  },
  {
   "cell_type": "code",
   "execution_count": 66,
   "metadata": {},
   "outputs": [
    {
     "data": {
      "application/vnd.plotly.v1+json": {
       "config": {
        "plotlyServerURL": "https://plot.ly"
       },
       "data": [
        {
         "colorscale": [
          [
           0,
           "rgb(247,251,255)"
          ],
          [
           0.125,
           "rgb(222,235,247)"
          ],
          [
           0.25,
           "rgb(198,219,239)"
          ],
          [
           0.375,
           "rgb(158,202,225)"
          ],
          [
           0.5,
           "rgb(107,174,214)"
          ],
          [
           0.625,
           "rgb(66,146,198)"
          ],
          [
           0.75,
           "rgb(33,113,181)"
          ],
          [
           0.875,
           "rgb(8,81,156)"
          ],
          [
           1,
           "rgb(8,48,107)"
          ]
         ],
         "hoverongaps": false,
         "type": "heatmap",
         "x": [
          "Predicted Negative",
          "Predicted Natural",
          "Predicted Positive"
         ],
         "y": [
          "Actual Negative",
          "Actual Natural",
          "Actual Positive"
         ],
         "z": [
          [
           1453,
           0,
           0
          ],
          [
           0,
           1359,
           15
          ],
          [
           30,
           76,
           1288
          ]
         ]
        }
       ],
       "layout": {
        "font": {
         "size": 14
        },
        "template": {
         "data": {
          "bar": [
           {
            "error_x": {
             "color": "#2a3f5f"
            },
            "error_y": {
             "color": "#2a3f5f"
            },
            "marker": {
             "line": {
              "color": "#E5ECF6",
              "width": 0.5
             },
             "pattern": {
              "fillmode": "overlay",
              "size": 10,
              "solidity": 0.2
             }
            },
            "type": "bar"
           }
          ],
          "barpolar": [
           {
            "marker": {
             "line": {
              "color": "#E5ECF6",
              "width": 0.5
             },
             "pattern": {
              "fillmode": "overlay",
              "size": 10,
              "solidity": 0.2
             }
            },
            "type": "barpolar"
           }
          ],
          "carpet": [
           {
            "aaxis": {
             "endlinecolor": "#2a3f5f",
             "gridcolor": "white",
             "linecolor": "white",
             "minorgridcolor": "white",
             "startlinecolor": "#2a3f5f"
            },
            "baxis": {
             "endlinecolor": "#2a3f5f",
             "gridcolor": "white",
             "linecolor": "white",
             "minorgridcolor": "white",
             "startlinecolor": "#2a3f5f"
            },
            "type": "carpet"
           }
          ],
          "choropleth": [
           {
            "colorbar": {
             "outlinewidth": 0,
             "ticks": ""
            },
            "type": "choropleth"
           }
          ],
          "contour": [
           {
            "colorbar": {
             "outlinewidth": 0,
             "ticks": ""
            },
            "colorscale": [
             [
              0,
              "#0d0887"
             ],
             [
              0.1111111111111111,
              "#46039f"
             ],
             [
              0.2222222222222222,
              "#7201a8"
             ],
             [
              0.3333333333333333,
              "#9c179e"
             ],
             [
              0.4444444444444444,
              "#bd3786"
             ],
             [
              0.5555555555555556,
              "#d8576b"
             ],
             [
              0.6666666666666666,
              "#ed7953"
             ],
             [
              0.7777777777777778,
              "#fb9f3a"
             ],
             [
              0.8888888888888888,
              "#fdca26"
             ],
             [
              1,
              "#f0f921"
             ]
            ],
            "type": "contour"
           }
          ],
          "contourcarpet": [
           {
            "colorbar": {
             "outlinewidth": 0,
             "ticks": ""
            },
            "type": "contourcarpet"
           }
          ],
          "heatmap": [
           {
            "colorbar": {
             "outlinewidth": 0,
             "ticks": ""
            },
            "colorscale": [
             [
              0,
              "#0d0887"
             ],
             [
              0.1111111111111111,
              "#46039f"
             ],
             [
              0.2222222222222222,
              "#7201a8"
             ],
             [
              0.3333333333333333,
              "#9c179e"
             ],
             [
              0.4444444444444444,
              "#bd3786"
             ],
             [
              0.5555555555555556,
              "#d8576b"
             ],
             [
              0.6666666666666666,
              "#ed7953"
             ],
             [
              0.7777777777777778,
              "#fb9f3a"
             ],
             [
              0.8888888888888888,
              "#fdca26"
             ],
             [
              1,
              "#f0f921"
             ]
            ],
            "type": "heatmap"
           }
          ],
          "heatmapgl": [
           {
            "colorbar": {
             "outlinewidth": 0,
             "ticks": ""
            },
            "colorscale": [
             [
              0,
              "#0d0887"
             ],
             [
              0.1111111111111111,
              "#46039f"
             ],
             [
              0.2222222222222222,
              "#7201a8"
             ],
             [
              0.3333333333333333,
              "#9c179e"
             ],
             [
              0.4444444444444444,
              "#bd3786"
             ],
             [
              0.5555555555555556,
              "#d8576b"
             ],
             [
              0.6666666666666666,
              "#ed7953"
             ],
             [
              0.7777777777777778,
              "#fb9f3a"
             ],
             [
              0.8888888888888888,
              "#fdca26"
             ],
             [
              1,
              "#f0f921"
             ]
            ],
            "type": "heatmapgl"
           }
          ],
          "histogram": [
           {
            "marker": {
             "pattern": {
              "fillmode": "overlay",
              "size": 10,
              "solidity": 0.2
             }
            },
            "type": "histogram"
           }
          ],
          "histogram2d": [
           {
            "colorbar": {
             "outlinewidth": 0,
             "ticks": ""
            },
            "colorscale": [
             [
              0,
              "#0d0887"
             ],
             [
              0.1111111111111111,
              "#46039f"
             ],
             [
              0.2222222222222222,
              "#7201a8"
             ],
             [
              0.3333333333333333,
              "#9c179e"
             ],
             [
              0.4444444444444444,
              "#bd3786"
             ],
             [
              0.5555555555555556,
              "#d8576b"
             ],
             [
              0.6666666666666666,
              "#ed7953"
             ],
             [
              0.7777777777777778,
              "#fb9f3a"
             ],
             [
              0.8888888888888888,
              "#fdca26"
             ],
             [
              1,
              "#f0f921"
             ]
            ],
            "type": "histogram2d"
           }
          ],
          "histogram2dcontour": [
           {
            "colorbar": {
             "outlinewidth": 0,
             "ticks": ""
            },
            "colorscale": [
             [
              0,
              "#0d0887"
             ],
             [
              0.1111111111111111,
              "#46039f"
             ],
             [
              0.2222222222222222,
              "#7201a8"
             ],
             [
              0.3333333333333333,
              "#9c179e"
             ],
             [
              0.4444444444444444,
              "#bd3786"
             ],
             [
              0.5555555555555556,
              "#d8576b"
             ],
             [
              0.6666666666666666,
              "#ed7953"
             ],
             [
              0.7777777777777778,
              "#fb9f3a"
             ],
             [
              0.8888888888888888,
              "#fdca26"
             ],
             [
              1,
              "#f0f921"
             ]
            ],
            "type": "histogram2dcontour"
           }
          ],
          "mesh3d": [
           {
            "colorbar": {
             "outlinewidth": 0,
             "ticks": ""
            },
            "type": "mesh3d"
           }
          ],
          "parcoords": [
           {
            "line": {
             "colorbar": {
              "outlinewidth": 0,
              "ticks": ""
             }
            },
            "type": "parcoords"
           }
          ],
          "pie": [
           {
            "automargin": true,
            "type": "pie"
           }
          ],
          "scatter": [
           {
            "fillpattern": {
             "fillmode": "overlay",
             "size": 10,
             "solidity": 0.2
            },
            "type": "scatter"
           }
          ],
          "scatter3d": [
           {
            "line": {
             "colorbar": {
              "outlinewidth": 0,
              "ticks": ""
             }
            },
            "marker": {
             "colorbar": {
              "outlinewidth": 0,
              "ticks": ""
             }
            },
            "type": "scatter3d"
           }
          ],
          "scattercarpet": [
           {
            "marker": {
             "colorbar": {
              "outlinewidth": 0,
              "ticks": ""
             }
            },
            "type": "scattercarpet"
           }
          ],
          "scattergeo": [
           {
            "marker": {
             "colorbar": {
              "outlinewidth": 0,
              "ticks": ""
             }
            },
            "type": "scattergeo"
           }
          ],
          "scattergl": [
           {
            "marker": {
             "colorbar": {
              "outlinewidth": 0,
              "ticks": ""
             }
            },
            "type": "scattergl"
           }
          ],
          "scattermapbox": [
           {
            "marker": {
             "colorbar": {
              "outlinewidth": 0,
              "ticks": ""
             }
            },
            "type": "scattermapbox"
           }
          ],
          "scatterpolar": [
           {
            "marker": {
             "colorbar": {
              "outlinewidth": 0,
              "ticks": ""
             }
            },
            "type": "scatterpolar"
           }
          ],
          "scatterpolargl": [
           {
            "marker": {
             "colorbar": {
              "outlinewidth": 0,
              "ticks": ""
             }
            },
            "type": "scatterpolargl"
           }
          ],
          "scatterternary": [
           {
            "marker": {
             "colorbar": {
              "outlinewidth": 0,
              "ticks": ""
             }
            },
            "type": "scatterternary"
           }
          ],
          "surface": [
           {
            "colorbar": {
             "outlinewidth": 0,
             "ticks": ""
            },
            "colorscale": [
             [
              0,
              "#0d0887"
             ],
             [
              0.1111111111111111,
              "#46039f"
             ],
             [
              0.2222222222222222,
              "#7201a8"
             ],
             [
              0.3333333333333333,
              "#9c179e"
             ],
             [
              0.4444444444444444,
              "#bd3786"
             ],
             [
              0.5555555555555556,
              "#d8576b"
             ],
             [
              0.6666666666666666,
              "#ed7953"
             ],
             [
              0.7777777777777778,
              "#fb9f3a"
             ],
             [
              0.8888888888888888,
              "#fdca26"
             ],
             [
              1,
              "#f0f921"
             ]
            ],
            "type": "surface"
           }
          ],
          "table": [
           {
            "cells": {
             "fill": {
              "color": "#EBF0F8"
             },
             "line": {
              "color": "white"
             }
            },
            "header": {
             "fill": {
              "color": "#C8D4E3"
             },
             "line": {
              "color": "white"
             }
            },
            "type": "table"
           }
          ]
         },
         "layout": {
          "annotationdefaults": {
           "arrowcolor": "#2a3f5f",
           "arrowhead": 0,
           "arrowwidth": 1
          },
          "autotypenumbers": "strict",
          "coloraxis": {
           "colorbar": {
            "outlinewidth": 0,
            "ticks": ""
           }
          },
          "colorscale": {
           "diverging": [
            [
             0,
             "#8e0152"
            ],
            [
             0.1,
             "#c51b7d"
            ],
            [
             0.2,
             "#de77ae"
            ],
            [
             0.3,
             "#f1b6da"
            ],
            [
             0.4,
             "#fde0ef"
            ],
            [
             0.5,
             "#f7f7f7"
            ],
            [
             0.6,
             "#e6f5d0"
            ],
            [
             0.7,
             "#b8e186"
            ],
            [
             0.8,
             "#7fbc41"
            ],
            [
             0.9,
             "#4d9221"
            ],
            [
             1,
             "#276419"
            ]
           ],
           "sequential": [
            [
             0,
             "#0d0887"
            ],
            [
             0.1111111111111111,
             "#46039f"
            ],
            [
             0.2222222222222222,
             "#7201a8"
            ],
            [
             0.3333333333333333,
             "#9c179e"
            ],
            [
             0.4444444444444444,
             "#bd3786"
            ],
            [
             0.5555555555555556,
             "#d8576b"
            ],
            [
             0.6666666666666666,
             "#ed7953"
            ],
            [
             0.7777777777777778,
             "#fb9f3a"
            ],
            [
             0.8888888888888888,
             "#fdca26"
            ],
            [
             1,
             "#f0f921"
            ]
           ],
           "sequentialminus": [
            [
             0,
             "#0d0887"
            ],
            [
             0.1111111111111111,
             "#46039f"
            ],
            [
             0.2222222222222222,
             "#7201a8"
            ],
            [
             0.3333333333333333,
             "#9c179e"
            ],
            [
             0.4444444444444444,
             "#bd3786"
            ],
            [
             0.5555555555555556,
             "#d8576b"
            ],
            [
             0.6666666666666666,
             "#ed7953"
            ],
            [
             0.7777777777777778,
             "#fb9f3a"
            ],
            [
             0.8888888888888888,
             "#fdca26"
            ],
            [
             1,
             "#f0f921"
            ]
           ]
          },
          "colorway": [
           "#636efa",
           "#EF553B",
           "#00cc96",
           "#ab63fa",
           "#FFA15A",
           "#19d3f3",
           "#FF6692",
           "#B6E880",
           "#FF97FF",
           "#FECB52"
          ],
          "font": {
           "color": "#2a3f5f"
          },
          "geo": {
           "bgcolor": "white",
           "lakecolor": "white",
           "landcolor": "#E5ECF6",
           "showlakes": true,
           "showland": true,
           "subunitcolor": "white"
          },
          "hoverlabel": {
           "align": "left"
          },
          "hovermode": "closest",
          "mapbox": {
           "style": "light"
          },
          "paper_bgcolor": "white",
          "plot_bgcolor": "#E5ECF6",
          "polar": {
           "angularaxis": {
            "gridcolor": "white",
            "linecolor": "white",
            "ticks": ""
           },
           "bgcolor": "#E5ECF6",
           "radialaxis": {
            "gridcolor": "white",
            "linecolor": "white",
            "ticks": ""
           }
          },
          "scene": {
           "xaxis": {
            "backgroundcolor": "#E5ECF6",
            "gridcolor": "white",
            "gridwidth": 2,
            "linecolor": "white",
            "showbackground": true,
            "ticks": "",
            "zerolinecolor": "white"
           },
           "yaxis": {
            "backgroundcolor": "#E5ECF6",
            "gridcolor": "white",
            "gridwidth": 2,
            "linecolor": "white",
            "showbackground": true,
            "ticks": "",
            "zerolinecolor": "white"
           },
           "zaxis": {
            "backgroundcolor": "#E5ECF6",
            "gridcolor": "white",
            "gridwidth": 2,
            "linecolor": "white",
            "showbackground": true,
            "ticks": "",
            "zerolinecolor": "white"
           }
          },
          "shapedefaults": {
           "line": {
            "color": "#2a3f5f"
           }
          },
          "ternary": {
           "aaxis": {
            "gridcolor": "white",
            "linecolor": "white",
            "ticks": ""
           },
           "baxis": {
            "gridcolor": "white",
            "linecolor": "white",
            "ticks": ""
           },
           "bgcolor": "#E5ECF6",
           "caxis": {
            "gridcolor": "white",
            "linecolor": "white",
            "ticks": ""
           }
          },
          "title": {
           "x": 0.05
          },
          "xaxis": {
           "automargin": true,
           "gridcolor": "white",
           "linecolor": "white",
           "ticks": "",
           "title": {
            "standoff": 15
           },
           "zerolinecolor": "white",
           "zerolinewidth": 2
          },
          "yaxis": {
           "automargin": true,
           "gridcolor": "white",
           "linecolor": "white",
           "ticks": "",
           "title": {
            "standoff": 15
           },
           "zerolinecolor": "white",
           "zerolinewidth": 2
          }
         }
        },
        "title": {
         "text": "Confusion Matrix for 3 Classes"
        },
        "xaxis": {
         "title": {
          "text": "Predicted Label"
         }
        },
        "yaxis": {
         "title": {
          "text": "True Label"
         }
        }
       }
      }
     },
     "metadata": {},
     "output_type": "display_data"
    }
   ],
   "source": [
    "import plotly.graph_objects as go\n",
    "\n",
    "class_names = ['Negative', 'Natural', 'Positive']\n",
    "\n",
    "fig = go.Figure(data=go.Heatmap(\n",
    "        z=conf_matrix,\n",
    "        x=[f'Predicted {label}' for label in class_names],  # predicted labels\n",
    "        y=[f'Actual {label}' for label in class_names],  # actual labels\n",
    "        hoverongaps=False,\n",
    "        colorscale='Blues'  # Customize colorscale as needed\n",
    "    ))\n",
    "\n",
    "# Update layout for better readability\n",
    "fig.update_layout(\n",
    "    title='Confusion Matrix for 3 Classes',\n",
    "    xaxis_title='Predicted Label',\n",
    "    yaxis_title='True Label',\n",
    "    font=dict(size=14)\n",
    ")\n",
    "\n",
    "# Show the plot\n",
    "fig.show()"
   ]
  },
  {
   "cell_type": "code",
   "execution_count": 67,
   "metadata": {},
   "outputs": [],
   "source": [
    "redicted_df = pd.DataFrame({'predicted': lstm_preds}, index=y_val.index)\n",
    "    \n",
    "    # Concatenate y_val and the new predicted_df to create a new DataFrame\n",
    "predict_df = pd.concat([y_val, redicted_df], axis=1)"
   ]
  },
  {
   "cell_type": "code",
   "execution_count": 68,
   "metadata": {},
   "outputs": [
    {
     "data": {
      "text/html": [
       "<div>\n",
       "<style scoped>\n",
       "    .dataframe tbody tr th:only-of-type {\n",
       "        vertical-align: middle;\n",
       "    }\n",
       "\n",
       "    .dataframe tbody tr th {\n",
       "        vertical-align: top;\n",
       "    }\n",
       "\n",
       "    .dataframe thead th {\n",
       "        text-align: right;\n",
       "    }\n",
       "</style>\n",
       "<table border=\"1\" class=\"dataframe\">\n",
       "  <thead>\n",
       "    <tr style=\"text-align: right;\">\n",
       "      <th></th>\n",
       "      <th>sentiment</th>\n",
       "      <th>predicted</th>\n",
       "    </tr>\n",
       "  </thead>\n",
       "  <tbody>\n",
       "    <tr>\n",
       "      <th>5688</th>\n",
       "      <td>1</td>\n",
       "      <td>1</td>\n",
       "    </tr>\n",
       "    <tr>\n",
       "      <th>12728</th>\n",
       "      <td>1</td>\n",
       "      <td>1</td>\n",
       "    </tr>\n",
       "    <tr>\n",
       "      <th>4096</th>\n",
       "      <td>2</td>\n",
       "      <td>2</td>\n",
       "    </tr>\n",
       "    <tr>\n",
       "      <th>10216</th>\n",
       "      <td>1</td>\n",
       "      <td>1</td>\n",
       "    </tr>\n",
       "    <tr>\n",
       "      <th>2848</th>\n",
       "      <td>1</td>\n",
       "      <td>1</td>\n",
       "    </tr>\n",
       "    <tr>\n",
       "      <th>...</th>\n",
       "      <td>...</td>\n",
       "      <td>...</td>\n",
       "    </tr>\n",
       "    <tr>\n",
       "      <th>6870</th>\n",
       "      <td>1</td>\n",
       "      <td>1</td>\n",
       "    </tr>\n",
       "    <tr>\n",
       "      <th>6933</th>\n",
       "      <td>1</td>\n",
       "      <td>1</td>\n",
       "    </tr>\n",
       "    <tr>\n",
       "      <th>5664</th>\n",
       "      <td>1</td>\n",
       "      <td>1</td>\n",
       "    </tr>\n",
       "    <tr>\n",
       "      <th>973</th>\n",
       "      <td>1</td>\n",
       "      <td>1</td>\n",
       "    </tr>\n",
       "    <tr>\n",
       "      <th>12999</th>\n",
       "      <td>0</td>\n",
       "      <td>0</td>\n",
       "    </tr>\n",
       "  </tbody>\n",
       "</table>\n",
       "<p>4221 rows × 2 columns</p>\n",
       "</div>"
      ],
      "text/plain": [
       "       sentiment  predicted\n",
       "5688           1          1\n",
       "12728          1          1\n",
       "4096           2          2\n",
       "10216          1          1\n",
       "2848           1          1\n",
       "...          ...        ...\n",
       "6870           1          1\n",
       "6933           1          1\n",
       "5664           1          1\n",
       "973            1          1\n",
       "12999          0          0\n",
       "\n",
       "[4221 rows x 2 columns]"
      ]
     },
     "execution_count": 68,
     "metadata": {},
     "output_type": "execute_result"
    }
   ],
   "source": [
    "predict_df"
   ]
  },
  {
   "cell_type": "code",
   "execution_count": 54,
   "metadata": {},
   "outputs": [],
   "source": [
    "valid_y_val = predict_df.loc[predict_df.index.isin(review_df.index)]\n",
    "\n",
    "# Now you can safely use .loc with valid_y_val indices\n",
    "filtered_reviews = review_df.loc[valid_y_val.index]"
   ]
  },
  {
   "cell_type": "code",
   "execution_count": 55,
   "metadata": {},
   "outputs": [
    {
     "data": {
      "text/html": [
       "<div>\n",
       "<style scoped>\n",
       "    .dataframe tbody tr th:only-of-type {\n",
       "        vertical-align: middle;\n",
       "    }\n",
       "\n",
       "    .dataframe tbody tr th {\n",
       "        vertical-align: top;\n",
       "    }\n",
       "\n",
       "    .dataframe thead th {\n",
       "        text-align: right;\n",
       "    }\n",
       "</style>\n",
       "<table border=\"1\" class=\"dataframe\">\n",
       "  <thead>\n",
       "    <tr style=\"text-align: right;\">\n",
       "      <th></th>\n",
       "      <th>helpful_votes</th>\n",
       "      <th>location_id</th>\n",
       "      <th>review_id</th>\n",
       "      <th>review</th>\n",
       "      <th>review_subject</th>\n",
       "      <th>trip_type</th>\n",
       "      <th>rating</th>\n",
       "      <th>location_name</th>\n",
       "      <th>province</th>\n",
       "      <th>place_id</th>\n",
       "      <th>emotion</th>\n",
       "      <th>cleaned_review</th>\n",
       "    </tr>\n",
       "  </thead>\n",
       "  <tbody>\n",
       "    <tr>\n",
       "      <th>5688</th>\n",
       "      <td>0</td>\n",
       "      <td>15709019</td>\n",
       "      <td>842778540</td>\n",
       "      <td>Had my 50th birthday here, paid for a VIP area...</td>\n",
       "      <td>50th Birthday Night Out</td>\n",
       "      <td>Friends getaway</td>\n",
       "      <td>5</td>\n",
       "      <td>Sugar Club Phuket</td>\n",
       "      <td>Samut Prakan</td>\n",
       "      <td>P03018341</td>\n",
       "      <td>joy</td>\n",
       "      <td>&lt;OOV&gt; &lt;OOV&gt; 50th birthday &lt;OOV&gt; paid &lt;OOV&gt; &lt;OO...</td>\n",
       "    </tr>\n",
       "    <tr>\n",
       "      <th>4096</th>\n",
       "      <td>2</td>\n",
       "      <td>7797850</td>\n",
       "      <td>778052913</td>\n",
       "      <td>There are so many things to see her. Although ...</td>\n",
       "      <td>Modern, fun and interesting</td>\n",
       "      <td>NONE</td>\n",
       "      <td>5</td>\n",
       "      <td>Wat  Pahuaylad Temple</td>\n",
       "      <td>Phetchabun</td>\n",
       "      <td>P03014669</td>\n",
       "      <td>joy</td>\n",
       "      <td>&lt;OOV&gt; &lt;OOV&gt; &lt;OOV&gt; many things &lt;OOV&gt; see &lt;OOV&gt; ...</td>\n",
       "    </tr>\n",
       "    <tr>\n",
       "      <th>2848</th>\n",
       "      <td>6</td>\n",
       "      <td>3646467</td>\n",
       "      <td>946794528</td>\n",
       "      <td>This is the first place for me to actually vis...</td>\n",
       "      <td>The Wat I visited first and the first Thai wor...</td>\n",
       "      <td>Solo travel</td>\n",
       "      <td>5</td>\n",
       "      <td>Wat Pathum Wanaram</td>\n",
       "      <td>Nakhon Nayok</td>\n",
       "      <td>P03011368</td>\n",
       "      <td>joy</td>\n",
       "      <td>&lt;OOV&gt; &lt;OOV&gt; &lt;OOV&gt; first place &lt;OOV&gt; &lt;OOV&gt; &lt;OOV...</td>\n",
       "    </tr>\n",
       "    <tr>\n",
       "      <th>4843</th>\n",
       "      <td>2</td>\n",
       "      <td>4743290</td>\n",
       "      <td>721908990</td>\n",
       "      <td>I took a tuk tuk from hotel near Railway Stati...</td>\n",
       "      <td>Worth a Look</td>\n",
       "      <td>NONE</td>\n",
       "      <td>3</td>\n",
       "      <td>City Pillar Shrine (Udon Thani)</td>\n",
       "      <td>Bangkok</td>\n",
       "      <td>P03013204</td>\n",
       "      <td>joy</td>\n",
       "      <td>&lt;OOV&gt; took &lt;OOV&gt; tuk tuk &lt;OOV&gt; hotel near rail...</td>\n",
       "    </tr>\n",
       "    <tr>\n",
       "      <th>4653</th>\n",
       "      <td>2</td>\n",
       "      <td>669532</td>\n",
       "      <td>923163471</td>\n",
       "      <td>The animals are in tiny enclosures. \\nGolf car...</td>\n",
       "      <td>Don’t go</td>\n",
       "      <td>Family</td>\n",
       "      <td>1</td>\n",
       "      <td>Khao Kheow Open Zoo</td>\n",
       "      <td>Bangkok</td>\n",
       "      <td>P03013450</td>\n",
       "      <td>joy</td>\n",
       "      <td>&lt;OOV&gt; animals &lt;OOV&gt; &lt;OOV&gt; tiny enclosures golf...</td>\n",
       "    </tr>\n",
       "    <tr>\n",
       "      <th>...</th>\n",
       "      <td>...</td>\n",
       "      <td>...</td>\n",
       "      <td>...</td>\n",
       "      <td>...</td>\n",
       "      <td>...</td>\n",
       "      <td>...</td>\n",
       "      <td>...</td>\n",
       "      <td>...</td>\n",
       "      <td>...</td>\n",
       "      <td>...</td>\n",
       "      <td>...</td>\n",
       "      <td>...</td>\n",
       "    </tr>\n",
       "    <tr>\n",
       "      <th>5328</th>\n",
       "      <td>0</td>\n",
       "      <td>456166</td>\n",
       "      <td>638095869</td>\n",
       "      <td>It looks like many Thai are motivated to do sp...</td>\n",
       "      <td>Like a pleasant garden</td>\n",
       "      <td>Solo travel</td>\n",
       "      <td>4</td>\n",
       "      <td>Romaneenart Park</td>\n",
       "      <td>Bangkok</td>\n",
       "      <td>P03013454</td>\n",
       "      <td>joy</td>\n",
       "      <td>&lt;OOV&gt; looks like many thai &lt;OOV&gt; motivated &lt;OO...</td>\n",
       "    </tr>\n",
       "    <tr>\n",
       "      <th>5304</th>\n",
       "      <td>0</td>\n",
       "      <td>1639475</td>\n",
       "      <td>946727651</td>\n",
       "      <td>This museum showcased the history and culture ...</td>\n",
       "      <td>Interesting to learn about the history and cul...</td>\n",
       "      <td>Couples</td>\n",
       "      <td>5</td>\n",
       "      <td>Chiang Mai City Arts and Cultural Centre</td>\n",
       "      <td>Bangkok</td>\n",
       "      <td>P03013459</td>\n",
       "      <td>joy</td>\n",
       "      <td>&lt;OOV&gt; museum showcased &lt;OOV&gt; history &lt;OOV&gt; cul...</td>\n",
       "    </tr>\n",
       "    <tr>\n",
       "      <th>5397</th>\n",
       "      <td>0</td>\n",
       "      <td>4322638</td>\n",
       "      <td>723387240</td>\n",
       "      <td>Whilst the Chedi itself is am impressive struc...</td>\n",
       "      <td>Getting here is what makes it most interesting</td>\n",
       "      <td>Couples</td>\n",
       "      <td>4</td>\n",
       "      <td>Phra Samut Chedi</td>\n",
       "      <td>Samut Prakan</td>\n",
       "      <td>P03013499</td>\n",
       "      <td>joy</td>\n",
       "      <td>whilst &lt;OOV&gt; chedi &lt;OOV&gt; &lt;OOV&gt; &lt;OOV&gt; impressiv...</td>\n",
       "    </tr>\n",
       "    <tr>\n",
       "      <th>5664</th>\n",
       "      <td>0</td>\n",
       "      <td>14170166</td>\n",
       "      <td>883289021</td>\n",
       "      <td>Pirate tour\\n\\nMy husband booked this tour bef...</td>\n",
       "      <td>Great snorkelling experience</td>\n",
       "      <td>NONE</td>\n",
       "      <td>4</td>\n",
       "      <td>Phi Phi Island Boat Tours</td>\n",
       "      <td>Samut Prakan</td>\n",
       "      <td>P03018472</td>\n",
       "      <td>anger</td>\n",
       "      <td>pirate tour &lt;OOV&gt; husband booked &lt;OOV&gt; tour &lt;O...</td>\n",
       "    </tr>\n",
       "    <tr>\n",
       "      <th>973</th>\n",
       "      <td>0</td>\n",
       "      <td>6017599</td>\n",
       "      <td>873198421</td>\n",
       "      <td>What incredible architecture, absolutely beaut...</td>\n",
       "      <td>Beautiful</td>\n",
       "      <td>Solo travel</td>\n",
       "      <td>5</td>\n",
       "      <td>Wat Kaew Ko Wararam</td>\n",
       "      <td>Pathum Thani</td>\n",
       "      <td>P03013522</td>\n",
       "      <td>joy</td>\n",
       "      <td>&lt;OOV&gt; incredible architecture absolutely well ...</td>\n",
       "    </tr>\n",
       "  </tbody>\n",
       "</table>\n",
       "<p>1784 rows × 12 columns</p>\n",
       "</div>"
      ],
      "text/plain": [
       "      helpful_votes  location_id  review_id  \\\n",
       "5688              0     15709019  842778540   \n",
       "4096              2      7797850  778052913   \n",
       "2848              6      3646467  946794528   \n",
       "4843              2      4743290  721908990   \n",
       "4653              2       669532  923163471   \n",
       "...             ...          ...        ...   \n",
       "5328              0       456166  638095869   \n",
       "5304              0      1639475  946727651   \n",
       "5397              0      4322638  723387240   \n",
       "5664              0     14170166  883289021   \n",
       "973               0      6017599  873198421   \n",
       "\n",
       "                                                 review  \\\n",
       "5688  Had my 50th birthday here, paid for a VIP area...   \n",
       "4096  There are so many things to see her. Although ...   \n",
       "2848  This is the first place for me to actually vis...   \n",
       "4843  I took a tuk tuk from hotel near Railway Stati...   \n",
       "4653  The animals are in tiny enclosures. \\nGolf car...   \n",
       "...                                                 ...   \n",
       "5328  It looks like many Thai are motivated to do sp...   \n",
       "5304  This museum showcased the history and culture ...   \n",
       "5397  Whilst the Chedi itself is am impressive struc...   \n",
       "5664  Pirate tour\\n\\nMy husband booked this tour bef...   \n",
       "973   What incredible architecture, absolutely beaut...   \n",
       "\n",
       "                                         review_subject        trip_type  \\\n",
       "5688                            50th Birthday Night Out  Friends getaway   \n",
       "4096                        Modern, fun and interesting             NONE   \n",
       "2848  The Wat I visited first and the first Thai wor...      Solo travel   \n",
       "4843                                       Worth a Look             NONE   \n",
       "4653                                           Don’t go           Family   \n",
       "...                                                 ...              ...   \n",
       "5328                             Like a pleasant garden      Solo travel   \n",
       "5304  Interesting to learn about the history and cul...          Couples   \n",
       "5397     Getting here is what makes it most interesting          Couples   \n",
       "5664                      Great snorkelling experience              NONE   \n",
       "973                                           Beautiful      Solo travel   \n",
       "\n",
       "      rating                             location_name      province  \\\n",
       "5688       5                         Sugar Club Phuket  Samut Prakan   \n",
       "4096       5                     Wat  Pahuaylad Temple    Phetchabun   \n",
       "2848       5                        Wat Pathum Wanaram  Nakhon Nayok   \n",
       "4843       3           City Pillar Shrine (Udon Thani)       Bangkok   \n",
       "4653       1                       Khao Kheow Open Zoo       Bangkok   \n",
       "...      ...                                       ...           ...   \n",
       "5328       4                          Romaneenart Park       Bangkok   \n",
       "5304       5  Chiang Mai City Arts and Cultural Centre       Bangkok   \n",
       "5397       4                          Phra Samut Chedi  Samut Prakan   \n",
       "5664       4                 Phi Phi Island Boat Tours  Samut Prakan   \n",
       "973        5                       Wat Kaew Ko Wararam  Pathum Thani   \n",
       "\n",
       "       place_id emotion                                     cleaned_review  \n",
       "5688  P03018341     joy  <OOV> <OOV> 50th birthday <OOV> paid <OOV> <OO...  \n",
       "4096  P03014669     joy  <OOV> <OOV> <OOV> many things <OOV> see <OOV> ...  \n",
       "2848  P03011368     joy  <OOV> <OOV> <OOV> first place <OOV> <OOV> <OOV...  \n",
       "4843  P03013204     joy  <OOV> took <OOV> tuk tuk <OOV> hotel near rail...  \n",
       "4653  P03013450     joy  <OOV> animals <OOV> <OOV> tiny enclosures golf...  \n",
       "...         ...     ...                                                ...  \n",
       "5328  P03013454     joy  <OOV> looks like many thai <OOV> motivated <OO...  \n",
       "5304  P03013459     joy  <OOV> museum showcased <OOV> history <OOV> cul...  \n",
       "5397  P03013499     joy  whilst <OOV> chedi <OOV> <OOV> <OOV> impressiv...  \n",
       "5664  P03018472   anger  pirate tour <OOV> husband booked <OOV> tour <O...  \n",
       "973   P03013522     joy  <OOV> incredible architecture absolutely well ...  \n",
       "\n",
       "[1784 rows x 12 columns]"
      ]
     },
     "execution_count": 55,
     "metadata": {},
     "output_type": "execute_result"
    }
   ],
   "source": [
    "filtered_reviews"
   ]
  },
  {
   "cell_type": "code",
   "execution_count": 56,
   "metadata": {},
   "outputs": [
    {
     "data": {
      "text/html": [
       "<div>\n",
       "<style scoped>\n",
       "    .dataframe tbody tr th:only-of-type {\n",
       "        vertical-align: middle;\n",
       "    }\n",
       "\n",
       "    .dataframe tbody tr th {\n",
       "        vertical-align: top;\n",
       "    }\n",
       "\n",
       "    .dataframe thead th {\n",
       "        text-align: right;\n",
       "    }\n",
       "</style>\n",
       "<table border=\"1\" class=\"dataframe\">\n",
       "  <thead>\n",
       "    <tr style=\"text-align: right;\">\n",
       "      <th></th>\n",
       "      <th>location_id</th>\n",
       "      <th>location_name</th>\n",
       "      <th>trip_type</th>\n",
       "      <th>rating</th>\n",
       "      <th>helpful_voting</th>\n",
       "      <th>review_text</th>\n",
       "      <th>actual_sentiment</th>\n",
       "      <th>predicted_sentiment</th>\n",
       "      <th>place_id</th>\n",
       "      <th>place_name</th>\n",
       "      <th>emotion</th>\n",
       "      <th>review_id</th>\n",
       "    </tr>\n",
       "  </thead>\n",
       "  <tbody>\n",
       "    <tr>\n",
       "      <th>14049</th>\n",
       "      <td>NaN</td>\n",
       "      <td>NaN</td>\n",
       "      <td>NaN</td>\n",
       "      <td>NaN</td>\n",
       "      <td>NaN</td>\n",
       "      <td>NaN</td>\n",
       "      <td>2</td>\n",
       "      <td>0</td>\n",
       "      <td>NaN</td>\n",
       "      <td>NaN</td>\n",
       "      <td>NaN</td>\n",
       "      <td>NaN</td>\n",
       "    </tr>\n",
       "    <tr>\n",
       "      <th>14053</th>\n",
       "      <td>NaN</td>\n",
       "      <td>NaN</td>\n",
       "      <td>NaN</td>\n",
       "      <td>NaN</td>\n",
       "      <td>NaN</td>\n",
       "      <td>NaN</td>\n",
       "      <td>0</td>\n",
       "      <td>0</td>\n",
       "      <td>NaN</td>\n",
       "      <td>NaN</td>\n",
       "      <td>NaN</td>\n",
       "      <td>NaN</td>\n",
       "    </tr>\n",
       "    <tr>\n",
       "      <th>14057</th>\n",
       "      <td>NaN</td>\n",
       "      <td>NaN</td>\n",
       "      <td>NaN</td>\n",
       "      <td>NaN</td>\n",
       "      <td>NaN</td>\n",
       "      <td>NaN</td>\n",
       "      <td>2</td>\n",
       "      <td>2</td>\n",
       "      <td>NaN</td>\n",
       "      <td>NaN</td>\n",
       "      <td>NaN</td>\n",
       "      <td>NaN</td>\n",
       "    </tr>\n",
       "    <tr>\n",
       "      <th>14065</th>\n",
       "      <td>NaN</td>\n",
       "      <td>NaN</td>\n",
       "      <td>NaN</td>\n",
       "      <td>NaN</td>\n",
       "      <td>NaN</td>\n",
       "      <td>NaN</td>\n",
       "      <td>2</td>\n",
       "      <td>2</td>\n",
       "      <td>NaN</td>\n",
       "      <td>NaN</td>\n",
       "      <td>NaN</td>\n",
       "      <td>NaN</td>\n",
       "    </tr>\n",
       "    <tr>\n",
       "      <th>14066</th>\n",
       "      <td>NaN</td>\n",
       "      <td>NaN</td>\n",
       "      <td>NaN</td>\n",
       "      <td>NaN</td>\n",
       "      <td>NaN</td>\n",
       "      <td>NaN</td>\n",
       "      <td>1</td>\n",
       "      <td>1</td>\n",
       "      <td>NaN</td>\n",
       "      <td>NaN</td>\n",
       "      <td>NaN</td>\n",
       "      <td>NaN</td>\n",
       "    </tr>\n",
       "  </tbody>\n",
       "</table>\n",
       "</div>"
      ],
      "text/plain": [
       "       location_id location_name trip_type  rating  helpful_voting  \\\n",
       "14049          NaN           NaN       NaN     NaN             NaN   \n",
       "14053          NaN           NaN       NaN     NaN             NaN   \n",
       "14057          NaN           NaN       NaN     NaN             NaN   \n",
       "14065          NaN           NaN       NaN     NaN             NaN   \n",
       "14066          NaN           NaN       NaN     NaN             NaN   \n",
       "\n",
       "      review_text  actual_sentiment  predicted_sentiment place_id place_name  \\\n",
       "14049         NaN                 2                    0      NaN        NaN   \n",
       "14053         NaN                 0                    0      NaN        NaN   \n",
       "14057         NaN                 2                    2      NaN        NaN   \n",
       "14065         NaN                 2                    2      NaN        NaN   \n",
       "14066         NaN                 1                    1      NaN        NaN   \n",
       "\n",
       "      emotion  review_id  \n",
       "14049     NaN        NaN  \n",
       "14053     NaN        NaN  \n",
       "14057     NaN        NaN  \n",
       "14065     NaN        NaN  \n",
       "14066     NaN        NaN  "
      ]
     },
     "execution_count": 56,
     "metadata": {},
     "output_type": "execute_result"
    }
   ],
   "source": [
    "\n",
    "predictions_df = pd.DataFrame({\n",
    "    'location_id': filtered_reviews['location_id'],\n",
    "    'location_name': filtered_reviews['location_name'],\n",
    "    'trip_type': filtered_reviews['trip_type'],\n",
    "    'rating': filtered_reviews['rating'],\n",
    "    'helpful_voting': filtered_reviews['helpful_votes'],\n",
    "    'review_text': filtered_reviews['review'],  # Assuming X_test is a subset with a specific index\n",
    "    'actual_sentiment': predict_df['sentiment'],  # The actual sentiment labels\n",
    "    'predicted_sentiment': predict_df['predicted'], # The predicted sentiment labels\n",
    "    'place_id': filtered_reviews['place_id'],\n",
    "    'place_name': filtered_reviews['province'],\n",
    "    'emotion': filtered_reviews['emotion'],\n",
    "    'review_id': filtered_reviews['review_id']\n",
    "})\n",
    "\n",
    "# predictions_df['actual_sentiment'] = predictions_df['actual_sentiment'].map(label_mapping)\n",
    "# predictions_df['predicted_sentiment'] = predictions_df['predicted_sentiment'].map(label_mapping)\n",
    "\n",
    "predictions_df.tail(5)\n"
   ]
  },
  {
   "cell_type": "code",
   "execution_count": 57,
   "metadata": {},
   "outputs": [
    {
     "data": {
      "text/html": [
       "<div>\n",
       "<style scoped>\n",
       "    .dataframe tbody tr th:only-of-type {\n",
       "        vertical-align: middle;\n",
       "    }\n",
       "\n",
       "    .dataframe tbody tr th {\n",
       "        vertical-align: top;\n",
       "    }\n",
       "\n",
       "    .dataframe thead th {\n",
       "        text-align: right;\n",
       "    }\n",
       "</style>\n",
       "<table border=\"1\" class=\"dataframe\">\n",
       "  <thead>\n",
       "    <tr style=\"text-align: right;\">\n",
       "      <th></th>\n",
       "      <th>location_id</th>\n",
       "      <th>location_name</th>\n",
       "      <th>trip_type</th>\n",
       "      <th>rating</th>\n",
       "      <th>helpful_voting</th>\n",
       "      <th>review_text</th>\n",
       "      <th>actual_sentiment</th>\n",
       "      <th>predicted_sentiment</th>\n",
       "      <th>place_id</th>\n",
       "      <th>place_name</th>\n",
       "      <th>emotion</th>\n",
       "      <th>review_id</th>\n",
       "    </tr>\n",
       "  </thead>\n",
       "  <tbody>\n",
       "    <tr>\n",
       "      <th>0</th>\n",
       "      <td>2209612.0</td>\n",
       "      <td>Wat Ratchabophit</td>\n",
       "      <td>Family</td>\n",
       "      <td>5.0</td>\n",
       "      <td>0.0</td>\n",
       "      <td>Besides elegant grand palace and wat pra kaew ...</td>\n",
       "      <td>1</td>\n",
       "      <td>1</td>\n",
       "      <td>P03013220</td>\n",
       "      <td>Bangkok</td>\n",
       "      <td>joy</td>\n",
       "      <td>953596359.0</td>\n",
       "    </tr>\n",
       "    <tr>\n",
       "      <th>3</th>\n",
       "      <td>2209612.0</td>\n",
       "      <td>Wat Ratchabophit</td>\n",
       "      <td>Couples</td>\n",
       "      <td>5.0</td>\n",
       "      <td>0.0</td>\n",
       "      <td>Wat Ratchabophit is a Buddhist temple located ...</td>\n",
       "      <td>0</td>\n",
       "      <td>0</td>\n",
       "      <td>P03013220</td>\n",
       "      <td>Bangkok</td>\n",
       "      <td>joy</td>\n",
       "      <td>885904967.0</td>\n",
       "    </tr>\n",
       "    <tr>\n",
       "      <th>8</th>\n",
       "      <td>2273363.0</td>\n",
       "      <td>Wat Rajapradit Sathitmahasimaram Rajaworavihara</td>\n",
       "      <td>NONE</td>\n",
       "      <td>5.0</td>\n",
       "      <td>2.0</td>\n",
       "      <td>One of the least crowded temples but very beau...</td>\n",
       "      <td>0</td>\n",
       "      <td>0</td>\n",
       "      <td>P03013220</td>\n",
       "      <td>Bangkok</td>\n",
       "      <td>love</td>\n",
       "      <td>738692369.0</td>\n",
       "    </tr>\n",
       "    <tr>\n",
       "      <th>14</th>\n",
       "      <td>311043.0</td>\n",
       "      <td>Wat Phra Chetuphon</td>\n",
       "      <td>Couples</td>\n",
       "      <td>5.0</td>\n",
       "      <td>0.0</td>\n",
       "      <td>The designs, the Buddhas, and other figures fe...</td>\n",
       "      <td>2</td>\n",
       "      <td>2</td>\n",
       "      <td>P03013220</td>\n",
       "      <td>Bangkok</td>\n",
       "      <td>surprise</td>\n",
       "      <td>962482865.0</td>\n",
       "    </tr>\n",
       "    <tr>\n",
       "      <th>15</th>\n",
       "      <td>317504.0</td>\n",
       "      <td>Temple Of Dawn (Wat Arun)</td>\n",
       "      <td>Couples</td>\n",
       "      <td>5.0</td>\n",
       "      <td>0.0</td>\n",
       "      <td>Probably the best temple in Bangkok.. given th...</td>\n",
       "      <td>0</td>\n",
       "      <td>0</td>\n",
       "      <td>P03013220</td>\n",
       "      <td>Bangkok</td>\n",
       "      <td>joy</td>\n",
       "      <td>962528316.0</td>\n",
       "    </tr>\n",
       "    <tr>\n",
       "      <th>...</th>\n",
       "      <td>...</td>\n",
       "      <td>...</td>\n",
       "      <td>...</td>\n",
       "      <td>...</td>\n",
       "      <td>...</td>\n",
       "      <td>...</td>\n",
       "      <td>...</td>\n",
       "      <td>...</td>\n",
       "      <td>...</td>\n",
       "      <td>...</td>\n",
       "      <td>...</td>\n",
       "      <td>...</td>\n",
       "    </tr>\n",
       "    <tr>\n",
       "      <th>5900</th>\n",
       "      <td>7726805.0</td>\n",
       "      <td>Wat Prasat Temple</td>\n",
       "      <td>NONE</td>\n",
       "      <td>4.0</td>\n",
       "      <td>11.0</td>\n",
       "      <td>The size is not big. Pillars are well decorate...</td>\n",
       "      <td>2</td>\n",
       "      <td>2</td>\n",
       "      <td>P03013503</td>\n",
       "      <td>Nonthaburi</td>\n",
       "      <td>joy</td>\n",
       "      <td>877979960.0</td>\n",
       "    </tr>\n",
       "    <tr>\n",
       "      <th>5902</th>\n",
       "      <td>7726805.0</td>\n",
       "      <td>Wat Prasat Temple</td>\n",
       "      <td>Solo travel</td>\n",
       "      <td>5.0</td>\n",
       "      <td>1.0</td>\n",
       "      <td>Compared to the other temples in the local are...</td>\n",
       "      <td>2</td>\n",
       "      <td>2</td>\n",
       "      <td>P03013503</td>\n",
       "      <td>Nonthaburi</td>\n",
       "      <td>joy</td>\n",
       "      <td>658165922.0</td>\n",
       "    </tr>\n",
       "    <tr>\n",
       "      <th>5903</th>\n",
       "      <td>7726805.0</td>\n",
       "      <td>Wat Prasat Temple</td>\n",
       "      <td>Couples</td>\n",
       "      <td>4.0</td>\n",
       "      <td>0.0</td>\n",
       "      <td>Beautiful Lanna architecture and sacred Buddha...</td>\n",
       "      <td>1</td>\n",
       "      <td>1</td>\n",
       "      <td>P03013503</td>\n",
       "      <td>Nonthaburi</td>\n",
       "      <td>joy</td>\n",
       "      <td>591689577.0</td>\n",
       "    </tr>\n",
       "    <tr>\n",
       "      <th>5905</th>\n",
       "      <td>1831068.0</td>\n",
       "      <td>Prasat Puay Noi</td>\n",
       "      <td>NONE</td>\n",
       "      <td>3.0</td>\n",
       "      <td>4.0</td>\n",
       "      <td>Prasat Pueai Noi is claimed to be the biggest ...</td>\n",
       "      <td>1</td>\n",
       "      <td>1</td>\n",
       "      <td>P03013503</td>\n",
       "      <td>Nonthaburi</td>\n",
       "      <td>joy</td>\n",
       "      <td>752115552.0</td>\n",
       "    </tr>\n",
       "    <tr>\n",
       "      <th>5908</th>\n",
       "      <td>1831068.0</td>\n",
       "      <td>Prasat Puay Noi</td>\n",
       "      <td>Couples</td>\n",
       "      <td>4.0</td>\n",
       "      <td>0.0</td>\n",
       "      <td>Fully recommend this to the genuine history bu...</td>\n",
       "      <td>2</td>\n",
       "      <td>2</td>\n",
       "      <td>P03013503</td>\n",
       "      <td>Nonthaburi</td>\n",
       "      <td>joy</td>\n",
       "      <td>571939282.0</td>\n",
       "    </tr>\n",
       "  </tbody>\n",
       "</table>\n",
       "<p>1783 rows × 12 columns</p>\n",
       "</div>"
      ],
      "text/plain": [
       "      location_id                                    location_name  \\\n",
       "0       2209612.0                                 Wat Ratchabophit   \n",
       "3       2209612.0                                 Wat Ratchabophit   \n",
       "8       2273363.0  Wat Rajapradit Sathitmahasimaram Rajaworavihara   \n",
       "14       311043.0                               Wat Phra Chetuphon   \n",
       "15       317504.0                        Temple Of Dawn (Wat Arun)   \n",
       "...           ...                                              ...   \n",
       "5900    7726805.0                                Wat Prasat Temple   \n",
       "5902    7726805.0                                Wat Prasat Temple   \n",
       "5903    7726805.0                                Wat Prasat Temple   \n",
       "5905    1831068.0                                  Prasat Puay Noi   \n",
       "5908    1831068.0                                  Prasat Puay Noi   \n",
       "\n",
       "        trip_type  rating  helpful_voting  \\\n",
       "0          Family     5.0             0.0   \n",
       "3         Couples     5.0             0.0   \n",
       "8            NONE     5.0             2.0   \n",
       "14        Couples     5.0             0.0   \n",
       "15        Couples     5.0             0.0   \n",
       "...           ...     ...             ...   \n",
       "5900         NONE     4.0            11.0   \n",
       "5902  Solo travel     5.0             1.0   \n",
       "5903      Couples     4.0             0.0   \n",
       "5905         NONE     3.0             4.0   \n",
       "5908      Couples     4.0             0.0   \n",
       "\n",
       "                                            review_text  actual_sentiment  \\\n",
       "0     Besides elegant grand palace and wat pra kaew ...                 1   \n",
       "3     Wat Ratchabophit is a Buddhist temple located ...                 0   \n",
       "8     One of the least crowded temples but very beau...                 0   \n",
       "14    The designs, the Buddhas, and other figures fe...                 2   \n",
       "15    Probably the best temple in Bangkok.. given th...                 0   \n",
       "...                                                 ...               ...   \n",
       "5900  The size is not big. Pillars are well decorate...                 2   \n",
       "5902  Compared to the other temples in the local are...                 2   \n",
       "5903  Beautiful Lanna architecture and sacred Buddha...                 1   \n",
       "5905  Prasat Pueai Noi is claimed to be the biggest ...                 1   \n",
       "5908  Fully recommend this to the genuine history bu...                 2   \n",
       "\n",
       "      predicted_sentiment   place_id  place_name   emotion    review_id  \n",
       "0                       1  P03013220     Bangkok       joy  953596359.0  \n",
       "3                       0  P03013220     Bangkok       joy  885904967.0  \n",
       "8                       0  P03013220     Bangkok      love  738692369.0  \n",
       "14                      2  P03013220     Bangkok  surprise  962482865.0  \n",
       "15                      0  P03013220     Bangkok       joy  962528316.0  \n",
       "...                   ...        ...         ...       ...          ...  \n",
       "5900                    2  P03013503  Nonthaburi       joy  877979960.0  \n",
       "5902                    2  P03013503  Nonthaburi       joy  658165922.0  \n",
       "5903                    1  P03013503  Nonthaburi       joy  591689577.0  \n",
       "5905                    1  P03013503  Nonthaburi       joy  752115552.0  \n",
       "5908                    2  P03013503  Nonthaburi       joy  571939282.0  \n",
       "\n",
       "[1783 rows x 12 columns]"
      ]
     },
     "execution_count": 57,
     "metadata": {},
     "output_type": "execute_result"
    }
   ],
   "source": [
    "df_filtered = predictions_df.dropna()\n",
    "df_filtered"
   ]
  },
  {
   "cell_type": "code",
   "execution_count": 58,
   "metadata": {},
   "outputs": [],
   "source": [
    "df_filtered.to_csv('./output/LSTM_predictions.csv')"
   ]
  },
  {
   "cell_type": "code",
   "execution_count": 1,
   "metadata": {},
   "outputs": [
    {
     "ename": "NameError",
     "evalue": "name 'y_val' is not defined",
     "output_type": "error",
     "traceback": [
      "\u001b[0;31m---------------------------------------------------------------------------\u001b[0m",
      "\u001b[0;31mNameError\u001b[0m                                 Traceback (most recent call last)",
      "Cell \u001b[0;32mIn[1], line 1\u001b[0m\n\u001b[0;32m----> 1\u001b[0m y_val \u001b[38;5;241m=\u001b[39m \u001b[43my_val\u001b[49m\u001b[38;5;241m.\u001b[39mastype(\u001b[38;5;28mint\u001b[39m)\n\u001b[1;32m      2\u001b[0m ensemble_preds_class \u001b[38;5;241m=\u001b[39m df_filtered\u001b[38;5;241m.\u001b[39mastype(\u001b[38;5;28mint\u001b[39m)\n",
      "\u001b[0;31mNameError\u001b[0m: name 'y_val' is not defined"
     ]
    }
   ],
   "source": [
    "y_val = y_val.astype(int)\n",
    "ensemble_preds_class = df_filtered.astype(int)\n"
   ]
  },
  {
   "cell_type": "code",
   "execution_count": 51,
   "metadata": {},
   "outputs": [
    {
     "name": "stdout",
     "output_type": "stream",
     "text": [
      "(1723,)\n",
      "(1723,)\n"
     ]
    }
   ],
   "source": [
    "print(y_val.shape)            # Shape of y_val\n",
    "print(ensemble_preds.shape) "
   ]
  },
  {
   "cell_type": "code",
   "execution_count": 53,
   "metadata": {},
   "outputs": [
    {
     "ename": "NameError",
     "evalue": "name 'y_test' is not defined",
     "output_type": "error",
     "traceback": [
      "\u001b[0;31m---------------------------------------------------------------------------\u001b[0m",
      "\u001b[0;31mNameError\u001b[0m                                 Traceback (most recent call last)",
      "Cell \u001b[0;32mIn[53], line 7\u001b[0m\n\u001b[1;32m      2\u001b[0m \u001b[38;5;28;01mfrom\u001b[39;00m \u001b[38;5;21;01msklearn\u001b[39;00m\u001b[38;5;21;01m.\u001b[39;00m\u001b[38;5;21;01mpreprocessing\u001b[39;00m \u001b[38;5;28;01mimport\u001b[39;00m label_binarize\n\u001b[1;32m      4\u001b[0m \u001b[38;5;66;03m# Assume y_test contains true class labels, and y_pred_prob contains predicted probabilities\u001b[39;00m\n\u001b[1;32m      5\u001b[0m \n\u001b[1;32m      6\u001b[0m \u001b[38;5;66;03m# Binarize the output labels for calculating AUC\u001b[39;00m\n\u001b[0;32m----> 7\u001b[0m y_test_bin \u001b[38;5;241m=\u001b[39m label_binarize(\u001b[43my_test\u001b[49m, classes\u001b[38;5;241m=\u001b[39m[\u001b[38;5;241m0\u001b[39m, \u001b[38;5;241m1\u001b[39m, \u001b[38;5;241m2\u001b[39m])  \u001b[38;5;66;03m# Assuming 3 classes: 0, 1, 2\u001b[39;00m\n\u001b[1;32m      9\u001b[0m \u001b[38;5;66;03m# Calculate the AUC for each class\u001b[39;00m\n\u001b[1;32m     10\u001b[0m auc_macro \u001b[38;5;241m=\u001b[39m roc_auc_score(y_test_bin, y_pred_prob, average\u001b[38;5;241m=\u001b[39m\u001b[38;5;124m'\u001b[39m\u001b[38;5;124mmacro\u001b[39m\u001b[38;5;124m'\u001b[39m, multi_class\u001b[38;5;241m=\u001b[39m\u001b[38;5;124m'\u001b[39m\u001b[38;5;124movr\u001b[39m\u001b[38;5;124m'\u001b[39m)\n",
      "\u001b[0;31mNameError\u001b[0m: name 'y_test' is not defined"
     ]
    }
   ],
   "source": [
    "from sklearn.metrics import roc_auc_score\n",
    "from sklearn.preprocessing import label_binarize\n",
    "\n",
    "# Assume y_test contains true class labels, and y_pred_prob contains predicted probabilities\n",
    "\n",
    "# Binarize the output labels for calculating AUC\n",
    "y_test_bin = label_binarize(y_test, classes=[0, 1, 2])  # Assuming 3 classes: 0, 1, 2\n",
    "\n",
    "# Calculate the AUC for each class\n",
    "auc_macro = roc_auc_score(y_test_bin, y_pred_prob, average='macro', multi_class='ovr')\n",
    "auc_micro = roc_auc_score(y_test_bin, y_pred_prob, average='micro', multi_class='ovr')\n",
    "\n",
    "print(f'Macro-Averaged AUC: {auc_macro:.4f}')\n",
    "print(f'Micro-Averaged AUC: {auc_micro:.4f}')"
   ]
  },
  {
   "cell_type": "code",
   "execution_count": 165,
   "metadata": {},
   "outputs": [
    {
     "name": "stdout",
     "output_type": "stream",
     "text": [
      "Log Loss: 0.7264\n"
     ]
    }
   ],
   "source": [
    "from sklearn.metrics import log_loss\n",
    "\n",
    "# Calculate log loss\n",
    "log_loss_value = log_loss(y_test, y_pred_prob)\n",
    "print(f'Log Loss: {log_loss_value:.4f}')"
   ]
  }
 ],
 "metadata": {
  "kernelspec": {
   "display_name": "is-project-thailand-tourism-recommendation-qwL-LsgH-py3.12",
   "language": "python",
   "name": "python3"
  },
  "language_info": {
   "codemirror_mode": {
    "name": "ipython",
    "version": 3
   },
   "file_extension": ".py",
   "mimetype": "text/x-python",
   "name": "python",
   "nbconvert_exporter": "python",
   "pygments_lexer": "ipython3",
   "version": "3.12.5"
  }
 },
 "nbformat": 4,
 "nbformat_minor": 2
}
