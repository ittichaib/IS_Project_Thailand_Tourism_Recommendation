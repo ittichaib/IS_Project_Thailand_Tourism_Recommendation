{
 "cells": [
  {
   "cell_type": "code",
   "execution_count": 99,
   "metadata": {},
   "outputs": [],
   "source": [
    "import os\n",
    "import pandas as pd\n",
    "import nltk\n",
    "import requests\n",
    "import string\n",
    "from gensim.models import Word2Vec, KeyedVectors\n",
    "import shutil\n",
    "import numpy as np\n",
    "import re\n",
    "from sklearn.model_selection import train_test_split\n",
    "from tensorflow.keras.models import Sequential\n",
    "from tensorflow.keras.layers import Embedding, GRU, Dense, Dropout, Attention, Concatenate\n",
    "from tensorflow.keras.preprocessing.sequence import pad_sequences\n",
    "from tensorflow.keras.preprocessing.text import Tokenizer\n",
    "from sklearn.metrics import accuracy_score, classification_report\n",
    "from tensorflow.keras.callbacks import EarlyStopping\n",
    "from tensorflow.keras.regularizers import l2\n",
    "import shap\n"
   ]
  },
  {
   "cell_type": "code",
   "execution_count": 100,
   "metadata": {},
   "outputs": [],
   "source": [
    "FINE_TUNED_DIR = '../../pretained_or_finetune-models'\n",
    "REVIEWS_DATASET_DIR = '../../dataset'\n",
    "UTILS_DIR = '../../utils'\n",
    "NLTK_DATA_PATH = f\"{FINE_TUNED_DIR}/nltk_data\"\n",
    "\n",
    "nltk.data.path.append(NLTK_DATA_PATH)"
   ]
  },
  {
   "cell_type": "code",
   "execution_count": 3,
   "metadata": {},
   "outputs": [],
   "source": [
    "tourism_reviews_en = pd.read_csv(f\"{REVIEWS_DATASET_DIR}/eng_reviews_emotion_classify.csv\", encoding='utf-8')\n",
    "\n",
    "columns_to_use = ['helpful_votes', 'location_id', 'review_id', 'review',\n",
    "                  'review_subject', 'trip_type', 'rating',\n",
    "                  'location_name', 'province', 'place_id', 'emotion', 'cleaned_review']\n",
    "columns_to_train = ['location_id', 'review', 'rating']\n",
    "review_df = tourism_reviews_en[columns_to_train]"
   ]
  },
  {
   "cell_type": "code",
   "execution_count": 4,
   "metadata": {},
   "outputs": [
    {
     "data": {
      "text/html": [
       "<div>\n",
       "<style scoped>\n",
       "    .dataframe tbody tr th:only-of-type {\n",
       "        vertical-align: middle;\n",
       "    }\n",
       "\n",
       "    .dataframe tbody tr th {\n",
       "        vertical-align: top;\n",
       "    }\n",
       "\n",
       "    .dataframe thead th {\n",
       "        text-align: right;\n",
       "    }\n",
       "</style>\n",
       "<table border=\"1\" class=\"dataframe\">\n",
       "  <thead>\n",
       "    <tr style=\"text-align: right;\">\n",
       "      <th></th>\n",
       "      <th>location_id</th>\n",
       "      <th>rating</th>\n",
       "    </tr>\n",
       "  </thead>\n",
       "  <tbody>\n",
       "    <tr>\n",
       "      <th>count</th>\n",
       "      <td>5.909000e+03</td>\n",
       "      <td>5909.000000</td>\n",
       "    </tr>\n",
       "    <tr>\n",
       "      <th>mean</th>\n",
       "      <td>6.483167e+06</td>\n",
       "      <td>4.153833</td>\n",
       "    </tr>\n",
       "    <tr>\n",
       "      <th>std</th>\n",
       "      <td>4.877561e+06</td>\n",
       "      <td>1.067077</td>\n",
       "    </tr>\n",
       "    <tr>\n",
       "      <th>min</th>\n",
       "      <td>3.110380e+05</td>\n",
       "      <td>1.000000</td>\n",
       "    </tr>\n",
       "    <tr>\n",
       "      <th>25%</th>\n",
       "      <td>2.578107e+06</td>\n",
       "      <td>4.000000</td>\n",
       "    </tr>\n",
       "    <tr>\n",
       "      <th>50%</th>\n",
       "      <td>6.017599e+06</td>\n",
       "      <td>4.000000</td>\n",
       "    </tr>\n",
       "    <tr>\n",
       "      <th>75%</th>\n",
       "      <td>8.818088e+06</td>\n",
       "      <td>5.000000</td>\n",
       "    </tr>\n",
       "    <tr>\n",
       "      <th>max</th>\n",
       "      <td>2.714283e+07</td>\n",
       "      <td>5.000000</td>\n",
       "    </tr>\n",
       "  </tbody>\n",
       "</table>\n",
       "</div>"
      ],
      "text/plain": [
       "        location_id       rating\n",
       "count  5.909000e+03  5909.000000\n",
       "mean   6.483167e+06     4.153833\n",
       "std    4.877561e+06     1.067077\n",
       "min    3.110380e+05     1.000000\n",
       "25%    2.578107e+06     4.000000\n",
       "50%    6.017599e+06     4.000000\n",
       "75%    8.818088e+06     5.000000\n",
       "max    2.714283e+07     5.000000"
      ]
     },
     "execution_count": 4,
     "metadata": {},
     "output_type": "execute_result"
    }
   ],
   "source": [
    "review_df.describe()"
   ]
  },
  {
   "cell_type": "code",
   "execution_count": 5,
   "metadata": {},
   "outputs": [
    {
     "name": "stdout",
     "output_type": "stream",
     "text": [
      "<class 'pandas.core.frame.DataFrame'>\n",
      "RangeIndex: 5909 entries, 0 to 5908\n",
      "Data columns (total 3 columns):\n",
      " #   Column       Non-Null Count  Dtype \n",
      "---  ------       --------------  ----- \n",
      " 0   location_id  5909 non-null   int64 \n",
      " 1   review       5909 non-null   object\n",
      " 2   rating       5909 non-null   int64 \n",
      "dtypes: int64(2), object(1)\n",
      "memory usage: 138.6+ KB\n"
     ]
    }
   ],
   "source": [
    "review_df.info()"
   ]
  },
  {
   "cell_type": "code",
   "execution_count": 97,
   "metadata": {},
   "outputs": [
    {
     "data": {
      "text/html": [
       "<div>\n",
       "<style scoped>\n",
       "    .dataframe tbody tr th:only-of-type {\n",
       "        vertical-align: middle;\n",
       "    }\n",
       "\n",
       "    .dataframe tbody tr th {\n",
       "        vertical-align: top;\n",
       "    }\n",
       "\n",
       "    .dataframe thead th {\n",
       "        text-align: right;\n",
       "    }\n",
       "</style>\n",
       "<table border=\"1\" class=\"dataframe\">\n",
       "  <thead>\n",
       "    <tr style=\"text-align: right;\">\n",
       "      <th></th>\n",
       "      <th>location_id</th>\n",
       "      <th>review</th>\n",
       "      <th>rating</th>\n",
       "      <th>cleaned_review</th>\n",
       "      <th>embedding</th>\n",
       "      <th>sentiment</th>\n",
       "    </tr>\n",
       "  </thead>\n",
       "  <tbody>\n",
       "    <tr>\n",
       "      <th>0</th>\n",
       "      <td>2209612</td>\n",
       "      <td>Besides elegant grand palace and wat pra kaew ...</td>\n",
       "      <td>5</td>\n",
       "      <td>besides elegant grand palace wat pra kaew emer...</td>\n",
       "      <td>[[-0.028509778901934624, 0.3325634002685547, 0...</td>\n",
       "      <td>positive</td>\n",
       "    </tr>\n",
       "    <tr>\n",
       "      <th>1</th>\n",
       "      <td>2209612</td>\n",
       "      <td>This is one of the last big king temples of Ba...</td>\n",
       "      <td>4</td>\n",
       "      <td>one last big king temple bangkok one lot europ...</td>\n",
       "      <td>[[-0.003996930085122585, 0.014730370603501797,...</td>\n",
       "      <td>positive</td>\n",
       "    </tr>\n",
       "    <tr>\n",
       "      <th>2</th>\n",
       "      <td>2209612</td>\n",
       "      <td>It is beautiful, clean and free to enter. Both...</td>\n",
       "      <td>4</td>\n",
       "      <td>beautiful clean free enter exterior interior s...</td>\n",
       "      <td>[[-0.028509778901934624, 0.3325634002685547, 0...</td>\n",
       "      <td>positive</td>\n",
       "    </tr>\n",
       "    <tr>\n",
       "      <th>3</th>\n",
       "      <td>2209612</td>\n",
       "      <td>Wat Ratchabophit is a Buddhist temple located ...</td>\n",
       "      <td>5</td>\n",
       "      <td>wat ratchabophit buddhist temple located fuean...</td>\n",
       "      <td>[[-0.0015841611893847585, 0.034438904374837875...</td>\n",
       "      <td>positive</td>\n",
       "    </tr>\n",
       "    <tr>\n",
       "      <th>4</th>\n",
       "      <td>2209612</td>\n",
       "      <td>Wat Ratchabophit is a historic royal temple bu...</td>\n",
       "      <td>5</td>\n",
       "      <td>wat ratchabophit historic royal temple built k...</td>\n",
       "      <td>[[-0.0015841611893847585, 0.034438904374837875...</td>\n",
       "      <td>positive</td>\n",
       "    </tr>\n",
       "    <tr>\n",
       "      <th>...</th>\n",
       "      <td>...</td>\n",
       "      <td>...</td>\n",
       "      <td>...</td>\n",
       "      <td>...</td>\n",
       "      <td>...</td>\n",
       "      <td>...</td>\n",
       "    </tr>\n",
       "    <tr>\n",
       "      <th>5904</th>\n",
       "      <td>1831068</td>\n",
       "      <td>Is quite far from Korat Town or main highway. ...</td>\n",
       "      <td>3</td>\n",
       "      <td>quite far korat town main highway beautiful bu...</td>\n",
       "      <td>[[0.0, 0.0, 0.0, 0.0, 0.0, 0.0, 0.0, 0.0, 0.0,...</td>\n",
       "      <td>neutral</td>\n",
       "    </tr>\n",
       "    <tr>\n",
       "      <th>5905</th>\n",
       "      <td>1831068</td>\n",
       "      <td>Prasat Pueai Noi is claimed to be the biggest ...</td>\n",
       "      <td>3</td>\n",
       "      <td>prasat pueai noi claimed biggest khmer sanctua...</td>\n",
       "      <td>[[-0.004209618084132671, 0.07795886695384979, ...</td>\n",
       "      <td>neutral</td>\n",
       "    </tr>\n",
       "    <tr>\n",
       "      <th>5906</th>\n",
       "      <td>1831068</td>\n",
       "      <td>I think this place is claimed to be the oldest...</td>\n",
       "      <td>4</td>\n",
       "      <td>think place claimed oldest khmerstyle ruin upp...</td>\n",
       "      <td>[[0.0, 0.0, 0.0, 0.0, 0.0, 0.0, 0.0, 0.0, 0.0,...</td>\n",
       "      <td>positive</td>\n",
       "    </tr>\n",
       "    <tr>\n",
       "      <th>5907</th>\n",
       "      <td>1831068</td>\n",
       "      <td>The compound comprises three brick buildings o...</td>\n",
       "      <td>4</td>\n",
       "      <td>compound comprises three brick building lateri...</td>\n",
       "      <td>[[-0.020202770829200745, 0.1382008045911789, 0...</td>\n",
       "      <td>positive</td>\n",
       "    </tr>\n",
       "    <tr>\n",
       "      <th>5908</th>\n",
       "      <td>1831068</td>\n",
       "      <td>Fully recommend this to the genuine history bu...</td>\n",
       "      <td>4</td>\n",
       "      <td>fully recommend genuine history buff tourist h...</td>\n",
       "      <td>[[-0.004105282481759787, 0.03240010887384415, ...</td>\n",
       "      <td>positive</td>\n",
       "    </tr>\n",
       "  </tbody>\n",
       "</table>\n",
       "<p>5909 rows × 6 columns</p>\n",
       "</div>"
      ],
      "text/plain": [
       "      location_id                                             review  rating  \\\n",
       "0         2209612  Besides elegant grand palace and wat pra kaew ...       5   \n",
       "1         2209612  This is one of the last big king temples of Ba...       4   \n",
       "2         2209612  It is beautiful, clean and free to enter. Both...       4   \n",
       "3         2209612  Wat Ratchabophit is a Buddhist temple located ...       5   \n",
       "4         2209612  Wat Ratchabophit is a historic royal temple bu...       5   \n",
       "...           ...                                                ...     ...   \n",
       "5904      1831068  Is quite far from Korat Town or main highway. ...       3   \n",
       "5905      1831068  Prasat Pueai Noi is claimed to be the biggest ...       3   \n",
       "5906      1831068  I think this place is claimed to be the oldest...       4   \n",
       "5907      1831068  The compound comprises three brick buildings o...       4   \n",
       "5908      1831068  Fully recommend this to the genuine history bu...       4   \n",
       "\n",
       "                                         cleaned_review  \\\n",
       "0     besides elegant grand palace wat pra kaew emer...   \n",
       "1     one last big king temple bangkok one lot europ...   \n",
       "2     beautiful clean free enter exterior interior s...   \n",
       "3     wat ratchabophit buddhist temple located fuean...   \n",
       "4     wat ratchabophit historic royal temple built k...   \n",
       "...                                                 ...   \n",
       "5904  quite far korat town main highway beautiful bu...   \n",
       "5905  prasat pueai noi claimed biggest khmer sanctua...   \n",
       "5906  think place claimed oldest khmerstyle ruin upp...   \n",
       "5907  compound comprises three brick building lateri...   \n",
       "5908  fully recommend genuine history buff tourist h...   \n",
       "\n",
       "                                              embedding sentiment  \n",
       "0     [[-0.028509778901934624, 0.3325634002685547, 0...  positive  \n",
       "1     [[-0.003996930085122585, 0.014730370603501797,...  positive  \n",
       "2     [[-0.028509778901934624, 0.3325634002685547, 0...  positive  \n",
       "3     [[-0.0015841611893847585, 0.034438904374837875...  positive  \n",
       "4     [[-0.0015841611893847585, 0.034438904374837875...  positive  \n",
       "...                                                 ...       ...  \n",
       "5904  [[0.0, 0.0, 0.0, 0.0, 0.0, 0.0, 0.0, 0.0, 0.0,...   neutral  \n",
       "5905  [[-0.004209618084132671, 0.07795886695384979, ...   neutral  \n",
       "5906  [[0.0, 0.0, 0.0, 0.0, 0.0, 0.0, 0.0, 0.0, 0.0,...  positive  \n",
       "5907  [[-0.020202770829200745, 0.1382008045911789, 0...  positive  \n",
       "5908  [[-0.004105282481759787, 0.03240010887384415, ...  positive  \n",
       "\n",
       "[5909 rows x 6 columns]"
      ]
     },
     "execution_count": 97,
     "metadata": {},
     "output_type": "execute_result"
    }
   ],
   "source": [
    "review_df"
   ]
  },
  {
   "cell_type": "code",
   "execution_count": 15,
   "metadata": {},
   "outputs": [],
   "source": [
    "binary_url = 'https://github.com/BrownDSI/word2vec-slim/releases/' + \\\n",
    "             'download/v0.1/GoogleNews-vectors-negative300-slim.bin.gz'\n",
    "r = requests.get(binary_url)\n",
    "open('google-word2vec-slim.bin.gz', 'wb').write(r.content);\n",
    "\n",
    "#Load model contrained abot 300k of vocabs\n",
    "model = KeyedVectors.load_word2vec_format('google-word2vec-slim.bin.gz', binary = True)"
   ]
  },
  {
   "cell_type": "code",
   "execution_count": 6,
   "metadata": {},
   "outputs": [
    {
     "name": "stdout",
     "output_type": "stream",
     "text": [
      "True\n"
     ]
    }
   ],
   "source": [
    "print(os.path.exists(f\"{NLTK_DATA_PATH}/tokenizers/punkt\")) "
   ]
  },
  {
   "cell_type": "code",
   "execution_count": null,
   "metadata": {},
   "outputs": [],
   "source": [
    "# 1. Data Preparation\n",
    "nltk.download ('all', download_dir=NLTK_DATA_PATH)"
   ]
  },
  {
   "cell_type": "code",
   "execution_count": 18,
   "metadata": {},
   "outputs": [
    {
     "data": {
      "text/plain": [
       "['Hello Mr. Smith, how are you doing today?',\n",
       " 'The weather is great and Python is awesome.',\n",
       " 'The sky is pinkish-blue.',\n",
       " 'You should not eat cardboard.']"
      ]
     },
     "execution_count": 18,
     "metadata": {},
     "output_type": "execute_result"
    }
   ],
   "source": [
    "from nltk.tokenize import word_tokenize, sent_tokenize\n",
    "text = \"Hello Mr. Smith, how are you doing today? The weather is great and Python is awesome. The sky is pinkish-blue. You should not eat cardboard.\"\n",
    "word_tokenize ( text )\n",
    "sent_tokenize ( text )"
   ]
  },
  {
   "cell_type": "code",
   "execution_count": 19,
   "metadata": {},
   "outputs": [],
   "source": [
    "from nltk.corpus import stopwords \n",
    "\n",
    "custom_stopwords = set(stopwords.words('english'))"
   ]
  },
  {
   "cell_type": "code",
   "execution_count": 9,
   "metadata": {},
   "outputs": [
    {
     "name": "stdout",
     "output_type": "stream",
     "text": [
      "/Users/ittichaiboonyarakthunya/nltk_data/tokenizers/punkt\n"
     ]
    }
   ],
   "source": [
    "print(nltk.data.find('tokenizers/punkt'))"
   ]
  },
  {
   "cell_type": "code",
   "execution_count": 10,
   "metadata": {},
   "outputs": [],
   "source": [
    "from nltk.stem import WordNetLemmatizer\n",
    "\n",
    "stop_words = custom_stopwords\n",
    "lemmatizer = WordNetLemmatizer()"
   ]
  },
  {
   "cell_type": "code",
   "execution_count": 64,
   "metadata": {},
   "outputs": [],
   "source": [
    "def advanced_clean_text(text):\n",
    "    text = text.lower()\n",
    "    text = re.sub(r'\\d+', '', text)  # Remove numbers\n",
    "    text = re.sub(r'[^a-z\\s]', '', text)  # Remove special characters\n",
    "    text = re.sub(r'\\b(u|ur|b4)\\b', 'you', text)  # Replace common abbreviations\n",
    "    words = word_tokenize(text)\n",
    "    words = [lemmatizer.lemmatize(word) for word in words if word not in stop_words]\n",
    "    words = [word for word in words if word not in string.punctuation]\n",
    "    return ' '.join(words)"
   ]
  },
  {
   "cell_type": "code",
   "execution_count": 70,
   "metadata": {},
   "outputs": [
    {
     "name": "stderr",
     "output_type": "stream",
     "text": [
      "/var/folders/fk/449tdf_12hzd2r7ps4659q0m0000gn/T/ipykernel_14225/2616607316.py:2: SettingWithCopyWarning: \n",
      "A value is trying to be set on a copy of a slice from a DataFrame.\n",
      "Try using .loc[row_indexer,col_indexer] = value instead\n",
      "\n",
      "See the caveats in the documentation: https://pandas.pydata.org/pandas-docs/stable/user_guide/indexing.html#returning-a-view-versus-a-copy\n",
      "  review_df['cleaned_review'] = review_df['review'].apply(advanced_clean_text)\n"
     ]
    }
   ],
   "source": [
    "# Apply preprocessing to the review texts\n",
    "review_df['cleaned_review'] = review_df['review'].apply(advanced_clean_text)\n",
    "\n",
    "# 2. สร้าง Word Embeddings ด้วย Word2Vec\n",
    "# word2vec_model = Word2Vec(sentences=review_df['cleaned_review'], vector_size=300, window=5, min_count=1, sg=1)  # ใช้ Skip-Gram\n",
    "sentences = [row.split() for row in review_df['cleaned_review']]\n",
    "word2vec_model = Word2Vec(sentences, vector_size=300, window=5, min_count=1, workers=4)  # เปลี่ยน vector_size เป็น 300\n",
    "\n"
   ]
  },
  {
   "cell_type": "code",
   "execution_count": 101,
   "metadata": {},
   "outputs": [
    {
     "data": {
      "text/html": [
       "<div>\n",
       "<style scoped>\n",
       "    .dataframe tbody tr th:only-of-type {\n",
       "        vertical-align: middle;\n",
       "    }\n",
       "\n",
       "    .dataframe tbody tr th {\n",
       "        vertical-align: top;\n",
       "    }\n",
       "\n",
       "    .dataframe thead th {\n",
       "        text-align: right;\n",
       "    }\n",
       "</style>\n",
       "<table border=\"1\" class=\"dataframe\">\n",
       "  <thead>\n",
       "    <tr style=\"text-align: right;\">\n",
       "      <th></th>\n",
       "      <th>location_id</th>\n",
       "      <th>review</th>\n",
       "      <th>rating</th>\n",
       "      <th>cleaned_review</th>\n",
       "      <th>embedding</th>\n",
       "      <th>sentiment</th>\n",
       "    </tr>\n",
       "  </thead>\n",
       "  <tbody>\n",
       "    <tr>\n",
       "      <th>0</th>\n",
       "      <td>2209612</td>\n",
       "      <td>Besides elegant grand palace and wat pra kaew ...</td>\n",
       "      <td>5</td>\n",
       "      <td>besides elegant grand palace wat pra kaew emer...</td>\n",
       "      <td>[[-0.028509778901934624, 0.3325634002685547, 0...</td>\n",
       "      <td>positive</td>\n",
       "    </tr>\n",
       "    <tr>\n",
       "      <th>1</th>\n",
       "      <td>2209612</td>\n",
       "      <td>This is one of the last big king temples of Ba...</td>\n",
       "      <td>4</td>\n",
       "      <td>one last big king temple bangkok one lot europ...</td>\n",
       "      <td>[[-0.003996930085122585, 0.014730370603501797,...</td>\n",
       "      <td>positive</td>\n",
       "    </tr>\n",
       "    <tr>\n",
       "      <th>2</th>\n",
       "      <td>2209612</td>\n",
       "      <td>It is beautiful, clean and free to enter. Both...</td>\n",
       "      <td>4</td>\n",
       "      <td>beautiful clean free enter exterior interior s...</td>\n",
       "      <td>[[-0.028509778901934624, 0.3325634002685547, 0...</td>\n",
       "      <td>positive</td>\n",
       "    </tr>\n",
       "    <tr>\n",
       "      <th>3</th>\n",
       "      <td>2209612</td>\n",
       "      <td>Wat Ratchabophit is a Buddhist temple located ...</td>\n",
       "      <td>5</td>\n",
       "      <td>wat ratchabophit buddhist temple located fuean...</td>\n",
       "      <td>[[-0.0015841611893847585, 0.034438904374837875...</td>\n",
       "      <td>positive</td>\n",
       "    </tr>\n",
       "    <tr>\n",
       "      <th>4</th>\n",
       "      <td>2209612</td>\n",
       "      <td>Wat Ratchabophit is a historic royal temple bu...</td>\n",
       "      <td>5</td>\n",
       "      <td>wat ratchabophit historic royal temple built k...</td>\n",
       "      <td>[[-0.0015841611893847585, 0.034438904374837875...</td>\n",
       "      <td>positive</td>\n",
       "    </tr>\n",
       "    <tr>\n",
       "      <th>...</th>\n",
       "      <td>...</td>\n",
       "      <td>...</td>\n",
       "      <td>...</td>\n",
       "      <td>...</td>\n",
       "      <td>...</td>\n",
       "      <td>...</td>\n",
       "    </tr>\n",
       "    <tr>\n",
       "      <th>5904</th>\n",
       "      <td>1831068</td>\n",
       "      <td>Is quite far from Korat Town or main highway. ...</td>\n",
       "      <td>3</td>\n",
       "      <td>quite far korat town main highway beautiful bu...</td>\n",
       "      <td>[[0.0, 0.0, 0.0, 0.0, 0.0, 0.0, 0.0, 0.0, 0.0,...</td>\n",
       "      <td>neutral</td>\n",
       "    </tr>\n",
       "    <tr>\n",
       "      <th>5905</th>\n",
       "      <td>1831068</td>\n",
       "      <td>Prasat Pueai Noi is claimed to be the biggest ...</td>\n",
       "      <td>3</td>\n",
       "      <td>prasat pueai noi claimed biggest khmer sanctua...</td>\n",
       "      <td>[[-0.004209618084132671, 0.07795886695384979, ...</td>\n",
       "      <td>neutral</td>\n",
       "    </tr>\n",
       "    <tr>\n",
       "      <th>5906</th>\n",
       "      <td>1831068</td>\n",
       "      <td>I think this place is claimed to be the oldest...</td>\n",
       "      <td>4</td>\n",
       "      <td>think place claimed oldest khmerstyle ruin upp...</td>\n",
       "      <td>[[0.0, 0.0, 0.0, 0.0, 0.0, 0.0, 0.0, 0.0, 0.0,...</td>\n",
       "      <td>positive</td>\n",
       "    </tr>\n",
       "    <tr>\n",
       "      <th>5907</th>\n",
       "      <td>1831068</td>\n",
       "      <td>The compound comprises three brick buildings o...</td>\n",
       "      <td>4</td>\n",
       "      <td>compound comprises three brick building lateri...</td>\n",
       "      <td>[[-0.020202770829200745, 0.1382008045911789, 0...</td>\n",
       "      <td>positive</td>\n",
       "    </tr>\n",
       "    <tr>\n",
       "      <th>5908</th>\n",
       "      <td>1831068</td>\n",
       "      <td>Fully recommend this to the genuine history bu...</td>\n",
       "      <td>4</td>\n",
       "      <td>fully recommend genuine history buff tourist h...</td>\n",
       "      <td>[[-0.004105282481759787, 0.03240010887384415, ...</td>\n",
       "      <td>positive</td>\n",
       "    </tr>\n",
       "  </tbody>\n",
       "</table>\n",
       "<p>5909 rows × 6 columns</p>\n",
       "</div>"
      ],
      "text/plain": [
       "      location_id                                             review  rating  \\\n",
       "0         2209612  Besides elegant grand palace and wat pra kaew ...       5   \n",
       "1         2209612  This is one of the last big king temples of Ba...       4   \n",
       "2         2209612  It is beautiful, clean and free to enter. Both...       4   \n",
       "3         2209612  Wat Ratchabophit is a Buddhist temple located ...       5   \n",
       "4         2209612  Wat Ratchabophit is a historic royal temple bu...       5   \n",
       "...           ...                                                ...     ...   \n",
       "5904      1831068  Is quite far from Korat Town or main highway. ...       3   \n",
       "5905      1831068  Prasat Pueai Noi is claimed to be the biggest ...       3   \n",
       "5906      1831068  I think this place is claimed to be the oldest...       4   \n",
       "5907      1831068  The compound comprises three brick buildings o...       4   \n",
       "5908      1831068  Fully recommend this to the genuine history bu...       4   \n",
       "\n",
       "                                         cleaned_review  \\\n",
       "0     besides elegant grand palace wat pra kaew emer...   \n",
       "1     one last big king temple bangkok one lot europ...   \n",
       "2     beautiful clean free enter exterior interior s...   \n",
       "3     wat ratchabophit buddhist temple located fuean...   \n",
       "4     wat ratchabophit historic royal temple built k...   \n",
       "...                                                 ...   \n",
       "5904  quite far korat town main highway beautiful bu...   \n",
       "5905  prasat pueai noi claimed biggest khmer sanctua...   \n",
       "5906  think place claimed oldest khmerstyle ruin upp...   \n",
       "5907  compound comprises three brick building lateri...   \n",
       "5908  fully recommend genuine history buff tourist h...   \n",
       "\n",
       "                                              embedding sentiment  \n",
       "0     [[-0.028509778901934624, 0.3325634002685547, 0...  positive  \n",
       "1     [[-0.003996930085122585, 0.014730370603501797,...  positive  \n",
       "2     [[-0.028509778901934624, 0.3325634002685547, 0...  positive  \n",
       "3     [[-0.0015841611893847585, 0.034438904374837875...  positive  \n",
       "4     [[-0.0015841611893847585, 0.034438904374837875...  positive  \n",
       "...                                                 ...       ...  \n",
       "5904  [[0.0, 0.0, 0.0, 0.0, 0.0, 0.0, 0.0, 0.0, 0.0,...   neutral  \n",
       "5905  [[-0.004209618084132671, 0.07795886695384979, ...   neutral  \n",
       "5906  [[0.0, 0.0, 0.0, 0.0, 0.0, 0.0, 0.0, 0.0, 0.0,...  positive  \n",
       "5907  [[-0.020202770829200745, 0.1382008045911789, 0...  positive  \n",
       "5908  [[-0.004105282481759787, 0.03240010887384415, ...  positive  \n",
       "\n",
       "[5909 rows x 6 columns]"
      ]
     },
     "execution_count": 101,
     "metadata": {},
     "output_type": "execute_result"
    }
   ],
   "source": [
    "review_df.to_csv(\"./review_df.csv\")\n",
    "review_df"
   ]
  },
  {
   "cell_type": "code",
   "execution_count": 76,
   "metadata": {},
   "outputs": [],
   "source": [
    "# Parameters\n",
    "embedding_dim = 300  # Assuming Word2Vec has 300 dimensions\n",
    "gru_units = 128\n",
    "dropout_rate = 0.5\n",
    "num_classes = 1  # Binary classification\n",
    "max_sequence_length = 100  # Maximum length of input sequences\n",
    "ngram_range = (1, 2)  # Unigrams and bigrams\n",
    "max_features = 20000  \n",
    "\n",
    "# Create the embedding matrix from the Word2Vec model\n",
    "word_index = {word: i for i, word in enumerate(word2vec_model.wv.index_to_key)}\n",
    "embedding_matrix = np.zeros((len(word_index) + 1, embedding_dim))"
   ]
  },
  {
   "cell_type": "code",
   "execution_count": 108,
   "metadata": {},
   "outputs": [
    {
     "name": "stderr",
     "output_type": "stream",
     "text": [
      "/var/folders/fk/449tdf_12hzd2r7ps4659q0m0000gn/T/ipykernel_14225/1367629667.py:9: SettingWithCopyWarning: \n",
      "A value is trying to be set on a copy of a slice from a DataFrame.\n",
      "Try using .loc[row_indexer,col_indexer] = value instead\n",
      "\n",
      "See the caveats in the documentation: https://pandas.pydata.org/pandas-docs/stable/user_guide/indexing.html#returning-a-view-versus-a-copy\n",
      "  review_df['embedding'] = review_df['cleaned_review'].apply(lambda x: text_to_word2vec(x, word2vec_model))\n"
     ]
    }
   ],
   "source": [
    "def text_to_word2vec(tokens, model, max_length=300):\n",
    "    vector = np.zeros((max_length, 300))\n",
    "    for i, word in enumerate(tokens):\n",
    "        if i < max_length:\n",
    "            if word in model.wv:\n",
    "                vector[i] = model.wv[word]\n",
    "    return vector\n",
    "\n",
    "review_df['embedding'] = review_df['cleaned_review'].apply(lambda x: text_to_word2vec(x, word2vec_model))\n"
   ]
  },
  {
   "cell_type": "code",
   "execution_count": 102,
   "metadata": {},
   "outputs": [
    {
     "name": "stderr",
     "output_type": "stream",
     "text": [
      "/var/folders/fk/449tdf_12hzd2r7ps4659q0m0000gn/T/ipykernel_14225/1027385966.py:9: SettingWithCopyWarning: \n",
      "A value is trying to be set on a copy of a slice from a DataFrame.\n",
      "Try using .loc[row_indexer,col_indexer] = value instead\n",
      "\n",
      "See the caveats in the documentation: https://pandas.pydata.org/pandas-docs/stable/user_guide/indexing.html#returning-a-view-versus-a-copy\n",
      "  review_df['sentiment'] = review_df['rating'].apply(map_rating_to_sentiment)\n"
     ]
    }
   ],
   "source": [
    "def map_rating_to_sentiment(rating):\n",
    "    if rating in [1, 2]:\n",
    "        return 'negative'\n",
    "    elif rating == 3:\n",
    "        return 'neutral'\n",
    "    else:  # 4 or 5\n",
    "        return 'positive'\n",
    "\n",
    "review_df['sentiment'] = review_df['rating'].apply(map_rating_to_sentiment)"
   ]
  },
  {
   "cell_type": "code",
   "execution_count": 124,
   "metadata": {},
   "outputs": [],
   "source": [
    "tokenizer = Tokenizer(num_words=max_features)\n",
    "tokenizer.fit_on_texts(review_df['cleaned_review'])\n",
    "\n",
    "X = tokenizer.texts_to_sequences(review_df['cleaned_review'])\n",
    "X = pad_sequences(X, maxlen=max_sequence_length)\n",
    "\n",
    "# แปลงคอลัมน์ 'sentiment' เป็นข้อมูลตัวเลข\n",
    "label_mapping = {'negative': 0, 'neutral': 1, 'positive': 2}\n",
    "y = review_df['sentiment'].map(label_mapping)"
   ]
  },
  {
   "cell_type": "code",
   "execution_count": 125,
   "metadata": {},
   "outputs": [],
   "source": [
    "X_train, X_test, y_train, y_test = train_test_split(X, y, test_size=0.2, random_state=42)\n",
    "\n",
    "# Further split the training+validation set into training and validation sets\n",
    "# X_train, X_val, y_train, y_val = train_test_split(X_train_val, y_train_val, test_size=0.25, random_state=42)\n"
   ]
  },
  {
   "cell_type": "code",
   "execution_count": 105,
   "metadata": {},
   "outputs": [
    {
     "name": "stdout",
     "output_type": "stream",
     "text": [
      "X_train shape: (4727, 100)\n",
      "y_train shape: (4727,)\n",
      "X_test shape: (1182, 100)\n",
      "y_test shape: (1182,)\n"
     ]
    }
   ],
   "source": [
    "# Check the shapes of the resulting arrays\n",
    "print(f\"X_train shape: {X_train.shape}\")\n",
    "print(f\"y_train shape: {y_train.shape}\")\n",
    "print(f\"X_test shape: {X_test.shape}\")\n",
    "print(f\"y_test shape: {y_test.shape}\")\n"
   ]
  },
  {
   "cell_type": "code",
   "execution_count": 106,
   "metadata": {},
   "outputs": [
    {
     "name": "stderr",
     "output_type": "stream",
     "text": [
      "/Users/ittichaiboonyarakthunya/Library/Caches/pypoetry/virtualenvs/is-project-thailand-tourism-recommendation-qwL-LsgH-py3.12/lib/python3.12/site-packages/keras/src/layers/core/embedding.py:90: UserWarning: Argument `input_length` is deprecated. Just remove it.\n",
      "  warnings.warn(\n"
     ]
    }
   ],
   "source": [
    "from sklearn.model_selection import train_test_split\n",
    "from tensorflow.keras.models import Sequential\n",
    "from tensorflow.keras.layers import Embedding, GRU, Dense, Dropout\n",
    "from tensorflow.keras.preprocessing.sequence import pad_sequences\n",
    "from tensorflow.keras.preprocessing.text import Tokenizer\n",
    "\n",
    "# Step 6: Build the GRU Model\n",
    "gru_units = 128\n",
    "dropout_rate = 0.5\n",
    "input_shape = X_train.shape[1:] \n",
    "\n",
    "model = Sequential()\n",
    "model.add(Embedding(input_dim=len(word_index) + 1,\n",
    "                    output_dim=embedding_dim,\n",
    "                    weights=[embedding_matrix],\n",
    "                    input_length=max_sequence_length,\n",
    "                    trainable=False))\n",
    "model.add(GRU(units=gru_units, return_sequences=True))\n",
    "model.add(Dropout(dropout_rate))\n",
    "model.add(GRU(units=gru_units))\n",
    "model.add(Dropout(dropout_rate))\n",
    "model.add(Dense(units=64, activation='relu'))\n",
    "model.add(Dense(units=3, activation='softmax'))   # 3 classes: negative, neutral, positive\n",
    "\n"
   ]
  },
  {
   "cell_type": "code",
   "execution_count": null,
   "metadata": {},
   "outputs": [],
   "source": [
    "word_index = tokenizer.word_index\n",
    "embedding_matrix = np.zeros((len(word_index) + 1, embedding_dim))\n",
    "\n",
    "for word, i in word_index.items():\n",
    "    if i < max_features:\n",
    "        embedding_vector = word2vec_model.wv.get(word)\n",
    "        if embedding_vector is not None:\n",
    "            embedding_matrix[i] = embedding_vector"
   ]
  },
  {
   "cell_type": "code",
   "execution_count": 183,
   "metadata": {},
   "outputs": [],
   "source": [
    "model.compile(optimizer='adam', loss='sparse_categorical_crossentropy', metrics=['accuracy'])\n"
   ]
  },
  {
   "cell_type": "code",
   "execution_count": 192,
   "metadata": {},
   "outputs": [
    {
     "name": "stdout",
     "output_type": "stream",
     "text": [
      "sentiment\n",
      "neutral     4689\n",
      "negative    4689\n",
      "positive    4689\n",
      "Name: count, dtype: int64\n"
     ]
    }
   ],
   "source": [
    "from sklearn.utils import resample\n",
    "\n",
    "# Assuming `review_df` is your original DataFrame with a 'sentiment' column\n",
    "\n",
    "# 1. Separate the data by class\n",
    "df_positive = review_df[review_df.sentiment == 'positive']\n",
    "df_neutral = review_df[review_df.sentiment == 'neutral']\n",
    "df_negative = review_df[review_df.sentiment == 'negative']\n",
    "\n",
    "# 2. Resample the minority classes\n",
    "# For example, oversample the neutral and negative classes to match the positive class\n",
    "df_neutral_upsampled = resample(df_neutral,\n",
    "                                replace=True,  # Sample with replacement\n",
    "                                n_samples=len(df_positive),  # Match number of positive class samples\n",
    "                                random_state=42)  # Reproducible results\n",
    "\n",
    "df_negative_upsampled = resample(df_negative,\n",
    "                                 replace=True,  # Sample with replacement\n",
    "                                 n_samples=len(df_positive),  # Match number of positive class samples\n",
    "                                 random_state=42)  # Reproducible results\n",
    "\n",
    "# 3. Combine the resampled DataFrames\n",
    "df_balanced = pd.concat([df_positive, df_neutral_upsampled, df_negative_upsampled])\n",
    "\n",
    "# 4. Shuffle the combined DataFrame\n",
    "df_balanced = df_balanced.sample(frac=1, random_state=42).reset_index(drop=True)\n",
    "\n",
    "# 5. Check the distribution of the classes\n",
    "print(df_balanced['sentiment'].value_counts())\n"
   ]
  },
  {
   "cell_type": "code",
   "execution_count": 193,
   "metadata": {},
   "outputs": [
    {
     "data": {
      "text/html": [
       "<div>\n",
       "<style scoped>\n",
       "    .dataframe tbody tr th:only-of-type {\n",
       "        vertical-align: middle;\n",
       "    }\n",
       "\n",
       "    .dataframe tbody tr th {\n",
       "        vertical-align: top;\n",
       "    }\n",
       "\n",
       "    .dataframe thead th {\n",
       "        text-align: right;\n",
       "    }\n",
       "</style>\n",
       "<table border=\"1\" class=\"dataframe\">\n",
       "  <thead>\n",
       "    <tr style=\"text-align: right;\">\n",
       "      <th></th>\n",
       "      <th>location_id</th>\n",
       "      <th>review</th>\n",
       "      <th>rating</th>\n",
       "      <th>cleaned_review</th>\n",
       "      <th>embedding</th>\n",
       "      <th>sentiment</th>\n",
       "      <th>predicted_sentiment</th>\n",
       "    </tr>\n",
       "  </thead>\n",
       "  <tbody>\n",
       "    <tr>\n",
       "      <th>0</th>\n",
       "      <td>4322585</td>\n",
       "      <td>This was an ornate wat inside Mae Sot. It is a...</td>\n",
       "      <td>3</td>\n",
       "      <td>ornate wat inside mae sot burmese style wat ty...</td>\n",
       "      <td>[[-0.003996930085122585, 0.014730370603501797,...</td>\n",
       "      <td>neutral</td>\n",
       "      <td>NaN</td>\n",
       "    </tr>\n",
       "    <tr>\n",
       "      <th>1</th>\n",
       "      <td>2667297</td>\n",
       "      <td>Got the Asia perfect for body treatment. We re...</td>\n",
       "      <td>2</td>\n",
       "      <td>got asia perfect body treatment read review th...</td>\n",
       "      <td>[[-0.0030046943575143814, 0.041854631155729294...</td>\n",
       "      <td>negative</td>\n",
       "      <td>NaN</td>\n",
       "    </tr>\n",
       "    <tr>\n",
       "      <th>2</th>\n",
       "      <td>10388576</td>\n",
       "      <td>A few years ago a huge market was built in Ban...</td>\n",
       "      <td>4</td>\n",
       "      <td>year ago huge market built ban phe totally dis...</td>\n",
       "      <td>[[-0.0002726381062529981, 0.013491855002939701...</td>\n",
       "      <td>positive</td>\n",
       "      <td>NaN</td>\n",
       "    </tr>\n",
       "    <tr>\n",
       "      <th>3</th>\n",
       "      <td>6885224</td>\n",
       "      <td>The visit to this island is worth it just to u...</td>\n",
       "      <td>1</td>\n",
       "      <td>visit island worth understand tragic result un...</td>\n",
       "      <td>[[-0.04764687269926071, 0.22090080380439758, 0...</td>\n",
       "      <td>negative</td>\n",
       "      <td>NaN</td>\n",
       "    </tr>\n",
       "    <tr>\n",
       "      <th>4</th>\n",
       "      <td>6669325</td>\n",
       "      <td>So many different bananas! And a chance to see...</td>\n",
       "      <td>5</td>\n",
       "      <td>many different banana chance see stored taste ...</td>\n",
       "      <td>[[-0.0016166545683518052, 0.017950909212231636...</td>\n",
       "      <td>positive</td>\n",
       "      <td>NaN</td>\n",
       "    </tr>\n",
       "    <tr>\n",
       "      <th>...</th>\n",
       "      <td>...</td>\n",
       "      <td>...</td>\n",
       "      <td>...</td>\n",
       "      <td>...</td>\n",
       "      <td>...</td>\n",
       "      <td>...</td>\n",
       "      <td>...</td>\n",
       "    </tr>\n",
       "    <tr>\n",
       "      <th>14062</th>\n",
       "      <td>7287889</td>\n",
       "      <td>It is not as pretty as some picture lead to be...</td>\n",
       "      <td>3</td>\n",
       "      <td>pretty picture lead believe big either minute ...</td>\n",
       "      <td>[[-0.004209618084132671, 0.07795886695384979, ...</td>\n",
       "      <td>neutral</td>\n",
       "      <td>NaN</td>\n",
       "    </tr>\n",
       "    <tr>\n",
       "      <th>14063</th>\n",
       "      <td>10631803</td>\n",
       "      <td>The whole trip was spoilt by lying local tour ...</td>\n",
       "      <td>1</td>\n",
       "      <td>whole trip spoilt lying local tour package sel...</td>\n",
       "      <td>[[-0.0015841611893847585, 0.034438904374837875...</td>\n",
       "      <td>negative</td>\n",
       "      <td>NaN</td>\n",
       "    </tr>\n",
       "    <tr>\n",
       "      <th>14064</th>\n",
       "      <td>1368429</td>\n",
       "      <td>As a keen biker, I was excited to experience t...</td>\n",
       "      <td>3</td>\n",
       "      <td>keen biker excited experience breathtaking sce...</td>\n",
       "      <td>[[-0.00321318581700325, 0.06076102331280708, 0...</td>\n",
       "      <td>neutral</td>\n",
       "      <td>NaN</td>\n",
       "    </tr>\n",
       "    <tr>\n",
       "      <th>14065</th>\n",
       "      <td>8300428</td>\n",
       "      <td>This place is really beautiful and was decorat...</td>\n",
       "      <td>5</td>\n",
       "      <td>place really beautiful decorated statue maenak...</td>\n",
       "      <td>[[-0.004209618084132671, 0.07795886695384979, ...</td>\n",
       "      <td>positive</td>\n",
       "      <td>NaN</td>\n",
       "    </tr>\n",
       "    <tr>\n",
       "      <th>14066</th>\n",
       "      <td>8766239</td>\n",
       "      <td>Nice place to come and take some pictures but ...</td>\n",
       "      <td>3</td>\n",
       "      <td>nice place come take picture flying rat pigeon...</td>\n",
       "      <td>[[-0.02802809327840805, 0.2267940193414688, 0....</td>\n",
       "      <td>neutral</td>\n",
       "      <td>2.0</td>\n",
       "    </tr>\n",
       "  </tbody>\n",
       "</table>\n",
       "<p>14067 rows × 7 columns</p>\n",
       "</div>"
      ],
      "text/plain": [
       "       location_id                                             review  rating  \\\n",
       "0          4322585  This was an ornate wat inside Mae Sot. It is a...       3   \n",
       "1          2667297  Got the Asia perfect for body treatment. We re...       2   \n",
       "2         10388576  A few years ago a huge market was built in Ban...       4   \n",
       "3          6885224  The visit to this island is worth it just to u...       1   \n",
       "4          6669325  So many different bananas! And a chance to see...       5   \n",
       "...            ...                                                ...     ...   \n",
       "14062      7287889  It is not as pretty as some picture lead to be...       3   \n",
       "14063     10631803  The whole trip was spoilt by lying local tour ...       1   \n",
       "14064      1368429  As a keen biker, I was excited to experience t...       3   \n",
       "14065      8300428  This place is really beautiful and was decorat...       5   \n",
       "14066      8766239  Nice place to come and take some pictures but ...       3   \n",
       "\n",
       "                                          cleaned_review  \\\n",
       "0      ornate wat inside mae sot burmese style wat ty...   \n",
       "1      got asia perfect body treatment read review th...   \n",
       "2      year ago huge market built ban phe totally dis...   \n",
       "3      visit island worth understand tragic result un...   \n",
       "4      many different banana chance see stored taste ...   \n",
       "...                                                  ...   \n",
       "14062  pretty picture lead believe big either minute ...   \n",
       "14063  whole trip spoilt lying local tour package sel...   \n",
       "14064  keen biker excited experience breathtaking sce...   \n",
       "14065  place really beautiful decorated statue maenak...   \n",
       "14066  nice place come take picture flying rat pigeon...   \n",
       "\n",
       "                                               embedding sentiment  \\\n",
       "0      [[-0.003996930085122585, 0.014730370603501797,...   neutral   \n",
       "1      [[-0.0030046943575143814, 0.041854631155729294...  negative   \n",
       "2      [[-0.0002726381062529981, 0.013491855002939701...  positive   \n",
       "3      [[-0.04764687269926071, 0.22090080380439758, 0...  negative   \n",
       "4      [[-0.0016166545683518052, 0.017950909212231636...  positive   \n",
       "...                                                  ...       ...   \n",
       "14062  [[-0.004209618084132671, 0.07795886695384979, ...   neutral   \n",
       "14063  [[-0.0015841611893847585, 0.034438904374837875...  negative   \n",
       "14064  [[-0.00321318581700325, 0.06076102331280708, 0...   neutral   \n",
       "14065  [[-0.004209618084132671, 0.07795886695384979, ...  positive   \n",
       "14066  [[-0.02802809327840805, 0.2267940193414688, 0....   neutral   \n",
       "\n",
       "       predicted_sentiment  \n",
       "0                      NaN  \n",
       "1                      NaN  \n",
       "2                      NaN  \n",
       "3                      NaN  \n",
       "4                      NaN  \n",
       "...                    ...  \n",
       "14062                  NaN  \n",
       "14063                  NaN  \n",
       "14064                  NaN  \n",
       "14065                  NaN  \n",
       "14066                  2.0  \n",
       "\n",
       "[14067 rows x 7 columns]"
      ]
     },
     "execution_count": 193,
     "metadata": {},
     "output_type": "execute_result"
    },
    {
     "ename": "",
     "evalue": "",
     "output_type": "error",
     "traceback": [
      "\u001b[1;31mThe Kernel crashed while executing code in the current cell or a previous cell. \n",
      "\u001b[1;31mPlease review the code in the cell(s) to identify a possible cause of the failure. \n",
      "\u001b[1;31mClick <a href='https://aka.ms/vscodeJupyterKernelCrash'>here</a> for more info. \n",
      "\u001b[1;31mView Jupyter <a href='command:jupyter.viewOutput'>log</a> for further details."
     ]
    }
   ],
   "source": [
    "df_balanced"
   ]
  },
  {
   "cell_type": "code",
   "execution_count": 188,
   "metadata": {},
   "outputs": [],
   "source": [
    "from sklearn.utils.class_weight import compute_class_weight\n",
    "\n",
    "unique_classes = np.unique(y_train)\n",
    "\n",
    "# Compute class weights\n",
    "class_weights = compute_class_weight('balanced', classes=unique_classes, y=y_train)\n",
    "class_weights_dict = dict(enumerate(class_weights))\n",
    "\n",
    "# Optional: Normalize class weights\n",
    "total = sum(class_weights_dict.values())\n",
    "class_weights_dict = {k: v / total for k, v in class_weights_dict.items()}"
   ]
  },
  {
   "cell_type": "code",
   "execution_count": 189,
   "metadata": {},
   "outputs": [],
   "source": [
    "class_weights_dict = dict(enumerate(class_weights))"
   ]
  },
  {
   "cell_type": "code",
   "execution_count": 190,
   "metadata": {},
   "outputs": [
    {
     "data": {
      "text/plain": [
       "{0: 4.190602836879433, 1: 2.643736017897092, 2: 0.419618286728806}"
      ]
     },
     "execution_count": 190,
     "metadata": {},
     "output_type": "execute_result"
    }
   ],
   "source": [
    "class_weights_dict"
   ]
  },
  {
   "cell_type": "code",
   "execution_count": 191,
   "metadata": {},
   "outputs": [
    {
     "ename": "KeyError",
     "evalue": "8",
     "output_type": "error",
     "traceback": [
      "\u001b[0;31m---------------------------------------------------------------------------\u001b[0m",
      "\u001b[0;31mKeyError\u001b[0m                                  Traceback (most recent call last)",
      "Cell \u001b[0;32mIn[191], line 2\u001b[0m\n\u001b[1;32m      1\u001b[0m \u001b[38;5;66;03m# Step 8: Train the Model\u001b[39;00m\n\u001b[0;32m----> 2\u001b[0m history \u001b[38;5;241m=\u001b[39m \u001b[43mmodel\u001b[49m\u001b[38;5;241;43m.\u001b[39;49m\u001b[43mfit\u001b[49m\u001b[43m(\u001b[49m\u001b[43mX_train\u001b[49m\u001b[43m,\u001b[49m\u001b[43m \u001b[49m\u001b[43my_train\u001b[49m\u001b[43m,\u001b[49m\n\u001b[1;32m      3\u001b[0m \u001b[43m                    \u001b[49m\u001b[43mepochs\u001b[49m\u001b[38;5;241;43m=\u001b[39;49m\u001b[38;5;241;43m10\u001b[39;49m\u001b[43m,\u001b[49m\n\u001b[1;32m      4\u001b[0m \u001b[43m                    \u001b[49m\u001b[43mbatch_size\u001b[49m\u001b[38;5;241;43m=\u001b[39;49m\u001b[38;5;241;43m64\u001b[39;49m\u001b[43m,\u001b[49m\n\u001b[1;32m      5\u001b[0m \u001b[43m                    \u001b[49m\u001b[43mvalidation_data\u001b[49m\u001b[38;5;241;43m=\u001b[39;49m\u001b[43m(\u001b[49m\u001b[43mX_test\u001b[49m\u001b[43m,\u001b[49m\u001b[43m \u001b[49m\u001b[43my_test\u001b[49m\u001b[43m)\u001b[49m\u001b[43m,\u001b[49m\n\u001b[1;32m      6\u001b[0m \u001b[43m                    \u001b[49m\u001b[43mclass_weight\u001b[49m\u001b[38;5;241;43m=\u001b[39;49m\u001b[43mclass_weights_dict\u001b[49m\u001b[43m)\u001b[49m\n",
      "File \u001b[0;32m~/Library/Caches/pypoetry/virtualenvs/is-project-thailand-tourism-recommendation-qwL-LsgH-py3.12/lib/python3.12/site-packages/keras/src/utils/traceback_utils.py:122\u001b[0m, in \u001b[0;36mfilter_traceback.<locals>.error_handler\u001b[0;34m(*args, **kwargs)\u001b[0m\n\u001b[1;32m    119\u001b[0m     filtered_tb \u001b[38;5;241m=\u001b[39m _process_traceback_frames(e\u001b[38;5;241m.\u001b[39m__traceback__)\n\u001b[1;32m    120\u001b[0m     \u001b[38;5;66;03m# To get the full stack trace, call:\u001b[39;00m\n\u001b[1;32m    121\u001b[0m     \u001b[38;5;66;03m# `keras.config.disable_traceback_filtering()`\u001b[39;00m\n\u001b[0;32m--> 122\u001b[0m     \u001b[38;5;28;01mraise\u001b[39;00m e\u001b[38;5;241m.\u001b[39mwith_traceback(filtered_tb) \u001b[38;5;28;01mfrom\u001b[39;00m \u001b[38;5;28;01mNone\u001b[39;00m\n\u001b[1;32m    123\u001b[0m \u001b[38;5;28;01mfinally\u001b[39;00m:\n\u001b[1;32m    124\u001b[0m     \u001b[38;5;28;01mdel\u001b[39;00m filtered_tb\n",
      "File \u001b[0;32m~/Library/Caches/pypoetry/virtualenvs/is-project-thailand-tourism-recommendation-qwL-LsgH-py3.12/lib/python3.12/site-packages/pandas/core/series.py:1111\u001b[0m, in \u001b[0;36mSeries.__getitem__\u001b[0;34m(self, key)\u001b[0m\n\u001b[1;32m   1108\u001b[0m     \u001b[38;5;28;01mreturn\u001b[39;00m \u001b[38;5;28mself\u001b[39m\u001b[38;5;241m.\u001b[39m_values[key]\n\u001b[1;32m   1110\u001b[0m \u001b[38;5;28;01melif\u001b[39;00m key_is_scalar:\n\u001b[0;32m-> 1111\u001b[0m     \u001b[38;5;28;01mreturn\u001b[39;00m \u001b[38;5;28;43mself\u001b[39;49m\u001b[38;5;241;43m.\u001b[39;49m\u001b[43m_get_value\u001b[49m\u001b[43m(\u001b[49m\u001b[43mkey\u001b[49m\u001b[43m)\u001b[49m\n\u001b[1;32m   1113\u001b[0m \u001b[38;5;66;03m# Convert generator to list before going through hashable part\u001b[39;00m\n\u001b[1;32m   1114\u001b[0m \u001b[38;5;66;03m# (We will iterate through the generator there to check for slices)\u001b[39;00m\n\u001b[1;32m   1115\u001b[0m \u001b[38;5;28;01mif\u001b[39;00m is_iterator(key):\n",
      "File \u001b[0;32m~/Library/Caches/pypoetry/virtualenvs/is-project-thailand-tourism-recommendation-qwL-LsgH-py3.12/lib/python3.12/site-packages/pandas/core/series.py:1227\u001b[0m, in \u001b[0;36mSeries._get_value\u001b[0;34m(self, label, takeable)\u001b[0m\n\u001b[1;32m   1224\u001b[0m     \u001b[38;5;28;01mreturn\u001b[39;00m \u001b[38;5;28mself\u001b[39m\u001b[38;5;241m.\u001b[39m_values[label]\n\u001b[1;32m   1226\u001b[0m \u001b[38;5;66;03m# Similar to Index.get_value, but we do not fall back to positional\u001b[39;00m\n\u001b[0;32m-> 1227\u001b[0m loc \u001b[38;5;241m=\u001b[39m \u001b[38;5;28;43mself\u001b[39;49m\u001b[38;5;241;43m.\u001b[39;49m\u001b[43mindex\u001b[49m\u001b[38;5;241;43m.\u001b[39;49m\u001b[43mget_loc\u001b[49m\u001b[43m(\u001b[49m\u001b[43mlabel\u001b[49m\u001b[43m)\u001b[49m\n\u001b[1;32m   1229\u001b[0m \u001b[38;5;28;01mif\u001b[39;00m is_integer(loc):\n\u001b[1;32m   1230\u001b[0m     \u001b[38;5;28;01mreturn\u001b[39;00m \u001b[38;5;28mself\u001b[39m\u001b[38;5;241m.\u001b[39m_values[loc]\n",
      "File \u001b[0;32m~/Library/Caches/pypoetry/virtualenvs/is-project-thailand-tourism-recommendation-qwL-LsgH-py3.12/lib/python3.12/site-packages/pandas/core/indexes/base.py:3809\u001b[0m, in \u001b[0;36mIndex.get_loc\u001b[0;34m(self, key)\u001b[0m\n\u001b[1;32m   3804\u001b[0m     \u001b[38;5;28;01mif\u001b[39;00m \u001b[38;5;28misinstance\u001b[39m(casted_key, \u001b[38;5;28mslice\u001b[39m) \u001b[38;5;129;01mor\u001b[39;00m (\n\u001b[1;32m   3805\u001b[0m         \u001b[38;5;28misinstance\u001b[39m(casted_key, abc\u001b[38;5;241m.\u001b[39mIterable)\n\u001b[1;32m   3806\u001b[0m         \u001b[38;5;129;01mand\u001b[39;00m \u001b[38;5;28many\u001b[39m(\u001b[38;5;28misinstance\u001b[39m(x, \u001b[38;5;28mslice\u001b[39m) \u001b[38;5;28;01mfor\u001b[39;00m x \u001b[38;5;129;01min\u001b[39;00m casted_key)\n\u001b[1;32m   3807\u001b[0m     ):\n\u001b[1;32m   3808\u001b[0m         \u001b[38;5;28;01mraise\u001b[39;00m InvalidIndexError(key)\n\u001b[0;32m-> 3809\u001b[0m     \u001b[38;5;28;01mraise\u001b[39;00m \u001b[38;5;167;01mKeyError\u001b[39;00m(key) \u001b[38;5;28;01mfrom\u001b[39;00m \u001b[38;5;21;01merr\u001b[39;00m\n\u001b[1;32m   3810\u001b[0m \u001b[38;5;28;01mexcept\u001b[39;00m \u001b[38;5;167;01mTypeError\u001b[39;00m:\n\u001b[1;32m   3811\u001b[0m     \u001b[38;5;66;03m# If we have a listlike key, _check_indexing_error will raise\u001b[39;00m\n\u001b[1;32m   3812\u001b[0m     \u001b[38;5;66;03m#  InvalidIndexError. Otherwise we fall through and re-raise\u001b[39;00m\n\u001b[1;32m   3813\u001b[0m     \u001b[38;5;66;03m#  the TypeError.\u001b[39;00m\n\u001b[1;32m   3814\u001b[0m     \u001b[38;5;28mself\u001b[39m\u001b[38;5;241m.\u001b[39m_check_indexing_error(key)\n",
      "\u001b[0;31mKeyError\u001b[0m: 8"
     ]
    }
   ],
   "source": [
    "# Step 8: Train the Model\n",
    "history = model.fit(X_train, y_train,\n",
    "                    epochs=10,\n",
    "                    batch_size=64,\n",
    "                    validation_data=(X_test, y_test),\n",
    "                    class_weight=class_weights_dict)\n"
   ]
  },
  {
   "cell_type": "code",
   "execution_count": 149,
   "metadata": {},
   "outputs": [
    {
     "name": "stdout",
     "output_type": "stream",
     "text": [
      "\u001b[1m37/37\u001b[0m \u001b[32m━━━━━━━━━━━━━━━━━━━━\u001b[0m\u001b[37m\u001b[0m \u001b[1m1s\u001b[0m 28ms/step - accuracy: 0.7888 - loss: 0.7280\n",
      "Test Loss: 0.7264\n",
      "Test Accuracy: 0.7902\n",
      "\u001b[1m37/37\u001b[0m \u001b[32m━━━━━━━━━━━━━━━━━━━━\u001b[0m\u001b[37m\u001b[0m \u001b[1m1s\u001b[0m 24ms/step\n",
      "Predicted classes: [2 2 2 2 2 2 2 2 2 2 2 2 2 2 2 2 2 2 2 2]\n",
      "True classes: 3489    0\n",
      "4909    2\n",
      "1425    2\n",
      "4743    1\n",
      "439     2\n",
      "5490    2\n",
      "1319    2\n",
      "1330    2\n",
      "4091    2\n",
      "296     2\n",
      "5368    2\n",
      "3458    2\n",
      "2801    2\n",
      "2299    2\n",
      "787     2\n",
      "5573    2\n",
      "2778    2\n",
      "4703    1\n",
      "5609    1\n",
      "3841    2\n",
      "Name: sentiment, dtype: int64\n"
     ]
    }
   ],
   "source": [
    "# 1. Evaluate the Model\n",
    "loss, accuracy = model.evaluate(X_test, y_test)\n",
    "print(f'Test Loss: {loss:.4f}')\n",
    "print(f'Test Accuracy: {accuracy:.4f}')\n",
    "\n",
    "# 2. Make Predictions\n",
    "y_pred_prob = model.predict(X_test)\n",
    "\n",
    "# If your output layer is using 'softmax', y_pred_prob will be probabilities for each class.\n",
    "# To get the predicted class labels, you can use np.argmax:\n",
    "y_pred_class = np.argmax(y_pred_prob, axis=1)\n",
    "\n",
    "# 3. Compare the predicted labels with the true labels\n",
    "print(f'Predicted classes: {y_pred_class[:20]}')  # Display the first 10 predictions\n",
    "print(f'True classes: {y_test[:20]}')  "
   ]
  },
  {
   "cell_type": "code",
   "execution_count": 153,
   "metadata": {},
   "outputs": [],
   "source": [
    "\n",
    "\n",
    "# predictions_df = pd.DataFrame(data=y_pred_class, index=y_test.index, columns=['predicted_sentiment'])\n",
    "\n",
    "# review_df.loc[y_test.index, 'predicted_sentiment'] = predictions_df['predicted_sentiment']\n"
   ]
  },
  {
   "cell_type": "code",
   "execution_count": 161,
   "metadata": {},
   "outputs": [
    {
     "data": {
      "text/html": [
       "<div>\n",
       "<style scoped>\n",
       "    .dataframe tbody tr th:only-of-type {\n",
       "        vertical-align: middle;\n",
       "    }\n",
       "\n",
       "    .dataframe tbody tr th {\n",
       "        vertical-align: top;\n",
       "    }\n",
       "\n",
       "    .dataframe thead th {\n",
       "        text-align: right;\n",
       "    }\n",
       "</style>\n",
       "<table border=\"1\" class=\"dataframe\">\n",
       "  <thead>\n",
       "    <tr style=\"text-align: right;\">\n",
       "      <th></th>\n",
       "      <th>review_text</th>\n",
       "      <th>actual_sentiment</th>\n",
       "      <th>predicted_sentiment</th>\n",
       "    </tr>\n",
       "  </thead>\n",
       "  <tbody>\n",
       "    <tr>\n",
       "      <th>3489</th>\n",
       "      <td>While I should probably come back at a better ...</td>\n",
       "      <td>negative</td>\n",
       "      <td>positive</td>\n",
       "    </tr>\n",
       "    <tr>\n",
       "      <th>4909</th>\n",
       "      <td>Nice place Have Food Court KFC Lawson Bic C Se...</td>\n",
       "      <td>positive</td>\n",
       "      <td>positive</td>\n",
       "    </tr>\n",
       "    <tr>\n",
       "      <th>1425</th>\n",
       "      <td>Since I was born and grew up in Ceylon (Sri La...</td>\n",
       "      <td>positive</td>\n",
       "      <td>positive</td>\n",
       "    </tr>\n",
       "    <tr>\n",
       "      <th>4743</th>\n",
       "      <td>This shrine is located in front of Central\\nWo...</td>\n",
       "      <td>neutral</td>\n",
       "      <td>positive</td>\n",
       "    </tr>\n",
       "    <tr>\n",
       "      <th>439</th>\n",
       "      <td>Wat Suan Dok is just east of the Old City on S...</td>\n",
       "      <td>positive</td>\n",
       "      <td>positive</td>\n",
       "    </tr>\n",
       "  </tbody>\n",
       "</table>\n",
       "</div>"
      ],
      "text/plain": [
       "                                            review_text actual_sentiment  \\\n",
       "3489  While I should probably come back at a better ...         negative   \n",
       "4909  Nice place Have Food Court KFC Lawson Bic C Se...         positive   \n",
       "1425  Since I was born and grew up in Ceylon (Sri La...         positive   \n",
       "4743  This shrine is located in front of Central\\nWo...          neutral   \n",
       "439   Wat Suan Dok is just east of the Old City on S...         positive   \n",
       "\n",
       "     predicted_sentiment  \n",
       "3489            positive  \n",
       "4909            positive  \n",
       "1425            positive  \n",
       "4743            positive  \n",
       "439             positive  "
      ]
     },
     "execution_count": 161,
     "metadata": {},
     "output_type": "execute_result"
    }
   ],
   "source": [
    "\n",
    "predictions_df = pd.DataFrame({\n",
    "    'review_text': review_df.loc[y_test.index, 'review'],  # Assuming X_test is a subset with a specific index\n",
    "    'actual_sentiment': y_test,  # The actual sentiment labels\n",
    "    'predicted_sentiment': y_pred_class  # The predicted sentiment labels\n",
    "})\n",
    "\n",
    "predictions_df['actual_sentiment'] = predictions_df['actual_sentiment'].map(label_mapping)\n",
    "predictions_df['predicted_sentiment'] = predictions_df['predicted_sentiment'].map(label_mapping)\n",
    "\n",
    "predictions_df.head(5)\n"
   ]
  },
  {
   "cell_type": "code",
   "execution_count": 162,
   "metadata": {},
   "outputs": [
    {
     "name": "stdout",
     "output_type": "stream",
     "text": [
      "Accuracy: 0.7902\n"
     ]
    }
   ],
   "source": [
    "# Calculate accuracy\n",
    "accuracy = accuracy_score(y_test, y_pred_class)\n",
    "print(f'Accuracy: {accuracy:.4f}')"
   ]
  },
  {
   "cell_type": "code",
   "execution_count": 135,
   "metadata": {},
   "outputs": [
    {
     "data": {
      "image/png": "[encoded data removed]",
      "text/plain": [
       "<Figure size 640x480 with 2 Axes>"
      ]
     },
     "metadata": {},
     "output_type": "display_data"
    }
   ],
   "source": [
    "from sklearn.metrics import confusion_matrix\n",
    "import seaborn as sns\n",
    "import matplotlib.pyplot as plt\n",
    "\n",
    "cm = confusion_matrix(y_test, y_pred_class)\n",
    "sns.heatmap(cm, annot=True, fmt='d', cmap='Blues')\n",
    "plt.xlabel('Predicted')\n",
    "plt.ylabel('True')\n",
    "plt.show()"
   ]
  },
  {
   "cell_type": "code",
   "execution_count": 137,
   "metadata": {},
   "outputs": [
    {
     "name": "stdout",
     "output_type": "stream",
     "text": [
      "              precision    recall  f1-score   support\n",
      "\n",
      "    negative       0.00      0.00      0.00        91\n",
      "     neutral       0.00      0.00      0.00       157\n",
      "    positive       0.79      1.00      0.88       934\n",
      "\n",
      "    accuracy                           0.79      1182\n",
      "   macro avg       0.26      0.33      0.29      1182\n",
      "weighted avg       0.62      0.79      0.70      1182\n",
      "\n"
     ]
    },
    {
     "name": "stderr",
     "output_type": "stream",
     "text": [
      "/Users/ittichaiboonyarakthunya/Library/Caches/pypoetry/virtualenvs/is-project-thailand-tourism-recommendation-qwL-LsgH-py3.12/lib/python3.12/site-packages/sklearn/metrics/_classification.py:1531: UndefinedMetricWarning: Precision is ill-defined and being set to 0.0 in labels with no predicted samples. Use `zero_division` parameter to control this behavior.\n",
      "  _warn_prf(average, modifier, f\"{metric.capitalize()} is\", len(result))\n",
      "/Users/ittichaiboonyarakthunya/Library/Caches/pypoetry/virtualenvs/is-project-thailand-tourism-recommendation-qwL-LsgH-py3.12/lib/python3.12/site-packages/sklearn/metrics/_classification.py:1531: UndefinedMetricWarning: Precision is ill-defined and being set to 0.0 in labels with no predicted samples. Use `zero_division` parameter to control this behavior.\n",
      "  _warn_prf(average, modifier, f\"{metric.capitalize()} is\", len(result))\n",
      "/Users/ittichaiboonyarakthunya/Library/Caches/pypoetry/virtualenvs/is-project-thailand-tourism-recommendation-qwL-LsgH-py3.12/lib/python3.12/site-packages/sklearn/metrics/_classification.py:1531: UndefinedMetricWarning: Precision is ill-defined and being set to 0.0 in labels with no predicted samples. Use `zero_division` parameter to control this behavior.\n",
      "  _warn_prf(average, modifier, f\"{metric.capitalize()} is\", len(result))\n"
     ]
    }
   ],
   "source": [
    "from sklearn.metrics import classification_report\n",
    "\n",
    "print(classification_report(y_test, y_pred_class, target_names=['negative', 'neutral', 'positive']))\n"
   ]
  },
  {
   "cell_type": "code",
   "execution_count": 163,
   "metadata": {},
   "outputs": [
    {
     "name": "stdout",
     "output_type": "stream",
     "text": [
      "Precision: 0.6244\n",
      "Recall: 0.7902\n",
      "F1-Score: 0.6976\n"
     ]
    },
    {
     "name": "stderr",
     "output_type": "stream",
     "text": [
      "/Users/ittichaiboonyarakthunya/Library/Caches/pypoetry/virtualenvs/is-project-thailand-tourism-recommendation-qwL-LsgH-py3.12/lib/python3.12/site-packages/sklearn/metrics/_classification.py:1531: UndefinedMetricWarning: Precision is ill-defined and being set to 0.0 in labels with no predicted samples. Use `zero_division` parameter to control this behavior.\n",
      "  _warn_prf(average, modifier, f\"{metric.capitalize()} is\", len(result))\n"
     ]
    }
   ],
   "source": [
    "from sklearn.metrics import precision_score, recall_score, f1_score\n",
    "\n",
    "# Calculate precision, recall, and F1-score\n",
    "precision = precision_score(y_test, y_pred_class, average='weighted')\n",
    "recall = recall_score(y_test, y_pred_class, average='weighted')\n",
    "f1 = f1_score(y_test, y_pred_class, average='weighted')\n",
    "\n",
    "print(f'Precision: {precision:.4f}')\n",
    "print(f'Recall: {recall:.4f}')\n",
    "print(f'F1-Score: {f1:.4f}')"
   ]
  },
  {
   "cell_type": "code",
   "execution_count": 167,
   "metadata": {},
   "outputs": [
    {
     "name": "stdout",
     "output_type": "stream",
     "text": [
      "Macro-Averaged AUC: 0.5000\n",
      "Micro-Averaged AUC: 0.8566\n"
     ]
    }
   ],
   "source": [
    "from sklearn.metrics import roc_auc_score\n",
    "from sklearn.preprocessing import label_binarize\n",
    "\n",
    "# Assume y_test contains true class labels, and y_pred_prob contains predicted probabilities\n",
    "\n",
    "# Binarize the output labels for calculating AUC\n",
    "y_test_bin = label_binarize(y_test, classes=[0, 1, 2])  # Assuming 3 classes: 0, 1, 2\n",
    "\n",
    "# Calculate the AUC for each class\n",
    "auc_macro = roc_auc_score(y_test_bin, y_pred_prob, average='macro', multi_class='ovr')\n",
    "auc_micro = roc_auc_score(y_test_bin, y_pred_prob, average='micro', multi_class='ovr')\n",
    "\n",
    "print(f'Macro-Averaged AUC: {auc_macro:.4f}')\n",
    "print(f'Micro-Averaged AUC: {auc_micro:.4f}')"
   ]
  },
  {
   "cell_type": "code",
   "execution_count": 165,
   "metadata": {},
   "outputs": [
    {
     "name": "stdout",
     "output_type": "stream",
     "text": [
      "Log Loss: 0.7264\n"
     ]
    }
   ],
   "source": [
    "from sklearn.metrics import log_loss\n",
    "\n",
    "# Calculate log loss\n",
    "log_loss_value = log_loss(y_test, y_pred_prob)\n",
    "print(f'Log Loss: {log_loss_value:.4f}')"
   ]
  },
  {
   "cell_type": "code",
   "execution_count": 166,
   "metadata": {},
   "outputs": [
    {
     "name": "stdout",
     "output_type": "stream",
     "text": [
      "Cohen's Kappa: 0.0000\n"
     ]
    }
   ],
   "source": [
    "from sklearn.metrics import cohen_kappa_score\n",
    "\n",
    "# Calculate Cohen's Kappa\n",
    "kappa = cohen_kappa_score(y_test, y_pred_class)\n",
    "print(f\"Cohen's Kappa: {kappa:.4f}\")"
   ]
  }
 ],
 "metadata": {
  "kernelspec": {
   "display_name": "is-project-thailand-tourism-recommendation-qwL-LsgH-py3.12",
   "language": "python",
   "name": "python3"
  },
  "language_info": {
   "codemirror_mode": {
    "name": "ipython",
    "version": 3
   },
   "file_extension": ".py",
   "mimetype": "text/x-python",
   "name": "python",
   "nbconvert_exporter": "python",
   "pygments_lexer": "ipython3",
   "version": "3.12.5"
  }
 },
 "nbformat": 4,
 "nbformat_minor": 2
}
