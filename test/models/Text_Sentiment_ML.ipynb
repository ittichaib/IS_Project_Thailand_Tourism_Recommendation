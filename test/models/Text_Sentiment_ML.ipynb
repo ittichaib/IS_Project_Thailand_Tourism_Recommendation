{
 "cells": [
  {
   "cell_type": "code",
   "execution_count": 2,
   "metadata": {},
   "outputs": [],
   "source": [
    "\n",
    "import pandas as pd\n",
    "import nltk\n",
    "import string\n",
    "from gensim.models import Word2Vec\n",
    "import shutil\n",
    "import numpy as np\n",
    "import re\n",
    "from sklearn.model_selection import train_test_split\n",
    "from tensorflow.keras.preprocessing.sequence import pad_sequences\n",
    "from tensorflow.keras.preprocessing.text import Tokenizer\n",
    "from sklearn.preprocessing import StandardScaler\n",
    "from sklearn.metrics import accuracy_score, classification_report, confusion_matrix, precision_score, recall_score, f1_score\n",
    "import shap\n"
   ]
  },
  {
   "cell_type": "code",
   "execution_count": 3,
   "metadata": {},
   "outputs": [],
   "source": [
    "FINE_TUNED_DIR = '../../pretained_or_finetune-models'\n",
    "REVIEWS_DATASET_DIR = '../../dataset'\n",
    "UTILS_DIR = '../../utils'\n",
    "NLTK_DATA_PATH = f\"{FINE_TUNED_DIR}/nltk_data\"\n",
    "\n",
    "nltk.data.path.append(NLTK_DATA_PATH)"
   ]
  },
  {
   "cell_type": "code",
   "execution_count": 4,
   "metadata": {},
   "outputs": [],
   "source": [
    "review_df = pd.read_csv(\"../dataset/embled_review_combined.csv\", encoding='utf-8')"
   ]
  },
  {
   "cell_type": "code",
   "execution_count": 5,
   "metadata": {},
   "outputs": [
    {
     "data": {
      "text/html": [
       "<div>\n",
       "<style scoped>\n",
       "    .dataframe tbody tr th:only-of-type {\n",
       "        vertical-align: middle;\n",
       "    }\n",
       "\n",
       "    .dataframe tbody tr th {\n",
       "        vertical-align: top;\n",
       "    }\n",
       "\n",
       "    .dataframe thead th {\n",
       "        text-align: right;\n",
       "    }\n",
       "</style>\n",
       "<table border=\"1\" class=\"dataframe\">\n",
       "  <thead>\n",
       "    <tr style=\"text-align: right;\">\n",
       "      <th></th>\n",
       "      <th>rating</th>\n",
       "      <th>location_id</th>\n",
       "      <th>review</th>\n",
       "      <th>cleaned_review</th>\n",
       "      <th>embedding</th>\n",
       "      <th>sentiment</th>\n",
       "    </tr>\n",
       "  </thead>\n",
       "  <tbody>\n",
       "    <tr>\n",
       "      <th>0</th>\n",
       "      <td>3</td>\n",
       "      <td>4322585</td>\n",
       "      <td>This was an ornate wat inside Mae Sot. It is a...</td>\n",
       "      <td>ornate wat inside mae sot burmese style wat ty...</td>\n",
       "      <td>[[ 0.          0.          0.         ...  0. ...</td>\n",
       "      <td>neutral</td>\n",
       "    </tr>\n",
       "    <tr>\n",
       "      <th>1</th>\n",
       "      <td>2</td>\n",
       "      <td>2667297</td>\n",
       "      <td>Got the Asia perfect for body treatment. We re...</td>\n",
       "      <td>got asia perfect body treatment read review th...</td>\n",
       "      <td>[[ 0.00053091  0.15045358  0.00889446 ... -0.0...</td>\n",
       "      <td>negative</td>\n",
       "    </tr>\n",
       "    <tr>\n",
       "      <th>2</th>\n",
       "      <td>4</td>\n",
       "      <td>10388576</td>\n",
       "      <td>A few years ago a huge market was built in Ban...</td>\n",
       "      <td>year ago huge market built ban phe totally dis...</td>\n",
       "      <td>[[ 0.          0.          0.         ...  0. ...</td>\n",
       "      <td>positive</td>\n",
       "    </tr>\n",
       "    <tr>\n",
       "      <th>3</th>\n",
       "      <td>1</td>\n",
       "      <td>6885224</td>\n",
       "      <td>The visit to this island is worth it just to u...</td>\n",
       "      <td>visit island worth understand tragic result un...</td>\n",
       "      <td>[[ 0.          0.          0.         ...  0. ...</td>\n",
       "      <td>negative</td>\n",
       "    </tr>\n",
       "    <tr>\n",
       "      <th>4</th>\n",
       "      <td>5</td>\n",
       "      <td>6669325</td>\n",
       "      <td>So many different bananas! And a chance to see...</td>\n",
       "      <td>many different banana chance see stored taste ...</td>\n",
       "      <td>[[0. 0. 0. ... 0. 0. 0.]\\n [0. 0. 0. ... 0. 0....</td>\n",
       "      <td>positive</td>\n",
       "    </tr>\n",
       "    <tr>\n",
       "      <th>...</th>\n",
       "      <td>...</td>\n",
       "      <td>...</td>\n",
       "      <td>...</td>\n",
       "      <td>...</td>\n",
       "      <td>...</td>\n",
       "      <td>...</td>\n",
       "    </tr>\n",
       "    <tr>\n",
       "      <th>14062</th>\n",
       "      <td>3</td>\n",
       "      <td>7287889</td>\n",
       "      <td>It is not as pretty as some picture lead to be...</td>\n",
       "      <td>pretty picture lead believe big either minute ...</td>\n",
       "      <td>[[0. 0. 0. ... 0. 0. 0.]\\n [0. 0. 0. ... 0. 0....</td>\n",
       "      <td>neutral</td>\n",
       "    </tr>\n",
       "    <tr>\n",
       "      <th>14063</th>\n",
       "      <td>1</td>\n",
       "      <td>10631803</td>\n",
       "      <td>The whole trip was spoilt by lying local tour ...</td>\n",
       "      <td>whole trip spoilt lying local tour package sel...</td>\n",
       "      <td>[[ 0.          0.          0.         ...  0. ...</td>\n",
       "      <td>negative</td>\n",
       "    </tr>\n",
       "    <tr>\n",
       "      <th>14064</th>\n",
       "      <td>3</td>\n",
       "      <td>1368429</td>\n",
       "      <td>As a keen biker, I was excited to experience t...</td>\n",
       "      <td>keen biker excited experience breathtaking sce...</td>\n",
       "      <td>[[0. 0. 0. ... 0. 0. 0.]\\n [0. 0. 0. ... 0. 0....</td>\n",
       "      <td>neutral</td>\n",
       "    </tr>\n",
       "    <tr>\n",
       "      <th>14065</th>\n",
       "      <td>5</td>\n",
       "      <td>8300428</td>\n",
       "      <td>This place is really beautiful and was decorat...</td>\n",
       "      <td>place really beautiful decorated statue mae na...</td>\n",
       "      <td>[[0. 0. 0. ... 0. 0. 0.]\\n [0. 0. 0. ... 0. 0....</td>\n",
       "      <td>positive</td>\n",
       "    </tr>\n",
       "    <tr>\n",
       "      <th>14066</th>\n",
       "      <td>3</td>\n",
       "      <td>8766239</td>\n",
       "      <td>Nice place to come and take some pictures but ...</td>\n",
       "      <td>nice place come take picture flying rat pigeon...</td>\n",
       "      <td>[[-0.00701559  0.28866604  0.02099591 ... -0.0...</td>\n",
       "      <td>neutral</td>\n",
       "    </tr>\n",
       "  </tbody>\n",
       "</table>\n",
       "<p>14067 rows × 6 columns</p>\n",
       "</div>"
      ],
      "text/plain": [
       "       rating  location_id                                             review  \\\n",
       "0           3      4322585  This was an ornate wat inside Mae Sot. It is a...   \n",
       "1           2      2667297  Got the Asia perfect for body treatment. We re...   \n",
       "2           4     10388576  A few years ago a huge market was built in Ban...   \n",
       "3           1      6885224  The visit to this island is worth it just to u...   \n",
       "4           5      6669325  So many different bananas! And a chance to see...   \n",
       "...       ...          ...                                                ...   \n",
       "14062       3      7287889  It is not as pretty as some picture lead to be...   \n",
       "14063       1     10631803  The whole trip was spoilt by lying local tour ...   \n",
       "14064       3      1368429  As a keen biker, I was excited to experience t...   \n",
       "14065       5      8300428  This place is really beautiful and was decorat...   \n",
       "14066       3      8766239  Nice place to come and take some pictures but ...   \n",
       "\n",
       "                                          cleaned_review  \\\n",
       "0      ornate wat inside mae sot burmese style wat ty...   \n",
       "1      got asia perfect body treatment read review th...   \n",
       "2      year ago huge market built ban phe totally dis...   \n",
       "3      visit island worth understand tragic result un...   \n",
       "4      many different banana chance see stored taste ...   \n",
       "...                                                  ...   \n",
       "14062  pretty picture lead believe big either minute ...   \n",
       "14063  whole trip spoilt lying local tour package sel...   \n",
       "14064  keen biker excited experience breathtaking sce...   \n",
       "14065  place really beautiful decorated statue mae na...   \n",
       "14066  nice place come take picture flying rat pigeon...   \n",
       "\n",
       "                                               embedding sentiment  \n",
       "0      [[ 0.          0.          0.         ...  0. ...   neutral  \n",
       "1      [[ 0.00053091  0.15045358  0.00889446 ... -0.0...  negative  \n",
       "2      [[ 0.          0.          0.         ...  0. ...  positive  \n",
       "3      [[ 0.          0.          0.         ...  0. ...  negative  \n",
       "4      [[0. 0. 0. ... 0. 0. 0.]\\n [0. 0. 0. ... 0. 0....  positive  \n",
       "...                                                  ...       ...  \n",
       "14062  [[0. 0. 0. ... 0. 0. 0.]\\n [0. 0. 0. ... 0. 0....   neutral  \n",
       "14063  [[ 0.          0.          0.         ...  0. ...  negative  \n",
       "14064  [[0. 0. 0. ... 0. 0. 0.]\\n [0. 0. 0. ... 0. 0....   neutral  \n",
       "14065  [[0. 0. 0. ... 0. 0. 0.]\\n [0. 0. 0. ... 0. 0....  positive  \n",
       "14066  [[-0.00701559  0.28866604  0.02099591 ... -0.0...   neutral  \n",
       "\n",
       "[14067 rows x 6 columns]"
      ]
     },
     "execution_count": 5,
     "metadata": {},
     "output_type": "execute_result"
    }
   ],
   "source": [
    "review_df"
   ]
  },
  {
   "cell_type": "code",
   "execution_count": 6,
   "metadata": {},
   "outputs": [],
   "source": [
    "\n",
    "vector_size = 300\n",
    "sentences = [row.split() for row in review_df['cleaned_review']]\n",
    "word2vec_model = Word2Vec(sentences, vector_size=vector_size, window=5, min_count=1, workers=4)  # เปลี่ยน vector_size เป็น 300\n",
    "\n"
   ]
  },
  {
   "cell_type": "code",
   "execution_count": 7,
   "metadata": {},
   "outputs": [],
   "source": [
    "# Parameters\n",
    "embedding_dim = 300  # Assuming Word2Vec has 300 dimensions\n",
    "dropout_rate = 0.5\n",
    "num_classes = 1  # Binary classification\n",
    "max_len = 100  # Maximum length of input sequences\n",
    "ngram_range = (1, 2)  # Unigrams and bigrams\n",
    "max_features = 20000  \n",
    "\n",
    "# Create the embedding matrix from the Word2Vec model\n",
    "word_index = {word: i for i, word in enumerate(word2vec_model.wv.index_to_key)}\n",
    "embedding_matrix = np.zeros((len(word_index) + 1, embedding_dim))"
   ]
  },
  {
   "cell_type": "code",
   "execution_count": 8,
   "metadata": {},
   "outputs": [],
   "source": [
    "def text_to_word2vec(tokens, model, max_length=300):\n",
    "    vector = np.zeros((max_length, 300))\n",
    "    for i, word in enumerate(tokens):\n",
    "        if i < max_length:\n",
    "            if word in model.wv:\n",
    "                vector[i] = model.wv[word]\n",
    "    return vector\n",
    "\n",
    "review_df['embedding'] = review_df['cleaned_review'].apply(lambda x: text_to_word2vec(x, word2vec_model))\n"
   ]
  },
  {
   "cell_type": "code",
   "execution_count": 9,
   "metadata": {},
   "outputs": [],
   "source": [
    "def map_rating_to_sentiment(rating):\n",
    "    if rating in [1, 2]:\n",
    "        return 'negative'\n",
    "    elif rating in [3, 4]:\n",
    "        return 'neutral'\n",
    "    else:  # 4 or 5\n",
    "        return 'positive'\n",
    "\n",
    "review_df['sentiment'] = review_df['rating'].apply(map_rating_to_sentiment)"
   ]
  },
  {
   "cell_type": "code",
   "execution_count": 10,
   "metadata": {},
   "outputs": [
    {
     "name": "stdout",
     "output_type": "stream",
     "text": [
      "sentiment\n",
      "neutral     6507\n",
      "negative    4689\n",
      "positive    2871\n",
      "Name: count, dtype: int64\n"
     ]
    }
   ],
   "source": [
    "\n",
    "# 5. Check the distribution of the classes\n",
    "print(review_df['sentiment'].value_counts())\n"
   ]
  },
  {
   "cell_type": "code",
   "execution_count": 11,
   "metadata": {},
   "outputs": [],
   "source": [
    "tokenizer = Tokenizer(num_words=max_features)\n",
    "tokenizer.fit_on_texts(review_df['cleaned_review'])\n",
    "\n",
    "X = tokenizer.texts_to_sequences(review_df['cleaned_review'])\n",
    "X = pad_sequences(X, maxlen=max_len)\n",
    "\n",
    "# แปลงคอลัมน์ 'sentiment' เป็นข้อมูลตัวเลข\n",
    "label_mapping = {'negative': 0, 'neutral': 1, 'positive': 2}\n",
    "y = review_df['sentiment'].map(label_mapping)"
   ]
  },
  {
   "cell_type": "code",
   "execution_count": 12,
   "metadata": {},
   "outputs": [],
   "source": [
    "from imblearn.over_sampling import SMOTE\n",
    "smote = SMOTE(random_state=42)\n",
    "X_train_resampled, y_train_resampled = smote.fit_resample(X, y)\n",
    "\n",
    "# แบ่งข้อมูลใหม่อีกครั้งหลังจาก SMOTE\n",
    "X_train_resampled, X_val, y_train_resampled, y_val = train_test_split(X_train_resampled, y_train_resampled, test_size=0.3, random_state=42)"
   ]
  },
  {
   "cell_type": "code",
   "execution_count": 13,
   "metadata": {},
   "outputs": [
    {
     "name": "stdout",
     "output_type": "stream",
     "text": [
      "X_train shape: (13664, 100)\n",
      "y_train shape: (13664,)\n",
      "X_test shape: (5857, 100)\n",
      "y_test shape: (5857,)\n"
     ]
    }
   ],
   "source": [
    "# Check the shapes of the resulting arrays\n",
    "print(f\"X_train shape: {X_train_resampled.shape}\")\n",
    "print(f\"y_train shape: {y_train_resampled.shape}\")\n",
    "print(f\"X_test shape: {X_val.shape}\")\n",
    "print(f\"y_test shape: {y_val.shape}\")\n"
   ]
  },
  {
   "cell_type": "code",
   "execution_count": 14,
   "metadata": {},
   "outputs": [],
   "source": [
    "def get_avg_word2vec(text, model, vector_size):\n",
    "    avg_vec = np.zeros((vector_size,))\n",
    "    count = 0\n",
    "    for word in text:\n",
    "        if word in model.wv:\n",
    "            avg_vec += model.wv[word]\n",
    "            count += 1\n",
    "    if count > 0:\n",
    "        avg_vec /= count\n",
    "    return avg_vec"
   ]
  },
  {
   "cell_type": "code",
   "execution_count": 15,
   "metadata": {},
   "outputs": [],
   "source": [
    "X_train_w2v = np.array([get_avg_word2vec(sentence, word2vec_model, vector_size) for sentence in X_train_resampled])\n",
    "X_val_w2v = np.array([get_avg_word2vec(sentence, word2vec_model, vector_size) for sentence in X_val])"
   ]
  },
  {
   "cell_type": "code",
   "execution_count": 16,
   "metadata": {},
   "outputs": [],
   "source": [
    "from sklearn.tree import DecisionTreeClassifier\n",
    "from sklearn.metrics import classification_report\n",
    "\n",
    "# สร้างและฝึก Decision Tree model\n",
    "dt_model = DecisionTreeClassifier()\n",
    "history = dt_model.fit(X_train_w2v, y_train_resampled)"
   ]
  },
  {
   "cell_type": "code",
   "execution_count": 17,
   "metadata": {},
   "outputs": [],
   "source": [
    "word_index = tokenizer.word_index\n",
    "embedding_matrix = np.zeros((len(word_index) + 1, embedding_dim))\n",
    "\n",
    "for word, i in word_index.items():\n",
    "    if i < max_features:\n",
    "        # ใช้ [] แทนการใช้ get() เพื่อดึง embedding vector\n",
    "        if word in word2vec_model.wv:\n",
    "            embedding_vector = word2vec_model.wv[word]\n",
    "            if embedding_vector is not None:\n",
    "                embedding_matrix[i] = embedding_vector"
   ]
  },
  {
   "cell_type": "code",
   "execution_count": 18,
   "metadata": {},
   "outputs": [],
   "source": [
    "from sklearn.utils.class_weight import compute_class_weight\n",
    "\n",
    "unique_classes = np.unique(y_train_resampled)\n",
    "\n",
    "# Compute class weights\n",
    "class_weights = compute_class_weight('balanced', classes=unique_classes, y=y_train_resampled)\n",
    "class_weights_dict = dict(enumerate(class_weights))\n",
    "\n",
    "# Optional: Normalize class weights\n",
    "total = sum(class_weights_dict.values())\n",
    "class_weights_dict = {k: v / total for k, v in class_weights_dict.items()}"
   ]
  },
  {
   "cell_type": "code",
   "execution_count": 19,
   "metadata": {},
   "outputs": [],
   "source": [
    "class_weights_dict = dict(enumerate(class_weights))"
   ]
  },
  {
   "cell_type": "code",
   "execution_count": 20,
   "metadata": {},
   "outputs": [
    {
     "data": {
      "text/plain": [
       "{0: 1.0132740081572118, 1: 0.9986114156252284, 2: 0.9884259259259259}"
      ]
     },
     "execution_count": 20,
     "metadata": {},
     "output_type": "execute_result"
    }
   ],
   "source": [
    "class_weights_dict"
   ]
  },
  {
   "cell_type": "markdown",
   "metadata": {},
   "source": [
    "### Decision Tree"
   ]
  },
  {
   "cell_type": "code",
   "execution_count": 21,
   "metadata": {},
   "outputs": [
    {
     "name": "stdout",
     "output_type": "stream",
     "text": [
      "              precision    recall  f1-score   support\n",
      "\n",
      "           0       0.92      1.00      0.96      2012\n",
      "           1       0.75      0.81      0.78      1946\n",
      "           2       0.78      0.66      0.71      1899\n",
      "\n",
      "    accuracy                           0.82      5857\n",
      "   macro avg       0.82      0.82      0.82      5857\n",
      "weighted avg       0.82      0.82      0.82      5857\n",
      "\n"
     ]
    }
   ],
   "source": [
    "y_pred_dt = dt_model.predict(X_val_w2v)\n",
    "\n",
    "# ประเมินผลลัพธ์\n",
    "print(classification_report(y_val, y_pred_dt))"
   ]
  },
  {
   "cell_type": "code",
   "execution_count": 22,
   "metadata": {},
   "outputs": [
    {
     "name": "stdout",
     "output_type": "stream",
     "text": [
      "Accuracy: 0.8236298446303568\n"
     ]
    }
   ],
   "source": [
    "accuracy = accuracy_score(y_val, y_pred_dt)\n",
    "print(f\"Accuracy: {accuracy}\")"
   ]
  },
  {
   "cell_type": "code",
   "execution_count": 23,
   "metadata": {},
   "outputs": [
    {
     "name": "stdout",
     "output_type": "stream",
     "text": [
      "Cross-validation scores: [0.81375778 0.79948774 0.79765825 0.79985364 0.80783309]\n",
      "Mean accuracy: 0.803718099750407\n"
     ]
    },
    {
     "data": {
      "image/png": "[encoded data removed]",
      "text/plain": [
       "<Figure size 640x480 with 1 Axes>"
      ]
     },
     "metadata": {},
     "output_type": "display_data"
    }
   ],
   "source": [
    "from sklearn.tree import DecisionTreeClassifier\n",
    "from sklearn.model_selection import cross_val_score\n",
    "import matplotlib.pyplot as plt\n",
    "\n",
    "cv_scores = cross_val_score(dt_model, X_train_w2v, y_train_resampled, cv=5, scoring='accuracy')\n",
    "\n",
    "# แสดงค่าความแม่นยำในแต่ละ fold\n",
    "print(f\"Cross-validation scores: {cv_scores}\")\n",
    "print(f\"Mean accuracy: {cv_scores.mean()}\")\n",
    "\n",
    "# สร้างกราฟแสดงความแม่นยำในแต่ละ fold\n",
    "plt.plot(range(1, len(cv_scores) + 1), cv_scores, marker='o', linestyle='--', color='b')\n",
    "plt.title('Cross-Validation Accuracy')\n",
    "plt.xlabel('Fold')\n",
    "plt.ylabel('Accuracy')\n",
    "plt.ylim([0.5, 1])  # ตั้งค่าให้แกน Y มีช่วง 0.5 ถึง 1 เพื่อให้เห็นชัดเจน\n",
    "plt.show()"
   ]
  },
  {
   "cell_type": "code",
   "execution_count": 24,
   "metadata": {},
   "outputs": [
    {
     "data": {
      "image/png": "[encoded data removed]",
      "text/plain": [
       "<Figure size 640x480 with 1 Axes>"
      ]
     },
     "metadata": {},
     "output_type": "display_data"
    }
   ],
   "source": [
    "error_rate = 1 - cv_scores\n",
    "\n",
    "# สร้างกราฟแสดง error rate\n",
    "plt.plot(range(1, len(error_rate) + 1), error_rate, marker='o', linestyle='--', color='r')\n",
    "plt.title('Cross-Validation Error Rate')\n",
    "plt.xlabel('Fold')\n",
    "plt.ylabel('Error Rate')\n",
    "plt.ylim([0, 0.5])\n",
    "plt.show()"
   ]
  },
  {
   "cell_type": "code",
   "execution_count": 25,
   "metadata": {},
   "outputs": [
    {
     "data": {
      "text/html": [
       "<div>\n",
       "<style scoped>\n",
       "    .dataframe tbody tr th:only-of-type {\n",
       "        vertical-align: middle;\n",
       "    }\n",
       "\n",
       "    .dataframe tbody tr th {\n",
       "        vertical-align: top;\n",
       "    }\n",
       "\n",
       "    .dataframe thead th {\n",
       "        text-align: right;\n",
       "    }\n",
       "</style>\n",
       "<table border=\"1\" class=\"dataframe\">\n",
       "  <thead>\n",
       "    <tr style=\"text-align: right;\">\n",
       "      <th></th>\n",
       "      <th>rating</th>\n",
       "      <th>location_id</th>\n",
       "      <th>review</th>\n",
       "      <th>cleaned_review</th>\n",
       "      <th>embedding</th>\n",
       "      <th>sentiment</th>\n",
       "    </tr>\n",
       "  </thead>\n",
       "  <tbody>\n",
       "    <tr>\n",
       "      <th>0</th>\n",
       "      <td>3</td>\n",
       "      <td>4322585</td>\n",
       "      <td>This was an ornate wat inside Mae Sot. It is a...</td>\n",
       "      <td>ornate wat inside mae sot burmese style wat ty...</td>\n",
       "      <td>[[0.030460486188530922, 0.021254735067486763, ...</td>\n",
       "      <td>neutral</td>\n",
       "    </tr>\n",
       "    <tr>\n",
       "      <th>1</th>\n",
       "      <td>2</td>\n",
       "      <td>2667297</td>\n",
       "      <td>Got the Asia perfect for body treatment. We re...</td>\n",
       "      <td>got asia perfect body treatment read review th...</td>\n",
       "      <td>[[-0.022843047976493835, 0.18187645077705383, ...</td>\n",
       "      <td>negative</td>\n",
       "    </tr>\n",
       "    <tr>\n",
       "      <th>2</th>\n",
       "      <td>4</td>\n",
       "      <td>10388576</td>\n",
       "      <td>A few years ago a huge market was built in Ban...</td>\n",
       "      <td>year ago huge market built ban phe totally dis...</td>\n",
       "      <td>[[-0.005868636071681976, 0.00839421059936285, ...</td>\n",
       "      <td>neutral</td>\n",
       "    </tr>\n",
       "    <tr>\n",
       "      <th>3</th>\n",
       "      <td>1</td>\n",
       "      <td>6885224</td>\n",
       "      <td>The visit to this island is worth it just to u...</td>\n",
       "      <td>visit island worth understand tragic result un...</td>\n",
       "      <td>[[-0.07705406844615936, 0.21747809648513794, 0...</td>\n",
       "      <td>negative</td>\n",
       "    </tr>\n",
       "    <tr>\n",
       "      <th>4</th>\n",
       "      <td>5</td>\n",
       "      <td>6669325</td>\n",
       "      <td>So many different bananas! And a chance to see...</td>\n",
       "      <td>many different banana chance see stored taste ...</td>\n",
       "      <td>[[0.0, 0.0, 0.0, 0.0, 0.0, 0.0, 0.0, 0.0, 0.0,...</td>\n",
       "      <td>positive</td>\n",
       "    </tr>\n",
       "  </tbody>\n",
       "</table>\n",
       "</div>"
      ],
      "text/plain": [
       "   rating  location_id                                             review  \\\n",
       "0       3      4322585  This was an ornate wat inside Mae Sot. It is a...   \n",
       "1       2      2667297  Got the Asia perfect for body treatment. We re...   \n",
       "2       4     10388576  A few years ago a huge market was built in Ban...   \n",
       "3       1      6885224  The visit to this island is worth it just to u...   \n",
       "4       5      6669325  So many different bananas! And a chance to see...   \n",
       "\n",
       "                                      cleaned_review  \\\n",
       "0  ornate wat inside mae sot burmese style wat ty...   \n",
       "1  got asia perfect body treatment read review th...   \n",
       "2  year ago huge market built ban phe totally dis...   \n",
       "3  visit island worth understand tragic result un...   \n",
       "4  many different banana chance see stored taste ...   \n",
       "\n",
       "                                           embedding sentiment  \n",
       "0  [[0.030460486188530922, 0.021254735067486763, ...   neutral  \n",
       "1  [[-0.022843047976493835, 0.18187645077705383, ...  negative  \n",
       "2  [[-0.005868636071681976, 0.00839421059936285, ...   neutral  \n",
       "3  [[-0.07705406844615936, 0.21747809648513794, 0...  negative  \n",
       "4  [[0.0, 0.0, 0.0, 0.0, 0.0, 0.0, 0.0, 0.0, 0.0,...  positive  "
      ]
     },
     "execution_count": 25,
     "metadata": {},
     "output_type": "execute_result"
    }
   ],
   "source": [
    "review_df.head(5)"
   ]
  },
  {
   "cell_type": "code",
   "execution_count": 26,
   "metadata": {},
   "outputs": [],
   "source": [
    "from sklearn.feature_extraction.text import TfidfVectorizer\n",
    "from sklearn.preprocessing import LabelEncoder\n",
    "\n",
    "# แปลง label เป็นตัวเลข\n",
    "label_encoder = LabelEncoder()\n",
    "review_df['sentiment_label'] = label_encoder.fit_transform(review_df['sentiment'])\n",
    "\n",
    "# แบ่งข้อมูล train/test\n",
    "X_train, X_test, y_train, y_val = train_test_split(review_df['cleaned_review'], review_df['sentiment_label'], test_size=0.3, random_state=42)\n",
    "\n",
    "# สร้าง TF-IDF Vectorizer\n",
    "tfidf = TfidfVectorizer(max_features=5000)  # กำหนดจำนวนฟีเจอร์ที่เราต้องการ\n",
    "\n",
    "# แปลงข้อมูลข้อความเป็น TF-IDF\n",
    "X_train_tfidf = tfidf.fit_transform(X_train)\n",
    "X_test_tfidf = tfidf.transform(X_test)"
   ]
  },
  {
   "cell_type": "markdown",
   "metadata": {},
   "source": [
    "### K-Nearest-Neighbors"
   ]
  },
  {
   "cell_type": "code",
   "execution_count": 27,
   "metadata": {},
   "outputs": [
    {
     "name": "stdout",
     "output_type": "stream",
     "text": [
      "Accuracy: 0.8488509831793414\n",
      "              precision    recall  f1-score   support\n",
      "\n",
      "           0       0.93      1.00      0.96      1453\n",
      "           1       0.84      0.86      0.85      1938\n",
      "           2       0.69      0.55      0.61       830\n",
      "\n",
      "    accuracy                           0.85      4221\n",
      "   macro avg       0.82      0.80      0.81      4221\n",
      "weighted avg       0.84      0.85      0.84      4221\n",
      "\n"
     ]
    }
   ],
   "source": [
    "from sklearn.neighbors import KNeighborsClassifier\n",
    "from sklearn.metrics import classification_report, accuracy_score\n",
    "\n",
    "# สร้างโมเดล KNN (กำหนดค่า k เท่ากับ 5)\n",
    "knn_model = KNeighborsClassifier(\n",
    "    n_neighbors=3,            # Use 3 neighbors for a balance between sensitivity and stability.\n",
    "    weights='distance',       # Weight neighbors by distance for better relevance.\n",
    "    algorithm='auto',         # Let scikit-learn choose the best algorithm based on data.\n",
    "    leaf_size=30,             # Default value, fine for most use cases.\n",
    "    p=2,                      # Default for Minkowski (Euclidean), but normalize TF-IDF vectors for cosine similarity.\n",
    "    metric='minkowski',       # Use with normalization to approximate cosine distance.\n",
    "    n_jobs=-1                 # Use all cores for faster processing.\n",
    ")\n",
    "\n",
    "# ฝึกโมเดล KNN ด้วยข้อมูลฝึก\n",
    "knn_model.fit(X_train_tfidf, y_train)\n",
    "\n",
    "# ทำนายผลลัพธ์บนชุดข้อมูล validation\n",
    "y_pred_knn = knn_model.predict(X_test_tfidf)\n",
    "\n",
    "# ประเมินความแม่นยำ\n",
    "accuracy = accuracy_score(y_val, y_pred_knn)\n",
    "print(f\"Accuracy: {accuracy}\")\n",
    "\n",
    "# แสดงรายงานการจัดหมวดหมู่ (classification report)\n",
    "print(classification_report(y_val, y_pred_knn))\n"
   ]
  },
  {
   "cell_type": "code",
   "execution_count": 28,
   "metadata": {},
   "outputs": [
    {
     "data": {
      "text/plain": [
       "array([[ 0.21044314,  0.6480582 , -0.00095526, ..., -0.3081931 ,\n",
       "         0.50239936, -0.39311127],\n",
       "       [ 0.22430699,  0.73284416, -0.03330301, ..., -0.33821981,\n",
       "         0.58953877, -0.40554565],\n",
       "       [ 0.23464705,  0.73602722, -0.03517248, ..., -0.36583256,\n",
       "         0.6389647 , -0.43559187],\n",
       "       ...,\n",
       "       [ 0.19846293,  0.69614553, -0.00664298, ..., -0.36019123,\n",
       "         0.64701177, -0.38223458],\n",
       "       [ 0.15186837,  0.59305907, -0.00645306, ..., -0.29263839,\n",
       "         0.5338184 , -0.34657374],\n",
       "       [ 0.20471999,  0.74354665, -0.03360347, ..., -0.35440532,\n",
       "         0.59718787, -0.43168136]])"
      ]
     },
     "execution_count": 28,
     "metadata": {},
     "output_type": "execute_result"
    }
   ],
   "source": [
    "X_train_w2v"
   ]
  },
  {
   "cell_type": "code",
   "execution_count": 29,
   "metadata": {},
   "outputs": [
    {
     "data": {
      "text/plain": [
       "14420    0\n",
       "5400     1\n",
       "214      0\n",
       "12281    1\n",
       "11217    0\n",
       "        ..\n",
       "11284    2\n",
       "11964    1\n",
       "5390     0\n",
       "860      2\n",
       "15795    0\n",
       "Name: sentiment, Length: 13664, dtype: int64"
      ]
     },
     "execution_count": 29,
     "metadata": {},
     "output_type": "execute_result"
    }
   ],
   "source": [
    "y_train_resampled"
   ]
  },
  {
   "cell_type": "markdown",
   "metadata": {},
   "source": [
    "### Naive Bayes"
   ]
  },
  {
   "cell_type": "code",
   "execution_count": 30,
   "metadata": {},
   "outputs": [
    {
     "name": "stdout",
     "output_type": "stream",
     "text": [
      "Accuracy: 0.777303956408434\n",
      "              precision    recall  f1-score   support\n",
      "\n",
      "           0       0.93      0.85      0.89      1453\n",
      "           1       0.69      0.96      0.81      1938\n",
      "           2       0.84      0.23      0.36       830\n",
      "\n",
      "    accuracy                           0.78      4221\n",
      "   macro avg       0.82      0.68      0.68      4221\n",
      "weighted avg       0.81      0.78      0.75      4221\n",
      "\n",
      "[[1237  213    3]\n",
      " [  51 1854   33]\n",
      " [  39  601  190]]\n"
     ]
    }
   ],
   "source": [
    "from sklearn.naive_bayes import MultinomialNB\n",
    "from sklearn.metrics import classification_report, accuracy_score\n",
    "\n",
    "# สร้างโมเดล Multinomial Naive Bayes\n",
    "nb_model = MultinomialNB()\n",
    "\n",
    "# ฝึกโมเดลด้วยข้อมูล TF-IDF ที่แปลงแล้ว\n",
    "nb_model.fit(X_train_tfidf, y_train)\n",
    "\n",
    "# ทำนายผลลัพธ์บนชุดข้อมูลทดสอบ\n",
    "y_pred = nb_model.predict(X_test_tfidf)\n",
    "\n",
    "# ประเมินความแม่นยำ\n",
    "accuracy = accuracy_score(y_val, y_pred)\n",
    "print(f\"Accuracy: {accuracy}\")\n",
    "\n",
    "# แสดงรายงานการจัดหมวดหมู่\n",
    "print(classification_report(y_val, y_pred))\n",
    "print(confusion_matrix(y_val, y_pred))\n"
   ]
  },
  {
   "cell_type": "markdown",
   "metadata": {},
   "source": [
    "### XGBoost"
   ]
  },
  {
   "cell_type": "code",
   "execution_count": 31,
   "metadata": {},
   "outputs": [
    {
     "name": "stdout",
     "output_type": "stream",
     "text": [
      "Accuracy: 0.8206586117033878\n",
      "              precision    recall  f1-score   support\n",
      "\n",
      "           0       0.96      0.92      0.94      1453\n",
      "           1       0.75      0.93      0.83      1938\n",
      "           2       0.76      0.39      0.52       830\n",
      "\n",
      "    accuracy                           0.82      4221\n",
      "   macro avg       0.82      0.75      0.76      4221\n",
      "weighted avg       0.82      0.82      0.81      4221\n",
      "\n"
     ]
    }
   ],
   "source": [
    "import xgboost as xgb\n",
    "from sklearn.metrics import classification_report, accuracy_score\n",
    "\n",
    "# สร้างโมเดล XGBoost\n",
    "xgb_model = xgb.XGBClassifier(n_estimators=100, max_depth=5, learning_rate=0.1, subsample=0.8)\n",
    "\n",
    "xgb_model.fit(X_train_tfidf, y_train)\n",
    "\n",
    "# ทำนายผลลัพธ์บนชุดข้อมูล validation\n",
    "y_pred_xgb = xgb_model.predict(X_test_tfidf)\n",
    "\n",
    "# ประเมินความแม่นยำ\n",
    "accuracy = accuracy_score(y_val, y_pred_xgb)\n",
    "print(f\"Accuracy: {accuracy}\")\n",
    "\n",
    "# แสดงรายงานการจัดหมวดหมู่\n",
    "print(classification_report(y_val, y_pred_xgb))\n"
   ]
  },
  {
   "cell_type": "code",
   "execution_count": 32,
   "metadata": {},
   "outputs": [
    {
     "data": {
      "text/plain": [
       "array(['abandon', 'abandoned', 'abbot', ..., 'zombie', 'zone', 'zoo'],\n",
       "      dtype=object)"
      ]
     },
     "execution_count": 32,
     "metadata": {},
     "output_type": "execute_result"
    }
   ],
   "source": [
    "tfidf.get_feature_names_out()"
   ]
  },
  {
   "cell_type": "code",
   "execution_count": 35,
   "metadata": {},
   "outputs": [
    {
     "data": {
      "application/vnd.plotly.v1+json": {
       "config": {
        "plotlyServerURL": "https://plot.ly"
       },
       "data": [
        {
         "type": "bar",
         "x": [
          "customer",
          "waste",
          "rude",
          "terrible",
          "poor",
          "worst",
          "avoid",
          "wonderful",
          "told",
          "highly",
          "money",
          "scam",
          "appreciate",
          "foreigner",
          "abbot",
          "selling",
          "paid",
          "amazing",
          "worse",
          "apart"
         ],
         "y": [
          0.0067785783,
          0.006774174,
          0.0066331206,
          0.0064010094,
          0.005430475,
          0.0052670427,
          0.0050750524,
          0.0050078034,
          0.005001257,
          0.0049984464,
          0.0048415954,
          0.00460197,
          0.004559925,
          0.004497493,
          0.0042704246,
          0.0042585446,
          0.0042566285,
          0.004222306,
          0.0042090635,
          0.0041831243
         ]
        }
       ],
       "layout": {
        "template": {
         "data": {
          "bar": [
           {
            "error_x": {
             "color": "#2a3f5f"
            },
            "error_y": {
             "color": "#2a3f5f"
            },
            "marker": {
             "line": {
              "color": "#E5ECF6",
              "width": 0.5
             },
             "pattern": {
              "fillmode": "overlay",
              "size": 10,
              "solidity": 0.2
             }
            },
            "type": "bar"
           }
          ],
          "barpolar": [
           {
            "marker": {
             "line": {
              "color": "#E5ECF6",
              "width": 0.5
             },
             "pattern": {
              "fillmode": "overlay",
              "size": 10,
              "solidity": 0.2
             }
            },
            "type": "barpolar"
           }
          ],
          "carpet": [
           {
            "aaxis": {
             "endlinecolor": "#2a3f5f",
             "gridcolor": "white",
             "linecolor": "white",
             "minorgridcolor": "white",
             "startlinecolor": "#2a3f5f"
            },
            "baxis": {
             "endlinecolor": "#2a3f5f",
             "gridcolor": "white",
             "linecolor": "white",
             "minorgridcolor": "white",
             "startlinecolor": "#2a3f5f"
            },
            "type": "carpet"
           }
          ],
          "choropleth": [
           {
            "colorbar": {
             "outlinewidth": 0,
             "ticks": ""
            },
            "type": "choropleth"
           }
          ],
          "contour": [
           {
            "colorbar": {
             "outlinewidth": 0,
             "ticks": ""
            },
            "colorscale": [
             [
              0,
              "#0d0887"
             ],
             [
              0.1111111111111111,
              "#46039f"
             ],
             [
              0.2222222222222222,
              "#7201a8"
             ],
             [
              0.3333333333333333,
              "#9c179e"
             ],
             [
              0.4444444444444444,
              "#bd3786"
             ],
             [
              0.5555555555555556,
              "#d8576b"
             ],
             [
              0.6666666666666666,
              "#ed7953"
             ],
             [
              0.7777777777777778,
              "#fb9f3a"
             ],
             [
              0.8888888888888888,
              "#fdca26"
             ],
             [
              1,
              "#f0f921"
             ]
            ],
            "type": "contour"
           }
          ],
          "contourcarpet": [
           {
            "colorbar": {
             "outlinewidth": 0,
             "ticks": ""
            },
            "type": "contourcarpet"
           }
          ],
          "heatmap": [
           {
            "colorbar": {
             "outlinewidth": 0,
             "ticks": ""
            },
            "colorscale": [
             [
              0,
              "#0d0887"
             ],
             [
              0.1111111111111111,
              "#46039f"
             ],
             [
              0.2222222222222222,
              "#7201a8"
             ],
             [
              0.3333333333333333,
              "#9c179e"
             ],
             [
              0.4444444444444444,
              "#bd3786"
             ],
             [
              0.5555555555555556,
              "#d8576b"
             ],
             [
              0.6666666666666666,
              "#ed7953"
             ],
             [
              0.7777777777777778,
              "#fb9f3a"
             ],
             [
              0.8888888888888888,
              "#fdca26"
             ],
             [
              1,
              "#f0f921"
             ]
            ],
            "type": "heatmap"
           }
          ],
          "heatmapgl": [
           {
            "colorbar": {
             "outlinewidth": 0,
             "ticks": ""
            },
            "colorscale": [
             [
              0,
              "#0d0887"
             ],
             [
              0.1111111111111111,
              "#46039f"
             ],
             [
              0.2222222222222222,
              "#7201a8"
             ],
             [
              0.3333333333333333,
              "#9c179e"
             ],
             [
              0.4444444444444444,
              "#bd3786"
             ],
             [
              0.5555555555555556,
              "#d8576b"
             ],
             [
              0.6666666666666666,
              "#ed7953"
             ],
             [
              0.7777777777777778,
              "#fb9f3a"
             ],
             [
              0.8888888888888888,
              "#fdca26"
             ],
             [
              1,
              "#f0f921"
             ]
            ],
            "type": "heatmapgl"
           }
          ],
          "histogram": [
           {
            "marker": {
             "pattern": {
              "fillmode": "overlay",
              "size": 10,
              "solidity": 0.2
             }
            },
            "type": "histogram"
           }
          ],
          "histogram2d": [
           {
            "colorbar": {
             "outlinewidth": 0,
             "ticks": ""
            },
            "colorscale": [
             [
              0,
              "#0d0887"
             ],
             [
              0.1111111111111111,
              "#46039f"
             ],
             [
              0.2222222222222222,
              "#7201a8"
             ],
             [
              0.3333333333333333,
              "#9c179e"
             ],
             [
              0.4444444444444444,
              "#bd3786"
             ],
             [
              0.5555555555555556,
              "#d8576b"
             ],
             [
              0.6666666666666666,
              "#ed7953"
             ],
             [
              0.7777777777777778,
              "#fb9f3a"
             ],
             [
              0.8888888888888888,
              "#fdca26"
             ],
             [
              1,
              "#f0f921"
             ]
            ],
            "type": "histogram2d"
           }
          ],
          "histogram2dcontour": [
           {
            "colorbar": {
             "outlinewidth": 0,
             "ticks": ""
            },
            "colorscale": [
             [
              0,
              "#0d0887"
             ],
             [
              0.1111111111111111,
              "#46039f"
             ],
             [
              0.2222222222222222,
              "#7201a8"
             ],
             [
              0.3333333333333333,
              "#9c179e"
             ],
             [
              0.4444444444444444,
              "#bd3786"
             ],
             [
              0.5555555555555556,
              "#d8576b"
             ],
             [
              0.6666666666666666,
              "#ed7953"
             ],
             [
              0.7777777777777778,
              "#fb9f3a"
             ],
             [
              0.8888888888888888,
              "#fdca26"
             ],
             [
              1,
              "#f0f921"
             ]
            ],
            "type": "histogram2dcontour"
           }
          ],
          "mesh3d": [
           {
            "colorbar": {
             "outlinewidth": 0,
             "ticks": ""
            },
            "type": "mesh3d"
           }
          ],
          "parcoords": [
           {
            "line": {
             "colorbar": {
              "outlinewidth": 0,
              "ticks": ""
             }
            },
            "type": "parcoords"
           }
          ],
          "pie": [
           {
            "automargin": true,
            "type": "pie"
           }
          ],
          "scatter": [
           {
            "fillpattern": {
             "fillmode": "overlay",
             "size": 10,
             "solidity": 0.2
            },
            "type": "scatter"
           }
          ],
          "scatter3d": [
           {
            "line": {
             "colorbar": {
              "outlinewidth": 0,
              "ticks": ""
             }
            },
            "marker": {
             "colorbar": {
              "outlinewidth": 0,
              "ticks": ""
             }
            },
            "type": "scatter3d"
           }
          ],
          "scattercarpet": [
           {
            "marker": {
             "colorbar": {
              "outlinewidth": 0,
              "ticks": ""
             }
            },
            "type": "scattercarpet"
           }
          ],
          "scattergeo": [
           {
            "marker": {
             "colorbar": {
              "outlinewidth": 0,
              "ticks": ""
             }
            },
            "type": "scattergeo"
           }
          ],
          "scattergl": [
           {
            "marker": {
             "colorbar": {
              "outlinewidth": 0,
              "ticks": ""
             }
            },
            "type": "scattergl"
           }
          ],
          "scattermapbox": [
           {
            "marker": {
             "colorbar": {
              "outlinewidth": 0,
              "ticks": ""
             }
            },
            "type": "scattermapbox"
           }
          ],
          "scatterpolar": [
           {
            "marker": {
             "colorbar": {
              "outlinewidth": 0,
              "ticks": ""
             }
            },
            "type": "scatterpolar"
           }
          ],
          "scatterpolargl": [
           {
            "marker": {
             "colorbar": {
              "outlinewidth": 0,
              "ticks": ""
             }
            },
            "type": "scatterpolargl"
           }
          ],
          "scatterternary": [
           {
            "marker": {
             "colorbar": {
              "outlinewidth": 0,
              "ticks": ""
             }
            },
            "type": "scatterternary"
           }
          ],
          "surface": [
           {
            "colorbar": {
             "outlinewidth": 0,
             "ticks": ""
            },
            "colorscale": [
             [
              0,
              "#0d0887"
             ],
             [
              0.1111111111111111,
              "#46039f"
             ],
             [
              0.2222222222222222,
              "#7201a8"
             ],
             [
              0.3333333333333333,
              "#9c179e"
             ],
             [
              0.4444444444444444,
              "#bd3786"
             ],
             [
              0.5555555555555556,
              "#d8576b"
             ],
             [
              0.6666666666666666,
              "#ed7953"
             ],
             [
              0.7777777777777778,
              "#fb9f3a"
             ],
             [
              0.8888888888888888,
              "#fdca26"
             ],
             [
              1,
              "#f0f921"
             ]
            ],
            "type": "surface"
           }
          ],
          "table": [
           {
            "cells": {
             "fill": {
              "color": "#EBF0F8"
             },
             "line": {
              "color": "white"
             }
            },
            "header": {
             "fill": {
              "color": "#C8D4E3"
             },
             "line": {
              "color": "white"
             }
            },
            "type": "table"
           }
          ]
         },
         "layout": {
          "annotationdefaults": {
           "arrowcolor": "#2a3f5f",
           "arrowhead": 0,
           "arrowwidth": 1
          },
          "autotypenumbers": "strict",
          "coloraxis": {
           "colorbar": {
            "outlinewidth": 0,
            "ticks": ""
           }
          },
          "colorscale": {
           "diverging": [
            [
             0,
             "#8e0152"
            ],
            [
             0.1,
             "#c51b7d"
            ],
            [
             0.2,
             "#de77ae"
            ],
            [
             0.3,
             "#f1b6da"
            ],
            [
             0.4,
             "#fde0ef"
            ],
            [
             0.5,
             "#f7f7f7"
            ],
            [
             0.6,
             "#e6f5d0"
            ],
            [
             0.7,
             "#b8e186"
            ],
            [
             0.8,
             "#7fbc41"
            ],
            [
             0.9,
             "#4d9221"
            ],
            [
             1,
             "#276419"
            ]
           ],
           "sequential": [
            [
             0,
             "#0d0887"
            ],
            [
             0.1111111111111111,
             "#46039f"
            ],
            [
             0.2222222222222222,
             "#7201a8"
            ],
            [
             0.3333333333333333,
             "#9c179e"
            ],
            [
             0.4444444444444444,
             "#bd3786"
            ],
            [
             0.5555555555555556,
             "#d8576b"
            ],
            [
             0.6666666666666666,
             "#ed7953"
            ],
            [
             0.7777777777777778,
             "#fb9f3a"
            ],
            [
             0.8888888888888888,
             "#fdca26"
            ],
            [
             1,
             "#f0f921"
            ]
           ],
           "sequentialminus": [
            [
             0,
             "#0d0887"
            ],
            [
             0.1111111111111111,
             "#46039f"
            ],
            [
             0.2222222222222222,
             "#7201a8"
            ],
            [
             0.3333333333333333,
             "#9c179e"
            ],
            [
             0.4444444444444444,
             "#bd3786"
            ],
            [
             0.5555555555555556,
             "#d8576b"
            ],
            [
             0.6666666666666666,
             "#ed7953"
            ],
            [
             0.7777777777777778,
             "#fb9f3a"
            ],
            [
             0.8888888888888888,
             "#fdca26"
            ],
            [
             1,
             "#f0f921"
            ]
           ]
          },
          "colorway": [
           "#636efa",
           "#EF553B",
           "#00cc96",
           "#ab63fa",
           "#FFA15A",
           "#19d3f3",
           "#FF6692",
           "#B6E880",
           "#FF97FF",
           "#FECB52"
          ],
          "font": {
           "color": "#2a3f5f"
          },
          "geo": {
           "bgcolor": "white",
           "lakecolor": "white",
           "landcolor": "#E5ECF6",
           "showlakes": true,
           "showland": true,
           "subunitcolor": "white"
          },
          "hoverlabel": {
           "align": "left"
          },
          "hovermode": "closest",
          "mapbox": {
           "style": "light"
          },
          "paper_bgcolor": "white",
          "plot_bgcolor": "#E5ECF6",
          "polar": {
           "angularaxis": {
            "gridcolor": "white",
            "linecolor": "white",
            "ticks": ""
           },
           "bgcolor": "#E5ECF6",
           "radialaxis": {
            "gridcolor": "white",
            "linecolor": "white",
            "ticks": ""
           }
          },
          "scene": {
           "xaxis": {
            "backgroundcolor": "#E5ECF6",
            "gridcolor": "white",
            "gridwidth": 2,
            "linecolor": "white",
            "showbackground": true,
            "ticks": "",
            "zerolinecolor": "white"
           },
           "yaxis": {
            "backgroundcolor": "#E5ECF6",
            "gridcolor": "white",
            "gridwidth": 2,
            "linecolor": "white",
            "showbackground": true,
            "ticks": "",
            "zerolinecolor": "white"
           },
           "zaxis": {
            "backgroundcolor": "#E5ECF6",
            "gridcolor": "white",
            "gridwidth": 2,
            "linecolor": "white",
            "showbackground": true,
            "ticks": "",
            "zerolinecolor": "white"
           }
          },
          "shapedefaults": {
           "line": {
            "color": "#2a3f5f"
           }
          },
          "ternary": {
           "aaxis": {
            "gridcolor": "white",
            "linecolor": "white",
            "ticks": ""
           },
           "baxis": {
            "gridcolor": "white",
            "linecolor": "white",
            "ticks": ""
           },
           "bgcolor": "#E5ECF6",
           "caxis": {
            "gridcolor": "white",
            "linecolor": "white",
            "ticks": ""
           }
          },
          "title": {
           "x": 0.05
          },
          "xaxis": {
           "automargin": true,
           "gridcolor": "white",
           "linecolor": "white",
           "ticks": "",
           "title": {
            "standoff": 15
           },
           "zerolinecolor": "white",
           "zerolinewidth": 2
          },
          "yaxis": {
           "automargin": true,
           "gridcolor": "white",
           "linecolor": "white",
           "ticks": "",
           "title": {
            "standoff": 15
           },
           "zerolinecolor": "white",
           "zerolinewidth": 2
          }
         }
        },
        "title": {
         "text": "Top 20 Feature Importances"
        },
        "xaxis": {
         "tickangle": -45,
         "title": {
          "text": "Feature"
         }
        },
        "yaxis": {
         "title": {
          "text": "Importance"
         }
        }
       }
      }
     },
     "metadata": {},
     "output_type": "display_data"
    }
   ],
   "source": [
    "import plotly.graph_objects as go\n",
    "\n",
    "# ดึงข้อมูลความสำคัญของฟีเจอร์\n",
    "importance = xgb_model.feature_importances_\n",
    "\n",
    "# สร้าง DataFrame จากชื่อฟีเจอร์ (จาก tfidf) และค่าความสำคัญของฟีเจอร์\n",
    "feature_names = tfidf.get_feature_names_out()\n",
    "importance_df = pd.DataFrame({'Feature': feature_names, 'Importance': importance})\n",
    "\n",
    "# เรียงลำดับฟีเจอร์ตามความสำคัญ\n",
    "importance_df = importance_df.sort_values(by='Importance', ascending=False).head(20)  # แสดงเฉพาะ 20 ฟีเจอร์ที่สำคัญที่สุด\n",
    "\n",
    "# สร้างกราฟแสดง Feature Importance ด้วย Plotly\n",
    "fig = go.Figure([go.Bar(x=importance_df['Feature'], y=importance_df['Importance'])])\n",
    "\n",
    "# ปรับแต่งกราฟ\n",
    "fig.update_layout(title='Top 20 Feature Importances',\n",
    "                  xaxis_title='Feature',\n",
    "                  yaxis_title='Importance',\n",
    "                  xaxis_tickangle=-45)\n",
    "\n",
    "# แสดงผล\n",
    "fig.show()\n"
   ]
  },
  {
   "cell_type": "markdown",
   "metadata": {},
   "source": [
    "###  Random Forest"
   ]
  },
  {
   "cell_type": "code",
   "execution_count": 34,
   "metadata": {},
   "outputs": [
    {
     "ename": "ValueError",
     "evalue": "Found input variables with inconsistent numbers of samples: [4221, 5857]",
     "output_type": "error",
     "traceback": [
      "\u001b[0;31m---------------------------------------------------------------------------\u001b[0m",
      "\u001b[0;31mValueError\u001b[0m                                Traceback (most recent call last)",
      "Cell \u001b[0;32mIn[34], line 14\u001b[0m\n\u001b[1;32m     11\u001b[0m y_pred_rf \u001b[38;5;241m=\u001b[39m rf_model\u001b[38;5;241m.\u001b[39mpredict(X_val_w2v)\n\u001b[1;32m     13\u001b[0m \u001b[38;5;66;03m# ประเมินความแม่นยำ\u001b[39;00m\n\u001b[0;32m---> 14\u001b[0m accuracy \u001b[38;5;241m=\u001b[39m \u001b[43maccuracy_score\u001b[49m\u001b[43m(\u001b[49m\u001b[43my_val\u001b[49m\u001b[43m,\u001b[49m\u001b[43m \u001b[49m\u001b[43my_pred_rf\u001b[49m\u001b[43m)\u001b[49m\n\u001b[1;32m     15\u001b[0m \u001b[38;5;28mprint\u001b[39m(\u001b[38;5;124mf\u001b[39m\u001b[38;5;124m\"\u001b[39m\u001b[38;5;124mAccuracy: \u001b[39m\u001b[38;5;132;01m{\u001b[39;00maccuracy\u001b[38;5;132;01m}\u001b[39;00m\u001b[38;5;124m\"\u001b[39m)\n\u001b[1;32m     17\u001b[0m \u001b[38;5;66;03m# แสดงรายงานการจัดหมวดหมู่ (classification report)\u001b[39;00m\n",
      "File \u001b[0;32m~/Library/Caches/pypoetry/virtualenvs/is-project-thailand-tourism-recommendation-qwL-LsgH-py3.12/lib/python3.12/site-packages/sklearn/utils/_param_validation.py:213\u001b[0m, in \u001b[0;36mvalidate_params.<locals>.decorator.<locals>.wrapper\u001b[0;34m(*args, **kwargs)\u001b[0m\n\u001b[1;32m    207\u001b[0m \u001b[38;5;28;01mtry\u001b[39;00m:\n\u001b[1;32m    208\u001b[0m     \u001b[38;5;28;01mwith\u001b[39;00m config_context(\n\u001b[1;32m    209\u001b[0m         skip_parameter_validation\u001b[38;5;241m=\u001b[39m(\n\u001b[1;32m    210\u001b[0m             prefer_skip_nested_validation \u001b[38;5;129;01mor\u001b[39;00m global_skip_validation\n\u001b[1;32m    211\u001b[0m         )\n\u001b[1;32m    212\u001b[0m     ):\n\u001b[0;32m--> 213\u001b[0m         \u001b[38;5;28;01mreturn\u001b[39;00m \u001b[43mfunc\u001b[49m\u001b[43m(\u001b[49m\u001b[38;5;241;43m*\u001b[39;49m\u001b[43margs\u001b[49m\u001b[43m,\u001b[49m\u001b[43m \u001b[49m\u001b[38;5;241;43m*\u001b[39;49m\u001b[38;5;241;43m*\u001b[39;49m\u001b[43mkwargs\u001b[49m\u001b[43m)\u001b[49m\n\u001b[1;32m    214\u001b[0m \u001b[38;5;28;01mexcept\u001b[39;00m InvalidParameterError \u001b[38;5;28;01mas\u001b[39;00m e:\n\u001b[1;32m    215\u001b[0m     \u001b[38;5;66;03m# When the function is just a wrapper around an estimator, we allow\u001b[39;00m\n\u001b[1;32m    216\u001b[0m     \u001b[38;5;66;03m# the function to delegate validation to the estimator, but we replace\u001b[39;00m\n\u001b[1;32m    217\u001b[0m     \u001b[38;5;66;03m# the name of the estimator by the name of the function in the error\u001b[39;00m\n\u001b[1;32m    218\u001b[0m     \u001b[38;5;66;03m# message to avoid confusion.\u001b[39;00m\n\u001b[1;32m    219\u001b[0m     msg \u001b[38;5;241m=\u001b[39m re\u001b[38;5;241m.\u001b[39msub(\n\u001b[1;32m    220\u001b[0m         \u001b[38;5;124mr\u001b[39m\u001b[38;5;124m\"\u001b[39m\u001b[38;5;124mparameter of \u001b[39m\u001b[38;5;124m\\\u001b[39m\u001b[38;5;124mw+ must be\u001b[39m\u001b[38;5;124m\"\u001b[39m,\n\u001b[1;32m    221\u001b[0m         \u001b[38;5;124mf\u001b[39m\u001b[38;5;124m\"\u001b[39m\u001b[38;5;124mparameter of \u001b[39m\u001b[38;5;132;01m{\u001b[39;00mfunc\u001b[38;5;241m.\u001b[39m\u001b[38;5;18m__qualname__\u001b[39m\u001b[38;5;132;01m}\u001b[39;00m\u001b[38;5;124m must be\u001b[39m\u001b[38;5;124m\"\u001b[39m,\n\u001b[1;32m    222\u001b[0m         \u001b[38;5;28mstr\u001b[39m(e),\n\u001b[1;32m    223\u001b[0m     )\n",
      "File \u001b[0;32m~/Library/Caches/pypoetry/virtualenvs/is-project-thailand-tourism-recommendation-qwL-LsgH-py3.12/lib/python3.12/site-packages/sklearn/metrics/_classification.py:231\u001b[0m, in \u001b[0;36maccuracy_score\u001b[0;34m(y_true, y_pred, normalize, sample_weight)\u001b[0m\n\u001b[1;32m    229\u001b[0m xp, _, device \u001b[38;5;241m=\u001b[39m get_namespace_and_device(y_true, y_pred, sample_weight)\n\u001b[1;32m    230\u001b[0m \u001b[38;5;66;03m# Compute accuracy for each possible representation\u001b[39;00m\n\u001b[0;32m--> 231\u001b[0m y_type, y_true, y_pred \u001b[38;5;241m=\u001b[39m \u001b[43m_check_targets\u001b[49m\u001b[43m(\u001b[49m\u001b[43my_true\u001b[49m\u001b[43m,\u001b[49m\u001b[43m \u001b[49m\u001b[43my_pred\u001b[49m\u001b[43m)\u001b[49m\n\u001b[1;32m    232\u001b[0m check_consistent_length(y_true, y_pred, sample_weight)\n\u001b[1;32m    233\u001b[0m \u001b[38;5;28;01mif\u001b[39;00m y_type\u001b[38;5;241m.\u001b[39mstartswith(\u001b[38;5;124m\"\u001b[39m\u001b[38;5;124mmultilabel\u001b[39m\u001b[38;5;124m\"\u001b[39m):\n",
      "File \u001b[0;32m~/Library/Caches/pypoetry/virtualenvs/is-project-thailand-tourism-recommendation-qwL-LsgH-py3.12/lib/python3.12/site-packages/sklearn/metrics/_classification.py:103\u001b[0m, in \u001b[0;36m_check_targets\u001b[0;34m(y_true, y_pred)\u001b[0m\n\u001b[1;32m     76\u001b[0m \u001b[38;5;250m\u001b[39m\u001b[38;5;124;03m\"\"\"Check that y_true and y_pred belong to the same classification task.\u001b[39;00m\n\u001b[1;32m     77\u001b[0m \n\u001b[1;32m     78\u001b[0m \u001b[38;5;124;03mThis converts multiclass or binary types to a common shape, and raises a\u001b[39;00m\n\u001b[0;32m   (...)\u001b[0m\n\u001b[1;32m    100\u001b[0m \u001b[38;5;124;03my_pred : array or indicator matrix\u001b[39;00m\n\u001b[1;32m    101\u001b[0m \u001b[38;5;124;03m\"\"\"\u001b[39;00m\n\u001b[1;32m    102\u001b[0m xp, _ \u001b[38;5;241m=\u001b[39m get_namespace(y_true, y_pred)\n\u001b[0;32m--> 103\u001b[0m \u001b[43mcheck_consistent_length\u001b[49m\u001b[43m(\u001b[49m\u001b[43my_true\u001b[49m\u001b[43m,\u001b[49m\u001b[43m \u001b[49m\u001b[43my_pred\u001b[49m\u001b[43m)\u001b[49m\n\u001b[1;32m    104\u001b[0m type_true \u001b[38;5;241m=\u001b[39m type_of_target(y_true, input_name\u001b[38;5;241m=\u001b[39m\u001b[38;5;124m\"\u001b[39m\u001b[38;5;124my_true\u001b[39m\u001b[38;5;124m\"\u001b[39m)\n\u001b[1;32m    105\u001b[0m type_pred \u001b[38;5;241m=\u001b[39m type_of_target(y_pred, input_name\u001b[38;5;241m=\u001b[39m\u001b[38;5;124m\"\u001b[39m\u001b[38;5;124my_pred\u001b[39m\u001b[38;5;124m\"\u001b[39m)\n",
      "File \u001b[0;32m~/Library/Caches/pypoetry/virtualenvs/is-project-thailand-tourism-recommendation-qwL-LsgH-py3.12/lib/python3.12/site-packages/sklearn/utils/validation.py:457\u001b[0m, in \u001b[0;36mcheck_consistent_length\u001b[0;34m(*arrays)\u001b[0m\n\u001b[1;32m    455\u001b[0m uniques \u001b[38;5;241m=\u001b[39m np\u001b[38;5;241m.\u001b[39munique(lengths)\n\u001b[1;32m    456\u001b[0m \u001b[38;5;28;01mif\u001b[39;00m \u001b[38;5;28mlen\u001b[39m(uniques) \u001b[38;5;241m>\u001b[39m \u001b[38;5;241m1\u001b[39m:\n\u001b[0;32m--> 457\u001b[0m     \u001b[38;5;28;01mraise\u001b[39;00m \u001b[38;5;167;01mValueError\u001b[39;00m(\n\u001b[1;32m    458\u001b[0m         \u001b[38;5;124m\"\u001b[39m\u001b[38;5;124mFound input variables with inconsistent numbers of samples: \u001b[39m\u001b[38;5;132;01m%r\u001b[39;00m\u001b[38;5;124m\"\u001b[39m\n\u001b[1;32m    459\u001b[0m         \u001b[38;5;241m%\u001b[39m [\u001b[38;5;28mint\u001b[39m(l) \u001b[38;5;28;01mfor\u001b[39;00m l \u001b[38;5;129;01min\u001b[39;00m lengths]\n\u001b[1;32m    460\u001b[0m     )\n",
      "\u001b[0;31mValueError\u001b[0m: Found input variables with inconsistent numbers of samples: [4221, 5857]"
     ]
    }
   ],
   "source": [
    "from sklearn.ensemble import RandomForestClassifier\n",
    "from sklearn.metrics import classification_report, accuracy_score\n",
    "\n",
    "# สร้างโมเดล Random Forest\n",
    "rf_model = RandomForestClassifier(n_estimators=100, random_state=42)\n",
    "\n",
    "# ฝึกโมเดลด้วยข้อมูลฝึก\n",
    "rf_model.fit(X_train_w2v, y_train_resampled)\n",
    "\n",
    "# ทำนายผลลัพธ์บนชุดข้อมูล validation\n",
    "y_pred_rf = rf_model.predict(X_val_w2v)\n",
    "\n",
    "# ประเมินความแม่นยำ\n",
    "accuracy = accuracy_score(y_val, y_pred_rf)\n",
    "print(f\"Accuracy: {accuracy}\")\n",
    "\n",
    "# แสดงรายงานการจัดหมวดหมู่ (classification report)\n",
    "print(classification_report(y_val, y_pred_rf))\n"
   ]
  },
  {
   "cell_type": "code",
   "execution_count": 21,
   "metadata": {},
   "outputs": [],
   "source": [
    "from sklearn.model_selection import cross_val_score, KFold, cross_validate\n",
    "from sklearn.naive_bayes import GaussianNB\n",
    "from sklearn.neighbors import KNeighborsClassifier\n",
    "from sklearn.tree import DecisionTreeClassifier\n",
    "from sklearn.ensemble import RandomForestClassifier\n",
    "import xgboost as xgb\n",
    "import numpy as np\n",
    "\n",
    "# กำหนดจำนวน fold\n",
    "kf = KFold(n_splits=5, shuffle=True, random_state=42)"
   ]
  },
  {
   "cell_type": "code",
   "execution_count": 22,
   "metadata": {},
   "outputs": [],
   "source": [
    "# สร้างโมเดลที่ต้องการประเมิน\n",
    "models = {\n",
    "    \"KNN\": KNeighborsClassifier(n_neighbors=5),\n",
    "    \"Decision Tree\": DecisionTreeClassifier(),\n",
    "    \"Random Forest\": RandomForestClassifier(n_estimators=100),\n",
    "    \"Naive Bayes\": GaussianNB(),\n",
    "    \"XGBoost\": xgb.XGBClassifier(n_estimators=100, max_depth=5, learning_rate=0.1, subsample=0.8)\n",
    "}\n",
    "\n",
    "# ฟังก์ชันประเมินโมเดลแต่ละตัวด้วย K-Fold\n",
    "def evaluate_model(model, X, y):\n",
    "    scoring = {\n",
    "        'accuracy': 'accuracy',\n",
    "        'precision': 'precision_macro',  # For multiclass, use precision_macro\n",
    "        'recall': 'recall_macro',        # For multiclass, use recall_macro\n",
    "        'f1': 'f1_macro'     \n",
    "    }\n",
    "    scores = cross_validate(model, X, y, cv=kf, scoring=scoring, return_train_score=False)\n",
    "    return scores\n"
   ]
  },
  {
   "cell_type": "code",
   "execution_count": 23,
   "metadata": {},
   "outputs": [
    {
     "name": "stdout",
     "output_type": "stream",
     "text": [
      "#1 KNN:\n",
      "  Mean Accuracy: 0.7293 (+/- 0.0071)\n",
      "  Mean Precision: 0.7235 (+/- 0.0084)\n",
      "  Mean Recall: 0.7312 (+/- 0.0078)\n",
      "  Mean F1-Score: 0.7177 (+/- 0.0078)\n",
      "#2 Decision Tree:\n",
      "  Mean Accuracy: 0.7984 (+/- 0.0051)\n",
      "  Mean Precision: 0.7951 (+/- 0.0060)\n",
      "  Mean Recall: 0.7999 (+/- 0.0060)\n",
      "  Mean F1-Score: 0.7938 (+/- 0.0058)\n",
      "#3 Random Forest:\n",
      "  Mean Accuracy: 0.8889 (+/- 0.0049)\n",
      "  Mean Precision: 0.9043 (+/- 0.0041)\n",
      "  Mean Recall: 0.8891 (+/- 0.0057)\n",
      "  Mean F1-Score: 0.8879 (+/- 0.0059)\n",
      "#4 Naive Bayes:\n",
      "  Mean Accuracy: 0.3611 (+/- 0.0105)\n",
      "  Mean Precision: 0.3870 (+/- 0.0212)\n",
      "  Mean Recall: 0.3595 (+/- 0.0113)\n",
      "  Mean F1-Score: 0.3024 (+/- 0.0288)\n",
      "#5 XGBoost:\n",
      "  Mean Accuracy: 0.8181 (+/- 0.0014)\n",
      "  Mean Precision: 0.8161 (+/- 0.0023)\n",
      "  Mean Recall: 0.8191 (+/- 0.0033)\n",
      "  Mean F1-Score: 0.8172 (+/- 0.0027)\n",
      "Average Metrics for Each Model:\n",
      "KNN: {'accuracy': 0.7292879608751344, 'precision': 0.7235313858968702, 'recall': 0.7312280188160379, 'f1': 0.7177244997330252}\n",
      "Decision Tree: {'accuracy': 0.7984480127116169, 'precision': 0.7951219870577908, 'recall': 0.7999326025111679, 'f1': 0.793772381034946}\n",
      "Random Forest: {'accuracy': 0.8889045766214034, 'precision': 0.9042729487746841, 'recall': 0.8891182212256844, 'f1': 0.8879206245917339}\n",
      "Naive Bayes: {'accuracy': 0.3610960662452676, 'precision': 0.38701318545479246, 'recall': 0.35953304694381827, 'f1': 0.3023757987719809}\n",
      "XGBoost: {'accuracy': 0.818061874845645, 'precision': 0.8160506304280112, 'recall': 0.8191379909497964, 'f1': 0.8171622605486041}\n",
      "\n",
      "Best Model based on Accuracy: Random Forest with an average accuracy of 0.8889\n"
     ]
    }
   ],
   "source": [
    "# ประเมินโมเดลแต่ละตัวด้วย K-Fold Cross-Validation\n",
    "results = {}\n",
    "index = 1\n",
    "average_metrics = {}\n",
    "for model_name, model in models.items():\n",
    "    scores = evaluate_model(model, X_train_w2v, y_train_resampled)\n",
    "    results[model_name] = scores\n",
    "    print(f\"#{index} {model_name}:\")\n",
    "    print(f\"  Mean Accuracy: {np.mean(scores['test_accuracy']):.4f} (+/- {np.std(scores['test_accuracy']):.4f})\")\n",
    "    print(f\"  Mean Precision: {np.mean(scores['test_precision']):.4f} (+/- {np.std(scores['test_precision']):.4f})\")\n",
    "    print(f\"  Mean Recall: {np.mean(scores['test_recall']):.4f} (+/- {np.std(scores['test_recall']):.4f})\")\n",
    "    print(f\"  Mean F1-Score: {np.mean(scores['test_f1']):.4f} (+/- {np.std(scores['test_f1']):.4f})\")\n",
    "    average_metrics[model_name] = {\n",
    "        \"accuracy\": np.mean(scores['test_accuracy']),\n",
    "        \"precision\": np.mean(scores['test_precision']),\n",
    "        \"recall\": np.mean(scores['test_recall']),\n",
    "        \"f1\": np.mean(scores['test_f1'])\n",
    "    }\n",
    "    index += 1\n",
    "    \n",
    "# Print the average metrics for each model\n",
    "print(\"Average Metrics for Each Model:\")\n",
    "for model_name, avg_metrics in average_metrics.items():\n",
    "    print(f\"{model_name}: {avg_metrics}\")\n",
    "\n",
    "# Select the best model based on accuracy\n",
    "best_model_name = max(average_metrics, key=lambda model: average_metrics[model]['accuracy'])\n",
    "best_model_accuracy = average_metrics[best_model_name]['accuracy']\n",
    "\n",
    "print(f\"\\nBest Model based on Accuracy: {best_model_name} with an average accuracy of {best_model_accuracy:.4f}\")\n"
   ]
  },
  {
   "cell_type": "code",
   "execution_count": 37,
   "metadata": {},
   "outputs": [],
   "source": [
    "import pickle\n",
    "\n",
    "SAVED_MODEL_DIR = '../../models'"
   ]
  },
  {
   "cell_type": "code",
   "execution_count": null,
   "metadata": {},
   "outputs": [],
   "source": [
    "xgb_model.save_model(f'{SAVED_MODEL_DIR}/xgboost_model_sample.json')\n",
    "\n",
    "with open(f'{SAVED_MODEL_DIR}/dicision_model_sample.pkl', 'wb') as file:\n",
    "    pickle.dump(dt_model, file)\n",
    "    \n",
    "with open(f'{SAVED_MODEL_DIR}/naive_bayes_model_sample.pkl', 'wb') as file:\n",
    "    pickle.dump(gnb_model, file)\n",
    "    \n",
    "with open(f'{SAVED_MODEL_DIR}/random_forest_model_sample.pkl', 'wb') as file:\n",
    "    pickle.dump(rf_model, file)\n",
    "\n",
    "with open(f'{SAVED_MODEL_DIR}/k_nearest_neighbor_model_sample.pkl', 'wb') as file:\n",
    "    pickle.dump(knn_model, file)"
   ]
  },
  {
   "cell_type": "code",
   "execution_count": 38,
   "metadata": {},
   "outputs": [],
   "source": [
    "import xgboost as xgb\n",
    "\n",
    "# Load the model\n",
    "xgb_model = xgb.XGBClassifier()  # or XGBRegressor() if it's a regression task\n",
    "xgb_model.load_model(f'{SAVED_MODEL_DIR}/xgboost_model_sample.json') "
   ]
  },
  {
   "cell_type": "code",
   "execution_count": 41,
   "metadata": {},
   "outputs": [
    {
     "name": "stdout",
     "output_type": "stream",
     "text": [
      "(6890, 300)\n",
      "(6890,)\n"
     ]
    }
   ],
   "source": [
    "print(X_train_w2v.shape) \n",
    "print(y_train_resampled.shape)\n"
   ]
  },
  {
   "cell_type": "code",
   "execution_count": 46,
   "metadata": {},
   "outputs": [
    {
     "name": "stdout",
     "output_type": "stream",
     "text": [
      "Accuracy: 0.7986070806732444\n",
      "              precision    recall  f1-score   support\n",
      "\n",
      "           0       0.96      0.98      0.97       589\n",
      "           1       0.69      0.73      0.71       544\n",
      "           2       0.73      0.68      0.70       590\n",
      "\n",
      "    accuracy                           0.80      1723\n",
      "   macro avg       0.79      0.80      0.80      1723\n",
      "weighted avg       0.80      0.80      0.80      1723\n",
      "\n",
      "Confusion Matrix:\n",
      "[[579   0  10]\n",
      " [ 12 398 134]\n",
      " [ 15 176 399]]\n"
     ]
    }
   ],
   "source": [
    "# ทำนายผลลัพธ์บนชุดข้อมูล validation\n",
    "y_pred_xgb = xgb_model.predict(X_val_w2v)\n",
    "\n",
    "# ประเมินความแม่นยำ\n",
    "accuracy = accuracy_score(y_val, y_pred_xgb)\n",
    "print(f\"Accuracy: {accuracy}\")\n",
    "\n",
    "# แสดงรายงานการจัดหมวดหมู่\n",
    "print(classification_report(y_val, y_pred_xgb))\n",
    "\n",
    "# Confusion Matrix\n",
    "conf_matrix = confusion_matrix(y_val, y_pred_xgb, labels=[0, 1, 2])  # Assuming 0: negative, 1: neutral, 2: positive\n",
    "print(\"Confusion Matrix:\")\n",
    "print(conf_matrix)"
   ]
  },
  {
   "cell_type": "code",
   "execution_count": 48,
   "metadata": {},
   "outputs": [
    {
     "data": {
      "image/png": "[encoded data removed]",
      "text/plain": [
       "<Figure size 800x600 with 2 Axes>"
      ]
     },
     "metadata": {},
     "output_type": "display_data"
    }
   ],
   "source": [
    "import seaborn as sns\n",
    "\n",
    "# Visualize the Confusion Matrix\n",
    "plt.figure(figsize=(8, 6))\n",
    "sns.heatmap(conf_matrix, annot=True, fmt='d', cmap='Blues', xticklabels=['negative', 'neutral', 'positive'], yticklabels=['negative', 'neutral', 'positive'])\n",
    "plt.xlabel('Predicted Sentiment')\n",
    "plt.ylabel('True Sentiment')\n",
    "plt.title('Confusion Matrix of SVM Model with SMOTE, Random Undersampling, and Class Weights')\n",
    "plt.show()"
   ]
  },
  {
   "cell_type": "code",
   "execution_count": 73,
   "metadata": {},
   "outputs": [
    {
     "data": {
      "image/png": "[encoded data removed]",
      "text/plain": [
       "<Figure size 800x600 with 1 Axes>"
      ]
     },
     "metadata": {},
     "output_type": "display_data"
    }
   ],
   "source": [
    "from sklearn.decomposition import PCA\n",
    "\n",
    "# If X_val has more than 2 features, use PCA to reduce it to 2 dimensions\n",
    "pca = PCA(n_components=2)\n",
    "X_val_pca = pca.fit_transform(X_val)\n",
    "\n",
    "# Create a scatter plot\n",
    "plt.figure(figsize=(8, 6))\n",
    "\n",
    "# Scatter plot for class 0 (negative)\n",
    "plt.scatter(X_val_pca[y_pred_xgb == 0, 0], X_val_pca[y_pred_xgb == 0, 1], \n",
    "            color='red', label='Negative', alpha=0.5)\n",
    "\n",
    "# Scatter plot for class 1 (neutral)\n",
    "plt.scatter(X_val_pca[y_pred_xgb == 1, 0], X_val_pca[y_pred_xgb == 1, 1], \n",
    "            color='green', label='Neutral', alpha=0.5)\n",
    "\n",
    "# Scatter plot for class 2 (positive)\n",
    "plt.scatter(X_val_pca[y_pred_xgb == 2, 0], X_val_pca[y_pred_xgb == 2, 1], \n",
    "            color='blue', label='Positive', alpha=0.5)\n",
    "\n",
    "# Adding labels and title\n",
    "plt.xlabel('PCA Feature 1')\n",
    "plt.ylabel('PCA Feature 2')\n",
    "plt.title('XGBoost Classification Scatter Plot with 3 Classes')\n",
    "plt.legend()\n",
    "\n",
    "plt.show()"
   ]
  },
  {
   "cell_type": "code",
   "execution_count": 49,
   "metadata": {},
   "outputs": [
    {
     "name": "stdout",
     "output_type": "stream",
     "text": [
      "Precision: 0.7972\n",
      "Recall: 0.7986\n",
      "F1-Score: 0.7972\n"
     ]
    }
   ],
   "source": [
    "# Calculate precision, recall, and F1-score\n",
    "precision = precision_score(y_val, y_pred_xgb, average='weighted')\n",
    "recall = recall_score(y_val, y_pred_xgb, average='weighted')\n",
    "f1 = f1_score(y_val, y_pred_xgb, average='weighted')\n",
    "\n",
    "print(f'Precision: {precision:.4f}')\n",
    "print(f'Recall: {recall:.4f}')\n",
    "print(f'F1-Score: {f1:.4f}')"
   ]
  },
  {
   "cell_type": "code",
   "execution_count": 55,
   "metadata": {},
   "outputs": [],
   "source": [
    "predict_label = y_val"
   ]
  },
  {
   "cell_type": "code",
   "execution_count": 56,
   "metadata": {},
   "outputs": [],
   "source": [
    "redicted_df = pd.DataFrame({'predicted': y_pred_xgb}, index=y_val.index)\n",
    "predict_df = pd.concat([y_val, redicted_df], axis=1)"
   ]
  },
  {
   "cell_type": "code",
   "execution_count": 57,
   "metadata": {},
   "outputs": [
    {
     "data": {
      "text/html": [
       "<div>\n",
       "<style scoped>\n",
       "    .dataframe tbody tr th:only-of-type {\n",
       "        vertical-align: middle;\n",
       "    }\n",
       "\n",
       "    .dataframe tbody tr th {\n",
       "        vertical-align: top;\n",
       "    }\n",
       "\n",
       "    .dataframe thead th {\n",
       "        text-align: right;\n",
       "    }\n",
       "</style>\n",
       "<table border=\"1\" class=\"dataframe\">\n",
       "  <thead>\n",
       "    <tr style=\"text-align: right;\">\n",
       "      <th></th>\n",
       "      <th>sentiment</th>\n",
       "      <th>predicted</th>\n",
       "    </tr>\n",
       "  </thead>\n",
       "  <tbody>\n",
       "    <tr>\n",
       "      <th>4205</th>\n",
       "      <td>2</td>\n",
       "      <td>1</td>\n",
       "    </tr>\n",
       "    <tr>\n",
       "      <th>1665</th>\n",
       "      <td>1</td>\n",
       "      <td>1</td>\n",
       "    </tr>\n",
       "    <tr>\n",
       "      <th>3121</th>\n",
       "      <td>2</td>\n",
       "      <td>2</td>\n",
       "    </tr>\n",
       "    <tr>\n",
       "      <th>3126</th>\n",
       "      <td>2</td>\n",
       "      <td>0</td>\n",
       "    </tr>\n",
       "    <tr>\n",
       "      <th>3688</th>\n",
       "      <td>0</td>\n",
       "      <td>0</td>\n",
       "    </tr>\n",
       "    <tr>\n",
       "      <th>...</th>\n",
       "      <td>...</td>\n",
       "      <td>...</td>\n",
       "    </tr>\n",
       "    <tr>\n",
       "      <th>8510</th>\n",
       "      <td>1</td>\n",
       "      <td>1</td>\n",
       "    </tr>\n",
       "    <tr>\n",
       "      <th>7445</th>\n",
       "      <td>2</td>\n",
       "      <td>1</td>\n",
       "    </tr>\n",
       "    <tr>\n",
       "      <th>2132</th>\n",
       "      <td>0</td>\n",
       "      <td>0</td>\n",
       "    </tr>\n",
       "    <tr>\n",
       "      <th>247</th>\n",
       "      <td>1</td>\n",
       "      <td>1</td>\n",
       "    </tr>\n",
       "    <tr>\n",
       "      <th>4011</th>\n",
       "      <td>2</td>\n",
       "      <td>1</td>\n",
       "    </tr>\n",
       "  </tbody>\n",
       "</table>\n",
       "<p>1723 rows × 2 columns</p>\n",
       "</div>"
      ],
      "text/plain": [
       "      sentiment  predicted\n",
       "4205          2          1\n",
       "1665          1          1\n",
       "3121          2          2\n",
       "3126          2          0\n",
       "3688          0          0\n",
       "...         ...        ...\n",
       "8510          1          1\n",
       "7445          2          1\n",
       "2132          0          0\n",
       "247           1          1\n",
       "4011          2          1\n",
       "\n",
       "[1723 rows x 2 columns]"
      ]
     },
     "execution_count": 57,
     "metadata": {},
     "output_type": "execute_result"
    }
   ],
   "source": [
    "predict_df"
   ]
  },
  {
   "cell_type": "code",
   "execution_count": 59,
   "metadata": {},
   "outputs": [],
   "source": [
    "valid_y_val = predict_df.loc[predict_df.index.isin(review_df.index)]\n",
    "filtered_reviews = review_df.loc[valid_y_val.index]"
   ]
  },
  {
   "cell_type": "code",
   "execution_count": 60,
   "metadata": {},
   "outputs": [
    {
     "data": {
      "text/html": [
       "<div>\n",
       "<style scoped>\n",
       "    .dataframe tbody tr th:only-of-type {\n",
       "        vertical-align: middle;\n",
       "    }\n",
       "\n",
       "    .dataframe tbody tr th {\n",
       "        vertical-align: top;\n",
       "    }\n",
       "\n",
       "    .dataframe thead th {\n",
       "        text-align: right;\n",
       "    }\n",
       "</style>\n",
       "<table border=\"1\" class=\"dataframe\">\n",
       "  <thead>\n",
       "    <tr style=\"text-align: right;\">\n",
       "      <th></th>\n",
       "      <th>helpful_votes</th>\n",
       "      <th>location_id</th>\n",
       "      <th>review_id</th>\n",
       "      <th>review</th>\n",
       "      <th>review_subject</th>\n",
       "      <th>trip_type</th>\n",
       "      <th>rating</th>\n",
       "      <th>location_name</th>\n",
       "      <th>province</th>\n",
       "      <th>place_id</th>\n",
       "      <th>emotion</th>\n",
       "      <th>cleaned_review</th>\n",
       "      <th>embedding</th>\n",
       "      <th>sentiment</th>\n",
       "    </tr>\n",
       "  </thead>\n",
       "  <tbody>\n",
       "    <tr>\n",
       "      <th>4205</th>\n",
       "      <td>0</td>\n",
       "      <td>11867768</td>\n",
       "      <td>660193827</td>\n",
       "      <td>The place is a real gem, nestling in the cool ...</td>\n",
       "      <td>Not to be Missed!</td>\n",
       "      <td>Couples</td>\n",
       "      <td>5</td>\n",
       "      <td>The Royal Agricultural Station Angkhang</td>\n",
       "      <td>Phetchabun</td>\n",
       "      <td>P03012884</td>\n",
       "      <td>joy</td>\n",
       "      <td>place real gem nestling cool green upland doi ...</td>\n",
       "      <td>[[-0.006027937866747379, 0.08820415288209915, ...</td>\n",
       "      <td>positive</td>\n",
       "    </tr>\n",
       "    <tr>\n",
       "      <th>1665</th>\n",
       "      <td>0</td>\n",
       "      <td>16868178</td>\n",
       "      <td>893223254</td>\n",
       "      <td>Nice view, but you need to be be careful when ...</td>\n",
       "      <td>Nice view</td>\n",
       "      <td>Friends getaway</td>\n",
       "      <td>5</td>\n",
       "      <td>Chado Cliff Viewpoint</td>\n",
       "      <td>Phra Nakhon Si Ayutthaya</td>\n",
       "      <td>P03017905</td>\n",
       "      <td>joy</td>\n",
       "      <td>nice view need careful hiking natural trail be...</td>\n",
       "      <td>[[-0.015819119289517403, 0.2557101249694824, 0...</td>\n",
       "      <td>positive</td>\n",
       "    </tr>\n",
       "    <tr>\n",
       "      <th>3121</th>\n",
       "      <td>1</td>\n",
       "      <td>556614</td>\n",
       "      <td>874997345</td>\n",
       "      <td>Doi Mae Salong is a beautiful and interesting ...</td>\n",
       "      <td>Beautiful and peaceful</td>\n",
       "      <td>NONE</td>\n",
       "      <td>5</td>\n",
       "      <td>Doi Mae Salong</td>\n",
       "      <td>Nakhon Sawan</td>\n",
       "      <td>P03016134</td>\n",
       "      <td>joy</td>\n",
       "      <td>doi mae salong beautiful interesting place vis...</td>\n",
       "      <td>[[0.0, 0.0, 0.0, 0.0, 0.0, 0.0, 0.0, 0.0, 0.0,...</td>\n",
       "      <td>positive</td>\n",
       "    </tr>\n",
       "    <tr>\n",
       "      <th>3126</th>\n",
       "      <td>0</td>\n",
       "      <td>6669517</td>\n",
       "      <td>632751727</td>\n",
       "      <td>Located on the way we back to our accommodatio...</td>\n",
       "      <td>temple that next to the road</td>\n",
       "      <td>Couples</td>\n",
       "      <td>3</td>\n",
       "      <td>Chedi Phra Borommasaririkkathat Khao Kho</td>\n",
       "      <td>Nakhon Sawan</td>\n",
       "      <td>P03016132</td>\n",
       "      <td>joy</td>\n",
       "      <td>located way back accommodation look time avail...</td>\n",
       "      <td>[[-0.006226921919733286, 0.06969726830720901, ...</td>\n",
       "      <td>neutral</td>\n",
       "    </tr>\n",
       "    <tr>\n",
       "      <th>3688</th>\n",
       "      <td>1</td>\n",
       "      <td>7659431</td>\n",
       "      <td>613000573</td>\n",
       "      <td>i stayed on koh larn at the castello resort ov...</td>\n",
       "      <td>i love this island so much</td>\n",
       "      <td>Solo travel</td>\n",
       "      <td>5</td>\n",
       "      <td>Thong Lang Beach</td>\n",
       "      <td>Sukhothai</td>\n",
       "      <td>P03025214</td>\n",
       "      <td>joy</td>\n",
       "      <td>stayed koh larn castello resort christmas enjo...</td>\n",
       "      <td>[[-0.0006162917125038803, 0.013998796232044697...</td>\n",
       "      <td>positive</td>\n",
       "    </tr>\n",
       "    <tr>\n",
       "      <th>...</th>\n",
       "      <td>...</td>\n",
       "      <td>...</td>\n",
       "      <td>...</td>\n",
       "      <td>...</td>\n",
       "      <td>...</td>\n",
       "      <td>...</td>\n",
       "      <td>...</td>\n",
       "      <td>...</td>\n",
       "      <td>...</td>\n",
       "      <td>...</td>\n",
       "      <td>...</td>\n",
       "      <td>...</td>\n",
       "      <td>...</td>\n",
       "      <td>...</td>\n",
       "    </tr>\n",
       "    <tr>\n",
       "      <th>469</th>\n",
       "      <td>0</td>\n",
       "      <td>8874054</td>\n",
       "      <td>875897422</td>\n",
       "      <td>Chaio por Phawo Shrine is the most popular pra...</td>\n",
       "      <td>Most Respect shine in Mae sot People</td>\n",
       "      <td>NONE</td>\n",
       "      <td>5</td>\n",
       "      <td>Chao Por Phawo Shrine</td>\n",
       "      <td>Nonthaburi</td>\n",
       "      <td>P03016494</td>\n",
       "      <td>joy</td>\n",
       "      <td>chaio por phawo shrine popular pray respect pl...</td>\n",
       "      <td>[[-0.0091639319434762, 0.1279701143503189, 0.0...</td>\n",
       "      <td>positive</td>\n",
       "    </tr>\n",
       "    <tr>\n",
       "      <th>4129</th>\n",
       "      <td>1</td>\n",
       "      <td>1307603</td>\n",
       "      <td>750690836</td>\n",
       "      <td>Took a fast boat for a magical day at Hapla Be...</td>\n",
       "      <td>Blissful</td>\n",
       "      <td>Couples</td>\n",
       "      <td>5</td>\n",
       "      <td>Koh Kho Khao Island</td>\n",
       "      <td>Phetchabun</td>\n",
       "      <td>P03004050</td>\n",
       "      <td>joy</td>\n",
       "      <td>took fast boat magical day hapla beach real ro...</td>\n",
       "      <td>[[0.0, 0.0, 0.0, 0.0, 0.0, 0.0, 0.0, 0.0, 0.0,...</td>\n",
       "      <td>positive</td>\n",
       "    </tr>\n",
       "    <tr>\n",
       "      <th>2132</th>\n",
       "      <td>0</td>\n",
       "      <td>554864</td>\n",
       "      <td>696305303</td>\n",
       "      <td>in the twelfe-year animal cycle the rabbit is ...</td>\n",
       "      <td>the rabbit temple</td>\n",
       "      <td>Couples</td>\n",
       "      <td>5</td>\n",
       "      <td>Wat Phrathat Chae Haeng</td>\n",
       "      <td>Sing Buri</td>\n",
       "      <td>P03013402</td>\n",
       "      <td>joy</td>\n",
       "      <td>twelfeyear animal cycle rabbit one wat phra ch...</td>\n",
       "      <td>[[0.0, 0.0, 0.0, 0.0, 0.0, 0.0, 0.0, 0.0, 0.0,...</td>\n",
       "      <td>positive</td>\n",
       "    </tr>\n",
       "    <tr>\n",
       "      <th>247</th>\n",
       "      <td>0</td>\n",
       "      <td>25571501</td>\n",
       "      <td>929540899</td>\n",
       "      <td>We went on a weekday and was pleased that this...</td>\n",
       "      <td>Best Jodd Fair</td>\n",
       "      <td>Friends getaway</td>\n",
       "      <td>5</td>\n",
       "      <td>Jodd Fairs DanNeramit</td>\n",
       "      <td>Bangkok</td>\n",
       "      <td>P03022261</td>\n",
       "      <td>joy</td>\n",
       "      <td>went weekday pleased jodd fair wasnt packed ma...</td>\n",
       "      <td>[[-0.0011091228807345033, 0.03485574945807457,...</td>\n",
       "      <td>positive</td>\n",
       "    </tr>\n",
       "    <tr>\n",
       "      <th>4011</th>\n",
       "      <td>1</td>\n",
       "      <td>2359241</td>\n",
       "      <td>931977927</td>\n",
       "      <td>A small group of shops and restaurants created...</td>\n",
       "      <td>A manufactured village …</td>\n",
       "      <td>Family</td>\n",
       "      <td>3</td>\n",
       "      <td>Turtle Village Shops &amp; Cuisine</td>\n",
       "      <td>Phichit</td>\n",
       "      <td>P03018368</td>\n",
       "      <td>joy</td>\n",
       "      <td>small group shop restaurant created support co...</td>\n",
       "      <td>[[-0.0006162917125038803, 0.013998796232044697...</td>\n",
       "      <td>neutral</td>\n",
       "    </tr>\n",
       "  </tbody>\n",
       "</table>\n",
       "<p>1170 rows × 14 columns</p>\n",
       "</div>"
      ],
      "text/plain": [
       "      helpful_votes  location_id  review_id  \\\n",
       "4205              0     11867768  660193827   \n",
       "1665              0     16868178  893223254   \n",
       "3121              1       556614  874997345   \n",
       "3126              0      6669517  632751727   \n",
       "3688              1      7659431  613000573   \n",
       "...             ...          ...        ...   \n",
       "469               0      8874054  875897422   \n",
       "4129              1      1307603  750690836   \n",
       "2132              0       554864  696305303   \n",
       "247               0     25571501  929540899   \n",
       "4011              1      2359241  931977927   \n",
       "\n",
       "                                                 review  \\\n",
       "4205  The place is a real gem, nestling in the cool ...   \n",
       "1665  Nice view, but you need to be be careful when ...   \n",
       "3121  Doi Mae Salong is a beautiful and interesting ...   \n",
       "3126  Located on the way we back to our accommodatio...   \n",
       "3688  i stayed on koh larn at the castello resort ov...   \n",
       "...                                                 ...   \n",
       "469   Chaio por Phawo Shrine is the most popular pra...   \n",
       "4129  Took a fast boat for a magical day at Hapla Be...   \n",
       "2132  in the twelfe-year animal cycle the rabbit is ...   \n",
       "247   We went on a weekday and was pleased that this...   \n",
       "4011  A small group of shops and restaurants created...   \n",
       "\n",
       "                            review_subject        trip_type  rating  \\\n",
       "4205                     Not to be Missed!          Couples       5   \n",
       "1665                             Nice view  Friends getaway       5   \n",
       "3121                Beautiful and peaceful             NONE       5   \n",
       "3126          temple that next to the road          Couples       3   \n",
       "3688            i love this island so much      Solo travel       5   \n",
       "...                                    ...              ...     ...   \n",
       "469   Most Respect shine in Mae sot People             NONE       5   \n",
       "4129                              Blissful          Couples       5   \n",
       "2132                     the rabbit temple          Couples       5   \n",
       "247                         Best Jodd Fair  Friends getaway       5   \n",
       "4011              A manufactured village …           Family       3   \n",
       "\n",
       "                                 location_name                  province  \\\n",
       "4205   The Royal Agricultural Station Angkhang                Phetchabun   \n",
       "1665                     Chado Cliff Viewpoint  Phra Nakhon Si Ayutthaya   \n",
       "3121                            Doi Mae Salong              Nakhon Sawan   \n",
       "3126  Chedi Phra Borommasaririkkathat Khao Kho              Nakhon Sawan   \n",
       "3688                          Thong Lang Beach                 Sukhothai   \n",
       "...                                        ...                       ...   \n",
       "469                      Chao Por Phawo Shrine                Nonthaburi   \n",
       "4129                       Koh Kho Khao Island                Phetchabun   \n",
       "2132                   Wat Phrathat Chae Haeng                 Sing Buri   \n",
       "247                      Jodd Fairs DanNeramit                   Bangkok   \n",
       "4011            Turtle Village Shops & Cuisine                   Phichit   \n",
       "\n",
       "       place_id emotion                                     cleaned_review  \\\n",
       "4205  P03012884     joy  place real gem nestling cool green upland doi ...   \n",
       "1665  P03017905     joy  nice view need careful hiking natural trail be...   \n",
       "3121  P03016134     joy  doi mae salong beautiful interesting place vis...   \n",
       "3126  P03016132     joy  located way back accommodation look time avail...   \n",
       "3688  P03025214     joy  stayed koh larn castello resort christmas enjo...   \n",
       "...         ...     ...                                                ...   \n",
       "469   P03016494     joy  chaio por phawo shrine popular pray respect pl...   \n",
       "4129  P03004050     joy  took fast boat magical day hapla beach real ro...   \n",
       "2132  P03013402     joy  twelfeyear animal cycle rabbit one wat phra ch...   \n",
       "247   P03022261     joy  went weekday pleased jodd fair wasnt packed ma...   \n",
       "4011  P03018368     joy  small group shop restaurant created support co...   \n",
       "\n",
       "                                              embedding sentiment  \n",
       "4205  [[-0.006027937866747379, 0.08820415288209915, ...  positive  \n",
       "1665  [[-0.015819119289517403, 0.2557101249694824, 0...  positive  \n",
       "3121  [[0.0, 0.0, 0.0, 0.0, 0.0, 0.0, 0.0, 0.0, 0.0,...  positive  \n",
       "3126  [[-0.006226921919733286, 0.06969726830720901, ...   neutral  \n",
       "3688  [[-0.0006162917125038803, 0.013998796232044697...  positive  \n",
       "...                                                 ...       ...  \n",
       "469   [[-0.0091639319434762, 0.1279701143503189, 0.0...  positive  \n",
       "4129  [[0.0, 0.0, 0.0, 0.0, 0.0, 0.0, 0.0, 0.0, 0.0,...  positive  \n",
       "2132  [[0.0, 0.0, 0.0, 0.0, 0.0, 0.0, 0.0, 0.0, 0.0,...  positive  \n",
       "247   [[-0.0011091228807345033, 0.03485574945807457,...  positive  \n",
       "4011  [[-0.0006162917125038803, 0.013998796232044697...   neutral  \n",
       "\n",
       "[1170 rows x 14 columns]"
      ]
     },
     "execution_count": 60,
     "metadata": {},
     "output_type": "execute_result"
    }
   ],
   "source": [
    "filtered_reviews"
   ]
  },
  {
   "cell_type": "code",
   "execution_count": 66,
   "metadata": {},
   "outputs": [
    {
     "name": "stdout",
     "output_type": "stream",
     "text": [
      "Updated sys.path: ['/opt/homebrew/Cellar/python@3.12/3.12.5/Frameworks/Python.framework/Versions/3.12/lib/python312.zip', '/opt/homebrew/Cellar/python@3.12/3.12.5/Frameworks/Python.framework/Versions/3.12/lib/python3.12', '/opt/homebrew/Cellar/python@3.12/3.12.5/Frameworks/Python.framework/Versions/3.12/lib/python3.12/lib-dynload', '', '/Users/ittichaiboonyarakthunya/Library/Caches/pypoetry/virtualenvs/is-project-thailand-tourism-recommendation-qwL-LsgH-py3.12/lib/python3.12/site-packages', '/Users/ittichaiboonyarakthunya/Library/Caches/pypoetry/virtualenvs/is-project-thailand-tourism-recommendation-qwL-LsgH-py3.12/lib/python3.12/site-packages/setuptools/_vendor', '/Users/ittichaiboonyarakthunya/Documents/WorkDir/developments/IS_Project_Thailand_Tourism_Recommendation', '/Users/ittichaiboonyarakthunya/Documents/WorkDir/developments/IS_Project_Thailand_Tourism_Recommendation']\n"
     ]
    }
   ],
   "source": [
    "import sys\n",
    "import os\n",
    "\n",
    "parent_directory = os.path.abspath(os.path.join(os.getcwd(), '..', '..'))\n",
    "sys.path.append(parent_directory)\n",
    "print(\"Updated sys.path:\", sys.path)\n",
    "\n",
    "sys.path.append(os.path.abspath(os.path.join(os.getcwd(), '../../utils')))"
   ]
  },
  {
   "cell_type": "code",
   "execution_count": 67,
   "metadata": {},
   "outputs": [
    {
     "name": "stdout",
     "output_type": "stream",
     "text": [
      "Numpy version: 1.26.4\n",
      "Pandas version: 2.2.0\n",
      "True\n"
     ]
    }
   ],
   "source": [
    "from utils.data_preparation import DataPreparation\n",
    "\n",
    "DP = DataPreparation()\n",
    "DP.check_nltk_path()\n"
   ]
  },
  {
   "cell_type": "code",
   "execution_count": 72,
   "metadata": {},
   "outputs": [
    {
     "data": {
      "text/html": [
       "<div>\n",
       "<style scoped>\n",
       "    .dataframe tbody tr th:only-of-type {\n",
       "        vertical-align: middle;\n",
       "    }\n",
       "\n",
       "    .dataframe tbody tr th {\n",
       "        vertical-align: top;\n",
       "    }\n",
       "\n",
       "    .dataframe thead th {\n",
       "        text-align: right;\n",
       "    }\n",
       "</style>\n",
       "<table border=\"1\" class=\"dataframe\">\n",
       "  <thead>\n",
       "    <tr style=\"text-align: right;\">\n",
       "      <th></th>\n",
       "      <th>location_id</th>\n",
       "      <th>location_name</th>\n",
       "      <th>review_id</th>\n",
       "      <th>emotion</th>\n",
       "      <th>trip_type</th>\n",
       "      <th>rating</th>\n",
       "      <th>helpful_voting</th>\n",
       "      <th>review_text</th>\n",
       "      <th>actual_sentiment</th>\n",
       "      <th>predicted_sentiment</th>\n",
       "    </tr>\n",
       "  </thead>\n",
       "  <tbody>\n",
       "    <tr>\n",
       "      <th>8</th>\n",
       "      <td>2273363.0</td>\n",
       "      <td>Wat Rajapradit Sathitmahasimaram Rajaworavihara</td>\n",
       "      <td>738692369.0</td>\n",
       "      <td>love</td>\n",
       "      <td>NONE</td>\n",
       "      <td>5.0</td>\n",
       "      <td>2.0</td>\n",
       "      <td>One of the least crowded temples but very beau...</td>\n",
       "      <td>positive</td>\n",
       "      <td>positive</td>\n",
       "    </tr>\n",
       "    <tr>\n",
       "      <th>14</th>\n",
       "      <td>311043.0</td>\n",
       "      <td>Wat Phra Chetuphon</td>\n",
       "      <td>962482865.0</td>\n",
       "      <td>surprise</td>\n",
       "      <td>Couples</td>\n",
       "      <td>5.0</td>\n",
       "      <td>0.0</td>\n",
       "      <td>The designs, the Buddhas, and other figures fe...</td>\n",
       "      <td>netural</td>\n",
       "      <td>netural</td>\n",
       "    </tr>\n",
       "    <tr>\n",
       "      <th>17</th>\n",
       "      <td>317504.0</td>\n",
       "      <td>Temple Of Dawn (Wat Arun)</td>\n",
       "      <td>955989676.0</td>\n",
       "      <td>joy</td>\n",
       "      <td>Solo travel</td>\n",
       "      <td>5.0</td>\n",
       "      <td>15.0</td>\n",
       "      <td>Known as Temple of Dawn, I went to this temple...</td>\n",
       "      <td>negative</td>\n",
       "      <td>negative</td>\n",
       "    </tr>\n",
       "    <tr>\n",
       "      <th>19</th>\n",
       "      <td>317504.0</td>\n",
       "      <td>Temple Of Dawn (Wat Arun)</td>\n",
       "      <td>955712588.0</td>\n",
       "      <td>sadness</td>\n",
       "      <td>Family</td>\n",
       "      <td>4.0</td>\n",
       "      <td>0.0</td>\n",
       "      <td>I have to admit that this is a place i have al...</td>\n",
       "      <td>negative</td>\n",
       "      <td>negative</td>\n",
       "    </tr>\n",
       "    <tr>\n",
       "      <th>23</th>\n",
       "      <td>456322.0</td>\n",
       "      <td>Wat Umong</td>\n",
       "      <td>936553670.0</td>\n",
       "      <td>joy</td>\n",
       "      <td>Family</td>\n",
       "      <td>5.0</td>\n",
       "      <td>0.0</td>\n",
       "      <td>The visit to this temple was a good pick for u...</td>\n",
       "      <td>netural</td>\n",
       "      <td>netural</td>\n",
       "    </tr>\n",
       "    <tr>\n",
       "      <th>26</th>\n",
       "      <td>1368436.0</td>\n",
       "      <td>Wat Rong Khun</td>\n",
       "      <td>962490689.0</td>\n",
       "      <td>joy</td>\n",
       "      <td>Couples</td>\n",
       "      <td>3.0</td>\n",
       "      <td>0.0</td>\n",
       "      <td>Beautiful from afar but up close rather tacky ...</td>\n",
       "      <td>negative</td>\n",
       "      <td>negative</td>\n",
       "    </tr>\n",
       "    <tr>\n",
       "      <th>31</th>\n",
       "      <td>7913913.0</td>\n",
       "      <td>Wat Pak Nam</td>\n",
       "      <td>935907604.0</td>\n",
       "      <td>love</td>\n",
       "      <td>Friends getaway</td>\n",
       "      <td>4.0</td>\n",
       "      <td>2.0</td>\n",
       "      <td>Like a lot of Bangkok it’s all where you least...</td>\n",
       "      <td>positive</td>\n",
       "      <td>positive</td>\n",
       "    </tr>\n",
       "    <tr>\n",
       "      <th>33</th>\n",
       "      <td>7913913.0</td>\n",
       "      <td>Wat Pak Nam</td>\n",
       "      <td>890055418.0</td>\n",
       "      <td>joy</td>\n",
       "      <td>Solo travel</td>\n",
       "      <td>5.0</td>\n",
       "      <td>0.0</td>\n",
       "      <td>One of the newest Temples in Bangkok and very ...</td>\n",
       "      <td>negative</td>\n",
       "      <td>negative</td>\n",
       "    </tr>\n",
       "    <tr>\n",
       "      <th>37</th>\n",
       "      <td>447648.0</td>\n",
       "      <td>Wat Phra Singh</td>\n",
       "      <td>947799000.0</td>\n",
       "      <td>joy</td>\n",
       "      <td>Couples</td>\n",
       "      <td>4.0</td>\n",
       "      <td>0.0</td>\n",
       "      <td>This is a beautiful wat from the outside and h...</td>\n",
       "      <td>netural</td>\n",
       "      <td>positive</td>\n",
       "    </tr>\n",
       "    <tr>\n",
       "      <th>41</th>\n",
       "      <td>456623.0</td>\n",
       "      <td>Wat Chaiwatthanaram</td>\n",
       "      <td>946867745.0</td>\n",
       "      <td>joy</td>\n",
       "      <td>Couples</td>\n",
       "      <td>5.0</td>\n",
       "      <td>0.0</td>\n",
       "      <td>Visited with our 'With the locals' guide Piyap...</td>\n",
       "      <td>positive</td>\n",
       "      <td>positive</td>\n",
       "    </tr>\n",
       "  </tbody>\n",
       "</table>\n",
       "</div>"
      ],
      "text/plain": [
       "    location_id                                    location_name    review_id  \\\n",
       "8     2273363.0  Wat Rajapradit Sathitmahasimaram Rajaworavihara  738692369.0   \n",
       "14     311043.0                               Wat Phra Chetuphon  962482865.0   \n",
       "17     317504.0                        Temple Of Dawn (Wat Arun)  955989676.0   \n",
       "19     317504.0                        Temple Of Dawn (Wat Arun)  955712588.0   \n",
       "23     456322.0                                        Wat Umong  936553670.0   \n",
       "26    1368436.0                                    Wat Rong Khun  962490689.0   \n",
       "31    7913913.0                                      Wat Pak Nam  935907604.0   \n",
       "33    7913913.0                                      Wat Pak Nam  890055418.0   \n",
       "37     447648.0                                   Wat Phra Singh  947799000.0   \n",
       "41     456623.0                              Wat Chaiwatthanaram  946867745.0   \n",
       "\n",
       "     emotion        trip_type  rating  helpful_voting  \\\n",
       "8       love             NONE     5.0             2.0   \n",
       "14  surprise          Couples     5.0             0.0   \n",
       "17       joy      Solo travel     5.0            15.0   \n",
       "19   sadness           Family     4.0             0.0   \n",
       "23       joy           Family     5.0             0.0   \n",
       "26       joy          Couples     3.0             0.0   \n",
       "31      love  Friends getaway     4.0             2.0   \n",
       "33       joy      Solo travel     5.0             0.0   \n",
       "37       joy          Couples     4.0             0.0   \n",
       "41       joy          Couples     5.0             0.0   \n",
       "\n",
       "                                          review_text actual_sentiment  \\\n",
       "8   One of the least crowded temples but very beau...         positive   \n",
       "14  The designs, the Buddhas, and other figures fe...          netural   \n",
       "17  Known as Temple of Dawn, I went to this temple...         negative   \n",
       "19  I have to admit that this is a place i have al...         negative   \n",
       "23  The visit to this temple was a good pick for u...          netural   \n",
       "26  Beautiful from afar but up close rather tacky ...         negative   \n",
       "31  Like a lot of Bangkok it’s all where you least...         positive   \n",
       "33  One of the newest Temples in Bangkok and very ...         negative   \n",
       "37  This is a beautiful wat from the outside and h...          netural   \n",
       "41  Visited with our 'With the locals' guide Piyap...         positive   \n",
       "\n",
       "   predicted_sentiment  \n",
       "8             positive  \n",
       "14             netural  \n",
       "17            negative  \n",
       "19            negative  \n",
       "23             netural  \n",
       "26            negative  \n",
       "31            positive  \n",
       "33            negative  \n",
       "37            positive  \n",
       "41            positive  "
      ]
     },
     "execution_count": 72,
     "metadata": {},
     "output_type": "execute_result"
    }
   ],
   "source": [
    "\n",
    "predictions_df = pd.DataFrame({\n",
    "    'location_id': filtered_reviews['location_id'],\n",
    "    'location_name': filtered_reviews['location_name'],\n",
    "    'review_id': filtered_reviews['review_id'],\n",
    "    'emotion': filtered_reviews['emotion'],\n",
    "    'trip_type': filtered_reviews['trip_type'],\n",
    "    'rating': filtered_reviews['rating'],\n",
    "    'helpful_voting': filtered_reviews['helpful_votes'],\n",
    "    'review_text': filtered_reviews['review'],  # Assuming X_test is a subset with a specific index\n",
    "    'actual_sentiment': predict_df['sentiment'],  # The actual sentiment labels\n",
    "    'predicted_sentiment': predict_df['predicted']  # The predicted sentiment labels\n",
    "})\n",
    "\n",
    "setiment_lable_mapping = {0: 'negative', 1: 'netural', 2: 'positive'}\n",
    "predictions_df['actual_sentiment'] = predictions_df['actual_sentiment'].map(setiment_lable_mapping)\n",
    "predictions_df['predicted_sentiment'] = predictions_df['predicted_sentiment'].map(setiment_lable_mapping)\n",
    "\n",
    "predictions_df.head(10)\n"
   ]
  }
 ],
 "metadata": {
  "kernelspec": {
   "display_name": "is-project-thailand-tourism-recommendation-qwL-LsgH-py3.12",
   "language": "python",
   "name": "python3"
  },
  "language_info": {
   "codemirror_mode": {
    "name": "ipython",
    "version": 3
   },
   "file_extension": ".py",
   "mimetype": "text/x-python",
   "name": "python",
   "nbconvert_exporter": "python",
   "pygments_lexer": "ipython3",
   "version": "3.12.5"
  }
 },
 "nbformat": 4,
 "nbformat_minor": 2
}
