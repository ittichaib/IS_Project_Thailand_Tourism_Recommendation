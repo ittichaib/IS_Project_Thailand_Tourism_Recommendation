{
 "cells": [
  {
   "cell_type": "code",
   "execution_count": 2,
   "metadata": {},
   "outputs": [],
   "source": [
    "\n",
    "import pandas as pd\n",
    "import nltk\n",
    "import string\n",
    "from gensim.models import Word2Vec\n",
    "import shutil\n",
    "import numpy as np\n",
    "import re\n",
    "from sklearn.model_selection import train_test_split\n",
    "from tensorflow.keras.preprocessing.sequence import pad_sequences\n",
    "from tensorflow.keras.preprocessing.text import Tokenizer\n",
    "from sklearn.metrics import accuracy_score\n",
    "import shap\n"
   ]
  },
  {
   "cell_type": "code",
   "execution_count": 5,
   "metadata": {},
   "outputs": [],
   "source": [
    "FINE_TUNED_DIR = '../../pretained_or_finetune-models'\n",
    "REVIEWS_DATASET_DIR = '../../dataset'\n",
    "UTILS_DIR = '../../utils'\n",
    "NLTK_DATA_PATH = f\"{FINE_TUNED_DIR}/nltk_data\"\n",
    "\n",
    "nltk.data.path.append(NLTK_DATA_PATH)"
   ]
  },
  {
   "cell_type": "code",
   "execution_count": 4,
   "metadata": {},
   "outputs": [],
   "source": [
    "tourism_reviews_en = pd.read_csv(f\"{REVIEWS_DATASET_DIR}/eng_reviews_emotion_classify.csv\", encoding='utf-8')\n",
    "\n",
    "columns_to_use = ['helpful_votes', 'location_id', 'review_id', 'review',\n",
    "                  'review_subject', 'trip_type', 'rating',\n",
    "                  'location_name', 'province', 'place_id', 'emotion', 'cleaned_review']\n",
    "columns_to_train = ['location_id', 'review', 'rating']\n",
    "review_df = tourism_reviews_en[columns_to_use]"
   ]
  },
  {
   "cell_type": "code",
   "execution_count": 6,
   "metadata": {},
   "outputs": [
    {
     "name": "stdout",
     "output_type": "stream",
     "text": [
      "<class 'pandas.core.frame.DataFrame'>\n",
      "RangeIndex: 5909 entries, 0 to 5908\n",
      "Data columns (total 16 columns):\n",
      " #   Column          Non-Null Count  Dtype \n",
      "---  ------          --------------  ----- \n",
      " 0   Unnamed: 0.1    5909 non-null   int64 \n",
      " 1   Unnamed: 0      5909 non-null   int64 \n",
      " 2   helpful_votes   5909 non-null   int64 \n",
      " 3   location_id     5909 non-null   int64 \n",
      " 4   lang            5909 non-null   object\n",
      " 5   review_id       5909 non-null   int64 \n",
      " 6   review          5909 non-null   object\n",
      " 7   review_subject  5909 non-null   object\n",
      " 8   trip_type       5892 non-null   object\n",
      " 9   travel_date     5892 non-null   object\n",
      " 10  rating          5909 non-null   int64 \n",
      " 11  location_name   5909 non-null   object\n",
      " 12  province        5909 non-null   object\n",
      " 13  place_id        5909 non-null   object\n",
      " 14  cleaned_review  5909 non-null   object\n",
      " 15  emotion         5909 non-null   object\n",
      "dtypes: int64(6), object(10)\n",
      "memory usage: 738.8+ KB\n"
     ]
    }
   ],
   "source": [
    "tourism_reviews_en.info()"
   ]
  },
  {
   "cell_type": "code",
   "execution_count": 7,
   "metadata": {},
   "outputs": [
    {
     "data": {
      "text/html": [
       "<div>\n",
       "<style scoped>\n",
       "    .dataframe tbody tr th:only-of-type {\n",
       "        vertical-align: middle;\n",
       "    }\n",
       "\n",
       "    .dataframe tbody tr th {\n",
       "        vertical-align: top;\n",
       "    }\n",
       "\n",
       "    .dataframe thead th {\n",
       "        text-align: right;\n",
       "    }\n",
       "</style>\n",
       "<table border=\"1\" class=\"dataframe\">\n",
       "  <thead>\n",
       "    <tr style=\"text-align: right;\">\n",
       "      <th></th>\n",
       "      <th>helpful_votes</th>\n",
       "      <th>location_id</th>\n",
       "      <th>review_id</th>\n",
       "      <th>rating</th>\n",
       "    </tr>\n",
       "  </thead>\n",
       "  <tbody>\n",
       "    <tr>\n",
       "      <th>count</th>\n",
       "      <td>5909.000000</td>\n",
       "      <td>5.909000e+03</td>\n",
       "      <td>5.909000e+03</td>\n",
       "      <td>5909.000000</td>\n",
       "    </tr>\n",
       "    <tr>\n",
       "      <th>mean</th>\n",
       "      <td>1.058216</td>\n",
       "      <td>6.483167e+06</td>\n",
       "      <td>7.590446e+08</td>\n",
       "      <td>4.153833</td>\n",
       "    </tr>\n",
       "    <tr>\n",
       "      <th>std</th>\n",
       "      <td>5.625108</td>\n",
       "      <td>4.877561e+06</td>\n",
       "      <td>1.844114e+08</td>\n",
       "      <td>1.067077</td>\n",
       "    </tr>\n",
       "    <tr>\n",
       "      <th>min</th>\n",
       "      <td>0.000000</td>\n",
       "      <td>3.110380e+05</td>\n",
       "      <td>1.049076e+08</td>\n",
       "      <td>1.000000</td>\n",
       "    </tr>\n",
       "    <tr>\n",
       "      <th>25%</th>\n",
       "      <td>0.000000</td>\n",
       "      <td>2.578107e+06</td>\n",
       "      <td>6.573250e+08</td>\n",
       "      <td>4.000000</td>\n",
       "    </tr>\n",
       "    <tr>\n",
       "      <th>50%</th>\n",
       "      <td>0.000000</td>\n",
       "      <td>6.017599e+06</td>\n",
       "      <td>7.832754e+08</td>\n",
       "      <td>4.000000</td>\n",
       "    </tr>\n",
       "    <tr>\n",
       "      <th>75%</th>\n",
       "      <td>1.000000</td>\n",
       "      <td>8.818088e+06</td>\n",
       "      <td>9.240324e+08</td>\n",
       "      <td>5.000000</td>\n",
       "    </tr>\n",
       "    <tr>\n",
       "      <th>max</th>\n",
       "      <td>182.000000</td>\n",
       "      <td>2.714283e+07</td>\n",
       "      <td>9.653184e+08</td>\n",
       "      <td>5.000000</td>\n",
       "    </tr>\n",
       "  </tbody>\n",
       "</table>\n",
       "</div>"
      ],
      "text/plain": [
       "       helpful_votes   location_id     review_id       rating\n",
       "count    5909.000000  5.909000e+03  5.909000e+03  5909.000000\n",
       "mean        1.058216  6.483167e+06  7.590446e+08     4.153833\n",
       "std         5.625108  4.877561e+06  1.844114e+08     1.067077\n",
       "min         0.000000  3.110380e+05  1.049076e+08     1.000000\n",
       "25%         0.000000  2.578107e+06  6.573250e+08     4.000000\n",
       "50%         0.000000  6.017599e+06  7.832754e+08     4.000000\n",
       "75%         1.000000  8.818088e+06  9.240324e+08     5.000000\n",
       "max       182.000000  2.714283e+07  9.653184e+08     5.000000"
      ]
     },
     "execution_count": 7,
     "metadata": {},
     "output_type": "execute_result"
    }
   ],
   "source": [
    "review_df.describe()"
   ]
  },
  {
   "cell_type": "code",
   "execution_count": 8,
   "metadata": {},
   "outputs": [
    {
     "name": "stdout",
     "output_type": "stream",
     "text": [
      "<class 'pandas.core.frame.DataFrame'>\n",
      "RangeIndex: 5909 entries, 0 to 5908\n",
      "Data columns (total 12 columns):\n",
      " #   Column          Non-Null Count  Dtype \n",
      "---  ------          --------------  ----- \n",
      " 0   helpful_votes   5909 non-null   int64 \n",
      " 1   location_id     5909 non-null   int64 \n",
      " 2   review_id       5909 non-null   int64 \n",
      " 3   review          5909 non-null   object\n",
      " 4   review_subject  5909 non-null   object\n",
      " 5   trip_type       5892 non-null   object\n",
      " 6   rating          5909 non-null   int64 \n",
      " 7   location_name   5909 non-null   object\n",
      " 8   province        5909 non-null   object\n",
      " 9   place_id        5909 non-null   object\n",
      " 10  emotion         5909 non-null   object\n",
      " 11  cleaned_review  5909 non-null   object\n",
      "dtypes: int64(4), object(8)\n",
      "memory usage: 554.1+ KB\n"
     ]
    }
   ],
   "source": [
    "review_df.info()"
   ]
  },
  {
   "cell_type": "code",
   "execution_count": 9,
   "metadata": {},
   "outputs": [
    {
     "data": {
      "text/html": [
       "<div>\n",
       "<style scoped>\n",
       "    .dataframe tbody tr th:only-of-type {\n",
       "        vertical-align: middle;\n",
       "    }\n",
       "\n",
       "    .dataframe tbody tr th {\n",
       "        vertical-align: top;\n",
       "    }\n",
       "\n",
       "    .dataframe thead th {\n",
       "        text-align: right;\n",
       "    }\n",
       "</style>\n",
       "<table border=\"1\" class=\"dataframe\">\n",
       "  <thead>\n",
       "    <tr style=\"text-align: right;\">\n",
       "      <th></th>\n",
       "      <th>helpful_votes</th>\n",
       "      <th>location_id</th>\n",
       "      <th>review_id</th>\n",
       "      <th>review</th>\n",
       "      <th>review_subject</th>\n",
       "      <th>trip_type</th>\n",
       "      <th>rating</th>\n",
       "      <th>location_name</th>\n",
       "      <th>province</th>\n",
       "      <th>place_id</th>\n",
       "      <th>emotion</th>\n",
       "      <th>cleaned_review</th>\n",
       "    </tr>\n",
       "  </thead>\n",
       "  <tbody>\n",
       "    <tr>\n",
       "      <th>0</th>\n",
       "      <td>0</td>\n",
       "      <td>2209612</td>\n",
       "      <td>953596359</td>\n",
       "      <td>Besides elegant grand palace and wat pra kaew ...</td>\n",
       "      <td>The place is nearby grand palace, in the area ...</td>\n",
       "      <td>Family</td>\n",
       "      <td>5</td>\n",
       "      <td>Wat Ratchabophit</td>\n",
       "      <td>Bangkok</td>\n",
       "      <td>P03013220</td>\n",
       "      <td>joy</td>\n",
       "      <td>besides elegant grand palace &lt;OOV&gt; wat pra kae...</td>\n",
       "    </tr>\n",
       "    <tr>\n",
       "      <th>1</th>\n",
       "      <td>0</td>\n",
       "      <td>2209612</td>\n",
       "      <td>938998692</td>\n",
       "      <td>This is one of the last big king temples of Ba...</td>\n",
       "      <td>Nice Wat</td>\n",
       "      <td>Solo travel</td>\n",
       "      <td>4</td>\n",
       "      <td>Wat Ratchabophit</td>\n",
       "      <td>Bangkok</td>\n",
       "      <td>P03013220</td>\n",
       "      <td>joy</td>\n",
       "      <td>&lt;OOV&gt; &lt;OOV&gt; one &lt;OOV&gt; &lt;OOV&gt; last big king temp...</td>\n",
       "    </tr>\n",
       "    <tr>\n",
       "      <th>2</th>\n",
       "      <td>6</td>\n",
       "      <td>2209612</td>\n",
       "      <td>933065689</td>\n",
       "      <td>It is beautiful, clean and free to enter. Both...</td>\n",
       "      <td>Nice views</td>\n",
       "      <td>Solo travel</td>\n",
       "      <td>4</td>\n",
       "      <td>Wat Ratchabophit</td>\n",
       "      <td>Bangkok</td>\n",
       "      <td>P03013220</td>\n",
       "      <td>joy</td>\n",
       "      <td>&lt;OOV&gt; &lt;OOV&gt; beautiful clean &lt;OOV&gt; free &lt;OOV&gt; e...</td>\n",
       "    </tr>\n",
       "    <tr>\n",
       "      <th>3</th>\n",
       "      <td>0</td>\n",
       "      <td>2209612</td>\n",
       "      <td>885904967</td>\n",
       "      <td>Wat Ratchabophit is a Buddhist temple located ...</td>\n",
       "      <td>Wat Ratchabophit - a temple characterized by u...</td>\n",
       "      <td>Couples</td>\n",
       "      <td>5</td>\n",
       "      <td>Wat Ratchabophit</td>\n",
       "      <td>Bangkok</td>\n",
       "      <td>P03013220</td>\n",
       "      <td>joy</td>\n",
       "      <td>wat ratchabophit &lt;OOV&gt; &lt;OOV&gt; buddhist temple l...</td>\n",
       "    </tr>\n",
       "    <tr>\n",
       "      <th>4</th>\n",
       "      <td>4</td>\n",
       "      <td>2209612</td>\n",
       "      <td>782967555</td>\n",
       "      <td>Wat Ratchabophit is a historic royal temple bu...</td>\n",
       "      <td>Beautiful, peaceful</td>\n",
       "      <td>NONE</td>\n",
       "      <td>5</td>\n",
       "      <td>Wat Ratchabophit</td>\n",
       "      <td>Bangkok</td>\n",
       "      <td>P03013220</td>\n",
       "      <td>joy</td>\n",
       "      <td>wat ratchabophit &lt;OOV&gt; &lt;OOV&gt; historic royal te...</td>\n",
       "    </tr>\n",
       "    <tr>\n",
       "      <th>...</th>\n",
       "      <td>...</td>\n",
       "      <td>...</td>\n",
       "      <td>...</td>\n",
       "      <td>...</td>\n",
       "      <td>...</td>\n",
       "      <td>...</td>\n",
       "      <td>...</td>\n",
       "      <td>...</td>\n",
       "      <td>...</td>\n",
       "      <td>...</td>\n",
       "      <td>...</td>\n",
       "      <td>...</td>\n",
       "    </tr>\n",
       "    <tr>\n",
       "      <th>5904</th>\n",
       "      <td>0</td>\n",
       "      <td>1831068</td>\n",
       "      <td>888281929</td>\n",
       "      <td>Is quite far from Korat Town or main highway. ...</td>\n",
       "      <td>Can visit.. depends on individual</td>\n",
       "      <td>Family</td>\n",
       "      <td>3</td>\n",
       "      <td>Prasat Puay Noi</td>\n",
       "      <td>Nonthaburi</td>\n",
       "      <td>P03013503</td>\n",
       "      <td>joy</td>\n",
       "      <td>&lt;OOV&gt; quite far &lt;OOV&gt; korat town &lt;OOV&gt; main hi...</td>\n",
       "    </tr>\n",
       "    <tr>\n",
       "      <th>5905</th>\n",
       "      <td>4</td>\n",
       "      <td>1831068</td>\n",
       "      <td>752115552</td>\n",
       "      <td>Prasat Pueai Noi is claimed to be the biggest ...</td>\n",
       "      <td>Small, Isolated Khmer Sanctuary</td>\n",
       "      <td>NONE</td>\n",
       "      <td>3</td>\n",
       "      <td>Prasat Puay Noi</td>\n",
       "      <td>Nonthaburi</td>\n",
       "      <td>P03013503</td>\n",
       "      <td>joy</td>\n",
       "      <td>prasat pueai noi &lt;OOV&gt; claimed &lt;OOV&gt; &lt;OOV&gt; &lt;OO...</td>\n",
       "    </tr>\n",
       "    <tr>\n",
       "      <th>5906</th>\n",
       "      <td>0</td>\n",
       "      <td>1831068</td>\n",
       "      <td>693354319</td>\n",
       "      <td>I think this place is claimed to be the oldest...</td>\n",
       "      <td>A sense of ancient times..</td>\n",
       "      <td>Friends getaway</td>\n",
       "      <td>4</td>\n",
       "      <td>Prasat Puay Noi</td>\n",
       "      <td>Nonthaburi</td>\n",
       "      <td>P03013503</td>\n",
       "      <td>joy</td>\n",
       "      <td>&lt;OOV&gt; think &lt;OOV&gt; place &lt;OOV&gt; claimed &lt;OOV&gt; &lt;O...</td>\n",
       "    </tr>\n",
       "    <tr>\n",
       "      <th>5907</th>\n",
       "      <td>1</td>\n",
       "      <td>1831068</td>\n",
       "      <td>573376614</td>\n",
       "      <td>The compound comprises three brick buildings o...</td>\n",
       "      <td>Another Angkor Wat</td>\n",
       "      <td>Solo travel</td>\n",
       "      <td>4</td>\n",
       "      <td>Prasat Puay Noi</td>\n",
       "      <td>Nonthaburi</td>\n",
       "      <td>P03013503</td>\n",
       "      <td>joy</td>\n",
       "      <td>&lt;OOV&gt; compound comprises three brick buildings...</td>\n",
       "    </tr>\n",
       "    <tr>\n",
       "      <th>5908</th>\n",
       "      <td>0</td>\n",
       "      <td>1831068</td>\n",
       "      <td>571939282</td>\n",
       "      <td>Fully recommend this to the genuine history bu...</td>\n",
       "      <td>Small, simple, yet qualit</td>\n",
       "      <td>Couples</td>\n",
       "      <td>4</td>\n",
       "      <td>Prasat Puay Noi</td>\n",
       "      <td>Nonthaburi</td>\n",
       "      <td>P03013503</td>\n",
       "      <td>joy</td>\n",
       "      <td>fully recommend &lt;OOV&gt; &lt;OOV&gt; &lt;OOV&gt; genuine hist...</td>\n",
       "    </tr>\n",
       "  </tbody>\n",
       "</table>\n",
       "<p>5909 rows × 12 columns</p>\n",
       "</div>"
      ],
      "text/plain": [
       "      helpful_votes  location_id  review_id  \\\n",
       "0                 0      2209612  953596359   \n",
       "1                 0      2209612  938998692   \n",
       "2                 6      2209612  933065689   \n",
       "3                 0      2209612  885904967   \n",
       "4                 4      2209612  782967555   \n",
       "...             ...          ...        ...   \n",
       "5904              0      1831068  888281929   \n",
       "5905              4      1831068  752115552   \n",
       "5906              0      1831068  693354319   \n",
       "5907              1      1831068  573376614   \n",
       "5908              0      1831068  571939282   \n",
       "\n",
       "                                                 review  \\\n",
       "0     Besides elegant grand palace and wat pra kaew ...   \n",
       "1     This is one of the last big king temples of Ba...   \n",
       "2     It is beautiful, clean and free to enter. Both...   \n",
       "3     Wat Ratchabophit is a Buddhist temple located ...   \n",
       "4     Wat Ratchabophit is a historic royal temple bu...   \n",
       "...                                                 ...   \n",
       "5904  Is quite far from Korat Town or main highway. ...   \n",
       "5905  Prasat Pueai Noi is claimed to be the biggest ...   \n",
       "5906  I think this place is claimed to be the oldest...   \n",
       "5907  The compound comprises three brick buildings o...   \n",
       "5908  Fully recommend this to the genuine history bu...   \n",
       "\n",
       "                                         review_subject        trip_type  \\\n",
       "0     The place is nearby grand palace, in the area ...           Family   \n",
       "1                                              Nice Wat      Solo travel   \n",
       "2                                            Nice views      Solo travel   \n",
       "3     Wat Ratchabophit - a temple characterized by u...          Couples   \n",
       "4                                   Beautiful, peaceful             NONE   \n",
       "...                                                 ...              ...   \n",
       "5904                 Can visit.. depends on individual            Family   \n",
       "5905                    Small, Isolated Khmer Sanctuary             NONE   \n",
       "5906                         A sense of ancient times..  Friends getaway   \n",
       "5907                                 Another Angkor Wat      Solo travel   \n",
       "5908                          Small, simple, yet qualit          Couples   \n",
       "\n",
       "      rating     location_name    province   place_id emotion  \\\n",
       "0          5  Wat Ratchabophit     Bangkok  P03013220     joy   \n",
       "1          4  Wat Ratchabophit     Bangkok  P03013220     joy   \n",
       "2          4  Wat Ratchabophit     Bangkok  P03013220     joy   \n",
       "3          5  Wat Ratchabophit     Bangkok  P03013220     joy   \n",
       "4          5  Wat Ratchabophit     Bangkok  P03013220     joy   \n",
       "...      ...               ...         ...        ...     ...   \n",
       "5904       3   Prasat Puay Noi  Nonthaburi  P03013503     joy   \n",
       "5905       3   Prasat Puay Noi  Nonthaburi  P03013503     joy   \n",
       "5906       4   Prasat Puay Noi  Nonthaburi  P03013503     joy   \n",
       "5907       4   Prasat Puay Noi  Nonthaburi  P03013503     joy   \n",
       "5908       4   Prasat Puay Noi  Nonthaburi  P03013503     joy   \n",
       "\n",
       "                                         cleaned_review  \n",
       "0     besides elegant grand palace <OOV> wat pra kae...  \n",
       "1     <OOV> <OOV> one <OOV> <OOV> last big king temp...  \n",
       "2     <OOV> <OOV> beautiful clean <OOV> free <OOV> e...  \n",
       "3     wat ratchabophit <OOV> <OOV> buddhist temple l...  \n",
       "4     wat ratchabophit <OOV> <OOV> historic royal te...  \n",
       "...                                                 ...  \n",
       "5904  <OOV> quite far <OOV> korat town <OOV> main hi...  \n",
       "5905  prasat pueai noi <OOV> claimed <OOV> <OOV> <OO...  \n",
       "5906  <OOV> think <OOV> place <OOV> claimed <OOV> <O...  \n",
       "5907  <OOV> compound comprises three brick buildings...  \n",
       "5908  fully recommend <OOV> <OOV> <OOV> genuine hist...  \n",
       "\n",
       "[5909 rows x 12 columns]"
      ]
     },
     "execution_count": 9,
     "metadata": {},
     "output_type": "execute_result"
    }
   ],
   "source": [
    "review_df"
   ]
  },
  {
   "cell_type": "code",
   "execution_count": 10,
   "metadata": {},
   "outputs": [],
   "source": [
    "from nltk.tokenize import word_tokenize, sent_tokenize\n",
    "from nltk.corpus import stopwords \n",
    "from nltk.stem import WordNetLemmatizer\n",
    "\n",
    "custom_stopwords = set(stopwords.words('english'))\n",
    "\n",
    "stop_words = custom_stopwords\n",
    "lemmatizer = WordNetLemmatizer()"
   ]
  },
  {
   "cell_type": "code",
   "execution_count": 11,
   "metadata": {},
   "outputs": [],
   "source": [
    "def advanced_clean_text(text):\n",
    "    text = text.lower()\n",
    "    text = re.sub(r'\\d+', '', text)  # Remove numbers\n",
    "    text = re.sub(r'[^a-z\\s]', '', text)  # Remove special characters\n",
    "    text = re.sub(r'\\b(u|ur|b4)\\b', 'you', text)  # Replace common abbreviations\n",
    "    words = word_tokenize(text)\n",
    "    words = [lemmatizer.lemmatize(word) for word in words if word not in stop_words]\n",
    "    words = [word for word in words if word not in string.punctuation]\n",
    "    return ' '.join(words)"
   ]
  },
  {
   "cell_type": "code",
   "execution_count": 12,
   "metadata": {},
   "outputs": [
    {
     "name": "stderr",
     "output_type": "stream",
     "text": [
      "/var/folders/fk/449tdf_12hzd2r7ps4659q0m0000gn/T/ipykernel_13841/3587231279.py:2: SettingWithCopyWarning: \n",
      "A value is trying to be set on a copy of a slice from a DataFrame.\n",
      "Try using .loc[row_indexer,col_indexer] = value instead\n",
      "\n",
      "See the caveats in the documentation: https://pandas.pydata.org/pandas-docs/stable/user_guide/indexing.html#returning-a-view-versus-a-copy\n",
      "  review_df['cleaned_review'] = review_df['review'].apply(advanced_clean_text)\n"
     ]
    }
   ],
   "source": [
    "# Apply preprocessing to the review texts\n",
    "review_df['cleaned_review'] = review_df['review'].apply(advanced_clean_text)\n",
    "vector_size = 300\n",
    "# 2. สร้าง Word Embeddings ด้วย Word2Vec\n",
    "# word2vec_model = Word2Vec(sentences=review_df['cleaned_review'], vector_size=300, window=5, min_count=1, sg=1)  # ใช้ Skip-Gram\n",
    "sentences = [row.split() for row in review_df['cleaned_review']]\n",
    "word2vec_model = Word2Vec(sentences, vector_size=vector_size, window=5, min_count=1, workers=4)  # เปลี่ยน vector_size เป็น 300\n",
    "\n"
   ]
  },
  {
   "cell_type": "code",
   "execution_count": 13,
   "metadata": {},
   "outputs": [],
   "source": [
    "# Parameters\n",
    "embedding_dim = 300  # Assuming Word2Vec has 300 dimensions\n",
    "dropout_rate = 0.5\n",
    "num_classes = 1  # Binary classification\n",
    "max_len = 100  # Maximum length of input sequences\n",
    "ngram_range = (1, 2)  # Unigrams and bigrams\n",
    "max_features = 20000  \n",
    "\n",
    "# Create the embedding matrix from the Word2Vec model\n",
    "word_index = {word: i for i, word in enumerate(word2vec_model.wv.index_to_key)}\n",
    "embedding_matrix = np.zeros((len(word_index) + 1, embedding_dim))"
   ]
  },
  {
   "cell_type": "code",
   "execution_count": 14,
   "metadata": {},
   "outputs": [
    {
     "name": "stderr",
     "output_type": "stream",
     "text": [
      "/var/folders/fk/449tdf_12hzd2r7ps4659q0m0000gn/T/ipykernel_13841/1367629667.py:9: SettingWithCopyWarning: \n",
      "A value is trying to be set on a copy of a slice from a DataFrame.\n",
      "Try using .loc[row_indexer,col_indexer] = value instead\n",
      "\n",
      "See the caveats in the documentation: https://pandas.pydata.org/pandas-docs/stable/user_guide/indexing.html#returning-a-view-versus-a-copy\n",
      "  review_df['embedding'] = review_df['cleaned_review'].apply(lambda x: text_to_word2vec(x, word2vec_model))\n"
     ]
    }
   ],
   "source": [
    "def text_to_word2vec(tokens, model, max_length=300):\n",
    "    vector = np.zeros((max_length, 300))\n",
    "    for i, word in enumerate(tokens):\n",
    "        if i < max_length:\n",
    "            if word in model.wv:\n",
    "                vector[i] = model.wv[word]\n",
    "    return vector\n",
    "\n",
    "review_df['embedding'] = review_df['cleaned_review'].apply(lambda x: text_to_word2vec(x, word2vec_model))\n"
   ]
  },
  {
   "cell_type": "code",
   "execution_count": 15,
   "metadata": {},
   "outputs": [
    {
     "name": "stderr",
     "output_type": "stream",
     "text": [
      "/var/folders/fk/449tdf_12hzd2r7ps4659q0m0000gn/T/ipykernel_13841/2638035927.py:9: SettingWithCopyWarning: \n",
      "A value is trying to be set on a copy of a slice from a DataFrame.\n",
      "Try using .loc[row_indexer,col_indexer] = value instead\n",
      "\n",
      "See the caveats in the documentation: https://pandas.pydata.org/pandas-docs/stable/user_guide/indexing.html#returning-a-view-versus-a-copy\n",
      "  review_df['sentiment'] = review_df['rating'].apply(map_rating_to_sentiment)\n"
     ]
    }
   ],
   "source": [
    "def map_rating_to_sentiment(rating):\n",
    "    if rating in [1, 2]:\n",
    "        return 'negative'\n",
    "    elif rating in [3, 4]:\n",
    "        return 'neutral'\n",
    "    else:  # 4 or 5\n",
    "        return 'positive'\n",
    "\n",
    "review_df['sentiment'] = review_df['rating'].apply(map_rating_to_sentiment)"
   ]
  },
  {
   "cell_type": "code",
   "execution_count": 17,
   "metadata": {},
   "outputs": [
    {
     "name": "stdout",
     "output_type": "stream",
     "text": [
      "sentiment\n",
      "neutral     2871\n",
      "positive    2871\n",
      "negative    2871\n",
      "Name: count, dtype: int64\n"
     ]
    }
   ],
   "source": [
    "from sklearn.utils import resample\n",
    "\n",
    "# Assuming `review_df` is your original DataFrame with a 'sentiment' column\n",
    "\n",
    "# 1. Separate the data by class\n",
    "df_positive = review_df[review_df.sentiment == 'positive']\n",
    "df_neutral = review_df[review_df.sentiment == 'neutral']\n",
    "df_negative = review_df[review_df.sentiment == 'negative']\n",
    "\n",
    "# 2. Resample the minority classes\n",
    "# For example, oversample the neutral and negative classes to match the positive class\n",
    "df_neutral_upsampled = resample(df_neutral,\n",
    "                                replace=True,  # Sample with replacement\n",
    "                                n_samples=len(df_positive),  # Match number of positive class samples\n",
    "                                random_state=42)  # Reproducible results\n",
    "\n",
    "df_negative_upsampled = resample(df_negative,\n",
    "                                 replace=True,  # Sample with replacement\n",
    "                                 n_samples=len(df_positive),  # Match number of positive class samples\n",
    "                                 random_state=42)  # Reproducible results\n",
    "\n",
    "# 3. Combine the resampled DataFrames\n",
    "df_balanced = pd.concat([df_positive, df_neutral_upsampled, df_negative_upsampled])\n",
    "\n",
    "# 4. Shuffle the combined DataFrame\n",
    "df_balanced = df_balanced.sample(frac=1, random_state=42).reset_index(drop=True)\n",
    "\n",
    "# 5. Check the distribution of the classes\n",
    "print(df_balanced['sentiment'].value_counts())\n"
   ]
  },
  {
   "cell_type": "code",
   "execution_count": 18,
   "metadata": {},
   "outputs": [],
   "source": [
    "tokenizer = Tokenizer(num_words=max_features)\n",
    "tokenizer.fit_on_texts(df_balanced['cleaned_review'])\n",
    "\n",
    "X = tokenizer.texts_to_sequences(df_balanced['cleaned_review'])\n",
    "X = pad_sequences(X, maxlen=max_len)\n",
    "\n",
    "# แปลงคอลัมน์ 'sentiment' เป็นข้อมูลตัวเลข\n",
    "label_mapping = {'negative': 0, 'neutral': 1, 'positive': 2}\n",
    "y = df_balanced['sentiment'].map(label_mapping)"
   ]
  },
  {
   "cell_type": "code",
   "execution_count": 19,
   "metadata": {},
   "outputs": [],
   "source": [
    "from imblearn.over_sampling import SMOTE\n",
    "smote = SMOTE(random_state=42)\n",
    "X_train_resampled, y_train_resampled = smote.fit_resample(X, y)\n",
    "\n",
    "# แบ่งข้อมูลใหม่อีกครั้งหลังจาก SMOTE\n",
    "X_train_resampled, X_val, y_train_resampled, y_val = train_test_split(X_train_resampled, y_train_resampled, test_size=0.2, random_state=42)"
   ]
  },
  {
   "cell_type": "code",
   "execution_count": 20,
   "metadata": {},
   "outputs": [
    {
     "name": "stdout",
     "output_type": "stream",
     "text": [
      "X_train shape: (6890, 100)\n",
      "y_train shape: (6890,)\n",
      "X_test shape: (1723, 100)\n",
      "y_test shape: (1723,)\n"
     ]
    }
   ],
   "source": [
    "# Check the shapes of the resulting arrays\n",
    "print(f\"X_train shape: {X_train_resampled.shape}\")\n",
    "print(f\"y_train shape: {y_train_resampled.shape}\")\n",
    "print(f\"X_test shape: {X_val.shape}\")\n",
    "print(f\"y_test shape: {y_val.shape}\")\n"
   ]
  },
  {
   "cell_type": "code",
   "execution_count": 21,
   "metadata": {},
   "outputs": [],
   "source": [
    "def get_avg_word2vec(text, model, vector_size):\n",
    "    avg_vec = np.zeros((vector_size,))\n",
    "    count = 0\n",
    "    for word in text:\n",
    "        if word in model.wv:\n",
    "            avg_vec += model.wv[word]\n",
    "            count += 1\n",
    "    if count > 0:\n",
    "        avg_vec /= count\n",
    "    return avg_vec"
   ]
  },
  {
   "cell_type": "code",
   "execution_count": 22,
   "metadata": {},
   "outputs": [],
   "source": [
    "X_train_w2v = np.array([get_avg_word2vec(sentence, word2vec_model, vector_size) for sentence in X_train_resampled])\n",
    "X_val_w2v = np.array([get_avg_word2vec(sentence, word2vec_model, vector_size) for sentence in X_val])"
   ]
  },
  {
   "cell_type": "code",
   "execution_count": 23,
   "metadata": {},
   "outputs": [],
   "source": [
    "from sklearn.tree import DecisionTreeClassifier\n",
    "from sklearn.metrics import classification_report\n",
    "\n",
    "# สร้างและฝึก Decision Tree model\n",
    "dt_model = DecisionTreeClassifier()\n",
    "history = dt_model.fit(X_train_w2v, y_train_resampled)"
   ]
  },
  {
   "cell_type": "code",
   "execution_count": 24,
   "metadata": {},
   "outputs": [],
   "source": [
    "word_index = tokenizer.word_index\n",
    "embedding_matrix = np.zeros((len(word_index) + 1, embedding_dim))\n",
    "\n",
    "for word, i in word_index.items():\n",
    "    if i < max_features:\n",
    "        # ใช้ [] แทนการใช้ get() เพื่อดึง embedding vector\n",
    "        if word in word2vec_model.wv:\n",
    "            embedding_vector = word2vec_model.wv[word]\n",
    "            if embedding_vector is not None:\n",
    "                embedding_matrix[i] = embedding_vector"
   ]
  },
  {
   "cell_type": "code",
   "execution_count": 25,
   "metadata": {},
   "outputs": [],
   "source": [
    "from sklearn.utils.class_weight import compute_class_weight\n",
    "\n",
    "unique_classes = np.unique(y_train_resampled)\n",
    "\n",
    "# Compute class weights\n",
    "class_weights = compute_class_weight('balanced', classes=unique_classes, y=y_train_resampled)\n",
    "class_weights_dict = dict(enumerate(class_weights))\n",
    "\n",
    "# Optional: Normalize class weights\n",
    "total = sum(class_weights_dict.values())\n",
    "class_weights_dict = {k: v / total for k, v in class_weights_dict.items()}"
   ]
  },
  {
   "cell_type": "code",
   "execution_count": 26,
   "metadata": {},
   "outputs": [],
   "source": [
    "class_weights_dict = dict(enumerate(class_weights))"
   ]
  },
  {
   "cell_type": "code",
   "execution_count": 27,
   "metadata": {},
   "outputs": [
    {
     "data": {
      "text/plain": [
       "{0: 1.0064271107215892, 1: 0.9869646182495344, 2: 1.0068683326026597}"
      ]
     },
     "execution_count": 27,
     "metadata": {},
     "output_type": "execute_result"
    }
   ],
   "source": [
    "class_weights_dict"
   ]
  },
  {
   "cell_type": "markdown",
   "metadata": {},
   "source": [
    "### Decision Tree"
   ]
  },
  {
   "cell_type": "code",
   "execution_count": 28,
   "metadata": {},
   "outputs": [
    {
     "name": "stdout",
     "output_type": "stream",
     "text": [
      "              precision    recall  f1-score   support\n",
      "\n",
      "           0       0.85      0.99      0.92       589\n",
      "           1       0.66      0.72      0.69       544\n",
      "           2       0.72      0.54      0.62       590\n",
      "\n",
      "    accuracy                           0.75      1723\n",
      "   macro avg       0.74      0.75      0.74      1723\n",
      "weighted avg       0.75      0.75      0.74      1723\n",
      "\n"
     ]
    }
   ],
   "source": [
    "y_pred_dt = dt_model.predict(X_val_w2v)\n",
    "\n",
    "# ประเมินผลลัพธ์\n",
    "print(classification_report(y_val, y_pred_dt))"
   ]
  },
  {
   "cell_type": "code",
   "execution_count": 29,
   "metadata": {},
   "outputs": [
    {
     "name": "stdout",
     "output_type": "stream",
     "text": [
      "Accuracy: 0.751015670342426\n"
     ]
    }
   ],
   "source": [
    "accuracy = accuracy_score(y_val, y_pred_dt)\n",
    "print(f\"Accuracy: {accuracy}\")"
   ]
  },
  {
   "cell_type": "code",
   "execution_count": 30,
   "metadata": {},
   "outputs": [
    {
     "name": "stdout",
     "output_type": "stream",
     "text": [
      "Cross-validation scores: [0.73076923 0.72351234 0.74165457 0.72714078 0.70972424]\n",
      "Mean accuracy: 0.7265602322206096\n"
     ]
    },
    {
     "data": {
      "image/png": "[encoded data removed]",
      "text/plain": [
       "<Figure size 640x480 with 1 Axes>"
      ]
     },
     "metadata": {},
     "output_type": "display_data"
    }
   ],
   "source": [
    "from sklearn.tree import DecisionTreeClassifier\n",
    "from sklearn.model_selection import cross_val_score\n",
    "import matplotlib.pyplot as plt\n",
    "\n",
    "cv_scores = cross_val_score(dt_model, X_train_w2v, y_train_resampled, cv=5, scoring='accuracy')\n",
    "\n",
    "# แสดงค่าความแม่นยำในแต่ละ fold\n",
    "print(f\"Cross-validation scores: {cv_scores}\")\n",
    "print(f\"Mean accuracy: {cv_scores.mean()}\")\n",
    "\n",
    "# สร้างกราฟแสดงความแม่นยำในแต่ละ fold\n",
    "plt.plot(range(1, len(cv_scores) + 1), cv_scores, marker='o', linestyle='--', color='b')\n",
    "plt.title('Cross-Validation Accuracy')\n",
    "plt.xlabel('Fold')\n",
    "plt.ylabel('Accuracy')\n",
    "plt.ylim([0.5, 1])  # ตั้งค่าให้แกน Y มีช่วง 0.5 ถึง 1 เพื่อให้เห็นชัดเจน\n",
    "plt.show()"
   ]
  },
  {
   "cell_type": "code",
   "execution_count": 31,
   "metadata": {},
   "outputs": [
    {
     "data": {
      "image/png": "[encoded data removed]",
      "text/plain": [
       "<Figure size 640x480 with 1 Axes>"
      ]
     },
     "metadata": {},
     "output_type": "display_data"
    }
   ],
   "source": [
    "error_rate = 1 - cv_scores\n",
    "\n",
    "# สร้างกราฟแสดง error rate\n",
    "plt.plot(range(1, len(error_rate) + 1), error_rate, marker='o', linestyle='--', color='r')\n",
    "plt.title('Cross-Validation Error Rate')\n",
    "plt.xlabel('Fold')\n",
    "plt.ylabel('Error Rate')\n",
    "plt.ylim([0, 0.5])\n",
    "plt.show()"
   ]
  },
  {
   "cell_type": "markdown",
   "metadata": {},
   "source": [
    "### K-Nearest-Neighbors"
   ]
  },
  {
   "cell_type": "code",
   "execution_count": 32,
   "metadata": {},
   "outputs": [
    {
     "name": "stdout",
     "output_type": "stream",
     "text": [
      "Accuracy: 0.5943122460824144\n",
      "              precision    recall  f1-score   support\n",
      "\n",
      "           0       0.63      0.94      0.76       589\n",
      "           1       0.54      0.51      0.52       544\n",
      "           2       0.57      0.34      0.42       590\n",
      "\n",
      "    accuracy                           0.59      1723\n",
      "   macro avg       0.58      0.59      0.57      1723\n",
      "weighted avg       0.58      0.59      0.57      1723\n",
      "\n"
     ]
    }
   ],
   "source": [
    "from sklearn.neighbors import KNeighborsClassifier\n",
    "from sklearn.metrics import classification_report, accuracy_score\n",
    "\n",
    "# สร้างโมเดล KNN (กำหนดค่า k เท่ากับ 5)\n",
    "knn_model = KNeighborsClassifier(n_neighbors=5)\n",
    "\n",
    "# ฝึกโมเดล KNN ด้วยข้อมูลฝึก\n",
    "knn_model.fit(X_train_w2v, y_train_resampled)\n",
    "\n",
    "# ทำนายผลลัพธ์บนชุดข้อมูล validation\n",
    "y_pred_knn = knn_model.predict(X_val_w2v)\n",
    "\n",
    "# ประเมินความแม่นยำ\n",
    "accuracy = accuracy_score(y_val, y_pred_knn)\n",
    "print(f\"Accuracy: {accuracy}\")\n",
    "\n",
    "# แสดงรายงานการจัดหมวดหมู่ (classification report)\n",
    "print(classification_report(y_val, y_pred_knn))\n"
   ]
  },
  {
   "cell_type": "markdown",
   "metadata": {},
   "source": [
    "### Naive Bayes"
   ]
  },
  {
   "cell_type": "code",
   "execution_count": 33,
   "metadata": {},
   "outputs": [
    {
     "name": "stdout",
     "output_type": "stream",
     "text": [
      "Accuracy: 0.3354614045269878\n",
      "              precision    recall  f1-score   support\n",
      "\n",
      "           0       0.38      0.29      0.33       589\n",
      "           1       0.32      0.68      0.43       544\n",
      "           2       0.31      0.06      0.10       590\n",
      "\n",
      "    accuracy                           0.34      1723\n",
      "   macro avg       0.34      0.34      0.29      1723\n",
      "weighted avg       0.34      0.34      0.29      1723\n",
      "\n"
     ]
    }
   ],
   "source": [
    "from sklearn.naive_bayes import GaussianNB\n",
    "from sklearn.metrics import classification_report, accuracy_score\n",
    "\n",
    "# สร้างโมเดล Gaussian Naive Bayes\n",
    "gnb_model = GaussianNB()\n",
    "\n",
    "# ฝึกโมเดลด้วยข้อมูลฝึก\n",
    "gnb_model.fit(X_train_w2v, y_train_resampled)\n",
    "\n",
    "# ทำนายผลลัพธ์บนชุดข้อมูล validation\n",
    "y_pred_gnb = gnb_model.predict(X_val_w2v)\n",
    "\n",
    "# ประเมินความแม่นยำ\n",
    "accuracy = accuracy_score(y_val, y_pred_gnb)\n",
    "print(f\"Accuracy: {accuracy}\")\n",
    "\n",
    "# แสดงรายงานการจัดหมวดหมู่\n",
    "print(classification_report(y_val, y_pred_gnb))\n"
   ]
  },
  {
   "cell_type": "markdown",
   "metadata": {},
   "source": [
    "### XGBoost"
   ]
  },
  {
   "cell_type": "code",
   "execution_count": 34,
   "metadata": {},
   "outputs": [
    {
     "name": "stdout",
     "output_type": "stream",
     "text": [
      "Accuracy: 0.7196749854904236\n",
      "              precision    recall  f1-score   support\n",
      "\n",
      "           0       0.83      0.94      0.88       589\n",
      "           1       0.64      0.67      0.65       544\n",
      "           2       0.66      0.55      0.60       590\n",
      "\n",
      "    accuracy                           0.72      1723\n",
      "   macro avg       0.71      0.72      0.71      1723\n",
      "weighted avg       0.71      0.72      0.71      1723\n",
      "\n"
     ]
    }
   ],
   "source": [
    "import xgboost as xgb\n",
    "from sklearn.metrics import classification_report, accuracy_score\n",
    "\n",
    "# สร้างโมเดล XGBoost\n",
    "xgb_model = xgb.XGBClassifier(n_estimators=100, max_depth=5, learning_rate=0.1, subsample=0.8)\n",
    "\n",
    "xgb_model.fit(X_train_w2v, y_train_resampled)\n",
    "\n",
    "# ทำนายผลลัพธ์บนชุดข้อมูล validation\n",
    "y_pred_xgb = xgb_model.predict(X_val_w2v)\n",
    "\n",
    "# ประเมินความแม่นยำ\n",
    "accuracy = accuracy_score(y_val, y_pred_xgb)\n",
    "print(f\"Accuracy: {accuracy}\")\n",
    "\n",
    "# แสดงรายงานการจัดหมวดหมู่\n",
    "print(classification_report(y_val, y_pred_xgb))\n"
   ]
  },
  {
   "cell_type": "markdown",
   "metadata": {},
   "source": [
    "###  Random Forest"
   ]
  },
  {
   "cell_type": "code",
   "execution_count": 40,
   "metadata": {},
   "outputs": [
    {
     "name": "stdout",
     "output_type": "stream",
     "text": [
      "Accuracy: 0.7858386535113174\n",
      "              precision    recall  f1-score   support\n",
      "\n",
      "           0       0.94      0.98      0.96       589\n",
      "           1       0.68      0.70      0.69       544\n",
      "           2       0.71      0.67      0.69       590\n",
      "\n",
      "    accuracy                           0.79      1723\n",
      "   macro avg       0.78      0.78      0.78      1723\n",
      "weighted avg       0.78      0.79      0.78      1723\n",
      "\n"
     ]
    }
   ],
   "source": [
    "from sklearn.ensemble import RandomForestClassifier\n",
    "from sklearn.metrics import classification_report, accuracy_score\n",
    "\n",
    "# สร้างโมเดล Random Forest\n",
    "rf_model = RandomForestClassifier(n_estimators=100, random_state=42)\n",
    "\n",
    "# ฝึกโมเดลด้วยข้อมูลฝึก\n",
    "rf_model.fit(X_train_w2v, y_train_resampled)\n",
    "\n",
    "# ทำนายผลลัพธ์บนชุดข้อมูล validation\n",
    "y_pred_rf = rf_model.predict(X_val_w2v)\n",
    "\n",
    "# ประเมินความแม่นยำ\n",
    "accuracy = accuracy_score(y_val, y_pred_rf)\n",
    "print(f\"Accuracy: {accuracy}\")\n",
    "\n",
    "# แสดงรายงานการจัดหมวดหมู่ (classification report)\n",
    "print(classification_report(y_val, y_pred_rf))\n"
   ]
  },
  {
   "cell_type": "code",
   "execution_count": 39,
   "metadata": {},
   "outputs": [
    {
     "name": "stdout",
     "output_type": "stream",
     "text": [
      "#1 KNN:\n",
      "  Mean Accuracy: 0.5801 (+/- 0.0103)\n",
      "  Mean Precision: 0.5685 (+/- 0.0105)\n",
      "  Mean Recall: 0.5806 (+/- 0.0084)\n",
      "  Mean F1-Score: 0.5579 (+/- 0.0095)\n",
      "#2 Decision Tree:\n",
      "  Mean Accuracy: 0.7345 (+/- 0.0078)\n",
      "  Mean Precision: 0.7261 (+/- 0.0080)\n",
      "  Mean Recall: 0.7348 (+/- 0.0081)\n",
      "  Mean F1-Score: 0.7233 (+/- 0.0075)\n",
      "#3 Random Forest:\n",
      "  Mean Accuracy: 0.7582 (+/- 0.0076)\n",
      "  Mean Precision: 0.7534 (+/- 0.0069)\n",
      "  Mean Recall: 0.7589 (+/- 0.0063)\n",
      "  Mean F1-Score: 0.7548 (+/- 0.0063)\n",
      "#4 Naive Bayes:\n",
      "  Mean Accuracy: 0.3701 (+/- 0.0164)\n",
      "  Mean Precision: 0.3886 (+/- 0.0182)\n",
      "  Mean Recall: 0.3682 (+/- 0.0148)\n",
      "  Mean F1-Score: 0.3215 (+/- 0.0222)\n",
      "#5 XGBoost:\n",
      "  Mean Accuracy: 0.7038 (+/- 0.0078)\n",
      "  Mean Precision: 0.6956 (+/- 0.0079)\n",
      "  Mean Recall: 0.7042 (+/- 0.0074)\n",
      "  Mean F1-Score: 0.6965 (+/- 0.0082)\n"
     ]
    }
   ],
   "source": [
    "from sklearn.model_selection import cross_val_score, KFold, cross_validate\n",
    "from sklearn.naive_bayes import GaussianNB\n",
    "from sklearn.neighbors import KNeighborsClassifier\n",
    "from sklearn.tree import DecisionTreeClassifier\n",
    "from sklearn.ensemble import RandomForestClassifier\n",
    "import xgboost as xgb\n",
    "import numpy as np\n",
    "\n",
    "# กำหนดจำนวน fold\n",
    "kf = KFold(n_splits=5, shuffle=True, random_state=42)\n",
    "\n",
    "# สร้างโมเดลที่ต้องการประเมิน\n",
    "models = {\n",
    "    \"KNN\": KNeighborsClassifier(n_neighbors=5),\n",
    "    \"Decision Tree\": DecisionTreeClassifier(),\n",
    "    \"Random Forest\": RandomForestClassifier(n_estimators=100),\n",
    "    \"Naive Bayes\": GaussianNB(),\n",
    "    \"XGBoost\": xgb.XGBClassifier(n_estimators=100, max_depth=5, learning_rate=0.1, subsample=0.8)\n",
    "}\n",
    "\n",
    "# ฟังก์ชันประเมินโมเดลแต่ละตัวด้วย K-Fold\n",
    "def evaluate_model(model, X, y):\n",
    "    scoring = {\n",
    "        'accuracy': 'accuracy',\n",
    "        'precision': 'precision_macro',  # For multiclass, use precision_macro\n",
    "        'recall': 'recall_macro',        # For multiclass, use recall_macro\n",
    "        'f1': 'f1_macro'     \n",
    "    }\n",
    "    scores = cross_validate(model, X, y, cv=kf, scoring=scoring, return_train_score=False)\n",
    "    return scores\n",
    "\n",
    "# ประเมินโมเดลแต่ละตัวด้วย K-Fold Cross-Validation\n",
    "results = {}\n",
    "index = 1\n",
    "for model_name, model in models.items():\n",
    "    scores = evaluate_model(model, X_train_w2v, y_train_resampled)\n",
    "    results[model_name] = scores\n",
    "    print(f\"#{index} {model_name}:\")\n",
    "    print(f\"  Mean Accuracy: {np.mean(scores['test_accuracy']):.4f} (+/- {np.std(scores['test_accuracy']):.4f})\")\n",
    "    print(f\"  Mean Precision: {np.mean(scores['test_precision']):.4f} (+/- {np.std(scores['test_precision']):.4f})\")\n",
    "    print(f\"  Mean Recall: {np.mean(scores['test_recall']):.4f} (+/- {np.std(scores['test_recall']):.4f})\")\n",
    "    print(f\"  Mean F1-Score: {np.mean(scores['test_f1']):.4f} (+/- {np.std(scores['test_f1']):.4f})\")\n",
    "    index += 1\n",
    "    \n",
    "\n"
   ]
  },
  {
   "cell_type": "code",
   "execution_count": 42,
   "metadata": {},
   "outputs": [],
   "source": [
    "import pickle\n",
    "\n",
    "SAVED_MODEL_DIR = '../../models'\n",
    "\n",
    "xgb_model.save_model(f'{SAVED_MODEL_DIR}/xgboost_model_sample.json')\n",
    "\n",
    "with open(f'{SAVED_MODEL_DIR}/dicision_model_sample.pkl', 'wb') as file:\n",
    "    pickle.dump(dt_model, file)\n",
    "    \n",
    "with open(f'{SAVED_MODEL_DIR}/naive_bayes_model_sample.pkl', 'wb') as file:\n",
    "    pickle.dump(gnb_model, file)\n",
    "    \n",
    "with open(f'{SAVED_MODEL_DIR}/random_forest_model_sample.pkl', 'wb') as file:\n",
    "    pickle.dump(rf_model, file)\n",
    "\n",
    "with open(f'{SAVED_MODEL_DIR}/k_nearest_neighbor_model_sample.pkl', 'wb') as file:\n",
    "    pickle.dump(knn_model, file)"
   ]
  }
 ],
 "metadata": {
  "kernelspec": {
   "display_name": "is-project-thailand-tourism-recommendation-qwL-LsgH-py3.12",
   "language": "python",
   "name": "python3"
  },
  "language_info": {
   "codemirror_mode": {
    "name": "ipython",
    "version": 3
   },
   "file_extension": ".py",
   "mimetype": "text/x-python",
   "name": "python",
   "nbconvert_exporter": "python",
   "pygments_lexer": "ipython3",
   "version": "3.12.5"
  }
 },
 "nbformat": 4,
 "nbformat_minor": 2
}
