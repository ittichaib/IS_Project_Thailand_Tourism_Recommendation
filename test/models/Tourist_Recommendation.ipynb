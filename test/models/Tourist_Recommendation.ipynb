{
 "cells": [
  {
   "cell_type": "markdown",
   "metadata": {},
   "source": [
    "## Model\n",
    "\n",
    "#### (1) SVM, \n",
    "#### (2) Naive Bayer, \n",
    "#### (3) XGBooster,\n",
    "#### (4) Logistic, \n",
    "#### (5) Dicision Tree, \n",
    "#### (6) K-Nearest Neibor, \n",
    "#### (7) Random Forest"
   ]
  },
  {
   "cell_type": "code",
   "execution_count": 1,
   "metadata": {},
   "outputs": [],
   "source": [
    "import pandas as pd\n",
    "import numpy as np\n",
    "# from surprise import Dataset, Reader, SVD\n",
    "# from surprise.model_selection import train_test_split, cross_validate\n",
    "# from surprise.accuracy import rmse\n",
    "import matplotlib.pyplot as plt"
   ]
  },
  {
   "cell_type": "code",
   "execution_count": 2,
   "metadata": {},
   "outputs": [
    {
     "data": {
      "text/html": [
       "<div>\n",
       "<style scoped>\n",
       "    .dataframe tbody tr th:only-of-type {\n",
       "        vertical-align: middle;\n",
       "    }\n",
       "\n",
       "    .dataframe tbody tr th {\n",
       "        vertical-align: top;\n",
       "    }\n",
       "\n",
       "    .dataframe thead th {\n",
       "        text-align: right;\n",
       "    }\n",
       "</style>\n",
       "<table border=\"1\" class=\"dataframe\">\n",
       "  <thead>\n",
       "    <tr style=\"text-align: right;\">\n",
       "      <th></th>\n",
       "      <th>Unnamed: 0</th>\n",
       "      <th>location_id</th>\n",
       "      <th>location_name</th>\n",
       "      <th>trip_type</th>\n",
       "      <th>rating</th>\n",
       "      <th>helpful_voting</th>\n",
       "      <th>review_text</th>\n",
       "      <th>actual_sentiment</th>\n",
       "      <th>predicted_sentiment</th>\n",
       "      <th>place_id</th>\n",
       "      <th>place_name</th>\n",
       "      <th>emotion</th>\n",
       "      <th>review_id</th>\n",
       "    </tr>\n",
       "  </thead>\n",
       "  <tbody>\n",
       "    <tr>\n",
       "      <th>0</th>\n",
       "      <td>0</td>\n",
       "      <td>2209612.0</td>\n",
       "      <td>Wat Ratchabophit</td>\n",
       "      <td>Family</td>\n",
       "      <td>5.0</td>\n",
       "      <td>0.0</td>\n",
       "      <td>Besides elegant grand palace and wat pra kaew ...</td>\n",
       "      <td>1</td>\n",
       "      <td>1</td>\n",
       "      <td>P03013220</td>\n",
       "      <td>Bangkok</td>\n",
       "      <td>joy</td>\n",
       "      <td>953596359.0</td>\n",
       "    </tr>\n",
       "    <tr>\n",
       "      <th>1</th>\n",
       "      <td>3</td>\n",
       "      <td>2209612.0</td>\n",
       "      <td>Wat Ratchabophit</td>\n",
       "      <td>Couples</td>\n",
       "      <td>5.0</td>\n",
       "      <td>0.0</td>\n",
       "      <td>Wat Ratchabophit is a Buddhist temple located ...</td>\n",
       "      <td>0</td>\n",
       "      <td>0</td>\n",
       "      <td>P03013220</td>\n",
       "      <td>Bangkok</td>\n",
       "      <td>joy</td>\n",
       "      <td>885904967.0</td>\n",
       "    </tr>\n",
       "    <tr>\n",
       "      <th>2</th>\n",
       "      <td>8</td>\n",
       "      <td>2273363.0</td>\n",
       "      <td>Wat Rajapradit Sathitmahasimaram Rajaworavihara</td>\n",
       "      <td>NONE</td>\n",
       "      <td>5.0</td>\n",
       "      <td>2.0</td>\n",
       "      <td>One of the least crowded temples but very beau...</td>\n",
       "      <td>0</td>\n",
       "      <td>0</td>\n",
       "      <td>P03013220</td>\n",
       "      <td>Bangkok</td>\n",
       "      <td>love</td>\n",
       "      <td>738692369.0</td>\n",
       "    </tr>\n",
       "    <tr>\n",
       "      <th>3</th>\n",
       "      <td>14</td>\n",
       "      <td>311043.0</td>\n",
       "      <td>Wat Phra Chetuphon</td>\n",
       "      <td>Couples</td>\n",
       "      <td>5.0</td>\n",
       "      <td>0.0</td>\n",
       "      <td>The designs, the Buddhas, and other figures fe...</td>\n",
       "      <td>2</td>\n",
       "      <td>2</td>\n",
       "      <td>P03013220</td>\n",
       "      <td>Bangkok</td>\n",
       "      <td>surprise</td>\n",
       "      <td>962482865.0</td>\n",
       "    </tr>\n",
       "    <tr>\n",
       "      <th>4</th>\n",
       "      <td>15</td>\n",
       "      <td>317504.0</td>\n",
       "      <td>Temple Of Dawn (Wat Arun)</td>\n",
       "      <td>Couples</td>\n",
       "      <td>5.0</td>\n",
       "      <td>0.0</td>\n",
       "      <td>Probably the best temple in Bangkok.. given th...</td>\n",
       "      <td>0</td>\n",
       "      <td>0</td>\n",
       "      <td>P03013220</td>\n",
       "      <td>Bangkok</td>\n",
       "      <td>joy</td>\n",
       "      <td>962528316.0</td>\n",
       "    </tr>\n",
       "    <tr>\n",
       "      <th>...</th>\n",
       "      <td>...</td>\n",
       "      <td>...</td>\n",
       "      <td>...</td>\n",
       "      <td>...</td>\n",
       "      <td>...</td>\n",
       "      <td>...</td>\n",
       "      <td>...</td>\n",
       "      <td>...</td>\n",
       "      <td>...</td>\n",
       "      <td>...</td>\n",
       "      <td>...</td>\n",
       "      <td>...</td>\n",
       "      <td>...</td>\n",
       "    </tr>\n",
       "    <tr>\n",
       "      <th>1778</th>\n",
       "      <td>5900</td>\n",
       "      <td>7726805.0</td>\n",
       "      <td>Wat Prasat Temple</td>\n",
       "      <td>NONE</td>\n",
       "      <td>4.0</td>\n",
       "      <td>11.0</td>\n",
       "      <td>The size is not big. Pillars are well decorate...</td>\n",
       "      <td>2</td>\n",
       "      <td>2</td>\n",
       "      <td>P03013503</td>\n",
       "      <td>Nonthaburi</td>\n",
       "      <td>joy</td>\n",
       "      <td>877979960.0</td>\n",
       "    </tr>\n",
       "    <tr>\n",
       "      <th>1779</th>\n",
       "      <td>5902</td>\n",
       "      <td>7726805.0</td>\n",
       "      <td>Wat Prasat Temple</td>\n",
       "      <td>Solo travel</td>\n",
       "      <td>5.0</td>\n",
       "      <td>1.0</td>\n",
       "      <td>Compared to the other temples in the local are...</td>\n",
       "      <td>2</td>\n",
       "      <td>2</td>\n",
       "      <td>P03013503</td>\n",
       "      <td>Nonthaburi</td>\n",
       "      <td>joy</td>\n",
       "      <td>658165922.0</td>\n",
       "    </tr>\n",
       "    <tr>\n",
       "      <th>1780</th>\n",
       "      <td>5903</td>\n",
       "      <td>7726805.0</td>\n",
       "      <td>Wat Prasat Temple</td>\n",
       "      <td>Couples</td>\n",
       "      <td>4.0</td>\n",
       "      <td>0.0</td>\n",
       "      <td>Beautiful Lanna architecture and sacred Buddha...</td>\n",
       "      <td>1</td>\n",
       "      <td>1</td>\n",
       "      <td>P03013503</td>\n",
       "      <td>Nonthaburi</td>\n",
       "      <td>joy</td>\n",
       "      <td>591689577.0</td>\n",
       "    </tr>\n",
       "    <tr>\n",
       "      <th>1781</th>\n",
       "      <td>5905</td>\n",
       "      <td>1831068.0</td>\n",
       "      <td>Prasat Puay Noi</td>\n",
       "      <td>NONE</td>\n",
       "      <td>3.0</td>\n",
       "      <td>4.0</td>\n",
       "      <td>Prasat Pueai Noi is claimed to be the biggest ...</td>\n",
       "      <td>1</td>\n",
       "      <td>1</td>\n",
       "      <td>P03013503</td>\n",
       "      <td>Nonthaburi</td>\n",
       "      <td>joy</td>\n",
       "      <td>752115552.0</td>\n",
       "    </tr>\n",
       "    <tr>\n",
       "      <th>1782</th>\n",
       "      <td>5908</td>\n",
       "      <td>1831068.0</td>\n",
       "      <td>Prasat Puay Noi</td>\n",
       "      <td>Couples</td>\n",
       "      <td>4.0</td>\n",
       "      <td>0.0</td>\n",
       "      <td>Fully recommend this to the genuine history bu...</td>\n",
       "      <td>2</td>\n",
       "      <td>2</td>\n",
       "      <td>P03013503</td>\n",
       "      <td>Nonthaburi</td>\n",
       "      <td>joy</td>\n",
       "      <td>571939282.0</td>\n",
       "    </tr>\n",
       "  </tbody>\n",
       "</table>\n",
       "<p>1783 rows × 13 columns</p>\n",
       "</div>"
      ],
      "text/plain": [
       "      Unnamed: 0  location_id  \\\n",
       "0              0    2209612.0   \n",
       "1              3    2209612.0   \n",
       "2              8    2273363.0   \n",
       "3             14     311043.0   \n",
       "4             15     317504.0   \n",
       "...          ...          ...   \n",
       "1778        5900    7726805.0   \n",
       "1779        5902    7726805.0   \n",
       "1780        5903    7726805.0   \n",
       "1781        5905    1831068.0   \n",
       "1782        5908    1831068.0   \n",
       "\n",
       "                                        location_name    trip_type  rating  \\\n",
       "0                                    Wat Ratchabophit       Family     5.0   \n",
       "1                                    Wat Ratchabophit      Couples     5.0   \n",
       "2     Wat Rajapradit Sathitmahasimaram Rajaworavihara         NONE     5.0   \n",
       "3                                  Wat Phra Chetuphon      Couples     5.0   \n",
       "4                           Temple Of Dawn (Wat Arun)      Couples     5.0   \n",
       "...                                               ...          ...     ...   \n",
       "1778                                Wat Prasat Temple         NONE     4.0   \n",
       "1779                                Wat Prasat Temple  Solo travel     5.0   \n",
       "1780                                Wat Prasat Temple      Couples     4.0   \n",
       "1781                                  Prasat Puay Noi         NONE     3.0   \n",
       "1782                                  Prasat Puay Noi      Couples     4.0   \n",
       "\n",
       "      helpful_voting                                        review_text  \\\n",
       "0                0.0  Besides elegant grand palace and wat pra kaew ...   \n",
       "1                0.0  Wat Ratchabophit is a Buddhist temple located ...   \n",
       "2                2.0  One of the least crowded temples but very beau...   \n",
       "3                0.0  The designs, the Buddhas, and other figures fe...   \n",
       "4                0.0  Probably the best temple in Bangkok.. given th...   \n",
       "...              ...                                                ...   \n",
       "1778            11.0  The size is not big. Pillars are well decorate...   \n",
       "1779             1.0  Compared to the other temples in the local are...   \n",
       "1780             0.0  Beautiful Lanna architecture and sacred Buddha...   \n",
       "1781             4.0  Prasat Pueai Noi is claimed to be the biggest ...   \n",
       "1782             0.0  Fully recommend this to the genuine history bu...   \n",
       "\n",
       "      actual_sentiment  predicted_sentiment   place_id  place_name   emotion  \\\n",
       "0                    1                    1  P03013220     Bangkok       joy   \n",
       "1                    0                    0  P03013220     Bangkok       joy   \n",
       "2                    0                    0  P03013220     Bangkok      love   \n",
       "3                    2                    2  P03013220     Bangkok  surprise   \n",
       "4                    0                    0  P03013220     Bangkok       joy   \n",
       "...                ...                  ...        ...         ...       ...   \n",
       "1778                 2                    2  P03013503  Nonthaburi       joy   \n",
       "1779                 2                    2  P03013503  Nonthaburi       joy   \n",
       "1780                 1                    1  P03013503  Nonthaburi       joy   \n",
       "1781                 1                    1  P03013503  Nonthaburi       joy   \n",
       "1782                 2                    2  P03013503  Nonthaburi       joy   \n",
       "\n",
       "        review_id  \n",
       "0     953596359.0  \n",
       "1     885904967.0  \n",
       "2     738692369.0  \n",
       "3     962482865.0  \n",
       "4     962528316.0  \n",
       "...           ...  \n",
       "1778  877979960.0  \n",
       "1779  658165922.0  \n",
       "1780  591689577.0  \n",
       "1781  752115552.0  \n",
       "1782  571939282.0  \n",
       "\n",
       "[1783 rows x 13 columns]"
      ]
     },
     "execution_count": 2,
     "metadata": {},
     "output_type": "execute_result"
    }
   ],
   "source": [
    "review_sentiment_df = pd.read_csv('output/LSTM_predictions.csv')\n",
    "review_sentiment_df"
   ]
  },
  {
   "cell_type": "code",
   "execution_count": 3,
   "metadata": {},
   "outputs": [
    {
     "data": {
      "text/html": [
       "<div>\n",
       "<style scoped>\n",
       "    .dataframe tbody tr th:only-of-type {\n",
       "        vertical-align: middle;\n",
       "    }\n",
       "\n",
       "    .dataframe tbody tr th {\n",
       "        vertical-align: top;\n",
       "    }\n",
       "\n",
       "    .dataframe thead th {\n",
       "        text-align: right;\n",
       "    }\n",
       "</style>\n",
       "<table border=\"1\" class=\"dataframe\">\n",
       "  <thead>\n",
       "    <tr style=\"text-align: right;\">\n",
       "      <th></th>\n",
       "      <th>location_name</th>\n",
       "      <th>place_name</th>\n",
       "      <th>review_count</th>\n",
       "      <th>average_rating</th>\n",
       "    </tr>\n",
       "  </thead>\n",
       "  <tbody>\n",
       "    <tr>\n",
       "      <th>827</th>\n",
       "      <td>Wat Mahathat</td>\n",
       "      <td>Bangkok</td>\n",
       "      <td>8</td>\n",
       "      <td>3.625</td>\n",
       "    </tr>\n",
       "    <tr>\n",
       "      <th>894</th>\n",
       "      <td>Wat Phra Singh</td>\n",
       "      <td>Bangkok</td>\n",
       "      <td>7</td>\n",
       "      <td>4.286</td>\n",
       "    </tr>\n",
       "    <tr>\n",
       "      <th>660</th>\n",
       "      <td>Tham Khao Luang Cave</td>\n",
       "      <td>Saraburi</td>\n",
       "      <td>5</td>\n",
       "      <td>4.000</td>\n",
       "    </tr>\n",
       "    <tr>\n",
       "      <th>722</th>\n",
       "      <td>Wat  Pahuaylad Temple</td>\n",
       "      <td>Phetchabun</td>\n",
       "      <td>5</td>\n",
       "      <td>4.200</td>\n",
       "    </tr>\n",
       "    <tr>\n",
       "      <th>896</th>\n",
       "      <td>Wat Phra Tat Chom Ping</td>\n",
       "      <td>Sukhothai</td>\n",
       "      <td>5</td>\n",
       "      <td>4.600</td>\n",
       "    </tr>\n",
       "    <tr>\n",
       "      <th>...</th>\n",
       "      <td>...</td>\n",
       "      <td>...</td>\n",
       "      <td>...</td>\n",
       "      <td>...</td>\n",
       "    </tr>\n",
       "    <tr>\n",
       "      <th>1018</th>\n",
       "      <td>Waterfall Party</td>\n",
       "      <td>Uthai Thani</td>\n",
       "      <td>1</td>\n",
       "      <td>1.000</td>\n",
       "    </tr>\n",
       "    <tr>\n",
       "      <th>1019</th>\n",
       "      <td>Weapon Museum</td>\n",
       "      <td>Phetchabun</td>\n",
       "      <td>1</td>\n",
       "      <td>3.000</td>\n",
       "    </tr>\n",
       "    <tr>\n",
       "      <th>1020</th>\n",
       "      <td>White Sand Beach Night Food Market</td>\n",
       "      <td>Bangkok</td>\n",
       "      <td>1</td>\n",
       "      <td>4.000</td>\n",
       "    </tr>\n",
       "    <tr>\n",
       "      <th>1022</th>\n",
       "      <td>Wong Amat Beach</td>\n",
       "      <td>Nonthaburi</td>\n",
       "      <td>1</td>\n",
       "      <td>4.000</td>\n",
       "    </tr>\n",
       "    <tr>\n",
       "      <th>1024</th>\n",
       "      <td>ตลาดน้ำทุ่งบัวแดง</td>\n",
       "      <td>Phra Nakhon Si Ayutthaya</td>\n",
       "      <td>1</td>\n",
       "      <td>5.000</td>\n",
       "    </tr>\n",
       "  </tbody>\n",
       "</table>\n",
       "<p>1025 rows × 4 columns</p>\n",
       "</div>"
      ],
      "text/plain": [
       "                           location_name                place_name  \\\n",
       "827                         Wat Mahathat                   Bangkok   \n",
       "894                       Wat Phra Singh                   Bangkok   \n",
       "660                 Tham Khao Luang Cave                  Saraburi   \n",
       "722                Wat  Pahuaylad Temple                Phetchabun   \n",
       "896               Wat Phra Tat Chom Ping                 Sukhothai   \n",
       "...                                  ...                       ...   \n",
       "1018                     Waterfall Party               Uthai Thani   \n",
       "1019                       Weapon Museum                Phetchabun   \n",
       "1020  White Sand Beach Night Food Market                   Bangkok   \n",
       "1022                     Wong Amat Beach                Nonthaburi   \n",
       "1024                   ตลาดน้ำทุ่งบัวแดง  Phra Nakhon Si Ayutthaya   \n",
       "\n",
       "      review_count  average_rating  \n",
       "827              8           3.625  \n",
       "894              7           4.286  \n",
       "660              5           4.000  \n",
       "722              5           4.200  \n",
       "896              5           4.600  \n",
       "...            ...             ...  \n",
       "1018             1           1.000  \n",
       "1019             1           3.000  \n",
       "1020             1           4.000  \n",
       "1022             1           4.000  \n",
       "1024             1           5.000  \n",
       "\n",
       "[1025 rows x 4 columns]"
      ]
     },
     "execution_count": 3,
     "metadata": {},
     "output_type": "execute_result"
    }
   ],
   "source": [
    "summary_table = review_sentiment_df.groupby('location_name').agg(\n",
    "    place_name=('place_name', 'first'),\n",
    "    review_count=('review_id', 'count'),\n",
    "    average_rating=('rating', 'mean')\n",
    ").reset_index()\n",
    "\n",
    "summary_table['average_rating'] = summary_table['average_rating'].round(3)\n",
    "\n",
    "summary_table = summary_table.sort_values(by=['review_count', 'location_name'], ascending=[False, True])\n",
    "\n",
    "summary_table\n"
   ]
  },
  {
   "cell_type": "code",
   "execution_count": 4,
   "metadata": {},
   "outputs": [
    {
     "data": {
      "image/png": "[encoded data removed]",
      "text/plain": [
       "<Figure size 1200x600 with 2 Axes>"
      ]
     },
     "metadata": {},
     "output_type": "display_data"
    },
    {
     "data": {
      "image/png": "[encoded data removed]",
      "text/plain": [
       "<Figure size 1200x600 with 2 Axes>"
      ]
     },
     "metadata": {},
     "output_type": "display_data"
    }
   ],
   "source": [
    "import matplotlib.pyplot as plt\n",
    "\n",
    "\n",
    "trip_type_counts = review_sentiment_df['trip_type'].value_counts()\n",
    "\n",
    "helpful_voting_counts = review_sentiment_df['helpful_voting'].astype(int).value_counts()\n",
    "\n",
    "helpful_voting_counts = review_sentiment_df['helpful_voting'].astype(int).value_counts()\n",
    "\n",
    "fig, (ax1, ax2) = plt.subplots(1, 2, figsize=(12, 6))\n",
    "\n",
    "ax1.bar(trip_type_counts.index.astype(str), trip_type_counts.values, color='b', alpha=0.6)\n",
    "ax1.set_xlabel('Trip Type')\n",
    "ax1.set_ylabel('Count')\n",
    "ax1.set_title('Count of Each Trip Type')\n",
    "\n",
    "ax2.bar(helpful_voting_counts.index.astype(str), helpful_voting_counts.values, color='r', alpha=0.6)\n",
    "ax2.set_xlabel('Helpful Voting')\n",
    "ax2.set_ylabel('Count')\n",
    "ax2.set_title('Count of Each Helpful Voting Value')\n",
    "\n",
    "fig, (ax3, ax4) = plt.subplots(1, 2, figsize=(12, 6))\n",
    "ax3.bar(helpful_voting_counts.index.astype(str), helpful_voting_counts.values, color='g', alpha=0.6)\n",
    "ax3.set_xlabel('Helpful Voting')\n",
    "ax2.set_ylabel('Count')\n",
    "ax3.set_title('Count of Each Helpful Voting Value')\n",
    "\n",
    "plt.tight_layout()\n",
    "\n",
    "plt.show()\n"
   ]
  },
  {
   "cell_type": "code",
   "execution_count": 5,
   "metadata": {},
   "outputs": [
    {
     "name": "stdout",
     "output_type": "stream",
     "text": [
      "['Family' 'Couples' 'NONE' ... 'Couples' 'NONE' 'Couples']\n"
     ]
    }
   ],
   "source": [
    "print(review_sentiment_df['trip_type'].values)"
   ]
  },
  {
   "cell_type": "code",
   "execution_count": 6,
   "metadata": {},
   "outputs": [
    {
     "data": {
      "text/html": [
       "<div>\n",
       "<style scoped>\n",
       "    .dataframe tbody tr th:only-of-type {\n",
       "        vertical-align: middle;\n",
       "    }\n",
       "\n",
       "    .dataframe tbody tr th {\n",
       "        vertical-align: top;\n",
       "    }\n",
       "\n",
       "    .dataframe thead th {\n",
       "        text-align: right;\n",
       "    }\n",
       "</style>\n",
       "<table border=\"1\" class=\"dataframe\">\n",
       "  <thead>\n",
       "    <tr style=\"text-align: right;\">\n",
       "      <th></th>\n",
       "      <th>predicted_sentiment</th>\n",
       "      <th>helpful_voting</th>\n",
       "      <th>rating</th>\n",
       "      <th>location_name</th>\n",
       "      <th>place_name</th>\n",
       "      <th>review_id</th>\n",
       "    </tr>\n",
       "  </thead>\n",
       "  <tbody>\n",
       "    <tr>\n",
       "      <th>0</th>\n",
       "      <td>1</td>\n",
       "      <td>0.0</td>\n",
       "      <td>5.0</td>\n",
       "      <td>Wat Ratchabophit</td>\n",
       "      <td>Bangkok</td>\n",
       "      <td>953596359.0</td>\n",
       "    </tr>\n",
       "    <tr>\n",
       "      <th>1</th>\n",
       "      <td>0</td>\n",
       "      <td>0.0</td>\n",
       "      <td>5.0</td>\n",
       "      <td>Wat Ratchabophit</td>\n",
       "      <td>Bangkok</td>\n",
       "      <td>885904967.0</td>\n",
       "    </tr>\n",
       "    <tr>\n",
       "      <th>2</th>\n",
       "      <td>0</td>\n",
       "      <td>2.0</td>\n",
       "      <td>5.0</td>\n",
       "      <td>Wat Rajapradit Sathitmahasimaram Rajaworavihara</td>\n",
       "      <td>Bangkok</td>\n",
       "      <td>738692369.0</td>\n",
       "    </tr>\n",
       "    <tr>\n",
       "      <th>3</th>\n",
       "      <td>2</td>\n",
       "      <td>0.0</td>\n",
       "      <td>5.0</td>\n",
       "      <td>Wat Phra Chetuphon</td>\n",
       "      <td>Bangkok</td>\n",
       "      <td>962482865.0</td>\n",
       "    </tr>\n",
       "    <tr>\n",
       "      <th>4</th>\n",
       "      <td>0</td>\n",
       "      <td>0.0</td>\n",
       "      <td>5.0</td>\n",
       "      <td>Temple Of Dawn (Wat Arun)</td>\n",
       "      <td>Bangkok</td>\n",
       "      <td>962528316.0</td>\n",
       "    </tr>\n",
       "    <tr>\n",
       "      <th>...</th>\n",
       "      <td>...</td>\n",
       "      <td>...</td>\n",
       "      <td>...</td>\n",
       "      <td>...</td>\n",
       "      <td>...</td>\n",
       "      <td>...</td>\n",
       "    </tr>\n",
       "    <tr>\n",
       "      <th>1778</th>\n",
       "      <td>2</td>\n",
       "      <td>11.0</td>\n",
       "      <td>4.0</td>\n",
       "      <td>Wat Prasat Temple</td>\n",
       "      <td>Nonthaburi</td>\n",
       "      <td>877979960.0</td>\n",
       "    </tr>\n",
       "    <tr>\n",
       "      <th>1779</th>\n",
       "      <td>2</td>\n",
       "      <td>1.0</td>\n",
       "      <td>5.0</td>\n",
       "      <td>Wat Prasat Temple</td>\n",
       "      <td>Nonthaburi</td>\n",
       "      <td>658165922.0</td>\n",
       "    </tr>\n",
       "    <tr>\n",
       "      <th>1780</th>\n",
       "      <td>1</td>\n",
       "      <td>0.0</td>\n",
       "      <td>4.0</td>\n",
       "      <td>Wat Prasat Temple</td>\n",
       "      <td>Nonthaburi</td>\n",
       "      <td>591689577.0</td>\n",
       "    </tr>\n",
       "    <tr>\n",
       "      <th>1781</th>\n",
       "      <td>1</td>\n",
       "      <td>4.0</td>\n",
       "      <td>3.0</td>\n",
       "      <td>Prasat Puay Noi</td>\n",
       "      <td>Nonthaburi</td>\n",
       "      <td>752115552.0</td>\n",
       "    </tr>\n",
       "    <tr>\n",
       "      <th>1782</th>\n",
       "      <td>2</td>\n",
       "      <td>0.0</td>\n",
       "      <td>4.0</td>\n",
       "      <td>Prasat Puay Noi</td>\n",
       "      <td>Nonthaburi</td>\n",
       "      <td>571939282.0</td>\n",
       "    </tr>\n",
       "  </tbody>\n",
       "</table>\n",
       "<p>1783 rows × 6 columns</p>\n",
       "</div>"
      ],
      "text/plain": [
       "      predicted_sentiment  helpful_voting  rating  \\\n",
       "0                       1             0.0     5.0   \n",
       "1                       0             0.0     5.0   \n",
       "2                       0             2.0     5.0   \n",
       "3                       2             0.0     5.0   \n",
       "4                       0             0.0     5.0   \n",
       "...                   ...             ...     ...   \n",
       "1778                    2            11.0     4.0   \n",
       "1779                    2             1.0     5.0   \n",
       "1780                    1             0.0     4.0   \n",
       "1781                    1             4.0     3.0   \n",
       "1782                    2             0.0     4.0   \n",
       "\n",
       "                                        location_name  place_name    review_id  \n",
       "0                                    Wat Ratchabophit     Bangkok  953596359.0  \n",
       "1                                    Wat Ratchabophit     Bangkok  885904967.0  \n",
       "2     Wat Rajapradit Sathitmahasimaram Rajaworavihara     Bangkok  738692369.0  \n",
       "3                                  Wat Phra Chetuphon     Bangkok  962482865.0  \n",
       "4                           Temple Of Dawn (Wat Arun)     Bangkok  962528316.0  \n",
       "...                                               ...         ...          ...  \n",
       "1778                                Wat Prasat Temple  Nonthaburi  877979960.0  \n",
       "1779                                Wat Prasat Temple  Nonthaburi  658165922.0  \n",
       "1780                                Wat Prasat Temple  Nonthaburi  591689577.0  \n",
       "1781                                  Prasat Puay Noi  Nonthaburi  752115552.0  \n",
       "1782                                  Prasat Puay Noi  Nonthaburi  571939282.0  \n",
       "\n",
       "[1783 rows x 6 columns]"
      ]
     },
     "execution_count": 6,
     "metadata": {},
     "output_type": "execute_result"
    }
   ],
   "source": [
    "review_sentiment_df[[\"predicted_sentiment\", \"helpful_voting\", \"rating\", \"location_name\", \"place_name\", \"review_id\"]]"
   ]
  },
  {
   "cell_type": "code",
   "execution_count": 7,
   "metadata": {},
   "outputs": [],
   "source": [
    "from sklearn.model_selection import train_test_split\n",
    "from sklearn.metrics import mean_squared_error\n",
    "import xgboost as xgb"
   ]
  },
  {
   "cell_type": "code",
   "execution_count": 8,
   "metadata": {},
   "outputs": [
    {
     "name": "stdout",
     "output_type": "stream",
     "text": [
      "Mean Squared Error on test set: 1.4884786034588803e-09\n",
      "                                        location_name  place_name  \\\n",
      "0                                    Wat Ratchabophit     Bangkok   \n",
      "1                                    Wat Ratchabophit     Bangkok   \n",
      "2     Wat Rajapradit Sathitmahasimaram Rajaworavihara     Bangkok   \n",
      "3                                  Wat Phra Chetuphon     Bangkok   \n",
      "4                           Temple Of Dawn (Wat Arun)     Bangkok   \n",
      "...                                               ...         ...   \n",
      "1778                                Wat Prasat Temple  Nonthaburi   \n",
      "1779                                Wat Prasat Temple  Nonthaburi   \n",
      "1780                                Wat Prasat Temple  Nonthaburi   \n",
      "1781                                  Prasat Puay Noi  Nonthaburi   \n",
      "1782                                  Prasat Puay Noi  Nonthaburi   \n",
      "\n",
      "      predicted_score  \n",
      "0            2.199985  \n",
      "1            1.500004  \n",
      "2            1.500004  \n",
      "3            2.899937  \n",
      "4            1.500004  \n",
      "...               ...  \n",
      "1778         2.599983  \n",
      "1779         2.899937  \n",
      "1780         1.900012  \n",
      "1781         1.600011  \n",
      "1782         2.599983  \n",
      "\n",
      "[1783 rows x 3 columns]\n"
     ]
    }
   ],
   "source": [
    "# Step 1: Create a proxy score based on a heuristic formula\n",
    "# review_sentiment_df['proxy_score'] = (0.5 * review_sentiment_df['rating']) + \\\n",
    "#                                      (0.2 * review_sentiment_df['helpful_voting']) + \\\n",
    "#                                      (0.3 * review_sentiment_df['predicted_sentiment'])\n",
    "\n",
    "review_sentiment_df['proxy_score'] = (0.3 * review_sentiment_df['rating']) + \\\n",
    "                                     (0.7 * review_sentiment_df['predicted_sentiment'])\n",
    "\n",
    "\n",
    "# Features and proxy score as target\n",
    "X = review_sentiment_df[['rating', 'predicted_sentiment', 'helpful_voting']]\n",
    "y = review_sentiment_df['proxy_score']\n",
    "\n",
    "# Step 2: Split data into training (70%) and test sets (30%)\n",
    "X_train, X_test, y_train, y_test = train_test_split(X, y, test_size=0.3, random_state=42)\n",
    "\n",
    "# Step 3: Initialize XGBoost regressor model\n",
    "model = xgb.XGBRegressor(objective='reg:squarederror', random_state=42)\n",
    "\n",
    "# Step 4: Train the model using proxy scores\n",
    "model.fit(X_train, y_train)\n",
    "\n",
    "# Step 5: Predict on the test set\n",
    "y_pred = model.predict(X_test)\n",
    "\n",
    "# Step 6: Evaluate the model using Mean Squared Error (MSE)\n",
    "mse = mean_squared_error(y_test, y_pred)\n",
    "print(f'Mean Squared Error on test set: {mse}')\n",
    "\n",
    "# Step 7: Predict scores for the entire dataset\n",
    "review_sentiment_df['predicted_score'] = model.predict(X)\n",
    "print(review_sentiment_df[['location_name', 'place_name', 'predicted_score']])"
   ]
  },
  {
   "cell_type": "code",
   "execution_count": 9,
   "metadata": {},
   "outputs": [],
   "source": [
    "import plotly.express as px"
   ]
  },
  {
   "cell_type": "code",
   "execution_count": 10,
   "metadata": {},
   "outputs": [
    {
     "data": {
      "application/vnd.plotly.v1+json": {
       "config": {
        "plotlyServerURL": "https://plot.ly"
       },
       "data": [
        {
         "customdata": [
          [
           "Wat Ratchabophit"
          ],
          [
           "Wat Ratchabophit"
          ],
          [
           "Wat Rajapradit Sathitmahasimaram Rajaworavihara"
          ],
          [
           "Wat Phra Chetuphon"
          ],
          [
           "Temple Of Dawn (Wat Arun)"
          ],
          [
           "Temple Of Dawn (Wat Arun)"
          ],
          [
           "Temple Of Dawn (Wat Arun)"
          ],
          [
           "Wat Rong Khun"
          ],
          [
           "Wat Pak Nam"
          ],
          [
           "Wat Pak Nam"
          ],
          [
           "Wat Phra Singh"
          ],
          [
           "Wat Phra Singh"
          ],
          [
           "Wat Phra Singh"
          ],
          [
           "Wat Phra Singh"
          ],
          [
           "Wat Chaiwatthanaram"
          ],
          [
           "Wat Chaiwatthanaram"
          ],
          [
           "Wat Mahathat"
          ],
          [
           "Wat Mahathat"
          ],
          [
           "Wat Mahathat"
          ],
          [
           "Wat Hua Lumphong"
          ],
          [
           "The Golden Mount (Wat Saket)"
          ],
          [
           "Wat Pho Thai Traditional Massage School"
          ],
          [
           "Wat Pho Thai Traditional Massage School"
          ],
          [
           "Wat Suthat"
          ],
          [
           "Wat Suthat"
          ],
          [
           "Wat Rakang Kositaram"
          ],
          [
           "Temple of the Emerald Buddha (Wat Phra Kaew)"
          ],
          [
           "Temple of the Emerald Buddha (Wat Phra Kaew)"
          ],
          [
           "Tiger God Shrine"
          ],
          [
           "Tiger God Shrine"
          ],
          [
           "Tiger Kingdom Phuket"
          ],
          [
           "Tiger Kingdom Phuket"
          ],
          [
           "Tiger Park Pattaya"
          ],
          [
           "Tiger Park Pattaya"
          ],
          [
           "Erawan Shrine (Thao Mahaprom Shrine)"
          ],
          [
           "Erawan Shrine (Thao Mahaprom Shrine)"
          ],
          [
           "Erawan Shrine (Thao Mahaprom Shrine)"
          ],
          [
           "Wat Intharam Worawiharn"
          ],
          [
           "Wat Phra Bat Ming Mueang Worawiharn"
          ],
          [
           "Wat Phra Bat Ming Mueang Worawiharn"
          ],
          [
           "Wat Phra Bat Ming Mueang Worawiharn"
          ],
          [
           "Wat Maha That Worawiharn"
          ],
          [
           "Wat Maha That Worawiharn"
          ],
          [
           "Wat Sothon Wararam Worawihan"
          ],
          [
           "Wat Phanan Choeng Worawihan"
          ],
          [
           "Wat Phanan Choeng Worawihan"
          ],
          [
           "Wat Prayurawongsawat Worawihan"
          ],
          [
           "Wat Thammamun Worawihan"
          ],
          [
           "Wat Tri Thotsathep Worawihan"
          ],
          [
           "Wat Tri Thotsathep Worawihan"
          ],
          [
           "Wat Mahathat Worawihan"
          ],
          [
           "Wat Charoen Sukharam Worawihan"
          ],
          [
           "Wat Kasatrathirat Worawihan"
          ],
          [
           "Wat Thepsirintrawat Ratchaworawihan"
          ],
          [
           "Wat Suwan Dararam Ratchaworawihan"
          ],
          [
           "Wat Suwan Dararam Ratchaworawihan"
          ],
          [
           "Wat Suwan Dararam Ratchaworawihan"
          ],
          [
           "Wat Ratchaburana (Temple of the Royal Restoration)"
          ],
          [
           "Wat Ratchaburana (Temple of the Royal Restoration)"
          ],
          [
           "Wat Chakrawatrachawat Woramahawihan"
          ],
          [
           "Wat Chakrawatrachawat Woramahawihan"
          ],
          [
           "Wat Phra That Doi Suthep"
          ],
          [
           "Wat Phra That Doi Suthep"
          ],
          [
           "Wat Phra That Doi Suthep"
          ],
          [
           "Wat Phra That Phanom"
          ],
          [
           "Wat Bang Phra  Temple"
          ],
          [
           "Wat Saman Rattanaram Temple"
          ],
          [
           "Wat Saman Rattanaram Temple"
          ],
          [
           "Wat Saman Rattanaram Temple"
          ],
          [
           "Wat Hong Rattanaram"
          ],
          [
           "Wat Hong Rattanaram"
          ],
          [
           "Wat Pa Si Mongkhon Rattanaram"
          ],
          [
           "Wat Pa Tam Wua"
          ],
          [
           "Museum of Siam"
          ],
          [
           "Jodd Fairs"
          ],
          [
           "Jodd Fairs"
          ],
          [
           "Jodd Fairs DanNeramit"
          ],
          [
           "Jodd Fairs DanNeramit"
          ],
          [
           "Talat Phlu Train Station"
          ],
          [
           "Wat Suan Phlu"
          ],
          [
           "Talat Klang Ayatthaya"
          ],
          [
           "Talat Nam Saphan Khong"
          ],
          [
           "Old Phuket Town"
          ],
          [
           "Old Phuket Town"
          ],
          [
           "Talat Hua Mum Muang Mai"
          ],
          [
           "Wat Kalayanamit Varamahavihara"
          ],
          [
           "Wat Prathat Phasornkaew"
          ],
          [
           "Wat Prathat Phasornkaew"
          ],
          [
           "Siam Center"
          ],
          [
           "Siam Tulip Park"
          ],
          [
           "Siam Square"
          ],
          [
           "Siam Milsim"
          ],
          [
           "Siam Paragon"
          ],
          [
           "Siam Paragon"
          ],
          [
           "Chang Siam Park"
          ],
          [
           "Chang Siam Park"
          ],
          [
           "Sut Siam Park"
          ],
          [
           "Sut Siam Park"
          ],
          [
           "Siam Serpentarium"
          ],
          [
           "Siam Premium Outlets Bangkok"
          ],
          [
           "Mini Siam"
          ],
          [
           "Mini Siam"
          ],
          [
           "Damnoen Saduak Floating Market"
          ],
          [
           "Amphawa Floating Market"
          ],
          [
           "Amphawa Floating Market"
          ],
          [
           "Pattaya Floating Market"
          ],
          [
           "Pattaya Floating Market"
          ],
          [
           "Khlong Lat Mayom Floating Market"
          ],
          [
           "Khlong Lat Mayom Floating Market"
          ],
          [
           "Khlong Lat Mayom Floating Market"
          ],
          [
           "Khlong Lat Mayom Floating Market"
          ],
          [
           "Taling Chan Floating Market"
          ],
          [
           "Taling Chan Floating Market"
          ],
          [
           "Hat Yai Floating Market"
          ],
          [
           "Hat Yai Floating Market"
          ],
          [
           "Khlong Hae Floating Market"
          ],
          [
           "Khlong Hae Floating Market"
          ],
          [
           "Khlong Hae Floating Market"
          ],
          [
           "Wat Sai Floating Market"
          ],
          [
           "Don Wai Floating Market"
          ],
          [
           "Chatuchak Weekend Market"
          ],
          [
           "Chatuchak Flower Market"
          ],
          [
           "Chatuchak Flower Market"
          ],
          [
           "Chatuchak Park"
          ],
          [
           "Krabi Weekend Night Market"
          ],
          [
           "Sampeng Market"
          ],
          [
           "Sampeng Market"
          ],
          [
           "Pratunam Market"
          ],
          [
           "Pratunam Market"
          ],
          [
           "Pratunam Market"
          ],
          [
           "Pratunam Market"
          ],
          [
           "JJ Mall"
          ],
          [
           "JJ Mall"
          ],
          [
           "Chatujak weekend Market"
          ],
          [
           "Patpong Night Market"
          ],
          [
           "Patpong Night Market"
          ],
          [
           "Patpong Night Market"
          ],
          [
           "Safari World"
          ],
          [
           "Safari World"
          ],
          [
           "Khlong Bang Luang Artist House"
          ],
          [
           "Khlong Toei Market"
          ],
          [
           "Khlong Dan"
          ],
          [
           "Sanam Luang"
          ],
          [
           "Sanam Luang"
          ],
          [
           "Sanam Luang"
          ],
          [
           "Suan Luang Rama 9 Park"
          ],
          [
           "Jim Thompson House"
          ],
          [
           "Jim Thompson House"
          ],
          [
           "Dahra Beauty & Spa - Silom"
          ],
          [
           "Dahra Beauty & Spa - Silom"
          ],
          [
           "Dahra Beauty & Spa - Silom"
          ],
          [
           "Sukhumvit Road Street market"
          ],
          [
           "Sukhumvit Road Street market"
          ],
          [
           "Street Art Songkhla"
          ],
          [
           "Street Art Songkhla"
          ],
          [
           "Street Art Songkhla"
          ],
          [
           "Art Street Pattaya"
          ],
          [
           "Hua Hin Railway Station"
          ],
          [
           "Don Mueang Railway Station"
          ],
          [
           "SEA LIFE Bangkok Ocean World"
          ],
          [
           "SEA LIFE Bangkok Ocean World"
          ],
          [
           "China Town"
          ],
          [
           "China Town"
          ],
          [
           "China Town Plaza Patong"
          ],
          [
           "Walking Street Pattaya"
          ],
          [
           "Kuang Mueng Nan Walking Street"
          ],
          [
           "Walking Street Koh Lanta"
          ],
          [
           "Walking Street Koh Lanta"
          ],
          [
           "Tha Pae Walking Street"
          ],
          [
           "Karbi Walking Street"
          ],
          [
           "Koh Lipe Walking Street"
          ],
          [
           "Bangsaen Walking Street"
          ],
          [
           "Mu Ko Ang Thong National Park"
          ],
          [
           "Mu Ko Ang Thong National Park"
          ],
          [
           "Walking Street Chiang Rai"
          ],
          [
           "Temple of the Golden Buddha (Wat Traimit)"
          ],
          [
           "Temple of the Golden Buddha (Wat Traimit)"
          ],
          [
           "Khlong Lat Mayom"
          ],
          [
           "Bang Nam Phueng Floating Market"
          ],
          [
           "Wat Phu Khao Thong (Golden Mount)"
          ],
          [
           "Wat Phu Khao Thong (Golden Mount)"
          ],
          [
           "Wat Phra That Doi Kham (Temple of the Golden Mountain)"
          ],
          [
           "Wat Phra That Doi Kham (Temple of the Golden Mountain)"
          ],
          [
           "Wat Phra That Doi Kham (Temple of the Golden Mountain)"
          ],
          [
           "Wat Phra That Doi Kham (Temple of the Golden Mountain)"
          ],
          [
           "Wat Ratchanatdaram Woravihara (Loha Prasat)"
          ],
          [
           "Wat Benchamabophit (The Marble Temple)"
          ],
          [
           "Wat Benchamabophit (The Marble Temple)"
          ],
          [
           "Wat Benchamabophit (The Marble Temple)"
          ],
          [
           "Asiatique The Riverfront"
          ],
          [
           "Rattanakosin Exhibition Hall"
          ],
          [
           "Rattanakosin Exhibition Hall"
          ],
          [
           "Songkran Festival Khao San Road"
          ],
          [
           "Songkran Festival Khao San Road"
          ],
          [
           "Khao San Thai Massage"
          ],
          [
           "Khao San Thai Massage"
          ],
          [
           "Khao San Thai Massage"
          ],
          [
           "Khao San Thai Massage"
          ],
          [
           "Khao Kheow Open Zoo"
          ],
          [
           "Khao Kheow Open Zoo"
          ],
          [
           "Khao San Cooking School"
          ],
          [
           "Khao San Cooking School"
          ],
          [
           "Khao San Cooking School"
          ],
          [
           "Khao Phra Tamnak (Khao Phra Bat)"
          ],
          [
           "Khao Phra Tamnak (Khao Phra Bat)"
          ],
          [
           "Khao Phra Tamnak (Khao Phra Bat)"
          ],
          [
           "Khao San, 1986"
          ],
          [
           "Khao San, 1986"
          ],
          [
           "Khao Sok National Park"
          ],
          [
           "Chao Phraya River"
          ],
          [
           "Chao Phraya River"
          ],
          [
           "Chao Phraya Express Boat"
          ],
          [
           "Chao Phraya Express Boat"
          ],
          [
           "Chao Phraya Express Boat"
          ],
          [
           "Chao Phraya Princess Dinner Cruise"
          ],
          [
           "Chao Phraya Princess Dinner Cruise"
          ],
          [
           "Chao Phraya Princess Dinner Cruise"
          ],
          [
           "Chao Phraya Tourist Boat"
          ],
          [
           "Chao Phraya Tourist Boat"
          ],
          [
           "Chao Sam Phraya National Museum"
          ],
          [
           "Chao Sam Phraya National Museum"
          ],
          [
           "Coin Museum Treasury Department Thailand"
          ],
          [
           "Coin Museum Treasury Department Thailand"
          ],
          [
           "Coin Museum Treasury Department Thailand"
          ],
          [
           "Wat Niwet Thammaprawat"
          ],
          [
           "Wat Niwet Thammaprawat"
          ],
          [
           "Queen Sirikit Art Gallery"
          ],
          [
           "Queen Sirikit Art Gallery"
          ],
          [
           "Ganesha Shrine"
          ],
          [
           "Trimurti Shrine"
          ],
          [
           "Trimurti Shrine"
          ],
          [
           "Trimurti Shrine"
          ],
          [
           "Trimurti Shrine"
          ],
          [
           "Erawan National Park"
          ],
          [
           "Erawan National Park"
          ],
          [
           "Erawan National Park"
          ],
          [
           "Lumpini Park"
          ],
          [
           "Lumpini Park Food Stalls"
          ],
          [
           "Lumpini Park Food Stalls"
          ],
          [
           "Benjakitti Park"
          ],
          [
           "King Rama IX Park"
          ],
          [
           "King Rama IX Park"
          ],
          [
           "King Rama IX Park"
          ],
          [
           "Nong Prajak Public Park"
          ],
          [
           "Victory Monument"
          ],
          [
           "Wang Lang Market"
          ],
          [
           "Tha Wang Lang"
          ],
          [
           "The Grand Palace"
          ],
          [
           "National Library of Thailand"
          ],
          [
           "Nang Loeng Market"
          ],
          [
           "Nang Loeng Market"
          ],
          [
           "Ao Nang Landmark Night Market"
          ],
          [
           "Ao Nang Landmark Night Market"
          ],
          [
           "Wang Derm Palace"
          ],
          [
           "Royal Barges National Museum"
          ],
          [
           "Siriraj Medical Museum"
          ],
          [
           "Saranrom Park"
          ],
          [
           "Saranrom Palace"
          ],
          [
           "Saranrom Palace"
          ],
          [
           "Bangkok City Pillar Shrine"
          ],
          [
           "Bangkok City Pillar Shrine"
          ],
          [
           "City Pillar Shrine, SuphanBuri"
          ],
          [
           "City Pillar Shrine (Udon Thani)"
          ],
          [
           "City Pillar Shrine (Udon Thani)"
          ],
          [
           "Rayong The City Pillar Shrine"
          ],
          [
           "City Pillar Shrine - Prachuap Kiri Khan"
          ],
          [
           "City Pillar Shrine - Prachuap Kiri Khan"
          ],
          [
           "City Pillar Shrine - Prachuap Kiri Khan"
          ],
          [
           "City Pillar Shrine"
          ],
          [
           "City Pillar Shrine"
          ],
          [
           "City Pillar Shrine"
          ],
          [
           "Thonburi Market - Sanam Luang 2"
          ],
          [
           "Warorot Market (Kad Luang)"
          ],
          [
           "Warorot Market (Kad Luang)"
          ],
          [
           "Warorot Market (Kad Luang)"
          ],
          [
           "Doi Luang Chiang Dao"
          ],
          [
           "Doi Luang Chiang Dao"
          ],
          [
           "Queen Sirikit Museum of Textiles"
          ],
          [
           "Queen Sirikit Museum of Textiles"
          ],
          [
           "Queen Sirikit Park"
          ],
          [
           "Queen Sirikit Botanic Garden"
          ],
          [
           "Queen Sirikit Botanic Garden"
          ],
          [
           "Wat Chana Songkhram"
          ],
          [
           "Wat Chana Songkhram"
          ],
          [
           "Wat Chana Songkhram"
          ],
          [
           "Wat Thepthidaram"
          ],
          [
           "Wat Thepthidaram"
          ],
          [
           "Wat Phra Kaeo"
          ],
          [
           "Wat Phra Sri Sanphet"
          ],
          [
           "Wat Phra Sri Sanphet"
          ],
          [
           "Wat Phra Sri Sanphet"
          ],
          [
           "Pipit Banglamphu History Museum"
          ],
          [
           "Banglamphu"
          ],
          [
           "Banglamphu"
          ],
          [
           "Bank of Thailand Museum"
          ],
          [
           "Bank of Thailand Museum"
          ],
          [
           "Bank of Thailand Museum"
          ],
          [
           "Wat Mahathat"
          ],
          [
           "Wat Mahathat"
          ],
          [
           "Wat Mahathat Yuwaratrangsarit"
          ],
          [
           "Wat Mahathat Yuwaratrangsarit"
          ],
          [
           "Wat Manee Sri Mahathat"
          ],
          [
           "Wat Manee Sri Mahathat"
          ],
          [
           "Wat Manee Sri Mahathat"
          ],
          [
           "Wat Maha That Wachiramongkol"
          ],
          [
           "Wat Maha That Wachiramongkol"
          ],
          [
           "Khaosan Comedy Club"
          ],
          [
           "Khaosan Comedy Club"
          ],
          [
           "Khaosan Spa"
          ],
          [
           "Rama VIII Bridge"
          ],
          [
           "Rama VIII Park"
          ],
          [
           "Phra Pin-klao Bridge"
          ],
          [
           "Phra Pin-klao Bridge"
          ],
          [
           "Democracy Monument"
          ],
          [
           "Democracy Monument"
          ],
          [
           "King Rama I Monument"
          ],
          [
           "King Rama VI Monument"
          ],
          [
           "King Rama VI Monument"
          ],
          [
           "King Rama VI Monument"
          ],
          [
           "The Nine Center Rama 9"
          ],
          [
           "The Nine Center Rama 9"
          ],
          [
           "King Rama 9 Park"
          ],
          [
           "King Prajadhipok Museum"
          ],
          [
           "King Prajadhipok Museum"
          ],
          [
           "Wat Boromracha Kanchanapisek Anusorn Temple"
          ],
          [
           "Wat Boromracha Kanchanapisek Anusorn Temple"
          ],
          [
           "Wat Traphang Thong"
          ],
          [
           "Kanchanapisek Pagoda"
          ],
          [
           "Krabi Night Market"
          ],
          [
           "Train Night Market"
          ],
          [
           "Train Night Market"
          ],
          [
           "Pak Chong market"
          ],
          [
           "Silom Night Market"
          ],
          [
           "Liab Duan Night Market"
          ],
          [
           "Liab Duan Night Market"
          ],
          [
           "Liab Duan Night Market"
          ],
          [
           "Saturday Night Market  Walking Street - Wua Lai Road"
          ],
          [
           "Sai Tai Center, Sai Tai Mai"
          ],
          [
           "Night Bazaar"
          ],
          [
           "Night Bazaar"
          ],
          [
           "Wat Sai Moon Myanmar"
          ],
          [
           "Chiang Mai University"
          ],
          [
           "Chiang Mai University"
          ],
          [
           "Elephant Jungle Sanctuary Chiang Mai"
          ],
          [
           "Elephant Jungle Sanctuary Chiang Mai"
          ],
          [
           "Ban's Diving"
          ],
          [
           "Ban Jabo (Black Lahu community)"
          ],
          [
           "Ban Jabo (Black Lahu community)"
          ],
          [
           "Ban Jabo (Black Lahu community)"
          ],
          [
           "Ban Tharae Catholic Community"
          ],
          [
           "Ban Phe Market"
          ],
          [
           "Ban Phe Market"
          ],
          [
           "Ban Amphur Beach"
          ],
          [
           "Ban Nam Khem Tsunami Memorial Park"
          ],
          [
           "Ban Bang Khen"
          ],
          [
           "Ban Bang Khen"
          ],
          [
           "Saphan Phut (Memorial Bridge) Night Market"
          ],
          [
           "Bo Phut Beach"
          ],
          [
           "Ko Kloi Floating Market"
          ],
          [
           "Ko Lanta"
          ],
          [
           "Nathon Night Food Market"
          ],
          [
           "Nathon Night Food Market"
          ],
          [
           "Lamai Night Market"
          ],
          [
           "Or Tor Kor (OTK) Market"
          ],
          [
           "Or Tor Kor (OTK) Market"
          ],
          [
           "Lamai Market"
          ],
          [
           "Lamai Market"
          ],
          [
           "Bangrak Market"
          ],
          [
           "Bangrak Market"
          ],
          [
           "Bangrak Market"
          ],
          [
           "White Sand Beach Night Food Market"
          ],
          [
           "Ko Lipe"
          ],
          [
           "Snake Farm (Queen Saovabha Memorial Institute)"
          ],
          [
           "Thonburi Snake Farm"
          ],
          [
           "Samui Snake Farm"
          ],
          [
           "Snake Farm and Monkey School"
          ],
          [
           "TK Tour"
          ],
          [
           "Bangkok Art & Culture Centre (BACC)"
          ],
          [
           "Bangkok Art & Culture Centre (BACC)"
          ],
          [
           "Bangkok Art & Culture Centre (BACC)"
          ],
          [
           "MBK Center (Ma Boon Khrong Center)"
          ],
          [
           "MBK Center (Ma Boon Khrong Center)"
          ],
          [
           "MBK Center (Ma Boon Khrong Center)"
          ],
          [
           "Sala Chalermkrung Royal Theatre"
          ],
          [
           "SALA Spa Chaweng"
          ],
          [
           "Santiphap Park (Park of Peace)"
          ],
          [
           "Chiang Mai City Arts and Cultural Centre"
          ],
          [
           "Chiang Mai City Arts and Cultural Centre"
          ],
          [
           "Thai-Chinese Cultural Center"
          ],
          [
           "Old Chiangmai Cultural Center"
          ],
          [
           "Muangthai Rachadalai Theatre"
          ],
          [
           "Romaneenart Park"
          ],
          [
           "Romaneenart Park"
          ]
         ],
         "hovertemplate": "place_name=%{x}<br>predicted_score=%{y}<br>location_name=%{customdata[0]}<extra></extra>",
         "legendgroup": "Bangkok",
         "marker": {
          "color": "#636efa",
          "symbol": "circle"
         },
         "mode": "markers",
         "name": "Bangkok",
         "showlegend": true,
         "type": "scattergl",
         "x": [
          "Bangkok",
          "Bangkok",
          "Bangkok",
          "Bangkok",
          "Bangkok",
          "Bangkok",
          "Bangkok",
          "Bangkok",
          "Bangkok",
          "Bangkok",
          "Bangkok",
          "Bangkok",
          "Bangkok",
          "Bangkok",
          "Bangkok",
          "Bangkok",
          "Bangkok",
          "Bangkok",
          "Bangkok",
          "Bangkok",
          "Bangkok",
          "Bangkok",
          "Bangkok",
          "Bangkok",
          "Bangkok",
          "Bangkok",
          "Bangkok",
          "Bangkok",
          "Bangkok",
          "Bangkok",
          "Bangkok",
          "Bangkok",
          "Bangkok",
          "Bangkok",
          "Bangkok",
          "Bangkok",
          "Bangkok",
          "Bangkok",
          "Bangkok",
          "Bangkok",
          "Bangkok",
          "Bangkok",
          "Bangkok",
          "Bangkok",
          "Bangkok",
          "Bangkok",
          "Bangkok",
          "Bangkok",
          "Bangkok",
          "Bangkok",
          "Bangkok",
          "Bangkok",
          "Bangkok",
          "Bangkok",
          "Bangkok",
          "Bangkok",
          "Bangkok",
          "Bangkok",
          "Bangkok",
          "Bangkok",
          "Bangkok",
          "Bangkok",
          "Bangkok",
          "Bangkok",
          "Bangkok",
          "Bangkok",
          "Bangkok",
          "Bangkok",
          "Bangkok",
          "Bangkok",
          "Bangkok",
          "Bangkok",
          "Bangkok",
          "Bangkok",
          "Bangkok",
          "Bangkok",
          "Bangkok",
          "Bangkok",
          "Bangkok",
          "Bangkok",
          "Bangkok",
          "Bangkok",
          "Bangkok",
          "Bangkok",
          "Bangkok",
          "Bangkok",
          "Bangkok",
          "Bangkok",
          "Bangkok",
          "Bangkok",
          "Bangkok",
          "Bangkok",
          "Bangkok",
          "Bangkok",
          "Bangkok",
          "Bangkok",
          "Bangkok",
          "Bangkok",
          "Bangkok",
          "Bangkok",
          "Bangkok",
          "Bangkok",
          "Bangkok",
          "Bangkok",
          "Bangkok",
          "Bangkok",
          "Bangkok",
          "Bangkok",
          "Bangkok",
          "Bangkok",
          "Bangkok",
          "Bangkok",
          "Bangkok",
          "Bangkok",
          "Bangkok",
          "Bangkok",
          "Bangkok",
          "Bangkok",
          "Bangkok",
          "Bangkok",
          "Bangkok",
          "Bangkok",
          "Bangkok",
          "Bangkok",
          "Bangkok",
          "Bangkok",
          "Bangkok",
          "Bangkok",
          "Bangkok",
          "Bangkok",
          "Bangkok",
          "Bangkok",
          "Bangkok",
          "Bangkok",
          "Bangkok",
          "Bangkok",
          "Bangkok",
          "Bangkok",
          "Bangkok",
          "Bangkok",
          "Bangkok",
          "Bangkok",
          "Bangkok",
          "Bangkok",
          "Bangkok",
          "Bangkok",
          "Bangkok",
          "Bangkok",
          "Bangkok",
          "Bangkok",
          "Bangkok",
          "Bangkok",
          "Bangkok",
          "Bangkok",
          "Bangkok",
          "Bangkok",
          "Bangkok",
          "Bangkok",
          "Bangkok",
          "Bangkok",
          "Bangkok",
          "Bangkok",
          "Bangkok",
          "Bangkok",
          "Bangkok",
          "Bangkok",
          "Bangkok",
          "Bangkok",
          "Bangkok",
          "Bangkok",
          "Bangkok",
          "Bangkok",
          "Bangkok",
          "Bangkok",
          "Bangkok",
          "Bangkok",
          "Bangkok",
          "Bangkok",
          "Bangkok",
          "Bangkok",
          "Bangkok",
          "Bangkok",
          "Bangkok",
          "Bangkok",
          "Bangkok",
          "Bangkok",
          "Bangkok",
          "Bangkok",
          "Bangkok",
          "Bangkok",
          "Bangkok",
          "Bangkok",
          "Bangkok",
          "Bangkok",
          "Bangkok",
          "Bangkok",
          "Bangkok",
          "Bangkok",
          "Bangkok",
          "Bangkok",
          "Bangkok",
          "Bangkok",
          "Bangkok",
          "Bangkok",
          "Bangkok",
          "Bangkok",
          "Bangkok",
          "Bangkok",
          "Bangkok",
          "Bangkok",
          "Bangkok",
          "Bangkok",
          "Bangkok",
          "Bangkok",
          "Bangkok",
          "Bangkok",
          "Bangkok",
          "Bangkok",
          "Bangkok",
          "Bangkok",
          "Bangkok",
          "Bangkok",
          "Bangkok",
          "Bangkok",
          "Bangkok",
          "Bangkok",
          "Bangkok",
          "Bangkok",
          "Bangkok",
          "Bangkok",
          "Bangkok",
          "Bangkok",
          "Bangkok",
          "Bangkok",
          "Bangkok",
          "Bangkok",
          "Bangkok",
          "Bangkok",
          "Bangkok",
          "Bangkok",
          "Bangkok",
          "Bangkok",
          "Bangkok",
          "Bangkok",
          "Bangkok",
          "Bangkok",
          "Bangkok",
          "Bangkok",
          "Bangkok",
          "Bangkok",
          "Bangkok",
          "Bangkok",
          "Bangkok",
          "Bangkok",
          "Bangkok",
          "Bangkok",
          "Bangkok",
          "Bangkok",
          "Bangkok",
          "Bangkok",
          "Bangkok",
          "Bangkok",
          "Bangkok",
          "Bangkok",
          "Bangkok",
          "Bangkok",
          "Bangkok",
          "Bangkok",
          "Bangkok",
          "Bangkok",
          "Bangkok",
          "Bangkok",
          "Bangkok",
          "Bangkok",
          "Bangkok",
          "Bangkok",
          "Bangkok",
          "Bangkok",
          "Bangkok",
          "Bangkok",
          "Bangkok",
          "Bangkok",
          "Bangkok",
          "Bangkok",
          "Bangkok",
          "Bangkok",
          "Bangkok",
          "Bangkok",
          "Bangkok",
          "Bangkok",
          "Bangkok",
          "Bangkok",
          "Bangkok",
          "Bangkok",
          "Bangkok",
          "Bangkok",
          "Bangkok",
          "Bangkok",
          "Bangkok",
          "Bangkok",
          "Bangkok",
          "Bangkok",
          "Bangkok",
          "Bangkok",
          "Bangkok",
          "Bangkok",
          "Bangkok",
          "Bangkok",
          "Bangkok",
          "Bangkok",
          "Bangkok",
          "Bangkok",
          "Bangkok",
          "Bangkok",
          "Bangkok",
          "Bangkok",
          "Bangkok",
          "Bangkok",
          "Bangkok",
          "Bangkok",
          "Bangkok",
          "Bangkok",
          "Bangkok",
          "Bangkok",
          "Bangkok",
          "Bangkok",
          "Bangkok",
          "Bangkok",
          "Bangkok",
          "Bangkok",
          "Bangkok",
          "Bangkok",
          "Bangkok",
          "Bangkok",
          "Bangkok",
          "Bangkok",
          "Bangkok",
          "Bangkok",
          "Bangkok",
          "Bangkok",
          "Bangkok",
          "Bangkok",
          "Bangkok",
          "Bangkok",
          "Bangkok",
          "Bangkok",
          "Bangkok",
          "Bangkok",
          "Bangkok",
          "Bangkok",
          "Bangkok",
          "Bangkok",
          "Bangkok",
          "Bangkok",
          "Bangkok",
          "Bangkok",
          "Bangkok",
          "Bangkok",
          "Bangkok",
          "Bangkok",
          "Bangkok",
          "Bangkok",
          "Bangkok",
          "Bangkok",
          "Bangkok",
          "Bangkok",
          "Bangkok",
          "Bangkok",
          "Bangkok",
          "Bangkok",
          "Bangkok",
          "Bangkok",
          "Bangkok",
          "Bangkok",
          "Bangkok",
          "Bangkok",
          "Bangkok",
          "Bangkok",
          "Bangkok",
          "Bangkok",
          "Bangkok",
          "Bangkok",
          "Bangkok",
          "Bangkok",
          "Bangkok",
          "Bangkok",
          "Bangkok",
          "Bangkok",
          "Bangkok",
          "Bangkok",
          "Bangkok",
          "Bangkok",
          "Bangkok"
         ],
         "xaxis": "x",
         "y": [
          2.199985,
          1.500004,
          1.500004,
          2.8999372,
          1.500004,
          2.8999372,
          2.5999835,
          2.8999372,
          1.2000281,
          2.8999372,
          1.3000503,
          2.199985,
          2.5999835,
          1.500004,
          1.500004,
          1.500004,
          0.9000703,
          2.199985,
          1.500004,
          2.199985,
          2.199985,
          0.6000495,
          1.2000281,
          2.8999372,
          1.500004,
          1.500004,
          1.2000281,
          2.199985,
          1.2000281,
          2.199985,
          0.9000703,
          2.199985,
          2.199985,
          2.8999372,
          1.9000125,
          2.5999835,
          1.2000281,
          2.8999372,
          1.6000112,
          2.8999372,
          1.2000281,
          2.5999835,
          2.5999835,
          2.8999372,
          2.5999835,
          2.8999372,
          2.8999372,
          1.9000125,
          0.9000703,
          1.9000125,
          1.9000125,
          2.5999835,
          2.5999835,
          1.9000125,
          1.500004,
          1.500004,
          2.8999372,
          1.500004,
          2.199985,
          0.9000703,
          2.2999744,
          2.199985,
          1.2000281,
          1.500004,
          2.8999372,
          1.500004,
          0.6000495,
          1.9000125,
          1.500004,
          2.5999835,
          2.8999372,
          1.2000281,
          2.8999372,
          1.2000281,
          1.7000102,
          2.199985,
          2.199985,
          1.9000125,
          2.8999372,
          0.9000703,
          1.500004,
          1.500004,
          1.500004,
          2.8999372,
          2.5999835,
          1.9000125,
          1.2000281,
          2.8999372,
          1.500004,
          1.2000281,
          2.8999372,
          0.6000495,
          2.199985,
          1.500004,
          1.2000281,
          0.6000495,
          1.2000281,
          1.500004,
          2.5999835,
          1.000132,
          1.000132,
          2.5999835,
          0.3001171,
          1.2000281,
          1.7000102,
          1.3000503,
          1.000132,
          2.8999372,
          2.8999372,
          2.199985,
          1.500004,
          0.9000703,
          1.500004,
          2.8999372,
          2.5999835,
          1.500004,
          2.199985,
          2.199985,
          0.3001171,
          2.5999835,
          2.8999372,
          2.8999372,
          1.500004,
          2.5999835,
          2.8999372,
          1.500004,
          2.8999372,
          1.9000125,
          1.9000125,
          1.9000125,
          2.8999372,
          2.5999835,
          1.500004,
          2.199985,
          2.199985,
          2.2999744,
          0.9000703,
          1.9000125,
          1.7000102,
          2.5999835,
          1.500004,
          1.3000503,
          1.9000125,
          1.9000125,
          1.6000112,
          2.8999372,
          2.000011,
          1.9000125,
          2.199985,
          1.500004,
          1.500004,
          1.3000503,
          1.9000125,
          1.9000125,
          1.9000125,
          1.500004,
          0.9000703,
          1.6000112,
          1.6000112,
          1.500004,
          2.199985,
          2.2999744,
          2.5999835,
          2.000011,
          2.199985,
          2.8999372,
          1.500004,
          0.3001171,
          1.9000125,
          2.199985,
          1.9000125,
          1.500004,
          2.8999372,
          2.199985,
          1.500004,
          1.9000125,
          2.199985,
          1.500004,
          2.8999372,
          1.9000125,
          2.8999372,
          2.199985,
          2.199985,
          2.199985,
          2.8999372,
          2.199985,
          2.199985,
          2.199985,
          2.199985,
          1.7000102,
          1.6000112,
          1.500004,
          2.199985,
          1.2000281,
          2.199985,
          2.8999372,
          2.199985,
          2.199985,
          1.000132,
          1.000132,
          2.8999372,
          2.199985,
          2.199985,
          1.500004,
          2.199985,
          2.199985,
          1.2000281,
          1.500004,
          2.199985,
          2.8999372,
          1.2000281,
          1.000132,
          1.9000125,
          2.8999372,
          1.2000281,
          1.000132,
          2.2999744,
          2.2999744,
          2.8999372,
          1.9000125,
          1.9000125,
          2.199985,
          2.199985,
          1.2000281,
          1.2000281,
          2.199985,
          1.2000281,
          1.3000503,
          1.2000281,
          1.9000125,
          2.8999372,
          0.9000703,
          2.2999744,
          1.500004,
          2.5999835,
          1.500004,
          2.199985,
          1.500004,
          2.199985,
          0.3001171,
          1.9000125,
          2.5999835,
          1.9000125,
          1.3000503,
          1.6000112,
          1.500004,
          1.2000281,
          1.6000112,
          0.6000495,
          1.6000112,
          1.500004,
          1.500004,
          1.2000281,
          1.2000281,
          1.2000281,
          2.199985,
          2.8999372,
          1.6000112,
          2.2999744,
          1.2000281,
          1.500004,
          1.2000281,
          0.9000703,
          1.6000112,
          1.2000281,
          2.199985,
          1.500004,
          2.2999744,
          1.500004,
          1.2000281,
          0.6000495,
          2.5999835,
          0.3001171,
          1.500004,
          2.5999835,
          0.3001171,
          2.199985,
          1.500004,
          2.8999372,
          2.5999835,
          1.500004,
          2.199985,
          1.2000281,
          1.9000125,
          2.199985,
          2.5999835,
          1.2000281,
          0.9000703,
          2.8999372,
          2.5999835,
          1.2000281,
          2.5999835,
          1.9000125,
          2.2999744,
          0.3001171,
          2.199985,
          1.500004,
          2.5999835,
          1.2000281,
          0.9000703,
          1.9000125,
          2.5999835,
          1.500004,
          1.500004,
          2.199985,
          1.500004,
          2.199985,
          1.500004,
          2.199985,
          1.500004,
          1.6000112,
          0.9000703,
          2.000011,
          1.9000125,
          1.9000125,
          1.500004,
          2.5999835,
          2.2999744,
          1.2000281,
          2.199985,
          1.2000281,
          2.2999744,
          1.2000281,
          1.500004,
          1.500004,
          2.5999835,
          2.199985,
          2.8999372,
          1.500004,
          2.199985,
          2.199985,
          2.199985,
          1.500004,
          2.199985,
          1.500004,
          1.2000281,
          2.5999835,
          1.2000281,
          1.3000503,
          1.9000125,
          1.500004,
          1.7000102,
          0.3001171,
          2.199985,
          1.500004,
          1.500004,
          1.500004,
          1.500004,
          2.8999372,
          2.199985,
          1.500004,
          1.2000281,
          1.9000125,
          2.199985,
          1.2000281,
          2.199985,
          1.6000112,
          1.7000102,
          0.3001171,
          2.8999372,
          2.199985,
          2.199985,
          1.9000125,
          1.500004,
          1.2000281,
          1.9000125,
          2.000011,
          2.199985,
          2.8999372,
          2.8999372,
          2.5999835,
          1.500004,
          2.199985,
          2.5999835,
          2.8999372,
          2.5999835,
          2.5999835,
          1.2000281,
          1.2000281,
          1.500004,
          1.500004,
          1.500004,
          1.500004,
          1.9000125,
          2.199985,
          2.8999372,
          1.500004,
          2.199985,
          1.500004,
          1.500004,
          2.5999835,
          1.9000125,
          1.9000125
         ],
         "yaxis": "y"
        },
        {
         "customdata": [
          [
           "Prasat Nakhon Luang"
          ],
          [
           "Wat Ku"
          ],
          [
           "Wat Chamthewi Temple (Wat Ku Kut)"
          ],
          [
           "Sala Kaew Ku (Wat Khaek)"
          ],
          [
           "Sala Kaew Ku (Wat Khaek)"
          ],
          [
           "IMPACT Speed Park"
          ],
          [
           "IMPACT Muang Thong Thani"
          ],
          [
           "IMPACT Muang Thong Thani"
          ],
          [
           "Wat Phra Non Chak Si Worawihan"
          ],
          [
           "Wat Ban Na Muang"
          ],
          [
           "Wat Ban Na Muang"
          ],
          [
           "Wat Ban Na Muang"
          ],
          [
           "Tongdee Elephant Camp"
          ],
          [
           "Bangsak Beach"
          ],
          [
           "Bangsak Beach"
          ],
          [
           "Ban Nam Khem Tsunami Museum"
          ],
          [
           "Wat Chaloem Phrakiat Phrachomklao Rachanuson"
          ],
          [
           "Wat Chaloem Phrakiat Phrachomklao Rachanuson"
          ],
          [
           "Wat Chaloem Phrakiat Phrachomklao Rachanuson"
          ],
          [
           "Koh Kret"
          ],
          [
           "Koh Kret"
          ],
          [
           "Chit Beer"
          ],
          [
           "Ko Kham"
          ],
          [
           "Ko Kham"
          ],
          [
           "Ko Mae Ko"
          ],
          [
           "Ko Jum"
          ],
          [
           "Ko Samae San"
          ],
          [
           "Phuttha Utthayan Makha Bucha Anusorn"
          ],
          [
           "Koh Kred"
          ],
          [
           "Koh Kred"
          ],
          [
           "Som Motorbike Rental"
          ],
          [
           "Wat Bang Thong"
          ],
          [
           "Wat Bang Thong"
          ],
          [
           "Wat Phra That Si Chom Thong"
          ],
          [
           "Wat Phra That Si Chom Thong"
          ],
          [
           "Wat Phra Thong"
          ],
          [
           "Wat Phra Thong"
          ],
          [
           "Wat Phra Thong"
          ],
          [
           "Wat Muang"
          ],
          [
           "Wat Hong Thong"
          ],
          [
           "Wat Hong Thong"
          ],
          [
           "Wat Hong Thong"
          ],
          [
           "Wat Tham Sua"
          ],
          [
           "Wat Tham Sua"
          ],
          [
           "Wat Tham Sua"
          ],
          [
           "Wat Tham Sua"
          ],
          [
           "Wat Tham Sua"
          ],
          [
           "Wat Rat Charoen Tham"
          ],
          [
           "Wat Ban Tham"
          ],
          [
           "Wat Ban Tham"
          ],
          [
           "Wat Tham Pha Daen"
          ],
          [
           "Wat Tham Pha Daen"
          ],
          [
           "Wat Tham Khoo Ha"
          ],
          [
           "Wat Tham Khoo Ha"
          ],
          [
           "Wat Tham Khoo Ha"
          ],
          [
           "Wat Tham Khoo Ha"
          ],
          [
           "Wat Tham Pha Plong"
          ],
          [
           "Wat Tham Pha Plong"
          ],
          [
           "Wat Tham Pha Plong"
          ],
          [
           "Wat Suan Dok"
          ],
          [
           "Wat Suan Dok"
          ],
          [
           "Wat Suan Mokkh"
          ],
          [
           "Wat Phra Kaeo Don Tao"
          ],
          [
           "Wat Phra Kaeo Don Tao"
          ],
          [
           "Wat Pa Maha Jedi Kaeo (Wat Larn Kuad)"
          ],
          [
           "Chao Pho Khao Yai Shrine"
          ],
          [
           "Chao Pho Mae Klong Shrine"
          ],
          [
           "Chang Chui Plane Market"
          ],
          [
           "Chang Chui Plane Market"
          ],
          [
           "Chao Pho Khao Yai Shrine"
          ],
          [
           "Chao Por Phawo Shrine"
          ],
          [
           "Chao Por Phawo Shrine"
          ],
          [
           "Chao Por Phawo Shrine"
          ],
          [
           "Chao Pu-Ya Shrine"
          ],
          [
           "Chao Pu-Ya Shrine"
          ],
          [
           "Chao Por Lak Muang Khon Kaen Shrine"
          ],
          [
           "Chao Por Lak Muang Khon Kaen Shrine"
          ],
          [
           "Chao Pho Chao Fa Mung Mueang Shrine"
          ],
          [
           "Big Buddha Phuket"
          ],
          [
           "Big Buddha Temple"
          ],
          [
           "Na Muang Waterfall"
          ],
          [
           "Muang Ake Golf Club"
          ],
          [
           "Thong Nai Pan Yai Beach"
          ],
          [
           "Thong Nai Pan Yai Beach"
          ],
          [
           "Ao Thong Takhian"
          ],
          [
           "Wat Pa Khao Noi"
          ],
          [
           "Wat Pa Khao Noi"
          ],
          [
           "Wat Pa Khao Noi"
          ],
          [
           "Sai Noi Beach"
          ],
          [
           "Sai Noi Beach"
          ],
          [
           "Wat Tang Sai Temple"
          ],
          [
           "Wat Tang Sai Temple"
          ],
          [
           "Wat Khao Wong Phra Chan"
          ],
          [
           "Wat Tham Khao Wong"
          ],
          [
           "Wat Tham Khao Wong"
          ],
          [
           "Harem By Suzy Wong's"
          ],
          [
           "Harem By Suzy Wong's"
          ],
          [
           "Wong's place"
          ],
          [
           "Wong's place"
          ],
          [
           "Wong's place"
          ],
          [
           "Wong Amat Beach"
          ],
          [
           "Suan Pakkad Palace Museum"
          ],
          [
           "Suan Pakkad Palace Museum"
          ],
          [
           "Suan Pakkad Palace Museum"
          ],
          [
           "Suan Son Pradipat Beach"
          ],
          [
           "Suan Son Pradipat Beach"
          ],
          [
           "Suan Lum Night Bazaar"
          ],
          [
           "Suan Sampran"
          ],
          [
           "Suan Sampran"
          ],
          [
           "Suan Sampran"
          ],
          [
           "Suan Son"
          ],
          [
           "Wat San Chao Floating Market"
          ],
          [
           "Wat Lam Phaya Floating Market"
          ],
          [
           "Wat Takien Floating Market"
          ],
          [
           "Wat Phra Buddha Badh"
          ],
          [
           "Wat Phra Buddha Badh"
          ],
          [
           "Wat Tha Sung"
          ],
          [
           "Wat Tha Sung"
          ],
          [
           "Wat Tha Mai"
          ],
          [
           "Wat Tha Ka Rong"
          ],
          [
           "Wat Tha Luang"
          ],
          [
           "Wat Tha Khaek"
          ],
          [
           "Wat Phra Kaew"
          ],
          [
           "Wat Phra Kaew"
          ],
          [
           "Wat Luang"
          ],
          [
           "Wat Luang"
          ],
          [
           "Wat Luang"
          ],
          [
           "Wat Phra That Khao Noi"
          ],
          [
           "Wat Khao Suwan Pradit"
          ],
          [
           "Wat Khao Suwan Pradit"
          ],
          [
           "Kanchanaphisek Park"
          ],
          [
           "Chalerm Burapha Chonlathit"
          ],
          [
           "Chalerm Burapha Chonlathit"
          ],
          [
           "Wat Chai Phrakiat Temple"
          ],
          [
           "Wat Bang Peng Tai Temple"
          ],
          [
           "Wat Salak Phet Temple"
          ],
          [
           "Wat Salak Phet Temple"
          ],
          [
           "Wat Sai Thai"
          ],
          [
           "Wat Sai Thai"
          ],
          [
           "Wat Sai Thai"
          ],
          [
           "Wat Nuea"
          ],
          [
           "Wat Nuea"
          ],
          [
           "Nonthaburi Market"
          ],
          [
           "Traditional Thai Costume for rent"
          ],
          [
           "Chaithararam Temple (Wat Chalong)"
          ],
          [
           "Chaithararam Temple (Wat Chalong)"
          ],
          [
           "Chaithararam Temple (Wat Chalong)"
          ],
          [
           "Wat Sri Suphan"
          ],
          [
           "Wat Sri Suphan"
          ],
          [
           "Wat Sri Suphan"
          ],
          [
           "Wat Sri Sawai"
          ],
          [
           "Wat Sri Sawai"
          ],
          [
           "Wat Thung Sri Muang"
          ],
          [
           "Wat Thung Sri Muang"
          ],
          [
           "Wat Thung Sri Muang"
          ],
          [
           "Wat Sri Sunthon (Wat Lipon)"
          ],
          [
           "Wat Sri Sunthon (Wat Lipon)"
          ],
          [
           "Wat Sri Chum"
          ],
          [
           "Wat Sri Chum"
          ],
          [
           "Wat Sri Chum"
          ],
          [
           "Wat Sri Chum"
          ],
          [
           "Wat Sri Chum"
          ],
          [
           "Phra Si Ratana Temple (Wat Yai)"
          ],
          [
           "Phra Si Ratana Temple (Wat Yai)"
          ],
          [
           "Wat Yai Inthraram"
          ],
          [
           "Mae Wang Elephant Camp"
          ],
          [
           "Mae Wang Elephant Camp"
          ],
          [
           "Mae Wang Elephant Camp"
          ],
          [
           "Wang Sai Thong Waterfall"
          ],
          [
           "Wat Saphan Hin"
          ],
          [
           "Wat Saphan Hin"
          ],
          [
           "Wat Ton Kwen (Wat Intharawat)"
          ],
          [
           "Wat Ton Kwen (Wat Intharawat)"
          ],
          [
           "Wat Ton Kwen (Wat Intharawat)"
          ],
          [
           "Wat Phra Non"
          ],
          [
           "Wat Phra Non"
          ],
          [
           "Wat Phra Non"
          ],
          [
           "Wat Phra That Lampang Luang"
          ],
          [
           "Wat Phra That Lampang Luang"
          ],
          [
           "Wat Amphawan Chetiyaram"
          ],
          [
           "Talad Noi Wall Art"
          ],
          [
           "Talad Noi Wall Art"
          ],
          [
           "Wat Bang Khae Noi"
          ],
          [
           "Rak Screen Golf"
          ],
          [
           "Ko Racha Noi"
          ],
          [
           "Le Lek Bang Rak"
          ],
          [
           "Le Lek Bang Rak"
          ],
          [
           "BTS Skytrain"
          ],
          [
           "Wat Chomphu"
          ],
          [
           "Wat Prang Luang"
          ],
          [
           "Wat Luang Phor Toh"
          ],
          [
           "Wat Luang Phor Toh"
          ],
          [
           "Wat Luang Phor Toh"
          ],
          [
           "Museum of Nonthaburi"
          ],
          [
           "Ruen Korat, Chalerm Watthana"
          ],
          [
           "Wat Phra That Choeng Chum Worawihan Temple"
          ],
          [
           "Wat Phra That Choeng Chum Worawihan Temple"
          ],
          [
           "Wat Phra That Choeng Chum Worawihan Temple"
          ],
          [
           "Wat Choeng Tha"
          ],
          [
           "Choeng Mon Beach"
          ],
          [
           "Choeng Mon Beach"
          ],
          [
           "Choeng Mon Beach"
          ],
          [
           "Wat Matchimawat (Wat Klang)"
          ],
          [
           "Wat Krieng Krai Klang"
          ],
          [
           "Wat Klang Wiang"
          ],
          [
           "Wat Klang Wiang"
          ],
          [
           "Prasat Wat Sa Kamphaeng Yai"
          ],
          [
           "Prasat Hin Wat Sa Khampaeng Yai"
          ],
          [
           "Wat Prasat Temple"
          ],
          [
           "Wat Prasat Temple"
          ],
          [
           "Wat Prasat Temple"
          ],
          [
           "Wat Prasat Temple"
          ],
          [
           "Prasat Puay Noi"
          ],
          [
           "Prasat Puay Noi"
          ]
         ],
         "hovertemplate": "place_name=%{x}<br>predicted_score=%{y}<br>location_name=%{customdata[0]}<extra></extra>",
         "legendgroup": "Nonthaburi",
         "marker": {
          "color": "#EF553B",
          "symbol": "circle"
         },
         "mode": "markers",
         "name": "Nonthaburi",
         "showlegend": true,
         "type": "scattergl",
         "x": [
          "Nonthaburi",
          "Nonthaburi",
          "Nonthaburi",
          "Nonthaburi",
          "Nonthaburi",
          "Nonthaburi",
          "Nonthaburi",
          "Nonthaburi",
          "Nonthaburi",
          "Nonthaburi",
          "Nonthaburi",
          "Nonthaburi",
          "Nonthaburi",
          "Nonthaburi",
          "Nonthaburi",
          "Nonthaburi",
          "Nonthaburi",
          "Nonthaburi",
          "Nonthaburi",
          "Nonthaburi",
          "Nonthaburi",
          "Nonthaburi",
          "Nonthaburi",
          "Nonthaburi",
          "Nonthaburi",
          "Nonthaburi",
          "Nonthaburi",
          "Nonthaburi",
          "Nonthaburi",
          "Nonthaburi",
          "Nonthaburi",
          "Nonthaburi",
          "Nonthaburi",
          "Nonthaburi",
          "Nonthaburi",
          "Nonthaburi",
          "Nonthaburi",
          "Nonthaburi",
          "Nonthaburi",
          "Nonthaburi",
          "Nonthaburi",
          "Nonthaburi",
          "Nonthaburi",
          "Nonthaburi",
          "Nonthaburi",
          "Nonthaburi",
          "Nonthaburi",
          "Nonthaburi",
          "Nonthaburi",
          "Nonthaburi",
          "Nonthaburi",
          "Nonthaburi",
          "Nonthaburi",
          "Nonthaburi",
          "Nonthaburi",
          "Nonthaburi",
          "Nonthaburi",
          "Nonthaburi",
          "Nonthaburi",
          "Nonthaburi",
          "Nonthaburi",
          "Nonthaburi",
          "Nonthaburi",
          "Nonthaburi",
          "Nonthaburi",
          "Nonthaburi",
          "Nonthaburi",
          "Nonthaburi",
          "Nonthaburi",
          "Nonthaburi",
          "Nonthaburi",
          "Nonthaburi",
          "Nonthaburi",
          "Nonthaburi",
          "Nonthaburi",
          "Nonthaburi",
          "Nonthaburi",
          "Nonthaburi",
          "Nonthaburi",
          "Nonthaburi",
          "Nonthaburi",
          "Nonthaburi",
          "Nonthaburi",
          "Nonthaburi",
          "Nonthaburi",
          "Nonthaburi",
          "Nonthaburi",
          "Nonthaburi",
          "Nonthaburi",
          "Nonthaburi",
          "Nonthaburi",
          "Nonthaburi",
          "Nonthaburi",
          "Nonthaburi",
          "Nonthaburi",
          "Nonthaburi",
          "Nonthaburi",
          "Nonthaburi",
          "Nonthaburi",
          "Nonthaburi",
          "Nonthaburi",
          "Nonthaburi",
          "Nonthaburi",
          "Nonthaburi",
          "Nonthaburi",
          "Nonthaburi",
          "Nonthaburi",
          "Nonthaburi",
          "Nonthaburi",
          "Nonthaburi",
          "Nonthaburi",
          "Nonthaburi",
          "Nonthaburi",
          "Nonthaburi",
          "Nonthaburi",
          "Nonthaburi",
          "Nonthaburi",
          "Nonthaburi",
          "Nonthaburi",
          "Nonthaburi",
          "Nonthaburi",
          "Nonthaburi",
          "Nonthaburi",
          "Nonthaburi",
          "Nonthaburi",
          "Nonthaburi",
          "Nonthaburi",
          "Nonthaburi",
          "Nonthaburi",
          "Nonthaburi",
          "Nonthaburi",
          "Nonthaburi",
          "Nonthaburi",
          "Nonthaburi",
          "Nonthaburi",
          "Nonthaburi",
          "Nonthaburi",
          "Nonthaburi",
          "Nonthaburi",
          "Nonthaburi",
          "Nonthaburi",
          "Nonthaburi",
          "Nonthaburi",
          "Nonthaburi",
          "Nonthaburi",
          "Nonthaburi",
          "Nonthaburi",
          "Nonthaburi",
          "Nonthaburi",
          "Nonthaburi",
          "Nonthaburi",
          "Nonthaburi",
          "Nonthaburi",
          "Nonthaburi",
          "Nonthaburi",
          "Nonthaburi",
          "Nonthaburi",
          "Nonthaburi",
          "Nonthaburi",
          "Nonthaburi",
          "Nonthaburi",
          "Nonthaburi",
          "Nonthaburi",
          "Nonthaburi",
          "Nonthaburi",
          "Nonthaburi",
          "Nonthaburi",
          "Nonthaburi",
          "Nonthaburi",
          "Nonthaburi",
          "Nonthaburi",
          "Nonthaburi",
          "Nonthaburi",
          "Nonthaburi",
          "Nonthaburi",
          "Nonthaburi",
          "Nonthaburi",
          "Nonthaburi",
          "Nonthaburi",
          "Nonthaburi",
          "Nonthaburi",
          "Nonthaburi",
          "Nonthaburi",
          "Nonthaburi",
          "Nonthaburi",
          "Nonthaburi",
          "Nonthaburi",
          "Nonthaburi",
          "Nonthaburi",
          "Nonthaburi",
          "Nonthaburi",
          "Nonthaburi",
          "Nonthaburi",
          "Nonthaburi",
          "Nonthaburi",
          "Nonthaburi",
          "Nonthaburi",
          "Nonthaburi",
          "Nonthaburi",
          "Nonthaburi",
          "Nonthaburi",
          "Nonthaburi",
          "Nonthaburi",
          "Nonthaburi",
          "Nonthaburi",
          "Nonthaburi",
          "Nonthaburi",
          "Nonthaburi",
          "Nonthaburi",
          "Nonthaburi",
          "Nonthaburi",
          "Nonthaburi",
          "Nonthaburi",
          "Nonthaburi"
         ],
         "xaxis": "x",
         "y": [
          2.199985,
          2.199985,
          2.199985,
          0.6000495,
          1.9000125,
          1.9000125,
          2.2999744,
          2.199985,
          1.2000281,
          1.2000281,
          2.2999744,
          1.9000125,
          1.500004,
          2.199985,
          2.8999372,
          2.199985,
          1.500004,
          1.500004,
          2.8999372,
          1.2000281,
          2.5999835,
          2.199985,
          0.9000703,
          2.8999372,
          1.500004,
          2.8999372,
          1.500004,
          2.5999835,
          1.500004,
          2.5999835,
          2.199985,
          2.199985,
          1.500004,
          1.500004,
          1.500004,
          2.8999372,
          1.2000281,
          0.9000703,
          2.5999835,
          1.2000281,
          2.199985,
          1.500004,
          2.5999835,
          1.500004,
          2.8999372,
          1.500004,
          1.2000281,
          2.5999835,
          1.500004,
          1.500004,
          2.5999835,
          2.8999372,
          2.8999372,
          2.5999835,
          2.5999835,
          2.2999744,
          1.9000125,
          2.5999835,
          1.2000281,
          1.9000125,
          2.199985,
          0.3001171,
          2.199985,
          1.2000281,
          1.2000281,
          1.2000281,
          1.9000125,
          2.199985,
          1.9000125,
          2.199985,
          2.199985,
          2.8999372,
          1.500004,
          2.8999372,
          1.500004,
          1.500004,
          1.2000281,
          2.199985,
          1.2000281,
          2.199985,
          0.9000703,
          2.5999835,
          2.8999372,
          2.199985,
          1.500004,
          2.199985,
          1.2000281,
          2.199985,
          2.199985,
          2.5999835,
          1.500004,
          1.500004,
          1.2000281,
          1.500004,
          1.9000125,
          1.6000112,
          2.2999744,
          1.7000102,
          0.9000703,
          0.3001171,
          2.5999835,
          2.8999372,
          2.199985,
          2.199985,
          2.199985,
          0.9000703,
          0.3001171,
          0.9000703,
          1.2000281,
          2.000011,
          2.5999835,
          0.9000703,
          1.500004,
          2.199985,
          1.500004,
          2.199985,
          1.500004,
          2.199985,
          2.199985,
          1.500004,
          2.8999372,
          0.9000703,
          1.500004,
          2.2999744,
          1.2000281,
          1.500004,
          1.2000281,
          1.500004,
          2.199985,
          2.199985,
          2.5999835,
          1.2000281,
          1.3000503,
          2.199985,
          1.6000112,
          1.500004,
          1.9000125,
          1.500004,
          2.2999744,
          1.500004,
          2.199985,
          1.9000125,
          1.2000281,
          2.199985,
          2.199985,
          1.6000112,
          1.2000281,
          2.8999372,
          1.6000112,
          2.199985,
          1.2000281,
          1.9000125,
          1.2000281,
          2.5999835,
          2.8999372,
          1.9000125,
          2.199985,
          2.8999372,
          1.9000125,
          1.9000125,
          1.2000281,
          2.8999372,
          1.500004,
          2.199985,
          1.2000281,
          2.199985,
          1.6000112,
          2.199985,
          2.8999372,
          2.5999835,
          1.500004,
          2.8999372,
          2.199985,
          2.5999835,
          1.6000112,
          2.5999835,
          1.2000281,
          1.3000503,
          2.199985,
          0.9000703,
          2.199985,
          2.2999744,
          1.500004,
          2.199985,
          2.8999372,
          2.8999372,
          1.500004,
          2.199985,
          1.2000281,
          1.2000281,
          2.5999835,
          1.2000281,
          1.2000281,
          2.8999372,
          2.2999744,
          2.2999744,
          1.9000125,
          0.9000703,
          1.9000125,
          1.2000281,
          1.2000281,
          2.2999744,
          1.2000281,
          1.2000281,
          2.2999744,
          2.8999372,
          1.2000281,
          2.8999372,
          0.9000703,
          2.5999835,
          2.8999372,
          1.9000125,
          1.6000112,
          2.5999835
         ],
         "yaxis": "y"
        },
        {
         "customdata": [
          [
           "Dream World"
          ],
          [
           "Dream World"
          ],
          [
           "Wat Khao Chedi"
          ],
          [
           "Wat Nong Hoi"
          ],
          [
           "Wat Chedi Sao Lang"
          ],
          [
           "National Science Museum"
          ],
          [
           "Bobae Market"
          ],
          [
           "Bobae Market"
          ],
          [
           "Wat Bot"
          ],
          [
           "Wat Uposatharam (Wat Bot Manorom)"
          ],
          [
           "Wat Bot Muang"
          ],
          [
           "Wat Kaew Ko Wararam"
          ],
          [
           "Wat Kaew Ko Wararam"
          ],
          [
           "Pha Kep Ta Wan"
          ],
          [
           "Pha Kep Ta Wan"
          ],
          [
           "Pha Kep Ta Wan"
          ],
          [
           "Wan Long Bay"
          ],
          [
           "Wat Phai Rong Wua"
          ],
          [
           "Wat Nong Pah Pong"
          ],
          [
           "Wat Nong Pah Pong"
          ],
          [
           "Wat Phra That Nong Bua"
          ],
          [
           "Wat Phra That Nong Bua"
          ],
          [
           "Wat Chao Fa Sala Loi"
          ],
          [
           "Wat Maha That Temple"
          ],
          [
           "Wat Maha Phuttharam"
          ],
          [
           "Wat Maha Wanaram"
          ],
          [
           "Wat Maha But Temple - Mae Nak Shrine"
          ],
          [
           "Wat Maha But Temple - Mae Nak Shrine"
          ],
          [
           "Wat Phra Si Ratana Maha That"
          ],
          [
           "Wat Phra Si Ratana Maha That"
          ],
          [
           "Wat Phra Si Ratana Maha That"
          ],
          [
           "Wat Maha That"
          ],
          [
           "Wat Maha That"
          ],
          [
           "Wat Maha That"
          ],
          [
           "Wat Suwan Khiri Khet"
          ],
          [
           "Krom Luang Chumphon Khet Udomsak Royal Palace"
          ],
          [
           "Krom Luang Chumphon Khet Udomsak Royal Palace"
          ],
          [
           "Wat Chang Hai Rat Buranaram"
          ],
          [
           "Wat Thung Setthi"
          ],
          [
           "Wat Thung Setthi"
          ],
          [
           "Wat Koh Klang"
          ],
          [
           "Wat Pha Nam Yoi - Isaan Buddhist Park"
          ],
          [
           "Wat Pha Nam Yoi - Isaan Buddhist Park"
          ],
          [
           "Wat Pha Nam Yoi - Isaan Buddhist Park"
          ],
          [
           "Wat Nam Hoo"
          ],
          [
           "Wat Nam Hoo"
          ],
          [
           "Wat Nam Hoo"
          ],
          [
           "Wat Phumin"
          ],
          [
           "Wat Phumin"
          ],
          [
           "Wat Intharawihan"
          ],
          [
           "Wat Chang Rop"
          ],
          [
           "Wat Chang Rop"
          ],
          [
           "Wat Chang Rop"
          ],
          [
           "Wat Chang Taem"
          ],
          [
           "Wat Chang Taem"
          ],
          [
           "Wat Chang (Monastery of the Elephant)"
          ],
          [
           "Wat Chang (Monastery of the Elephant)"
          ],
          [
           "Rare Stone Museum"
          ],
          [
           "Wat Bowonniwet Vihara"
          ],
          [
           "Wat Phai Lom"
          ],
          [
           "Wat Phai Lom"
          ],
          [
           "City Pillar Of Chanthaburi"
          ],
          [
           "City Pillar Of Chanthaburi"
          ],
          [
           "City Pillar Of Chanthaburi"
          ],
          [
           "Southeast Asian Ceramics Museum (SEACM)"
          ],
          [
           "Dhanabadee Ceramic Museum"
          ],
          [
           "Wat Bua Khwan"
          ],
          [
           "Wat Bua Khwan"
          ],
          [
           "Wat Nong Bua"
          ],
          [
           "Wat Tham Klong Phen"
          ],
          [
           "Sing Sing Theater"
          ],
          [
           "Sing Sing Theater"
          ],
          [
           "Sing Sing Theater"
          ],
          [
           "Wat Phrai Phatthana"
          ],
          [
           "National Geological Museum Pathum Thani"
          ],
          [
           "Tha Phae Gate"
          ],
          [
           "Tha Phae Gate"
          ],
          [
           "Khao Lak Elephant Home"
          ],
          [
           "Khao Lak Elephant Home"
          ],
          [
           "Mai Khao Beach"
          ],
          [
           "Mai Khao Beach"
          ],
          [
           "Phae Mueang Phi"
          ],
          [
           "Phae Mueang Phi"
          ],
          [
           "Khao Yai National Park"
          ],
          [
           "Khao Yai National Park"
          ],
          [
           "Khao No-Khao Kaeo"
          ],
          [
           "Khao Chamao Khao Wong National Park"
          ],
          [
           "The National Memorial"
          ],
          [
           "The National Memorial"
          ]
         ],
         "hovertemplate": "place_name=%{x}<br>predicted_score=%{y}<br>location_name=%{customdata[0]}<extra></extra>",
         "legendgroup": "Pathum Thani",
         "marker": {
          "color": "#00cc96",
          "symbol": "circle"
         },
         "mode": "markers",
         "name": "Pathum Thani",
         "showlegend": true,
         "type": "scattergl",
         "x": [
          "Pathum Thani",
          "Pathum Thani",
          "Pathum Thani",
          "Pathum Thani",
          "Pathum Thani",
          "Pathum Thani",
          "Pathum Thani",
          "Pathum Thani",
          "Pathum Thani",
          "Pathum Thani",
          "Pathum Thani",
          "Pathum Thani",
          "Pathum Thani",
          "Pathum Thani",
          "Pathum Thani",
          "Pathum Thani",
          "Pathum Thani",
          "Pathum Thani",
          "Pathum Thani",
          "Pathum Thani",
          "Pathum Thani",
          "Pathum Thani",
          "Pathum Thani",
          "Pathum Thani",
          "Pathum Thani",
          "Pathum Thani",
          "Pathum Thani",
          "Pathum Thani",
          "Pathum Thani",
          "Pathum Thani",
          "Pathum Thani",
          "Pathum Thani",
          "Pathum Thani",
          "Pathum Thani",
          "Pathum Thani",
          "Pathum Thani",
          "Pathum Thani",
          "Pathum Thani",
          "Pathum Thani",
          "Pathum Thani",
          "Pathum Thani",
          "Pathum Thani",
          "Pathum Thani",
          "Pathum Thani",
          "Pathum Thani",
          "Pathum Thani",
          "Pathum Thani",
          "Pathum Thani",
          "Pathum Thani",
          "Pathum Thani",
          "Pathum Thani",
          "Pathum Thani",
          "Pathum Thani",
          "Pathum Thani",
          "Pathum Thani",
          "Pathum Thani",
          "Pathum Thani",
          "Pathum Thani",
          "Pathum Thani",
          "Pathum Thani",
          "Pathum Thani",
          "Pathum Thani",
          "Pathum Thani",
          "Pathum Thani",
          "Pathum Thani",
          "Pathum Thani",
          "Pathum Thani",
          "Pathum Thani",
          "Pathum Thani",
          "Pathum Thani",
          "Pathum Thani",
          "Pathum Thani",
          "Pathum Thani",
          "Pathum Thani",
          "Pathum Thani",
          "Pathum Thani",
          "Pathum Thani",
          "Pathum Thani",
          "Pathum Thani",
          "Pathum Thani",
          "Pathum Thani",
          "Pathum Thani",
          "Pathum Thani",
          "Pathum Thani",
          "Pathum Thani",
          "Pathum Thani",
          "Pathum Thani",
          "Pathum Thani",
          "Pathum Thani"
         ],
         "xaxis": "x",
         "y": [
          2.8999372,
          2.199985,
          2.199985,
          2.5999835,
          2.5999835,
          2.199985,
          2.199985,
          2.8999372,
          1.2000281,
          1.9000125,
          0.3001171,
          1.500004,
          2.199985,
          1.2000281,
          1.500004,
          1.2000281,
          2.199985,
          1.9000125,
          1.9000125,
          1.2000281,
          1.500004,
          2.199985,
          1.9000125,
          2.199985,
          2.199985,
          0.9000703,
          2.8999372,
          1.500004,
          1.9000125,
          2.199985,
          2.8999372,
          2.8999372,
          1.2000281,
          1.500004,
          2.5999835,
          2.199985,
          2.5999835,
          1.9000125,
          1.500004,
          1.500004,
          2.199985,
          0.9000703,
          2.199985,
          2.199985,
          1.500004,
          1.9000125,
          1.6000112,
          2.8999372,
          1.2000281,
          1.500004,
          1.6000112,
          1.9000125,
          2.8999372,
          2.5999835,
          1.9000125,
          1.6000112,
          2.8999372,
          1.9000125,
          1.2000281,
          1.9000125,
          1.7000102,
          0.9000703,
          1.500004,
          2.199985,
          1.500004,
          2.199985,
          1.9000125,
          0.3001171,
          1.6000112,
          1.500004,
          2.199985,
          1.500004,
          0.6000495,
          2.5999835,
          2.5999835,
          1.500004,
          1.500004,
          2.8999372,
          1.500004,
          2.199985,
          2.8999372,
          2.8999372,
          1.9000125,
          2.8999372,
          1.9000125,
          1.6000112,
          2.199985,
          2.8999372,
          2.8999372
         ],
         "yaxis": "y"
        },
        {
         "customdata": [
          [
           "Ayutthaya City Park"
          ],
          [
           "Ayutthaya Elephant Palace & Royal Kraal"
          ],
          [
           "Ayutthaya Boat & Travel"
          ],
          [
           "Ayutthaya Ferry Boat"
          ],
          [
           "Ayutthaya Ferry Boat"
          ],
          [
           "Lub Lae Cave"
          ],
          [
           "Lub Lae Cave"
          ],
          [
           "Lub Lae Cave"
          ],
          [
           "Ayutthaya National Art Museum"
          ],
          [
           "Vihara Phra Mongkhon Bophit"
          ],
          [
           "Khao Phra Wihan National Park"
          ],
          [
           "Ayutthaya Historical Park"
          ],
          [
           "Ayutthaya Historical Park"
          ],
          [
           "Ayutthaya Tourism Centre"
          ],
          [
           "Ayutthaya Tourism Centre"
          ],
          [
           "Wat Suan Tan"
          ],
          [
           "Wat Suan Tan"
          ],
          [
           "Mae Hong Son Mountain Wat"
          ],
          [
           "Wat Phra That Mae Yen"
          ],
          [
           "Wat Ban Den"
          ],
          [
           "Wat Thai Wattanaram"
          ],
          [
           "Wat Chong Kham"
          ],
          [
           "Kad Kong Ta Street Market"
          ],
          [
           "Hin Lad Waterfall"
          ],
          [
           "Hin Lad Waterfall"
          ],
          [
           "Hin Lad Waterfall"
          ],
          [
           "Lad Koh View Point"
          ],
          [
           "Wat Suwan Kuha (Cave Temple)"
          ],
          [
           "Wat Thammikarat"
          ],
          [
           "Wat Thammikarat"
          ],
          [
           "Wat Thammikarat"
          ],
          [
           "Wat Phra Ram"
          ],
          [
           "Wat Phra Ram"
          ],
          [
           "Wat Phutthaisawan Temple"
          ],
          [
           "Wat Phutthaisawan Temple"
          ],
          [
           "Wat Rai Khing"
          ],
          [
           "Wat Rai Khing"
          ],
          [
           "Wat Samphran"
          ],
          [
           "Wat Samphran"
          ],
          [
           "Wat Samphran"
          ],
          [
           "Baan Hollanda"
          ],
          [
           "Baan Hollanda"
          ],
          [
           "Baan Dam Museum"
          ],
          [
           "Baan Dam Museum"
          ],
          [
           "Baan Sabai Massage Center"
          ],
          [
           "Baan Sabai Massage Center"
          ],
          [
           "Baan Silapin"
          ],
          [
           "Baan Silapin"
          ],
          [
           "Baan Thai massage"
          ],
          [
           "Baan Tiew"
          ],
          [
           "Baan Tiew"
          ],
          [
           "Baan Sillapin Artists Village"
          ],
          [
           "Baan Sillapin Artists Village"
          ],
          [
           "Phra Mahathat Woramaha Wiharn"
          ],
          [
           "Phra Mahathat Woramaha Wiharn"
          ],
          [
           "Phra Thinang Aisawan Thiphta-Art"
          ],
          [
           "Phra Thinang Aisawan Thiphta-Art"
          ],
          [
           "Phra Thinang Aisawan Thiphta-Art"
          ],
          [
           "Ho Hem Monthian Thewarat"
          ],
          [
           "Bang Pa-In Railway Station"
          ],
          [
           "Phra Thinang Uthayan Phumisathian"
          ],
          [
           "Phra Thinang Uthayan Phumisathian"
          ],
          [
           "Phra Thinang Uthayan Phumisathian"
          ],
          [
           "Tevaraj-Kanlai Gate"
          ],
          [
           "Tevaraj-Kanlai Gate"
          ],
          [
           "Samui Elephant Sanctuary"
          ],
          [
           "Elephant Rescue Park"
          ],
          [
           "Elephant Rescue Park"
          ],
          [
           "Green Elephant Sanctuary Park"
          ],
          [
           "Wat Yai Suwannaram"
          ],
          [
           "Wat Yai Suwannaram"
          ],
          [
           "Wat Phra Ngam"
          ],
          [
           "Wat Kudidao"
          ],
          [
           "Wat Kudidao"
          ],
          [
           "Wat Kudidao"
          ],
          [
           "King Naresuan Monument"
          ],
          [
           "King Naresuan Monument"
          ],
          [
           "King Naresuan Monument"
          ],
          [
           "Shrine of King Naresuan the Great"
          ],
          [
           "Shrine of King Naresuan the Great"
          ],
          [
           "King Naresuan The Great Shrine"
          ],
          [
           "King Naresuan the Great Shrine"
          ],
          [
           "Phra Si Ratana Chedi"
          ],
          [
           "Phra Si Ratana Chedi"
          ],
          [
           "Phra Chedi Si Suriyothai"
          ],
          [
           "Phra Chedi Si Suriyothai"
          ],
          [
           "Phra Chedi Si Suriyothai"
          ],
          [
           "Wat Phra Nang Sang"
          ],
          [
           "Wat Khao Angkhan Temple"
          ],
          [
           "Wat Khao Angkhan Temple"
          ],
          [
           "Wat Nang Phaya"
          ],
          [
           "Wat Chumphon Khiri"
          ],
          [
           "Wat Chumphon Khiri"
          ],
          [
           "Wat Kaew Pra Seart"
          ],
          [
           "Mu Ko Chumphon National Park"
          ],
          [
           "Khun Chang Khian"
          ],
          [
           "Khun Dan Prakan Chon Dam"
          ],
          [
           "Khun Si Waterfall"
          ],
          [
           "Khun Si Waterfall"
          ],
          [
           "Wat Khun Chan"
          ],
          [
           "Wat Khun Chan"
          ],
          [
           "Wat Khun Inthapramun"
          ],
          [
           "Wat Khun Inthapramun"
          ],
          [
           "Wat Khun Inthapramun"
          ],
          [
           "Doi Khun Tan National Park"
          ],
          [
           "Doi Khun Tan National Park"
          ],
          [
           "King U-Thong Monument"
          ],
          [
           "King Mengrai Monument"
          ],
          [
           "King Mengrai Monument"
          ],
          [
           "King Mengrai Monument"
          ],
          [
           "King Mengrai Monument"
          ],
          [
           "Three Kings Monument"
          ],
          [
           "Three Kings Monument"
          ],
          [
           "Three Kings Monument"
          ],
          [
           "Prasat Hin Phanom Wan"
          ],
          [
           "Prasat Hin Phanom Wan"
          ],
          [
           "The Chakri Group (Phra Thinang Chakri Maha Prasat)"
          ],
          [
           "The Chakri Group (Phra Thinang Chakri Maha Prasat)"
          ],
          [
           "The Chakri Group (Phra Thinang Chakri Maha Prasat)"
          ],
          [
           "Ban Prasat Archaeological Site"
          ],
          [
           "Wat Muen Tum"
          ],
          [
           "Wat Muen Tum"
          ],
          [
           "Wat Muen Tum"
          ],
          [
           "Prasat Hin Mueang Tum"
          ],
          [
           "Tum Massage"
          ],
          [
           "Queen Suriyothai Monument"
          ],
          [
           "Somdet Phra Srinakarindra Park Roi Et"
          ],
          [
           "Somdet Phra Srinakarindra Park Roi Et"
          ],
          [
           "Wat Ram Poeng"
          ],
          [
           "Wat Ram Poeng"
          ],
          [
           "Wat Khun Thai Tha Ram Temple"
          ],
          [
           "Thung Bua Chom Floating Market"
          ],
          [
           "ตลาดน้ำทุ่งบัวแดง"
          ],
          [
           "Chado Cliff Viewpoint"
          ],
          [
           "Chado Cliff Viewpoint"
          ],
          [
           "St. Joseph's Church"
          ],
          [
           "St. Joseph's Church"
          ],
          [
           "Mon Jam"
          ],
          [
           "Mon Jam"
          ],
          [
           "Mon Bridge"
          ],
          [
           "Si Satchanalai Historical Park"
          ],
          [
           "Si Satchanalai Historical Park"
          ],
          [
           "Si Satchanalai Historical Park"
          ],
          [
           "Si Lanna National Park"
          ],
          [
           "Si Lanna National Park"
          ],
          [
           "Sunday Night Market"
          ],
          [
           "Sunday Night Market"
          ],
          [
           "Sunday Night Market"
          ],
          [
           "Anusarn Market"
          ],
          [
           "Khamthiang Flower Market"
          ],
          [
           "Khamthiang Flower Market"
          ],
          [
           "Ploen Ruedee Night Market"
          ],
          [
           "Ploen Ruedee Night Market"
          ],
          [
           "Jing Jai Market"
          ],
          [
           "Jing Jai Market"
          ],
          [
           "Jao Mae Tub Tim Shrine"
          ],
          [
           "Soi Cowboy"
          ],
          [
           "Soi Cowboy"
          ],
          [
           "Chao Mae Tubtim Thong Shrine"
          ],
          [
           "Chao Mae Tubtim Thong Shrine"
          ],
          [
           "Chao Mae Tubtim Thong Shrine"
          ],
          [
           "Phra Mae Ya Shrine"
          ],
          [
           "Wat Pha Lat Monk's Trail"
          ],
          [
           "Wat Pha Lat Monk's Trail"
          ],
          [
           "Wat Pha Lat Monk's Trail"
          ],
          [
           "Thai Boat Museum"
          ],
          [
           "Wat King Kaew"
          ],
          [
           "Wat King Kaew"
          ],
          [
           "Wat King Kaew"
          ]
         ],
         "hovertemplate": "place_name=%{x}<br>predicted_score=%{y}<br>location_name=%{customdata[0]}<extra></extra>",
         "legendgroup": "Phra Nakhon Si Ayutthaya",
         "marker": {
          "color": "#ab63fa",
          "symbol": "circle"
         },
         "mode": "markers",
         "name": "Phra Nakhon Si Ayutthaya",
         "showlegend": true,
         "type": "scattergl",
         "x": [
          "Phra Nakhon Si Ayutthaya",
          "Phra Nakhon Si Ayutthaya",
          "Phra Nakhon Si Ayutthaya",
          "Phra Nakhon Si Ayutthaya",
          "Phra Nakhon Si Ayutthaya",
          "Phra Nakhon Si Ayutthaya",
          "Phra Nakhon Si Ayutthaya",
          "Phra Nakhon Si Ayutthaya",
          "Phra Nakhon Si Ayutthaya",
          "Phra Nakhon Si Ayutthaya",
          "Phra Nakhon Si Ayutthaya",
          "Phra Nakhon Si Ayutthaya",
          "Phra Nakhon Si Ayutthaya",
          "Phra Nakhon Si Ayutthaya",
          "Phra Nakhon Si Ayutthaya",
          "Phra Nakhon Si Ayutthaya",
          "Phra Nakhon Si Ayutthaya",
          "Phra Nakhon Si Ayutthaya",
          "Phra Nakhon Si Ayutthaya",
          "Phra Nakhon Si Ayutthaya",
          "Phra Nakhon Si Ayutthaya",
          "Phra Nakhon Si Ayutthaya",
          "Phra Nakhon Si Ayutthaya",
          "Phra Nakhon Si Ayutthaya",
          "Phra Nakhon Si Ayutthaya",
          "Phra Nakhon Si Ayutthaya",
          "Phra Nakhon Si Ayutthaya",
          "Phra Nakhon Si Ayutthaya",
          "Phra Nakhon Si Ayutthaya",
          "Phra Nakhon Si Ayutthaya",
          "Phra Nakhon Si Ayutthaya",
          "Phra Nakhon Si Ayutthaya",
          "Phra Nakhon Si Ayutthaya",
          "Phra Nakhon Si Ayutthaya",
          "Phra Nakhon Si Ayutthaya",
          "Phra Nakhon Si Ayutthaya",
          "Phra Nakhon Si Ayutthaya",
          "Phra Nakhon Si Ayutthaya",
          "Phra Nakhon Si Ayutthaya",
          "Phra Nakhon Si Ayutthaya",
          "Phra Nakhon Si Ayutthaya",
          "Phra Nakhon Si Ayutthaya",
          "Phra Nakhon Si Ayutthaya",
          "Phra Nakhon Si Ayutthaya",
          "Phra Nakhon Si Ayutthaya",
          "Phra Nakhon Si Ayutthaya",
          "Phra Nakhon Si Ayutthaya",
          "Phra Nakhon Si Ayutthaya",
          "Phra Nakhon Si Ayutthaya",
          "Phra Nakhon Si Ayutthaya",
          "Phra Nakhon Si Ayutthaya",
          "Phra Nakhon Si Ayutthaya",
          "Phra Nakhon Si Ayutthaya",
          "Phra Nakhon Si Ayutthaya",
          "Phra Nakhon Si Ayutthaya",
          "Phra Nakhon Si Ayutthaya",
          "Phra Nakhon Si Ayutthaya",
          "Phra Nakhon Si Ayutthaya",
          "Phra Nakhon Si Ayutthaya",
          "Phra Nakhon Si Ayutthaya",
          "Phra Nakhon Si Ayutthaya",
          "Phra Nakhon Si Ayutthaya",
          "Phra Nakhon Si Ayutthaya",
          "Phra Nakhon Si Ayutthaya",
          "Phra Nakhon Si Ayutthaya",
          "Phra Nakhon Si Ayutthaya",
          "Phra Nakhon Si Ayutthaya",
          "Phra Nakhon Si Ayutthaya",
          "Phra Nakhon Si Ayutthaya",
          "Phra Nakhon Si Ayutthaya",
          "Phra Nakhon Si Ayutthaya",
          "Phra Nakhon Si Ayutthaya",
          "Phra Nakhon Si Ayutthaya",
          "Phra Nakhon Si Ayutthaya",
          "Phra Nakhon Si Ayutthaya",
          "Phra Nakhon Si Ayutthaya",
          "Phra Nakhon Si Ayutthaya",
          "Phra Nakhon Si Ayutthaya",
          "Phra Nakhon Si Ayutthaya",
          "Phra Nakhon Si Ayutthaya",
          "Phra Nakhon Si Ayutthaya",
          "Phra Nakhon Si Ayutthaya",
          "Phra Nakhon Si Ayutthaya",
          "Phra Nakhon Si Ayutthaya",
          "Phra Nakhon Si Ayutthaya",
          "Phra Nakhon Si Ayutthaya",
          "Phra Nakhon Si Ayutthaya",
          "Phra Nakhon Si Ayutthaya",
          "Phra Nakhon Si Ayutthaya",
          "Phra Nakhon Si Ayutthaya",
          "Phra Nakhon Si Ayutthaya",
          "Phra Nakhon Si Ayutthaya",
          "Phra Nakhon Si Ayutthaya",
          "Phra Nakhon Si Ayutthaya",
          "Phra Nakhon Si Ayutthaya",
          "Phra Nakhon Si Ayutthaya",
          "Phra Nakhon Si Ayutthaya",
          "Phra Nakhon Si Ayutthaya",
          "Phra Nakhon Si Ayutthaya",
          "Phra Nakhon Si Ayutthaya",
          "Phra Nakhon Si Ayutthaya",
          "Phra Nakhon Si Ayutthaya",
          "Phra Nakhon Si Ayutthaya",
          "Phra Nakhon Si Ayutthaya",
          "Phra Nakhon Si Ayutthaya",
          "Phra Nakhon Si Ayutthaya",
          "Phra Nakhon Si Ayutthaya",
          "Phra Nakhon Si Ayutthaya",
          "Phra Nakhon Si Ayutthaya",
          "Phra Nakhon Si Ayutthaya",
          "Phra Nakhon Si Ayutthaya",
          "Phra Nakhon Si Ayutthaya",
          "Phra Nakhon Si Ayutthaya",
          "Phra Nakhon Si Ayutthaya",
          "Phra Nakhon Si Ayutthaya",
          "Phra Nakhon Si Ayutthaya",
          "Phra Nakhon Si Ayutthaya",
          "Phra Nakhon Si Ayutthaya",
          "Phra Nakhon Si Ayutthaya",
          "Phra Nakhon Si Ayutthaya",
          "Phra Nakhon Si Ayutthaya",
          "Phra Nakhon Si Ayutthaya",
          "Phra Nakhon Si Ayutthaya",
          "Phra Nakhon Si Ayutthaya",
          "Phra Nakhon Si Ayutthaya",
          "Phra Nakhon Si Ayutthaya",
          "Phra Nakhon Si Ayutthaya",
          "Phra Nakhon Si Ayutthaya",
          "Phra Nakhon Si Ayutthaya",
          "Phra Nakhon Si Ayutthaya",
          "Phra Nakhon Si Ayutthaya",
          "Phra Nakhon Si Ayutthaya",
          "Phra Nakhon Si Ayutthaya",
          "Phra Nakhon Si Ayutthaya",
          "Phra Nakhon Si Ayutthaya",
          "Phra Nakhon Si Ayutthaya",
          "Phra Nakhon Si Ayutthaya",
          "Phra Nakhon Si Ayutthaya",
          "Phra Nakhon Si Ayutthaya",
          "Phra Nakhon Si Ayutthaya",
          "Phra Nakhon Si Ayutthaya",
          "Phra Nakhon Si Ayutthaya",
          "Phra Nakhon Si Ayutthaya",
          "Phra Nakhon Si Ayutthaya",
          "Phra Nakhon Si Ayutthaya",
          "Phra Nakhon Si Ayutthaya",
          "Phra Nakhon Si Ayutthaya",
          "Phra Nakhon Si Ayutthaya",
          "Phra Nakhon Si Ayutthaya",
          "Phra Nakhon Si Ayutthaya",
          "Phra Nakhon Si Ayutthaya",
          "Phra Nakhon Si Ayutthaya",
          "Phra Nakhon Si Ayutthaya",
          "Phra Nakhon Si Ayutthaya",
          "Phra Nakhon Si Ayutthaya",
          "Phra Nakhon Si Ayutthaya",
          "Phra Nakhon Si Ayutthaya",
          "Phra Nakhon Si Ayutthaya",
          "Phra Nakhon Si Ayutthaya",
          "Phra Nakhon Si Ayutthaya",
          "Phra Nakhon Si Ayutthaya",
          "Phra Nakhon Si Ayutthaya",
          "Phra Nakhon Si Ayutthaya",
          "Phra Nakhon Si Ayutthaya",
          "Phra Nakhon Si Ayutthaya",
          "Phra Nakhon Si Ayutthaya",
          "Phra Nakhon Si Ayutthaya",
          "Phra Nakhon Si Ayutthaya",
          "Phra Nakhon Si Ayutthaya"
         ],
         "xaxis": "x",
         "y": [
          1.9000125,
          1.7000102,
          1.500004,
          2.8999372,
          2.8999372,
          1.9000125,
          1.9000125,
          1.500004,
          2.2999744,
          2.199985,
          2.2999744,
          2.199985,
          1.500004,
          1.9000125,
          2.5999835,
          2.5999835,
          1.2000281,
          1.9000125,
          1.6000112,
          1.2000281,
          2.8999372,
          2.2999744,
          1.9000125,
          0.3001171,
          1.2000281,
          2.8999372,
          1.2000281,
          2.8999372,
          2.199985,
          0.9000703,
          1.500004,
          2.2999744,
          2.5999835,
          2.199985,
          1.500004,
          1.2000281,
          2.8999372,
          2.199985,
          1.9000125,
          2.199985,
          1.6000112,
          2.5999835,
          2.8999372,
          0.9000703,
          2.199985,
          2.8999372,
          1.500004,
          2.8999372,
          1.2000281,
          2.8999372,
          2.199985,
          2.8999372,
          2.199985,
          1.500004,
          2.8999372,
          2.8999372,
          1.500004,
          2.199985,
          0.9000703,
          1.2000281,
          0.9000703,
          0.9000703,
          0.9000703,
          0.9000703,
          0.9000703,
          2.199985,
          1.500004,
          2.8999372,
          2.8999372,
          1.2000281,
          2.8999372,
          2.5999835,
          2.8999372,
          2.8999372,
          2.5999835,
          1.6000112,
          2.199985,
          0.9000703,
          1.6000112,
          1.9000125,
          1.2000281,
          2.5999835,
          2.8999372,
          2.8999372,
          1.6000112,
          2.5999835,
          2.5999835,
          1.2000281,
          1.9000125,
          2.2999744,
          2.5999835,
          2.5999835,
          0.9000703,
          1.9000125,
          1.9000125,
          2.8999372,
          1.500004,
          1.2000281,
          2.5999835,
          1.500004,
          2.199985,
          2.8999372,
          2.8999372,
          2.8999372,
          1.500004,
          2.199985,
          2.5999835,
          1.2000281,
          1.6000112,
          1.2000281,
          2.199985,
          2.5999835,
          2.2999744,
          0.9000703,
          2.8999372,
          1.9000125,
          2.5999835,
          2.8999372,
          1.500004,
          1.2000281,
          0.9000703,
          0.9000703,
          2.000011,
          1.500004,
          1.500004,
          2.5999835,
          2.8999372,
          1.9000125,
          2.8999372,
          2.8999372,
          1.500004,
          1.3000503,
          1.500004,
          2.8999372,
          2.8999372,
          1.9000125,
          1.2000281,
          1.500004,
          2.8999372,
          1.500004,
          2.8999372,
          1.2000281,
          2.8999372,
          2.199985,
          1.500004,
          1.500004,
          1.500004,
          2.8999372,
          2.5999835,
          2.199985,
          2.2999744,
          2.199985,
          2.8999372,
          2.199985,
          2.199985,
          1.2000281,
          1.2000281,
          2.5999835,
          1.6000112,
          2.5999835,
          0.9000703,
          0.9000703,
          1.500004,
          1.9000125,
          1.500004,
          1.2000281,
          1.2000281,
          2.5999835,
          1.2000281
         ],
         "yaxis": "y"
        },
        {
         "customdata": [
          [
           "Wat Tham Khao Chakan"
          ],
          [
           "Wat Tham Khao Chakan"
          ],
          [
           "Wat Tham Khao Chakan"
          ],
          [
           "Nong Hoi Royal Project"
          ],
          [
           "Huai Luek Royal Project Development Centre"
          ],
          [
           "Hup Kraphong Royal Development Project Center"
          ],
          [
           "Royal Project Shop"
          ],
          [
           "Royal Project Shop"
          ],
          [
           "Royal Project Khun Pae"
          ],
          [
           "Chang Hua Man Royal Project"
          ],
          [
           "Chang Hua Man Royal Project"
          ],
          [
           "Ton Son Mosque"
          ],
          [
           "Wat Phra That Doi Kong Mu"
          ],
          [
           "Farm Chokchai"
          ],
          [
           "Farm Chokchai"
          ],
          [
           "Lek Massage"
          ],
          [
           "Lek Massage"
          ],
          [
           "Lek Massage Bangkok - Lek Foot Massage"
          ],
          [
           "Lek's Fishing Park Udon Thani"
          ],
          [
           "Muak Lek Waterfall"
          ],
          [
           "Farm de Lek"
          ],
          [
           "Bangkok Dolls"
          ],
          [
           "Bangkok Dolls"
          ],
          [
           "Tha Sadet Market"
          ],
          [
           "Tha Sadet Market"
          ],
          [
           "Jewelry Trade Center"
          ],
          [
           "Jewelry Trade Center"
          ],
          [
           "Cha's Bar"
          ],
          [
           "BASE"
          ],
          [
           "BASE"
          ],
          [
           "The Gundam Base Thailand Gallery"
          ],
          [
           "Chao 9 Massage"
          ],
          [
           "Thai Tourism Guide"
          ],
          [
           "Kham Chanod Forest"
          ],
          [
           "Kham Chanod Forest"
          ],
          [
           "Diamond Cave (Tham Phra Nang Nai)"
          ],
          [
           "Diamond Cave (Tham Phra Nang Nai)"
          ],
          [
           "Diamond Cave (Tham Phra Nang Nai)"
          ],
          [
           "Nang Lae Nai Waterfall"
          ],
          [
           "Wat Mongkol Wararam"
          ],
          [
           "Wat Mongkol Wararam"
          ],
          [
           "Wat Mongkol Wararam"
          ],
          [
           "Big Buddha at Wat Muang Temple"
          ],
          [
           "Big Buddha at Wat Muang Temple"
          ],
          [
           "Big Buddha at Wat Muang Temple"
          ],
          [
           "Wat Muang"
          ],
          [
           "Wat Muang"
          ],
          [
           "Wat Ming Muang"
          ],
          [
           "Wat Pho Chai"
          ],
          [
           "Wat Pho Chai"
          ],
          [
           "Wat Pho Chai"
          ],
          [
           "Guan-Yu Koh Samui Shrine"
          ],
          [
           "Guan-Yu Koh Samui Shrine"
          ],
          [
           "Guan-Yu Koh Samui Shrine"
          ],
          [
           "Ang Thong Provincial City Pillar Shrine"
          ],
          [
           "Ang Thong Provincial City Pillar Shrine"
          ],
          [
           "Wat Tham Phra Phothisat"
          ],
          [
           "Wat Suan Hin Pha Nang Khoi"
          ],
          [
           "Wat Tham Pla (Fish Cave Temple)"
          ],
          [
           "Wat Mani Chonlakhan"
          ],
          [
           "Koh Khai Nai"
          ],
          [
           "Koh Khai Nai"
          ],
          [
           "Nai Harn Gym"
          ],
          [
           "Asia Blue - Thong Nai Pan"
          ],
          [
           "Asia Blue - Thong Nai Pan"
          ],
          [
           "Asia Blue - Thong Nai Pan"
          ],
          [
           "Asia Blue - Thong Nai Pan"
          ],
          [
           "Nai Lert Park Heritage Home"
          ],
          [
           "Wat Ban Tat"
          ],
          [
           "Wat Ban Tat"
          ],
          [
           "Wat Siriuttho (Wat Kham Chanod)"
          ],
          [
           "Wat Siriuttho (Wat Kham Chanod)"
          ],
          [
           "Phan Thai Norasing Shrine"
          ],
          [
           "Wat Chai Mongkon, Pattaya"
          ],
          [
           "Wat Pa Kung"
          ],
          [
           "Wat Pa Kung"
          ],
          [
           "Wat Pa Kung"
          ],
          [
           "Wat Phraphutthabat Si Roi Temple"
          ],
          [
           "Wat Sriboonreung (Wat Si Bunruang)"
          ],
          [
           "Wat Sriboonreung (Wat Si Bunruang)"
          ],
          [
           "Wat San Pa Yang Luang"
          ],
          [
           "Wat Ban Yang Chum Yai"
          ],
          [
           "Prasat Muang Singh Historical Park"
          ],
          [
           "Prasat Muang Singh Historical Park"
          ],
          [
           "Prasat Muang Singh Historical Park"
          ],
          [
           "Prasat Muang Singh Historical Park"
          ]
         ],
         "hovertemplate": "place_name=%{x}<br>predicted_score=%{y}<br>location_name=%{customdata[0]}<extra></extra>",
         "legendgroup": "Ang Thong",
         "marker": {
          "color": "#FFA15A",
          "symbol": "circle"
         },
         "mode": "markers",
         "name": "Ang Thong",
         "showlegend": true,
         "type": "scattergl",
         "x": [
          "Ang Thong",
          "Ang Thong",
          "Ang Thong",
          "Ang Thong",
          "Ang Thong",
          "Ang Thong",
          "Ang Thong",
          "Ang Thong",
          "Ang Thong",
          "Ang Thong",
          "Ang Thong",
          "Ang Thong",
          "Ang Thong",
          "Ang Thong",
          "Ang Thong",
          "Ang Thong",
          "Ang Thong",
          "Ang Thong",
          "Ang Thong",
          "Ang Thong",
          "Ang Thong",
          "Ang Thong",
          "Ang Thong",
          "Ang Thong",
          "Ang Thong",
          "Ang Thong",
          "Ang Thong",
          "Ang Thong",
          "Ang Thong",
          "Ang Thong",
          "Ang Thong",
          "Ang Thong",
          "Ang Thong",
          "Ang Thong",
          "Ang Thong",
          "Ang Thong",
          "Ang Thong",
          "Ang Thong",
          "Ang Thong",
          "Ang Thong",
          "Ang Thong",
          "Ang Thong",
          "Ang Thong",
          "Ang Thong",
          "Ang Thong",
          "Ang Thong",
          "Ang Thong",
          "Ang Thong",
          "Ang Thong",
          "Ang Thong",
          "Ang Thong",
          "Ang Thong",
          "Ang Thong",
          "Ang Thong",
          "Ang Thong",
          "Ang Thong",
          "Ang Thong",
          "Ang Thong",
          "Ang Thong",
          "Ang Thong",
          "Ang Thong",
          "Ang Thong",
          "Ang Thong",
          "Ang Thong",
          "Ang Thong",
          "Ang Thong",
          "Ang Thong",
          "Ang Thong",
          "Ang Thong",
          "Ang Thong",
          "Ang Thong",
          "Ang Thong",
          "Ang Thong",
          "Ang Thong",
          "Ang Thong",
          "Ang Thong",
          "Ang Thong",
          "Ang Thong",
          "Ang Thong",
          "Ang Thong",
          "Ang Thong",
          "Ang Thong",
          "Ang Thong",
          "Ang Thong",
          "Ang Thong",
          "Ang Thong"
         ],
         "xaxis": "x",
         "y": [
          2.199985,
          1.9000125,
          1.6000112,
          1.9000125,
          1.9000125,
          1.2000281,
          2.5999835,
          1.500004,
          1.500004,
          2.8999372,
          0.9000703,
          1.500004,
          1.2000281,
          2.2999744,
          2.199985,
          2.199985,
          1.500004,
          0.9000703,
          1.500004,
          2.5999835,
          1.500004,
          1.9000125,
          1.9000125,
          2.8999372,
          2.5999835,
          2.199985,
          1.500004,
          2.8999372,
          1.500004,
          1.500004,
          2.5999835,
          0.3001171,
          2.8999372,
          1.2000281,
          2.8999372,
          0.9000703,
          0.9000703,
          1.000132,
          2.8999372,
          2.8999372,
          2.5999835,
          1.2000281,
          0.9000703,
          2.8999372,
          1.9000125,
          2.199985,
          1.2000281,
          2.8999372,
          1.2000281,
          1.500004,
          2.8999372,
          2.8999372,
          2.2999744,
          0.9000703,
          2.199985,
          2.199985,
          2.8999372,
          2.8999372,
          1.9000125,
          0.9000703,
          0.9000703,
          0.3001171,
          1.6000112,
          2.8999372,
          2.8999372,
          2.199985,
          1.500004,
          2.199985,
          2.2999744,
          2.8999372,
          2.5999835,
          2.199985,
          2.199985,
          2.199985,
          2.199985,
          1.2000281,
          1.500004,
          1.500004,
          1.2000281,
          1.9000125,
          1.500004,
          2.5999835,
          2.199985,
          1.2000281,
          1.2000281,
          0.3001171
         ],
         "yaxis": "y"
        },
        {
         "customdata": [
          [
           "Ban Ta Klang Elephant Village"
          ],
          [
           "Ban Ta Klang Elephant Village"
          ],
          [
           "Maenam Beach"
          ],
          [
           "Maenam Beach"
          ],
          [
           "Nan Maenam Massage"
          ],
          [
           "Mengrai Kilns"
          ],
          [
           "Mengrai Kilns"
          ],
          [
           "Lek Massage Bangkok - BTS Phrom Phong"
          ],
          [
           "Urban Retreat Spa - Phrom Phong"
          ],
          [
           "Urban Retreat Spa - Phrom Phong"
          ],
          [
           "Asia Herb Association - Phrom Phong Shop"
          ],
          [
           "Asia Herb Association - Phrom Phong Shop"
          ],
          [
           "Wat Phrathat Chae Haeng"
          ],
          [
           "Wat Phrathat Chang Kham Worawihan"
          ],
          [
           "Monument of Bang Rachan Heroes"
          ],
          [
           "Ban Rachan Old-Style Market"
          ],
          [
           "Phrathat Bang Phuan"
          ],
          [
           "Phrathat Bang Phuan"
          ],
          [
           "Khai Nok Island"
          ],
          [
           "Nong Khai Aquarium"
          ],
          [
           "Nong Khai Aquarium"
          ],
          [
           "Wat Sawang Arom (Wat Tham Sri Thon )"
          ],
          [
           "Wat Sawang Arom (Wat Tham Sri Thon )"
          ],
          [
           "Shadow Play House of Suchat Sapsin"
          ],
          [
           "Wat Si Chum"
          ],
          [
           "The Sanctuary Of Truth"
          ],
          [
           "The Sanctuary Of Truth"
          ],
          [
           "The Sanctuary Of Truth"
          ],
          [
           "The Sanctuary Of Truth"
          ],
          [
           "Phra Buddha Chinnarat"
          ],
          [
           "Muang Khu Bua Ancient Remains"
          ],
          [
           "Wat Buppharam"
          ],
          [
           "Wat Buppharam or Wat Plai Klong"
          ],
          [
           "Wat Bang Riang"
          ],
          [
           "Wat Bang Riang"
          ],
          [
           "Wat Bang Riang"
          ],
          [
           "Bann Kang Wat"
          ],
          [
           "Bann Kang Wat"
          ],
          [
           "Phra Prang Sam Yot"
          ],
          [
           "Tung Bua Tong Forest Park Doi Mae Mae Ukho"
          ],
          [
           "Tung Bua Tong Forest Park Doi Mae Mae Ukho"
          ],
          [
           "Singha Park"
          ],
          [
           "Singha Park"
          ],
          [
           "Singha Park"
          ]
         ],
         "hovertemplate": "place_name=%{x}<br>predicted_score=%{y}<br>location_name=%{customdata[0]}<extra></extra>",
         "legendgroup": "Sing Buri",
         "marker": {
          "color": "#19d3f3",
          "symbol": "circle"
         },
         "mode": "markers",
         "name": "Sing Buri",
         "showlegend": true,
         "type": "scattergl",
         "x": [
          "Sing Buri",
          "Sing Buri",
          "Sing Buri",
          "Sing Buri",
          "Sing Buri",
          "Sing Buri",
          "Sing Buri",
          "Sing Buri",
          "Sing Buri",
          "Sing Buri",
          "Sing Buri",
          "Sing Buri",
          "Sing Buri",
          "Sing Buri",
          "Sing Buri",
          "Sing Buri",
          "Sing Buri",
          "Sing Buri",
          "Sing Buri",
          "Sing Buri",
          "Sing Buri",
          "Sing Buri",
          "Sing Buri",
          "Sing Buri",
          "Sing Buri",
          "Sing Buri",
          "Sing Buri",
          "Sing Buri",
          "Sing Buri",
          "Sing Buri",
          "Sing Buri",
          "Sing Buri",
          "Sing Buri",
          "Sing Buri",
          "Sing Buri",
          "Sing Buri",
          "Sing Buri",
          "Sing Buri",
          "Sing Buri",
          "Sing Buri",
          "Sing Buri",
          "Sing Buri",
          "Sing Buri",
          "Sing Buri"
         ],
         "xaxis": "x",
         "y": [
          2.8999372,
          0.9000703,
          2.8999372,
          1.500004,
          1.500004,
          2.8999372,
          2.8999372,
          1.500004,
          1.2000281,
          1.500004,
          2.000011,
          1.500004,
          0.9000703,
          1.6000112,
          1.9000125,
          1.500004,
          2.8999372,
          2.2999744,
          2.199985,
          1.9000125,
          1.2000281,
          2.199985,
          2.2999744,
          2.199985,
          1.500004,
          2.8999372,
          1.9000125,
          1.3000503,
          2.5999835,
          2.199985,
          2.8999372,
          2.5999835,
          2.199985,
          1.9000125,
          1.2000281,
          1.9000125,
          1.2000281,
          2.5999835,
          2.5999835,
          2.199985,
          1.500004,
          0.6000495,
          2.2999744,
          2.5999835
         ],
         "yaxis": "y"
        },
        {
         "customdata": [
          [
           "Chainat bird park"
          ],
          [
           "Phuket Bird Park"
          ],
          [
           "Phuket Bird Park"
          ],
          [
           "Luang Pu Thuat Temple"
          ],
          [
           "Wat Tham Khao Prathun"
          ],
          [
           "Wat Tham Phrahat Khao Phrang"
          ],
          [
           "Wat Khao Tham"
          ],
          [
           "Wat Khao Tham"
          ],
          [
           "Samma Karuna"
          ],
          [
           "Samma Karuna"
          ],
          [
           "Tukcom - Chon Buri"
          ],
          [
           "Nong Nooch Tropical Botanical Garden"
          ],
          [
           "Koh Larn"
          ],
          [
           "Koh Larn"
          ],
          [
           "Koh Larn"
          ],
          [
           "Hong Island"
          ],
          [
           "Pai Plong Beach"
          ],
          [
           "Pai Plong Beach"
          ],
          [
           "Chiang Chom Temple (Wat Chedi Plong Pagoda)"
          ],
          [
           "Chiang Chom Temple (Wat Chedi Plong Pagoda)"
          ],
          [
           "Chiang Chom Temple (Wat Chedi Plong Pagoda)"
          ],
          [
           "Chiang Chom Temple (Wat Chedi Plong Pagoda)"
          ],
          [
           "Boat Avenue Villa Market"
          ],
          [
           "Boat Avenue Villa Market"
          ],
          [
           "The Ricemill Market"
          ],
          [
           "The Ricemill Market"
          ],
          [
           "Chan Chala Night Market"
          ],
          [
           "Wat Phra Singh"
          ],
          [
           "Wat Phra Singh"
          ],
          [
           "Wat Phra Singh"
          ],
          [
           "Gurdwara Siri Guru Singh Sabha (Wat Sikh)"
          ],
          [
           "Gurdwara Siri Guru Singh Sabha (Wat Sikh)"
          ],
          [
           "Wat Nuan Chan"
          ],
          [
           "Samutprakan Crocodile Farm and Zoo"
          ],
          [
           "Samutprakan Crocodile Farm and Zoo"
          ],
          [
           "Samui Crocodile Farm"
          ],
          [
           "The Wora Spa Hua Hin"
          ],
          [
           "The Wora Spa Hua Hin"
          ],
          [
           "Wat Don Tum"
          ]
         ],
         "hovertemplate": "place_name=%{x}<br>predicted_score=%{y}<br>location_name=%{customdata[0]}<extra></extra>",
         "legendgroup": "Chai Nat",
         "marker": {
          "color": "#FF6692",
          "symbol": "circle"
         },
         "mode": "markers",
         "name": "Chai Nat",
         "showlegend": true,
         "type": "scattergl",
         "x": [
          "Chai Nat",
          "Chai Nat",
          "Chai Nat",
          "Chai Nat",
          "Chai Nat",
          "Chai Nat",
          "Chai Nat",
          "Chai Nat",
          "Chai Nat",
          "Chai Nat",
          "Chai Nat",
          "Chai Nat",
          "Chai Nat",
          "Chai Nat",
          "Chai Nat",
          "Chai Nat",
          "Chai Nat",
          "Chai Nat",
          "Chai Nat",
          "Chai Nat",
          "Chai Nat",
          "Chai Nat",
          "Chai Nat",
          "Chai Nat",
          "Chai Nat",
          "Chai Nat",
          "Chai Nat",
          "Chai Nat",
          "Chai Nat",
          "Chai Nat",
          "Chai Nat",
          "Chai Nat",
          "Chai Nat",
          "Chai Nat",
          "Chai Nat",
          "Chai Nat",
          "Chai Nat",
          "Chai Nat",
          "Chai Nat"
         ],
         "xaxis": "x",
         "y": [
          1.6000112,
          2.8999372,
          1.6000112,
          1.500004,
          1.9000125,
          2.8999372,
          1.500004,
          1.9000125,
          1.500004,
          2.199985,
          2.5999835,
          1.9000125,
          0.9000703,
          1.2000281,
          2.199985,
          2.199985,
          1.9000125,
          2.5999835,
          1.9000125,
          1.9000125,
          2.8999372,
          1.500004,
          0.6000495,
          1.000132,
          1.500004,
          1.9000125,
          2.5999835,
          2.199985,
          1.500004,
          2.5999835,
          1.9000125,
          2.199985,
          1.500004,
          0.3001171,
          1.000132,
          2.199985,
          2.199985,
          1.500004,
          2.199985
         ],
         "yaxis": "y"
        },
        {
         "customdata": [
          [
           "Morakot Cave (Emerald Cave)"
          ],
          [
           "Wat Jetiyakhiri (Wat Phu Thok)"
          ],
          [
           "Wat Jetiyakhiri (Wat Phu Thok)"
          ],
          [
           "Wat Phu Tok"
          ],
          [
           "Phra That Cave"
          ],
          [
           "Phra That Cave"
          ],
          [
           "Namtok Chet Sao Noi National Park"
          ],
          [
           "Namtok Chet Sao Noi National Park"
          ],
          [
           "Namtok Chet Sao Noi National Park"
          ],
          [
           "Tham Kra Sae Bridge"
          ],
          [
           "Tham Khao Luang Cave"
          ],
          [
           "Tham Khao Luang Cave"
          ],
          [
           "Tham Khao Luang Cave"
          ],
          [
           "Tham Khao Luang Cave"
          ],
          [
           "Tham Khao Luang Cave"
          ],
          [
           "Wat Khao Sukim"
          ],
          [
           "Wat Phlup"
          ],
          [
           "Wat Phlup"
          ],
          [
           "Wat Khao Banchob"
          ],
          [
           "Mai Hua Takhe Market"
          ],
          [
           "Market Village HuaHin"
          ],
          [
           "Cicada Market"
          ],
          [
           "Cicada Market"
          ],
          [
           "Tamarind Market"
          ],
          [
           "Tamarind Market"
          ],
          [
           "Tamarind Market"
          ],
          [
           "Hua Hin Sam Phan Nam Floating Market"
          ],
          [
           "Hua Hin Sam Phan Nam Floating Market"
          ],
          [
           "Hua Hin Sam Phan Nam Floating Market"
          ],
          [
           "Chatchai Market"
          ],
          [
           "Chatchai Market"
          ],
          [
           "Chatchai Market"
          ],
          [
           "Chatchai Market"
          ],
          [
           "Hua Hin Floating Market"
          ],
          [
           "Hua Hin Beach"
          ],
          [
           "Namtok Phlio National Park"
          ],
          [
           "Namtok Phlio National Park"
          ],
          [
           "Namtok Phlio National Park"
          ],
          [
           "Namtok Ngao National Park"
          ],
          [
           "Namtok Ngao National Park"
          ],
          [
           "Namtok Yong National Park"
          ],
          [
           "Namtok Yong National Park"
          ],
          [
           "Namtok Yong National Park"
          ],
          [
           "Phra Nang Cave"
          ],
          [
           "Khao Yoi Cave"
          ],
          [
           "Khao Mai Kaew Cave"
          ],
          [
           "Khao Mai Kaew Cave"
          ],
          [
           "Khao Luk Chang Bat Cave"
          ],
          [
           "Krok E-Dok Waterfall"
          ],
          [
           "Wat Phra Phutthabat Tak Pha"
          ],
          [
           "Wat Khao Phra Phutthabat Bang Sai"
          ],
          [
           "Khao Sam Roi Yot National Park"
          ],
          [
           "Khao Sam Roi Yot National Park"
          ],
          [
           "Khao Khitchakut National Park"
          ],
          [
           "Khao Khitchakut National Park"
          ],
          [
           "Khao Khitchakut National Park"
          ],
          [
           "Khao Luang National Park"
          ],
          [
           "Khao Luang National Park"
          ],
          [
           "Khao Phra Thaeo National Park"
          ],
          [
           "Khao Phanom Bencha National Park"
          ],
          [
           "Khao Phanom Bencha National Park"
          ],
          [
           "Wat Pra Dhat Pha-Ngao"
          ],
          [
           "Wat Pha Sorn Kaew"
          ],
          [
           "Haad Yao Beach"
          ],
          [
           "Sea Farming Demonstration Unit"
          ],
          [
           "Sub Lek Reservoir"
          ],
          [
           "Namtok Ton Nga Chang"
          ],
          [
           "Namtok Ton Nga Chang"
          ],
          [
           "Namtok Ton Nga Chang"
          ],
          [
           "Namtok Inthason"
          ],
          [
           "Namtok Inthason"
          ],
          [
           "Bua Thong Waterfalls (Nam Phu Chet Si)"
          ],
          [
           "Namtok Sarika waterfall"
          ],
          [
           "Sunflower Field"
          ],
          [
           "Manee Sorn Sunflower Field"
          ],
          [
           "Manee Sorn Sunflower Field"
          ],
          [
           "Manee Sorn Sunflower Field"
          ],
          [
           "Sunflower Field"
          ],
          [
           "Sunflower Field"
          ],
          [
           "Sunflower Field"
          ],
          [
           "Khao Chin Lae Sunflower Field"
          ],
          [
           "Khao Jeen Lae Sunflower Field"
          ],
          [
           "Wat Tham Chiang Dao Temple"
          ],
          [
           "Wat Tham Chiang Dao Temple"
          ],
          [
           "Wat Tham Chiang Dao Temple"
          ],
          [
           "Wat Tham Chiang Dao Temple"
          ],
          [
           "Chiang Dao Cave"
          ],
          [
           "Chiang Dao Cave"
          ],
          [
           "Cave Dao"
          ],
          [
           "Than Sadet Waterfall National Park"
          ],
          [
           "Hat Sadet Beach"
          ],
          [
           "Hat Sadet Beach"
          ],
          [
           "Tha Sadet Market"
          ],
          [
           "Huai Rap Sadet Waterfall"
          ],
          [
           "Huai Rap Sadet Waterfall"
          ],
          [
           "Pha Hi Village"
          ],
          [
           "Pha Hi Village"
          ],
          [
           "Phra Phutthanirokhantarai Chaiwat Chaturathit"
          ],
          [
           "Wat Phra Phuttha Saeng Tham"
          ],
          [
           "Wat Phuttha Chaiyo"
          ],
          [
           "Phra That Kong Khao Noi"
          ],
          [
           "Phra That Kong Khao Noi"
          ],
          [
           "Wat Phra That Mae Chedi"
          ],
          [
           "Tha Maharaj"
          ],
          [
           "Wat Tha Ka Rong Floating Market"
          ],
          [
           "Wat Tha Ka Rong Floating Market"
          ],
          [
           "Tha Tien Market"
          ],
          [
           "Ton Chong Fa Waterfall"
          ],
          [
           "Ton Chong Fa Waterfall"
          ],
          [
           "Tan Massage"
          ],
          [
           "Kasem Van Taxi Bangkok"
          ],
          [
           "Kasem Store"
          ],
          [
           "Kasem Store"
          ],
          [
           "Thung Khai Botanical Garden"
          ],
          [
           "Thung Khai Botanical Garden"
          ],
          [
           "Cinta Garden"
          ],
          [
           "Piyamit Tunnels"
          ]
         ],
         "hovertemplate": "place_name=%{x}<br>predicted_score=%{y}<br>location_name=%{customdata[0]}<extra></extra>",
         "legendgroup": "Saraburi",
         "marker": {
          "color": "#B6E880",
          "symbol": "circle"
         },
         "mode": "markers",
         "name": "Saraburi",
         "showlegend": true,
         "type": "scattergl",
         "x": [
          "Saraburi",
          "Saraburi",
          "Saraburi",
          "Saraburi",
          "Saraburi",
          "Saraburi",
          "Saraburi",
          "Saraburi",
          "Saraburi",
          "Saraburi",
          "Saraburi",
          "Saraburi",
          "Saraburi",
          "Saraburi",
          "Saraburi",
          "Saraburi",
          "Saraburi",
          "Saraburi",
          "Saraburi",
          "Saraburi",
          "Saraburi",
          "Saraburi",
          "Saraburi",
          "Saraburi",
          "Saraburi",
          "Saraburi",
          "Saraburi",
          "Saraburi",
          "Saraburi",
          "Saraburi",
          "Saraburi",
          "Saraburi",
          "Saraburi",
          "Saraburi",
          "Saraburi",
          "Saraburi",
          "Saraburi",
          "Saraburi",
          "Saraburi",
          "Saraburi",
          "Saraburi",
          "Saraburi",
          "Saraburi",
          "Saraburi",
          "Saraburi",
          "Saraburi",
          "Saraburi",
          "Saraburi",
          "Saraburi",
          "Saraburi",
          "Saraburi",
          "Saraburi",
          "Saraburi",
          "Saraburi",
          "Saraburi",
          "Saraburi",
          "Saraburi",
          "Saraburi",
          "Saraburi",
          "Saraburi",
          "Saraburi",
          "Saraburi",
          "Saraburi",
          "Saraburi",
          "Saraburi",
          "Saraburi",
          "Saraburi",
          "Saraburi",
          "Saraburi",
          "Saraburi",
          "Saraburi",
          "Saraburi",
          "Saraburi",
          "Saraburi",
          "Saraburi",
          "Saraburi",
          "Saraburi",
          "Saraburi",
          "Saraburi",
          "Saraburi",
          "Saraburi",
          "Saraburi",
          "Saraburi",
          "Saraburi",
          "Saraburi",
          "Saraburi",
          "Saraburi",
          "Saraburi",
          "Saraburi",
          "Saraburi",
          "Saraburi",
          "Saraburi",
          "Saraburi",
          "Saraburi",
          "Saraburi",
          "Saraburi",
          "Saraburi",
          "Saraburi",
          "Saraburi",
          "Saraburi",
          "Saraburi",
          "Saraburi",
          "Saraburi",
          "Saraburi",
          "Saraburi",
          "Saraburi",
          "Saraburi",
          "Saraburi",
          "Saraburi",
          "Saraburi",
          "Saraburi",
          "Saraburi",
          "Saraburi",
          "Saraburi",
          "Saraburi",
          "Saraburi",
          "Saraburi"
         ],
         "xaxis": "x",
         "y": [
          2.8999372,
          2.8999372,
          0.9000703,
          1.500004,
          2.8999372,
          1.2000281,
          1.500004,
          1.6000112,
          2.8999372,
          0.9000703,
          2.8999372,
          0.9000703,
          1.9000125,
          2.5999835,
          1.9000125,
          2.5999835,
          2.199985,
          2.8999372,
          2.8999372,
          1.9000125,
          2.199985,
          1.500004,
          1.500004,
          2.5999835,
          1.2000281,
          2.000011,
          1.000132,
          0.3001171,
          1.000132,
          1.2000281,
          2.199985,
          1.500004,
          1.2000281,
          2.5999835,
          2.2999744,
          2.8999372,
          1.6000112,
          2.8999372,
          1.6000112,
          1.500004,
          2.199985,
          1.6000112,
          1.2000281,
          1.2000281,
          2.199985,
          1.500004,
          2.8999372,
          1.500004,
          1.9000125,
          2.8999372,
          2.2999744,
          1.500004,
          2.199985,
          1.500004,
          1.2000281,
          1.2000281,
          2.199985,
          1.6000112,
          2.2999744,
          2.8999372,
          2.8999372,
          2.8999372,
          2.8999372,
          1.2000281,
          2.5999835,
          1.2000281,
          2.8999372,
          2.5999835,
          1.500004,
          1.3000503,
          1.6000112,
          2.199985,
          2.5999835,
          2.199985,
          1.6000112,
          1.500004,
          2.8999372,
          2.199985,
          2.5999835,
          2.8999372,
          0.9000703,
          1.9000125,
          1.2000281,
          2.5999835,
          2.2999744,
          2.8999372,
          2.8999372,
          1.9000125,
          1.6000112,
          2.5999835,
          2.199985,
          1.000132,
          1.2000281,
          2.5999835,
          2.199985,
          2.5999835,
          1.2000281,
          1.9000125,
          1.9000125,
          2.5999835,
          2.2999744,
          1.9000125,
          1.500004,
          1.2000281,
          2.8999372,
          1.2000281,
          2.199985,
          1.500004,
          1.500004,
          1.500004,
          1.500004,
          1.2000281,
          1.2000281,
          2.199985,
          0.9000703,
          0.9000703,
          1.500004
         ],
         "yaxis": "y"
        },
        {
         "customdata": [
          [
           "Khoa Yai and Beyond"
          ],
          [
           "Khoa Yai and Beyond"
          ],
          [
           "Primo Piazza Khao Yai"
          ],
          [
           "Primo Piazza Khao Yai"
          ],
          [
           "Haew Narok Waterfall"
          ],
          [
           "Khao Yai Floating Market"
          ],
          [
           "Nang Rong Waterfalls"
          ],
          [
           "Nang Rong Waterfalls"
          ],
          [
           "Lam Nang Rong Dam"
          ],
          [
           "Namtok Huai Rong Waterfall"
          ],
          [
           "Wat Tham Phra"
          ],
          [
           "Wat Tham Phra"
          ],
          [
           "Wat Tham Phra"
          ],
          [
           "Wat Jula Manee"
          ],
          [
           "Phuttha Utthayan Wat Pa Dong Rai"
          ],
          [
           "Puttha Utthayan and Pra Mongkol Ming Muang"
          ],
          [
           "Puttha Utthayan and Pra Mongkol Ming Muang"
          ],
          [
           "Ganesha Park"
          ],
          [
           "KBank Siam Pic Ganesha"
          ],
          [
           "Dan’s Collections"
          ],
          [
           "Bamboo Grove - Chulapornwararam Temple"
          ],
          [
           "Bamboo Grove - Chulapornwararam Temple"
          ],
          [
           "Wat Pathum Wanaram"
          ],
          [
           "Bhumibol Bridge (Industrial Ring Road Bridge)"
          ],
          [
           "Bhumibol Bridge (Industrial Ring Road Bridge)"
          ],
          [
           "Bhumibol Bridge (Industrial Ring Road Bridge)"
          ],
          [
           "Klong Thom Center"
          ],
          [
           "Klong Thom Center"
          ],
          [
           "Klong Thom Center"
          ],
          [
           "International Tsunami Museum"
          ],
          [
           "Ban Chiang Museum"
          ],
          [
           "Ban Chiang Museum"
          ],
          [
           "Ban Tha Chang spring"
          ],
          [
           "Ban Tha Chang spring"
          ],
          [
           "Nakhon Si Thammarat City Pillar Shrine"
          ],
          [
           "Nakhon Si Thammarat City Pillar Shrine"
          ],
          [
           "Wat Mongkol Nimit"
          ],
          [
           "Wat Mongkol Nimit"
          ],
          [
           "Wat Thawon Wararam"
          ],
          [
           "Wat Phu Thong Thep Nimit"
          ],
          [
           "Wat Tham Nimit"
          ],
          [
           "Black rock viewpoint"
          ],
          [
           "Black rock viewpoint"
          ],
          [
           "Huai Krathing Reservoir"
          ],
          [
           "Huai Krathing Reservoir"
          ],
          [
           "Huai Luang Reservoir"
          ],
          [
           "Huai Pa Daeng Reservoir"
          ],
          [
           "Huai Pa Daeng Reservoir"
          ],
          [
           "Huai Pa Daeng Reservoir"
          ],
          [
           "Nature Trails Ang Ka"
          ],
          [
           "Nature Trails Ang Ka"
          ],
          [
           "Doi Ang Khang"
          ],
          [
           "Heo Narok Waterfall"
          ],
          [
           "Heo Sin Chai Cave"
          ],
          [
           "Lord Buddha's Footprints"
          ],
          [
           "Buddha’s Footprint Temple"
          ],
          [
           "Buddha’s Footprint Temple"
          ],
          [
           "Buddha’s Footprint Temple"
          ]
         ],
         "hovertemplate": "place_name=%{x}<br>predicted_score=%{y}<br>location_name=%{customdata[0]}<extra></extra>",
         "legendgroup": "Nakhon Nayok",
         "marker": {
          "color": "#FF97FF",
          "symbol": "circle"
         },
         "mode": "markers",
         "name": "Nakhon Nayok",
         "showlegend": true,
         "type": "scattergl",
         "x": [
          "Nakhon Nayok",
          "Nakhon Nayok",
          "Nakhon Nayok",
          "Nakhon Nayok",
          "Nakhon Nayok",
          "Nakhon Nayok",
          "Nakhon Nayok",
          "Nakhon Nayok",
          "Nakhon Nayok",
          "Nakhon Nayok",
          "Nakhon Nayok",
          "Nakhon Nayok",
          "Nakhon Nayok",
          "Nakhon Nayok",
          "Nakhon Nayok",
          "Nakhon Nayok",
          "Nakhon Nayok",
          "Nakhon Nayok",
          "Nakhon Nayok",
          "Nakhon Nayok",
          "Nakhon Nayok",
          "Nakhon Nayok",
          "Nakhon Nayok",
          "Nakhon Nayok",
          "Nakhon Nayok",
          "Nakhon Nayok",
          "Nakhon Nayok",
          "Nakhon Nayok",
          "Nakhon Nayok",
          "Nakhon Nayok",
          "Nakhon Nayok",
          "Nakhon Nayok",
          "Nakhon Nayok",
          "Nakhon Nayok",
          "Nakhon Nayok",
          "Nakhon Nayok",
          "Nakhon Nayok",
          "Nakhon Nayok",
          "Nakhon Nayok",
          "Nakhon Nayok",
          "Nakhon Nayok",
          "Nakhon Nayok",
          "Nakhon Nayok",
          "Nakhon Nayok",
          "Nakhon Nayok",
          "Nakhon Nayok",
          "Nakhon Nayok",
          "Nakhon Nayok",
          "Nakhon Nayok",
          "Nakhon Nayok",
          "Nakhon Nayok",
          "Nakhon Nayok",
          "Nakhon Nayok",
          "Nakhon Nayok",
          "Nakhon Nayok",
          "Nakhon Nayok",
          "Nakhon Nayok",
          "Nakhon Nayok"
         ],
         "xaxis": "x",
         "y": [
          0.3001171,
          1.500004,
          1.6000112,
          1.500004,
          2.199985,
          0.3001171,
          1.6000112,
          1.2000281,
          1.2000281,
          1.9000125,
          1.9000125,
          1.6000112,
          0.3001171,
          2.5999835,
          1.2000281,
          2.5999835,
          1.9000125,
          2.199985,
          1.2000281,
          2.8999372,
          1.500004,
          1.2000281,
          2.199985,
          1.2000281,
          1.9000125,
          2.5999835,
          1.2000281,
          1.500004,
          1.500004,
          1.500004,
          2.199985,
          1.500004,
          1.9000125,
          0.6000495,
          1.9000125,
          1.6000112,
          1.2000281,
          1.9000125,
          1.9000125,
          1.500004,
          2.199985,
          2.8999372,
          2.8999372,
          1.500004,
          1.500004,
          0.9000703,
          2.2999744,
          2.5999835,
          1.2000281,
          1.6000112,
          1.500004,
          2.199985,
          2.8999372,
          2.199985,
          1.9000125,
          0.9000703,
          1.2000281,
          1.9000125
         ],
         "yaxis": "y"
        },
        {
         "customdata": [
          [
           "Wat Thewa Sangkharam"
          ],
          [
           "Wat Khiriwong"
          ],
          [
           "Wat Khiriwong"
          ],
          [
           "Wat Khuha Sawan"
          ],
          [
           "Wat Khuha Sawan"
          ],
          [
           "Wat Chom Sawan"
          ],
          [
           "Makkha Health & Spa (Ancient House)"
          ],
          [
           "Makkha Health & Spa (Ancient House)"
          ],
          [
           "Makkha Health & Spa (Ancient House)"
          ],
          [
           "Tham Khao Wang Thong"
          ],
          [
           "Tham Khao Wang Thong"
          ],
          [
           "Tham Khao Wang Thong"
          ],
          [
           "Wat Tham Saeng Phet"
          ],
          [
           "Wat Tham Saeng Phet"
          ],
          [
           "Wat Tham Mankhon Thong"
          ],
          [
           "Rim Moei Market"
          ],
          [
           "Rim Moei Market"
          ],
          [
           "Ban Singha Tha"
          ],
          [
           "Wat Khae"
          ],
          [
           "Wat Thewarup Songtham"
          ],
          [
           "Wat Thewarup Songtham"
          ],
          [
           "Bat Cave at Wat Khao Chong Pran"
          ],
          [
           "Bat Cave at Wat Khao Chong Pran"
          ],
          [
           "Bat Cave at Wat Khao Chong Pran"
          ],
          [
           "Shrine of the Goddess Tubtim"
          ],
          [
           "Shrine of the Goddess Tubtim"
          ],
          [
           "Shrine of the Goddess Tubtim"
          ],
          [
           "Goddess Gentlemen's Lounge And A GoGo Bar"
          ],
          [
           "Goddess Gentlemen's Lounge And A GoGo Bar"
          ],
          [
           "Bung Boraphet"
          ],
          [
           "Bung Boraphet"
          ],
          [
           "Bung Boraphet"
          ],
          [
           "Nakhon Sawan Tower"
          ],
          [
           "Nakhon Sawan Tower"
          ],
          [
           "Paradise Park"
          ],
          [
           "Paradise Park"
          ],
          [
           "Chiang Saen National Museum"
          ],
          [
           "Chiang Saen National Museum"
          ],
          [
           "Khlong Saen Saep"
          ],
          [
           "Khlong Saen Saep"
          ],
          [
           "Khlong Saen Saep Boat Service"
          ],
          [
           "Khlong Saen Saep Boat Service"
          ],
          [
           "Khlong Saen Saep Boat Service"
          ],
          [
           "Chiang Saen"
          ],
          [
           "The Wang Saen Suk Hell Garden"
          ],
          [
           "The Wang Saen Suk Hell Garden"
          ],
          [
           "The Wang Saen Suk Hell Garden"
          ],
          [
           "The Wang Saen Suk Hell Garden"
          ],
          [
           "Bang Saen 2 and Hat Chom Thong"
          ],
          [
           "Tham Luang Nang Non"
          ],
          [
           "Mae Kampong Village"
          ],
          [
           "Mae Kampong Village"
          ],
          [
           "Laem Mae Phim Beach"
          ],
          [
           "Mueang On Cave"
          ],
          [
           "Mueang On Cave"
          ],
          [
           "Mae Hong Son Loop"
          ],
          [
           "Mae Hong Son Loop"
          ],
          [
           "Moo Ban Rak Thai (Mae Aw)"
          ],
          [
           "Mae Ramphueng Beach"
          ],
          [
           "Mae Ramphueng Beach"
          ],
          [
           "Mae Ramphueng Beach"
          ],
          [
           "Doi Mae Salong"
          ],
          [
           "Chedi Phra Borommasaririkkathat Khao Kho"
          ],
          [
           "Khao Wang (Phra Nakhon Khiri Historical Park)"
          ],
          [
           "Khao Wang (Phra Nakhon Khiri Historical Park)"
          ],
          [
           "Khao Wang (Phra Nakhon Khiri Historical Park)"
          ],
          [
           "Orchid Garden Khaolak"
          ],
          [
           "Tham Khao Bin"
          ],
          [
           "Tha Pai Hot Spring"
          ],
          [
           "Cheow Lan Dam (Ratchaprapa Dam)"
          ],
          [
           "Thai Song Dam Tribal Villages"
          ],
          [
           "Lam Takhong Dam"
          ],
          [
           "Wat A-Hong Silawas"
          ],
          [
           "Wat Khao Din"
          ],
          [
           "Wat Nak Prok"
          ],
          [
           "Siri-Wattana Market / Tha-Nin Market"
          ],
          [
           "Siri-Wattana Market / Tha-Nin Market"
          ],
          [
           "Soi Sawan Waterfall"
          ],
          [
           "Nakorn Sawan Collection"
          ],
          [
           "Nakorn Sawan Collection"
          ],
          [
           "Nakorn Sawan Collection"
          ],
          [
           "Phra Maha Chedi Si Rajakarn"
          ],
          [
           "Phra Maha Chedi Si Rajakarn"
          ],
          [
           "Phra Maha Chedi Si Rajakarn"
          ],
          [
           "Chao Praya River"
          ],
          [
           "Chao Praya River"
          ],
          [
           "Chao Praya River"
          ],
          [
           "Chao Praya River"
          ],
          [
           "Hin Ta & Hin Yai Rocks"
          ],
          [
           "Hua Hin Cab"
          ],
          [
           "Wat Khao Rang Samakkhitham"
          ],
          [
           "Chao Mae Kuan Im Shrine"
          ],
          [
           "Ta Pha Dean Shrine"
          ],
          [
           "Ta Pha Dean Shrine"
          ]
         ],
         "hovertemplate": "place_name=%{x}<br>predicted_score=%{y}<br>location_name=%{customdata[0]}<extra></extra>",
         "legendgroup": "Nakhon Sawan",
         "marker": {
          "color": "#FECB52",
          "symbol": "circle"
         },
         "mode": "markers",
         "name": "Nakhon Sawan",
         "showlegend": true,
         "type": "scattergl",
         "x": [
          "Nakhon Sawan",
          "Nakhon Sawan",
          "Nakhon Sawan",
          "Nakhon Sawan",
          "Nakhon Sawan",
          "Nakhon Sawan",
          "Nakhon Sawan",
          "Nakhon Sawan",
          "Nakhon Sawan",
          "Nakhon Sawan",
          "Nakhon Sawan",
          "Nakhon Sawan",
          "Nakhon Sawan",
          "Nakhon Sawan",
          "Nakhon Sawan",
          "Nakhon Sawan",
          "Nakhon Sawan",
          "Nakhon Sawan",
          "Nakhon Sawan",
          "Nakhon Sawan",
          "Nakhon Sawan",
          "Nakhon Sawan",
          "Nakhon Sawan",
          "Nakhon Sawan",
          "Nakhon Sawan",
          "Nakhon Sawan",
          "Nakhon Sawan",
          "Nakhon Sawan",
          "Nakhon Sawan",
          "Nakhon Sawan",
          "Nakhon Sawan",
          "Nakhon Sawan",
          "Nakhon Sawan",
          "Nakhon Sawan",
          "Nakhon Sawan",
          "Nakhon Sawan",
          "Nakhon Sawan",
          "Nakhon Sawan",
          "Nakhon Sawan",
          "Nakhon Sawan",
          "Nakhon Sawan",
          "Nakhon Sawan",
          "Nakhon Sawan",
          "Nakhon Sawan",
          "Nakhon Sawan",
          "Nakhon Sawan",
          "Nakhon Sawan",
          "Nakhon Sawan",
          "Nakhon Sawan",
          "Nakhon Sawan",
          "Nakhon Sawan",
          "Nakhon Sawan",
          "Nakhon Sawan",
          "Nakhon Sawan",
          "Nakhon Sawan",
          "Nakhon Sawan",
          "Nakhon Sawan",
          "Nakhon Sawan",
          "Nakhon Sawan",
          "Nakhon Sawan",
          "Nakhon Sawan",
          "Nakhon Sawan",
          "Nakhon Sawan",
          "Nakhon Sawan",
          "Nakhon Sawan",
          "Nakhon Sawan",
          "Nakhon Sawan",
          "Nakhon Sawan",
          "Nakhon Sawan",
          "Nakhon Sawan",
          "Nakhon Sawan",
          "Nakhon Sawan",
          "Nakhon Sawan",
          "Nakhon Sawan",
          "Nakhon Sawan",
          "Nakhon Sawan",
          "Nakhon Sawan",
          "Nakhon Sawan",
          "Nakhon Sawan",
          "Nakhon Sawan",
          "Nakhon Sawan",
          "Nakhon Sawan",
          "Nakhon Sawan",
          "Nakhon Sawan",
          "Nakhon Sawan",
          "Nakhon Sawan",
          "Nakhon Sawan",
          "Nakhon Sawan",
          "Nakhon Sawan",
          "Nakhon Sawan",
          "Nakhon Sawan",
          "Nakhon Sawan",
          "Nakhon Sawan",
          "Nakhon Sawan"
         ],
         "xaxis": "x",
         "y": [
          1.9000125,
          2.2999744,
          1.2000281,
          2.8999372,
          1.9000125,
          1.9000125,
          2.8999372,
          1.500004,
          1.500004,
          2.8999372,
          1.500004,
          1.500004,
          1.2000281,
          0.9000703,
          1.9000125,
          1.6000112,
          1.2000281,
          2.000011,
          1.2000281,
          2.5999835,
          1.500004,
          2.199985,
          1.500004,
          2.5999835,
          2.199985,
          1.7000102,
          2.199985,
          1.7000102,
          1.500004,
          2.199985,
          1.9000125,
          2.199985,
          1.2000281,
          1.500004,
          2.8999372,
          1.9000125,
          1.9000125,
          2.5999835,
          2.199985,
          1.9000125,
          1.2000281,
          1.500004,
          1.7000102,
          1.9000125,
          1.2000281,
          2.199985,
          1.500004,
          1.9000125,
          0.9000703,
          2.5999835,
          2.5999835,
          0.9000703,
          1.2000281,
          1.9000125,
          2.8999372,
          2.8999372,
          2.199985,
          1.9000125,
          2.199985,
          1.2000281,
          1.9000125,
          1.500004,
          1.3000503,
          2.5999835,
          2.8999372,
          1.000132,
          0.9000703,
          1.500004,
          2.8999372,
          1.500004,
          1.6000112,
          1.9000125,
          2.5999835,
          1.2000281,
          1.500004,
          1.9000125,
          1.2000281,
          1.6000112,
          2.199985,
          1.000132,
          1.3000503,
          2.8999372,
          2.8999372,
          1.9000125,
          1.2000281,
          2.8999372,
          1.9000125,
          1.500004,
          2.5999835,
          2.8999372,
          2.5999835,
          2.199985,
          1.9000125,
          0.9000703
         ],
         "yaxis": "y"
        },
        {
         "customdata": [
          [
           "Thung Yai Naresuan Huai Kha Khaeng Wildlife Sanctuary"
          ],
          [
           "Thungyai - Huai Kha Khaeng Wildlife Sanctuaries"
          ],
          [
           "Thungyai - Huai Kha Khaeng Wildlife Sanctuaries"
          ],
          [
           "Tham Hup Pa Tat Cave"
          ],
          [
           "Khao Sok Lake"
          ],
          [
           "Khao Sok Lake"
          ],
          [
           "Khao Sok Lake"
          ],
          [
           "Khao Sam Muk"
          ],
          [
           "Phu Thap Boek"
          ],
          [
           "Phu Thap Boek"
          ],
          [
           "Ngam Tae"
          ],
          [
           "Thap Lan National Park"
          ],
          [
           "Khao Ra"
          ],
          [
           "Khao Ra"
          ],
          [
           "Wat Phu Khao Noi"
          ],
          [
           "Wat Phu Khao Noi"
          ],
          [
           "The Hindad Hot Spring"
          ],
          [
           "The Hindad Hot Spring"
          ],
          [
           "The Hindad Hot Spring"
          ],
          [
           "Sakae Krang River"
          ],
          [
           "Khao Kradong Forest Park"
          ],
          [
           "Ban Thung Hong"
          ],
          [
           "Ban Thung Hong"
          ],
          [
           "Similan Dive Center"
          ],
          [
           "Similan Dive Center"
          ],
          [
           "Similan Dive Center"
          ],
          [
           "Ao Nang Walking Street"
          ],
          [
           "Ao Nang Walking Street"
          ],
          [
           "Wat Sangkat Rattana Khiri"
          ],
          [
           "Wat Sangkat Rattana Khiri"
          ],
          [
           "Phu Ruea National Park"
          ],
          [
           "Phu Ruea National Park"
          ],
          [
           "Phu Ruea National Park"
          ],
          [
           "Wat Somdet Phu Ruea Ming Mueang"
          ],
          [
           "Wat Somdet Phu Ruea Ming Mueang"
          ],
          [
           "Mae Yen Waterfalls"
          ],
          [
           "Phaeng Waterfall"
          ],
          [
           "Phaeng Waterfall"
          ],
          [
           "Paradise Waterfall"
          ],
          [
           "Paradise Waterfall"
          ],
          [
           "Paradise Waterfall"
          ],
          [
           "Waterfall Party"
          ],
          [
           "Kaeng So Pha Waterfall"
          ],
          [
           "Kaeng So Pha Waterfall"
          ],
          [
           "Phu Pha Man Bats Cave"
          ],
          [
           "Phu Pha Man Bats Cave"
          ],
          [
           "Phu Pha Phet Caves"
          ],
          [
           "Ao Wai"
          ],
          [
           "Ao Wai"
          ],
          [
           "Ao Wai"
          ],
          [
           "Tang Kuan Hill"
          ],
          [
           "Wat Kuan Im"
          ],
          [
           "Wat Kuan Im"
          ],
          [
           "Kuan Yim Shrine (Thian Fa Foundation)"
          ],
          [
           "Kuan Yim Shrine (Thian Fa Foundation)"
          ],
          [
           "Khao Tang Kuan"
          ],
          [
           "Ko Si Chang Island"
          ],
          [
           "Ko Si Chang Island"
          ],
          [
           "Chae Son National Park"
          ],
          [
           "Chae Son National Park"
          ],
          [
           "Chae Son National Park"
          ],
          [
           "Wat Phra That Chae Haeng"
          ],
          [
           "Wat Pa Tueng"
          ],
          [
           "Wat Pa Tueng"
          ],
          [
           "Hang Tueng Farm"
          ],
          [
           "Hang Tueng Farmstay And Workshop Chiang Mai"
          ],
          [
           "Hang Tueng Farmstay And Workshop Chiang Mai"
          ],
          [
           "Rong Je Sai Tee Hook Tueng"
          ],
          [
           "Rong Je Sai Tee Hook Tueng"
          ],
          [
           "Wat Nong Ao"
          ],
          [
           "Wat Nong Ao"
          ],
          [
           "Mae Klong Railway Market (Hoop Rom Market)"
          ],
          [
           "Mae Klong Railway Market (Hoop Rom Market)"
          ]
         ],
         "hovertemplate": "place_name=%{x}<br>predicted_score=%{y}<br>location_name=%{customdata[0]}<extra></extra>",
         "legendgroup": "Uthai Thani",
         "marker": {
          "color": "#636efa",
          "symbol": "circle"
         },
         "mode": "markers",
         "name": "Uthai Thani",
         "showlegend": true,
         "type": "scattergl",
         "x": [
          "Uthai Thani",
          "Uthai Thani",
          "Uthai Thani",
          "Uthai Thani",
          "Uthai Thani",
          "Uthai Thani",
          "Uthai Thani",
          "Uthai Thani",
          "Uthai Thani",
          "Uthai Thani",
          "Uthai Thani",
          "Uthai Thani",
          "Uthai Thani",
          "Uthai Thani",
          "Uthai Thani",
          "Uthai Thani",
          "Uthai Thani",
          "Uthai Thani",
          "Uthai Thani",
          "Uthai Thani",
          "Uthai Thani",
          "Uthai Thani",
          "Uthai Thani",
          "Uthai Thani",
          "Uthai Thani",
          "Uthai Thani",
          "Uthai Thani",
          "Uthai Thani",
          "Uthai Thani",
          "Uthai Thani",
          "Uthai Thani",
          "Uthai Thani",
          "Uthai Thani",
          "Uthai Thani",
          "Uthai Thani",
          "Uthai Thani",
          "Uthai Thani",
          "Uthai Thani",
          "Uthai Thani",
          "Uthai Thani",
          "Uthai Thani",
          "Uthai Thani",
          "Uthai Thani",
          "Uthai Thani",
          "Uthai Thani",
          "Uthai Thani",
          "Uthai Thani",
          "Uthai Thani",
          "Uthai Thani",
          "Uthai Thani",
          "Uthai Thani",
          "Uthai Thani",
          "Uthai Thani",
          "Uthai Thani",
          "Uthai Thani",
          "Uthai Thani",
          "Uthai Thani",
          "Uthai Thani",
          "Uthai Thani",
          "Uthai Thani",
          "Uthai Thani",
          "Uthai Thani",
          "Uthai Thani",
          "Uthai Thani",
          "Uthai Thani",
          "Uthai Thani",
          "Uthai Thani",
          "Uthai Thani",
          "Uthai Thani",
          "Uthai Thani",
          "Uthai Thani",
          "Uthai Thani",
          "Uthai Thani"
         ],
         "xaxis": "x",
         "y": [
          2.199985,
          1.9000125,
          1.2000281,
          1.9000125,
          1.6000112,
          2.000011,
          1.500004,
          1.3000503,
          2.199985,
          1.500004,
          2.8999372,
          1.9000125,
          1.2000281,
          2.8999372,
          2.199985,
          2.8999372,
          1.2000281,
          2.5999835,
          1.6000112,
          2.199985,
          2.199985,
          2.199985,
          0.9000703,
          2.8999372,
          2.5999835,
          1.500004,
          1.2000281,
          2.5999835,
          0.9000703,
          0.9000703,
          1.2000281,
          1.9000125,
          1.500004,
          1.9000125,
          1.9000125,
          1.2000281,
          1.9000125,
          1.2000281,
          1.9000125,
          1.500004,
          1.6000112,
          0.3001171,
          1.000132,
          0.9000703,
          2.5999835,
          1.500004,
          0.9000703,
          2.8999372,
          2.199985,
          2.199985,
          1.2000281,
          1.9000125,
          1.500004,
          1.2000281,
          0.9000703,
          2.8999372,
          2.8999372,
          2.199985,
          1.500004,
          2.199985,
          2.199985,
          2.8999372,
          2.8999372,
          2.8999372,
          2.8999372,
          2.199985,
          2.199985,
          2.199985,
          1.500004,
          2.8999372,
          2.8999372,
          1.2000281,
          2.5999835
         ],
         "yaxis": "y"
        },
        {
         "customdata": [
          [
           "Kamphaeng Phet Historical Park"
          ],
          [
           "Kamphaeng Phet Historical Park"
          ],
          [
           "Wat Chiang Man"
          ],
          [
           "Wat Chiang Man"
          ],
          [
           "Salawin National Park"
          ],
          [
           "Mae Ping National Park"
          ],
          [
           "Mae Ping National Park"
          ],
          [
           "Mae Ping National Park"
          ],
          [
           "Huai Nam Dang National Park"
          ],
          [
           "Huai Nam Dang National Park"
          ],
          [
           "Huai Nam Dang National Park"
          ],
          [
           "Phra Ruang Hot Springs"
          ],
          [
           "Pong Phra Bat Hot spring"
          ],
          [
           "The Kamphang Phet National Museum"
          ],
          [
           "The Kamphang Phet National Museum"
          ],
          [
           "The Kamphang Phet National Museum"
          ],
          [
           "Khlong Lan National Park"
          ],
          [
           "Khlong Lan National Park"
          ],
          [
           "Wat Phra Si Ariyabot"
          ],
          [
           "Wat Trai Phum"
          ],
          [
           "Amulet Market"
          ],
          [
           "Buddhist Votive Tablets Learning Center"
          ],
          [
           "Buddhist Votive Tablets Learning Center"
          ],
          [
           "Doi Pui Mong Hill Tribe Village"
          ],
          [
           "Doi Pui Mong Hill Tribe Village"
          ],
          [
           "Doi Pui Mong Hill Tribe Village"
          ],
          [
           "Hill Tribe Museum"
          ],
          [
           "Ban I Mat-I Sai Hill Tribe Cultural Centre and Karen Village"
          ],
          [
           "Khlong Muang Beach"
          ]
         ],
         "hovertemplate": "place_name=%{x}<br>predicted_score=%{y}<br>location_name=%{customdata[0]}<extra></extra>",
         "legendgroup": "Kamphaeng Phet",
         "marker": {
          "color": "#EF553B",
          "symbol": "circle"
         },
         "mode": "markers",
         "name": "Kamphaeng Phet",
         "showlegend": true,
         "type": "scattergl",
         "x": [
          "Kamphaeng Phet",
          "Kamphaeng Phet",
          "Kamphaeng Phet",
          "Kamphaeng Phet",
          "Kamphaeng Phet",
          "Kamphaeng Phet",
          "Kamphaeng Phet",
          "Kamphaeng Phet",
          "Kamphaeng Phet",
          "Kamphaeng Phet",
          "Kamphaeng Phet",
          "Kamphaeng Phet",
          "Kamphaeng Phet",
          "Kamphaeng Phet",
          "Kamphaeng Phet",
          "Kamphaeng Phet",
          "Kamphaeng Phet",
          "Kamphaeng Phet",
          "Kamphaeng Phet",
          "Kamphaeng Phet",
          "Kamphaeng Phet",
          "Kamphaeng Phet",
          "Kamphaeng Phet",
          "Kamphaeng Phet",
          "Kamphaeng Phet",
          "Kamphaeng Phet",
          "Kamphaeng Phet",
          "Kamphaeng Phet",
          "Kamphaeng Phet"
         ],
         "xaxis": "x",
         "y": [
          1.500004,
          2.5999835,
          1.2000281,
          2.8999372,
          1.9000125,
          1.9000125,
          1.500004,
          2.5999835,
          1.000132,
          1.3000503,
          2.5999835,
          1.6000112,
          1.500004,
          1.2000281,
          2.8999372,
          1.9000125,
          2.8999372,
          2.5999835,
          2.8999372,
          1.3000503,
          1.7000102,
          1.500004,
          1.500004,
          1.2000281,
          1.500004,
          1.9000125,
          1.2000281,
          1.2000281,
          1.500004
         ],
         "yaxis": "y"
        },
        {
         "customdata": [
          [
           "Ramkhamhaeng National Museum"
          ],
          [
           "Ramkhamhaeng National Museum"
          ],
          [
           "Ramkhamhaeng National Park"
          ],
          [
           "Ramkhamhaeng National Park"
          ],
          [
           "Prasat Ban Prasat Sanctuary (Huay Tap Tan Ruins)"
          ],
          [
           "Wat Phan Tao"
          ],
          [
           "Wat Phan Tao"
          ],
          [
           "Wat Phan Tao"
          ],
          [
           "Wat Phan On Temple"
          ],
          [
           "Wat Phan On Temple"
          ],
          [
           "Wat Phan On Temple"
          ],
          [
           "National Park Srisatchanalai"
          ],
          [
           "Sukhothai Wintour"
          ],
          [
           "Ruen Sukhothai Massage"
          ],
          [
           "Cycling Sukhothai Bicycle Tour Thailand"
          ],
          [
           "Boon Lott's Elephant Sanctuary"
          ],
          [
           "Boon Lott's Elephant Sanctuary"
          ],
          [
           "The Sukhothai Spa"
          ],
          [
           "Wat Sa Si"
          ],
          [
           "Wat Sa Si"
          ],
          [
           "Suan Ta San"
          ],
          [
           "Ta Prachan Market"
          ],
          [
           "Thao Suranaree (Ya Mo) Monument"
          ],
          [
           "Thao Suranaree (Ya Mo) Monument"
          ],
          [
           "Wat Phra Pai Luang"
          ],
          [
           "Wat Phra Pai Luang"
          ],
          [
           "Thong Lang Beach"
          ],
          [
           "Wat Mahathat"
          ],
          [
           "Wat Mahathat"
          ],
          [
           "Wat Mahathat"
          ],
          [
           "Wat Chom Chuen"
          ],
          [
           "Wat Phra That Chom Kitti"
          ],
          [
           "Wat Phra Tat Chom Ping"
          ],
          [
           "Wat Phra Tat Chom Ping"
          ],
          [
           "Wat Phra Tat Chom Ping"
          ],
          [
           "Wat Phra Tat Chom Ping"
          ],
          [
           "Wat Phra Tat Chom Ping"
          ],
          [
           "Wat Phaya Wat"
          ],
          [
           "Wat Phaya Wat"
          ],
          [
           "Wat Phaya Wat"
          ],
          [
           "Sai Khao Waterfall"
          ],
          [
           "Huai Sai Wildlife Breeding Center"
          ],
          [
           "Huai Sai Wildlife Breeding Center"
          ],
          [
           "Phra Si Rattana Mahathat Rajworawihan Temple"
          ],
          [
           "Suwan Khiri Wong Temple(Patong Temple)"
          ],
          [
           "Si Thep Historical Park"
          ],
          [
           "Sri Thep Historical Park"
          ],
          [
           "Phimai Historical Park"
          ],
          [
           "Phimai Historical Park"
          ],
          [
           "Phimai Historical Park"
          ],
          [
           "Phimai Historical Park"
          ],
          [
           "Sathorn Pier"
          ],
          [
           "Sathorn Pier"
          ],
          [
           "Organic Agriculture Project"
          ],
          [
           "Organic Agriculture Project"
          ],
          [
           "Noppharat Thara Beach"
          ],
          [
           "Noppharat Thara Beach"
          ],
          [
           "Noppharat Thara Beach"
          ],
          [
           "Mae Ya Waterfall"
          ]
         ],
         "hovertemplate": "place_name=%{x}<br>predicted_score=%{y}<br>location_name=%{customdata[0]}<extra></extra>",
         "legendgroup": "Sukhothai",
         "marker": {
          "color": "#00cc96",
          "symbol": "circle"
         },
         "mode": "markers",
         "name": "Sukhothai",
         "showlegend": true,
         "type": "scattergl",
         "x": [
          "Sukhothai",
          "Sukhothai",
          "Sukhothai",
          "Sukhothai",
          "Sukhothai",
          "Sukhothai",
          "Sukhothai",
          "Sukhothai",
          "Sukhothai",
          "Sukhothai",
          "Sukhothai",
          "Sukhothai",
          "Sukhothai",
          "Sukhothai",
          "Sukhothai",
          "Sukhothai",
          "Sukhothai",
          "Sukhothai",
          "Sukhothai",
          "Sukhothai",
          "Sukhothai",
          "Sukhothai",
          "Sukhothai",
          "Sukhothai",
          "Sukhothai",
          "Sukhothai",
          "Sukhothai",
          "Sukhothai",
          "Sukhothai",
          "Sukhothai",
          "Sukhothai",
          "Sukhothai",
          "Sukhothai",
          "Sukhothai",
          "Sukhothai",
          "Sukhothai",
          "Sukhothai",
          "Sukhothai",
          "Sukhothai",
          "Sukhothai",
          "Sukhothai",
          "Sukhothai",
          "Sukhothai",
          "Sukhothai",
          "Sukhothai",
          "Sukhothai",
          "Sukhothai",
          "Sukhothai",
          "Sukhothai",
          "Sukhothai",
          "Sukhothai",
          "Sukhothai",
          "Sukhothai",
          "Sukhothai",
          "Sukhothai",
          "Sukhothai",
          "Sukhothai",
          "Sukhothai",
          "Sukhothai"
         ],
         "xaxis": "x",
         "y": [
          2.199985,
          0.9000703,
          0.3001171,
          2.5999835,
          1.3000503,
          1.9000125,
          0.9000703,
          1.500004,
          2.5999835,
          2.8999372,
          1.9000125,
          2.199985,
          0.9000703,
          2.199985,
          2.8999372,
          2.8999372,
          2.199985,
          1.500004,
          1.2000281,
          2.8999372,
          1.2000281,
          1.6000112,
          2.8999372,
          2.5999835,
          2.199985,
          1.6000112,
          0.9000703,
          1.6000112,
          2.2999744,
          0.6000495,
          1.6000112,
          2.199985,
          1.500004,
          2.5999835,
          2.8999372,
          1.9000125,
          2.8999372,
          2.8999372,
          2.8999372,
          2.5999835,
          2.199985,
          0.9000703,
          1.000132,
          2.199985,
          1.3000503,
          0.3001171,
          1.9000125,
          2.8999372,
          2.199985,
          2.8999372,
          1.2000281,
          1.2000281,
          1.7000102,
          0.9000703,
          2.199985,
          2.5999835,
          2.199985,
          2.5999835,
          2.8999372
         ],
         "yaxis": "y"
        },
        {
         "customdata": [
          [
           "Krung Thong Plaza"
          ],
          [
           "Krung Thong Plaza"
          ],
          [
           "Kaeng Krachan National Park"
          ],
          [
           "Kaeng Krachan Dam"
          ],
          [
           "Kaeng Loengchan"
          ],
          [
           "Kaeng Loengchan"
          ],
          [
           "Kaeng Lawa Cave"
          ],
          [
           "Kaeng Lawa Cave"
          ],
          [
           "Kaeng Lawa Cave"
          ],
          [
           "Kaeng Tana National Park"
          ],
          [
           "Kaeng Sapue"
          ],
          [
           "Kaeng Khoi Junction Railway Station"
          ],
          [
           "Phu Kradueng National Park"
          ],
          [
           "Phu Kradueng National Park"
          ],
          [
           "Phu Pha Maan National Park"
          ],
          [
           "Phu Pha Maan National Park"
          ],
          [
           "Phu Hin Rongka National Park"
          ],
          [
           "Doi Phu Kha National Park"
          ],
          [
           "Doi Phu Kha National Park"
          ],
          [
           "Doi Phu Kha National Park"
          ],
          [
           "Phu Wiang National Park"
          ],
          [
           "Phu Wiang National Park"
          ],
          [
           "Phu Wiang National Park"
          ],
          [
           "Phu Wiang National Park"
          ],
          [
           "Namtok Than Thip Forest Park"
          ],
          [
           "Oh Poi Market"
          ],
          [
           "Khao Nang Phanthurat Forest Park"
          ],
          [
           "Kaeng Krachan National Park"
          ],
          [
           "River Khwae Bridge"
          ],
          [
           "River Khwae Bridge"
          ],
          [
           "River Khwae Bridge"
          ],
          [
           "Phitsanulok Railway Station"
          ],
          [
           "Phitsanulok Railway Station"
          ],
          [
           "Phitsanulok Night Bazaar"
          ],
          [
           "Phitsanulok Night Bazaar"
          ],
          [
           "City Pillar"
          ],
          [
           "Chan Royal Palace Historical Center"
          ],
          [
           "Sgt. Maj. Thawee Folk Museum"
          ],
          [
           "Sgt. Maj. Thawee Folk Museum"
          ],
          [
           "Bangkok Folk Museum"
          ],
          [
           "Phu Sang National Park"
          ],
          [
           "Kaeng Song Waterfall"
          ],
          [
           "Sirindhorn Wararam Phu Prao Temple (Wat Phu Prao)"
          ],
          [
           "Sirindhorn Wararam Phu Prao Temple (Wat Phu Prao)"
          ],
          [
           "Sirindhorn Wararam Phu Prao Temple (Wat Phu Prao)"
          ],
          [
           "Don Chedi Monument"
          ],
          [
           "Don Chedi Monument"
          ],
          [
           "Khao Phra Yod Temple"
          ],
          [
           "Khao Phra Yod Temple"
          ],
          [
           "Wat Jed Yod"
          ],
          [
           "Wat Jed Yod"
          ]
         ],
         "hovertemplate": "place_name=%{x}<br>predicted_score=%{y}<br>location_name=%{customdata[0]}<extra></extra>",
         "legendgroup": "Phitsanulok",
         "marker": {
          "color": "#ab63fa",
          "symbol": "circle"
         },
         "mode": "markers",
         "name": "Phitsanulok",
         "showlegend": true,
         "type": "scattergl",
         "x": [
          "Phitsanulok",
          "Phitsanulok",
          "Phitsanulok",
          "Phitsanulok",
          "Phitsanulok",
          "Phitsanulok",
          "Phitsanulok",
          "Phitsanulok",
          "Phitsanulok",
          "Phitsanulok",
          "Phitsanulok",
          "Phitsanulok",
          "Phitsanulok",
          "Phitsanulok",
          "Phitsanulok",
          "Phitsanulok",
          "Phitsanulok",
          "Phitsanulok",
          "Phitsanulok",
          "Phitsanulok",
          "Phitsanulok",
          "Phitsanulok",
          "Phitsanulok",
          "Phitsanulok",
          "Phitsanulok",
          "Phitsanulok",
          "Phitsanulok",
          "Phitsanulok",
          "Phitsanulok",
          "Phitsanulok",
          "Phitsanulok",
          "Phitsanulok",
          "Phitsanulok",
          "Phitsanulok",
          "Phitsanulok",
          "Phitsanulok",
          "Phitsanulok",
          "Phitsanulok",
          "Phitsanulok",
          "Phitsanulok",
          "Phitsanulok",
          "Phitsanulok",
          "Phitsanulok",
          "Phitsanulok",
          "Phitsanulok",
          "Phitsanulok",
          "Phitsanulok",
          "Phitsanulok",
          "Phitsanulok",
          "Phitsanulok",
          "Phitsanulok"
         ],
         "xaxis": "x",
         "y": [
          2.5999835,
          1.7000102,
          1.500004,
          1.500004,
          2.5999835,
          2.5999835,
          0.9000703,
          1.2000281,
          1.9000125,
          2.5999835,
          2.2999744,
          1.9000125,
          2.8999372,
          1.500004,
          1.9000125,
          1.500004,
          1.2000281,
          2.5999835,
          1.2000281,
          2.199985,
          1.6000112,
          1.2000281,
          2.199985,
          2.8999372,
          1.000132,
          1.500004,
          1.500004,
          2.8999372,
          2.199985,
          2.199985,
          2.199985,
          1.9000125,
          2.5999835,
          2.199985,
          2.199985,
          2.199985,
          1.2000281,
          0.9000703,
          2.199985,
          2.5999835,
          2.199985,
          0.9000703,
          1.500004,
          2.199985,
          1.500004,
          0.9000703,
          1.9000125,
          1.9000125,
          2.199985,
          1.2000281,
          2.2999744
         ],
         "yaxis": "y"
        },
        {
         "customdata": [
          [
           "Wat Plai Laem"
          ],
          [
           "Wat Rong Seur Ten (Blue Temple)"
          ],
          [
           "Rod Fai Night Market 2"
          ],
          [
           "Wachira Benchathat Park (Rot Fai Park)"
          ],
          [
           "Khao Hin Lek Fai Viewpoint"
          ],
          [
           "Khao Hin Lek Fai Viewpoint"
          ],
          [
           "Kao Khad Views Tower"
          ],
          [
           "Kao Wong Reservoir"
          ],
          [
           "The Spa"
          ],
          [
           "The Spa"
          ],
          [
           "Splash Jungle Waterpark"
          ],
          [
           "Splash Jungle Waterpark"
          ],
          [
           "Splash Jungle Waterpark"
          ],
          [
           "Chalok Baan Kao Beach"
          ],
          [
           "Kao Chon Waterfall"
          ],
          [
           "Turtle Village Shops & Cuisine"
          ],
          [
           "Turtle Village Shops & Cuisine"
          ],
          [
           "Turtle Village Shops & Cuisine"
          ],
          [
           "Wat Ched Yot"
          ],
          [
           "Mountain Of Bodhisattva"
          ],
          [
           "Huay Tung Tao Lake"
          ],
          [
           "Huay Tung Tao Lake"
          ],
          [
           "Huay Keaw Waterfall"
          ],
          [
           "Huay Keaw Waterfall"
          ],
          [
           "Huay Keaw Waterfall"
          ],
          [
           "Huay Mae Khamin Waterfalls"
          ],
          [
           "Temple of the Reclining Buddha (Wat Lokayasutharam)"
          ],
          [
           "Temple of the Reclining Buddha (Wat Lokayasutharam)"
          ],
          [
           "Phahurat Market"
          ],
          [
           "Phahurat Market"
          ],
          [
           "Phahurat Market"
          ]
         ],
         "hovertemplate": "place_name=%{x}<br>predicted_score=%{y}<br>location_name=%{customdata[0]}<extra></extra>",
         "legendgroup": "Phichit",
         "marker": {
          "color": "#FFA15A",
          "symbol": "circle"
         },
         "mode": "markers",
         "name": "Phichit",
         "showlegend": true,
         "type": "scattergl",
         "x": [
          "Phichit",
          "Phichit",
          "Phichit",
          "Phichit",
          "Phichit",
          "Phichit",
          "Phichit",
          "Phichit",
          "Phichit",
          "Phichit",
          "Phichit",
          "Phichit",
          "Phichit",
          "Phichit",
          "Phichit",
          "Phichit",
          "Phichit",
          "Phichit",
          "Phichit",
          "Phichit",
          "Phichit",
          "Phichit",
          "Phichit",
          "Phichit",
          "Phichit",
          "Phichit",
          "Phichit",
          "Phichit",
          "Phichit",
          "Phichit",
          "Phichit"
         ],
         "xaxis": "x",
         "y": [
          2.199985,
          2.199985,
          1.9000125,
          1.500004,
          1.500004,
          1.500004,
          2.5999835,
          1.9000125,
          2.199985,
          2.199985,
          2.199985,
          1.500004,
          2.5999835,
          1.9000125,
          2.8999372,
          2.199985,
          2.8999372,
          2.2999744,
          1.500004,
          2.8999372,
          1.9000125,
          2.5999835,
          2.8999372,
          1.2000281,
          1.9000125,
          2.8999372,
          1.500004,
          2.8999372,
          0.9000703,
          2.5999835,
          0.6000495
         ],
         "yaxis": "y"
        },
        {
         "customdata": [
          [
           "Chiang Rai Night Bazaar"
          ],
          [
           "Rai Ruen Rom - Organic Farm Chiang Rai, Thailand"
          ],
          [
           "Rai Ruen Rom - Organic Farm Chiang Rai, Thailand"
          ],
          [
           "Clock Tower Chiang Rai"
          ],
          [
           "Clock Tower Chiang Rai"
          ],
          [
           "Chiang Rai Beach"
          ],
          [
           "Elephant Steps Chiang Rai"
          ],
          [
           "Elephant Steps Chiang Rai"
          ],
          [
           "Arisara Thai Massage Chiang Rai"
          ],
          [
           "Arisara Thai Massage Chiang Rai"
          ],
          [
           "Suan Lamai"
          ],
          [
           "Suan Lamai"
          ],
          [
           "Suan Son (Phe Arboretum)"
          ],
          [
           "Dinosaur Footprints Park at Tha Uthen"
          ],
          [
           "Dinosaur Footprints Park at Tha Uthen"
          ],
          [
           "Wat Pa Non Sa-At"
          ],
          [
           "Wat Pa Non Sa-At"
          ],
          [
           "Wat  Pahuaylad Temple"
          ],
          [
           "Wat  Pahuaylad Temple"
          ],
          [
           "Wat  Pahuaylad Temple"
          ],
          [
           "Wat  Pahuaylad Temple"
          ],
          [
           "Wat  Pahuaylad Temple"
          ],
          [
           "Wat Phutthanimit (Phu Khao)"
          ],
          [
           "Wat Phutthanimit (Phu Khao)"
          ],
          [
           "Wat Phutthanimit (Phu Khao)"
          ],
          [
           "Wat Phutthanimit (Phu Khao)"
          ],
          [
           "Sam Phan Bok"
          ],
          [
           "Sam Phan Bok"
          ],
          [
           "Muay Thai Battle Conquer"
          ],
          [
           "Muay Thai Battle Conquer"
          ],
          [
           "Muay Thai Battle Conquer"
          ],
          [
           "Khao Kho Royal Palace"
          ],
          [
           "Khao Kho Royal Palace"
          ],
          [
           "Khao Kho Wind Farm"
          ],
          [
           "Khao Kho Wind Farm"
          ],
          [
           "Khao Kho Wind Farm"
          ],
          [
           "Koh Kho Khao Island"
          ],
          [
           "Koh Kho Khao Island"
          ],
          [
           "Koh Kho Khao Island"
          ],
          [
           "Khao Kho Sacrificial Monument"
          ],
          [
           "Chalermkarnchana University Phetchabun"
          ],
          [
           "Chalermkarnchana University Phetchabun"
          ],
          [
           "Chalermkarnchana University Phetchabun"
          ],
          [
           "Khao Laem Ya National Park - Samet Islands"
          ],
          [
           "Khao Lak-Lam Ru National Park"
          ],
          [
           "Khao Lak-Lam Ru National Park"
          ],
          [
           "ThaiLom (Lomsak) Walking Street"
          ],
          [
           "ThaiLom (Lomsak) Walking Street"
          ],
          [
           "Koh Kho Khao Diving"
          ],
          [
           "Khao Takhian Ngo View Point"
          ],
          [
           "Nam Rin Beach"
          ],
          [
           "Nam Rin Beach"
          ],
          [
           "Nam Rin Beach"
          ],
          [
           "Tham Nam Yen"
          ],
          [
           "Tham Nam Yen"
          ],
          [
           "Ta Nim Magic Garden"
          ],
          [
           "The Royal Agricultural Station Angkhang"
          ],
          [
           "The Royal Agricultural Station Angkhang"
          ],
          [
           "Weapon Museum"
          ],
          [
           "Samet Nangshe Viewpoint"
          ],
          [
           "Samet Nangshe Viewpoint"
          ],
          [
           "Samet Nangshe Viewpoint"
          ],
          [
           "Samet Nangshe Viewpoint"
          ],
          [
           "Karon Viewpoint"
          ],
          [
           "Lamai Viewpoint"
          ],
          [
           "Lamai Viewpoint"
          ],
          [
           "Wat Mahathat Laem Sak Temple"
          ]
         ],
         "hovertemplate": "place_name=%{x}<br>predicted_score=%{y}<br>location_name=%{customdata[0]}<extra></extra>",
         "legendgroup": "Phetchabun",
         "marker": {
          "color": "#19d3f3",
          "symbol": "circle"
         },
         "mode": "markers",
         "name": "Phetchabun",
         "showlegend": true,
         "type": "scattergl",
         "x": [
          "Phetchabun",
          "Phetchabun",
          "Phetchabun",
          "Phetchabun",
          "Phetchabun",
          "Phetchabun",
          "Phetchabun",
          "Phetchabun",
          "Phetchabun",
          "Phetchabun",
          "Phetchabun",
          "Phetchabun",
          "Phetchabun",
          "Phetchabun",
          "Phetchabun",
          "Phetchabun",
          "Phetchabun",
          "Phetchabun",
          "Phetchabun",
          "Phetchabun",
          "Phetchabun",
          "Phetchabun",
          "Phetchabun",
          "Phetchabun",
          "Phetchabun",
          "Phetchabun",
          "Phetchabun",
          "Phetchabun",
          "Phetchabun",
          "Phetchabun",
          "Phetchabun",
          "Phetchabun",
          "Phetchabun",
          "Phetchabun",
          "Phetchabun",
          "Phetchabun",
          "Phetchabun",
          "Phetchabun",
          "Phetchabun",
          "Phetchabun",
          "Phetchabun",
          "Phetchabun",
          "Phetchabun",
          "Phetchabun",
          "Phetchabun",
          "Phetchabun",
          "Phetchabun",
          "Phetchabun",
          "Phetchabun",
          "Phetchabun",
          "Phetchabun",
          "Phetchabun",
          "Phetchabun",
          "Phetchabun",
          "Phetchabun",
          "Phetchabun",
          "Phetchabun",
          "Phetchabun",
          "Phetchabun",
          "Phetchabun",
          "Phetchabun",
          "Phetchabun",
          "Phetchabun",
          "Phetchabun",
          "Phetchabun",
          "Phetchabun",
          "Phetchabun"
         ],
         "xaxis": "x",
         "y": [
          2.199985,
          2.199985,
          1.500004,
          2.199985,
          2.2999744,
          1.2000281,
          2.8999372,
          1.500004,
          2.2999744,
          1.7000102,
          2.199985,
          0.3001171,
          2.2999744,
          1.9000125,
          1.2000281,
          0.9000703,
          1.2000281,
          2.8999372,
          1.9000125,
          1.9000125,
          2.199985,
          1.6000112,
          2.199985,
          1.500004,
          2.8999372,
          1.500004,
          2.8999372,
          2.8999372,
          1.500004,
          1.500004,
          1.500004,
          1.500004,
          2.000011,
          2.8999372,
          1.9000125,
          1.500004,
          2.8999372,
          1.6000112,
          2.199985,
          2.5999835,
          0.3001171,
          1.2000281,
          1.9000125,
          1.9000125,
          2.8999372,
          2.199985,
          1.500004,
          2.2999744,
          1.500004,
          0.9000703,
          0.9000703,
          2.2999744,
          2.000011,
          1.500004,
          2.199985,
          2.8999372,
          2.199985,
          2.199985,
          1.6000112,
          1.500004,
          2.199985,
          2.199985,
          2.8999372,
          1.500004,
          1.9000125,
          1.500004,
          1.500004
         ],
         "yaxis": "y"
        },
        {
         "customdata": [
          [
           "Ang Sila Old Market 133 Years"
          ],
          [
           "Ang Sila Old Market 133 Years"
          ],
          [
           "Bang Phli Floating Market"
          ],
          [
           "Bang Phli Floating Market"
          ],
          [
           "Bang Phli Floating Market"
          ],
          [
           "Wat  Bang Phli Yai Klang"
          ],
          [
           "Wat Hat Yai Nai"
          ],
          [
           "Wat Hat Yai Nai"
          ],
          [
           "Wat Huay Yai"
          ],
          [
           "Nai Harn Beach"
          ],
          [
           "Nai Harn Beach"
          ],
          [
           "Nai Harn Beach"
          ],
          [
           "Wat Bang Nam Phueng Nai"
          ],
          [
           "Wat Bang Nam Phueng Nai"
          ],
          [
           "Mega Bangna"
          ],
          [
           "Mega Bangna"
          ],
          [
           "Mega HarborLand - Central Westgate"
          ],
          [
           "HarborLand @Gateway Ekamai"
          ],
          [
           "HarborLand @Gateway Ekamai"
          ],
          [
           "HarborLand @Gateway Ekamai"
          ],
          [
           "Central Plaza Bangna"
          ],
          [
           "Central Plaza Bangna"
          ],
          [
           "Central Plaza Bangna"
          ],
          [
           "Wat Bangna Nok Pier"
          ],
          [
           "HarborLand @HARBOR PATTAYA"
          ],
          [
           "Phra Samut Chedi"
          ],
          [
           "Phra Samut Chedi"
          ],
          [
           "Phra Samut Chedi"
          ],
          [
           "Pom Phra Chulachomklao"
          ],
          [
           "Wat Phra Pathom Chedi"
          ],
          [
           "Wat Phra Pathom Chedi"
          ],
          [
           "Phra Maha Chedi Tripob Trimongkol"
          ],
          [
           "Phra Maha Chedi Tripob Trimongkol"
          ],
          [
           "Phra Mahathat Chedi Phra Phuttha Thamma Prakat"
          ],
          [
           "Ban Khun Samut Chin Museum"
          ],
          [
           "Phra Chedi Klang Nam"
          ],
          [
           "Phra Chedi Klang Nam"
          ],
          [
           "Phra Maha Chedi CHai Mongkol"
          ],
          [
           "Phra Maha Chedi CHai Mongkol"
          ],
          [
           "Wat Khao Takiap"
          ],
          [
           "Wat Khao Takiap"
          ],
          [
           "Wat Hua Thanon"
          ],
          [
           "Wat Koo Kam"
          ],
          [
           "Wat Tham Khao Tao"
          ],
          [
           "Wat Khao Krailart"
          ],
          [
           "Wat Khao Krailart"
          ],
          [
           "Wat Khao Noi"
          ],
          [
           "Bueng Phlan Chai"
          ],
          [
           "Bueng Chawak Chalermphrakiat"
          ],
          [
           "Bueng Chawak Chalermphrakiat"
          ],
          [
           "Bueng Chawak Chalermphrakiat"
          ],
          [
           "Phu Sing Bueng Kan"
          ],
          [
           "Bueng Si Fai"
          ],
          [
           "Bueng Si Fai"
          ],
          [
           "Bueng Boraphet Aquarium"
          ],
          [
           "Bueng Bua Nature Observation Center"
          ],
          [
           "Bueng Bua Nature Observation Center"
          ],
          [
           "Bueng Bua Nature Observation Center"
          ],
          [
           "Wat Phiphat Mongkhon"
          ],
          [
           "Wat Chai Mongkhon"
          ],
          [
           "Wat Chai Mongkhon"
          ],
          [
           "Wat Si Mongkhon Tai"
          ],
          [
           "Wat Yai Chai Mongkol"
          ],
          [
           "Wat Sri Chai Mongkhon"
          ],
          [
           "Wat Chai Mongkhon"
          ],
          [
           "Wat Chai Mongkhon"
          ],
          [
           "Wat Phra That Su Thon Mongkhon Khiri"
          ],
          [
           "Wat Klang Bang Phra"
          ],
          [
           "Khung Kraben Bay Royal Development Study Center"
          ],
          [
           "Bang Tao Beach"
          ],
          [
           "Bang Saen Beach"
          ],
          [
           "Bang Saen Beach"
          ],
          [
           "Bang Pa In Palace"
          ],
          [
           "Bang Pa In Palace"
          ],
          [
           "Bang Pa In Palace"
          ],
          [
           "Bang Niang Market"
          ],
          [
           "Bang Niang Market"
          ],
          [
           "Wat Bang Kung"
          ],
          [
           "Bang-Tao Night Market"
          ],
          [
           "Bang Pra Reservoir"
          ],
          [
           "Bang Pae Waterfall"
          ],
          [
           "Wat Pha Lat"
          ],
          [
           "Wat Pha Lat"
          ],
          [
           "Wat Pha Lat"
          ],
          [
           "Wat Phra That Chedi Luang"
          ],
          [
           "Wat Phra That Chedi Luang"
          ],
          [
           "Chedi Wat Sam Pluem"
          ],
          [
           "Chedi Wat Sam Pluem"
          ],
          [
           "Chedi Wat Sam Pluem"
          ],
          [
           "Wat Pho Bang Khla"
          ],
          [
           "Wat Hua Suan Temple"
          ],
          [
           "Wat Sa Long Ruea Temple"
          ],
          [
           "Tiger Cave Temple (Wat Tham Suea)"
          ],
          [
           "Tiger Cave Temple (Wat Tham Suea)"
          ],
          [
           "The only morning trip phi phi"
          ],
          [
           "Koh Phi Phi Viewpoint"
          ],
          [
           "Ibiza House - Phi Phi Island"
          ],
          [
           "Ibiza House - Phi Phi Island"
          ],
          [
           "Ko Phi Phi Le"
          ],
          [
           "Phi Phi Island Boat Tours"
          ],
          [
           "Mote Phi Phi"
          ],
          [
           "Mote Phi Phi"
          ],
          [
           "Phi Phi Cruiser"
          ],
          [
           "Koh Phi Phi Tour"
          ],
          [
           "KUDO Beach Club"
          ],
          [
           "KUDO Beach Club"
          ],
          [
           "Sugar Club Phuket"
          ],
          [
           "Route66 Club"
          ],
          [
           "Sugar Club"
          ],
          [
           "Club Onyx"
          ],
          [
           "Club Onyx"
          ],
          [
           "Sub Zero Ice Skate Club"
          ],
          [
           "Sub Zero Ice Skate Club"
          ],
          [
           "Sub Phuket Taxi And Tour"
          ],
          [
           "Sub Phuket Taxi And Tour"
          ],
          [
           "Sub Phuket Taxi And Tour"
          ],
          [
           "Levels Club & Lounge"
          ],
          [
           "Levels Club & Lounge"
          ],
          [
           "Levels Club & Lounge"
          ],
          [
           "The Club At Koi"
          ],
          [
           "Bangpu Recreation Center"
          ],
          [
           "Bangpu Recreation Center"
          ],
          [
           "Soi Dog Foundation"
          ],
          [
           "Ancient City (Mueang Boran)"
          ],
          [
           "Ancient City (Mueang Boran)"
          ],
          [
           "Muangboran (Ancient City)"
          ],
          [
           "Wat Tham Erawan Temple"
          ],
          [
           "Wat Tham Erawan Temple"
          ],
          [
           "Wat Tham Erawan Temple"
          ],
          [
           "Erawan Cave"
          ],
          [
           "Erawan Cave"
          ],
          [
           "Erawan Cave"
          ],
          [
           "Chaloem Phra Kiat Ro Kao Waterfall"
          ],
          [
           "Chaloem Phra Kiat Ro Kao Waterfall"
          ],
          [
           "Chaloem Phra Kiat Public Park"
          ],
          [
           "Chaloem Phra Kiat Public Park"
          ],
          [
           "Nong Han Chaloem Phra Kiat Park"
          ],
          [
           "Nong Han Chaloem Phra Kiat Park"
          ],
          [
           "Phanom Rung Historical Park (Prasat Hin Phanom Rung)"
          ],
          [
           "Chaloem Phra Kiat Aquarium"
          ],
          [
           "Wihan Thep Sathit Phra Ki Ti Chaloem"
          ],
          [
           "Wihan Thep Sathit Phra Ki Ti Chaloem"
          ],
          [
           "Chaloem Phra Kiat National Library Nakhon Phanom"
          ],
          [
           "Wat Ket Karam Museum"
          ],
          [
           "Wat Ket Karam Museum"
          ],
          [
           "Wat Pa Lelai Woraviharn"
          ],
          [
           "Wat Pa Lelai Woraviharn"
          ],
          [
           "Wat Pa Pradu"
          ],
          [
           "Wat Pa Lak Roi"
          ],
          [
           "Wat Pa Lak Roi"
          ],
          [
           "Royal Thai Air Force Museum"
          ],
          [
           "Royal Thai Air Force Museum"
          ],
          [
           "Wat Huay Pla Kang"
          ],
          [
           "Wat Huay Pla Kang"
          ],
          [
           "Wat Huay Pla Kang"
          ],
          [
           "Saphan Pla Fish Market"
          ],
          [
           "Naval Museum"
          ],
          [
           "Naval Museum"
          ],
          [
           "Naval Museum"
          ],
          [
           "The Source Herbal Detox Retreat"
          ],
          [
           "Herbal Steam House"
          ],
          [
           "Herbal Steam House"
          ],
          [
           "Wat Phet Samuth Woravihan"
          ],
          [
           "Wat Phet Samuth Woravihan"
          ],
          [
           "Wat Don Mueang- Phra Arramluang"
          ],
          [
           "Wat Don Mueang- Phra Arramluang"
          ],
          [
           "Khuean Srinagarindra National Park"
          ],
          [
           "Khuean Srinagarindra National Park"
          ],
          [
           "Pom Phlaeng Faifa"
          ],
          [
           "Mega Plaza"
          ]
         ],
         "hovertemplate": "place_name=%{x}<br>predicted_score=%{y}<br>location_name=%{customdata[0]}<extra></extra>",
         "legendgroup": "Samut Prakan",
         "marker": {
          "color": "#FF6692",
          "symbol": "circle"
         },
         "mode": "markers",
         "name": "Samut Prakan",
         "showlegend": true,
         "type": "scattergl",
         "x": [
          "Samut Prakan",
          "Samut Prakan",
          "Samut Prakan",
          "Samut Prakan",
          "Samut Prakan",
          "Samut Prakan",
          "Samut Prakan",
          "Samut Prakan",
          "Samut Prakan",
          "Samut Prakan",
          "Samut Prakan",
          "Samut Prakan",
          "Samut Prakan",
          "Samut Prakan",
          "Samut Prakan",
          "Samut Prakan",
          "Samut Prakan",
          "Samut Prakan",
          "Samut Prakan",
          "Samut Prakan",
          "Samut Prakan",
          "Samut Prakan",
          "Samut Prakan",
          "Samut Prakan",
          "Samut Prakan",
          "Samut Prakan",
          "Samut Prakan",
          "Samut Prakan",
          "Samut Prakan",
          "Samut Prakan",
          "Samut Prakan",
          "Samut Prakan",
          "Samut Prakan",
          "Samut Prakan",
          "Samut Prakan",
          "Samut Prakan",
          "Samut Prakan",
          "Samut Prakan",
          "Samut Prakan",
          "Samut Prakan",
          "Samut Prakan",
          "Samut Prakan",
          "Samut Prakan",
          "Samut Prakan",
          "Samut Prakan",
          "Samut Prakan",
          "Samut Prakan",
          "Samut Prakan",
          "Samut Prakan",
          "Samut Prakan",
          "Samut Prakan",
          "Samut Prakan",
          "Samut Prakan",
          "Samut Prakan",
          "Samut Prakan",
          "Samut Prakan",
          "Samut Prakan",
          "Samut Prakan",
          "Samut Prakan",
          "Samut Prakan",
          "Samut Prakan",
          "Samut Prakan",
          "Samut Prakan",
          "Samut Prakan",
          "Samut Prakan",
          "Samut Prakan",
          "Samut Prakan",
          "Samut Prakan",
          "Samut Prakan",
          "Samut Prakan",
          "Samut Prakan",
          "Samut Prakan",
          "Samut Prakan",
          "Samut Prakan",
          "Samut Prakan",
          "Samut Prakan",
          "Samut Prakan",
          "Samut Prakan",
          "Samut Prakan",
          "Samut Prakan",
          "Samut Prakan",
          "Samut Prakan",
          "Samut Prakan",
          "Samut Prakan",
          "Samut Prakan",
          "Samut Prakan",
          "Samut Prakan",
          "Samut Prakan",
          "Samut Prakan",
          "Samut Prakan",
          "Samut Prakan",
          "Samut Prakan",
          "Samut Prakan",
          "Samut Prakan",
          "Samut Prakan",
          "Samut Prakan",
          "Samut Prakan",
          "Samut Prakan",
          "Samut Prakan",
          "Samut Prakan",
          "Samut Prakan",
          "Samut Prakan",
          "Samut Prakan",
          "Samut Prakan",
          "Samut Prakan",
          "Samut Prakan",
          "Samut Prakan",
          "Samut Prakan",
          "Samut Prakan",
          "Samut Prakan",
          "Samut Prakan",
          "Samut Prakan",
          "Samut Prakan",
          "Samut Prakan",
          "Samut Prakan",
          "Samut Prakan",
          "Samut Prakan",
          "Samut Prakan",
          "Samut Prakan",
          "Samut Prakan",
          "Samut Prakan",
          "Samut Prakan",
          "Samut Prakan",
          "Samut Prakan",
          "Samut Prakan",
          "Samut Prakan",
          "Samut Prakan",
          "Samut Prakan",
          "Samut Prakan",
          "Samut Prakan",
          "Samut Prakan",
          "Samut Prakan",
          "Samut Prakan",
          "Samut Prakan",
          "Samut Prakan",
          "Samut Prakan",
          "Samut Prakan",
          "Samut Prakan",
          "Samut Prakan",
          "Samut Prakan",
          "Samut Prakan",
          "Samut Prakan",
          "Samut Prakan",
          "Samut Prakan",
          "Samut Prakan",
          "Samut Prakan",
          "Samut Prakan",
          "Samut Prakan",
          "Samut Prakan",
          "Samut Prakan",
          "Samut Prakan",
          "Samut Prakan",
          "Samut Prakan",
          "Samut Prakan",
          "Samut Prakan",
          "Samut Prakan",
          "Samut Prakan",
          "Samut Prakan",
          "Samut Prakan",
          "Samut Prakan",
          "Samut Prakan",
          "Samut Prakan",
          "Samut Prakan",
          "Samut Prakan",
          "Samut Prakan",
          "Samut Prakan",
          "Samut Prakan",
          "Samut Prakan",
          "Samut Prakan",
          "Samut Prakan"
         ],
         "xaxis": "x",
         "y": [
          1.2000281,
          1.2000281,
          1.9000125,
          2.5999835,
          2.5999835,
          1.6000112,
          1.500004,
          2.199985,
          1.500004,
          2.199985,
          2.8999372,
          2.8999372,
          1.500004,
          1.500004,
          2.8999372,
          1.2000281,
          1.500004,
          1.9000125,
          0.3001171,
          2.199985,
          2.8999372,
          1.500004,
          1.2000281,
          1.6000112,
          0.3001171,
          1.9000125,
          1.9000125,
          1.6000112,
          2.8999372,
          2.5999835,
          1.500004,
          0.9000703,
          1.2000281,
          1.2000281,
          2.8999372,
          1.9000125,
          0.9000703,
          2.199985,
          2.8999372,
          1.2000281,
          0.3001171,
          1.500004,
          2.199985,
          2.8999372,
          2.199985,
          1.500004,
          2.5999835,
          2.199985,
          1.500004,
          1.500004,
          1.2000281,
          2.5999835,
          2.2999744,
          2.2999744,
          1.9000125,
          2.8999372,
          2.199985,
          1.9000125,
          1.9000125,
          1.9000125,
          2.5999835,
          2.5999835,
          2.199985,
          0.9000703,
          1.2000281,
          1.2000281,
          2.5999835,
          2.8999372,
          2.199985,
          0.6000495,
          1.2000281,
          1.000132,
          1.500004,
          1.500004,
          2.199985,
          0.6000495,
          1.2000281,
          1.9000125,
          2.199985,
          2.8999372,
          2.199985,
          0.6000495,
          1.500004,
          2.199985,
          2.199985,
          1.9000125,
          1.2000281,
          2.5999835,
          1.9000125,
          1.2000281,
          1.2000281,
          2.199985,
          2.199985,
          2.8999372,
          2.199985,
          2.5999835,
          1.500004,
          0.3001171,
          2.2999744,
          1.9000125,
          1.500004,
          2.8999372,
          1.500004,
          2.8999372,
          2.199985,
          2.2999744,
          2.199985,
          1.000132,
          1.9000125,
          1.000132,
          0.3001171,
          2.2999744,
          1.500004,
          1.500004,
          2.8999372,
          2.199985,
          1.2000281,
          0.3001171,
          2.8999372,
          1.500004,
          2.8999372,
          2.5999835,
          1.500004,
          2.199985,
          2.8999372,
          2.199985,
          2.8999372,
          1.9000125,
          2.5999835,
          2.199985,
          2.199985,
          1.9000125,
          2.5999835,
          1.2000281,
          2.5999835,
          2.5999835,
          1.500004,
          1.500004,
          2.5999835,
          0.9000703,
          2.199985,
          2.199985,
          1.9000125,
          1.2000281,
          1.500004,
          0.9000703,
          2.8999372,
          2.2999744,
          1.7000102,
          2.5999835,
          1.500004,
          1.500004,
          2.199985,
          2.5999835,
          2.8999372,
          1.6000112,
          2.8999372,
          1.2000281,
          1.500004,
          1.500004,
          2.199985,
          2.2999744,
          1.9000125,
          2.8999372,
          1.9000125,
          2.2999744,
          2.5999835,
          2.2999744,
          1.500004,
          0.9000703
         ],
         "yaxis": "y"
        }
       ],
       "layout": {
        "legend": {
         "title": {
          "text": "place_name"
         },
         "tracegroupgap": 0
        },
        "template": {
         "data": {
          "bar": [
           {
            "error_x": {
             "color": "#2a3f5f"
            },
            "error_y": {
             "color": "#2a3f5f"
            },
            "marker": {
             "line": {
              "color": "#E5ECF6",
              "width": 0.5
             },
             "pattern": {
              "fillmode": "overlay",
              "size": 10,
              "solidity": 0.2
             }
            },
            "type": "bar"
           }
          ],
          "barpolar": [
           {
            "marker": {
             "line": {
              "color": "#E5ECF6",
              "width": 0.5
             },
             "pattern": {
              "fillmode": "overlay",
              "size": 10,
              "solidity": 0.2
             }
            },
            "type": "barpolar"
           }
          ],
          "carpet": [
           {
            "aaxis": {
             "endlinecolor": "#2a3f5f",
             "gridcolor": "white",
             "linecolor": "white",
             "minorgridcolor": "white",
             "startlinecolor": "#2a3f5f"
            },
            "baxis": {
             "endlinecolor": "#2a3f5f",
             "gridcolor": "white",
             "linecolor": "white",
             "minorgridcolor": "white",
             "startlinecolor": "#2a3f5f"
            },
            "type": "carpet"
           }
          ],
          "choropleth": [
           {
            "colorbar": {
             "outlinewidth": 0,
             "ticks": ""
            },
            "type": "choropleth"
           }
          ],
          "contour": [
           {
            "colorbar": {
             "outlinewidth": 0,
             "ticks": ""
            },
            "colorscale": [
             [
              0,
              "#0d0887"
             ],
             [
              0.1111111111111111,
              "#46039f"
             ],
             [
              0.2222222222222222,
              "#7201a8"
             ],
             [
              0.3333333333333333,
              "#9c179e"
             ],
             [
              0.4444444444444444,
              "#bd3786"
             ],
             [
              0.5555555555555556,
              "#d8576b"
             ],
             [
              0.6666666666666666,
              "#ed7953"
             ],
             [
              0.7777777777777778,
              "#fb9f3a"
             ],
             [
              0.8888888888888888,
              "#fdca26"
             ],
             [
              1,
              "#f0f921"
             ]
            ],
            "type": "contour"
           }
          ],
          "contourcarpet": [
           {
            "colorbar": {
             "outlinewidth": 0,
             "ticks": ""
            },
            "type": "contourcarpet"
           }
          ],
          "heatmap": [
           {
            "colorbar": {
             "outlinewidth": 0,
             "ticks": ""
            },
            "colorscale": [
             [
              0,
              "#0d0887"
             ],
             [
              0.1111111111111111,
              "#46039f"
             ],
             [
              0.2222222222222222,
              "#7201a8"
             ],
             [
              0.3333333333333333,
              "#9c179e"
             ],
             [
              0.4444444444444444,
              "#bd3786"
             ],
             [
              0.5555555555555556,
              "#d8576b"
             ],
             [
              0.6666666666666666,
              "#ed7953"
             ],
             [
              0.7777777777777778,
              "#fb9f3a"
             ],
             [
              0.8888888888888888,
              "#fdca26"
             ],
             [
              1,
              "#f0f921"
             ]
            ],
            "type": "heatmap"
           }
          ],
          "heatmapgl": [
           {
            "colorbar": {
             "outlinewidth": 0,
             "ticks": ""
            },
            "colorscale": [
             [
              0,
              "#0d0887"
             ],
             [
              0.1111111111111111,
              "#46039f"
             ],
             [
              0.2222222222222222,
              "#7201a8"
             ],
             [
              0.3333333333333333,
              "#9c179e"
             ],
             [
              0.4444444444444444,
              "#bd3786"
             ],
             [
              0.5555555555555556,
              "#d8576b"
             ],
             [
              0.6666666666666666,
              "#ed7953"
             ],
             [
              0.7777777777777778,
              "#fb9f3a"
             ],
             [
              0.8888888888888888,
              "#fdca26"
             ],
             [
              1,
              "#f0f921"
             ]
            ],
            "type": "heatmapgl"
           }
          ],
          "histogram": [
           {
            "marker": {
             "pattern": {
              "fillmode": "overlay",
              "size": 10,
              "solidity": 0.2
             }
            },
            "type": "histogram"
           }
          ],
          "histogram2d": [
           {
            "colorbar": {
             "outlinewidth": 0,
             "ticks": ""
            },
            "colorscale": [
             [
              0,
              "#0d0887"
             ],
             [
              0.1111111111111111,
              "#46039f"
             ],
             [
              0.2222222222222222,
              "#7201a8"
             ],
             [
              0.3333333333333333,
              "#9c179e"
             ],
             [
              0.4444444444444444,
              "#bd3786"
             ],
             [
              0.5555555555555556,
              "#d8576b"
             ],
             [
              0.6666666666666666,
              "#ed7953"
             ],
             [
              0.7777777777777778,
              "#fb9f3a"
             ],
             [
              0.8888888888888888,
              "#fdca26"
             ],
             [
              1,
              "#f0f921"
             ]
            ],
            "type": "histogram2d"
           }
          ],
          "histogram2dcontour": [
           {
            "colorbar": {
             "outlinewidth": 0,
             "ticks": ""
            },
            "colorscale": [
             [
              0,
              "#0d0887"
             ],
             [
              0.1111111111111111,
              "#46039f"
             ],
             [
              0.2222222222222222,
              "#7201a8"
             ],
             [
              0.3333333333333333,
              "#9c179e"
             ],
             [
              0.4444444444444444,
              "#bd3786"
             ],
             [
              0.5555555555555556,
              "#d8576b"
             ],
             [
              0.6666666666666666,
              "#ed7953"
             ],
             [
              0.7777777777777778,
              "#fb9f3a"
             ],
             [
              0.8888888888888888,
              "#fdca26"
             ],
             [
              1,
              "#f0f921"
             ]
            ],
            "type": "histogram2dcontour"
           }
          ],
          "mesh3d": [
           {
            "colorbar": {
             "outlinewidth": 0,
             "ticks": ""
            },
            "type": "mesh3d"
           }
          ],
          "parcoords": [
           {
            "line": {
             "colorbar": {
              "outlinewidth": 0,
              "ticks": ""
             }
            },
            "type": "parcoords"
           }
          ],
          "pie": [
           {
            "automargin": true,
            "type": "pie"
           }
          ],
          "scatter": [
           {
            "fillpattern": {
             "fillmode": "overlay",
             "size": 10,
             "solidity": 0.2
            },
            "type": "scatter"
           }
          ],
          "scatter3d": [
           {
            "line": {
             "colorbar": {
              "outlinewidth": 0,
              "ticks": ""
             }
            },
            "marker": {
             "colorbar": {
              "outlinewidth": 0,
              "ticks": ""
             }
            },
            "type": "scatter3d"
           }
          ],
          "scattercarpet": [
           {
            "marker": {
             "colorbar": {
              "outlinewidth": 0,
              "ticks": ""
             }
            },
            "type": "scattercarpet"
           }
          ],
          "scattergeo": [
           {
            "marker": {
             "colorbar": {
              "outlinewidth": 0,
              "ticks": ""
             }
            },
            "type": "scattergeo"
           }
          ],
          "scattergl": [
           {
            "marker": {
             "colorbar": {
              "outlinewidth": 0,
              "ticks": ""
             }
            },
            "type": "scattergl"
           }
          ],
          "scattermapbox": [
           {
            "marker": {
             "colorbar": {
              "outlinewidth": 0,
              "ticks": ""
             }
            },
            "type": "scattermapbox"
           }
          ],
          "scatterpolar": [
           {
            "marker": {
             "colorbar": {
              "outlinewidth": 0,
              "ticks": ""
             }
            },
            "type": "scatterpolar"
           }
          ],
          "scatterpolargl": [
           {
            "marker": {
             "colorbar": {
              "outlinewidth": 0,
              "ticks": ""
             }
            },
            "type": "scatterpolargl"
           }
          ],
          "scatterternary": [
           {
            "marker": {
             "colorbar": {
              "outlinewidth": 0,
              "ticks": ""
             }
            },
            "type": "scatterternary"
           }
          ],
          "surface": [
           {
            "colorbar": {
             "outlinewidth": 0,
             "ticks": ""
            },
            "colorscale": [
             [
              0,
              "#0d0887"
             ],
             [
              0.1111111111111111,
              "#46039f"
             ],
             [
              0.2222222222222222,
              "#7201a8"
             ],
             [
              0.3333333333333333,
              "#9c179e"
             ],
             [
              0.4444444444444444,
              "#bd3786"
             ],
             [
              0.5555555555555556,
              "#d8576b"
             ],
             [
              0.6666666666666666,
              "#ed7953"
             ],
             [
              0.7777777777777778,
              "#fb9f3a"
             ],
             [
              0.8888888888888888,
              "#fdca26"
             ],
             [
              1,
              "#f0f921"
             ]
            ],
            "type": "surface"
           }
          ],
          "table": [
           {
            "cells": {
             "fill": {
              "color": "#EBF0F8"
             },
             "line": {
              "color": "white"
             }
            },
            "header": {
             "fill": {
              "color": "#C8D4E3"
             },
             "line": {
              "color": "white"
             }
            },
            "type": "table"
           }
          ]
         },
         "layout": {
          "annotationdefaults": {
           "arrowcolor": "#2a3f5f",
           "arrowhead": 0,
           "arrowwidth": 1
          },
          "autotypenumbers": "strict",
          "coloraxis": {
           "colorbar": {
            "outlinewidth": 0,
            "ticks": ""
           }
          },
          "colorscale": {
           "diverging": [
            [
             0,
             "#8e0152"
            ],
            [
             0.1,
             "#c51b7d"
            ],
            [
             0.2,
             "#de77ae"
            ],
            [
             0.3,
             "#f1b6da"
            ],
            [
             0.4,
             "#fde0ef"
            ],
            [
             0.5,
             "#f7f7f7"
            ],
            [
             0.6,
             "#e6f5d0"
            ],
            [
             0.7,
             "#b8e186"
            ],
            [
             0.8,
             "#7fbc41"
            ],
            [
             0.9,
             "#4d9221"
            ],
            [
             1,
             "#276419"
            ]
           ],
           "sequential": [
            [
             0,
             "#0d0887"
            ],
            [
             0.1111111111111111,
             "#46039f"
            ],
            [
             0.2222222222222222,
             "#7201a8"
            ],
            [
             0.3333333333333333,
             "#9c179e"
            ],
            [
             0.4444444444444444,
             "#bd3786"
            ],
            [
             0.5555555555555556,
             "#d8576b"
            ],
            [
             0.6666666666666666,
             "#ed7953"
            ],
            [
             0.7777777777777778,
             "#fb9f3a"
            ],
            [
             0.8888888888888888,
             "#fdca26"
            ],
            [
             1,
             "#f0f921"
            ]
           ],
           "sequentialminus": [
            [
             0,
             "#0d0887"
            ],
            [
             0.1111111111111111,
             "#46039f"
            ],
            [
             0.2222222222222222,
             "#7201a8"
            ],
            [
             0.3333333333333333,
             "#9c179e"
            ],
            [
             0.4444444444444444,
             "#bd3786"
            ],
            [
             0.5555555555555556,
             "#d8576b"
            ],
            [
             0.6666666666666666,
             "#ed7953"
            ],
            [
             0.7777777777777778,
             "#fb9f3a"
            ],
            [
             0.8888888888888888,
             "#fdca26"
            ],
            [
             1,
             "#f0f921"
            ]
           ]
          },
          "colorway": [
           "#636efa",
           "#EF553B",
           "#00cc96",
           "#ab63fa",
           "#FFA15A",
           "#19d3f3",
           "#FF6692",
           "#B6E880",
           "#FF97FF",
           "#FECB52"
          ],
          "font": {
           "color": "#2a3f5f"
          },
          "geo": {
           "bgcolor": "white",
           "lakecolor": "white",
           "landcolor": "#E5ECF6",
           "showlakes": true,
           "showland": true,
           "subunitcolor": "white"
          },
          "hoverlabel": {
           "align": "left"
          },
          "hovermode": "closest",
          "mapbox": {
           "style": "light"
          },
          "paper_bgcolor": "white",
          "plot_bgcolor": "#E5ECF6",
          "polar": {
           "angularaxis": {
            "gridcolor": "white",
            "linecolor": "white",
            "ticks": ""
           },
           "bgcolor": "#E5ECF6",
           "radialaxis": {
            "gridcolor": "white",
            "linecolor": "white",
            "ticks": ""
           }
          },
          "scene": {
           "xaxis": {
            "backgroundcolor": "#E5ECF6",
            "gridcolor": "white",
            "gridwidth": 2,
            "linecolor": "white",
            "showbackground": true,
            "ticks": "",
            "zerolinecolor": "white"
           },
           "yaxis": {
            "backgroundcolor": "#E5ECF6",
            "gridcolor": "white",
            "gridwidth": 2,
            "linecolor": "white",
            "showbackground": true,
            "ticks": "",
            "zerolinecolor": "white"
           },
           "zaxis": {
            "backgroundcolor": "#E5ECF6",
            "gridcolor": "white",
            "gridwidth": 2,
            "linecolor": "white",
            "showbackground": true,
            "ticks": "",
            "zerolinecolor": "white"
           }
          },
          "shapedefaults": {
           "line": {
            "color": "#2a3f5f"
           }
          },
          "ternary": {
           "aaxis": {
            "gridcolor": "white",
            "linecolor": "white",
            "ticks": ""
           },
           "baxis": {
            "gridcolor": "white",
            "linecolor": "white",
            "ticks": ""
           },
           "bgcolor": "#E5ECF6",
           "caxis": {
            "gridcolor": "white",
            "linecolor": "white",
            "ticks": ""
           }
          },
          "title": {
           "x": 0.05
          },
          "xaxis": {
           "automargin": true,
           "gridcolor": "white",
           "linecolor": "white",
           "ticks": "",
           "title": {
            "standoff": 15
           },
           "zerolinecolor": "white",
           "zerolinewidth": 2
          },
          "yaxis": {
           "automargin": true,
           "gridcolor": "white",
           "linecolor": "white",
           "ticks": "",
           "title": {
            "standoff": 15
           },
           "zerolinecolor": "white",
           "zerolinewidth": 2
          }
         }
        },
        "title": {
         "text": "Scatter Plot of Predicted Scores by Place Name"
        },
        "xaxis": {
         "anchor": "y",
         "categoryarray": [
          "Bangkok",
          "Nonthaburi",
          "Pathum Thani",
          "Phra Nakhon Si Ayutthaya",
          "Ang Thong",
          "Sing Buri",
          "Chai Nat",
          "Saraburi",
          "Nakhon Nayok",
          "Nakhon Sawan",
          "Uthai Thani",
          "Kamphaeng Phet",
          "Sukhothai",
          "Phitsanulok",
          "Phichit",
          "Phetchabun",
          "Samut Prakan"
         ],
         "categoryorder": "array",
         "domain": [
          0,
          1
         ],
         "title": {
          "text": "place_name"
         }
        },
        "yaxis": {
         "anchor": "x",
         "domain": [
          0,
          1
         ],
         "title": {
          "text": "predicted_score"
         }
        }
       }
      }
     },
     "metadata": {},
     "output_type": "display_data"
    }
   ],
   "source": [
    "# Create scatter plot using Plotly\n",
    "fig = px.scatter(\n",
    "    review_sentiment_df, \n",
    "    x='place_name', \n",
    "    y='predicted_score', \n",
    "    color='place_name',  # Optional: to color points by place_name\n",
    "    hover_data=['location_name'],  # Display location_name when hovering\n",
    "    title=\"Scatter Plot of Predicted Scores by Place Name\"\n",
    ")\n",
    "\n",
    "# Show the plot\n",
    "fig.show()"
   ]
  },
  {
   "cell_type": "code",
   "execution_count": 11,
   "metadata": {},
   "outputs": [
    {
     "data": {
      "application/vnd.plotly.v1+json": {
       "config": {
        "plotlyServerURL": "https://plot.ly"
       },
       "data": [
        {
         "hovertemplate": "Rating=%{x}<br>Predicted Score=%{y}<extra></extra>",
         "legendgroup": "",
         "marker": {
          "color": "#636efa",
          "symbol": "circle"
         },
         "mode": "markers",
         "name": "",
         "showlegend": false,
         "type": "scattergl",
         "x": [
          5,
          5,
          5,
          5,
          5,
          5,
          4,
          5,
          4,
          5,
          2,
          5,
          4,
          5,
          5,
          5,
          3,
          5,
          5,
          5,
          5,
          2,
          4,
          5,
          5,
          5,
          4,
          5,
          4,
          5,
          3,
          5,
          5,
          5,
          4,
          4,
          4,
          5,
          3,
          5,
          4,
          4,
          4,
          5,
          4,
          5,
          5,
          4,
          3,
          4,
          4,
          4,
          4,
          4,
          5,
          5,
          5,
          5,
          5,
          3,
          3,
          5,
          4,
          5,
          5,
          5,
          2,
          4,
          5,
          4,
          5,
          4,
          5,
          4,
          1,
          5,
          5,
          4,
          5,
          5,
          5,
          5,
          2,
          4,
          4,
          3,
          5,
          4,
          4,
          3,
          4,
          5,
          5,
          5,
          5,
          5,
          5,
          5,
          4,
          4,
          5,
          3,
          5,
          5,
          5,
          5,
          4,
          5,
          4,
          5,
          5,
          5,
          5,
          5,
          5,
          4,
          3,
          4,
          4,
          5,
          5,
          4,
          5,
          5,
          5,
          4,
          4,
          5,
          5,
          4,
          5,
          5,
          4,
          4,
          3,
          4,
          4,
          4,
          4,
          5,
          1,
          5,
          4,
          4,
          4,
          4,
          5,
          4,
          5,
          5,
          5,
          5,
          5,
          5,
          5,
          4,
          5,
          4,
          5,
          3,
          4,
          5,
          5,
          5,
          5,
          4,
          5,
          5,
          4,
          5,
          5,
          4,
          5,
          4,
          3,
          3,
          1,
          3,
          1,
          4,
          5,
          5,
          5,
          5,
          3,
          1,
          3,
          4,
          2,
          4,
          3,
          5,
          5,
          5,
          5,
          5,
          5,
          5,
          5,
          5,
          3,
          5,
          3,
          4,
          5,
          4,
          5,
          5,
          5,
          4,
          4,
          2,
          5,
          3,
          5,
          4,
          5,
          3,
          5,
          5,
          4,
          4,
          5,
          5,
          3,
          4,
          5,
          3,
          5,
          4,
          4,
          4,
          4,
          5,
          4,
          5,
          5,
          4,
          4,
          4,
          5,
          5,
          5,
          4,
          5,
          3,
          5,
          5,
          4,
          5,
          5,
          5,
          4,
          3,
          4,
          4,
          2,
          5,
          3,
          5,
          3,
          5,
          5,
          5,
          5,
          5,
          5,
          4,
          4,
          4,
          4,
          4,
          5,
          3,
          3,
          4,
          3,
          4,
          4,
          4,
          3,
          4,
          4,
          3,
          5,
          5,
          5,
          5,
          4,
          4,
          5,
          5,
          5,
          4,
          4,
          1,
          5,
          5,
          4,
          5,
          4,
          5,
          4,
          4,
          4,
          5,
          5,
          4,
          5,
          5,
          3,
          5,
          5,
          4,
          5,
          5,
          5,
          4,
          5,
          4,
          5,
          4,
          4,
          5,
          5,
          5,
          3,
          5,
          5,
          5,
          4,
          3,
          5,
          4,
          5,
          3,
          4,
          5,
          4,
          4,
          3,
          5,
          4,
          4,
          4,
          1,
          3,
          5,
          5,
          5,
          5,
          4,
          1,
          3,
          5,
          5,
          5,
          2,
          4,
          4,
          5,
          5,
          5,
          5,
          5,
          5,
          5,
          4,
          5,
          4,
          3,
          5,
          5,
          5,
          4,
          1,
          5,
          5,
          5,
          4,
          4,
          5,
          3,
          5,
          3,
          5,
          5,
          4,
          4,
          4,
          4,
          4,
          3,
          4,
          5,
          3,
          4,
          1,
          4,
          5,
          4,
          5,
          5,
          3,
          5,
          3,
          4,
          5,
          5,
          4,
          5,
          5,
          4,
          5,
          3,
          4,
          5,
          3,
          5,
          5,
          5,
          5,
          4,
          5,
          5,
          5,
          5,
          5,
          5,
          5,
          5,
          5,
          3,
          4,
          3,
          3,
          3,
          3,
          3,
          5,
          5,
          5,
          5,
          4,
          5,
          4,
          5,
          5,
          4,
          3,
          5,
          3,
          3,
          4,
          4,
          4,
          5,
          5,
          3,
          4,
          4,
          4,
          4,
          3,
          4,
          4,
          3,
          4,
          4,
          5,
          5,
          4,
          4,
          5,
          5,
          5,
          5,
          5,
          5,
          5,
          4,
          4,
          3,
          4,
          5,
          4,
          3,
          3,
          5,
          4,
          4,
          5,
          5,
          4,
          3,
          3,
          2,
          5,
          5,
          4,
          5,
          4,
          5,
          5,
          5,
          2,
          5,
          5,
          5,
          4,
          4,
          5,
          5,
          5,
          5,
          4,
          5,
          5,
          5,
          5,
          5,
          5,
          4,
          5,
          3,
          5,
          5,
          5,
          5,
          4,
          4,
          4,
          3,
          4,
          3,
          3,
          5,
          4,
          5,
          4,
          4,
          4,
          4,
          5,
          4,
          3,
          4,
          4,
          4,
          4,
          5,
          5,
          5,
          3,
          5,
          4,
          3,
          5,
          5,
          5,
          3,
          5,
          4,
          5,
          4,
          4,
          5,
          4,
          5,
          5,
          5,
          5,
          5,
          4,
          1,
          5,
          4,
          5,
          3,
          3,
          1,
          5,
          5,
          4,
          4,
          3,
          5,
          4,
          5,
          4,
          5,
          4,
          5,
          5,
          5,
          3,
          3,
          5,
          5,
          5,
          5,
          4,
          3,
          3,
          1,
          3,
          5,
          5,
          5,
          5,
          5,
          3,
          5,
          4,
          5,
          5,
          5,
          5,
          4,
          5,
          5,
          4,
          4,
          5,
          4,
          5,
          4,
          4,
          1,
          5,
          3,
          5,
          5,
          5,
          5,
          5,
          5,
          4,
          5,
          2,
          5,
          3,
          3,
          4,
          5,
          5,
          3,
          5,
          4,
          4,
          5,
          3,
          5,
          5,
          5,
          4,
          2,
          4,
          5,
          5,
          4,
          5,
          4,
          4,
          4,
          4,
          4,
          4,
          5,
          5,
          2,
          3,
          4,
          3,
          5,
          3,
          5,
          4,
          5,
          5,
          4,
          5,
          5,
          4,
          4,
          3,
          4,
          5,
          5,
          4,
          4,
          4,
          4,
          5,
          5,
          2,
          1,
          5,
          4,
          4,
          5,
          5,
          4,
          4,
          5,
          5,
          1,
          1,
          5,
          5,
          5,
          5,
          5,
          5,
          3,
          5,
          5,
          4,
          5,
          3,
          5,
          3,
          5,
          3,
          4,
          4,
          4,
          4,
          5,
          5,
          5,
          4,
          5,
          5,
          5,
          4,
          4,
          2,
          1,
          1,
          1,
          4,
          5,
          5,
          4,
          4,
          3,
          5,
          3,
          5,
          3,
          5,
          5,
          3,
          4,
          4,
          5,
          5,
          5,
          5,
          4,
          5,
          3,
          5,
          5,
          5,
          4,
          4,
          5,
          3,
          3,
          5,
          5,
          5,
          5,
          4,
          4,
          4,
          5,
          4,
          5,
          2,
          3,
          5,
          4,
          5,
          3,
          5,
          5,
          5,
          4,
          5,
          3,
          4,
          4,
          4,
          3,
          5,
          5,
          4,
          3,
          4,
          5,
          1,
          4,
          4,
          5,
          4,
          4,
          4,
          4,
          4,
          3,
          4,
          5,
          4,
          5,
          4,
          5,
          5,
          5,
          5,
          5,
          4,
          4,
          5,
          3,
          3,
          5,
          1,
          5,
          3,
          5,
          5,
          1,
          3,
          4,
          4,
          4,
          4,
          3,
          1,
          4,
          4,
          4,
          4,
          5,
          4,
          5,
          5,
          4,
          5,
          4,
          4,
          4,
          4,
          5,
          5,
          5,
          5,
          5,
          4,
          2,
          4,
          3,
          4,
          4,
          4,
          5,
          5,
          5,
          5,
          5,
          5,
          3,
          3,
          4,
          4,
          3,
          5,
          5,
          5,
          5,
          4,
          3,
          4,
          4,
          4,
          3,
          4,
          5,
          4,
          4,
          5,
          5,
          5,
          5,
          5,
          5,
          4,
          3,
          4,
          3,
          4,
          2,
          4,
          4,
          5,
          5,
          5,
          4,
          5,
          1,
          5,
          1,
          5,
          5,
          4,
          5,
          4,
          5,
          5,
          4,
          4,
          4,
          5,
          4,
          4,
          5,
          1,
          4,
          4,
          5,
          5,
          4,
          3,
          4,
          4,
          3,
          4,
          4,
          5,
          5,
          5,
          4,
          5,
          4,
          4,
          5,
          2,
          4,
          5,
          1,
          3,
          5,
          5,
          5,
          3,
          4,
          4,
          4,
          5,
          4,
          4,
          3,
          5,
          1,
          2,
          5,
          5,
          4,
          4,
          5,
          4,
          5,
          4,
          5,
          4,
          5,
          4,
          3,
          5,
          4,
          4,
          4,
          3,
          2,
          5,
          2,
          5,
          5,
          5,
          4,
          4,
          5,
          5,
          5,
          4,
          4,
          3,
          5,
          5,
          5,
          3,
          5,
          4,
          5,
          4,
          4,
          3,
          3,
          4,
          4,
          5,
          4,
          4,
          4,
          4,
          4,
          4,
          5,
          3,
          1,
          1,
          3,
          4,
          5,
          3,
          5,
          5,
          5,
          4,
          4,
          5,
          4,
          3,
          5,
          5,
          5,
          5,
          5,
          5,
          5,
          5,
          5,
          5,
          5,
          5,
          5,
          5,
          5,
          5,
          4,
          4,
          5,
          4,
          4,
          5,
          4,
          4,
          5,
          4,
          1,
          2,
          4,
          3,
          5,
          4,
          5,
          4,
          5,
          4,
          5,
          2,
          1,
          5,
          5,
          4,
          5,
          4,
          4,
          4,
          5,
          5,
          3,
          1,
          4,
          2,
          4,
          3,
          5,
          4,
          5,
          4,
          5,
          3,
          5,
          5,
          5,
          5,
          5,
          4,
          5,
          4,
          3,
          5,
          4,
          5,
          3,
          3,
          3,
          3,
          2,
          3,
          5,
          5,
          4,
          5,
          4,
          5,
          5,
          5,
          4,
          5,
          3,
          1,
          5,
          2,
          1,
          4,
          5,
          5,
          5,
          4,
          4,
          1,
          3,
          5,
          4,
          5,
          4,
          5,
          4,
          1,
          5,
          5,
          4,
          4,
          3,
          4,
          4,
          4,
          3,
          4,
          5,
          5,
          4,
          5,
          4,
          4,
          4,
          5,
          3,
          4,
          5,
          5,
          1,
          5,
          5,
          5,
          5,
          5,
          5,
          4,
          4,
          5,
          5,
          5,
          4,
          3,
          5,
          4,
          5,
          3,
          5,
          5,
          5,
          3,
          4,
          4,
          5,
          4,
          3,
          5,
          5,
          4,
          5,
          5,
          5,
          4,
          4,
          5,
          5,
          5,
          5,
          4,
          4,
          5,
          5,
          5,
          3,
          5,
          5,
          4,
          4,
          5,
          4,
          4,
          5,
          5,
          5,
          3,
          4,
          2,
          5,
          5,
          5,
          5,
          3,
          4,
          5,
          5,
          3,
          1,
          5,
          1,
          3,
          4,
          4,
          3,
          4,
          5,
          4,
          4,
          5,
          3,
          5,
          5,
          5,
          5,
          5,
          5,
          5,
          5,
          5,
          5,
          2,
          5,
          4,
          5,
          5,
          3,
          5,
          4,
          1,
          4,
          4,
          4,
          5,
          5,
          5,
          3,
          5,
          3,
          3,
          3,
          2,
          5,
          5,
          5,
          5,
          5,
          3,
          5,
          5,
          5,
          5,
          5,
          4,
          5,
          5,
          3,
          5,
          5,
          5,
          5,
          4,
          4,
          4,
          5,
          5,
          4,
          5,
          2,
          5,
          5,
          4,
          2,
          4,
          5,
          4,
          1,
          1,
          4,
          1,
          4,
          1,
          2,
          1,
          5,
          5,
          5,
          5,
          3,
          5,
          5,
          4,
          5,
          5,
          5,
          1,
          4,
          5,
          5,
          5,
          4,
          5,
          5,
          5,
          4,
          4,
          4,
          5,
          4,
          5,
          5,
          5,
          3,
          3,
          4,
          1,
          4,
          5,
          2,
          4,
          4,
          3,
          5,
          2,
          4,
          5,
          5,
          5,
          2,
          4,
          4,
          4,
          5,
          3,
          3,
          3,
          5,
          5,
          3,
          4,
          2,
          5,
          5,
          5,
          1,
          4,
          5,
          4,
          5,
          5,
          5,
          5,
          4,
          5,
          5,
          5,
          4,
          5,
          5,
          5,
          5,
          5,
          5,
          5,
          5,
          5,
          1,
          3,
          5,
          5,
          4,
          5,
          5,
          5,
          5,
          1,
          1,
          5,
          5,
          5,
          5,
          5,
          5,
          4,
          5,
          5,
          5,
          4,
          1,
          4,
          5,
          4,
          1,
          3,
          3,
          5,
          4,
          4,
          5,
          5,
          4,
          4,
          5,
          4,
          2,
          4,
          4,
          5,
          3,
          3,
          5,
          4,
          5,
          5,
          5,
          5,
          1,
          4,
          4,
          4,
          2,
          3,
          5,
          4,
          3,
          2,
          3,
          5,
          5,
          4,
          4,
          4,
          5,
          5,
          3,
          3,
          4,
          5,
          4,
          3,
          3,
          4,
          5,
          5,
          3,
          5,
          4,
          2,
          4,
          1,
          5,
          4,
          1,
          5,
          5,
          5,
          4,
          5,
          5,
          4,
          4,
          5,
          4,
          4,
          3,
          5,
          4,
          4,
          4,
          4,
          3,
          1,
          5,
          5,
          4,
          4,
          3,
          4,
          4,
          5,
          5,
          5,
          5,
          5,
          5,
          5,
          5,
          3,
          3,
          2,
          4,
          4,
          5,
          4,
          3,
          4,
          5,
          4,
          3,
          4,
          5,
          5,
          4,
          5,
          5,
          5,
          5,
          5,
          5,
          5,
          5,
          5,
          4,
          4,
          4,
          2,
          4,
          5,
          1,
          1,
          5,
          5,
          5,
          5,
          5,
          5,
          5,
          5,
          4,
          4,
          5,
          4,
          5,
          3,
          1,
          1,
          5,
          5,
          5,
          4,
          5,
          4,
          4,
          2,
          5,
          5,
          5,
          4,
          5,
          5,
          4,
          5,
          4,
          4,
          4,
          4,
          5,
          5,
          5,
          5,
          4,
          5,
          5,
          5,
          5,
          5,
          5,
          4,
          4,
          4,
          4,
          4,
          4,
          4,
          4,
          3,
          5,
          5,
          5,
          5,
          5,
          5,
          5,
          5,
          5,
          4,
          5,
          4,
          1,
          5,
          5,
          5,
          4,
          3,
          1,
          4,
          4,
          3,
          5,
          4,
          5,
          3,
          4,
          4,
          5,
          4,
          3,
          5,
          5,
          4,
          1,
          5,
          5,
          5,
          5,
          5,
          4,
          5,
          5,
          5,
          4,
          4,
          3,
          3,
          4,
          5,
          5,
          4,
          4,
          4,
          4,
          4,
          5,
          3,
          4,
          4,
          4,
          5,
          5,
          2,
          4,
          1,
          5,
          5,
          5,
          2,
          4,
          4,
          5,
          5,
          5,
          2,
          5,
          5,
          5,
          4,
          4,
          4,
          4,
          4,
          4,
          5,
          5,
          5,
          5,
          4,
          5,
          1,
          3,
          4,
          5,
          5,
          5,
          5,
          5,
          3,
          5,
          1,
          4,
          1,
          1,
          3,
          5,
          5,
          5,
          5,
          4,
          1,
          5,
          5,
          5,
          4,
          5,
          5,
          5,
          5,
          5,
          4,
          4,
          5,
          5,
          4,
          4,
          4,
          4,
          4,
          5,
          5,
          4,
          3,
          5,
          5,
          4,
          4,
          5,
          3,
          5,
          3,
          1,
          4,
          5,
          5,
          5,
          4,
          5,
          3,
          5,
          4,
          5,
          5,
          5,
          3,
          4,
          5,
          4,
          3,
          4,
          3,
          5,
          3,
          4,
          5,
          3,
          4,
          5,
          4,
          3,
          4
         ],
         "xaxis": "x",
         "y": [
          2.199985,
          1.500004,
          1.500004,
          2.8999372,
          1.500004,
          2.8999372,
          2.5999835,
          2.8999372,
          1.2000281,
          2.8999372,
          1.3000503,
          2.199985,
          2.5999835,
          1.500004,
          1.500004,
          1.500004,
          0.9000703,
          2.199985,
          1.500004,
          2.199985,
          2.199985,
          0.6000495,
          1.2000281,
          2.8999372,
          1.500004,
          1.500004,
          1.2000281,
          2.199985,
          1.2000281,
          2.199985,
          0.9000703,
          2.199985,
          2.199985,
          2.8999372,
          1.9000125,
          2.5999835,
          1.2000281,
          2.8999372,
          1.6000112,
          2.8999372,
          1.2000281,
          2.5999835,
          2.5999835,
          2.8999372,
          2.5999835,
          2.8999372,
          2.8999372,
          1.9000125,
          0.9000703,
          1.9000125,
          1.9000125,
          2.5999835,
          2.5999835,
          1.9000125,
          1.500004,
          1.500004,
          2.8999372,
          1.500004,
          2.199985,
          0.9000703,
          2.2999744,
          2.199985,
          1.2000281,
          1.500004,
          2.8999372,
          1.500004,
          0.6000495,
          1.9000125,
          1.500004,
          2.5999835,
          2.8999372,
          1.2000281,
          2.8999372,
          1.2000281,
          1.7000102,
          2.199985,
          2.199985,
          1.9000125,
          2.8999372,
          2.199985,
          2.199985,
          2.199985,
          0.6000495,
          1.9000125,
          1.9000125,
          2.2999744,
          2.199985,
          1.2000281,
          1.2000281,
          2.2999744,
          1.9000125,
          1.500004,
          2.199985,
          2.8999372,
          2.199985,
          1.500004,
          1.500004,
          2.8999372,
          1.2000281,
          2.5999835,
          2.199985,
          0.9000703,
          2.8999372,
          1.500004,
          2.8999372,
          1.500004,
          2.5999835,
          1.500004,
          2.5999835,
          2.199985,
          2.199985,
          1.500004,
          1.500004,
          1.500004,
          2.8999372,
          1.2000281,
          0.9000703,
          2.5999835,
          1.2000281,
          2.199985,
          1.500004,
          2.5999835,
          1.500004,
          2.8999372,
          1.500004,
          1.2000281,
          2.5999835,
          1.500004,
          1.500004,
          2.5999835,
          2.8999372,
          2.8999372,
          2.5999835,
          2.5999835,
          2.2999744,
          1.9000125,
          2.5999835,
          1.2000281,
          1.9000125,
          2.199985,
          0.3001171,
          2.199985,
          1.2000281,
          1.2000281,
          1.2000281,
          1.9000125,
          2.199985,
          1.9000125,
          2.199985,
          2.199985,
          2.8999372,
          1.500004,
          2.8999372,
          1.500004,
          1.500004,
          1.2000281,
          2.199985,
          1.2000281,
          2.199985,
          0.9000703,
          2.5999835,
          2.8999372,
          2.199985,
          1.500004,
          2.199985,
          1.2000281,
          2.199985,
          2.199985,
          2.5999835,
          1.500004,
          1.500004,
          1.2000281,
          1.500004,
          1.9000125,
          1.6000112,
          2.2999744,
          1.7000102,
          0.9000703,
          0.3001171,
          2.5999835,
          2.8999372,
          2.199985,
          2.199985,
          2.199985,
          0.9000703,
          0.3001171,
          0.9000703,
          1.2000281,
          2.000011,
          2.5999835,
          0.9000703,
          1.500004,
          2.199985,
          1.500004,
          2.199985,
          1.500004,
          2.199985,
          2.199985,
          1.500004,
          2.8999372,
          0.9000703,
          1.500004,
          2.2999744,
          1.2000281,
          1.500004,
          1.2000281,
          1.500004,
          2.199985,
          2.199985,
          2.5999835,
          1.2000281,
          1.3000503,
          2.199985,
          1.6000112,
          1.500004,
          1.9000125,
          1.500004,
          2.2999744,
          1.500004,
          2.199985,
          1.9000125,
          1.2000281,
          2.199985,
          2.199985,
          1.6000112,
          1.2000281,
          2.8999372,
          1.6000112,
          2.199985,
          1.2000281,
          1.9000125,
          1.2000281,
          2.5999835,
          2.8999372,
          1.9000125,
          2.199985,
          2.8999372,
          1.9000125,
          1.9000125,
          1.2000281,
          2.8999372,
          1.500004,
          2.199985,
          1.2000281,
          2.199985,
          1.6000112,
          2.199985,
          2.8999372,
          2.5999835,
          1.500004,
          2.8999372,
          2.199985,
          2.5999835,
          1.6000112,
          2.5999835,
          1.2000281,
          1.3000503,
          2.199985,
          0.9000703,
          2.199985,
          2.2999744,
          1.500004,
          2.199985,
          2.8999372,
          2.8999372,
          1.500004,
          2.199985,
          1.2000281,
          1.2000281,
          2.5999835,
          1.2000281,
          1.2000281,
          2.8999372,
          2.2999744,
          2.2999744,
          1.9000125,
          0.9000703,
          1.9000125,
          1.2000281,
          1.2000281,
          2.2999744,
          1.2000281,
          1.2000281,
          2.2999744,
          2.8999372,
          2.8999372,
          2.199985,
          2.199985,
          2.5999835,
          2.5999835,
          2.199985,
          2.199985,
          2.8999372,
          1.2000281,
          1.9000125,
          0.3001171,
          1.500004,
          2.199985,
          1.2000281,
          1.500004,
          1.2000281,
          2.199985,
          1.9000125,
          1.9000125,
          1.2000281,
          1.500004,
          2.199985,
          1.9000125,
          2.199985,
          2.199985,
          0.9000703,
          2.8999372,
          1.500004,
          1.9000125,
          2.199985,
          2.8999372,
          2.8999372,
          1.2000281,
          1.500004,
          2.5999835,
          2.199985,
          2.5999835,
          1.9000125,
          1.500004,
          1.500004,
          2.199985,
          0.9000703,
          2.199985,
          2.199985,
          1.500004,
          1.9000125,
          1.6000112,
          2.8999372,
          1.2000281,
          1.500004,
          1.6000112,
          1.9000125,
          2.8999372,
          2.5999835,
          1.9000125,
          1.6000112,
          2.8999372,
          1.9000125,
          1.2000281,
          1.9000125,
          1.7000102,
          0.9000703,
          1.500004,
          2.199985,
          1.500004,
          2.199985,
          1.9000125,
          0.3001171,
          1.6000112,
          1.500004,
          2.199985,
          1.500004,
          0.6000495,
          2.5999835,
          2.5999835,
          1.500004,
          1.500004,
          2.8999372,
          1.500004,
          2.199985,
          2.8999372,
          2.8999372,
          1.9000125,
          2.8999372,
          1.9000125,
          1.6000112,
          2.199985,
          2.8999372,
          2.8999372,
          1.9000125,
          1.7000102,
          1.500004,
          2.8999372,
          2.8999372,
          1.9000125,
          1.9000125,
          1.500004,
          2.2999744,
          2.199985,
          2.2999744,
          2.199985,
          1.500004,
          1.9000125,
          2.5999835,
          2.5999835,
          1.2000281,
          1.9000125,
          1.6000112,
          1.2000281,
          2.8999372,
          2.2999744,
          1.9000125,
          0.3001171,
          1.2000281,
          2.8999372,
          1.2000281,
          2.8999372,
          2.199985,
          0.9000703,
          1.500004,
          2.2999744,
          2.5999835,
          2.199985,
          1.500004,
          1.2000281,
          2.8999372,
          2.199985,
          1.9000125,
          2.199985,
          1.6000112,
          2.5999835,
          2.8999372,
          0.9000703,
          2.199985,
          2.8999372,
          1.500004,
          2.8999372,
          1.2000281,
          2.8999372,
          2.199985,
          2.8999372,
          2.199985,
          1.500004,
          2.8999372,
          2.8999372,
          1.500004,
          2.199985,
          0.9000703,
          1.2000281,
          0.9000703,
          0.9000703,
          0.9000703,
          0.9000703,
          0.9000703,
          2.199985,
          1.500004,
          2.8999372,
          2.8999372,
          1.2000281,
          2.8999372,
          2.5999835,
          2.8999372,
          2.8999372,
          2.5999835,
          1.6000112,
          2.199985,
          0.9000703,
          1.6000112,
          1.9000125,
          1.2000281,
          2.5999835,
          2.8999372,
          2.8999372,
          1.6000112,
          2.5999835,
          2.5999835,
          1.2000281,
          1.9000125,
          2.2999744,
          2.5999835,
          2.5999835,
          0.9000703,
          1.9000125,
          1.9000125,
          2.8999372,
          1.500004,
          1.2000281,
          2.5999835,
          1.500004,
          2.199985,
          2.8999372,
          2.8999372,
          2.8999372,
          1.500004,
          2.199985,
          2.5999835,
          1.2000281,
          1.6000112,
          1.2000281,
          2.199985,
          2.5999835,
          2.2999744,
          0.9000703,
          2.8999372,
          1.9000125,
          2.5999835,
          2.8999372,
          1.500004,
          1.2000281,
          0.9000703,
          0.9000703,
          2.000011,
          1.500004,
          1.500004,
          2.5999835,
          2.8999372,
          1.9000125,
          2.8999372,
          2.8999372,
          1.500004,
          1.3000503,
          1.500004,
          2.8999372,
          2.8999372,
          1.9000125,
          1.2000281,
          1.500004,
          2.8999372,
          1.500004,
          2.8999372,
          1.2000281,
          2.8999372,
          2.199985,
          1.500004,
          1.500004,
          1.500004,
          2.8999372,
          2.5999835,
          2.199985,
          2.2999744,
          2.199985,
          2.8999372,
          2.199985,
          2.199985,
          1.2000281,
          1.2000281,
          2.5999835,
          1.6000112,
          2.5999835,
          0.9000703,
          0.9000703,
          1.500004,
          1.9000125,
          1.500004,
          1.2000281,
          1.2000281,
          2.5999835,
          1.2000281,
          2.199985,
          1.9000125,
          1.6000112,
          1.9000125,
          1.9000125,
          1.2000281,
          2.5999835,
          1.500004,
          1.500004,
          2.8999372,
          0.9000703,
          1.500004,
          1.2000281,
          2.2999744,
          2.199985,
          2.199985,
          1.500004,
          0.9000703,
          1.500004,
          2.5999835,
          1.500004,
          1.9000125,
          1.9000125,
          2.8999372,
          2.5999835,
          2.199985,
          1.500004,
          2.8999372,
          1.500004,
          1.500004,
          2.5999835,
          0.3001171,
          2.8999372,
          1.2000281,
          2.8999372,
          0.9000703,
          0.9000703,
          1.000132,
          2.8999372,
          2.8999372,
          2.5999835,
          1.2000281,
          0.9000703,
          2.8999372,
          1.9000125,
          2.199985,
          1.2000281,
          2.8999372,
          1.2000281,
          1.500004,
          2.8999372,
          2.8999372,
          2.2999744,
          0.9000703,
          2.199985,
          2.199985,
          2.8999372,
          2.8999372,
          1.9000125,
          0.9000703,
          0.9000703,
          0.3001171,
          1.6000112,
          2.8999372,
          2.8999372,
          2.199985,
          1.500004,
          2.199985,
          2.2999744,
          2.8999372,
          2.5999835,
          2.199985,
          2.199985,
          2.199985,
          2.199985,
          1.2000281,
          1.500004,
          1.500004,
          1.2000281,
          1.9000125,
          1.500004,
          2.5999835,
          2.199985,
          1.2000281,
          1.2000281,
          0.3001171,
          2.8999372,
          0.9000703,
          2.8999372,
          1.500004,
          1.500004,
          2.8999372,
          2.8999372,
          1.500004,
          1.2000281,
          1.500004,
          2.000011,
          1.500004,
          0.9000703,
          1.6000112,
          1.9000125,
          1.500004,
          2.8999372,
          2.2999744,
          2.199985,
          1.9000125,
          1.2000281,
          2.199985,
          2.2999744,
          2.199985,
          1.500004,
          2.8999372,
          1.9000125,
          1.3000503,
          2.5999835,
          2.199985,
          2.8999372,
          2.5999835,
          2.199985,
          1.9000125,
          1.2000281,
          1.9000125,
          1.2000281,
          2.5999835,
          2.5999835,
          2.199985,
          1.500004,
          0.6000495,
          2.2999744,
          2.5999835,
          1.6000112,
          2.8999372,
          1.6000112,
          1.500004,
          1.9000125,
          2.8999372,
          1.500004,
          1.9000125,
          1.500004,
          2.199985,
          2.5999835,
          1.9000125,
          0.9000703,
          1.2000281,
          2.199985,
          2.199985,
          1.9000125,
          2.5999835,
          1.9000125,
          1.9000125,
          2.8999372,
          1.500004,
          0.6000495,
          1.000132,
          1.500004,
          1.9000125,
          2.5999835,
          2.199985,
          1.500004,
          2.5999835,
          1.9000125,
          2.199985,
          1.500004,
          0.3001171,
          1.000132,
          2.199985,
          2.199985,
          1.500004,
          2.199985,
          2.8999372,
          2.8999372,
          0.9000703,
          1.500004,
          2.8999372,
          1.2000281,
          1.500004,
          1.6000112,
          2.8999372,
          0.9000703,
          2.8999372,
          0.9000703,
          1.9000125,
          2.5999835,
          1.9000125,
          2.5999835,
          2.199985,
          2.8999372,
          2.8999372,
          1.9000125,
          2.199985,
          1.500004,
          1.500004,
          2.5999835,
          1.2000281,
          2.000011,
          1.000132,
          0.3001171,
          1.000132,
          1.2000281,
          2.199985,
          1.500004,
          1.2000281,
          2.5999835,
          2.2999744,
          2.8999372,
          1.6000112,
          2.8999372,
          1.6000112,
          1.500004,
          2.199985,
          1.6000112,
          1.2000281,
          1.2000281,
          2.199985,
          1.500004,
          2.8999372,
          1.500004,
          1.9000125,
          2.8999372,
          2.2999744,
          1.500004,
          2.199985,
          1.500004,
          1.2000281,
          1.2000281,
          2.199985,
          1.6000112,
          2.2999744,
          2.8999372,
          2.8999372,
          2.8999372,
          2.8999372,
          1.2000281,
          2.5999835,
          1.2000281,
          2.8999372,
          2.5999835,
          1.500004,
          1.3000503,
          1.6000112,
          2.199985,
          2.5999835,
          2.199985,
          1.6000112,
          1.500004,
          2.8999372,
          2.199985,
          2.5999835,
          2.8999372,
          0.9000703,
          1.9000125,
          1.2000281,
          2.5999835,
          2.2999744,
          2.8999372,
          2.8999372,
          1.9000125,
          1.6000112,
          2.5999835,
          2.199985,
          1.000132,
          1.2000281,
          2.5999835,
          2.199985,
          2.5999835,
          1.2000281,
          1.9000125,
          1.9000125,
          2.5999835,
          2.2999744,
          1.9000125,
          1.500004,
          1.2000281,
          2.8999372,
          1.2000281,
          2.199985,
          1.500004,
          1.500004,
          1.500004,
          1.500004,
          1.2000281,
          1.2000281,
          2.199985,
          0.9000703,
          0.9000703,
          1.500004,
          0.3001171,
          1.500004,
          1.6000112,
          1.500004,
          2.199985,
          0.3001171,
          1.6000112,
          1.2000281,
          1.2000281,
          1.9000125,
          1.9000125,
          1.6000112,
          0.3001171,
          2.5999835,
          1.2000281,
          2.5999835,
          1.9000125,
          2.199985,
          1.2000281,
          2.8999372,
          1.500004,
          1.2000281,
          2.199985,
          1.2000281,
          1.9000125,
          2.5999835,
          1.2000281,
          1.500004,
          1.500004,
          1.500004,
          2.199985,
          1.500004,
          1.9000125,
          0.6000495,
          1.9000125,
          1.6000112,
          1.2000281,
          1.9000125,
          1.9000125,
          1.500004,
          2.199985,
          2.8999372,
          2.8999372,
          1.500004,
          1.500004,
          0.9000703,
          2.2999744,
          2.5999835,
          1.2000281,
          1.6000112,
          1.500004,
          2.199985,
          2.8999372,
          2.199985,
          1.9000125,
          0.9000703,
          1.2000281,
          1.9000125,
          1.9000125,
          2.2999744,
          1.2000281,
          2.8999372,
          1.9000125,
          1.9000125,
          2.8999372,
          1.500004,
          1.500004,
          2.8999372,
          1.500004,
          1.500004,
          1.2000281,
          0.9000703,
          1.9000125,
          1.6000112,
          1.2000281,
          2.000011,
          1.2000281,
          2.5999835,
          1.500004,
          2.199985,
          1.500004,
          2.5999835,
          2.199985,
          1.7000102,
          2.199985,
          1.7000102,
          1.500004,
          2.199985,
          1.9000125,
          2.199985,
          1.2000281,
          1.500004,
          2.8999372,
          1.9000125,
          1.9000125,
          2.5999835,
          2.199985,
          1.9000125,
          1.2000281,
          1.500004,
          1.7000102,
          1.9000125,
          1.2000281,
          2.199985,
          1.500004,
          1.9000125,
          0.9000703,
          2.5999835,
          2.5999835,
          0.9000703,
          1.2000281,
          1.9000125,
          2.8999372,
          2.8999372,
          2.199985,
          1.9000125,
          2.199985,
          1.2000281,
          1.9000125,
          1.500004,
          1.3000503,
          2.5999835,
          2.8999372,
          1.000132,
          0.9000703,
          1.500004,
          2.8999372,
          1.500004,
          1.6000112,
          1.9000125,
          2.5999835,
          1.2000281,
          1.500004,
          1.9000125,
          1.2000281,
          1.6000112,
          2.199985,
          1.000132,
          1.3000503,
          2.8999372,
          2.8999372,
          1.9000125,
          1.2000281,
          2.8999372,
          1.9000125,
          1.500004,
          2.5999835,
          2.8999372,
          2.5999835,
          2.199985,
          1.9000125,
          0.9000703,
          2.199985,
          1.9000125,
          1.2000281,
          1.9000125,
          1.6000112,
          2.000011,
          1.500004,
          1.3000503,
          2.199985,
          1.500004,
          2.8999372,
          1.9000125,
          1.2000281,
          2.8999372,
          2.199985,
          2.8999372,
          1.2000281,
          2.5999835,
          1.6000112,
          2.199985,
          2.199985,
          2.199985,
          0.9000703,
          2.8999372,
          2.5999835,
          1.500004,
          1.2000281,
          2.5999835,
          0.9000703,
          0.9000703,
          1.2000281,
          1.9000125,
          1.500004,
          1.9000125,
          1.9000125,
          1.2000281,
          1.9000125,
          1.2000281,
          1.9000125,
          1.500004,
          1.6000112,
          0.3001171,
          1.000132,
          0.9000703,
          2.5999835,
          1.500004,
          0.9000703,
          2.8999372,
          2.199985,
          2.199985,
          1.2000281,
          1.9000125,
          1.500004,
          1.2000281,
          0.9000703,
          2.8999372,
          2.8999372,
          2.199985,
          1.500004,
          2.199985,
          2.199985,
          2.8999372,
          2.8999372,
          2.8999372,
          2.8999372,
          2.199985,
          2.199985,
          2.199985,
          1.500004,
          2.8999372,
          2.8999372,
          1.2000281,
          2.5999835,
          1.500004,
          2.5999835,
          1.2000281,
          2.8999372,
          1.9000125,
          1.9000125,
          1.500004,
          2.5999835,
          1.000132,
          1.3000503,
          2.5999835,
          1.6000112,
          1.500004,
          1.2000281,
          2.8999372,
          1.9000125,
          2.8999372,
          2.5999835,
          2.8999372,
          1.3000503,
          1.7000102,
          1.500004,
          1.500004,
          1.2000281,
          1.500004,
          1.9000125,
          1.2000281,
          1.2000281,
          1.500004,
          2.199985,
          0.9000703,
          0.3001171,
          2.5999835,
          1.3000503,
          1.9000125,
          0.9000703,
          1.500004,
          2.5999835,
          2.8999372,
          1.9000125,
          2.199985,
          0.9000703,
          2.199985,
          2.8999372,
          2.8999372,
          2.199985,
          1.500004,
          1.2000281,
          2.8999372,
          1.2000281,
          1.6000112,
          2.8999372,
          2.5999835,
          2.199985,
          1.6000112,
          0.9000703,
          1.6000112,
          2.2999744,
          0.6000495,
          1.6000112,
          2.199985,
          1.500004,
          2.5999835,
          2.8999372,
          1.9000125,
          2.8999372,
          2.8999372,
          2.8999372,
          2.5999835,
          2.199985,
          0.9000703,
          1.000132,
          2.199985,
          1.3000503,
          0.3001171,
          1.9000125,
          2.8999372,
          2.199985,
          2.8999372,
          1.2000281,
          1.2000281,
          1.7000102,
          0.9000703,
          2.199985,
          2.5999835,
          2.199985,
          2.5999835,
          2.8999372,
          2.5999835,
          1.7000102,
          1.500004,
          1.500004,
          2.5999835,
          2.5999835,
          0.9000703,
          1.2000281,
          1.9000125,
          2.5999835,
          2.2999744,
          1.9000125,
          2.8999372,
          1.500004,
          1.9000125,
          1.500004,
          1.2000281,
          2.5999835,
          1.2000281,
          2.199985,
          1.6000112,
          1.2000281,
          2.199985,
          2.8999372,
          1.000132,
          1.500004,
          1.500004,
          2.8999372,
          2.199985,
          2.199985,
          2.199985,
          1.9000125,
          2.5999835,
          2.199985,
          2.199985,
          2.199985,
          1.2000281,
          0.9000703,
          2.199985,
          2.5999835,
          2.199985,
          0.9000703,
          1.500004,
          2.199985,
          1.500004,
          0.9000703,
          1.9000125,
          1.9000125,
          2.199985,
          1.2000281,
          2.2999744,
          2.199985,
          2.199985,
          1.9000125,
          1.500004,
          1.500004,
          1.500004,
          2.5999835,
          1.9000125,
          2.199985,
          2.199985,
          2.199985,
          1.500004,
          2.5999835,
          1.9000125,
          2.8999372,
          2.199985,
          2.8999372,
          2.2999744,
          1.500004,
          2.8999372,
          1.9000125,
          2.5999835,
          2.8999372,
          1.2000281,
          1.9000125,
          2.8999372,
          1.500004,
          2.8999372,
          0.9000703,
          2.5999835,
          0.6000495,
          2.199985,
          2.199985,
          1.500004,
          2.199985,
          2.2999744,
          1.2000281,
          2.8999372,
          1.500004,
          2.2999744,
          1.7000102,
          2.199985,
          0.3001171,
          2.2999744,
          1.9000125,
          1.2000281,
          0.9000703,
          1.2000281,
          2.8999372,
          1.9000125,
          1.9000125,
          2.199985,
          1.6000112,
          2.199985,
          1.500004,
          2.8999372,
          1.500004,
          2.8999372,
          2.8999372,
          1.500004,
          1.500004,
          1.500004,
          1.500004,
          2.000011,
          2.8999372,
          1.9000125,
          1.500004,
          2.8999372,
          1.6000112,
          2.199985,
          2.5999835,
          0.3001171,
          1.2000281,
          1.9000125,
          1.9000125,
          2.8999372,
          2.199985,
          1.500004,
          2.2999744,
          1.500004,
          0.9000703,
          0.9000703,
          2.2999744,
          2.000011,
          1.500004,
          2.199985,
          2.8999372,
          2.199985,
          2.199985,
          1.6000112,
          1.500004,
          2.199985,
          2.199985,
          2.8999372,
          1.500004,
          1.9000125,
          1.500004,
          1.500004,
          0.9000703,
          1.500004,
          1.500004,
          1.500004,
          2.8999372,
          2.5999835,
          1.9000125,
          1.2000281,
          2.8999372,
          1.500004,
          1.2000281,
          2.8999372,
          0.6000495,
          2.199985,
          1.500004,
          1.2000281,
          0.6000495,
          1.2000281,
          1.500004,
          2.5999835,
          1.000132,
          1.000132,
          2.5999835,
          0.3001171,
          1.2000281,
          1.7000102,
          1.3000503,
          1.000132,
          2.8999372,
          2.8999372,
          2.199985,
          1.500004,
          0.9000703,
          1.500004,
          2.8999372,
          2.5999835,
          1.500004,
          2.199985,
          2.199985,
          0.3001171,
          2.5999835,
          2.8999372,
          2.8999372,
          1.500004,
          2.5999835,
          2.8999372,
          1.500004,
          2.8999372,
          1.9000125,
          1.9000125,
          1.9000125,
          2.8999372,
          2.5999835,
          1.500004,
          2.199985,
          2.199985,
          2.2999744,
          0.9000703,
          1.9000125,
          1.7000102,
          2.5999835,
          1.500004,
          1.3000503,
          1.9000125,
          1.9000125,
          1.6000112,
          2.8999372,
          2.000011,
          1.9000125,
          2.199985,
          1.500004,
          1.500004,
          1.3000503,
          1.9000125,
          1.9000125,
          1.9000125,
          1.500004,
          0.9000703,
          1.6000112,
          1.6000112,
          1.500004,
          2.199985,
          2.2999744,
          2.5999835,
          2.000011,
          2.199985,
          2.8999372,
          1.500004,
          0.3001171,
          1.9000125,
          2.199985,
          1.9000125,
          1.500004,
          2.8999372,
          2.199985,
          1.500004,
          1.9000125,
          2.199985,
          1.500004,
          2.8999372,
          1.9000125,
          2.8999372,
          2.199985,
          2.199985,
          2.199985,
          2.8999372,
          2.199985,
          2.199985,
          2.199985,
          2.199985,
          1.7000102,
          1.6000112,
          1.500004,
          2.199985,
          1.2000281,
          2.199985,
          2.8999372,
          2.199985,
          2.199985,
          1.000132,
          1.000132,
          2.8999372,
          2.199985,
          2.199985,
          1.500004,
          2.199985,
          2.199985,
          1.2000281,
          1.500004,
          2.199985,
          2.8999372,
          1.2000281,
          1.000132,
          1.9000125,
          2.8999372,
          1.2000281,
          1.000132,
          2.2999744,
          2.2999744,
          2.8999372,
          1.9000125,
          1.9000125,
          2.199985,
          2.199985,
          1.2000281,
          1.2000281,
          2.199985,
          1.2000281,
          1.3000503,
          1.2000281,
          1.9000125,
          2.8999372,
          0.9000703,
          2.2999744,
          1.500004,
          2.5999835,
          1.500004,
          2.199985,
          1.500004,
          2.199985,
          0.3001171,
          1.9000125,
          2.5999835,
          1.9000125,
          1.3000503,
          1.6000112,
          1.500004,
          1.2000281,
          1.6000112,
          0.6000495,
          1.6000112,
          1.500004,
          1.500004,
          1.2000281,
          1.2000281,
          1.2000281,
          2.199985,
          2.8999372,
          1.6000112,
          2.2999744,
          1.2000281,
          1.500004,
          1.2000281,
          0.9000703,
          1.6000112,
          1.2000281,
          2.199985,
          1.500004,
          2.2999744,
          1.500004,
          1.2000281,
          0.6000495,
          2.5999835,
          0.3001171,
          1.500004,
          2.5999835,
          0.3001171,
          2.199985,
          1.500004,
          2.8999372,
          2.5999835,
          1.500004,
          2.199985,
          1.2000281,
          1.9000125,
          2.199985,
          2.5999835,
          1.2000281,
          0.9000703,
          2.8999372,
          2.5999835,
          1.2000281,
          2.5999835,
          1.9000125,
          2.2999744,
          0.3001171,
          2.199985,
          1.500004,
          2.5999835,
          1.2000281,
          0.9000703,
          1.9000125,
          2.5999835,
          1.500004,
          1.500004,
          2.199985,
          1.500004,
          2.199985,
          1.500004,
          2.199985,
          1.500004,
          1.6000112,
          0.9000703,
          2.000011,
          1.9000125,
          1.9000125,
          1.500004,
          2.5999835,
          2.2999744,
          1.2000281,
          2.199985,
          1.2000281,
          2.2999744,
          1.2000281,
          1.500004,
          1.500004,
          2.5999835,
          2.199985,
          2.8999372,
          1.500004,
          2.199985,
          2.199985,
          2.199985,
          1.500004,
          2.199985,
          1.500004,
          1.2000281,
          2.5999835,
          1.2000281,
          1.3000503,
          1.9000125,
          1.500004,
          1.7000102,
          0.3001171,
          2.199985,
          1.500004,
          1.500004,
          1.500004,
          1.500004,
          2.8999372,
          2.199985,
          1.500004,
          1.2000281,
          1.9000125,
          2.199985,
          1.2000281,
          2.199985,
          1.6000112,
          1.7000102,
          0.3001171,
          2.8999372,
          2.199985,
          2.199985,
          1.9000125,
          1.500004,
          1.2000281,
          1.9000125,
          2.000011,
          2.199985,
          2.8999372,
          2.8999372,
          2.5999835,
          1.500004,
          2.199985,
          2.5999835,
          2.8999372,
          2.5999835,
          2.5999835,
          1.2000281,
          1.2000281,
          1.500004,
          1.500004,
          1.500004,
          1.500004,
          1.9000125,
          2.199985,
          2.8999372,
          1.500004,
          2.199985,
          1.500004,
          1.500004,
          2.5999835,
          1.9000125,
          1.9000125,
          1.2000281,
          1.2000281,
          1.9000125,
          2.5999835,
          2.5999835,
          1.6000112,
          1.500004,
          2.199985,
          1.500004,
          2.199985,
          2.8999372,
          2.8999372,
          1.500004,
          1.500004,
          2.8999372,
          1.2000281,
          1.500004,
          1.9000125,
          0.3001171,
          2.199985,
          2.8999372,
          1.500004,
          1.2000281,
          1.6000112,
          0.3001171,
          1.9000125,
          1.9000125,
          1.6000112,
          2.8999372,
          2.5999835,
          1.500004,
          0.9000703,
          1.2000281,
          1.2000281,
          2.8999372,
          1.9000125,
          0.9000703,
          2.199985,
          2.8999372,
          1.2000281,
          0.3001171,
          1.500004,
          2.199985,
          2.8999372,
          2.199985,
          1.500004,
          2.5999835,
          2.199985,
          1.500004,
          1.500004,
          1.2000281,
          2.5999835,
          2.2999744,
          2.2999744,
          1.9000125,
          2.8999372,
          2.199985,
          1.9000125,
          1.9000125,
          1.9000125,
          2.5999835,
          2.5999835,
          2.199985,
          0.9000703,
          1.2000281,
          1.2000281,
          2.5999835,
          2.8999372,
          2.199985,
          0.6000495,
          1.2000281,
          1.000132,
          1.500004,
          1.500004,
          2.199985,
          0.6000495,
          1.2000281,
          1.9000125,
          2.199985,
          2.8999372,
          2.199985,
          0.6000495,
          1.500004,
          2.199985,
          2.199985,
          1.9000125,
          1.2000281,
          2.5999835,
          1.9000125,
          1.2000281,
          1.2000281,
          2.199985,
          2.199985,
          2.8999372,
          2.199985,
          2.5999835,
          1.500004,
          0.3001171,
          2.2999744,
          1.9000125,
          1.500004,
          2.8999372,
          1.500004,
          2.8999372,
          2.199985,
          2.2999744,
          2.199985,
          1.000132,
          1.9000125,
          1.000132,
          0.3001171,
          2.2999744,
          1.500004,
          1.500004,
          2.8999372,
          2.199985,
          1.2000281,
          0.3001171,
          2.8999372,
          1.500004,
          2.8999372,
          2.5999835,
          1.500004,
          2.199985,
          2.8999372,
          2.199985,
          2.8999372,
          1.9000125,
          2.5999835,
          2.199985,
          2.199985,
          1.9000125,
          2.5999835,
          1.2000281,
          2.5999835,
          2.5999835,
          1.500004,
          1.500004,
          2.5999835,
          0.9000703,
          2.199985,
          2.199985,
          1.9000125,
          1.2000281,
          1.500004,
          0.9000703,
          2.8999372,
          2.2999744,
          1.7000102,
          2.5999835,
          1.500004,
          1.500004,
          2.199985,
          2.5999835,
          2.8999372,
          1.6000112,
          2.8999372,
          1.2000281,
          1.500004,
          1.500004,
          2.199985,
          2.2999744,
          1.9000125,
          2.8999372,
          1.9000125,
          2.2999744,
          2.5999835,
          2.2999744,
          1.500004,
          0.9000703,
          1.2000281,
          2.8999372,
          0.9000703,
          2.5999835,
          2.8999372,
          1.9000125,
          1.6000112,
          2.5999835
         ],
         "yaxis": "y"
        }
       ],
       "layout": {
        "legend": {
         "tracegroupgap": 0
        },
        "template": {
         "data": {
          "bar": [
           {
            "error_x": {
             "color": "#2a3f5f"
            },
            "error_y": {
             "color": "#2a3f5f"
            },
            "marker": {
             "line": {
              "color": "#E5ECF6",
              "width": 0.5
             },
             "pattern": {
              "fillmode": "overlay",
              "size": 10,
              "solidity": 0.2
             }
            },
            "type": "bar"
           }
          ],
          "barpolar": [
           {
            "marker": {
             "line": {
              "color": "#E5ECF6",
              "width": 0.5
             },
             "pattern": {
              "fillmode": "overlay",
              "size": 10,
              "solidity": 0.2
             }
            },
            "type": "barpolar"
           }
          ],
          "carpet": [
           {
            "aaxis": {
             "endlinecolor": "#2a3f5f",
             "gridcolor": "white",
             "linecolor": "white",
             "minorgridcolor": "white",
             "startlinecolor": "#2a3f5f"
            },
            "baxis": {
             "endlinecolor": "#2a3f5f",
             "gridcolor": "white",
             "linecolor": "white",
             "minorgridcolor": "white",
             "startlinecolor": "#2a3f5f"
            },
            "type": "carpet"
           }
          ],
          "choropleth": [
           {
            "colorbar": {
             "outlinewidth": 0,
             "ticks": ""
            },
            "type": "choropleth"
           }
          ],
          "contour": [
           {
            "colorbar": {
             "outlinewidth": 0,
             "ticks": ""
            },
            "colorscale": [
             [
              0,
              "#0d0887"
             ],
             [
              0.1111111111111111,
              "#46039f"
             ],
             [
              0.2222222222222222,
              "#7201a8"
             ],
             [
              0.3333333333333333,
              "#9c179e"
             ],
             [
              0.4444444444444444,
              "#bd3786"
             ],
             [
              0.5555555555555556,
              "#d8576b"
             ],
             [
              0.6666666666666666,
              "#ed7953"
             ],
             [
              0.7777777777777778,
              "#fb9f3a"
             ],
             [
              0.8888888888888888,
              "#fdca26"
             ],
             [
              1,
              "#f0f921"
             ]
            ],
            "type": "contour"
           }
          ],
          "contourcarpet": [
           {
            "colorbar": {
             "outlinewidth": 0,
             "ticks": ""
            },
            "type": "contourcarpet"
           }
          ],
          "heatmap": [
           {
            "colorbar": {
             "outlinewidth": 0,
             "ticks": ""
            },
            "colorscale": [
             [
              0,
              "#0d0887"
             ],
             [
              0.1111111111111111,
              "#46039f"
             ],
             [
              0.2222222222222222,
              "#7201a8"
             ],
             [
              0.3333333333333333,
              "#9c179e"
             ],
             [
              0.4444444444444444,
              "#bd3786"
             ],
             [
              0.5555555555555556,
              "#d8576b"
             ],
             [
              0.6666666666666666,
              "#ed7953"
             ],
             [
              0.7777777777777778,
              "#fb9f3a"
             ],
             [
              0.8888888888888888,
              "#fdca26"
             ],
             [
              1,
              "#f0f921"
             ]
            ],
            "type": "heatmap"
           }
          ],
          "heatmapgl": [
           {
            "colorbar": {
             "outlinewidth": 0,
             "ticks": ""
            },
            "colorscale": [
             [
              0,
              "#0d0887"
             ],
             [
              0.1111111111111111,
              "#46039f"
             ],
             [
              0.2222222222222222,
              "#7201a8"
             ],
             [
              0.3333333333333333,
              "#9c179e"
             ],
             [
              0.4444444444444444,
              "#bd3786"
             ],
             [
              0.5555555555555556,
              "#d8576b"
             ],
             [
              0.6666666666666666,
              "#ed7953"
             ],
             [
              0.7777777777777778,
              "#fb9f3a"
             ],
             [
              0.8888888888888888,
              "#fdca26"
             ],
             [
              1,
              "#f0f921"
             ]
            ],
            "type": "heatmapgl"
           }
          ],
          "histogram": [
           {
            "marker": {
             "pattern": {
              "fillmode": "overlay",
              "size": 10,
              "solidity": 0.2
             }
            },
            "type": "histogram"
           }
          ],
          "histogram2d": [
           {
            "colorbar": {
             "outlinewidth": 0,
             "ticks": ""
            },
            "colorscale": [
             [
              0,
              "#0d0887"
             ],
             [
              0.1111111111111111,
              "#46039f"
             ],
             [
              0.2222222222222222,
              "#7201a8"
             ],
             [
              0.3333333333333333,
              "#9c179e"
             ],
             [
              0.4444444444444444,
              "#bd3786"
             ],
             [
              0.5555555555555556,
              "#d8576b"
             ],
             [
              0.6666666666666666,
              "#ed7953"
             ],
             [
              0.7777777777777778,
              "#fb9f3a"
             ],
             [
              0.8888888888888888,
              "#fdca26"
             ],
             [
              1,
              "#f0f921"
             ]
            ],
            "type": "histogram2d"
           }
          ],
          "histogram2dcontour": [
           {
            "colorbar": {
             "outlinewidth": 0,
             "ticks": ""
            },
            "colorscale": [
             [
              0,
              "#0d0887"
             ],
             [
              0.1111111111111111,
              "#46039f"
             ],
             [
              0.2222222222222222,
              "#7201a8"
             ],
             [
              0.3333333333333333,
              "#9c179e"
             ],
             [
              0.4444444444444444,
              "#bd3786"
             ],
             [
              0.5555555555555556,
              "#d8576b"
             ],
             [
              0.6666666666666666,
              "#ed7953"
             ],
             [
              0.7777777777777778,
              "#fb9f3a"
             ],
             [
              0.8888888888888888,
              "#fdca26"
             ],
             [
              1,
              "#f0f921"
             ]
            ],
            "type": "histogram2dcontour"
           }
          ],
          "mesh3d": [
           {
            "colorbar": {
             "outlinewidth": 0,
             "ticks": ""
            },
            "type": "mesh3d"
           }
          ],
          "parcoords": [
           {
            "line": {
             "colorbar": {
              "outlinewidth": 0,
              "ticks": ""
             }
            },
            "type": "parcoords"
           }
          ],
          "pie": [
           {
            "automargin": true,
            "type": "pie"
           }
          ],
          "scatter": [
           {
            "fillpattern": {
             "fillmode": "overlay",
             "size": 10,
             "solidity": 0.2
            },
            "type": "scatter"
           }
          ],
          "scatter3d": [
           {
            "line": {
             "colorbar": {
              "outlinewidth": 0,
              "ticks": ""
             }
            },
            "marker": {
             "colorbar": {
              "outlinewidth": 0,
              "ticks": ""
             }
            },
            "type": "scatter3d"
           }
          ],
          "scattercarpet": [
           {
            "marker": {
             "colorbar": {
              "outlinewidth": 0,
              "ticks": ""
             }
            },
            "type": "scattercarpet"
           }
          ],
          "scattergeo": [
           {
            "marker": {
             "colorbar": {
              "outlinewidth": 0,
              "ticks": ""
             }
            },
            "type": "scattergeo"
           }
          ],
          "scattergl": [
           {
            "marker": {
             "colorbar": {
              "outlinewidth": 0,
              "ticks": ""
             }
            },
            "type": "scattergl"
           }
          ],
          "scattermapbox": [
           {
            "marker": {
             "colorbar": {
              "outlinewidth": 0,
              "ticks": ""
             }
            },
            "type": "scattermapbox"
           }
          ],
          "scatterpolar": [
           {
            "marker": {
             "colorbar": {
              "outlinewidth": 0,
              "ticks": ""
             }
            },
            "type": "scatterpolar"
           }
          ],
          "scatterpolargl": [
           {
            "marker": {
             "colorbar": {
              "outlinewidth": 0,
              "ticks": ""
             }
            },
            "type": "scatterpolargl"
           }
          ],
          "scatterternary": [
           {
            "marker": {
             "colorbar": {
              "outlinewidth": 0,
              "ticks": ""
             }
            },
            "type": "scatterternary"
           }
          ],
          "surface": [
           {
            "colorbar": {
             "outlinewidth": 0,
             "ticks": ""
            },
            "colorscale": [
             [
              0,
              "#0d0887"
             ],
             [
              0.1111111111111111,
              "#46039f"
             ],
             [
              0.2222222222222222,
              "#7201a8"
             ],
             [
              0.3333333333333333,
              "#9c179e"
             ],
             [
              0.4444444444444444,
              "#bd3786"
             ],
             [
              0.5555555555555556,
              "#d8576b"
             ],
             [
              0.6666666666666666,
              "#ed7953"
             ],
             [
              0.7777777777777778,
              "#fb9f3a"
             ],
             [
              0.8888888888888888,
              "#fdca26"
             ],
             [
              1,
              "#f0f921"
             ]
            ],
            "type": "surface"
           }
          ],
          "table": [
           {
            "cells": {
             "fill": {
              "color": "#EBF0F8"
             },
             "line": {
              "color": "white"
             }
            },
            "header": {
             "fill": {
              "color": "#C8D4E3"
             },
             "line": {
              "color": "white"
             }
            },
            "type": "table"
           }
          ]
         },
         "layout": {
          "annotationdefaults": {
           "arrowcolor": "#2a3f5f",
           "arrowhead": 0,
           "arrowwidth": 1
          },
          "autotypenumbers": "strict",
          "coloraxis": {
           "colorbar": {
            "outlinewidth": 0,
            "ticks": ""
           }
          },
          "colorscale": {
           "diverging": [
            [
             0,
             "#8e0152"
            ],
            [
             0.1,
             "#c51b7d"
            ],
            [
             0.2,
             "#de77ae"
            ],
            [
             0.3,
             "#f1b6da"
            ],
            [
             0.4,
             "#fde0ef"
            ],
            [
             0.5,
             "#f7f7f7"
            ],
            [
             0.6,
             "#e6f5d0"
            ],
            [
             0.7,
             "#b8e186"
            ],
            [
             0.8,
             "#7fbc41"
            ],
            [
             0.9,
             "#4d9221"
            ],
            [
             1,
             "#276419"
            ]
           ],
           "sequential": [
            [
             0,
             "#0d0887"
            ],
            [
             0.1111111111111111,
             "#46039f"
            ],
            [
             0.2222222222222222,
             "#7201a8"
            ],
            [
             0.3333333333333333,
             "#9c179e"
            ],
            [
             0.4444444444444444,
             "#bd3786"
            ],
            [
             0.5555555555555556,
             "#d8576b"
            ],
            [
             0.6666666666666666,
             "#ed7953"
            ],
            [
             0.7777777777777778,
             "#fb9f3a"
            ],
            [
             0.8888888888888888,
             "#fdca26"
            ],
            [
             1,
             "#f0f921"
            ]
           ],
           "sequentialminus": [
            [
             0,
             "#0d0887"
            ],
            [
             0.1111111111111111,
             "#46039f"
            ],
            [
             0.2222222222222222,
             "#7201a8"
            ],
            [
             0.3333333333333333,
             "#9c179e"
            ],
            [
             0.4444444444444444,
             "#bd3786"
            ],
            [
             0.5555555555555556,
             "#d8576b"
            ],
            [
             0.6666666666666666,
             "#ed7953"
            ],
            [
             0.7777777777777778,
             "#fb9f3a"
            ],
            [
             0.8888888888888888,
             "#fdca26"
            ],
            [
             1,
             "#f0f921"
            ]
           ]
          },
          "colorway": [
           "#636efa",
           "#EF553B",
           "#00cc96",
           "#ab63fa",
           "#FFA15A",
           "#19d3f3",
           "#FF6692",
           "#B6E880",
           "#FF97FF",
           "#FECB52"
          ],
          "font": {
           "color": "#2a3f5f"
          },
          "geo": {
           "bgcolor": "white",
           "lakecolor": "white",
           "landcolor": "#E5ECF6",
           "showlakes": true,
           "showland": true,
           "subunitcolor": "white"
          },
          "hoverlabel": {
           "align": "left"
          },
          "hovermode": "closest",
          "mapbox": {
           "style": "light"
          },
          "paper_bgcolor": "white",
          "plot_bgcolor": "#E5ECF6",
          "polar": {
           "angularaxis": {
            "gridcolor": "white",
            "linecolor": "white",
            "ticks": ""
           },
           "bgcolor": "#E5ECF6",
           "radialaxis": {
            "gridcolor": "white",
            "linecolor": "white",
            "ticks": ""
           }
          },
          "scene": {
           "xaxis": {
            "backgroundcolor": "#E5ECF6",
            "gridcolor": "white",
            "gridwidth": 2,
            "linecolor": "white",
            "showbackground": true,
            "ticks": "",
            "zerolinecolor": "white"
           },
           "yaxis": {
            "backgroundcolor": "#E5ECF6",
            "gridcolor": "white",
            "gridwidth": 2,
            "linecolor": "white",
            "showbackground": true,
            "ticks": "",
            "zerolinecolor": "white"
           },
           "zaxis": {
            "backgroundcolor": "#E5ECF6",
            "gridcolor": "white",
            "gridwidth": 2,
            "linecolor": "white",
            "showbackground": true,
            "ticks": "",
            "zerolinecolor": "white"
           }
          },
          "shapedefaults": {
           "line": {
            "color": "#2a3f5f"
           }
          },
          "ternary": {
           "aaxis": {
            "gridcolor": "white",
            "linecolor": "white",
            "ticks": ""
           },
           "baxis": {
            "gridcolor": "white",
            "linecolor": "white",
            "ticks": ""
           },
           "bgcolor": "#E5ECF6",
           "caxis": {
            "gridcolor": "white",
            "linecolor": "white",
            "ticks": ""
           }
          },
          "title": {
           "x": 0.05
          },
          "xaxis": {
           "automargin": true,
           "gridcolor": "white",
           "linecolor": "white",
           "ticks": "",
           "title": {
            "standoff": 15
           },
           "zerolinecolor": "white",
           "zerolinewidth": 2
          },
          "yaxis": {
           "automargin": true,
           "gridcolor": "white",
           "linecolor": "white",
           "ticks": "",
           "title": {
            "standoff": 15
           },
           "zerolinecolor": "white",
           "zerolinewidth": 2
          }
         }
        },
        "title": {
         "text": "Predicted Score vs Rating"
        },
        "xaxis": {
         "anchor": "y",
         "domain": [
          0,
          1
         ],
         "title": {
          "text": "Rating"
         }
        },
        "yaxis": {
         "anchor": "x",
         "domain": [
          0,
          1
         ],
         "title": {
          "text": "Predicted Score"
         }
        }
       }
      }
     },
     "metadata": {},
     "output_type": "display_data"
    },
    {
     "data": {
      "application/vnd.plotly.v1+json": {
       "config": {
        "plotlyServerURL": "https://plot.ly"
       },
       "data": [
        {
         "hovertemplate": "Predicted Sentiment=%{x}<br>Predicted Score=%{y}<extra></extra>",
         "legendgroup": "",
         "marker": {
          "color": "#636efa",
          "symbol": "circle"
         },
         "mode": "markers",
         "name": "",
         "showlegend": false,
         "type": "scattergl",
         "x": [
          1,
          0,
          0,
          2,
          0,
          2,
          2,
          2,
          0,
          2,
          1,
          1,
          2,
          0,
          0,
          0,
          0,
          1,
          0,
          1,
          1,
          0,
          0,
          2,
          0,
          0,
          0,
          1,
          0,
          1,
          0,
          1,
          1,
          2,
          1,
          2,
          0,
          2,
          1,
          2,
          0,
          2,
          2,
          2,
          2,
          2,
          2,
          1,
          0,
          1,
          1,
          2,
          2,
          1,
          0,
          0,
          2,
          0,
          1,
          0,
          2,
          1,
          0,
          0,
          2,
          0,
          0,
          1,
          0,
          2,
          2,
          0,
          2,
          0,
          2,
          1,
          1,
          1,
          2,
          1,
          1,
          1,
          0,
          1,
          1,
          2,
          1,
          0,
          0,
          2,
          1,
          0,
          1,
          2,
          1,
          0,
          0,
          2,
          0,
          2,
          1,
          0,
          2,
          0,
          2,
          0,
          2,
          0,
          2,
          1,
          1,
          0,
          0,
          0,
          2,
          0,
          0,
          2,
          0,
          1,
          0,
          2,
          0,
          2,
          0,
          0,
          2,
          0,
          0,
          2,
          2,
          2,
          2,
          2,
          2,
          1,
          2,
          0,
          1,
          1,
          0,
          1,
          0,
          0,
          0,
          1,
          1,
          1,
          1,
          1,
          2,
          0,
          2,
          0,
          0,
          0,
          1,
          0,
          1,
          0,
          2,
          2,
          1,
          0,
          1,
          0,
          1,
          1,
          2,
          0,
          0,
          0,
          0,
          1,
          1,
          2,
          2,
          0,
          0,
          2,
          2,
          1,
          1,
          1,
          0,
          0,
          0,
          0,
          2,
          2,
          0,
          0,
          1,
          0,
          1,
          0,
          1,
          1,
          0,
          2,
          0,
          0,
          2,
          0,
          0,
          0,
          0,
          1,
          1,
          2,
          0,
          1,
          1,
          1,
          0,
          1,
          0,
          2,
          0,
          1,
          1,
          0,
          1,
          1,
          1,
          0,
          2,
          1,
          1,
          0,
          1,
          0,
          2,
          2,
          1,
          1,
          2,
          1,
          1,
          0,
          2,
          0,
          1,
          0,
          1,
          1,
          1,
          2,
          2,
          0,
          2,
          1,
          2,
          1,
          2,
          0,
          1,
          1,
          0,
          1,
          2,
          0,
          1,
          2,
          2,
          0,
          1,
          0,
          0,
          2,
          0,
          0,
          2,
          2,
          2,
          1,
          0,
          1,
          0,
          0,
          2,
          0,
          0,
          2,
          2,
          2,
          1,
          1,
          2,
          2,
          1,
          1,
          2,
          0,
          1,
          0,
          0,
          1,
          0,
          0,
          0,
          1,
          1,
          1,
          0,
          0,
          1,
          1,
          1,
          1,
          0,
          2,
          0,
          1,
          1,
          2,
          2,
          0,
          0,
          2,
          1,
          2,
          1,
          0,
          0,
          1,
          0,
          1,
          1,
          0,
          1,
          1,
          2,
          0,
          0,
          1,
          1,
          2,
          2,
          1,
          1,
          2,
          1,
          0,
          1,
          2,
          0,
          0,
          1,
          0,
          1,
          1,
          0,
          1,
          0,
          1,
          0,
          0,
          2,
          2,
          0,
          0,
          2,
          0,
          1,
          2,
          2,
          1,
          2,
          1,
          1,
          1,
          2,
          2,
          1,
          2,
          0,
          2,
          2,
          1,
          1,
          0,
          2,
          1,
          2,
          1,
          0,
          1,
          2,
          2,
          0,
          1,
          1,
          0,
          2,
          2,
          1,
          0,
          0,
          2,
          0,
          2,
          1,
          0,
          0,
          2,
          2,
          1,
          0,
          0,
          2,
          1,
          1,
          1,
          1,
          2,
          2,
          0,
          1,
          2,
          0,
          2,
          0,
          2,
          1,
          2,
          1,
          0,
          2,
          2,
          0,
          1,
          0,
          0,
          0,
          0,
          0,
          0,
          0,
          1,
          0,
          2,
          2,
          0,
          2,
          2,
          2,
          2,
          2,
          1,
          1,
          0,
          1,
          1,
          0,
          2,
          2,
          2,
          1,
          2,
          2,
          0,
          1,
          2,
          2,
          2,
          0,
          1,
          1,
          2,
          0,
          0,
          2,
          0,
          1,
          2,
          2,
          2,
          0,
          1,
          2,
          0,
          1,
          0,
          1,
          2,
          2,
          0,
          2,
          1,
          2,
          2,
          0,
          0,
          0,
          0,
          2,
          0,
          0,
          2,
          2,
          1,
          2,
          2,
          0,
          1,
          0,
          2,
          2,
          1,
          0,
          0,
          2,
          0,
          2,
          0,
          2,
          1,
          0,
          0,
          0,
          2,
          2,
          1,
          2,
          1,
          2,
          1,
          1,
          0,
          0,
          2,
          1,
          2,
          0,
          0,
          0,
          1,
          0,
          0,
          0,
          2,
          0,
          1,
          1,
          1,
          1,
          1,
          0,
          2,
          0,
          0,
          2,
          0,
          0,
          0,
          2,
          1,
          1,
          0,
          0,
          0,
          2,
          0,
          1,
          1,
          2,
          2,
          1,
          0,
          2,
          0,
          0,
          2,
          0,
          2,
          0,
          2,
          0,
          0,
          1,
          2,
          2,
          2,
          0,
          0,
          2,
          1,
          1,
          0,
          2,
          0,
          0,
          2,
          2,
          2,
          0,
          1,
          1,
          2,
          2,
          1,
          0,
          0,
          0,
          1,
          2,
          2,
          1,
          0,
          1,
          2,
          2,
          2,
          1,
          1,
          1,
          1,
          0,
          0,
          0,
          0,
          1,
          0,
          2,
          1,
          0,
          0,
          0,
          2,
          0,
          2,
          0,
          0,
          2,
          2,
          0,
          0,
          0,
          2,
          0,
          0,
          1,
          1,
          0,
          2,
          2,
          1,
          1,
          0,
          1,
          2,
          1,
          0,
          2,
          1,
          1,
          2,
          1,
          2,
          2,
          1,
          1,
          0,
          1,
          0,
          2,
          2,
          1,
          0,
          0,
          2,
          2,
          1,
          2,
          1,
          0,
          1,
          2,
          0,
          1,
          0,
          1,
          2,
          1,
          0,
          0,
          1,
          1,
          1,
          2,
          1,
          1,
          2,
          0,
          0,
          1,
          0,
          1,
          2,
          1,
          0,
          2,
          1,
          1,
          0,
          0,
          1,
          1,
          1,
          0,
          1,
          2,
          2,
          0,
          0,
          2,
          0,
          0,
          1,
          2,
          0,
          2,
          0,
          1,
          2,
          1,
          2,
          1,
          2,
          2,
          1,
          1,
          0,
          0,
          2,
          0,
          2,
          1,
          0,
          1,
          0,
          1,
          0,
          0,
          2,
          2,
          2,
          1,
          2,
          1,
          0,
          1,
          1,
          0,
          0,
          1,
          0,
          2,
          0,
          1,
          2,
          2,
          0,
          1,
          0,
          0,
          0,
          1,
          1,
          2,
          2,
          2,
          2,
          2,
          0,
          2,
          0,
          2,
          2,
          0,
          1,
          1,
          1,
          2,
          1,
          1,
          0,
          2,
          1,
          2,
          2,
          0,
          1,
          0,
          2,
          2,
          2,
          2,
          1,
          1,
          2,
          1,
          1,
          0,
          2,
          1,
          2,
          0,
          1,
          1,
          2,
          2,
          1,
          0,
          0,
          2,
          0,
          1,
          0,
          0,
          0,
          0,
          0,
          0,
          1,
          0,
          0,
          0,
          0,
          0,
          1,
          0,
          1,
          0,
          1,
          0,
          0,
          1,
          1,
          1,
          0,
          2,
          0,
          2,
          1,
          1,
          0,
          2,
          0,
          0,
          1,
          0,
          1,
          2,
          0,
          0,
          0,
          0,
          1,
          0,
          1,
          0,
          1,
          1,
          0,
          1,
          1,
          0,
          1,
          2,
          2,
          0,
          0,
          0,
          2,
          2,
          0,
          1,
          0,
          1,
          2,
          1,
          1,
          0,
          0,
          1,
          1,
          2,
          0,
          2,
          1,
          1,
          2,
          0,
          0,
          2,
          0,
          0,
          0,
          0,
          1,
          1,
          0,
          2,
          0,
          2,
          0,
          1,
          0,
          2,
          1,
          2,
          1,
          2,
          0,
          1,
          1,
          1,
          0,
          0,
          2,
          1,
          1,
          2,
          1,
          1,
          0,
          0,
          2,
          1,
          0,
          1,
          0,
          1,
          0,
          2,
          2,
          0,
          0,
          1,
          2,
          2,
          1,
          1,
          1,
          0,
          1,
          0,
          1,
          2,
          2,
          1,
          0,
          0,
          2,
          0,
          1,
          1,
          2,
          0,
          0,
          1,
          0,
          1,
          1,
          1,
          1,
          2,
          2,
          1,
          0,
          2,
          1,
          0,
          2,
          2,
          2,
          1,
          1,
          0,
          1,
          1,
          0,
          1,
          1,
          2,
          0,
          1,
          1,
          0,
          2,
          1,
          0,
          2,
          1,
          2,
          0,
          2,
          1,
          1,
          1,
          1,
          0,
          2,
          2,
          0,
          0,
          2,
          0,
          0,
          0,
          1,
          0,
          1,
          1,
          0,
          1,
          0,
          1,
          0,
          1,
          0,
          1,
          0,
          2,
          0,
          0,
          2,
          1,
          1,
          0,
          1,
          0,
          0,
          0,
          2,
          2,
          1,
          0,
          1,
          1,
          2,
          2,
          2,
          2,
          1,
          1,
          1,
          0,
          2,
          2,
          0,
          2,
          0,
          2,
          0,
          2,
          1,
          1,
          0,
          2,
          1,
          1,
          2,
          1,
          0,
          0,
          2,
          1,
          2,
          2,
          2,
          1,
          2,
          0,
          0,
          0,
          0,
          1,
          0,
          0,
          0,
          1,
          0,
          0,
          2,
          1,
          1,
          0,
          0,
          2,
          2,
          1,
          1,
          0,
          1,
          2,
          2,
          1,
          0,
          0,
          2,
          0,
          1,
          2,
          2,
          1,
          1,
          0,
          1,
          2,
          0,
          1,
          1,
          0,
          2,
          2,
          1,
          2,
          2,
          2,
          2,
          1,
          0,
          1,
          1,
          1,
          0,
          1,
          2,
          1,
          2,
          0,
          0,
          2,
          0,
          1,
          2,
          1,
          2,
          2,
          2,
          2,
          0,
          0,
          2,
          2,
          0,
          0,
          1,
          2,
          2,
          1,
          2,
          0,
          1,
          0,
          0,
          2,
          0,
          1,
          1,
          0,
          1,
          2,
          1,
          0,
          0,
          2,
          1,
          1,
          1,
          1,
          2,
          1,
          1,
          1,
          0,
          0,
          1,
          2,
          1,
          0,
          0,
          1,
          0,
          0,
          1,
          1,
          1,
          0,
          2,
          1,
          1,
          1,
          0,
          0,
          0,
          2,
          1,
          1,
          1,
          1,
          0,
          2,
          1,
          2,
          1,
          2,
          2,
          0,
          2,
          1,
          2,
          2,
          0,
          1,
          2,
          0,
          2,
          0,
          2,
          0,
          1,
          1,
          0,
          1,
          2,
          0,
          2,
          0,
          2,
          2,
          1,
          0,
          2,
          1,
          0,
          0,
          0,
          2,
          1,
          1,
          1,
          1,
          1,
          0,
          2,
          0,
          2,
          2,
          0,
          0,
          0,
          0,
          2,
          2,
          1,
          0,
          2,
          1,
          1,
          2,
          0,
          0,
          1,
          1,
          2,
          1,
          0,
          2,
          0,
          0,
          0,
          2,
          2,
          0,
          1,
          2,
          1,
          1,
          1,
          0,
          1,
          1,
          2,
          0,
          1,
          0,
          0,
          0,
          0,
          0,
          0,
          2,
          2,
          1,
          0,
          2,
          0,
          0,
          2,
          0,
          1,
          0,
          0,
          0,
          0,
          0,
          2,
          1,
          1,
          2,
          0,
          0,
          2,
          1,
          1,
          2,
          2,
          1,
          0,
          0,
          0,
          2,
          2,
          0,
          1,
          1,
          0,
          2,
          2,
          2,
          0,
          2,
          2,
          0,
          2,
          1,
          1,
          1,
          2,
          2,
          0,
          1,
          1,
          2,
          0,
          1,
          2,
          2,
          0,
          1,
          1,
          1,
          1,
          2,
          2,
          1,
          1,
          0,
          0,
          1,
          1,
          1,
          1,
          0,
          0,
          1,
          1,
          0,
          1,
          2,
          2,
          2,
          1,
          2,
          0,
          0,
          1,
          1,
          1,
          0,
          2,
          1,
          0,
          1,
          1,
          0,
          2,
          1,
          2,
          1,
          1,
          1,
          2,
          1,
          1,
          1,
          1,
          2,
          1,
          0,
          1,
          0,
          1,
          2,
          1,
          1,
          1,
          1,
          2,
          1,
          1,
          0,
          1,
          1,
          0,
          0,
          1,
          2,
          0,
          1,
          1,
          2,
          0,
          1,
          2,
          2,
          2,
          1,
          1,
          1,
          1,
          0,
          0,
          1,
          0,
          1,
          0,
          1,
          2,
          0,
          2,
          0,
          2,
          0,
          1,
          0,
          1,
          0,
          1,
          2,
          1,
          1,
          1,
          0,
          0,
          1,
          0,
          1,
          0,
          0,
          0,
          0,
          0,
          1,
          2,
          1,
          2,
          0,
          0,
          0,
          0,
          1,
          0,
          1,
          0,
          2,
          0,
          0,
          0,
          2,
          0,
          0,
          2,
          0,
          1,
          0,
          2,
          2,
          0,
          1,
          0,
          1,
          1,
          2,
          0,
          0,
          2,
          2,
          0,
          2,
          1,
          2,
          0,
          1,
          0,
          2,
          0,
          0,
          1,
          2,
          0,
          0,
          1,
          0,
          1,
          0,
          1,
          0,
          1,
          0,
          2,
          1,
          1,
          0,
          2,
          2,
          0,
          1,
          0,
          2,
          0,
          0,
          0,
          2,
          1,
          2,
          0,
          1,
          1,
          1,
          0,
          1,
          0,
          0,
          2,
          0,
          1,
          1,
          0,
          2,
          0,
          1,
          0,
          0,
          0,
          0,
          2,
          1,
          0,
          0,
          1,
          1,
          0,
          1,
          1,
          2,
          0,
          2,
          1,
          1,
          1,
          0,
          0,
          1,
          2,
          1,
          2,
          2,
          2,
          0,
          1,
          2,
          2,
          2,
          2,
          0,
          0,
          0,
          0,
          0,
          0,
          1,
          1,
          2,
          0,
          1,
          0,
          0,
          2,
          1,
          1,
          0,
          0,
          1,
          2,
          2,
          1,
          0,
          1,
          0,
          1,
          2,
          2,
          0,
          0,
          2,
          0,
          0,
          1,
          0,
          1,
          2,
          0,
          0,
          1,
          0,
          1,
          1,
          1,
          2,
          2,
          0,
          0,
          0,
          0,
          2,
          1,
          0,
          1,
          2,
          0,
          0,
          0,
          1,
          2,
          1,
          0,
          2,
          1,
          0,
          0,
          0,
          2,
          2,
          2,
          1,
          2,
          1,
          1,
          1,
          1,
          2,
          2,
          1,
          0,
          0,
          0,
          2,
          2,
          1,
          0,
          0,
          1,
          0,
          0,
          1,
          0,
          0,
          1,
          1,
          2,
          1,
          0,
          0,
          1,
          1,
          1,
          0,
          2,
          1,
          0,
          0,
          1,
          1,
          2,
          1,
          2,
          0,
          0,
          2,
          1,
          0,
          2,
          0,
          2,
          1,
          2,
          1,
          1,
          1,
          1,
          0,
          2,
          0,
          0,
          2,
          1,
          0,
          0,
          2,
          0,
          2,
          2,
          0,
          1,
          2,
          1,
          2,
          1,
          2,
          1,
          1,
          1,
          2,
          0,
          2,
          2,
          0,
          0,
          2,
          0,
          1,
          1,
          1,
          0,
          0,
          0,
          2,
          2,
          2,
          2,
          0,
          0,
          1,
          2,
          2,
          1,
          2,
          0,
          0,
          0,
          1,
          2,
          1,
          2,
          1,
          2,
          2,
          2,
          0,
          0,
          0,
          2,
          0,
          2,
          2,
          1,
          1,
          2
         ],
         "xaxis": "x",
         "y": [
          2.199985,
          1.500004,
          1.500004,
          2.8999372,
          1.500004,
          2.8999372,
          2.5999835,
          2.8999372,
          1.2000281,
          2.8999372,
          1.3000503,
          2.199985,
          2.5999835,
          1.500004,
          1.500004,
          1.500004,
          0.9000703,
          2.199985,
          1.500004,
          2.199985,
          2.199985,
          0.6000495,
          1.2000281,
          2.8999372,
          1.500004,
          1.500004,
          1.2000281,
          2.199985,
          1.2000281,
          2.199985,
          0.9000703,
          2.199985,
          2.199985,
          2.8999372,
          1.9000125,
          2.5999835,
          1.2000281,
          2.8999372,
          1.6000112,
          2.8999372,
          1.2000281,
          2.5999835,
          2.5999835,
          2.8999372,
          2.5999835,
          2.8999372,
          2.8999372,
          1.9000125,
          0.9000703,
          1.9000125,
          1.9000125,
          2.5999835,
          2.5999835,
          1.9000125,
          1.500004,
          1.500004,
          2.8999372,
          1.500004,
          2.199985,
          0.9000703,
          2.2999744,
          2.199985,
          1.2000281,
          1.500004,
          2.8999372,
          1.500004,
          0.6000495,
          1.9000125,
          1.500004,
          2.5999835,
          2.8999372,
          1.2000281,
          2.8999372,
          1.2000281,
          1.7000102,
          2.199985,
          2.199985,
          1.9000125,
          2.8999372,
          2.199985,
          2.199985,
          2.199985,
          0.6000495,
          1.9000125,
          1.9000125,
          2.2999744,
          2.199985,
          1.2000281,
          1.2000281,
          2.2999744,
          1.9000125,
          1.500004,
          2.199985,
          2.8999372,
          2.199985,
          1.500004,
          1.500004,
          2.8999372,
          1.2000281,
          2.5999835,
          2.199985,
          0.9000703,
          2.8999372,
          1.500004,
          2.8999372,
          1.500004,
          2.5999835,
          1.500004,
          2.5999835,
          2.199985,
          2.199985,
          1.500004,
          1.500004,
          1.500004,
          2.8999372,
          1.2000281,
          0.9000703,
          2.5999835,
          1.2000281,
          2.199985,
          1.500004,
          2.5999835,
          1.500004,
          2.8999372,
          1.500004,
          1.2000281,
          2.5999835,
          1.500004,
          1.500004,
          2.5999835,
          2.8999372,
          2.8999372,
          2.5999835,
          2.5999835,
          2.2999744,
          1.9000125,
          2.5999835,
          1.2000281,
          1.9000125,
          2.199985,
          0.3001171,
          2.199985,
          1.2000281,
          1.2000281,
          1.2000281,
          1.9000125,
          2.199985,
          1.9000125,
          2.199985,
          2.199985,
          2.8999372,
          1.500004,
          2.8999372,
          1.500004,
          1.500004,
          1.2000281,
          2.199985,
          1.2000281,
          2.199985,
          0.9000703,
          2.5999835,
          2.8999372,
          2.199985,
          1.500004,
          2.199985,
          1.2000281,
          2.199985,
          2.199985,
          2.5999835,
          1.500004,
          1.500004,
          1.2000281,
          1.500004,
          1.9000125,
          1.6000112,
          2.2999744,
          1.7000102,
          0.9000703,
          0.3001171,
          2.5999835,
          2.8999372,
          2.199985,
          2.199985,
          2.199985,
          0.9000703,
          0.3001171,
          0.9000703,
          1.2000281,
          2.000011,
          2.5999835,
          0.9000703,
          1.500004,
          2.199985,
          1.500004,
          2.199985,
          1.500004,
          2.199985,
          2.199985,
          1.500004,
          2.8999372,
          0.9000703,
          1.500004,
          2.2999744,
          1.2000281,
          1.500004,
          1.2000281,
          1.500004,
          2.199985,
          2.199985,
          2.5999835,
          1.2000281,
          1.3000503,
          2.199985,
          1.6000112,
          1.500004,
          1.9000125,
          1.500004,
          2.2999744,
          1.500004,
          2.199985,
          1.9000125,
          1.2000281,
          2.199985,
          2.199985,
          1.6000112,
          1.2000281,
          2.8999372,
          1.6000112,
          2.199985,
          1.2000281,
          1.9000125,
          1.2000281,
          2.5999835,
          2.8999372,
          1.9000125,
          2.199985,
          2.8999372,
          1.9000125,
          1.9000125,
          1.2000281,
          2.8999372,
          1.500004,
          2.199985,
          1.2000281,
          2.199985,
          1.6000112,
          2.199985,
          2.8999372,
          2.5999835,
          1.500004,
          2.8999372,
          2.199985,
          2.5999835,
          1.6000112,
          2.5999835,
          1.2000281,
          1.3000503,
          2.199985,
          0.9000703,
          2.199985,
          2.2999744,
          1.500004,
          2.199985,
          2.8999372,
          2.8999372,
          1.500004,
          2.199985,
          1.2000281,
          1.2000281,
          2.5999835,
          1.2000281,
          1.2000281,
          2.8999372,
          2.2999744,
          2.2999744,
          1.9000125,
          0.9000703,
          1.9000125,
          1.2000281,
          1.2000281,
          2.2999744,
          1.2000281,
          1.2000281,
          2.2999744,
          2.8999372,
          2.8999372,
          2.199985,
          2.199985,
          2.5999835,
          2.5999835,
          2.199985,
          2.199985,
          2.8999372,
          1.2000281,
          1.9000125,
          0.3001171,
          1.500004,
          2.199985,
          1.2000281,
          1.500004,
          1.2000281,
          2.199985,
          1.9000125,
          1.9000125,
          1.2000281,
          1.500004,
          2.199985,
          1.9000125,
          2.199985,
          2.199985,
          0.9000703,
          2.8999372,
          1.500004,
          1.9000125,
          2.199985,
          2.8999372,
          2.8999372,
          1.2000281,
          1.500004,
          2.5999835,
          2.199985,
          2.5999835,
          1.9000125,
          1.500004,
          1.500004,
          2.199985,
          0.9000703,
          2.199985,
          2.199985,
          1.500004,
          1.9000125,
          1.6000112,
          2.8999372,
          1.2000281,
          1.500004,
          1.6000112,
          1.9000125,
          2.8999372,
          2.5999835,
          1.9000125,
          1.6000112,
          2.8999372,
          1.9000125,
          1.2000281,
          1.9000125,
          1.7000102,
          0.9000703,
          1.500004,
          2.199985,
          1.500004,
          2.199985,
          1.9000125,
          0.3001171,
          1.6000112,
          1.500004,
          2.199985,
          1.500004,
          0.6000495,
          2.5999835,
          2.5999835,
          1.500004,
          1.500004,
          2.8999372,
          1.500004,
          2.199985,
          2.8999372,
          2.8999372,
          1.9000125,
          2.8999372,
          1.9000125,
          1.6000112,
          2.199985,
          2.8999372,
          2.8999372,
          1.9000125,
          1.7000102,
          1.500004,
          2.8999372,
          2.8999372,
          1.9000125,
          1.9000125,
          1.500004,
          2.2999744,
          2.199985,
          2.2999744,
          2.199985,
          1.500004,
          1.9000125,
          2.5999835,
          2.5999835,
          1.2000281,
          1.9000125,
          1.6000112,
          1.2000281,
          2.8999372,
          2.2999744,
          1.9000125,
          0.3001171,
          1.2000281,
          2.8999372,
          1.2000281,
          2.8999372,
          2.199985,
          0.9000703,
          1.500004,
          2.2999744,
          2.5999835,
          2.199985,
          1.500004,
          1.2000281,
          2.8999372,
          2.199985,
          1.9000125,
          2.199985,
          1.6000112,
          2.5999835,
          2.8999372,
          0.9000703,
          2.199985,
          2.8999372,
          1.500004,
          2.8999372,
          1.2000281,
          2.8999372,
          2.199985,
          2.8999372,
          2.199985,
          1.500004,
          2.8999372,
          2.8999372,
          1.500004,
          2.199985,
          0.9000703,
          1.2000281,
          0.9000703,
          0.9000703,
          0.9000703,
          0.9000703,
          0.9000703,
          2.199985,
          1.500004,
          2.8999372,
          2.8999372,
          1.2000281,
          2.8999372,
          2.5999835,
          2.8999372,
          2.8999372,
          2.5999835,
          1.6000112,
          2.199985,
          0.9000703,
          1.6000112,
          1.9000125,
          1.2000281,
          2.5999835,
          2.8999372,
          2.8999372,
          1.6000112,
          2.5999835,
          2.5999835,
          1.2000281,
          1.9000125,
          2.2999744,
          2.5999835,
          2.5999835,
          0.9000703,
          1.9000125,
          1.9000125,
          2.8999372,
          1.500004,
          1.2000281,
          2.5999835,
          1.500004,
          2.199985,
          2.8999372,
          2.8999372,
          2.8999372,
          1.500004,
          2.199985,
          2.5999835,
          1.2000281,
          1.6000112,
          1.2000281,
          2.199985,
          2.5999835,
          2.2999744,
          0.9000703,
          2.8999372,
          1.9000125,
          2.5999835,
          2.8999372,
          1.500004,
          1.2000281,
          0.9000703,
          0.9000703,
          2.000011,
          1.500004,
          1.500004,
          2.5999835,
          2.8999372,
          1.9000125,
          2.8999372,
          2.8999372,
          1.500004,
          1.3000503,
          1.500004,
          2.8999372,
          2.8999372,
          1.9000125,
          1.2000281,
          1.500004,
          2.8999372,
          1.500004,
          2.8999372,
          1.2000281,
          2.8999372,
          2.199985,
          1.500004,
          1.500004,
          1.500004,
          2.8999372,
          2.5999835,
          2.199985,
          2.2999744,
          2.199985,
          2.8999372,
          2.199985,
          2.199985,
          1.2000281,
          1.2000281,
          2.5999835,
          1.6000112,
          2.5999835,
          0.9000703,
          0.9000703,
          1.500004,
          1.9000125,
          1.500004,
          1.2000281,
          1.2000281,
          2.5999835,
          1.2000281,
          2.199985,
          1.9000125,
          1.6000112,
          1.9000125,
          1.9000125,
          1.2000281,
          2.5999835,
          1.500004,
          1.500004,
          2.8999372,
          0.9000703,
          1.500004,
          1.2000281,
          2.2999744,
          2.199985,
          2.199985,
          1.500004,
          0.9000703,
          1.500004,
          2.5999835,
          1.500004,
          1.9000125,
          1.9000125,
          2.8999372,
          2.5999835,
          2.199985,
          1.500004,
          2.8999372,
          1.500004,
          1.500004,
          2.5999835,
          0.3001171,
          2.8999372,
          1.2000281,
          2.8999372,
          0.9000703,
          0.9000703,
          1.000132,
          2.8999372,
          2.8999372,
          2.5999835,
          1.2000281,
          0.9000703,
          2.8999372,
          1.9000125,
          2.199985,
          1.2000281,
          2.8999372,
          1.2000281,
          1.500004,
          2.8999372,
          2.8999372,
          2.2999744,
          0.9000703,
          2.199985,
          2.199985,
          2.8999372,
          2.8999372,
          1.9000125,
          0.9000703,
          0.9000703,
          0.3001171,
          1.6000112,
          2.8999372,
          2.8999372,
          2.199985,
          1.500004,
          2.199985,
          2.2999744,
          2.8999372,
          2.5999835,
          2.199985,
          2.199985,
          2.199985,
          2.199985,
          1.2000281,
          1.500004,
          1.500004,
          1.2000281,
          1.9000125,
          1.500004,
          2.5999835,
          2.199985,
          1.2000281,
          1.2000281,
          0.3001171,
          2.8999372,
          0.9000703,
          2.8999372,
          1.500004,
          1.500004,
          2.8999372,
          2.8999372,
          1.500004,
          1.2000281,
          1.500004,
          2.000011,
          1.500004,
          0.9000703,
          1.6000112,
          1.9000125,
          1.500004,
          2.8999372,
          2.2999744,
          2.199985,
          1.9000125,
          1.2000281,
          2.199985,
          2.2999744,
          2.199985,
          1.500004,
          2.8999372,
          1.9000125,
          1.3000503,
          2.5999835,
          2.199985,
          2.8999372,
          2.5999835,
          2.199985,
          1.9000125,
          1.2000281,
          1.9000125,
          1.2000281,
          2.5999835,
          2.5999835,
          2.199985,
          1.500004,
          0.6000495,
          2.2999744,
          2.5999835,
          1.6000112,
          2.8999372,
          1.6000112,
          1.500004,
          1.9000125,
          2.8999372,
          1.500004,
          1.9000125,
          1.500004,
          2.199985,
          2.5999835,
          1.9000125,
          0.9000703,
          1.2000281,
          2.199985,
          2.199985,
          1.9000125,
          2.5999835,
          1.9000125,
          1.9000125,
          2.8999372,
          1.500004,
          0.6000495,
          1.000132,
          1.500004,
          1.9000125,
          2.5999835,
          2.199985,
          1.500004,
          2.5999835,
          1.9000125,
          2.199985,
          1.500004,
          0.3001171,
          1.000132,
          2.199985,
          2.199985,
          1.500004,
          2.199985,
          2.8999372,
          2.8999372,
          0.9000703,
          1.500004,
          2.8999372,
          1.2000281,
          1.500004,
          1.6000112,
          2.8999372,
          0.9000703,
          2.8999372,
          0.9000703,
          1.9000125,
          2.5999835,
          1.9000125,
          2.5999835,
          2.199985,
          2.8999372,
          2.8999372,
          1.9000125,
          2.199985,
          1.500004,
          1.500004,
          2.5999835,
          1.2000281,
          2.000011,
          1.000132,
          0.3001171,
          1.000132,
          1.2000281,
          2.199985,
          1.500004,
          1.2000281,
          2.5999835,
          2.2999744,
          2.8999372,
          1.6000112,
          2.8999372,
          1.6000112,
          1.500004,
          2.199985,
          1.6000112,
          1.2000281,
          1.2000281,
          2.199985,
          1.500004,
          2.8999372,
          1.500004,
          1.9000125,
          2.8999372,
          2.2999744,
          1.500004,
          2.199985,
          1.500004,
          1.2000281,
          1.2000281,
          2.199985,
          1.6000112,
          2.2999744,
          2.8999372,
          2.8999372,
          2.8999372,
          2.8999372,
          1.2000281,
          2.5999835,
          1.2000281,
          2.8999372,
          2.5999835,
          1.500004,
          1.3000503,
          1.6000112,
          2.199985,
          2.5999835,
          2.199985,
          1.6000112,
          1.500004,
          2.8999372,
          2.199985,
          2.5999835,
          2.8999372,
          0.9000703,
          1.9000125,
          1.2000281,
          2.5999835,
          2.2999744,
          2.8999372,
          2.8999372,
          1.9000125,
          1.6000112,
          2.5999835,
          2.199985,
          1.000132,
          1.2000281,
          2.5999835,
          2.199985,
          2.5999835,
          1.2000281,
          1.9000125,
          1.9000125,
          2.5999835,
          2.2999744,
          1.9000125,
          1.500004,
          1.2000281,
          2.8999372,
          1.2000281,
          2.199985,
          1.500004,
          1.500004,
          1.500004,
          1.500004,
          1.2000281,
          1.2000281,
          2.199985,
          0.9000703,
          0.9000703,
          1.500004,
          0.3001171,
          1.500004,
          1.6000112,
          1.500004,
          2.199985,
          0.3001171,
          1.6000112,
          1.2000281,
          1.2000281,
          1.9000125,
          1.9000125,
          1.6000112,
          0.3001171,
          2.5999835,
          1.2000281,
          2.5999835,
          1.9000125,
          2.199985,
          1.2000281,
          2.8999372,
          1.500004,
          1.2000281,
          2.199985,
          1.2000281,
          1.9000125,
          2.5999835,
          1.2000281,
          1.500004,
          1.500004,
          1.500004,
          2.199985,
          1.500004,
          1.9000125,
          0.6000495,
          1.9000125,
          1.6000112,
          1.2000281,
          1.9000125,
          1.9000125,
          1.500004,
          2.199985,
          2.8999372,
          2.8999372,
          1.500004,
          1.500004,
          0.9000703,
          2.2999744,
          2.5999835,
          1.2000281,
          1.6000112,
          1.500004,
          2.199985,
          2.8999372,
          2.199985,
          1.9000125,
          0.9000703,
          1.2000281,
          1.9000125,
          1.9000125,
          2.2999744,
          1.2000281,
          2.8999372,
          1.9000125,
          1.9000125,
          2.8999372,
          1.500004,
          1.500004,
          2.8999372,
          1.500004,
          1.500004,
          1.2000281,
          0.9000703,
          1.9000125,
          1.6000112,
          1.2000281,
          2.000011,
          1.2000281,
          2.5999835,
          1.500004,
          2.199985,
          1.500004,
          2.5999835,
          2.199985,
          1.7000102,
          2.199985,
          1.7000102,
          1.500004,
          2.199985,
          1.9000125,
          2.199985,
          1.2000281,
          1.500004,
          2.8999372,
          1.9000125,
          1.9000125,
          2.5999835,
          2.199985,
          1.9000125,
          1.2000281,
          1.500004,
          1.7000102,
          1.9000125,
          1.2000281,
          2.199985,
          1.500004,
          1.9000125,
          0.9000703,
          2.5999835,
          2.5999835,
          0.9000703,
          1.2000281,
          1.9000125,
          2.8999372,
          2.8999372,
          2.199985,
          1.9000125,
          2.199985,
          1.2000281,
          1.9000125,
          1.500004,
          1.3000503,
          2.5999835,
          2.8999372,
          1.000132,
          0.9000703,
          1.500004,
          2.8999372,
          1.500004,
          1.6000112,
          1.9000125,
          2.5999835,
          1.2000281,
          1.500004,
          1.9000125,
          1.2000281,
          1.6000112,
          2.199985,
          1.000132,
          1.3000503,
          2.8999372,
          2.8999372,
          1.9000125,
          1.2000281,
          2.8999372,
          1.9000125,
          1.500004,
          2.5999835,
          2.8999372,
          2.5999835,
          2.199985,
          1.9000125,
          0.9000703,
          2.199985,
          1.9000125,
          1.2000281,
          1.9000125,
          1.6000112,
          2.000011,
          1.500004,
          1.3000503,
          2.199985,
          1.500004,
          2.8999372,
          1.9000125,
          1.2000281,
          2.8999372,
          2.199985,
          2.8999372,
          1.2000281,
          2.5999835,
          1.6000112,
          2.199985,
          2.199985,
          2.199985,
          0.9000703,
          2.8999372,
          2.5999835,
          1.500004,
          1.2000281,
          2.5999835,
          0.9000703,
          0.9000703,
          1.2000281,
          1.9000125,
          1.500004,
          1.9000125,
          1.9000125,
          1.2000281,
          1.9000125,
          1.2000281,
          1.9000125,
          1.500004,
          1.6000112,
          0.3001171,
          1.000132,
          0.9000703,
          2.5999835,
          1.500004,
          0.9000703,
          2.8999372,
          2.199985,
          2.199985,
          1.2000281,
          1.9000125,
          1.500004,
          1.2000281,
          0.9000703,
          2.8999372,
          2.8999372,
          2.199985,
          1.500004,
          2.199985,
          2.199985,
          2.8999372,
          2.8999372,
          2.8999372,
          2.8999372,
          2.199985,
          2.199985,
          2.199985,
          1.500004,
          2.8999372,
          2.8999372,
          1.2000281,
          2.5999835,
          1.500004,
          2.5999835,
          1.2000281,
          2.8999372,
          1.9000125,
          1.9000125,
          1.500004,
          2.5999835,
          1.000132,
          1.3000503,
          2.5999835,
          1.6000112,
          1.500004,
          1.2000281,
          2.8999372,
          1.9000125,
          2.8999372,
          2.5999835,
          2.8999372,
          1.3000503,
          1.7000102,
          1.500004,
          1.500004,
          1.2000281,
          1.500004,
          1.9000125,
          1.2000281,
          1.2000281,
          1.500004,
          2.199985,
          0.9000703,
          0.3001171,
          2.5999835,
          1.3000503,
          1.9000125,
          0.9000703,
          1.500004,
          2.5999835,
          2.8999372,
          1.9000125,
          2.199985,
          0.9000703,
          2.199985,
          2.8999372,
          2.8999372,
          2.199985,
          1.500004,
          1.2000281,
          2.8999372,
          1.2000281,
          1.6000112,
          2.8999372,
          2.5999835,
          2.199985,
          1.6000112,
          0.9000703,
          1.6000112,
          2.2999744,
          0.6000495,
          1.6000112,
          2.199985,
          1.500004,
          2.5999835,
          2.8999372,
          1.9000125,
          2.8999372,
          2.8999372,
          2.8999372,
          2.5999835,
          2.199985,
          0.9000703,
          1.000132,
          2.199985,
          1.3000503,
          0.3001171,
          1.9000125,
          2.8999372,
          2.199985,
          2.8999372,
          1.2000281,
          1.2000281,
          1.7000102,
          0.9000703,
          2.199985,
          2.5999835,
          2.199985,
          2.5999835,
          2.8999372,
          2.5999835,
          1.7000102,
          1.500004,
          1.500004,
          2.5999835,
          2.5999835,
          0.9000703,
          1.2000281,
          1.9000125,
          2.5999835,
          2.2999744,
          1.9000125,
          2.8999372,
          1.500004,
          1.9000125,
          1.500004,
          1.2000281,
          2.5999835,
          1.2000281,
          2.199985,
          1.6000112,
          1.2000281,
          2.199985,
          2.8999372,
          1.000132,
          1.500004,
          1.500004,
          2.8999372,
          2.199985,
          2.199985,
          2.199985,
          1.9000125,
          2.5999835,
          2.199985,
          2.199985,
          2.199985,
          1.2000281,
          0.9000703,
          2.199985,
          2.5999835,
          2.199985,
          0.9000703,
          1.500004,
          2.199985,
          1.500004,
          0.9000703,
          1.9000125,
          1.9000125,
          2.199985,
          1.2000281,
          2.2999744,
          2.199985,
          2.199985,
          1.9000125,
          1.500004,
          1.500004,
          1.500004,
          2.5999835,
          1.9000125,
          2.199985,
          2.199985,
          2.199985,
          1.500004,
          2.5999835,
          1.9000125,
          2.8999372,
          2.199985,
          2.8999372,
          2.2999744,
          1.500004,
          2.8999372,
          1.9000125,
          2.5999835,
          2.8999372,
          1.2000281,
          1.9000125,
          2.8999372,
          1.500004,
          2.8999372,
          0.9000703,
          2.5999835,
          0.6000495,
          2.199985,
          2.199985,
          1.500004,
          2.199985,
          2.2999744,
          1.2000281,
          2.8999372,
          1.500004,
          2.2999744,
          1.7000102,
          2.199985,
          0.3001171,
          2.2999744,
          1.9000125,
          1.2000281,
          0.9000703,
          1.2000281,
          2.8999372,
          1.9000125,
          1.9000125,
          2.199985,
          1.6000112,
          2.199985,
          1.500004,
          2.8999372,
          1.500004,
          2.8999372,
          2.8999372,
          1.500004,
          1.500004,
          1.500004,
          1.500004,
          2.000011,
          2.8999372,
          1.9000125,
          1.500004,
          2.8999372,
          1.6000112,
          2.199985,
          2.5999835,
          0.3001171,
          1.2000281,
          1.9000125,
          1.9000125,
          2.8999372,
          2.199985,
          1.500004,
          2.2999744,
          1.500004,
          0.9000703,
          0.9000703,
          2.2999744,
          2.000011,
          1.500004,
          2.199985,
          2.8999372,
          2.199985,
          2.199985,
          1.6000112,
          1.500004,
          2.199985,
          2.199985,
          2.8999372,
          1.500004,
          1.9000125,
          1.500004,
          1.500004,
          0.9000703,
          1.500004,
          1.500004,
          1.500004,
          2.8999372,
          2.5999835,
          1.9000125,
          1.2000281,
          2.8999372,
          1.500004,
          1.2000281,
          2.8999372,
          0.6000495,
          2.199985,
          1.500004,
          1.2000281,
          0.6000495,
          1.2000281,
          1.500004,
          2.5999835,
          1.000132,
          1.000132,
          2.5999835,
          0.3001171,
          1.2000281,
          1.7000102,
          1.3000503,
          1.000132,
          2.8999372,
          2.8999372,
          2.199985,
          1.500004,
          0.9000703,
          1.500004,
          2.8999372,
          2.5999835,
          1.500004,
          2.199985,
          2.199985,
          0.3001171,
          2.5999835,
          2.8999372,
          2.8999372,
          1.500004,
          2.5999835,
          2.8999372,
          1.500004,
          2.8999372,
          1.9000125,
          1.9000125,
          1.9000125,
          2.8999372,
          2.5999835,
          1.500004,
          2.199985,
          2.199985,
          2.2999744,
          0.9000703,
          1.9000125,
          1.7000102,
          2.5999835,
          1.500004,
          1.3000503,
          1.9000125,
          1.9000125,
          1.6000112,
          2.8999372,
          2.000011,
          1.9000125,
          2.199985,
          1.500004,
          1.500004,
          1.3000503,
          1.9000125,
          1.9000125,
          1.9000125,
          1.500004,
          0.9000703,
          1.6000112,
          1.6000112,
          1.500004,
          2.199985,
          2.2999744,
          2.5999835,
          2.000011,
          2.199985,
          2.8999372,
          1.500004,
          0.3001171,
          1.9000125,
          2.199985,
          1.9000125,
          1.500004,
          2.8999372,
          2.199985,
          1.500004,
          1.9000125,
          2.199985,
          1.500004,
          2.8999372,
          1.9000125,
          2.8999372,
          2.199985,
          2.199985,
          2.199985,
          2.8999372,
          2.199985,
          2.199985,
          2.199985,
          2.199985,
          1.7000102,
          1.6000112,
          1.500004,
          2.199985,
          1.2000281,
          2.199985,
          2.8999372,
          2.199985,
          2.199985,
          1.000132,
          1.000132,
          2.8999372,
          2.199985,
          2.199985,
          1.500004,
          2.199985,
          2.199985,
          1.2000281,
          1.500004,
          2.199985,
          2.8999372,
          1.2000281,
          1.000132,
          1.9000125,
          2.8999372,
          1.2000281,
          1.000132,
          2.2999744,
          2.2999744,
          2.8999372,
          1.9000125,
          1.9000125,
          2.199985,
          2.199985,
          1.2000281,
          1.2000281,
          2.199985,
          1.2000281,
          1.3000503,
          1.2000281,
          1.9000125,
          2.8999372,
          0.9000703,
          2.2999744,
          1.500004,
          2.5999835,
          1.500004,
          2.199985,
          1.500004,
          2.199985,
          0.3001171,
          1.9000125,
          2.5999835,
          1.9000125,
          1.3000503,
          1.6000112,
          1.500004,
          1.2000281,
          1.6000112,
          0.6000495,
          1.6000112,
          1.500004,
          1.500004,
          1.2000281,
          1.2000281,
          1.2000281,
          2.199985,
          2.8999372,
          1.6000112,
          2.2999744,
          1.2000281,
          1.500004,
          1.2000281,
          0.9000703,
          1.6000112,
          1.2000281,
          2.199985,
          1.500004,
          2.2999744,
          1.500004,
          1.2000281,
          0.6000495,
          2.5999835,
          0.3001171,
          1.500004,
          2.5999835,
          0.3001171,
          2.199985,
          1.500004,
          2.8999372,
          2.5999835,
          1.500004,
          2.199985,
          1.2000281,
          1.9000125,
          2.199985,
          2.5999835,
          1.2000281,
          0.9000703,
          2.8999372,
          2.5999835,
          1.2000281,
          2.5999835,
          1.9000125,
          2.2999744,
          0.3001171,
          2.199985,
          1.500004,
          2.5999835,
          1.2000281,
          0.9000703,
          1.9000125,
          2.5999835,
          1.500004,
          1.500004,
          2.199985,
          1.500004,
          2.199985,
          1.500004,
          2.199985,
          1.500004,
          1.6000112,
          0.9000703,
          2.000011,
          1.9000125,
          1.9000125,
          1.500004,
          2.5999835,
          2.2999744,
          1.2000281,
          2.199985,
          1.2000281,
          2.2999744,
          1.2000281,
          1.500004,
          1.500004,
          2.5999835,
          2.199985,
          2.8999372,
          1.500004,
          2.199985,
          2.199985,
          2.199985,
          1.500004,
          2.199985,
          1.500004,
          1.2000281,
          2.5999835,
          1.2000281,
          1.3000503,
          1.9000125,
          1.500004,
          1.7000102,
          0.3001171,
          2.199985,
          1.500004,
          1.500004,
          1.500004,
          1.500004,
          2.8999372,
          2.199985,
          1.500004,
          1.2000281,
          1.9000125,
          2.199985,
          1.2000281,
          2.199985,
          1.6000112,
          1.7000102,
          0.3001171,
          2.8999372,
          2.199985,
          2.199985,
          1.9000125,
          1.500004,
          1.2000281,
          1.9000125,
          2.000011,
          2.199985,
          2.8999372,
          2.8999372,
          2.5999835,
          1.500004,
          2.199985,
          2.5999835,
          2.8999372,
          2.5999835,
          2.5999835,
          1.2000281,
          1.2000281,
          1.500004,
          1.500004,
          1.500004,
          1.500004,
          1.9000125,
          2.199985,
          2.8999372,
          1.500004,
          2.199985,
          1.500004,
          1.500004,
          2.5999835,
          1.9000125,
          1.9000125,
          1.2000281,
          1.2000281,
          1.9000125,
          2.5999835,
          2.5999835,
          1.6000112,
          1.500004,
          2.199985,
          1.500004,
          2.199985,
          2.8999372,
          2.8999372,
          1.500004,
          1.500004,
          2.8999372,
          1.2000281,
          1.500004,
          1.9000125,
          0.3001171,
          2.199985,
          2.8999372,
          1.500004,
          1.2000281,
          1.6000112,
          0.3001171,
          1.9000125,
          1.9000125,
          1.6000112,
          2.8999372,
          2.5999835,
          1.500004,
          0.9000703,
          1.2000281,
          1.2000281,
          2.8999372,
          1.9000125,
          0.9000703,
          2.199985,
          2.8999372,
          1.2000281,
          0.3001171,
          1.500004,
          2.199985,
          2.8999372,
          2.199985,
          1.500004,
          2.5999835,
          2.199985,
          1.500004,
          1.500004,
          1.2000281,
          2.5999835,
          2.2999744,
          2.2999744,
          1.9000125,
          2.8999372,
          2.199985,
          1.9000125,
          1.9000125,
          1.9000125,
          2.5999835,
          2.5999835,
          2.199985,
          0.9000703,
          1.2000281,
          1.2000281,
          2.5999835,
          2.8999372,
          2.199985,
          0.6000495,
          1.2000281,
          1.000132,
          1.500004,
          1.500004,
          2.199985,
          0.6000495,
          1.2000281,
          1.9000125,
          2.199985,
          2.8999372,
          2.199985,
          0.6000495,
          1.500004,
          2.199985,
          2.199985,
          1.9000125,
          1.2000281,
          2.5999835,
          1.9000125,
          1.2000281,
          1.2000281,
          2.199985,
          2.199985,
          2.8999372,
          2.199985,
          2.5999835,
          1.500004,
          0.3001171,
          2.2999744,
          1.9000125,
          1.500004,
          2.8999372,
          1.500004,
          2.8999372,
          2.199985,
          2.2999744,
          2.199985,
          1.000132,
          1.9000125,
          1.000132,
          0.3001171,
          2.2999744,
          1.500004,
          1.500004,
          2.8999372,
          2.199985,
          1.2000281,
          0.3001171,
          2.8999372,
          1.500004,
          2.8999372,
          2.5999835,
          1.500004,
          2.199985,
          2.8999372,
          2.199985,
          2.8999372,
          1.9000125,
          2.5999835,
          2.199985,
          2.199985,
          1.9000125,
          2.5999835,
          1.2000281,
          2.5999835,
          2.5999835,
          1.500004,
          1.500004,
          2.5999835,
          0.9000703,
          2.199985,
          2.199985,
          1.9000125,
          1.2000281,
          1.500004,
          0.9000703,
          2.8999372,
          2.2999744,
          1.7000102,
          2.5999835,
          1.500004,
          1.500004,
          2.199985,
          2.5999835,
          2.8999372,
          1.6000112,
          2.8999372,
          1.2000281,
          1.500004,
          1.500004,
          2.199985,
          2.2999744,
          1.9000125,
          2.8999372,
          1.9000125,
          2.2999744,
          2.5999835,
          2.2999744,
          1.500004,
          0.9000703,
          1.2000281,
          2.8999372,
          0.9000703,
          2.5999835,
          2.8999372,
          1.9000125,
          1.6000112,
          2.5999835
         ],
         "yaxis": "y"
        }
       ],
       "layout": {
        "legend": {
         "tracegroupgap": 0
        },
        "template": {
         "data": {
          "bar": [
           {
            "error_x": {
             "color": "#2a3f5f"
            },
            "error_y": {
             "color": "#2a3f5f"
            },
            "marker": {
             "line": {
              "color": "#E5ECF6",
              "width": 0.5
             },
             "pattern": {
              "fillmode": "overlay",
              "size": 10,
              "solidity": 0.2
             }
            },
            "type": "bar"
           }
          ],
          "barpolar": [
           {
            "marker": {
             "line": {
              "color": "#E5ECF6",
              "width": 0.5
             },
             "pattern": {
              "fillmode": "overlay",
              "size": 10,
              "solidity": 0.2
             }
            },
            "type": "barpolar"
           }
          ],
          "carpet": [
           {
            "aaxis": {
             "endlinecolor": "#2a3f5f",
             "gridcolor": "white",
             "linecolor": "white",
             "minorgridcolor": "white",
             "startlinecolor": "#2a3f5f"
            },
            "baxis": {
             "endlinecolor": "#2a3f5f",
             "gridcolor": "white",
             "linecolor": "white",
             "minorgridcolor": "white",
             "startlinecolor": "#2a3f5f"
            },
            "type": "carpet"
           }
          ],
          "choropleth": [
           {
            "colorbar": {
             "outlinewidth": 0,
             "ticks": ""
            },
            "type": "choropleth"
           }
          ],
          "contour": [
           {
            "colorbar": {
             "outlinewidth": 0,
             "ticks": ""
            },
            "colorscale": [
             [
              0,
              "#0d0887"
             ],
             [
              0.1111111111111111,
              "#46039f"
             ],
             [
              0.2222222222222222,
              "#7201a8"
             ],
             [
              0.3333333333333333,
              "#9c179e"
             ],
             [
              0.4444444444444444,
              "#bd3786"
             ],
             [
              0.5555555555555556,
              "#d8576b"
             ],
             [
              0.6666666666666666,
              "#ed7953"
             ],
             [
              0.7777777777777778,
              "#fb9f3a"
             ],
             [
              0.8888888888888888,
              "#fdca26"
             ],
             [
              1,
              "#f0f921"
             ]
            ],
            "type": "contour"
           }
          ],
          "contourcarpet": [
           {
            "colorbar": {
             "outlinewidth": 0,
             "ticks": ""
            },
            "type": "contourcarpet"
           }
          ],
          "heatmap": [
           {
            "colorbar": {
             "outlinewidth": 0,
             "ticks": ""
            },
            "colorscale": [
             [
              0,
              "#0d0887"
             ],
             [
              0.1111111111111111,
              "#46039f"
             ],
             [
              0.2222222222222222,
              "#7201a8"
             ],
             [
              0.3333333333333333,
              "#9c179e"
             ],
             [
              0.4444444444444444,
              "#bd3786"
             ],
             [
              0.5555555555555556,
              "#d8576b"
             ],
             [
              0.6666666666666666,
              "#ed7953"
             ],
             [
              0.7777777777777778,
              "#fb9f3a"
             ],
             [
              0.8888888888888888,
              "#fdca26"
             ],
             [
              1,
              "#f0f921"
             ]
            ],
            "type": "heatmap"
           }
          ],
          "heatmapgl": [
           {
            "colorbar": {
             "outlinewidth": 0,
             "ticks": ""
            },
            "colorscale": [
             [
              0,
              "#0d0887"
             ],
             [
              0.1111111111111111,
              "#46039f"
             ],
             [
              0.2222222222222222,
              "#7201a8"
             ],
             [
              0.3333333333333333,
              "#9c179e"
             ],
             [
              0.4444444444444444,
              "#bd3786"
             ],
             [
              0.5555555555555556,
              "#d8576b"
             ],
             [
              0.6666666666666666,
              "#ed7953"
             ],
             [
              0.7777777777777778,
              "#fb9f3a"
             ],
             [
              0.8888888888888888,
              "#fdca26"
             ],
             [
              1,
              "#f0f921"
             ]
            ],
            "type": "heatmapgl"
           }
          ],
          "histogram": [
           {
            "marker": {
             "pattern": {
              "fillmode": "overlay",
              "size": 10,
              "solidity": 0.2
             }
            },
            "type": "histogram"
           }
          ],
          "histogram2d": [
           {
            "colorbar": {
             "outlinewidth": 0,
             "ticks": ""
            },
            "colorscale": [
             [
              0,
              "#0d0887"
             ],
             [
              0.1111111111111111,
              "#46039f"
             ],
             [
              0.2222222222222222,
              "#7201a8"
             ],
             [
              0.3333333333333333,
              "#9c179e"
             ],
             [
              0.4444444444444444,
              "#bd3786"
             ],
             [
              0.5555555555555556,
              "#d8576b"
             ],
             [
              0.6666666666666666,
              "#ed7953"
             ],
             [
              0.7777777777777778,
              "#fb9f3a"
             ],
             [
              0.8888888888888888,
              "#fdca26"
             ],
             [
              1,
              "#f0f921"
             ]
            ],
            "type": "histogram2d"
           }
          ],
          "histogram2dcontour": [
           {
            "colorbar": {
             "outlinewidth": 0,
             "ticks": ""
            },
            "colorscale": [
             [
              0,
              "#0d0887"
             ],
             [
              0.1111111111111111,
              "#46039f"
             ],
             [
              0.2222222222222222,
              "#7201a8"
             ],
             [
              0.3333333333333333,
              "#9c179e"
             ],
             [
              0.4444444444444444,
              "#bd3786"
             ],
             [
              0.5555555555555556,
              "#d8576b"
             ],
             [
              0.6666666666666666,
              "#ed7953"
             ],
             [
              0.7777777777777778,
              "#fb9f3a"
             ],
             [
              0.8888888888888888,
              "#fdca26"
             ],
             [
              1,
              "#f0f921"
             ]
            ],
            "type": "histogram2dcontour"
           }
          ],
          "mesh3d": [
           {
            "colorbar": {
             "outlinewidth": 0,
             "ticks": ""
            },
            "type": "mesh3d"
           }
          ],
          "parcoords": [
           {
            "line": {
             "colorbar": {
              "outlinewidth": 0,
              "ticks": ""
             }
            },
            "type": "parcoords"
           }
          ],
          "pie": [
           {
            "automargin": true,
            "type": "pie"
           }
          ],
          "scatter": [
           {
            "fillpattern": {
             "fillmode": "overlay",
             "size": 10,
             "solidity": 0.2
            },
            "type": "scatter"
           }
          ],
          "scatter3d": [
           {
            "line": {
             "colorbar": {
              "outlinewidth": 0,
              "ticks": ""
             }
            },
            "marker": {
             "colorbar": {
              "outlinewidth": 0,
              "ticks": ""
             }
            },
            "type": "scatter3d"
           }
          ],
          "scattercarpet": [
           {
            "marker": {
             "colorbar": {
              "outlinewidth": 0,
              "ticks": ""
             }
            },
            "type": "scattercarpet"
           }
          ],
          "scattergeo": [
           {
            "marker": {
             "colorbar": {
              "outlinewidth": 0,
              "ticks": ""
             }
            },
            "type": "scattergeo"
           }
          ],
          "scattergl": [
           {
            "marker": {
             "colorbar": {
              "outlinewidth": 0,
              "ticks": ""
             }
            },
            "type": "scattergl"
           }
          ],
          "scattermapbox": [
           {
            "marker": {
             "colorbar": {
              "outlinewidth": 0,
              "ticks": ""
             }
            },
            "type": "scattermapbox"
           }
          ],
          "scatterpolar": [
           {
            "marker": {
             "colorbar": {
              "outlinewidth": 0,
              "ticks": ""
             }
            },
            "type": "scatterpolar"
           }
          ],
          "scatterpolargl": [
           {
            "marker": {
             "colorbar": {
              "outlinewidth": 0,
              "ticks": ""
             }
            },
            "type": "scatterpolargl"
           }
          ],
          "scatterternary": [
           {
            "marker": {
             "colorbar": {
              "outlinewidth": 0,
              "ticks": ""
             }
            },
            "type": "scatterternary"
           }
          ],
          "surface": [
           {
            "colorbar": {
             "outlinewidth": 0,
             "ticks": ""
            },
            "colorscale": [
             [
              0,
              "#0d0887"
             ],
             [
              0.1111111111111111,
              "#46039f"
             ],
             [
              0.2222222222222222,
              "#7201a8"
             ],
             [
              0.3333333333333333,
              "#9c179e"
             ],
             [
              0.4444444444444444,
              "#bd3786"
             ],
             [
              0.5555555555555556,
              "#d8576b"
             ],
             [
              0.6666666666666666,
              "#ed7953"
             ],
             [
              0.7777777777777778,
              "#fb9f3a"
             ],
             [
              0.8888888888888888,
              "#fdca26"
             ],
             [
              1,
              "#f0f921"
             ]
            ],
            "type": "surface"
           }
          ],
          "table": [
           {
            "cells": {
             "fill": {
              "color": "#EBF0F8"
             },
             "line": {
              "color": "white"
             }
            },
            "header": {
             "fill": {
              "color": "#C8D4E3"
             },
             "line": {
              "color": "white"
             }
            },
            "type": "table"
           }
          ]
         },
         "layout": {
          "annotationdefaults": {
           "arrowcolor": "#2a3f5f",
           "arrowhead": 0,
           "arrowwidth": 1
          },
          "autotypenumbers": "strict",
          "coloraxis": {
           "colorbar": {
            "outlinewidth": 0,
            "ticks": ""
           }
          },
          "colorscale": {
           "diverging": [
            [
             0,
             "#8e0152"
            ],
            [
             0.1,
             "#c51b7d"
            ],
            [
             0.2,
             "#de77ae"
            ],
            [
             0.3,
             "#f1b6da"
            ],
            [
             0.4,
             "#fde0ef"
            ],
            [
             0.5,
             "#f7f7f7"
            ],
            [
             0.6,
             "#e6f5d0"
            ],
            [
             0.7,
             "#b8e186"
            ],
            [
             0.8,
             "#7fbc41"
            ],
            [
             0.9,
             "#4d9221"
            ],
            [
             1,
             "#276419"
            ]
           ],
           "sequential": [
            [
             0,
             "#0d0887"
            ],
            [
             0.1111111111111111,
             "#46039f"
            ],
            [
             0.2222222222222222,
             "#7201a8"
            ],
            [
             0.3333333333333333,
             "#9c179e"
            ],
            [
             0.4444444444444444,
             "#bd3786"
            ],
            [
             0.5555555555555556,
             "#d8576b"
            ],
            [
             0.6666666666666666,
             "#ed7953"
            ],
            [
             0.7777777777777778,
             "#fb9f3a"
            ],
            [
             0.8888888888888888,
             "#fdca26"
            ],
            [
             1,
             "#f0f921"
            ]
           ],
           "sequentialminus": [
            [
             0,
             "#0d0887"
            ],
            [
             0.1111111111111111,
             "#46039f"
            ],
            [
             0.2222222222222222,
             "#7201a8"
            ],
            [
             0.3333333333333333,
             "#9c179e"
            ],
            [
             0.4444444444444444,
             "#bd3786"
            ],
            [
             0.5555555555555556,
             "#d8576b"
            ],
            [
             0.6666666666666666,
             "#ed7953"
            ],
            [
             0.7777777777777778,
             "#fb9f3a"
            ],
            [
             0.8888888888888888,
             "#fdca26"
            ],
            [
             1,
             "#f0f921"
            ]
           ]
          },
          "colorway": [
           "#636efa",
           "#EF553B",
           "#00cc96",
           "#ab63fa",
           "#FFA15A",
           "#19d3f3",
           "#FF6692",
           "#B6E880",
           "#FF97FF",
           "#FECB52"
          ],
          "font": {
           "color": "#2a3f5f"
          },
          "geo": {
           "bgcolor": "white",
           "lakecolor": "white",
           "landcolor": "#E5ECF6",
           "showlakes": true,
           "showland": true,
           "subunitcolor": "white"
          },
          "hoverlabel": {
           "align": "left"
          },
          "hovermode": "closest",
          "mapbox": {
           "style": "light"
          },
          "paper_bgcolor": "white",
          "plot_bgcolor": "#E5ECF6",
          "polar": {
           "angularaxis": {
            "gridcolor": "white",
            "linecolor": "white",
            "ticks": ""
           },
           "bgcolor": "#E5ECF6",
           "radialaxis": {
            "gridcolor": "white",
            "linecolor": "white",
            "ticks": ""
           }
          },
          "scene": {
           "xaxis": {
            "backgroundcolor": "#E5ECF6",
            "gridcolor": "white",
            "gridwidth": 2,
            "linecolor": "white",
            "showbackground": true,
            "ticks": "",
            "zerolinecolor": "white"
           },
           "yaxis": {
            "backgroundcolor": "#E5ECF6",
            "gridcolor": "white",
            "gridwidth": 2,
            "linecolor": "white",
            "showbackground": true,
            "ticks": "",
            "zerolinecolor": "white"
           },
           "zaxis": {
            "backgroundcolor": "#E5ECF6",
            "gridcolor": "white",
            "gridwidth": 2,
            "linecolor": "white",
            "showbackground": true,
            "ticks": "",
            "zerolinecolor": "white"
           }
          },
          "shapedefaults": {
           "line": {
            "color": "#2a3f5f"
           }
          },
          "ternary": {
           "aaxis": {
            "gridcolor": "white",
            "linecolor": "white",
            "ticks": ""
           },
           "baxis": {
            "gridcolor": "white",
            "linecolor": "white",
            "ticks": ""
           },
           "bgcolor": "#E5ECF6",
           "caxis": {
            "gridcolor": "white",
            "linecolor": "white",
            "ticks": ""
           }
          },
          "title": {
           "x": 0.05
          },
          "xaxis": {
           "automargin": true,
           "gridcolor": "white",
           "linecolor": "white",
           "ticks": "",
           "title": {
            "standoff": 15
           },
           "zerolinecolor": "white",
           "zerolinewidth": 2
          },
          "yaxis": {
           "automargin": true,
           "gridcolor": "white",
           "linecolor": "white",
           "ticks": "",
           "title": {
            "standoff": 15
           },
           "zerolinecolor": "white",
           "zerolinewidth": 2
          }
         }
        },
        "title": {
         "text": "Predicted Score vs Predicted Sentiment"
        },
        "xaxis": {
         "anchor": "y",
         "domain": [
          0,
          1
         ],
         "title": {
          "text": "Predicted Sentiment"
         }
        },
        "yaxis": {
         "anchor": "x",
         "domain": [
          0,
          1
         ],
         "title": {
          "text": "Predicted Score"
         }
        }
       }
      }
     },
     "metadata": {},
     "output_type": "display_data"
    },
    {
     "data": {
      "application/vnd.plotly.v1+json": {
       "config": {
        "plotlyServerURL": "https://plot.ly"
       },
       "data": [
        {
         "hovertemplate": "Helpful Voting=%{x}<br>Predicted Score=%{y}<extra></extra>",
         "legendgroup": "",
         "marker": {
          "color": "#636efa",
          "symbol": "circle"
         },
         "mode": "markers",
         "name": "",
         "showlegend": false,
         "type": "scattergl",
         "x": [
          0,
          0,
          2,
          0,
          0,
          15,
          0,
          0,
          2,
          0,
          0,
          0,
          0,
          0,
          0,
          0,
          0,
          0,
          0,
          35,
          31,
          1,
          0,
          0,
          0,
          0,
          0,
          0,
          1,
          0,
          1,
          0,
          0,
          0,
          37,
          3,
          0,
          0,
          0,
          0,
          0,
          0,
          0,
          1,
          0,
          1,
          1,
          0,
          0,
          1,
          0,
          0,
          0,
          5,
          0,
          1,
          0,
          0,
          0,
          0,
          0,
          0,
          0,
          0,
          1,
          3,
          0,
          0,
          1,
          1,
          1,
          1,
          1,
          0,
          1,
          0,
          0,
          0,
          0,
          1,
          0,
          2,
          0,
          0,
          0,
          0,
          0,
          1,
          2,
          1,
          1,
          2,
          0,
          0,
          1,
          0,
          1,
          0,
          0,
          0,
          0,
          0,
          1,
          2,
          0,
          0,
          0,
          0,
          0,
          0,
          0,
          0,
          0,
          20,
          0,
          3,
          2,
          3,
          0,
          0,
          0,
          0,
          0,
          0,
          0,
          0,
          0,
          0,
          0,
          0,
          1,
          0,
          0,
          0,
          2,
          0,
          0,
          1,
          0,
          0,
          1,
          0,
          1,
          2,
          0,
          0,
          1,
          1,
          0,
          0,
          0,
          0,
          0,
          3,
          0,
          0,
          0,
          0,
          0,
          1,
          0,
          0,
          0,
          1,
          1,
          0,
          2,
          0,
          2,
          0,
          1,
          0,
          0,
          2,
          0,
          0,
          0,
          0,
          2,
          0,
          1,
          1,
          0,
          0,
          0,
          1,
          0,
          0,
          1,
          0,
          1,
          1,
          2,
          0,
          0,
          0,
          1,
          0,
          2,
          1,
          0,
          0,
          1,
          0,
          0,
          1,
          12,
          0,
          0,
          0,
          0,
          0,
          1,
          1,
          1,
          0,
          0,
          2,
          2,
          0,
          2,
          0,
          1,
          0,
          22,
          0,
          0,
          0,
          0,
          0,
          0,
          0,
          0,
          0,
          1,
          2,
          0,
          1,
          0,
          1,
          0,
          2,
          2,
          3,
          1,
          0,
          1,
          1,
          0,
          0,
          0,
          1,
          1,
          0,
          0,
          0,
          0,
          0,
          0,
          0,
          3,
          0,
          1,
          0,
          0,
          0,
          0,
          0,
          0,
          0,
          0,
          0,
          0,
          0,
          0,
          1,
          1,
          0,
          0,
          0,
          1,
          0,
          0,
          0,
          1,
          0,
          0,
          1,
          2,
          2,
          1,
          2,
          0,
          0,
          2,
          0,
          0,
          0,
          0,
          0,
          0,
          0,
          0,
          0,
          1,
          1,
          0,
          0,
          3,
          1,
          0,
          0,
          0,
          0,
          0,
          2,
          0,
          0,
          0,
          2,
          0,
          0,
          3,
          0,
          0,
          0,
          1,
          1,
          0,
          0,
          0,
          0,
          0,
          1,
          0,
          0,
          2,
          0,
          1,
          0,
          4,
          1,
          1,
          1,
          0,
          2,
          0,
          2,
          0,
          0,
          0,
          0,
          0,
          0,
          2,
          0,
          0,
          2,
          2,
          1,
          0,
          0,
          0,
          0,
          0,
          0,
          0,
          0,
          0,
          5,
          0,
          2,
          0,
          2,
          0,
          1,
          1,
          0,
          3,
          0,
          0,
          0,
          1,
          0,
          1,
          0,
          0,
          0,
          1,
          0,
          0,
          0,
          0,
          0,
          0,
          1,
          1,
          0,
          0,
          2,
          0,
          0,
          0,
          0,
          0,
          1,
          0,
          0,
          0,
          1,
          0,
          0,
          0,
          0,
          0,
          0,
          0,
          0,
          3,
          1,
          2,
          1,
          0,
          0,
          0,
          0,
          0,
          0,
          2,
          0,
          0,
          0,
          0,
          0,
          0,
          0,
          0,
          0,
          0,
          0,
          2,
          0,
          0,
          1,
          0,
          1,
          0,
          0,
          0,
          48,
          0,
          0,
          2,
          0,
          0,
          0,
          0,
          1,
          0,
          0,
          1,
          0,
          1,
          0,
          0,
          0,
          0,
          1,
          0,
          1,
          1,
          6,
          0,
          1,
          3,
          0,
          0,
          4,
          1,
          2,
          0,
          20,
          2,
          1,
          2,
          29,
          0,
          0,
          1,
          2,
          0,
          0,
          0,
          0,
          0,
          0,
          0,
          0,
          0,
          0,
          0,
          0,
          0,
          3,
          0,
          0,
          1,
          0,
          0,
          0,
          0,
          1,
          0,
          0,
          0,
          0,
          0,
          1,
          0,
          0,
          0,
          0,
          0,
          1,
          1,
          1,
          1,
          0,
          0,
          1,
          0,
          0,
          2,
          0,
          0,
          1,
          0,
          0,
          0,
          0,
          4,
          3,
          3,
          0,
          0,
          0,
          0,
          0,
          3,
          2,
          0,
          1,
          1,
          0,
          1,
          0,
          0,
          0,
          0,
          1,
          0,
          0,
          2,
          2,
          0,
          1,
          0,
          2,
          0,
          0,
          0,
          0,
          1,
          1,
          0,
          0,
          0,
          0,
          1,
          0,
          1,
          0,
          2,
          1,
          2,
          0,
          0,
          2,
          0,
          1,
          0,
          42,
          2,
          0,
          0,
          1,
          0,
          0,
          0,
          1,
          0,
          0,
          0,
          0,
          2,
          2,
          0,
          0,
          0,
          0,
          0,
          2,
          2,
          0,
          0,
          0,
          2,
          0,
          2,
          0,
          0,
          2,
          0,
          0,
          1,
          0,
          2,
          1,
          1,
          1,
          1,
          1,
          1,
          0,
          0,
          0,
          1,
          0,
          1,
          0,
          0,
          0,
          0,
          0,
          3,
          1,
          1,
          0,
          0,
          0,
          1,
          0,
          0,
          1,
          0,
          0,
          0,
          0,
          0,
          0,
          1,
          0,
          5,
          3,
          3,
          0,
          0,
          0,
          0,
          2,
          0,
          0,
          0,
          2,
          0,
          0,
          0,
          0,
          0,
          3,
          3,
          0,
          1,
          0,
          0,
          0,
          0,
          0,
          1,
          0,
          0,
          2,
          0,
          0,
          0,
          1,
          1,
          0,
          0,
          1,
          2,
          0,
          1,
          1,
          0,
          0,
          2,
          6,
          0,
          0,
          0,
          1,
          0,
          0,
          20,
          0,
          1,
          0,
          0,
          0,
          7,
          0,
          1,
          0,
          0,
          0,
          1,
          0,
          0,
          0,
          0,
          0,
          1,
          0,
          0,
          0,
          1,
          0,
          0,
          1,
          2,
          0,
          2,
          1,
          2,
          0,
          0,
          0,
          0,
          0,
          1,
          0,
          0,
          1,
          1,
          2,
          2,
          0,
          0,
          0,
          7,
          1,
          0,
          1,
          1,
          0,
          0,
          0,
          0,
          1,
          0,
          0,
          2,
          0,
          0,
          0,
          0,
          0,
          0,
          4,
          3,
          0,
          4,
          0,
          1,
          0,
          0,
          0,
          0,
          0,
          2,
          1,
          1,
          0,
          0,
          0,
          0,
          0,
          0,
          0,
          3,
          3,
          1,
          1,
          0,
          3,
          1,
          0,
          1,
          5,
          0,
          1,
          0,
          1,
          0,
          0,
          2,
          2,
          1,
          0,
          0,
          1,
          0,
          0,
          1,
          0,
          0,
          0,
          0,
          0,
          0,
          0,
          0,
          1,
          0,
          1,
          0,
          0,
          0,
          0,
          2,
          0,
          1,
          0,
          0,
          2,
          0,
          0,
          0,
          0,
          0,
          6,
          2,
          0,
          1,
          3,
          2,
          1,
          0,
          1,
          0,
          0,
          1,
          0,
          4,
          0,
          0,
          0,
          1,
          1,
          0,
          1,
          1,
          0,
          0,
          0,
          0,
          0,
          0,
          2,
          1,
          0,
          2,
          0,
          0,
          1,
          0,
          0,
          1,
          0,
          1,
          0,
          0,
          0,
          0,
          1,
          1,
          0,
          0,
          0,
          0,
          1,
          0,
          0,
          3,
          0,
          2,
          1,
          0,
          5,
          0,
          1,
          1,
          0,
          1,
          0,
          0,
          0,
          2,
          0,
          1,
          0,
          0,
          2,
          0,
          0,
          3,
          0,
          7,
          0,
          0,
          56,
          0,
          1,
          0,
          0,
          0,
          0,
          2,
          0,
          0,
          2,
          8,
          3,
          0,
          0,
          4,
          2,
          1,
          2,
          0,
          0,
          1,
          0,
          0,
          0,
          0,
          0,
          0,
          0,
          0,
          3,
          2,
          1,
          0,
          0,
          2,
          1,
          119,
          2,
          0,
          4,
          0,
          0,
          2,
          2,
          0,
          2,
          0,
          0,
          0,
          2,
          2,
          35,
          1,
          0,
          0,
          0,
          1,
          0,
          0,
          1,
          1,
          0,
          0,
          2,
          0,
          0,
          1,
          0,
          0,
          0,
          0,
          0,
          1,
          0,
          0,
          0,
          0,
          0,
          0,
          0,
          2,
          0,
          2,
          0,
          0,
          0,
          2,
          0,
          1,
          0,
          0,
          2,
          3,
          1,
          1,
          0,
          0,
          0,
          0,
          0,
          2,
          3,
          2,
          0,
          1,
          3,
          2,
          0,
          0,
          0,
          0,
          0,
          5,
          0,
          0,
          0,
          0,
          0,
          1,
          0,
          0,
          0,
          1,
          1,
          0,
          0,
          0,
          4,
          2,
          3,
          3,
          4,
          6,
          2,
          1,
          0,
          0,
          0,
          0,
          2,
          1,
          2,
          0,
          2,
          0,
          0,
          0,
          1,
          21,
          0,
          0,
          0,
          0,
          3,
          2,
          1,
          0,
          0,
          1,
          0,
          0,
          11,
          0,
          0,
          0,
          0,
          1,
          1,
          1,
          2,
          1,
          0,
          0,
          0,
          3,
          0,
          0,
          0,
          0,
          0,
          0,
          0,
          0,
          1,
          1,
          0,
          2,
          0,
          0,
          0,
          0,
          1,
          1,
          6,
          0,
          0,
          1,
          1,
          83,
          0,
          0,
          0,
          3,
          3,
          2,
          1,
          0,
          0,
          1,
          2,
          0,
          0,
          1,
          1,
          0,
          2,
          0,
          0,
          0,
          1,
          0,
          0,
          0,
          0,
          1,
          0,
          0,
          0,
          1,
          0,
          2,
          1,
          2,
          0,
          0,
          0,
          1,
          0,
          0,
          0,
          0,
          0,
          2,
          0,
          0,
          0,
          0,
          0,
          0,
          1,
          0,
          0,
          0,
          0,
          1,
          0,
          0,
          1,
          0,
          0,
          0,
          1,
          0,
          0,
          0,
          0,
          0,
          0,
          1,
          0,
          1,
          0,
          0,
          0,
          1,
          0,
          0,
          0,
          1,
          0,
          4,
          0,
          0,
          27,
          0,
          0,
          0,
          0,
          1,
          0,
          1,
          0,
          0,
          0,
          0,
          33,
          0,
          2,
          0,
          0,
          0,
          0,
          2,
          0,
          2,
          1,
          2,
          0,
          0,
          2,
          2,
          0,
          0,
          0,
          0,
          0,
          0,
          0,
          0,
          0,
          1,
          0,
          1,
          0,
          1,
          0,
          0,
          0,
          1,
          1,
          1,
          0,
          0,
          0,
          6,
          0,
          0,
          0,
          2,
          3,
          0,
          0,
          0,
          0,
          1,
          0,
          0,
          1,
          0,
          0,
          0,
          0,
          0,
          0,
          8,
          0,
          0,
          0,
          0,
          1,
          1,
          0,
          0,
          0,
          0,
          2,
          0,
          1,
          0,
          0,
          0,
          0,
          0,
          0,
          0,
          9,
          0,
          0,
          0,
          0,
          0,
          1,
          0,
          0,
          3,
          0,
          0,
          0,
          2,
          2,
          0,
          0,
          0,
          0,
          0,
          0,
          0,
          0,
          0,
          1,
          0,
          0,
          0,
          0,
          1,
          0,
          0,
          1,
          0,
          0,
          0,
          0,
          0,
          0,
          1,
          0,
          0,
          0,
          0,
          0,
          0,
          1,
          0,
          0,
          0,
          0,
          0,
          0,
          0,
          0,
          0,
          1,
          6,
          0,
          0,
          0,
          0,
          0,
          0,
          0,
          0,
          0,
          0,
          0,
          0,
          0,
          2,
          1,
          0,
          2,
          0,
          0,
          0,
          0,
          0,
          0,
          32,
          0,
          0,
          0,
          1,
          0,
          0,
          1,
          3,
          0,
          0,
          0,
          1,
          0,
          1,
          0,
          0,
          1,
          0,
          0,
          1,
          1,
          0,
          2,
          3,
          4,
          2,
          42,
          0,
          2,
          2,
          0,
          0,
          1,
          0,
          0,
          0,
          1,
          0,
          0,
          0,
          0,
          0,
          0,
          2,
          0,
          2,
          0,
          1,
          2,
          0,
          0,
          0,
          0,
          0,
          2,
          0,
          0,
          1,
          0,
          0,
          1,
          2,
          0,
          0,
          0,
          0,
          0,
          0,
          0,
          1,
          0,
          0,
          0,
          1,
          0,
          0,
          2,
          3,
          2,
          3,
          0,
          1,
          1,
          1,
          0,
          2,
          2,
          1,
          0,
          0,
          0,
          6,
          0,
          0,
          1,
          0,
          1,
          0,
          11,
          2,
          0,
          0,
          1,
          0,
          0,
          2,
          0,
          1,
          0,
          0,
          0,
          0,
          0,
          0,
          2,
          0,
          0,
          2,
          4,
          2,
          0,
          0,
          20,
          0,
          0,
          0,
          2,
          0,
          3,
          0,
          0,
          0,
          0,
          0,
          0,
          0,
          0,
          0,
          1,
          0,
          0,
          0,
          0,
          0,
          0,
          0,
          0,
          0,
          0,
          0,
          0,
          0,
          0,
          0,
          2,
          2,
          0,
          1,
          0,
          0,
          4,
          0,
          36,
          1,
          0,
          2,
          0,
          0,
          0,
          0,
          2,
          2,
          3,
          0,
          0,
          0,
          0,
          0,
          1,
          3,
          1,
          0,
          1,
          3,
          0,
          0,
          3,
          0,
          0,
          2,
          1,
          1,
          2,
          1,
          0,
          0,
          1,
          0,
          0,
          0,
          0,
          0,
          1,
          0,
          0,
          0,
          4,
          0,
          0,
          0,
          0,
          0,
          0,
          1,
          2,
          0,
          0,
          0,
          1,
          1,
          3,
          0,
          0,
          0,
          1,
          0,
          0,
          0,
          0,
          0,
          1,
          0,
          0,
          0,
          0,
          0,
          0,
          0,
          1,
          0,
          0,
          2,
          0,
          1,
          1,
          0,
          0,
          0,
          1,
          15,
          2,
          0,
          0,
          0,
          4,
          0,
          1,
          0,
          0,
          0,
          0,
          1,
          1,
          2,
          1,
          0,
          0,
          1,
          0,
          2,
          0,
          0,
          0,
          1,
          0,
          0,
          0,
          0,
          1,
          0,
          0,
          0,
          0,
          0,
          1,
          3,
          0,
          1,
          0,
          0,
          0,
          0,
          1,
          0,
          0,
          2,
          0,
          0,
          32,
          0,
          0,
          0,
          0,
          0,
          0,
          2,
          0,
          0,
          0,
          0,
          0,
          0,
          0,
          1,
          1,
          0,
          0,
          0,
          0,
          3,
          0,
          0,
          0,
          0,
          0,
          0,
          1,
          2,
          0,
          0,
          0,
          0,
          0,
          1,
          0,
          5,
          0,
          0,
          0,
          0,
          0,
          12,
          0,
          1,
          0,
          0,
          0,
          1,
          0,
          5,
          0,
          0,
          0,
          1,
          0,
          0,
          0,
          1,
          1,
          2,
          1,
          1,
          0,
          1,
          0,
          3,
          0,
          0,
          0,
          0,
          0,
          2,
          0,
          0,
          0,
          0,
          0,
          0,
          0,
          0,
          0,
          1,
          1,
          1,
          0,
          1,
          1,
          1,
          0,
          11,
          1,
          0,
          4,
          0
         ],
         "xaxis": "x",
         "y": [
          2.199985,
          1.500004,
          1.500004,
          2.8999372,
          1.500004,
          2.8999372,
          2.5999835,
          2.8999372,
          1.2000281,
          2.8999372,
          1.3000503,
          2.199985,
          2.5999835,
          1.500004,
          1.500004,
          1.500004,
          0.9000703,
          2.199985,
          1.500004,
          2.199985,
          2.199985,
          0.6000495,
          1.2000281,
          2.8999372,
          1.500004,
          1.500004,
          1.2000281,
          2.199985,
          1.2000281,
          2.199985,
          0.9000703,
          2.199985,
          2.199985,
          2.8999372,
          1.9000125,
          2.5999835,
          1.2000281,
          2.8999372,
          1.6000112,
          2.8999372,
          1.2000281,
          2.5999835,
          2.5999835,
          2.8999372,
          2.5999835,
          2.8999372,
          2.8999372,
          1.9000125,
          0.9000703,
          1.9000125,
          1.9000125,
          2.5999835,
          2.5999835,
          1.9000125,
          1.500004,
          1.500004,
          2.8999372,
          1.500004,
          2.199985,
          0.9000703,
          2.2999744,
          2.199985,
          1.2000281,
          1.500004,
          2.8999372,
          1.500004,
          0.6000495,
          1.9000125,
          1.500004,
          2.5999835,
          2.8999372,
          1.2000281,
          2.8999372,
          1.2000281,
          1.7000102,
          2.199985,
          2.199985,
          1.9000125,
          2.8999372,
          2.199985,
          2.199985,
          2.199985,
          0.6000495,
          1.9000125,
          1.9000125,
          2.2999744,
          2.199985,
          1.2000281,
          1.2000281,
          2.2999744,
          1.9000125,
          1.500004,
          2.199985,
          2.8999372,
          2.199985,
          1.500004,
          1.500004,
          2.8999372,
          1.2000281,
          2.5999835,
          2.199985,
          0.9000703,
          2.8999372,
          1.500004,
          2.8999372,
          1.500004,
          2.5999835,
          1.500004,
          2.5999835,
          2.199985,
          2.199985,
          1.500004,
          1.500004,
          1.500004,
          2.8999372,
          1.2000281,
          0.9000703,
          2.5999835,
          1.2000281,
          2.199985,
          1.500004,
          2.5999835,
          1.500004,
          2.8999372,
          1.500004,
          1.2000281,
          2.5999835,
          1.500004,
          1.500004,
          2.5999835,
          2.8999372,
          2.8999372,
          2.5999835,
          2.5999835,
          2.2999744,
          1.9000125,
          2.5999835,
          1.2000281,
          1.9000125,
          2.199985,
          0.3001171,
          2.199985,
          1.2000281,
          1.2000281,
          1.2000281,
          1.9000125,
          2.199985,
          1.9000125,
          2.199985,
          2.199985,
          2.8999372,
          1.500004,
          2.8999372,
          1.500004,
          1.500004,
          1.2000281,
          2.199985,
          1.2000281,
          2.199985,
          0.9000703,
          2.5999835,
          2.8999372,
          2.199985,
          1.500004,
          2.199985,
          1.2000281,
          2.199985,
          2.199985,
          2.5999835,
          1.500004,
          1.500004,
          1.2000281,
          1.500004,
          1.9000125,
          1.6000112,
          2.2999744,
          1.7000102,
          0.9000703,
          0.3001171,
          2.5999835,
          2.8999372,
          2.199985,
          2.199985,
          2.199985,
          0.9000703,
          0.3001171,
          0.9000703,
          1.2000281,
          2.000011,
          2.5999835,
          0.9000703,
          1.500004,
          2.199985,
          1.500004,
          2.199985,
          1.500004,
          2.199985,
          2.199985,
          1.500004,
          2.8999372,
          0.9000703,
          1.500004,
          2.2999744,
          1.2000281,
          1.500004,
          1.2000281,
          1.500004,
          2.199985,
          2.199985,
          2.5999835,
          1.2000281,
          1.3000503,
          2.199985,
          1.6000112,
          1.500004,
          1.9000125,
          1.500004,
          2.2999744,
          1.500004,
          2.199985,
          1.9000125,
          1.2000281,
          2.199985,
          2.199985,
          1.6000112,
          1.2000281,
          2.8999372,
          1.6000112,
          2.199985,
          1.2000281,
          1.9000125,
          1.2000281,
          2.5999835,
          2.8999372,
          1.9000125,
          2.199985,
          2.8999372,
          1.9000125,
          1.9000125,
          1.2000281,
          2.8999372,
          1.500004,
          2.199985,
          1.2000281,
          2.199985,
          1.6000112,
          2.199985,
          2.8999372,
          2.5999835,
          1.500004,
          2.8999372,
          2.199985,
          2.5999835,
          1.6000112,
          2.5999835,
          1.2000281,
          1.3000503,
          2.199985,
          0.9000703,
          2.199985,
          2.2999744,
          1.500004,
          2.199985,
          2.8999372,
          2.8999372,
          1.500004,
          2.199985,
          1.2000281,
          1.2000281,
          2.5999835,
          1.2000281,
          1.2000281,
          2.8999372,
          2.2999744,
          2.2999744,
          1.9000125,
          0.9000703,
          1.9000125,
          1.2000281,
          1.2000281,
          2.2999744,
          1.2000281,
          1.2000281,
          2.2999744,
          2.8999372,
          2.8999372,
          2.199985,
          2.199985,
          2.5999835,
          2.5999835,
          2.199985,
          2.199985,
          2.8999372,
          1.2000281,
          1.9000125,
          0.3001171,
          1.500004,
          2.199985,
          1.2000281,
          1.500004,
          1.2000281,
          2.199985,
          1.9000125,
          1.9000125,
          1.2000281,
          1.500004,
          2.199985,
          1.9000125,
          2.199985,
          2.199985,
          0.9000703,
          2.8999372,
          1.500004,
          1.9000125,
          2.199985,
          2.8999372,
          2.8999372,
          1.2000281,
          1.500004,
          2.5999835,
          2.199985,
          2.5999835,
          1.9000125,
          1.500004,
          1.500004,
          2.199985,
          0.9000703,
          2.199985,
          2.199985,
          1.500004,
          1.9000125,
          1.6000112,
          2.8999372,
          1.2000281,
          1.500004,
          1.6000112,
          1.9000125,
          2.8999372,
          2.5999835,
          1.9000125,
          1.6000112,
          2.8999372,
          1.9000125,
          1.2000281,
          1.9000125,
          1.7000102,
          0.9000703,
          1.500004,
          2.199985,
          1.500004,
          2.199985,
          1.9000125,
          0.3001171,
          1.6000112,
          1.500004,
          2.199985,
          1.500004,
          0.6000495,
          2.5999835,
          2.5999835,
          1.500004,
          1.500004,
          2.8999372,
          1.500004,
          2.199985,
          2.8999372,
          2.8999372,
          1.9000125,
          2.8999372,
          1.9000125,
          1.6000112,
          2.199985,
          2.8999372,
          2.8999372,
          1.9000125,
          1.7000102,
          1.500004,
          2.8999372,
          2.8999372,
          1.9000125,
          1.9000125,
          1.500004,
          2.2999744,
          2.199985,
          2.2999744,
          2.199985,
          1.500004,
          1.9000125,
          2.5999835,
          2.5999835,
          1.2000281,
          1.9000125,
          1.6000112,
          1.2000281,
          2.8999372,
          2.2999744,
          1.9000125,
          0.3001171,
          1.2000281,
          2.8999372,
          1.2000281,
          2.8999372,
          2.199985,
          0.9000703,
          1.500004,
          2.2999744,
          2.5999835,
          2.199985,
          1.500004,
          1.2000281,
          2.8999372,
          2.199985,
          1.9000125,
          2.199985,
          1.6000112,
          2.5999835,
          2.8999372,
          0.9000703,
          2.199985,
          2.8999372,
          1.500004,
          2.8999372,
          1.2000281,
          2.8999372,
          2.199985,
          2.8999372,
          2.199985,
          1.500004,
          2.8999372,
          2.8999372,
          1.500004,
          2.199985,
          0.9000703,
          1.2000281,
          0.9000703,
          0.9000703,
          0.9000703,
          0.9000703,
          0.9000703,
          2.199985,
          1.500004,
          2.8999372,
          2.8999372,
          1.2000281,
          2.8999372,
          2.5999835,
          2.8999372,
          2.8999372,
          2.5999835,
          1.6000112,
          2.199985,
          0.9000703,
          1.6000112,
          1.9000125,
          1.2000281,
          2.5999835,
          2.8999372,
          2.8999372,
          1.6000112,
          2.5999835,
          2.5999835,
          1.2000281,
          1.9000125,
          2.2999744,
          2.5999835,
          2.5999835,
          0.9000703,
          1.9000125,
          1.9000125,
          2.8999372,
          1.500004,
          1.2000281,
          2.5999835,
          1.500004,
          2.199985,
          2.8999372,
          2.8999372,
          2.8999372,
          1.500004,
          2.199985,
          2.5999835,
          1.2000281,
          1.6000112,
          1.2000281,
          2.199985,
          2.5999835,
          2.2999744,
          0.9000703,
          2.8999372,
          1.9000125,
          2.5999835,
          2.8999372,
          1.500004,
          1.2000281,
          0.9000703,
          0.9000703,
          2.000011,
          1.500004,
          1.500004,
          2.5999835,
          2.8999372,
          1.9000125,
          2.8999372,
          2.8999372,
          1.500004,
          1.3000503,
          1.500004,
          2.8999372,
          2.8999372,
          1.9000125,
          1.2000281,
          1.500004,
          2.8999372,
          1.500004,
          2.8999372,
          1.2000281,
          2.8999372,
          2.199985,
          1.500004,
          1.500004,
          1.500004,
          2.8999372,
          2.5999835,
          2.199985,
          2.2999744,
          2.199985,
          2.8999372,
          2.199985,
          2.199985,
          1.2000281,
          1.2000281,
          2.5999835,
          1.6000112,
          2.5999835,
          0.9000703,
          0.9000703,
          1.500004,
          1.9000125,
          1.500004,
          1.2000281,
          1.2000281,
          2.5999835,
          1.2000281,
          2.199985,
          1.9000125,
          1.6000112,
          1.9000125,
          1.9000125,
          1.2000281,
          2.5999835,
          1.500004,
          1.500004,
          2.8999372,
          0.9000703,
          1.500004,
          1.2000281,
          2.2999744,
          2.199985,
          2.199985,
          1.500004,
          0.9000703,
          1.500004,
          2.5999835,
          1.500004,
          1.9000125,
          1.9000125,
          2.8999372,
          2.5999835,
          2.199985,
          1.500004,
          2.8999372,
          1.500004,
          1.500004,
          2.5999835,
          0.3001171,
          2.8999372,
          1.2000281,
          2.8999372,
          0.9000703,
          0.9000703,
          1.000132,
          2.8999372,
          2.8999372,
          2.5999835,
          1.2000281,
          0.9000703,
          2.8999372,
          1.9000125,
          2.199985,
          1.2000281,
          2.8999372,
          1.2000281,
          1.500004,
          2.8999372,
          2.8999372,
          2.2999744,
          0.9000703,
          2.199985,
          2.199985,
          2.8999372,
          2.8999372,
          1.9000125,
          0.9000703,
          0.9000703,
          0.3001171,
          1.6000112,
          2.8999372,
          2.8999372,
          2.199985,
          1.500004,
          2.199985,
          2.2999744,
          2.8999372,
          2.5999835,
          2.199985,
          2.199985,
          2.199985,
          2.199985,
          1.2000281,
          1.500004,
          1.500004,
          1.2000281,
          1.9000125,
          1.500004,
          2.5999835,
          2.199985,
          1.2000281,
          1.2000281,
          0.3001171,
          2.8999372,
          0.9000703,
          2.8999372,
          1.500004,
          1.500004,
          2.8999372,
          2.8999372,
          1.500004,
          1.2000281,
          1.500004,
          2.000011,
          1.500004,
          0.9000703,
          1.6000112,
          1.9000125,
          1.500004,
          2.8999372,
          2.2999744,
          2.199985,
          1.9000125,
          1.2000281,
          2.199985,
          2.2999744,
          2.199985,
          1.500004,
          2.8999372,
          1.9000125,
          1.3000503,
          2.5999835,
          2.199985,
          2.8999372,
          2.5999835,
          2.199985,
          1.9000125,
          1.2000281,
          1.9000125,
          1.2000281,
          2.5999835,
          2.5999835,
          2.199985,
          1.500004,
          0.6000495,
          2.2999744,
          2.5999835,
          1.6000112,
          2.8999372,
          1.6000112,
          1.500004,
          1.9000125,
          2.8999372,
          1.500004,
          1.9000125,
          1.500004,
          2.199985,
          2.5999835,
          1.9000125,
          0.9000703,
          1.2000281,
          2.199985,
          2.199985,
          1.9000125,
          2.5999835,
          1.9000125,
          1.9000125,
          2.8999372,
          1.500004,
          0.6000495,
          1.000132,
          1.500004,
          1.9000125,
          2.5999835,
          2.199985,
          1.500004,
          2.5999835,
          1.9000125,
          2.199985,
          1.500004,
          0.3001171,
          1.000132,
          2.199985,
          2.199985,
          1.500004,
          2.199985,
          2.8999372,
          2.8999372,
          0.9000703,
          1.500004,
          2.8999372,
          1.2000281,
          1.500004,
          1.6000112,
          2.8999372,
          0.9000703,
          2.8999372,
          0.9000703,
          1.9000125,
          2.5999835,
          1.9000125,
          2.5999835,
          2.199985,
          2.8999372,
          2.8999372,
          1.9000125,
          2.199985,
          1.500004,
          1.500004,
          2.5999835,
          1.2000281,
          2.000011,
          1.000132,
          0.3001171,
          1.000132,
          1.2000281,
          2.199985,
          1.500004,
          1.2000281,
          2.5999835,
          2.2999744,
          2.8999372,
          1.6000112,
          2.8999372,
          1.6000112,
          1.500004,
          2.199985,
          1.6000112,
          1.2000281,
          1.2000281,
          2.199985,
          1.500004,
          2.8999372,
          1.500004,
          1.9000125,
          2.8999372,
          2.2999744,
          1.500004,
          2.199985,
          1.500004,
          1.2000281,
          1.2000281,
          2.199985,
          1.6000112,
          2.2999744,
          2.8999372,
          2.8999372,
          2.8999372,
          2.8999372,
          1.2000281,
          2.5999835,
          1.2000281,
          2.8999372,
          2.5999835,
          1.500004,
          1.3000503,
          1.6000112,
          2.199985,
          2.5999835,
          2.199985,
          1.6000112,
          1.500004,
          2.8999372,
          2.199985,
          2.5999835,
          2.8999372,
          0.9000703,
          1.9000125,
          1.2000281,
          2.5999835,
          2.2999744,
          2.8999372,
          2.8999372,
          1.9000125,
          1.6000112,
          2.5999835,
          2.199985,
          1.000132,
          1.2000281,
          2.5999835,
          2.199985,
          2.5999835,
          1.2000281,
          1.9000125,
          1.9000125,
          2.5999835,
          2.2999744,
          1.9000125,
          1.500004,
          1.2000281,
          2.8999372,
          1.2000281,
          2.199985,
          1.500004,
          1.500004,
          1.500004,
          1.500004,
          1.2000281,
          1.2000281,
          2.199985,
          0.9000703,
          0.9000703,
          1.500004,
          0.3001171,
          1.500004,
          1.6000112,
          1.500004,
          2.199985,
          0.3001171,
          1.6000112,
          1.2000281,
          1.2000281,
          1.9000125,
          1.9000125,
          1.6000112,
          0.3001171,
          2.5999835,
          1.2000281,
          2.5999835,
          1.9000125,
          2.199985,
          1.2000281,
          2.8999372,
          1.500004,
          1.2000281,
          2.199985,
          1.2000281,
          1.9000125,
          2.5999835,
          1.2000281,
          1.500004,
          1.500004,
          1.500004,
          2.199985,
          1.500004,
          1.9000125,
          0.6000495,
          1.9000125,
          1.6000112,
          1.2000281,
          1.9000125,
          1.9000125,
          1.500004,
          2.199985,
          2.8999372,
          2.8999372,
          1.500004,
          1.500004,
          0.9000703,
          2.2999744,
          2.5999835,
          1.2000281,
          1.6000112,
          1.500004,
          2.199985,
          2.8999372,
          2.199985,
          1.9000125,
          0.9000703,
          1.2000281,
          1.9000125,
          1.9000125,
          2.2999744,
          1.2000281,
          2.8999372,
          1.9000125,
          1.9000125,
          2.8999372,
          1.500004,
          1.500004,
          2.8999372,
          1.500004,
          1.500004,
          1.2000281,
          0.9000703,
          1.9000125,
          1.6000112,
          1.2000281,
          2.000011,
          1.2000281,
          2.5999835,
          1.500004,
          2.199985,
          1.500004,
          2.5999835,
          2.199985,
          1.7000102,
          2.199985,
          1.7000102,
          1.500004,
          2.199985,
          1.9000125,
          2.199985,
          1.2000281,
          1.500004,
          2.8999372,
          1.9000125,
          1.9000125,
          2.5999835,
          2.199985,
          1.9000125,
          1.2000281,
          1.500004,
          1.7000102,
          1.9000125,
          1.2000281,
          2.199985,
          1.500004,
          1.9000125,
          0.9000703,
          2.5999835,
          2.5999835,
          0.9000703,
          1.2000281,
          1.9000125,
          2.8999372,
          2.8999372,
          2.199985,
          1.9000125,
          2.199985,
          1.2000281,
          1.9000125,
          1.500004,
          1.3000503,
          2.5999835,
          2.8999372,
          1.000132,
          0.9000703,
          1.500004,
          2.8999372,
          1.500004,
          1.6000112,
          1.9000125,
          2.5999835,
          1.2000281,
          1.500004,
          1.9000125,
          1.2000281,
          1.6000112,
          2.199985,
          1.000132,
          1.3000503,
          2.8999372,
          2.8999372,
          1.9000125,
          1.2000281,
          2.8999372,
          1.9000125,
          1.500004,
          2.5999835,
          2.8999372,
          2.5999835,
          2.199985,
          1.9000125,
          0.9000703,
          2.199985,
          1.9000125,
          1.2000281,
          1.9000125,
          1.6000112,
          2.000011,
          1.500004,
          1.3000503,
          2.199985,
          1.500004,
          2.8999372,
          1.9000125,
          1.2000281,
          2.8999372,
          2.199985,
          2.8999372,
          1.2000281,
          2.5999835,
          1.6000112,
          2.199985,
          2.199985,
          2.199985,
          0.9000703,
          2.8999372,
          2.5999835,
          1.500004,
          1.2000281,
          2.5999835,
          0.9000703,
          0.9000703,
          1.2000281,
          1.9000125,
          1.500004,
          1.9000125,
          1.9000125,
          1.2000281,
          1.9000125,
          1.2000281,
          1.9000125,
          1.500004,
          1.6000112,
          0.3001171,
          1.000132,
          0.9000703,
          2.5999835,
          1.500004,
          0.9000703,
          2.8999372,
          2.199985,
          2.199985,
          1.2000281,
          1.9000125,
          1.500004,
          1.2000281,
          0.9000703,
          2.8999372,
          2.8999372,
          2.199985,
          1.500004,
          2.199985,
          2.199985,
          2.8999372,
          2.8999372,
          2.8999372,
          2.8999372,
          2.199985,
          2.199985,
          2.199985,
          1.500004,
          2.8999372,
          2.8999372,
          1.2000281,
          2.5999835,
          1.500004,
          2.5999835,
          1.2000281,
          2.8999372,
          1.9000125,
          1.9000125,
          1.500004,
          2.5999835,
          1.000132,
          1.3000503,
          2.5999835,
          1.6000112,
          1.500004,
          1.2000281,
          2.8999372,
          1.9000125,
          2.8999372,
          2.5999835,
          2.8999372,
          1.3000503,
          1.7000102,
          1.500004,
          1.500004,
          1.2000281,
          1.500004,
          1.9000125,
          1.2000281,
          1.2000281,
          1.500004,
          2.199985,
          0.9000703,
          0.3001171,
          2.5999835,
          1.3000503,
          1.9000125,
          0.9000703,
          1.500004,
          2.5999835,
          2.8999372,
          1.9000125,
          2.199985,
          0.9000703,
          2.199985,
          2.8999372,
          2.8999372,
          2.199985,
          1.500004,
          1.2000281,
          2.8999372,
          1.2000281,
          1.6000112,
          2.8999372,
          2.5999835,
          2.199985,
          1.6000112,
          0.9000703,
          1.6000112,
          2.2999744,
          0.6000495,
          1.6000112,
          2.199985,
          1.500004,
          2.5999835,
          2.8999372,
          1.9000125,
          2.8999372,
          2.8999372,
          2.8999372,
          2.5999835,
          2.199985,
          0.9000703,
          1.000132,
          2.199985,
          1.3000503,
          0.3001171,
          1.9000125,
          2.8999372,
          2.199985,
          2.8999372,
          1.2000281,
          1.2000281,
          1.7000102,
          0.9000703,
          2.199985,
          2.5999835,
          2.199985,
          2.5999835,
          2.8999372,
          2.5999835,
          1.7000102,
          1.500004,
          1.500004,
          2.5999835,
          2.5999835,
          0.9000703,
          1.2000281,
          1.9000125,
          2.5999835,
          2.2999744,
          1.9000125,
          2.8999372,
          1.500004,
          1.9000125,
          1.500004,
          1.2000281,
          2.5999835,
          1.2000281,
          2.199985,
          1.6000112,
          1.2000281,
          2.199985,
          2.8999372,
          1.000132,
          1.500004,
          1.500004,
          2.8999372,
          2.199985,
          2.199985,
          2.199985,
          1.9000125,
          2.5999835,
          2.199985,
          2.199985,
          2.199985,
          1.2000281,
          0.9000703,
          2.199985,
          2.5999835,
          2.199985,
          0.9000703,
          1.500004,
          2.199985,
          1.500004,
          0.9000703,
          1.9000125,
          1.9000125,
          2.199985,
          1.2000281,
          2.2999744,
          2.199985,
          2.199985,
          1.9000125,
          1.500004,
          1.500004,
          1.500004,
          2.5999835,
          1.9000125,
          2.199985,
          2.199985,
          2.199985,
          1.500004,
          2.5999835,
          1.9000125,
          2.8999372,
          2.199985,
          2.8999372,
          2.2999744,
          1.500004,
          2.8999372,
          1.9000125,
          2.5999835,
          2.8999372,
          1.2000281,
          1.9000125,
          2.8999372,
          1.500004,
          2.8999372,
          0.9000703,
          2.5999835,
          0.6000495,
          2.199985,
          2.199985,
          1.500004,
          2.199985,
          2.2999744,
          1.2000281,
          2.8999372,
          1.500004,
          2.2999744,
          1.7000102,
          2.199985,
          0.3001171,
          2.2999744,
          1.9000125,
          1.2000281,
          0.9000703,
          1.2000281,
          2.8999372,
          1.9000125,
          1.9000125,
          2.199985,
          1.6000112,
          2.199985,
          1.500004,
          2.8999372,
          1.500004,
          2.8999372,
          2.8999372,
          1.500004,
          1.500004,
          1.500004,
          1.500004,
          2.000011,
          2.8999372,
          1.9000125,
          1.500004,
          2.8999372,
          1.6000112,
          2.199985,
          2.5999835,
          0.3001171,
          1.2000281,
          1.9000125,
          1.9000125,
          2.8999372,
          2.199985,
          1.500004,
          2.2999744,
          1.500004,
          0.9000703,
          0.9000703,
          2.2999744,
          2.000011,
          1.500004,
          2.199985,
          2.8999372,
          2.199985,
          2.199985,
          1.6000112,
          1.500004,
          2.199985,
          2.199985,
          2.8999372,
          1.500004,
          1.9000125,
          1.500004,
          1.500004,
          0.9000703,
          1.500004,
          1.500004,
          1.500004,
          2.8999372,
          2.5999835,
          1.9000125,
          1.2000281,
          2.8999372,
          1.500004,
          1.2000281,
          2.8999372,
          0.6000495,
          2.199985,
          1.500004,
          1.2000281,
          0.6000495,
          1.2000281,
          1.500004,
          2.5999835,
          1.000132,
          1.000132,
          2.5999835,
          0.3001171,
          1.2000281,
          1.7000102,
          1.3000503,
          1.000132,
          2.8999372,
          2.8999372,
          2.199985,
          1.500004,
          0.9000703,
          1.500004,
          2.8999372,
          2.5999835,
          1.500004,
          2.199985,
          2.199985,
          0.3001171,
          2.5999835,
          2.8999372,
          2.8999372,
          1.500004,
          2.5999835,
          2.8999372,
          1.500004,
          2.8999372,
          1.9000125,
          1.9000125,
          1.9000125,
          2.8999372,
          2.5999835,
          1.500004,
          2.199985,
          2.199985,
          2.2999744,
          0.9000703,
          1.9000125,
          1.7000102,
          2.5999835,
          1.500004,
          1.3000503,
          1.9000125,
          1.9000125,
          1.6000112,
          2.8999372,
          2.000011,
          1.9000125,
          2.199985,
          1.500004,
          1.500004,
          1.3000503,
          1.9000125,
          1.9000125,
          1.9000125,
          1.500004,
          0.9000703,
          1.6000112,
          1.6000112,
          1.500004,
          2.199985,
          2.2999744,
          2.5999835,
          2.000011,
          2.199985,
          2.8999372,
          1.500004,
          0.3001171,
          1.9000125,
          2.199985,
          1.9000125,
          1.500004,
          2.8999372,
          2.199985,
          1.500004,
          1.9000125,
          2.199985,
          1.500004,
          2.8999372,
          1.9000125,
          2.8999372,
          2.199985,
          2.199985,
          2.199985,
          2.8999372,
          2.199985,
          2.199985,
          2.199985,
          2.199985,
          1.7000102,
          1.6000112,
          1.500004,
          2.199985,
          1.2000281,
          2.199985,
          2.8999372,
          2.199985,
          2.199985,
          1.000132,
          1.000132,
          2.8999372,
          2.199985,
          2.199985,
          1.500004,
          2.199985,
          2.199985,
          1.2000281,
          1.500004,
          2.199985,
          2.8999372,
          1.2000281,
          1.000132,
          1.9000125,
          2.8999372,
          1.2000281,
          1.000132,
          2.2999744,
          2.2999744,
          2.8999372,
          1.9000125,
          1.9000125,
          2.199985,
          2.199985,
          1.2000281,
          1.2000281,
          2.199985,
          1.2000281,
          1.3000503,
          1.2000281,
          1.9000125,
          2.8999372,
          0.9000703,
          2.2999744,
          1.500004,
          2.5999835,
          1.500004,
          2.199985,
          1.500004,
          2.199985,
          0.3001171,
          1.9000125,
          2.5999835,
          1.9000125,
          1.3000503,
          1.6000112,
          1.500004,
          1.2000281,
          1.6000112,
          0.6000495,
          1.6000112,
          1.500004,
          1.500004,
          1.2000281,
          1.2000281,
          1.2000281,
          2.199985,
          2.8999372,
          1.6000112,
          2.2999744,
          1.2000281,
          1.500004,
          1.2000281,
          0.9000703,
          1.6000112,
          1.2000281,
          2.199985,
          1.500004,
          2.2999744,
          1.500004,
          1.2000281,
          0.6000495,
          2.5999835,
          0.3001171,
          1.500004,
          2.5999835,
          0.3001171,
          2.199985,
          1.500004,
          2.8999372,
          2.5999835,
          1.500004,
          2.199985,
          1.2000281,
          1.9000125,
          2.199985,
          2.5999835,
          1.2000281,
          0.9000703,
          2.8999372,
          2.5999835,
          1.2000281,
          2.5999835,
          1.9000125,
          2.2999744,
          0.3001171,
          2.199985,
          1.500004,
          2.5999835,
          1.2000281,
          0.9000703,
          1.9000125,
          2.5999835,
          1.500004,
          1.500004,
          2.199985,
          1.500004,
          2.199985,
          1.500004,
          2.199985,
          1.500004,
          1.6000112,
          0.9000703,
          2.000011,
          1.9000125,
          1.9000125,
          1.500004,
          2.5999835,
          2.2999744,
          1.2000281,
          2.199985,
          1.2000281,
          2.2999744,
          1.2000281,
          1.500004,
          1.500004,
          2.5999835,
          2.199985,
          2.8999372,
          1.500004,
          2.199985,
          2.199985,
          2.199985,
          1.500004,
          2.199985,
          1.500004,
          1.2000281,
          2.5999835,
          1.2000281,
          1.3000503,
          1.9000125,
          1.500004,
          1.7000102,
          0.3001171,
          2.199985,
          1.500004,
          1.500004,
          1.500004,
          1.500004,
          2.8999372,
          2.199985,
          1.500004,
          1.2000281,
          1.9000125,
          2.199985,
          1.2000281,
          2.199985,
          1.6000112,
          1.7000102,
          0.3001171,
          2.8999372,
          2.199985,
          2.199985,
          1.9000125,
          1.500004,
          1.2000281,
          1.9000125,
          2.000011,
          2.199985,
          2.8999372,
          2.8999372,
          2.5999835,
          1.500004,
          2.199985,
          2.5999835,
          2.8999372,
          2.5999835,
          2.5999835,
          1.2000281,
          1.2000281,
          1.500004,
          1.500004,
          1.500004,
          1.500004,
          1.9000125,
          2.199985,
          2.8999372,
          1.500004,
          2.199985,
          1.500004,
          1.500004,
          2.5999835,
          1.9000125,
          1.9000125,
          1.2000281,
          1.2000281,
          1.9000125,
          2.5999835,
          2.5999835,
          1.6000112,
          1.500004,
          2.199985,
          1.500004,
          2.199985,
          2.8999372,
          2.8999372,
          1.500004,
          1.500004,
          2.8999372,
          1.2000281,
          1.500004,
          1.9000125,
          0.3001171,
          2.199985,
          2.8999372,
          1.500004,
          1.2000281,
          1.6000112,
          0.3001171,
          1.9000125,
          1.9000125,
          1.6000112,
          2.8999372,
          2.5999835,
          1.500004,
          0.9000703,
          1.2000281,
          1.2000281,
          2.8999372,
          1.9000125,
          0.9000703,
          2.199985,
          2.8999372,
          1.2000281,
          0.3001171,
          1.500004,
          2.199985,
          2.8999372,
          2.199985,
          1.500004,
          2.5999835,
          2.199985,
          1.500004,
          1.500004,
          1.2000281,
          2.5999835,
          2.2999744,
          2.2999744,
          1.9000125,
          2.8999372,
          2.199985,
          1.9000125,
          1.9000125,
          1.9000125,
          2.5999835,
          2.5999835,
          2.199985,
          0.9000703,
          1.2000281,
          1.2000281,
          2.5999835,
          2.8999372,
          2.199985,
          0.6000495,
          1.2000281,
          1.000132,
          1.500004,
          1.500004,
          2.199985,
          0.6000495,
          1.2000281,
          1.9000125,
          2.199985,
          2.8999372,
          2.199985,
          0.6000495,
          1.500004,
          2.199985,
          2.199985,
          1.9000125,
          1.2000281,
          2.5999835,
          1.9000125,
          1.2000281,
          1.2000281,
          2.199985,
          2.199985,
          2.8999372,
          2.199985,
          2.5999835,
          1.500004,
          0.3001171,
          2.2999744,
          1.9000125,
          1.500004,
          2.8999372,
          1.500004,
          2.8999372,
          2.199985,
          2.2999744,
          2.199985,
          1.000132,
          1.9000125,
          1.000132,
          0.3001171,
          2.2999744,
          1.500004,
          1.500004,
          2.8999372,
          2.199985,
          1.2000281,
          0.3001171,
          2.8999372,
          1.500004,
          2.8999372,
          2.5999835,
          1.500004,
          2.199985,
          2.8999372,
          2.199985,
          2.8999372,
          1.9000125,
          2.5999835,
          2.199985,
          2.199985,
          1.9000125,
          2.5999835,
          1.2000281,
          2.5999835,
          2.5999835,
          1.500004,
          1.500004,
          2.5999835,
          0.9000703,
          2.199985,
          2.199985,
          1.9000125,
          1.2000281,
          1.500004,
          0.9000703,
          2.8999372,
          2.2999744,
          1.7000102,
          2.5999835,
          1.500004,
          1.500004,
          2.199985,
          2.5999835,
          2.8999372,
          1.6000112,
          2.8999372,
          1.2000281,
          1.500004,
          1.500004,
          2.199985,
          2.2999744,
          1.9000125,
          2.8999372,
          1.9000125,
          2.2999744,
          2.5999835,
          2.2999744,
          1.500004,
          0.9000703,
          1.2000281,
          2.8999372,
          0.9000703,
          2.5999835,
          2.8999372,
          1.9000125,
          1.6000112,
          2.5999835
         ],
         "yaxis": "y"
        }
       ],
       "layout": {
        "legend": {
         "tracegroupgap": 0
        },
        "template": {
         "data": {
          "bar": [
           {
            "error_x": {
             "color": "#2a3f5f"
            },
            "error_y": {
             "color": "#2a3f5f"
            },
            "marker": {
             "line": {
              "color": "#E5ECF6",
              "width": 0.5
             },
             "pattern": {
              "fillmode": "overlay",
              "size": 10,
              "solidity": 0.2
             }
            },
            "type": "bar"
           }
          ],
          "barpolar": [
           {
            "marker": {
             "line": {
              "color": "#E5ECF6",
              "width": 0.5
             },
             "pattern": {
              "fillmode": "overlay",
              "size": 10,
              "solidity": 0.2
             }
            },
            "type": "barpolar"
           }
          ],
          "carpet": [
           {
            "aaxis": {
             "endlinecolor": "#2a3f5f",
             "gridcolor": "white",
             "linecolor": "white",
             "minorgridcolor": "white",
             "startlinecolor": "#2a3f5f"
            },
            "baxis": {
             "endlinecolor": "#2a3f5f",
             "gridcolor": "white",
             "linecolor": "white",
             "minorgridcolor": "white",
             "startlinecolor": "#2a3f5f"
            },
            "type": "carpet"
           }
          ],
          "choropleth": [
           {
            "colorbar": {
             "outlinewidth": 0,
             "ticks": ""
            },
            "type": "choropleth"
           }
          ],
          "contour": [
           {
            "colorbar": {
             "outlinewidth": 0,
             "ticks": ""
            },
            "colorscale": [
             [
              0,
              "#0d0887"
             ],
             [
              0.1111111111111111,
              "#46039f"
             ],
             [
              0.2222222222222222,
              "#7201a8"
             ],
             [
              0.3333333333333333,
              "#9c179e"
             ],
             [
              0.4444444444444444,
              "#bd3786"
             ],
             [
              0.5555555555555556,
              "#d8576b"
             ],
             [
              0.6666666666666666,
              "#ed7953"
             ],
             [
              0.7777777777777778,
              "#fb9f3a"
             ],
             [
              0.8888888888888888,
              "#fdca26"
             ],
             [
              1,
              "#f0f921"
             ]
            ],
            "type": "contour"
           }
          ],
          "contourcarpet": [
           {
            "colorbar": {
             "outlinewidth": 0,
             "ticks": ""
            },
            "type": "contourcarpet"
           }
          ],
          "heatmap": [
           {
            "colorbar": {
             "outlinewidth": 0,
             "ticks": ""
            },
            "colorscale": [
             [
              0,
              "#0d0887"
             ],
             [
              0.1111111111111111,
              "#46039f"
             ],
             [
              0.2222222222222222,
              "#7201a8"
             ],
             [
              0.3333333333333333,
              "#9c179e"
             ],
             [
              0.4444444444444444,
              "#bd3786"
             ],
             [
              0.5555555555555556,
              "#d8576b"
             ],
             [
              0.6666666666666666,
              "#ed7953"
             ],
             [
              0.7777777777777778,
              "#fb9f3a"
             ],
             [
              0.8888888888888888,
              "#fdca26"
             ],
             [
              1,
              "#f0f921"
             ]
            ],
            "type": "heatmap"
           }
          ],
          "heatmapgl": [
           {
            "colorbar": {
             "outlinewidth": 0,
             "ticks": ""
            },
            "colorscale": [
             [
              0,
              "#0d0887"
             ],
             [
              0.1111111111111111,
              "#46039f"
             ],
             [
              0.2222222222222222,
              "#7201a8"
             ],
             [
              0.3333333333333333,
              "#9c179e"
             ],
             [
              0.4444444444444444,
              "#bd3786"
             ],
             [
              0.5555555555555556,
              "#d8576b"
             ],
             [
              0.6666666666666666,
              "#ed7953"
             ],
             [
              0.7777777777777778,
              "#fb9f3a"
             ],
             [
              0.8888888888888888,
              "#fdca26"
             ],
             [
              1,
              "#f0f921"
             ]
            ],
            "type": "heatmapgl"
           }
          ],
          "histogram": [
           {
            "marker": {
             "pattern": {
              "fillmode": "overlay",
              "size": 10,
              "solidity": 0.2
             }
            },
            "type": "histogram"
           }
          ],
          "histogram2d": [
           {
            "colorbar": {
             "outlinewidth": 0,
             "ticks": ""
            },
            "colorscale": [
             [
              0,
              "#0d0887"
             ],
             [
              0.1111111111111111,
              "#46039f"
             ],
             [
              0.2222222222222222,
              "#7201a8"
             ],
             [
              0.3333333333333333,
              "#9c179e"
             ],
             [
              0.4444444444444444,
              "#bd3786"
             ],
             [
              0.5555555555555556,
              "#d8576b"
             ],
             [
              0.6666666666666666,
              "#ed7953"
             ],
             [
              0.7777777777777778,
              "#fb9f3a"
             ],
             [
              0.8888888888888888,
              "#fdca26"
             ],
             [
              1,
              "#f0f921"
             ]
            ],
            "type": "histogram2d"
           }
          ],
          "histogram2dcontour": [
           {
            "colorbar": {
             "outlinewidth": 0,
             "ticks": ""
            },
            "colorscale": [
             [
              0,
              "#0d0887"
             ],
             [
              0.1111111111111111,
              "#46039f"
             ],
             [
              0.2222222222222222,
              "#7201a8"
             ],
             [
              0.3333333333333333,
              "#9c179e"
             ],
             [
              0.4444444444444444,
              "#bd3786"
             ],
             [
              0.5555555555555556,
              "#d8576b"
             ],
             [
              0.6666666666666666,
              "#ed7953"
             ],
             [
              0.7777777777777778,
              "#fb9f3a"
             ],
             [
              0.8888888888888888,
              "#fdca26"
             ],
             [
              1,
              "#f0f921"
             ]
            ],
            "type": "histogram2dcontour"
           }
          ],
          "mesh3d": [
           {
            "colorbar": {
             "outlinewidth": 0,
             "ticks": ""
            },
            "type": "mesh3d"
           }
          ],
          "parcoords": [
           {
            "line": {
             "colorbar": {
              "outlinewidth": 0,
              "ticks": ""
             }
            },
            "type": "parcoords"
           }
          ],
          "pie": [
           {
            "automargin": true,
            "type": "pie"
           }
          ],
          "scatter": [
           {
            "fillpattern": {
             "fillmode": "overlay",
             "size": 10,
             "solidity": 0.2
            },
            "type": "scatter"
           }
          ],
          "scatter3d": [
           {
            "line": {
             "colorbar": {
              "outlinewidth": 0,
              "ticks": ""
             }
            },
            "marker": {
             "colorbar": {
              "outlinewidth": 0,
              "ticks": ""
             }
            },
            "type": "scatter3d"
           }
          ],
          "scattercarpet": [
           {
            "marker": {
             "colorbar": {
              "outlinewidth": 0,
              "ticks": ""
             }
            },
            "type": "scattercarpet"
           }
          ],
          "scattergeo": [
           {
            "marker": {
             "colorbar": {
              "outlinewidth": 0,
              "ticks": ""
             }
            },
            "type": "scattergeo"
           }
          ],
          "scattergl": [
           {
            "marker": {
             "colorbar": {
              "outlinewidth": 0,
              "ticks": ""
             }
            },
            "type": "scattergl"
           }
          ],
          "scattermapbox": [
           {
            "marker": {
             "colorbar": {
              "outlinewidth": 0,
              "ticks": ""
             }
            },
            "type": "scattermapbox"
           }
          ],
          "scatterpolar": [
           {
            "marker": {
             "colorbar": {
              "outlinewidth": 0,
              "ticks": ""
             }
            },
            "type": "scatterpolar"
           }
          ],
          "scatterpolargl": [
           {
            "marker": {
             "colorbar": {
              "outlinewidth": 0,
              "ticks": ""
             }
            },
            "type": "scatterpolargl"
           }
          ],
          "scatterternary": [
           {
            "marker": {
             "colorbar": {
              "outlinewidth": 0,
              "ticks": ""
             }
            },
            "type": "scatterternary"
           }
          ],
          "surface": [
           {
            "colorbar": {
             "outlinewidth": 0,
             "ticks": ""
            },
            "colorscale": [
             [
              0,
              "#0d0887"
             ],
             [
              0.1111111111111111,
              "#46039f"
             ],
             [
              0.2222222222222222,
              "#7201a8"
             ],
             [
              0.3333333333333333,
              "#9c179e"
             ],
             [
              0.4444444444444444,
              "#bd3786"
             ],
             [
              0.5555555555555556,
              "#d8576b"
             ],
             [
              0.6666666666666666,
              "#ed7953"
             ],
             [
              0.7777777777777778,
              "#fb9f3a"
             ],
             [
              0.8888888888888888,
              "#fdca26"
             ],
             [
              1,
              "#f0f921"
             ]
            ],
            "type": "surface"
           }
          ],
          "table": [
           {
            "cells": {
             "fill": {
              "color": "#EBF0F8"
             },
             "line": {
              "color": "white"
             }
            },
            "header": {
             "fill": {
              "color": "#C8D4E3"
             },
             "line": {
              "color": "white"
             }
            },
            "type": "table"
           }
          ]
         },
         "layout": {
          "annotationdefaults": {
           "arrowcolor": "#2a3f5f",
           "arrowhead": 0,
           "arrowwidth": 1
          },
          "autotypenumbers": "strict",
          "coloraxis": {
           "colorbar": {
            "outlinewidth": 0,
            "ticks": ""
           }
          },
          "colorscale": {
           "diverging": [
            [
             0,
             "#8e0152"
            ],
            [
             0.1,
             "#c51b7d"
            ],
            [
             0.2,
             "#de77ae"
            ],
            [
             0.3,
             "#f1b6da"
            ],
            [
             0.4,
             "#fde0ef"
            ],
            [
             0.5,
             "#f7f7f7"
            ],
            [
             0.6,
             "#e6f5d0"
            ],
            [
             0.7,
             "#b8e186"
            ],
            [
             0.8,
             "#7fbc41"
            ],
            [
             0.9,
             "#4d9221"
            ],
            [
             1,
             "#276419"
            ]
           ],
           "sequential": [
            [
             0,
             "#0d0887"
            ],
            [
             0.1111111111111111,
             "#46039f"
            ],
            [
             0.2222222222222222,
             "#7201a8"
            ],
            [
             0.3333333333333333,
             "#9c179e"
            ],
            [
             0.4444444444444444,
             "#bd3786"
            ],
            [
             0.5555555555555556,
             "#d8576b"
            ],
            [
             0.6666666666666666,
             "#ed7953"
            ],
            [
             0.7777777777777778,
             "#fb9f3a"
            ],
            [
             0.8888888888888888,
             "#fdca26"
            ],
            [
             1,
             "#f0f921"
            ]
           ],
           "sequentialminus": [
            [
             0,
             "#0d0887"
            ],
            [
             0.1111111111111111,
             "#46039f"
            ],
            [
             0.2222222222222222,
             "#7201a8"
            ],
            [
             0.3333333333333333,
             "#9c179e"
            ],
            [
             0.4444444444444444,
             "#bd3786"
            ],
            [
             0.5555555555555556,
             "#d8576b"
            ],
            [
             0.6666666666666666,
             "#ed7953"
            ],
            [
             0.7777777777777778,
             "#fb9f3a"
            ],
            [
             0.8888888888888888,
             "#fdca26"
            ],
            [
             1,
             "#f0f921"
            ]
           ]
          },
          "colorway": [
           "#636efa",
           "#EF553B",
           "#00cc96",
           "#ab63fa",
           "#FFA15A",
           "#19d3f3",
           "#FF6692",
           "#B6E880",
           "#FF97FF",
           "#FECB52"
          ],
          "font": {
           "color": "#2a3f5f"
          },
          "geo": {
           "bgcolor": "white",
           "lakecolor": "white",
           "landcolor": "#E5ECF6",
           "showlakes": true,
           "showland": true,
           "subunitcolor": "white"
          },
          "hoverlabel": {
           "align": "left"
          },
          "hovermode": "closest",
          "mapbox": {
           "style": "light"
          },
          "paper_bgcolor": "white",
          "plot_bgcolor": "#E5ECF6",
          "polar": {
           "angularaxis": {
            "gridcolor": "white",
            "linecolor": "white",
            "ticks": ""
           },
           "bgcolor": "#E5ECF6",
           "radialaxis": {
            "gridcolor": "white",
            "linecolor": "white",
            "ticks": ""
           }
          },
          "scene": {
           "xaxis": {
            "backgroundcolor": "#E5ECF6",
            "gridcolor": "white",
            "gridwidth": 2,
            "linecolor": "white",
            "showbackground": true,
            "ticks": "",
            "zerolinecolor": "white"
           },
           "yaxis": {
            "backgroundcolor": "#E5ECF6",
            "gridcolor": "white",
            "gridwidth": 2,
            "linecolor": "white",
            "showbackground": true,
            "ticks": "",
            "zerolinecolor": "white"
           },
           "zaxis": {
            "backgroundcolor": "#E5ECF6",
            "gridcolor": "white",
            "gridwidth": 2,
            "linecolor": "white",
            "showbackground": true,
            "ticks": "",
            "zerolinecolor": "white"
           }
          },
          "shapedefaults": {
           "line": {
            "color": "#2a3f5f"
           }
          },
          "ternary": {
           "aaxis": {
            "gridcolor": "white",
            "linecolor": "white",
            "ticks": ""
           },
           "baxis": {
            "gridcolor": "white",
            "linecolor": "white",
            "ticks": ""
           },
           "bgcolor": "#E5ECF6",
           "caxis": {
            "gridcolor": "white",
            "linecolor": "white",
            "ticks": ""
           }
          },
          "title": {
           "x": 0.05
          },
          "xaxis": {
           "automargin": true,
           "gridcolor": "white",
           "linecolor": "white",
           "ticks": "",
           "title": {
            "standoff": 15
           },
           "zerolinecolor": "white",
           "zerolinewidth": 2
          },
          "yaxis": {
           "automargin": true,
           "gridcolor": "white",
           "linecolor": "white",
           "ticks": "",
           "title": {
            "standoff": 15
           },
           "zerolinecolor": "white",
           "zerolinewidth": 2
          }
         }
        },
        "title": {
         "text": "Predicted Score vs Helpful Voting"
        },
        "xaxis": {
         "anchor": "y",
         "domain": [
          0,
          1
         ],
         "title": {
          "text": "Helpful Voting"
         }
        },
        "yaxis": {
         "anchor": "x",
         "domain": [
          0,
          1
         ],
         "title": {
          "text": "Predicted Score"
         }
        }
       }
      }
     },
     "metadata": {},
     "output_type": "display_data"
    }
   ],
   "source": [
    "\n",
    "# Plot predicted scores against rating\n",
    "fig1 = px.scatter(\n",
    "    review_sentiment_df, \n",
    "    x='rating', \n",
    "    y='predicted_score', \n",
    "    title=\"Predicted Score vs Rating\", \n",
    "    labels={'rating': 'Rating', 'predicted_score': 'Predicted Score'}\n",
    ")\n",
    "fig1.show()\n",
    "\n",
    "# Plot predicted scores against predicted_sentiment\n",
    "fig2 = px.scatter(\n",
    "    review_sentiment_df, \n",
    "    x='predicted_sentiment', \n",
    "    y='predicted_score', \n",
    "    title=\"Predicted Score vs Predicted Sentiment\", \n",
    "    labels={'predicted_sentiment': 'Predicted Sentiment', 'predicted_score': 'Predicted Score'}\n",
    ")\n",
    "fig2.show()\n",
    "\n",
    "# Plot predicted scores against helpful_voting\n",
    "fig3 = px.scatter(\n",
    "    review_sentiment_df, \n",
    "    x='helpful_voting', \n",
    "    y='predicted_score', \n",
    "    title=\"Predicted Score vs Helpful Voting\", \n",
    "    labels={'helpful_voting': 'Helpful Voting', 'predicted_score': 'Predicted Score'}\n",
    ")\n",
    "fig3.show()"
   ]
  },
  {
   "cell_type": "code",
   "execution_count": 12,
   "metadata": {},
   "outputs": [
    {
     "data": {
      "text/plain": [
       "17"
      ]
     },
     "execution_count": 12,
     "metadata": {},
     "output_type": "execute_result"
    }
   ],
   "source": [
    "len(list(set(review_sentiment_df['place_name'].values)))"
   ]
  },
  {
   "cell_type": "code",
   "execution_count": 13,
   "metadata": {},
   "outputs": [],
   "source": [
    "def get_best_location_in_place(place_name):\n",
    "    place_df = review_sentiment_df[review_sentiment_df['place_name'] == place_name]\n",
    "    best_location = place_df.loc[place_df['predicted_score'].idxmax()]\n",
    "    return best_location['location_name'], best_location['predicted_score']\n",
    "\n",
    "def suggest_locations_in_other_places(exclude_place_name, top_n=3):\n",
    "    other_places_df = review_sentiment_df[review_sentiment_df['place_name'] != exclude_place_name]\n",
    "    top_suggestions = other_places_df.sort_values(by='predicted_score', ascending=False).head(top_n)\n",
    "    return top_suggestions[['location_name', 'place_name', 'predicted_score']]"
   ]
  },
  {
   "cell_type": "code",
   "execution_count": 14,
   "metadata": {},
   "outputs": [
    {
     "name": "stdout",
     "output_type": "stream",
     "text": [
      ">>>> Best location in Bangkok: Wat Phra Chetuphon with a score of 2.899937152862549\n",
      "\n",
      ">>>> Suggestions in other places:\n",
      "\n"
     ]
    },
    {
     "data": {
      "text/html": [
       "<div>\n",
       "<style scoped>\n",
       "    .dataframe tbody tr th:only-of-type {\n",
       "        vertical-align: middle;\n",
       "    }\n",
       "\n",
       "    .dataframe tbody tr th {\n",
       "        vertical-align: top;\n",
       "    }\n",
       "\n",
       "    .dataframe thead th {\n",
       "        text-align: right;\n",
       "    }\n",
       "</style>\n",
       "<table border=\"1\" class=\"dataframe\">\n",
       "  <thead>\n",
       "    <tr style=\"text-align: right;\">\n",
       "      <th></th>\n",
       "      <th>location_name</th>\n",
       "      <th>place_name</th>\n",
       "      <th>predicted_score</th>\n",
       "    </tr>\n",
       "  </thead>\n",
       "  <tbody>\n",
       "    <tr>\n",
       "      <th>774</th>\n",
       "      <td>Wat Pha Sorn Kaew</td>\n",
       "      <td>Saraburi</td>\n",
       "      <td>2.899937</td>\n",
       "    </tr>\n",
       "    <tr>\n",
       "      <th>716</th>\n",
       "      <td>Phra That Cave</td>\n",
       "      <td>Saraburi</td>\n",
       "      <td>2.899937</td>\n",
       "    </tr>\n",
       "    <tr>\n",
       "      <th>778</th>\n",
       "      <td>Namtok Ton Nga Chang</td>\n",
       "      <td>Saraburi</td>\n",
       "      <td>2.899937</td>\n",
       "    </tr>\n",
       "    <tr>\n",
       "      <th>773</th>\n",
       "      <td>Wat Pra Dhat Pha-Ngao</td>\n",
       "      <td>Saraburi</td>\n",
       "      <td>2.899937</td>\n",
       "    </tr>\n",
       "    <tr>\n",
       "      <th>772</th>\n",
       "      <td>Khao Phanom Bencha National Park</td>\n",
       "      <td>Saraburi</td>\n",
       "      <td>2.899937</td>\n",
       "    </tr>\n",
       "  </tbody>\n",
       "</table>\n",
       "</div>"
      ],
      "text/plain": [
       "                        location_name place_name  predicted_score\n",
       "774                 Wat Pha Sorn Kaew   Saraburi         2.899937\n",
       "716                    Phra That Cave   Saraburi         2.899937\n",
       "778              Namtok Ton Nga Chang   Saraburi         2.899937\n",
       "773             Wat Pra Dhat Pha-Ngao   Saraburi         2.899937\n",
       "772  Khao Phanom Bencha National Park   Saraburi         2.899937"
      ]
     },
     "execution_count": 14,
     "metadata": {},
     "output_type": "execute_result"
    }
   ],
   "source": [
    "place_name = 'Bangkok'\n",
    "\n",
    "best_location, best_score = get_best_location_in_place(place_name)\n",
    "print(f\">>>> Best location in {place_name}: {best_location} with a score of {best_score}\")\n",
    "\n",
    "suggestions = suggest_locations_in_other_places(place_name, top_n=5)\n",
    "print(f\"\\n>>>> Suggestions in other places:\\n\")\n",
    "suggestions"
   ]
  },
  {
   "cell_type": "code",
   "execution_count": 15,
   "metadata": {},
   "outputs": [
    {
     "name": "stdout",
     "output_type": "stream",
     "text": [
      "                                        location_name  proxy_score\n",
      "0                                    Wat Ratchabophit          2.2\n",
      "1                                    Wat Ratchabophit          1.5\n",
      "2     Wat Rajapradit Sathitmahasimaram Rajaworavihara          1.5\n",
      "3                                  Wat Phra Chetuphon          2.9\n",
      "4                           Temple Of Dawn (Wat Arun)          1.5\n",
      "...                                               ...          ...\n",
      "1778                                Wat Prasat Temple          2.6\n",
      "1779                                Wat Prasat Temple          2.9\n",
      "1780                                Wat Prasat Temple          1.9\n",
      "1781                                  Prasat Puay Noi          1.6\n",
      "1782                                  Prasat Puay Noi          2.6\n",
      "\n",
      "[1783 rows x 2 columns]\n"
     ]
    }
   ],
   "source": [
    "print(review_sentiment_df[['location_name', 'proxy_score']])"
   ]
  },
  {
   "cell_type": "code",
   "execution_count": 16,
   "metadata": {},
   "outputs": [
    {
     "data": {
      "text/html": [
       "<div>\n",
       "<style scoped>\n",
       "    .dataframe tbody tr th:only-of-type {\n",
       "        vertical-align: middle;\n",
       "    }\n",
       "\n",
       "    .dataframe tbody tr th {\n",
       "        vertical-align: top;\n",
       "    }\n",
       "\n",
       "    .dataframe thead th {\n",
       "        text-align: right;\n",
       "    }\n",
       "</style>\n",
       "<table border=\"1\" class=\"dataframe\">\n",
       "  <thead>\n",
       "    <tr style=\"text-align: right;\">\n",
       "      <th></th>\n",
       "      <th>review_id</th>\n",
       "      <th>location_name</th>\n",
       "      <th>rating</th>\n",
       "    </tr>\n",
       "  </thead>\n",
       "  <tbody>\n",
       "    <tr>\n",
       "      <th>0</th>\n",
       "      <td>953596359.0</td>\n",
       "      <td>Wat Ratchabophit</td>\n",
       "      <td>5.0</td>\n",
       "    </tr>\n",
       "    <tr>\n",
       "      <th>1</th>\n",
       "      <td>885904967.0</td>\n",
       "      <td>Wat Ratchabophit</td>\n",
       "      <td>5.0</td>\n",
       "    </tr>\n",
       "    <tr>\n",
       "      <th>2</th>\n",
       "      <td>738692369.0</td>\n",
       "      <td>Wat Rajapradit Sathitmahasimaram Rajaworavihara</td>\n",
       "      <td>5.0</td>\n",
       "    </tr>\n",
       "    <tr>\n",
       "      <th>3</th>\n",
       "      <td>962482865.0</td>\n",
       "      <td>Wat Phra Chetuphon</td>\n",
       "      <td>5.0</td>\n",
       "    </tr>\n",
       "    <tr>\n",
       "      <th>4</th>\n",
       "      <td>962528316.0</td>\n",
       "      <td>Temple Of Dawn (Wat Arun)</td>\n",
       "      <td>5.0</td>\n",
       "    </tr>\n",
       "    <tr>\n",
       "      <th>...</th>\n",
       "      <td>...</td>\n",
       "      <td>...</td>\n",
       "      <td>...</td>\n",
       "    </tr>\n",
       "    <tr>\n",
       "      <th>1778</th>\n",
       "      <td>877979960.0</td>\n",
       "      <td>Wat Prasat Temple</td>\n",
       "      <td>4.0</td>\n",
       "    </tr>\n",
       "    <tr>\n",
       "      <th>1779</th>\n",
       "      <td>658165922.0</td>\n",
       "      <td>Wat Prasat Temple</td>\n",
       "      <td>5.0</td>\n",
       "    </tr>\n",
       "    <tr>\n",
       "      <th>1780</th>\n",
       "      <td>591689577.0</td>\n",
       "      <td>Wat Prasat Temple</td>\n",
       "      <td>4.0</td>\n",
       "    </tr>\n",
       "    <tr>\n",
       "      <th>1781</th>\n",
       "      <td>752115552.0</td>\n",
       "      <td>Prasat Puay Noi</td>\n",
       "      <td>3.0</td>\n",
       "    </tr>\n",
       "    <tr>\n",
       "      <th>1782</th>\n",
       "      <td>571939282.0</td>\n",
       "      <td>Prasat Puay Noi</td>\n",
       "      <td>4.0</td>\n",
       "    </tr>\n",
       "  </tbody>\n",
       "</table>\n",
       "<p>1783 rows × 3 columns</p>\n",
       "</div>"
      ],
      "text/plain": [
       "        review_id                                    location_name  rating\n",
       "0     953596359.0                                 Wat Ratchabophit     5.0\n",
       "1     885904967.0                                 Wat Ratchabophit     5.0\n",
       "2     738692369.0  Wat Rajapradit Sathitmahasimaram Rajaworavihara     5.0\n",
       "3     962482865.0                               Wat Phra Chetuphon     5.0\n",
       "4     962528316.0                        Temple Of Dawn (Wat Arun)     5.0\n",
       "...           ...                                              ...     ...\n",
       "1778  877979960.0                                Wat Prasat Temple     4.0\n",
       "1779  658165922.0                                Wat Prasat Temple     5.0\n",
       "1780  591689577.0                                Wat Prasat Temple     4.0\n",
       "1781  752115552.0                                  Prasat Puay Noi     3.0\n",
       "1782  571939282.0                                  Prasat Puay Noi     4.0\n",
       "\n",
       "[1783 rows x 3 columns]"
      ]
     },
     "execution_count": 16,
     "metadata": {},
     "output_type": "execute_result"
    }
   ],
   "source": [
    "review_sentiment_df[['review_id', 'location_name', 'rating']]"
   ]
  },
  {
   "cell_type": "code",
   "execution_count": 17,
   "metadata": {},
   "outputs": [],
   "source": [
    "from surprise import Dataset, Reader, SVD\n",
    "from surprise import accuracy\n",
    "\n",
    "reader = Reader(rating_scale=(1, 5))\n",
    "data = Dataset.load_from_df(review_sentiment_df[['review_id', 'location_name', 'rating']], reader)\n"
   ]
  },
  {
   "cell_type": "code",
   "execution_count": 18,
   "metadata": {},
   "outputs": [],
   "source": [
    "from surprise.model_selection import train_test_split\n",
    "trainset, testset = train_test_split(data, test_size=0.2)"
   ]
  },
  {
   "cell_type": "code",
   "execution_count": 19,
   "metadata": {},
   "outputs": [
    {
     "data": {
      "text/html": [
       "<div>\n",
       "<style scoped>\n",
       "    .dataframe tbody tr th:only-of-type {\n",
       "        vertical-align: middle;\n",
       "    }\n",
       "\n",
       "    .dataframe tbody tr th {\n",
       "        vertical-align: top;\n",
       "    }\n",
       "\n",
       "    .dataframe thead th {\n",
       "        text-align: right;\n",
       "    }\n",
       "</style>\n",
       "<table border=\"1\" class=\"dataframe\">\n",
       "  <thead>\n",
       "    <tr style=\"text-align: right;\">\n",
       "      <th></th>\n",
       "      <th>Unnamed: 0</th>\n",
       "      <th>location_id</th>\n",
       "      <th>location_name</th>\n",
       "      <th>trip_type</th>\n",
       "      <th>rating</th>\n",
       "      <th>helpful_voting</th>\n",
       "      <th>review_text</th>\n",
       "      <th>actual_sentiment</th>\n",
       "      <th>predicted_sentiment</th>\n",
       "      <th>place_id</th>\n",
       "      <th>place_name</th>\n",
       "      <th>emotion</th>\n",
       "      <th>review_id</th>\n",
       "      <th>proxy_score</th>\n",
       "      <th>predicted_score</th>\n",
       "    </tr>\n",
       "  </thead>\n",
       "  <tbody>\n",
       "    <tr>\n",
       "      <th>500</th>\n",
       "      <td>1642</td>\n",
       "      <td>4322525.0</td>\n",
       "      <td>Somdet Phra Srinakarindra Park Roi Et</td>\n",
       "      <td>Family</td>\n",
       "      <td>5.0</td>\n",
       "      <td>0.0</td>\n",
       "      <td>Upon looking around I was the only foriegn per...</td>\n",
       "      <td>2</td>\n",
       "      <td>2</td>\n",
       "      <td>P03013758</td>\n",
       "      <td>Phra Nakhon Si Ayutthaya</td>\n",
       "      <td>joy</td>\n",
       "      <td>724240266.0</td>\n",
       "      <td>2.9</td>\n",
       "      <td>2.899937</td>\n",
       "    </tr>\n",
       "    <tr>\n",
       "      <th>501</th>\n",
       "      <td>1643</td>\n",
       "      <td>4322525.0</td>\n",
       "      <td>Somdet Phra Srinakarindra Park Roi Et</td>\n",
       "      <td>Couples</td>\n",
       "      <td>4.0</td>\n",
       "      <td>0.0</td>\n",
       "      <td>A very nice &amp; tranquil park &amp; lake in the cent...</td>\n",
       "      <td>1</td>\n",
       "      <td>1</td>\n",
       "      <td>P03013758</td>\n",
       "      <td>Phra Nakhon Si Ayutthaya</td>\n",
       "      <td>joy</td>\n",
       "      <td>670453326.0</td>\n",
       "      <td>1.9</td>\n",
       "      <td>1.900012</td>\n",
       "    </tr>\n",
       "    <tr>\n",
       "      <th>502</th>\n",
       "      <td>1650</td>\n",
       "      <td>1754561.0</td>\n",
       "      <td>Wat Ram Poeng</td>\n",
       "      <td>Solo travel</td>\n",
       "      <td>5.0</td>\n",
       "      <td>0.0</td>\n",
       "      <td>Vipassana meditation here is a life changing, ...</td>\n",
       "      <td>2</td>\n",
       "      <td>2</td>\n",
       "      <td>P03013530</td>\n",
       "      <td>Phra Nakhon Si Ayutthaya</td>\n",
       "      <td>joy</td>\n",
       "      <td>902372464.0</td>\n",
       "      <td>2.9</td>\n",
       "      <td>2.899937</td>\n",
       "    </tr>\n",
       "    <tr>\n",
       "      <th>503</th>\n",
       "      <td>1654</td>\n",
       "      <td>1754561.0</td>\n",
       "      <td>Wat Ram Poeng</td>\n",
       "      <td>Solo travel</td>\n",
       "      <td>5.0</td>\n",
       "      <td>3.0</td>\n",
       "      <td>I've come here for a 10 day course twice, 6 ye...</td>\n",
       "      <td>2</td>\n",
       "      <td>2</td>\n",
       "      <td>P03013530</td>\n",
       "      <td>Phra Nakhon Si Ayutthaya</td>\n",
       "      <td>joy</td>\n",
       "      <td>729759013.0</td>\n",
       "      <td>2.9</td>\n",
       "      <td>2.899937</td>\n",
       "    </tr>\n",
       "    <tr>\n",
       "      <th>504</th>\n",
       "      <td>1655</td>\n",
       "      <td>7117174.0</td>\n",
       "      <td>Wat Khun Thai Tha Ram Temple</td>\n",
       "      <td>Friends getaway</td>\n",
       "      <td>5.0</td>\n",
       "      <td>0.0</td>\n",
       "      <td>Awesome! Many great paintings to see. Many sto...</td>\n",
       "      <td>0</td>\n",
       "      <td>0</td>\n",
       "      <td>P03013530</td>\n",
       "      <td>Phra Nakhon Si Ayutthaya</td>\n",
       "      <td>joy</td>\n",
       "      <td>466706644.0</td>\n",
       "      <td>1.5</td>\n",
       "      <td>1.500004</td>\n",
       "    </tr>\n",
       "  </tbody>\n",
       "</table>\n",
       "</div>"
      ],
      "text/plain": [
       "     Unnamed: 0  location_id                          location_name  \\\n",
       "500        1642    4322525.0  Somdet Phra Srinakarindra Park Roi Et   \n",
       "501        1643    4322525.0  Somdet Phra Srinakarindra Park Roi Et   \n",
       "502        1650    1754561.0                          Wat Ram Poeng   \n",
       "503        1654    1754561.0                          Wat Ram Poeng   \n",
       "504        1655    7117174.0           Wat Khun Thai Tha Ram Temple   \n",
       "\n",
       "           trip_type  rating  helpful_voting  \\\n",
       "500           Family     5.0             0.0   \n",
       "501          Couples     4.0             0.0   \n",
       "502      Solo travel     5.0             0.0   \n",
       "503      Solo travel     5.0             3.0   \n",
       "504  Friends getaway     5.0             0.0   \n",
       "\n",
       "                                           review_text  actual_sentiment  \\\n",
       "500  Upon looking around I was the only foriegn per...                 2   \n",
       "501  A very nice & tranquil park & lake in the cent...                 1   \n",
       "502  Vipassana meditation here is a life changing, ...                 2   \n",
       "503  I've come here for a 10 day course twice, 6 ye...                 2   \n",
       "504  Awesome! Many great paintings to see. Many sto...                 0   \n",
       "\n",
       "     predicted_sentiment   place_id                place_name emotion  \\\n",
       "500                    2  P03013758  Phra Nakhon Si Ayutthaya     joy   \n",
       "501                    1  P03013758  Phra Nakhon Si Ayutthaya     joy   \n",
       "502                    2  P03013530  Phra Nakhon Si Ayutthaya     joy   \n",
       "503                    2  P03013530  Phra Nakhon Si Ayutthaya     joy   \n",
       "504                    0  P03013530  Phra Nakhon Si Ayutthaya     joy   \n",
       "\n",
       "       review_id  proxy_score  predicted_score  \n",
       "500  724240266.0          2.9         2.899937  \n",
       "501  670453326.0          1.9         1.900012  \n",
       "502  902372464.0          2.9         2.899937  \n",
       "503  729759013.0          2.9         2.899937  \n",
       "504  466706644.0          1.5         1.500004  "
      ]
     },
     "execution_count": 19,
     "metadata": {},
     "output_type": "execute_result"
    }
   ],
   "source": [
    "review_sentiment_df.iloc[500:505]"
   ]
  },
  {
   "cell_type": "code",
   "execution_count": 20,
   "metadata": {},
   "outputs": [
    {
     "name": "stdout",
     "output_type": "stream",
     "text": [
      "RMSE: 0.9155\n",
      "Collaborative Filtering RMSE: 0.9155255800867431\n",
      "Collaborative Filtering prediction for Review 765890432 on Khao Yoi Cave: 4.144004242340179\n"
     ]
    }
   ],
   "source": [
    "model = SVD()\n",
    "model.fit(trainset)\n",
    "\n",
    "# Step 5: Get predictions for the test set\n",
    "predictions = model.test(testset)\n",
    "print(f\"Collaborative Filtering RMSE: {accuracy.rmse(predictions)}\")\n",
    "\n",
    "# Step 6: Collaborative Filtering predictions for a specific review-item pair\n",
    "review_id = 765890432\n",
    "item_id = 'Khao Yoi Cave'\n",
    "collab_pred = model.predict(review_id, item_id).est\n",
    "print(f\"Collaborative Filtering prediction for Review {review_id} on {item_id}: {collab_pred}\")"
   ]
  },
  {
   "cell_type": "code",
   "execution_count": 21,
   "metadata": {},
   "outputs": [
    {
     "name": "stdout",
     "output_type": "stream",
     "text": [
      "Hybrid Recommendation Score for 765890432 on Khao Yoi Cave: 3.3664025454041075 of 5\n"
     ]
    }
   ],
   "source": [
    "# Define weights for each method\n",
    "collab_weight = 0.6\n",
    "content_weight = 0.4\n",
    "\n",
    "# Get the content-based score for a specific item (e.g., 'Wat Pho')\n",
    "content_pred = review_sentiment_df[review_sentiment_df['location_name'] == item_id]['proxy_score'].values[0]\n",
    "\n",
    "# Combine both scores into a final hybrid score\n",
    "hybrid_score = (collab_weight * collab_pred) + (content_weight * content_pred)\n",
    "\n",
    "print(f\"Hybrid Recommendation Score for {review_id} on {item_id}: {hybrid_score} of 5\")\n"
   ]
  },
  {
   "cell_type": "markdown",
   "metadata": {},
   "source": [
    "## หลักการ\n",
    "ระบบแนะนำแบบไฮบริดเป็นการผสมผสานระหว่าง **Collaborative Filtering (CF)** และ **Content-Based Filtering (CBF)** เพื่อใช้ประโยชน์จากทั้งสองวิธี:\n",
    "\n",
    "- **Collaborative Filtering (CF)**: วิเคราะห์พฤติกรรมการให้คะแนนของผู้ใช้ที่คล้ายกัน เพื่อแนะนำสถานที่ที่ผู้ใช้อาจจะชอบ\n",
    "- **Content-Based Filtering (CBF)**: วิเคราะห์คุณลักษณะของสถานที่ เช่น ความรู้สึกในการรีวิว (sentiment) หรือจำนวนการโหวต (helpful voting) เพื่อแนะนำสถานที่ที่มีลักษณะคล้ายกับที่ผู้ใช้เคยชอบ\n",
    "\n",
    "## การคำนวณ\n",
    "คะแนนไฮบริดคำนวณจากการถ่วงน้ำหนักระหว่าง CF และ CBF โดยใช้สูตร:\n",
    "\n",
    "$$ \n",
    "\\text{Hybrid Score} = (\\text{Weight}_{CF} \\times \\text{CF Score}) + (\\text{Weight}_{CBF} \\times \\text{CBF Score}) \n",
    "$$\n",
    "\n",
    "ซึ่ง **Weight** จะถูกกำหนดตามความสำคัญของแต่ละโมเดลในระบบ\n",
    "\n",
    "## การตีความ\n",
    "- **คะแนนใกล้ 5**: โมเดลคาดว่าผู้ใช้หรือรีวิวนี้น่าจะชอบสถานที่มาก\n",
    "- **คะแนนใกล้ 1**: โมเดลคาดว่าผู้ใช้ไม่น่าจะชอบสถานที่นั้น\n",
    "- **คะแนนกลางๆ**: ผู้ใช้อาจรู้สึกกลางๆ กับสถานที่นั้น\n",
    "\n",
    "คะแนนนี้สามารถนำไปใช้เพื่อจัดลำดับความสำคัญในการแนะนำสถานที่ต่างๆ ให้กับผู้ใช้ตามความชอบที่คาดการณ์\n"
   ]
  },
  {
   "cell_type": "code",
   "execution_count": 22,
   "metadata": {},
   "outputs": [],
   "source": [
    "def recommend_top5_locations(review_id, svd_model, review_sentiment_df, content_weights=(0.4, 0.3, 0.3), cf_weight=0.6, cbf_weight=0.4):\n",
    "    \"\"\"\n",
    "    Recommend the top 5 locations that the user (review_id) might like based on hybrid recommendation.\n",
    "\n",
    "    Parameters:\n",
    "    review_id (int): The review ID for which to recommend locations.\n",
    "    svd_model (SVD): The trained SVD collaborative filtering model.\n",
    "    review_sentiment_df (pd.DataFrame): The DataFrame containing review data and content features.\n",
    "    content_weights (tuple): Weights for content-based features (rating, helpful_voting, predicted_sentiment).\n",
    "    cf_weight (float): Weight for collaborative filtering score.\n",
    "    cbf_weight (float): Weight for content-based filtering score.\n",
    "\n",
    "    Returns:\n",
    "    pd.DataFrame: Top 5 recommended locations with their hybrid scores.\n",
    "    \"\"\"\n",
    "    # Get the list of all locations\n",
    "    all_locations = review_sentiment_df['location_name'].unique()\n",
    "    \n",
    "    # Get the locations that the user (review_id) has already reviewed\n",
    "    reviewed_locations = review_sentiment_df[review_sentiment_df['review_id'] == review_id]['location_name'].unique()\n",
    "    \n",
    "    # Filter out locations that the user has already reviewed\n",
    "    locations_to_recommend = [loc for loc in all_locations if loc not in reviewed_locations]\n",
    "    \n",
    "    recommendations = []\n",
    "\n",
    "    # Normalize content features to avoid domination by one feature\n",
    "    min_rating = review_sentiment_df['rating'].min()\n",
    "    max_rating = review_sentiment_df['rating'].max()\n",
    "    min_helpful = review_sentiment_df['helpful_voting'].min()\n",
    "    max_helpful = review_sentiment_df['helpful_voting'].max()\n",
    "    min_sentiment = review_sentiment_df['predicted_sentiment'].min()\n",
    "    max_sentiment = review_sentiment_df['predicted_sentiment'].max()\n",
    "\n",
    "    for location in locations_to_recommend:\n",
    "        # Step 1: Collaborative Filtering (CF) Score\n",
    "        try:\n",
    "            cf_score = svd_model.predict(review_id, location).est\n",
    "        except:\n",
    "            cf_score = 0  # In case prediction fails for any reason\n",
    "        \n",
    "        # Step 2: Content-Based Filtering (CBF) Score\n",
    "        location_data = review_sentiment_df[review_sentiment_df['location_name'] == location].iloc[0]\n",
    "        \n",
    "        # Normalize the content-based features to a 0-1 scale\n",
    "        normalized_rating = (location_data['rating'] - min_rating) / (max_rating - min_rating)\n",
    "        normalized_helpful = (location_data['helpful_voting'] - min_helpful) / (max_helpful - min_helpful)\n",
    "        normalized_sentiment = (location_data['predicted_sentiment'] - min_sentiment) / (max_sentiment - min_sentiment)\n",
    "        \n",
    "        cbf_score = (\n",
    "            content_weights[0] * normalized_rating +\n",
    "            content_weights[1] * normalized_helpful +\n",
    "            content_weights[2] * normalized_sentiment\n",
    "        )\n",
    "        \n",
    "        # Step 3: Hybrid Score (weighted combination of CF and CBF scores)\n",
    "        hybrid_score = (cf_weight * cf_score) + (cbf_weight * cbf_score)\n",
    "        \n",
    "        # Append the location and the hybrid score to the list\n",
    "        recommendations.append((location, hybrid_score))\n",
    "    \n",
    "    # Sort the recommendations by hybrid score in descending order\n",
    "    recommendations = sorted(recommendations, key=lambda x: x[1], reverse=True)\n",
    "    \n",
    "    # Convert to DataFrame for easier reading and select top 5\n",
    "    recommendations_df = pd.DataFrame(recommendations, columns=['location_name', 'hybrid_score'])\n",
    "    \n",
    "    return recommendations_df.head(5)\n"
   ]
  },
  {
   "cell_type": "code",
   "execution_count": 23,
   "metadata": {},
   "outputs": [
    {
     "data": {
      "text/html": [
       "<div>\n",
       "<style scoped>\n",
       "    .dataframe tbody tr th:only-of-type {\n",
       "        vertical-align: middle;\n",
       "    }\n",
       "\n",
       "    .dataframe tbody tr th {\n",
       "        vertical-align: top;\n",
       "    }\n",
       "\n",
       "    .dataframe thead th {\n",
       "        text-align: right;\n",
       "    }\n",
       "</style>\n",
       "<table border=\"1\" class=\"dataframe\">\n",
       "  <thead>\n",
       "    <tr style=\"text-align: right;\">\n",
       "      <th></th>\n",
       "      <th>review_id</th>\n",
       "    </tr>\n",
       "  </thead>\n",
       "  <tbody>\n",
       "    <tr>\n",
       "      <th>0</th>\n",
       "      <td>953596359</td>\n",
       "    </tr>\n",
       "    <tr>\n",
       "      <th>1</th>\n",
       "      <td>885904967</td>\n",
       "    </tr>\n",
       "    <tr>\n",
       "      <th>2</th>\n",
       "      <td>738692369</td>\n",
       "    </tr>\n",
       "    <tr>\n",
       "      <th>3</th>\n",
       "      <td>962482865</td>\n",
       "    </tr>\n",
       "    <tr>\n",
       "      <th>4</th>\n",
       "      <td>962528316</td>\n",
       "    </tr>\n",
       "    <tr>\n",
       "      <th>5</th>\n",
       "      <td>955989676</td>\n",
       "    </tr>\n",
       "    <tr>\n",
       "      <th>6</th>\n",
       "      <td>955712588</td>\n",
       "    </tr>\n",
       "    <tr>\n",
       "      <th>7</th>\n",
       "      <td>954780612</td>\n",
       "    </tr>\n",
       "    <tr>\n",
       "      <th>8</th>\n",
       "      <td>935907604</td>\n",
       "    </tr>\n",
       "    <tr>\n",
       "      <th>9</th>\n",
       "      <td>890055418</td>\n",
       "    </tr>\n",
       "  </tbody>\n",
       "</table>\n",
       "</div>"
      ],
      "text/plain": [
       "   review_id\n",
       "0  953596359\n",
       "1  885904967\n",
       "2  738692369\n",
       "3  962482865\n",
       "4  962528316\n",
       "5  955989676\n",
       "6  955712588\n",
       "7  954780612\n",
       "8  935907604\n",
       "9  890055418"
      ]
     },
     "execution_count": 23,
     "metadata": {},
     "output_type": "execute_result"
    }
   ],
   "source": [
    "review_sentiment_df[['review_id']].astype(int).iloc[:100].head(10)"
   ]
  },
  {
   "cell_type": "code",
   "execution_count": 24,
   "metadata": {},
   "outputs": [
    {
     "data": {
      "text/html": [
       "<div>\n",
       "<style scoped>\n",
       "    .dataframe tbody tr th:only-of-type {\n",
       "        vertical-align: middle;\n",
       "    }\n",
       "\n",
       "    .dataframe tbody tr th {\n",
       "        vertical-align: top;\n",
       "    }\n",
       "\n",
       "    .dataframe thead th {\n",
       "        text-align: right;\n",
       "    }\n",
       "</style>\n",
       "<table border=\"1\" class=\"dataframe\">\n",
       "  <thead>\n",
       "    <tr style=\"text-align: right;\">\n",
       "      <th></th>\n",
       "      <th>Unnamed: 0</th>\n",
       "      <th>location_id</th>\n",
       "      <th>location_name</th>\n",
       "      <th>trip_type</th>\n",
       "      <th>rating</th>\n",
       "      <th>helpful_voting</th>\n",
       "      <th>review_text</th>\n",
       "      <th>actual_sentiment</th>\n",
       "      <th>predicted_sentiment</th>\n",
       "      <th>place_id</th>\n",
       "      <th>place_name</th>\n",
       "      <th>emotion</th>\n",
       "      <th>review_id</th>\n",
       "      <th>proxy_score</th>\n",
       "      <th>predicted_score</th>\n",
       "    </tr>\n",
       "  </thead>\n",
       "  <tbody>\n",
       "    <tr>\n",
       "      <th>2</th>\n",
       "      <td>8</td>\n",
       "      <td>2273363.0</td>\n",
       "      <td>Wat Rajapradit Sathitmahasimaram Rajaworavihara</td>\n",
       "      <td>NONE</td>\n",
       "      <td>5.0</td>\n",
       "      <td>2.0</td>\n",
       "      <td>One of the least crowded temples but very beau...</td>\n",
       "      <td>0</td>\n",
       "      <td>0</td>\n",
       "      <td>P03013220</td>\n",
       "      <td>Bangkok</td>\n",
       "      <td>love</td>\n",
       "      <td>738692369.0</td>\n",
       "      <td>1.5</td>\n",
       "      <td>1.500004</td>\n",
       "    </tr>\n",
       "  </tbody>\n",
       "</table>\n",
       "</div>"
      ],
      "text/plain": [
       "   Unnamed: 0  location_id                                    location_name  \\\n",
       "2           8    2273363.0  Wat Rajapradit Sathitmahasimaram Rajaworavihara   \n",
       "\n",
       "  trip_type  rating  helpful_voting  \\\n",
       "2      NONE     5.0             2.0   \n",
       "\n",
       "                                         review_text  actual_sentiment  \\\n",
       "2  One of the least crowded temples but very beau...                 0   \n",
       "\n",
       "   predicted_sentiment   place_id place_name emotion    review_id  \\\n",
       "2                    0  P03013220    Bangkok    love  738692369.0   \n",
       "\n",
       "   proxy_score  predicted_score  \n",
       "2          1.5         1.500004  "
      ]
     },
     "execution_count": 24,
     "metadata": {},
     "output_type": "execute_result"
    }
   ],
   "source": [
    "picked_review_id = 738692369\n",
    "review_sentiment_df[review_sentiment_df['review_id'] == picked_review_id]"
   ]
  },
  {
   "cell_type": "code",
   "execution_count": 25,
   "metadata": {},
   "outputs": [
    {
     "name": "stdout",
     "output_type": "stream",
     "text": [
      "                      location_name  hybrid_score\n",
      "0         Asia Blue - Thong Nai Pan      3.106450\n",
      "1           Khao San Cooking School      3.052407\n",
      "2  Khlong Lat Mayom Floating Market      3.050221\n",
      "3                      Naval Museum      3.043272\n",
      "4    Boon Lott's Elephant Sanctuary      3.030836\n"
     ]
    }
   ],
   "source": [
    "# Example usage\n",
    "top5_recommendations = recommend_top5_locations(review_id=picked_review_id, svd_model=model, review_sentiment_df=review_sentiment_df)\n",
    "print(top5_recommendations)"
   ]
  },
  {
   "cell_type": "code",
   "execution_count": 26,
   "metadata": {},
   "outputs": [],
   "source": [
    "import mlflow\n",
    "import optuna\n",
    "import pandas as pd\n",
    "from sklearn.model_selection import train_test_split, cross_val_score\n",
    "from sklearn.ensemble import RandomForestClassifier\n",
    "from sklearn.metrics import accuracy_score"
   ]
  },
  {
   "cell_type": "code",
   "execution_count": 27,
   "metadata": {},
   "outputs": [],
   "source": [
    "FILE_PATH = \"../dataset/full_embled_review_combined.csv\""
   ]
  },
  {
   "cell_type": "code",
   "execution_count": 28,
   "metadata": {},
   "outputs": [],
   "source": [
    "def load_and_prepare_data(file_path):\n",
    "    \"\"\"\n",
    "    Load and prepare data for modeling.\n",
    "    \"\"\"\n",
    "    df = pd.read_csv(file_path)\n",
    "    \n",
    "    # Data cleaning and feature engineering (as in the previous steps)\n",
    "    df.dropna(inplace=True)\n",
    "    df['sentiment'] = df['sentiment'].map({'positive': 1, 'neutral': 0.5, 'negative': 0})\n",
    "    df['weighted_rating'] = df['rating'] * df['sentiment'] * df['helpful_vote']\n",
    "    \n",
    "    # Features and labels\n",
    "    X = df[['rating', 'sentiment', 'helpful_vote', 'weighted_rating']]\n",
    "    y = df['rating']  # Assuming the target is 'rating' in this case\n",
    "    \n",
    "    return train_test_split(X, y, test_size=0.2, random_state=42)"
   ]
  },
  {
   "cell_type": "code",
   "execution_count": 29,
   "metadata": {},
   "outputs": [],
   "source": [
    "def objective(trial):\n",
    "    \"\"\"\n",
    "    Optuna objective function for hyperparameter tuning.\n",
    "    \"\"\"\n",
    "    # Suggest hyperparameters\n",
    "    n_estimators = trial.suggest_int('n_estimators', 50, 200)\n",
    "    max_depth = trial.suggest_int('max_depth', 2, 10)\n",
    "\n",
    "    # Train-test split\n",
    "    X_train, X_test, y_train, y_test = load_and_prepare_data(FILE_PATH)\n",
    "\n",
    "    # Create and train model\n",
    "    model = RandomForestClassifier(n_estimators=n_estimators, max_depth=max_depth)\n",
    "    model.fit(X_train, y_train)\n",
    "\n",
    "    # Predict and evaluate\n",
    "    predictions = model.predict(X_test)\n",
    "    accuracy = accuracy_score(y_test, predictions)\n",
    "    \n",
    "    # Log parameters and metrics with MLFlow\n",
    "    with mlflow.start_run():\n",
    "        mlflow.log_param(\"n_estimators\", n_estimators)\n",
    "        mlflow.log_param(\"max_depth\", max_depth)\n",
    "        mlflow.log_metric(\"accuracy\", accuracy)\n",
    "        mlflow.sklearn.log_model(model, \"random_forest_model\")\n",
    "    \n",
    "    return accuracy"
   ]
  },
  {
   "cell_type": "code",
   "execution_count": 30,
   "metadata": {},
   "outputs": [],
   "source": [
    "def run_optuna_optimization():\n",
    "    \"\"\"\n",
    "    Run Optuna to optimize hyperparameters.\n",
    "    \"\"\"\n",
    "    study = optuna.create_study(direction=\"maximize\")\n",
    "    study.optimize(objective, n_trials=20)\n",
    "\n",
    "    print(f\"Best parameters: {study.best_params}\")\n",
    "    print(f\"Best accuracy: {study.best_value}\")"
   ]
  },
  {
   "cell_type": "code",
   "execution_count": 31,
   "metadata": {},
   "outputs": [
    {
     "name": "stderr",
     "output_type": "stream",
     "text": [
      "[I 2024-10-24 10:11:23,091] A new study created in memory with name: no-name-5f6aca94-d3a0-4bc7-9573-8b18bbe63d49\n",
      "[W 2024-10-24 10:11:23,138] Trial 0 failed with parameters: {'n_estimators': 60, 'max_depth': 8} because of the following error: KeyError('helpful_vote').\n",
      "Traceback (most recent call last):\n",
      "  File \"/Users/ittichaiboonyarakthunya/Library/Caches/pypoetry/virtualenvs/is-project-thailand-tourism-recommendation-qwL-LsgH-py3.12/lib/python3.12/site-packages/pandas/core/indexes/base.py\", line 3802, in get_loc\n",
      "    return self._engine.get_loc(casted_key)\n",
      "           ^^^^^^^^^^^^^^^^^^^^^^^^^^^^^^^^\n",
      "  File \"index.pyx\", line 153, in pandas._libs.index.IndexEngine.get_loc\n",
      "  File \"index.pyx\", line 182, in pandas._libs.index.IndexEngine.get_loc\n",
      "  File \"pandas/_libs/hashtable_class_helper.pxi\", line 7081, in pandas._libs.hashtable.PyObjectHashTable.get_item\n",
      "  File \"pandas/_libs/hashtable_class_helper.pxi\", line 7089, in pandas._libs.hashtable.PyObjectHashTable.get_item\n",
      "KeyError: 'helpful_vote'\n",
      "\n",
      "The above exception was the direct cause of the following exception:\n",
      "\n",
      "Traceback (most recent call last):\n",
      "  File \"/Users/ittichaiboonyarakthunya/Library/Caches/pypoetry/virtualenvs/is-project-thailand-tourism-recommendation-qwL-LsgH-py3.12/lib/python3.12/site-packages/optuna/study/_optimize.py\", line 197, in _run_trial\n",
      "    value_or_values = func(trial)\n",
      "                      ^^^^^^^^^^^\n",
      "  File \"/var/folders/fk/449tdf_12hzd2r7ps4659q0m0000gn/T/ipykernel_2924/3832646894.py\", line 10, in objective\n",
      "    X_train, X_test, y_train, y_test = load_and_prepare_data(FILE_PATH)\n",
      "                                       ^^^^^^^^^^^^^^^^^^^^^^^^^^^^^^^^\n",
      "  File \"/var/folders/fk/449tdf_12hzd2r7ps4659q0m0000gn/T/ipykernel_2924/630592448.py\", line 10, in load_and_prepare_data\n",
      "    df['weighted_rating'] = df['rating'] * df['sentiment'] * df['helpful_vote']\n",
      "                                                             ~~^^^^^^^^^^^^^^^^\n",
      "  File \"/Users/ittichaiboonyarakthunya/Library/Caches/pypoetry/virtualenvs/is-project-thailand-tourism-recommendation-qwL-LsgH-py3.12/lib/python3.12/site-packages/pandas/core/frame.py\", line 4090, in __getitem__\n",
      "    indexer = self.columns.get_loc(key)\n",
      "              ^^^^^^^^^^^^^^^^^^^^^^^^^\n",
      "  File \"/Users/ittichaiboonyarakthunya/Library/Caches/pypoetry/virtualenvs/is-project-thailand-tourism-recommendation-qwL-LsgH-py3.12/lib/python3.12/site-packages/pandas/core/indexes/base.py\", line 3809, in get_loc\n",
      "    raise KeyError(key) from err\n",
      "KeyError: 'helpful_vote'\n",
      "[W 2024-10-24 10:11:23,142] Trial 0 failed with value None.\n"
     ]
    },
    {
     "ename": "KeyError",
     "evalue": "'helpful_vote'",
     "output_type": "error",
     "traceback": [
      "\u001b[0;31m---------------------------------------------------------------------------\u001b[0m",
      "\u001b[0;31mKeyError\u001b[0m                                  Traceback (most recent call last)",
      "File \u001b[0;32m~/Library/Caches/pypoetry/virtualenvs/is-project-thailand-tourism-recommendation-qwL-LsgH-py3.12/lib/python3.12/site-packages/pandas/core/indexes/base.py:3802\u001b[0m, in \u001b[0;36mIndex.get_loc\u001b[0;34m(self, key)\u001b[0m\n\u001b[1;32m   3801\u001b[0m \u001b[38;5;28;01mtry\u001b[39;00m:\n\u001b[0;32m-> 3802\u001b[0m     \u001b[38;5;28;01mreturn\u001b[39;00m \u001b[38;5;28;43mself\u001b[39;49m\u001b[38;5;241;43m.\u001b[39;49m\u001b[43m_engine\u001b[49m\u001b[38;5;241;43m.\u001b[39;49m\u001b[43mget_loc\u001b[49m\u001b[43m(\u001b[49m\u001b[43mcasted_key\u001b[49m\u001b[43m)\u001b[49m\n\u001b[1;32m   3803\u001b[0m \u001b[38;5;28;01mexcept\u001b[39;00m \u001b[38;5;167;01mKeyError\u001b[39;00m \u001b[38;5;28;01mas\u001b[39;00m err:\n",
      "File \u001b[0;32mindex.pyx:153\u001b[0m, in \u001b[0;36mpandas._libs.index.IndexEngine.get_loc\u001b[0;34m()\u001b[0m\n",
      "File \u001b[0;32mindex.pyx:182\u001b[0m, in \u001b[0;36mpandas._libs.index.IndexEngine.get_loc\u001b[0;34m()\u001b[0m\n",
      "File \u001b[0;32mpandas/_libs/hashtable_class_helper.pxi:7081\u001b[0m, in \u001b[0;36mpandas._libs.hashtable.PyObjectHashTable.get_item\u001b[0;34m()\u001b[0m\n",
      "File \u001b[0;32mpandas/_libs/hashtable_class_helper.pxi:7089\u001b[0m, in \u001b[0;36mpandas._libs.hashtable.PyObjectHashTable.get_item\u001b[0;34m()\u001b[0m\n",
      "\u001b[0;31mKeyError\u001b[0m: 'helpful_vote'",
      "\nThe above exception was the direct cause of the following exception:\n",
      "\u001b[0;31mKeyError\u001b[0m                                  Traceback (most recent call last)",
      "Cell \u001b[0;32mIn[31], line 2\u001b[0m\n\u001b[1;32m      1\u001b[0m mlflow\u001b[38;5;241m.\u001b[39mset_experiment(\u001b[38;5;124m\"\u001b[39m\u001b[38;5;124mDelta-Project\u001b[39m\u001b[38;5;124m\"\u001b[39m)\n\u001b[0;32m----> 2\u001b[0m \u001b[43mrun_optuna_optimization\u001b[49m\u001b[43m(\u001b[49m\u001b[43m)\u001b[49m\n",
      "Cell \u001b[0;32mIn[30], line 6\u001b[0m, in \u001b[0;36mrun_optuna_optimization\u001b[0;34m()\u001b[0m\n\u001b[1;32m      2\u001b[0m \u001b[38;5;250m\u001b[39m\u001b[38;5;124;03m\"\"\"\u001b[39;00m\n\u001b[1;32m      3\u001b[0m \u001b[38;5;124;03mRun Optuna to optimize hyperparameters.\u001b[39;00m\n\u001b[1;32m      4\u001b[0m \u001b[38;5;124;03m\"\"\"\u001b[39;00m\n\u001b[1;32m      5\u001b[0m study \u001b[38;5;241m=\u001b[39m optuna\u001b[38;5;241m.\u001b[39mcreate_study(direction\u001b[38;5;241m=\u001b[39m\u001b[38;5;124m\"\u001b[39m\u001b[38;5;124mmaximize\u001b[39m\u001b[38;5;124m\"\u001b[39m)\n\u001b[0;32m----> 6\u001b[0m \u001b[43mstudy\u001b[49m\u001b[38;5;241;43m.\u001b[39;49m\u001b[43moptimize\u001b[49m\u001b[43m(\u001b[49m\u001b[43mobjective\u001b[49m\u001b[43m,\u001b[49m\u001b[43m \u001b[49m\u001b[43mn_trials\u001b[49m\u001b[38;5;241;43m=\u001b[39;49m\u001b[38;5;241;43m20\u001b[39;49m\u001b[43m)\u001b[49m\n\u001b[1;32m      8\u001b[0m \u001b[38;5;28mprint\u001b[39m(\u001b[38;5;124mf\u001b[39m\u001b[38;5;124m\"\u001b[39m\u001b[38;5;124mBest parameters: \u001b[39m\u001b[38;5;132;01m{\u001b[39;00mstudy\u001b[38;5;241m.\u001b[39mbest_params\u001b[38;5;132;01m}\u001b[39;00m\u001b[38;5;124m\"\u001b[39m)\n\u001b[1;32m      9\u001b[0m \u001b[38;5;28mprint\u001b[39m(\u001b[38;5;124mf\u001b[39m\u001b[38;5;124m\"\u001b[39m\u001b[38;5;124mBest accuracy: \u001b[39m\u001b[38;5;132;01m{\u001b[39;00mstudy\u001b[38;5;241m.\u001b[39mbest_value\u001b[38;5;132;01m}\u001b[39;00m\u001b[38;5;124m\"\u001b[39m)\n",
      "File \u001b[0;32m~/Library/Caches/pypoetry/virtualenvs/is-project-thailand-tourism-recommendation-qwL-LsgH-py3.12/lib/python3.12/site-packages/optuna/study/study.py:475\u001b[0m, in \u001b[0;36mStudy.optimize\u001b[0;34m(self, func, n_trials, timeout, n_jobs, catch, callbacks, gc_after_trial, show_progress_bar)\u001b[0m\n\u001b[1;32m    373\u001b[0m \u001b[38;5;28;01mdef\u001b[39;00m \u001b[38;5;21moptimize\u001b[39m(\n\u001b[1;32m    374\u001b[0m     \u001b[38;5;28mself\u001b[39m,\n\u001b[1;32m    375\u001b[0m     func: ObjectiveFuncType,\n\u001b[0;32m   (...)\u001b[0m\n\u001b[1;32m    382\u001b[0m     show_progress_bar: \u001b[38;5;28mbool\u001b[39m \u001b[38;5;241m=\u001b[39m \u001b[38;5;28;01mFalse\u001b[39;00m,\n\u001b[1;32m    383\u001b[0m ) \u001b[38;5;241m-\u001b[39m\u001b[38;5;241m>\u001b[39m \u001b[38;5;28;01mNone\u001b[39;00m:\n\u001b[1;32m    384\u001b[0m \u001b[38;5;250m    \u001b[39m\u001b[38;5;124;03m\"\"\"Optimize an objective function.\u001b[39;00m\n\u001b[1;32m    385\u001b[0m \n\u001b[1;32m    386\u001b[0m \u001b[38;5;124;03m    Optimization is done by choosing a suitable set of hyperparameter values from a given\u001b[39;00m\n\u001b[0;32m   (...)\u001b[0m\n\u001b[1;32m    473\u001b[0m \u001b[38;5;124;03m            If nested invocation of this method occurs.\u001b[39;00m\n\u001b[1;32m    474\u001b[0m \u001b[38;5;124;03m    \"\"\"\u001b[39;00m\n\u001b[0;32m--> 475\u001b[0m     \u001b[43m_optimize\u001b[49m\u001b[43m(\u001b[49m\n\u001b[1;32m    476\u001b[0m \u001b[43m        \u001b[49m\u001b[43mstudy\u001b[49m\u001b[38;5;241;43m=\u001b[39;49m\u001b[38;5;28;43mself\u001b[39;49m\u001b[43m,\u001b[49m\n\u001b[1;32m    477\u001b[0m \u001b[43m        \u001b[49m\u001b[43mfunc\u001b[49m\u001b[38;5;241;43m=\u001b[39;49m\u001b[43mfunc\u001b[49m\u001b[43m,\u001b[49m\n\u001b[1;32m    478\u001b[0m \u001b[43m        \u001b[49m\u001b[43mn_trials\u001b[49m\u001b[38;5;241;43m=\u001b[39;49m\u001b[43mn_trials\u001b[49m\u001b[43m,\u001b[49m\n\u001b[1;32m    479\u001b[0m \u001b[43m        \u001b[49m\u001b[43mtimeout\u001b[49m\u001b[38;5;241;43m=\u001b[39;49m\u001b[43mtimeout\u001b[49m\u001b[43m,\u001b[49m\n\u001b[1;32m    480\u001b[0m \u001b[43m        \u001b[49m\u001b[43mn_jobs\u001b[49m\u001b[38;5;241;43m=\u001b[39;49m\u001b[43mn_jobs\u001b[49m\u001b[43m,\u001b[49m\n\u001b[1;32m    481\u001b[0m \u001b[43m        \u001b[49m\u001b[43mcatch\u001b[49m\u001b[38;5;241;43m=\u001b[39;49m\u001b[38;5;28;43mtuple\u001b[39;49m\u001b[43m(\u001b[49m\u001b[43mcatch\u001b[49m\u001b[43m)\u001b[49m\u001b[43m \u001b[49m\u001b[38;5;28;43;01mif\u001b[39;49;00m\u001b[43m \u001b[49m\u001b[38;5;28;43misinstance\u001b[39;49m\u001b[43m(\u001b[49m\u001b[43mcatch\u001b[49m\u001b[43m,\u001b[49m\u001b[43m \u001b[49m\u001b[43mIterable\u001b[49m\u001b[43m)\u001b[49m\u001b[43m \u001b[49m\u001b[38;5;28;43;01melse\u001b[39;49;00m\u001b[43m \u001b[49m\u001b[43m(\u001b[49m\u001b[43mcatch\u001b[49m\u001b[43m,\u001b[49m\u001b[43m)\u001b[49m\u001b[43m,\u001b[49m\n\u001b[1;32m    482\u001b[0m \u001b[43m        \u001b[49m\u001b[43mcallbacks\u001b[49m\u001b[38;5;241;43m=\u001b[39;49m\u001b[43mcallbacks\u001b[49m\u001b[43m,\u001b[49m\n\u001b[1;32m    483\u001b[0m \u001b[43m        \u001b[49m\u001b[43mgc_after_trial\u001b[49m\u001b[38;5;241;43m=\u001b[39;49m\u001b[43mgc_after_trial\u001b[49m\u001b[43m,\u001b[49m\n\u001b[1;32m    484\u001b[0m \u001b[43m        \u001b[49m\u001b[43mshow_progress_bar\u001b[49m\u001b[38;5;241;43m=\u001b[39;49m\u001b[43mshow_progress_bar\u001b[49m\u001b[43m,\u001b[49m\n\u001b[1;32m    485\u001b[0m \u001b[43m    \u001b[49m\u001b[43m)\u001b[49m\n",
      "File \u001b[0;32m~/Library/Caches/pypoetry/virtualenvs/is-project-thailand-tourism-recommendation-qwL-LsgH-py3.12/lib/python3.12/site-packages/optuna/study/_optimize.py:63\u001b[0m, in \u001b[0;36m_optimize\u001b[0;34m(study, func, n_trials, timeout, n_jobs, catch, callbacks, gc_after_trial, show_progress_bar)\u001b[0m\n\u001b[1;32m     61\u001b[0m \u001b[38;5;28;01mtry\u001b[39;00m:\n\u001b[1;32m     62\u001b[0m     \u001b[38;5;28;01mif\u001b[39;00m n_jobs \u001b[38;5;241m==\u001b[39m \u001b[38;5;241m1\u001b[39m:\n\u001b[0;32m---> 63\u001b[0m         \u001b[43m_optimize_sequential\u001b[49m\u001b[43m(\u001b[49m\n\u001b[1;32m     64\u001b[0m \u001b[43m            \u001b[49m\u001b[43mstudy\u001b[49m\u001b[43m,\u001b[49m\n\u001b[1;32m     65\u001b[0m \u001b[43m            \u001b[49m\u001b[43mfunc\u001b[49m\u001b[43m,\u001b[49m\n\u001b[1;32m     66\u001b[0m \u001b[43m            \u001b[49m\u001b[43mn_trials\u001b[49m\u001b[43m,\u001b[49m\n\u001b[1;32m     67\u001b[0m \u001b[43m            \u001b[49m\u001b[43mtimeout\u001b[49m\u001b[43m,\u001b[49m\n\u001b[1;32m     68\u001b[0m \u001b[43m            \u001b[49m\u001b[43mcatch\u001b[49m\u001b[43m,\u001b[49m\n\u001b[1;32m     69\u001b[0m \u001b[43m            \u001b[49m\u001b[43mcallbacks\u001b[49m\u001b[43m,\u001b[49m\n\u001b[1;32m     70\u001b[0m \u001b[43m            \u001b[49m\u001b[43mgc_after_trial\u001b[49m\u001b[43m,\u001b[49m\n\u001b[1;32m     71\u001b[0m \u001b[43m            \u001b[49m\u001b[43mreseed_sampler_rng\u001b[49m\u001b[38;5;241;43m=\u001b[39;49m\u001b[38;5;28;43;01mFalse\u001b[39;49;00m\u001b[43m,\u001b[49m\n\u001b[1;32m     72\u001b[0m \u001b[43m            \u001b[49m\u001b[43mtime_start\u001b[49m\u001b[38;5;241;43m=\u001b[39;49m\u001b[38;5;28;43;01mNone\u001b[39;49;00m\u001b[43m,\u001b[49m\n\u001b[1;32m     73\u001b[0m \u001b[43m            \u001b[49m\u001b[43mprogress_bar\u001b[49m\u001b[38;5;241;43m=\u001b[39;49m\u001b[43mprogress_bar\u001b[49m\u001b[43m,\u001b[49m\n\u001b[1;32m     74\u001b[0m \u001b[43m        \u001b[49m\u001b[43m)\u001b[49m\n\u001b[1;32m     75\u001b[0m     \u001b[38;5;28;01melse\u001b[39;00m:\n\u001b[1;32m     76\u001b[0m         \u001b[38;5;28;01mif\u001b[39;00m n_jobs \u001b[38;5;241m==\u001b[39m \u001b[38;5;241m-\u001b[39m\u001b[38;5;241m1\u001b[39m:\n",
      "File \u001b[0;32m~/Library/Caches/pypoetry/virtualenvs/is-project-thailand-tourism-recommendation-qwL-LsgH-py3.12/lib/python3.12/site-packages/optuna/study/_optimize.py:160\u001b[0m, in \u001b[0;36m_optimize_sequential\u001b[0;34m(study, func, n_trials, timeout, catch, callbacks, gc_after_trial, reseed_sampler_rng, time_start, progress_bar)\u001b[0m\n\u001b[1;32m    157\u001b[0m         \u001b[38;5;28;01mbreak\u001b[39;00m\n\u001b[1;32m    159\u001b[0m \u001b[38;5;28;01mtry\u001b[39;00m:\n\u001b[0;32m--> 160\u001b[0m     frozen_trial \u001b[38;5;241m=\u001b[39m \u001b[43m_run_trial\u001b[49m\u001b[43m(\u001b[49m\u001b[43mstudy\u001b[49m\u001b[43m,\u001b[49m\u001b[43m \u001b[49m\u001b[43mfunc\u001b[49m\u001b[43m,\u001b[49m\u001b[43m \u001b[49m\u001b[43mcatch\u001b[49m\u001b[43m)\u001b[49m\n\u001b[1;32m    161\u001b[0m \u001b[38;5;28;01mfinally\u001b[39;00m:\n\u001b[1;32m    162\u001b[0m     \u001b[38;5;66;03m# The following line mitigates memory problems that can be occurred in some\u001b[39;00m\n\u001b[1;32m    163\u001b[0m     \u001b[38;5;66;03m# environments (e.g., services that use computing containers such as GitHub Actions).\u001b[39;00m\n\u001b[1;32m    164\u001b[0m     \u001b[38;5;66;03m# Please refer to the following PR for further details:\u001b[39;00m\n\u001b[1;32m    165\u001b[0m     \u001b[38;5;66;03m# https://github.com/optuna/optuna/pull/325.\u001b[39;00m\n\u001b[1;32m    166\u001b[0m     \u001b[38;5;28;01mif\u001b[39;00m gc_after_trial:\n",
      "File \u001b[0;32m~/Library/Caches/pypoetry/virtualenvs/is-project-thailand-tourism-recommendation-qwL-LsgH-py3.12/lib/python3.12/site-packages/optuna/study/_optimize.py:248\u001b[0m, in \u001b[0;36m_run_trial\u001b[0;34m(study, func, catch)\u001b[0m\n\u001b[1;32m    241\u001b[0m         \u001b[38;5;28;01massert\u001b[39;00m \u001b[38;5;28;01mFalse\u001b[39;00m, \u001b[38;5;124m\"\u001b[39m\u001b[38;5;124mShould not reach.\u001b[39m\u001b[38;5;124m\"\u001b[39m\n\u001b[1;32m    243\u001b[0m \u001b[38;5;28;01mif\u001b[39;00m (\n\u001b[1;32m    244\u001b[0m     frozen_trial\u001b[38;5;241m.\u001b[39mstate \u001b[38;5;241m==\u001b[39m TrialState\u001b[38;5;241m.\u001b[39mFAIL\n\u001b[1;32m    245\u001b[0m     \u001b[38;5;129;01mand\u001b[39;00m func_err \u001b[38;5;129;01mis\u001b[39;00m \u001b[38;5;129;01mnot\u001b[39;00m \u001b[38;5;28;01mNone\u001b[39;00m\n\u001b[1;32m    246\u001b[0m     \u001b[38;5;129;01mand\u001b[39;00m \u001b[38;5;129;01mnot\u001b[39;00m \u001b[38;5;28misinstance\u001b[39m(func_err, catch)\n\u001b[1;32m    247\u001b[0m ):\n\u001b[0;32m--> 248\u001b[0m     \u001b[38;5;28;01mraise\u001b[39;00m func_err\n\u001b[1;32m    249\u001b[0m \u001b[38;5;28;01mreturn\u001b[39;00m frozen_trial\n",
      "File \u001b[0;32m~/Library/Caches/pypoetry/virtualenvs/is-project-thailand-tourism-recommendation-qwL-LsgH-py3.12/lib/python3.12/site-packages/optuna/study/_optimize.py:197\u001b[0m, in \u001b[0;36m_run_trial\u001b[0;34m(study, func, catch)\u001b[0m\n\u001b[1;32m    195\u001b[0m \u001b[38;5;28;01mwith\u001b[39;00m get_heartbeat_thread(trial\u001b[38;5;241m.\u001b[39m_trial_id, study\u001b[38;5;241m.\u001b[39m_storage):\n\u001b[1;32m    196\u001b[0m     \u001b[38;5;28;01mtry\u001b[39;00m:\n\u001b[0;32m--> 197\u001b[0m         value_or_values \u001b[38;5;241m=\u001b[39m \u001b[43mfunc\u001b[49m\u001b[43m(\u001b[49m\u001b[43mtrial\u001b[49m\u001b[43m)\u001b[49m\n\u001b[1;32m    198\u001b[0m     \u001b[38;5;28;01mexcept\u001b[39;00m exceptions\u001b[38;5;241m.\u001b[39mTrialPruned \u001b[38;5;28;01mas\u001b[39;00m e:\n\u001b[1;32m    199\u001b[0m         \u001b[38;5;66;03m# TODO(mamu): Handle multi-objective cases.\u001b[39;00m\n\u001b[1;32m    200\u001b[0m         state \u001b[38;5;241m=\u001b[39m TrialState\u001b[38;5;241m.\u001b[39mPRUNED\n",
      "Cell \u001b[0;32mIn[29], line 10\u001b[0m, in \u001b[0;36mobjective\u001b[0;34m(trial)\u001b[0m\n\u001b[1;32m      7\u001b[0m max_depth \u001b[38;5;241m=\u001b[39m trial\u001b[38;5;241m.\u001b[39msuggest_int(\u001b[38;5;124m'\u001b[39m\u001b[38;5;124mmax_depth\u001b[39m\u001b[38;5;124m'\u001b[39m, \u001b[38;5;241m2\u001b[39m, \u001b[38;5;241m10\u001b[39m)\n\u001b[1;32m      9\u001b[0m \u001b[38;5;66;03m# Train-test split\u001b[39;00m\n\u001b[0;32m---> 10\u001b[0m X_train, X_test, y_train, y_test \u001b[38;5;241m=\u001b[39m \u001b[43mload_and_prepare_data\u001b[49m\u001b[43m(\u001b[49m\u001b[43mFILE_PATH\u001b[49m\u001b[43m)\u001b[49m\n\u001b[1;32m     12\u001b[0m \u001b[38;5;66;03m# Create and train model\u001b[39;00m\n\u001b[1;32m     13\u001b[0m model \u001b[38;5;241m=\u001b[39m RandomForestClassifier(n_estimators\u001b[38;5;241m=\u001b[39mn_estimators, max_depth\u001b[38;5;241m=\u001b[39mmax_depth)\n",
      "Cell \u001b[0;32mIn[28], line 10\u001b[0m, in \u001b[0;36mload_and_prepare_data\u001b[0;34m(file_path)\u001b[0m\n\u001b[1;32m      8\u001b[0m df\u001b[38;5;241m.\u001b[39mdropna(inplace\u001b[38;5;241m=\u001b[39m\u001b[38;5;28;01mTrue\u001b[39;00m)\n\u001b[1;32m      9\u001b[0m df[\u001b[38;5;124m'\u001b[39m\u001b[38;5;124msentiment\u001b[39m\u001b[38;5;124m'\u001b[39m] \u001b[38;5;241m=\u001b[39m df[\u001b[38;5;124m'\u001b[39m\u001b[38;5;124msentiment\u001b[39m\u001b[38;5;124m'\u001b[39m]\u001b[38;5;241m.\u001b[39mmap({\u001b[38;5;124m'\u001b[39m\u001b[38;5;124mpositive\u001b[39m\u001b[38;5;124m'\u001b[39m: \u001b[38;5;241m1\u001b[39m, \u001b[38;5;124m'\u001b[39m\u001b[38;5;124mneutral\u001b[39m\u001b[38;5;124m'\u001b[39m: \u001b[38;5;241m0.5\u001b[39m, \u001b[38;5;124m'\u001b[39m\u001b[38;5;124mnegative\u001b[39m\u001b[38;5;124m'\u001b[39m: \u001b[38;5;241m0\u001b[39m})\n\u001b[0;32m---> 10\u001b[0m df[\u001b[38;5;124m'\u001b[39m\u001b[38;5;124mweighted_rating\u001b[39m\u001b[38;5;124m'\u001b[39m] \u001b[38;5;241m=\u001b[39m df[\u001b[38;5;124m'\u001b[39m\u001b[38;5;124mrating\u001b[39m\u001b[38;5;124m'\u001b[39m] \u001b[38;5;241m*\u001b[39m df[\u001b[38;5;124m'\u001b[39m\u001b[38;5;124msentiment\u001b[39m\u001b[38;5;124m'\u001b[39m] \u001b[38;5;241m*\u001b[39m \u001b[43mdf\u001b[49m\u001b[43m[\u001b[49m\u001b[38;5;124;43m'\u001b[39;49m\u001b[38;5;124;43mhelpful_vote\u001b[39;49m\u001b[38;5;124;43m'\u001b[39;49m\u001b[43m]\u001b[49m\n\u001b[1;32m     12\u001b[0m \u001b[38;5;66;03m# Features and labels\u001b[39;00m\n\u001b[1;32m     13\u001b[0m X \u001b[38;5;241m=\u001b[39m df[[\u001b[38;5;124m'\u001b[39m\u001b[38;5;124mrating\u001b[39m\u001b[38;5;124m'\u001b[39m, \u001b[38;5;124m'\u001b[39m\u001b[38;5;124msentiment\u001b[39m\u001b[38;5;124m'\u001b[39m, \u001b[38;5;124m'\u001b[39m\u001b[38;5;124mhelpful_vote\u001b[39m\u001b[38;5;124m'\u001b[39m, \u001b[38;5;124m'\u001b[39m\u001b[38;5;124mweighted_rating\u001b[39m\u001b[38;5;124m'\u001b[39m]]\n",
      "File \u001b[0;32m~/Library/Caches/pypoetry/virtualenvs/is-project-thailand-tourism-recommendation-qwL-LsgH-py3.12/lib/python3.12/site-packages/pandas/core/frame.py:4090\u001b[0m, in \u001b[0;36mDataFrame.__getitem__\u001b[0;34m(self, key)\u001b[0m\n\u001b[1;32m   4088\u001b[0m \u001b[38;5;28;01mif\u001b[39;00m \u001b[38;5;28mself\u001b[39m\u001b[38;5;241m.\u001b[39mcolumns\u001b[38;5;241m.\u001b[39mnlevels \u001b[38;5;241m>\u001b[39m \u001b[38;5;241m1\u001b[39m:\n\u001b[1;32m   4089\u001b[0m     \u001b[38;5;28;01mreturn\u001b[39;00m \u001b[38;5;28mself\u001b[39m\u001b[38;5;241m.\u001b[39m_getitem_multilevel(key)\n\u001b[0;32m-> 4090\u001b[0m indexer \u001b[38;5;241m=\u001b[39m \u001b[38;5;28;43mself\u001b[39;49m\u001b[38;5;241;43m.\u001b[39;49m\u001b[43mcolumns\u001b[49m\u001b[38;5;241;43m.\u001b[39;49m\u001b[43mget_loc\u001b[49m\u001b[43m(\u001b[49m\u001b[43mkey\u001b[49m\u001b[43m)\u001b[49m\n\u001b[1;32m   4091\u001b[0m \u001b[38;5;28;01mif\u001b[39;00m is_integer(indexer):\n\u001b[1;32m   4092\u001b[0m     indexer \u001b[38;5;241m=\u001b[39m [indexer]\n",
      "File \u001b[0;32m~/Library/Caches/pypoetry/virtualenvs/is-project-thailand-tourism-recommendation-qwL-LsgH-py3.12/lib/python3.12/site-packages/pandas/core/indexes/base.py:3809\u001b[0m, in \u001b[0;36mIndex.get_loc\u001b[0;34m(self, key)\u001b[0m\n\u001b[1;32m   3804\u001b[0m     \u001b[38;5;28;01mif\u001b[39;00m \u001b[38;5;28misinstance\u001b[39m(casted_key, \u001b[38;5;28mslice\u001b[39m) \u001b[38;5;129;01mor\u001b[39;00m (\n\u001b[1;32m   3805\u001b[0m         \u001b[38;5;28misinstance\u001b[39m(casted_key, abc\u001b[38;5;241m.\u001b[39mIterable)\n\u001b[1;32m   3806\u001b[0m         \u001b[38;5;129;01mand\u001b[39;00m \u001b[38;5;28many\u001b[39m(\u001b[38;5;28misinstance\u001b[39m(x, \u001b[38;5;28mslice\u001b[39m) \u001b[38;5;28;01mfor\u001b[39;00m x \u001b[38;5;129;01min\u001b[39;00m casted_key)\n\u001b[1;32m   3807\u001b[0m     ):\n\u001b[1;32m   3808\u001b[0m         \u001b[38;5;28;01mraise\u001b[39;00m InvalidIndexError(key)\n\u001b[0;32m-> 3809\u001b[0m     \u001b[38;5;28;01mraise\u001b[39;00m \u001b[38;5;167;01mKeyError\u001b[39;00m(key) \u001b[38;5;28;01mfrom\u001b[39;00m \u001b[38;5;21;01merr\u001b[39;00m\n\u001b[1;32m   3810\u001b[0m \u001b[38;5;28;01mexcept\u001b[39;00m \u001b[38;5;167;01mTypeError\u001b[39;00m:\n\u001b[1;32m   3811\u001b[0m     \u001b[38;5;66;03m# If we have a listlike key, _check_indexing_error will raise\u001b[39;00m\n\u001b[1;32m   3812\u001b[0m     \u001b[38;5;66;03m#  InvalidIndexError. Otherwise we fall through and re-raise\u001b[39;00m\n\u001b[1;32m   3813\u001b[0m     \u001b[38;5;66;03m#  the TypeError.\u001b[39;00m\n\u001b[1;32m   3814\u001b[0m     \u001b[38;5;28mself\u001b[39m\u001b[38;5;241m.\u001b[39m_check_indexing_error(key)\n",
      "\u001b[0;31mKeyError\u001b[0m: 'helpful_vote'"
     ]
    }
   ],
   "source": [
    "mlflow.set_experiment(\"Delta-Project\")\n",
    "run_optuna_optimization()"
   ]
  }
 ],
 "metadata": {
  "kernelspec": {
   "display_name": "is-project-thailand-tourism-recommendation-qwL-LsgH-py3.12",
   "language": "python",
   "name": "python3"
  },
  "language_info": {
   "codemirror_mode": {
    "name": "ipython",
    "version": 3
   },
   "file_extension": ".py",
   "mimetype": "text/x-python",
   "name": "python",
   "nbconvert_exporter": "python",
   "pygments_lexer": "ipython3",
   "version": "3.12.5"
  }
 },
 "nbformat": 4,
 "nbformat_minor": 2
}
