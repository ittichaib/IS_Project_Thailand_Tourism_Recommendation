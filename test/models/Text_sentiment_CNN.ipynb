{
 "cells": [
  {
   "cell_type": "code",
   "execution_count": 1,
   "metadata": {},
   "outputs": [],
   "source": [
    "import os\n",
    "import pandas as pd\n",
    "import nltk\n",
    "import requests\n",
    "import string\n",
    "from gensim.models import Word2Vec, KeyedVectors\n",
    "import shutil\n",
    "import numpy as np\n",
    "import re\n",
    "from sklearn.model_selection import train_test_split\n",
    "from tensorflow.keras.models import Sequential\n",
    "from tensorflow.keras.layers import Embedding, LSTM, Dense, Dropout, Attention, Concatenate\n",
    "from tensorflow.keras.preprocessing.sequence import pad_sequences\n",
    "from tensorflow.keras.preprocessing.text import Tokenizer\n",
    "from sklearn.metrics import accuracy_score, classification_report\n",
    "from tensorflow.keras.callbacks import EarlyStopping\n",
    "from tensorflow.keras.regularizers import l2\n",
    "import shap\n"
   ]
  },
  {
   "cell_type": "code",
   "execution_count": 2,
   "metadata": {},
   "outputs": [],
   "source": [
    "FINE_TUNED_DIR = '../../pretained_or_finetune-models'\n",
    "REVIEWS_DATASET_DIR = '../../dataset'\n",
    "UTILS_DIR = '../../utils'\n",
    "NLTK_DATA_PATH = f\"{FINE_TUNED_DIR}/nltk_data\"\n",
    "\n",
    "nltk.data.path.append(NLTK_DATA_PATH)"
   ]
  },
  {
   "cell_type": "code",
   "execution_count": 3,
   "metadata": {},
   "outputs": [],
   "source": [
    "tourism_reviews_en = pd.read_csv(f\"{REVIEWS_DATASET_DIR}/eng_reviews_emotion_classify.csv\", encoding='utf-8')\n",
    "\n",
    "columns_to_use = ['helpful_votes', 'location_id', 'review_id', 'review',\n",
    "                  'review_subject', 'trip_type', 'rating',\n",
    "                  'location_name', 'province', 'place_id', 'emotion', 'cleaned_review']\n",
    "columns_to_train = ['location_id', 'review', 'rating']\n",
    "review_df = tourism_reviews_en[columns_to_use]"
   ]
  },
  {
   "cell_type": "code",
   "execution_count": 4,
   "metadata": {},
   "outputs": [
    {
     "name": "stdout",
     "output_type": "stream",
     "text": [
      "<class 'pandas.core.frame.DataFrame'>\n",
      "RangeIndex: 5909 entries, 0 to 5908\n",
      "Data columns (total 16 columns):\n",
      " #   Column          Non-Null Count  Dtype \n",
      "---  ------          --------------  ----- \n",
      " 0   Unnamed: 0.1    5909 non-null   int64 \n",
      " 1   Unnamed: 0      5909 non-null   int64 \n",
      " 2   helpful_votes   5909 non-null   int64 \n",
      " 3   location_id     5909 non-null   int64 \n",
      " 4   lang            5909 non-null   object\n",
      " 5   review_id       5909 non-null   int64 \n",
      " 6   review          5909 non-null   object\n",
      " 7   review_subject  5909 non-null   object\n",
      " 8   trip_type       5892 non-null   object\n",
      " 9   travel_date     5892 non-null   object\n",
      " 10  rating          5909 non-null   int64 \n",
      " 11  location_name   5909 non-null   object\n",
      " 12  province        5909 non-null   object\n",
      " 13  place_id        5909 non-null   object\n",
      " 14  cleaned_review  5909 non-null   object\n",
      " 15  emotion         5909 non-null   object\n",
      "dtypes: int64(6), object(10)\n",
      "memory usage: 738.8+ KB\n"
     ]
    }
   ],
   "source": [
    "tourism_reviews_en.info()"
   ]
  },
  {
   "cell_type": "code",
   "execution_count": 5,
   "metadata": {},
   "outputs": [
    {
     "data": {
      "text/html": [
       "<div>\n",
       "<style scoped>\n",
       "    .dataframe tbody tr th:only-of-type {\n",
       "        vertical-align: middle;\n",
       "    }\n",
       "\n",
       "    .dataframe tbody tr th {\n",
       "        vertical-align: top;\n",
       "    }\n",
       "\n",
       "    .dataframe thead th {\n",
       "        text-align: right;\n",
       "    }\n",
       "</style>\n",
       "<table border=\"1\" class=\"dataframe\">\n",
       "  <thead>\n",
       "    <tr style=\"text-align: right;\">\n",
       "      <th></th>\n",
       "      <th>helpful_votes</th>\n",
       "      <th>location_id</th>\n",
       "      <th>review_id</th>\n",
       "      <th>rating</th>\n",
       "    </tr>\n",
       "  </thead>\n",
       "  <tbody>\n",
       "    <tr>\n",
       "      <th>count</th>\n",
       "      <td>5909.000000</td>\n",
       "      <td>5.909000e+03</td>\n",
       "      <td>5.909000e+03</td>\n",
       "      <td>5909.000000</td>\n",
       "    </tr>\n",
       "    <tr>\n",
       "      <th>mean</th>\n",
       "      <td>1.058216</td>\n",
       "      <td>6.483167e+06</td>\n",
       "      <td>7.590446e+08</td>\n",
       "      <td>4.153833</td>\n",
       "    </tr>\n",
       "    <tr>\n",
       "      <th>std</th>\n",
       "      <td>5.625108</td>\n",
       "      <td>4.877561e+06</td>\n",
       "      <td>1.844114e+08</td>\n",
       "      <td>1.067077</td>\n",
       "    </tr>\n",
       "    <tr>\n",
       "      <th>min</th>\n",
       "      <td>0.000000</td>\n",
       "      <td>3.110380e+05</td>\n",
       "      <td>1.049076e+08</td>\n",
       "      <td>1.000000</td>\n",
       "    </tr>\n",
       "    <tr>\n",
       "      <th>25%</th>\n",
       "      <td>0.000000</td>\n",
       "      <td>2.578107e+06</td>\n",
       "      <td>6.573250e+08</td>\n",
       "      <td>4.000000</td>\n",
       "    </tr>\n",
       "    <tr>\n",
       "      <th>50%</th>\n",
       "      <td>0.000000</td>\n",
       "      <td>6.017599e+06</td>\n",
       "      <td>7.832754e+08</td>\n",
       "      <td>4.000000</td>\n",
       "    </tr>\n",
       "    <tr>\n",
       "      <th>75%</th>\n",
       "      <td>1.000000</td>\n",
       "      <td>8.818088e+06</td>\n",
       "      <td>9.240324e+08</td>\n",
       "      <td>5.000000</td>\n",
       "    </tr>\n",
       "    <tr>\n",
       "      <th>max</th>\n",
       "      <td>182.000000</td>\n",
       "      <td>2.714283e+07</td>\n",
       "      <td>9.653184e+08</td>\n",
       "      <td>5.000000</td>\n",
       "    </tr>\n",
       "  </tbody>\n",
       "</table>\n",
       "</div>"
      ],
      "text/plain": [
       "       helpful_votes   location_id     review_id       rating\n",
       "count    5909.000000  5.909000e+03  5.909000e+03  5909.000000\n",
       "mean        1.058216  6.483167e+06  7.590446e+08     4.153833\n",
       "std         5.625108  4.877561e+06  1.844114e+08     1.067077\n",
       "min         0.000000  3.110380e+05  1.049076e+08     1.000000\n",
       "25%         0.000000  2.578107e+06  6.573250e+08     4.000000\n",
       "50%         0.000000  6.017599e+06  7.832754e+08     4.000000\n",
       "75%         1.000000  8.818088e+06  9.240324e+08     5.000000\n",
       "max       182.000000  2.714283e+07  9.653184e+08     5.000000"
      ]
     },
     "execution_count": 5,
     "metadata": {},
     "output_type": "execute_result"
    }
   ],
   "source": [
    "review_df.describe()"
   ]
  },
  {
   "cell_type": "code",
   "execution_count": 6,
   "metadata": {},
   "outputs": [
    {
     "name": "stdout",
     "output_type": "stream",
     "text": [
      "<class 'pandas.core.frame.DataFrame'>\n",
      "RangeIndex: 5909 entries, 0 to 5908\n",
      "Data columns (total 12 columns):\n",
      " #   Column          Non-Null Count  Dtype \n",
      "---  ------          --------------  ----- \n",
      " 0   helpful_votes   5909 non-null   int64 \n",
      " 1   location_id     5909 non-null   int64 \n",
      " 2   review_id       5909 non-null   int64 \n",
      " 3   review          5909 non-null   object\n",
      " 4   review_subject  5909 non-null   object\n",
      " 5   trip_type       5892 non-null   object\n",
      " 6   rating          5909 non-null   int64 \n",
      " 7   location_name   5909 non-null   object\n",
      " 8   province        5909 non-null   object\n",
      " 9   place_id        5909 non-null   object\n",
      " 10  emotion         5909 non-null   object\n",
      " 11  cleaned_review  5909 non-null   object\n",
      "dtypes: int64(4), object(8)\n",
      "memory usage: 554.1+ KB\n"
     ]
    }
   ],
   "source": [
    "review_df.info()"
   ]
  },
  {
   "cell_type": "code",
   "execution_count": 7,
   "metadata": {},
   "outputs": [
    {
     "data": {
      "text/html": [
       "<div>\n",
       "<style scoped>\n",
       "    .dataframe tbody tr th:only-of-type {\n",
       "        vertical-align: middle;\n",
       "    }\n",
       "\n",
       "    .dataframe tbody tr th {\n",
       "        vertical-align: top;\n",
       "    }\n",
       "\n",
       "    .dataframe thead th {\n",
       "        text-align: right;\n",
       "    }\n",
       "</style>\n",
       "<table border=\"1\" class=\"dataframe\">\n",
       "  <thead>\n",
       "    <tr style=\"text-align: right;\">\n",
       "      <th></th>\n",
       "      <th>helpful_votes</th>\n",
       "      <th>location_id</th>\n",
       "      <th>review_id</th>\n",
       "      <th>review</th>\n",
       "      <th>review_subject</th>\n",
       "      <th>trip_type</th>\n",
       "      <th>rating</th>\n",
       "      <th>location_name</th>\n",
       "      <th>province</th>\n",
       "      <th>place_id</th>\n",
       "      <th>emotion</th>\n",
       "      <th>cleaned_review</th>\n",
       "    </tr>\n",
       "  </thead>\n",
       "  <tbody>\n",
       "    <tr>\n",
       "      <th>0</th>\n",
       "      <td>0</td>\n",
       "      <td>2209612</td>\n",
       "      <td>953596359</td>\n",
       "      <td>Besides elegant grand palace and wat pra kaew ...</td>\n",
       "      <td>The place is nearby grand palace, in the area ...</td>\n",
       "      <td>Family</td>\n",
       "      <td>5</td>\n",
       "      <td>Wat Ratchabophit</td>\n",
       "      <td>Bangkok</td>\n",
       "      <td>P03013220</td>\n",
       "      <td>joy</td>\n",
       "      <td>besides elegant grand palace &lt;OOV&gt; wat pra kae...</td>\n",
       "    </tr>\n",
       "    <tr>\n",
       "      <th>1</th>\n",
       "      <td>0</td>\n",
       "      <td>2209612</td>\n",
       "      <td>938998692</td>\n",
       "      <td>This is one of the last big king temples of Ba...</td>\n",
       "      <td>Nice Wat</td>\n",
       "      <td>Solo travel</td>\n",
       "      <td>4</td>\n",
       "      <td>Wat Ratchabophit</td>\n",
       "      <td>Bangkok</td>\n",
       "      <td>P03013220</td>\n",
       "      <td>joy</td>\n",
       "      <td>&lt;OOV&gt; &lt;OOV&gt; one &lt;OOV&gt; &lt;OOV&gt; last big king temp...</td>\n",
       "    </tr>\n",
       "    <tr>\n",
       "      <th>2</th>\n",
       "      <td>6</td>\n",
       "      <td>2209612</td>\n",
       "      <td>933065689</td>\n",
       "      <td>It is beautiful, clean and free to enter. Both...</td>\n",
       "      <td>Nice views</td>\n",
       "      <td>Solo travel</td>\n",
       "      <td>4</td>\n",
       "      <td>Wat Ratchabophit</td>\n",
       "      <td>Bangkok</td>\n",
       "      <td>P03013220</td>\n",
       "      <td>joy</td>\n",
       "      <td>&lt;OOV&gt; &lt;OOV&gt; beautiful clean &lt;OOV&gt; free &lt;OOV&gt; e...</td>\n",
       "    </tr>\n",
       "    <tr>\n",
       "      <th>3</th>\n",
       "      <td>0</td>\n",
       "      <td>2209612</td>\n",
       "      <td>885904967</td>\n",
       "      <td>Wat Ratchabophit is a Buddhist temple located ...</td>\n",
       "      <td>Wat Ratchabophit - a temple characterized by u...</td>\n",
       "      <td>Couples</td>\n",
       "      <td>5</td>\n",
       "      <td>Wat Ratchabophit</td>\n",
       "      <td>Bangkok</td>\n",
       "      <td>P03013220</td>\n",
       "      <td>joy</td>\n",
       "      <td>wat ratchabophit &lt;OOV&gt; &lt;OOV&gt; buddhist temple l...</td>\n",
       "    </tr>\n",
       "    <tr>\n",
       "      <th>4</th>\n",
       "      <td>4</td>\n",
       "      <td>2209612</td>\n",
       "      <td>782967555</td>\n",
       "      <td>Wat Ratchabophit is a historic royal temple bu...</td>\n",
       "      <td>Beautiful, peaceful</td>\n",
       "      <td>NONE</td>\n",
       "      <td>5</td>\n",
       "      <td>Wat Ratchabophit</td>\n",
       "      <td>Bangkok</td>\n",
       "      <td>P03013220</td>\n",
       "      <td>joy</td>\n",
       "      <td>wat ratchabophit &lt;OOV&gt; &lt;OOV&gt; historic royal te...</td>\n",
       "    </tr>\n",
       "    <tr>\n",
       "      <th>...</th>\n",
       "      <td>...</td>\n",
       "      <td>...</td>\n",
       "      <td>...</td>\n",
       "      <td>...</td>\n",
       "      <td>...</td>\n",
       "      <td>...</td>\n",
       "      <td>...</td>\n",
       "      <td>...</td>\n",
       "      <td>...</td>\n",
       "      <td>...</td>\n",
       "      <td>...</td>\n",
       "      <td>...</td>\n",
       "    </tr>\n",
       "    <tr>\n",
       "      <th>5904</th>\n",
       "      <td>0</td>\n",
       "      <td>1831068</td>\n",
       "      <td>888281929</td>\n",
       "      <td>Is quite far from Korat Town or main highway. ...</td>\n",
       "      <td>Can visit.. depends on individual</td>\n",
       "      <td>Family</td>\n",
       "      <td>3</td>\n",
       "      <td>Prasat Puay Noi</td>\n",
       "      <td>Nonthaburi</td>\n",
       "      <td>P03013503</td>\n",
       "      <td>joy</td>\n",
       "      <td>&lt;OOV&gt; quite far &lt;OOV&gt; korat town &lt;OOV&gt; main hi...</td>\n",
       "    </tr>\n",
       "    <tr>\n",
       "      <th>5905</th>\n",
       "      <td>4</td>\n",
       "      <td>1831068</td>\n",
       "      <td>752115552</td>\n",
       "      <td>Prasat Pueai Noi is claimed to be the biggest ...</td>\n",
       "      <td>Small, Isolated Khmer Sanctuary</td>\n",
       "      <td>NONE</td>\n",
       "      <td>3</td>\n",
       "      <td>Prasat Puay Noi</td>\n",
       "      <td>Nonthaburi</td>\n",
       "      <td>P03013503</td>\n",
       "      <td>joy</td>\n",
       "      <td>prasat pueai noi &lt;OOV&gt; claimed &lt;OOV&gt; &lt;OOV&gt; &lt;OO...</td>\n",
       "    </tr>\n",
       "    <tr>\n",
       "      <th>5906</th>\n",
       "      <td>0</td>\n",
       "      <td>1831068</td>\n",
       "      <td>693354319</td>\n",
       "      <td>I think this place is claimed to be the oldest...</td>\n",
       "      <td>A sense of ancient times..</td>\n",
       "      <td>Friends getaway</td>\n",
       "      <td>4</td>\n",
       "      <td>Prasat Puay Noi</td>\n",
       "      <td>Nonthaburi</td>\n",
       "      <td>P03013503</td>\n",
       "      <td>joy</td>\n",
       "      <td>&lt;OOV&gt; think &lt;OOV&gt; place &lt;OOV&gt; claimed &lt;OOV&gt; &lt;O...</td>\n",
       "    </tr>\n",
       "    <tr>\n",
       "      <th>5907</th>\n",
       "      <td>1</td>\n",
       "      <td>1831068</td>\n",
       "      <td>573376614</td>\n",
       "      <td>The compound comprises three brick buildings o...</td>\n",
       "      <td>Another Angkor Wat</td>\n",
       "      <td>Solo travel</td>\n",
       "      <td>4</td>\n",
       "      <td>Prasat Puay Noi</td>\n",
       "      <td>Nonthaburi</td>\n",
       "      <td>P03013503</td>\n",
       "      <td>joy</td>\n",
       "      <td>&lt;OOV&gt; compound comprises three brick buildings...</td>\n",
       "    </tr>\n",
       "    <tr>\n",
       "      <th>5908</th>\n",
       "      <td>0</td>\n",
       "      <td>1831068</td>\n",
       "      <td>571939282</td>\n",
       "      <td>Fully recommend this to the genuine history bu...</td>\n",
       "      <td>Small, simple, yet qualit</td>\n",
       "      <td>Couples</td>\n",
       "      <td>4</td>\n",
       "      <td>Prasat Puay Noi</td>\n",
       "      <td>Nonthaburi</td>\n",
       "      <td>P03013503</td>\n",
       "      <td>joy</td>\n",
       "      <td>fully recommend &lt;OOV&gt; &lt;OOV&gt; &lt;OOV&gt; genuine hist...</td>\n",
       "    </tr>\n",
       "  </tbody>\n",
       "</table>\n",
       "<p>5909 rows × 12 columns</p>\n",
       "</div>"
      ],
      "text/plain": [
       "      helpful_votes  location_id  review_id  \\\n",
       "0                 0      2209612  953596359   \n",
       "1                 0      2209612  938998692   \n",
       "2                 6      2209612  933065689   \n",
       "3                 0      2209612  885904967   \n",
       "4                 4      2209612  782967555   \n",
       "...             ...          ...        ...   \n",
       "5904              0      1831068  888281929   \n",
       "5905              4      1831068  752115552   \n",
       "5906              0      1831068  693354319   \n",
       "5907              1      1831068  573376614   \n",
       "5908              0      1831068  571939282   \n",
       "\n",
       "                                                 review  \\\n",
       "0     Besides elegant grand palace and wat pra kaew ...   \n",
       "1     This is one of the last big king temples of Ba...   \n",
       "2     It is beautiful, clean and free to enter. Both...   \n",
       "3     Wat Ratchabophit is a Buddhist temple located ...   \n",
       "4     Wat Ratchabophit is a historic royal temple bu...   \n",
       "...                                                 ...   \n",
       "5904  Is quite far from Korat Town or main highway. ...   \n",
       "5905  Prasat Pueai Noi is claimed to be the biggest ...   \n",
       "5906  I think this place is claimed to be the oldest...   \n",
       "5907  The compound comprises three brick buildings o...   \n",
       "5908  Fully recommend this to the genuine history bu...   \n",
       "\n",
       "                                         review_subject        trip_type  \\\n",
       "0     The place is nearby grand palace, in the area ...           Family   \n",
       "1                                              Nice Wat      Solo travel   \n",
       "2                                            Nice views      Solo travel   \n",
       "3     Wat Ratchabophit - a temple characterized by u...          Couples   \n",
       "4                                   Beautiful, peaceful             NONE   \n",
       "...                                                 ...              ...   \n",
       "5904                 Can visit.. depends on individual            Family   \n",
       "5905                    Small, Isolated Khmer Sanctuary             NONE   \n",
       "5906                         A sense of ancient times..  Friends getaway   \n",
       "5907                                 Another Angkor Wat      Solo travel   \n",
       "5908                          Small, simple, yet qualit          Couples   \n",
       "\n",
       "      rating     location_name    province   place_id emotion  \\\n",
       "0          5  Wat Ratchabophit     Bangkok  P03013220     joy   \n",
       "1          4  Wat Ratchabophit     Bangkok  P03013220     joy   \n",
       "2          4  Wat Ratchabophit     Bangkok  P03013220     joy   \n",
       "3          5  Wat Ratchabophit     Bangkok  P03013220     joy   \n",
       "4          5  Wat Ratchabophit     Bangkok  P03013220     joy   \n",
       "...      ...               ...         ...        ...     ...   \n",
       "5904       3   Prasat Puay Noi  Nonthaburi  P03013503     joy   \n",
       "5905       3   Prasat Puay Noi  Nonthaburi  P03013503     joy   \n",
       "5906       4   Prasat Puay Noi  Nonthaburi  P03013503     joy   \n",
       "5907       4   Prasat Puay Noi  Nonthaburi  P03013503     joy   \n",
       "5908       4   Prasat Puay Noi  Nonthaburi  P03013503     joy   \n",
       "\n",
       "                                         cleaned_review  \n",
       "0     besides elegant grand palace <OOV> wat pra kae...  \n",
       "1     <OOV> <OOV> one <OOV> <OOV> last big king temp...  \n",
       "2     <OOV> <OOV> beautiful clean <OOV> free <OOV> e...  \n",
       "3     wat ratchabophit <OOV> <OOV> buddhist temple l...  \n",
       "4     wat ratchabophit <OOV> <OOV> historic royal te...  \n",
       "...                                                 ...  \n",
       "5904  <OOV> quite far <OOV> korat town <OOV> main hi...  \n",
       "5905  prasat pueai noi <OOV> claimed <OOV> <OOV> <OO...  \n",
       "5906  <OOV> think <OOV> place <OOV> claimed <OOV> <O...  \n",
       "5907  <OOV> compound comprises three brick buildings...  \n",
       "5908  fully recommend <OOV> <OOV> <OOV> genuine hist...  \n",
       "\n",
       "[5909 rows x 12 columns]"
      ]
     },
     "execution_count": 7,
     "metadata": {},
     "output_type": "execute_result"
    }
   ],
   "source": [
    "review_df"
   ]
  },
  {
   "cell_type": "code",
   "execution_count": 8,
   "metadata": {},
   "outputs": [
    {
     "data": {
      "text/plain": [
       "['Hello Mr. Smith, how are you doing today?',\n",
       " 'The weather is great and Python is awesome.',\n",
       " 'The sky is pinkish-blue.',\n",
       " 'You should not eat cardboard.']"
      ]
     },
     "execution_count": 8,
     "metadata": {},
     "output_type": "execute_result"
    }
   ],
   "source": [
    "from nltk.tokenize import word_tokenize, sent_tokenize\n",
    "text = \"Hello Mr. Smith, how are you doing today? The weather is great and Python is awesome. The sky is pinkish-blue. You should not eat cardboard.\"\n",
    "word_tokenize ( text )\n",
    "sent_tokenize ( text )"
   ]
  },
  {
   "cell_type": "code",
   "execution_count": 9,
   "metadata": {},
   "outputs": [],
   "source": [
    "from nltk.corpus import stopwords \n",
    "\n",
    "custom_stopwords = set(stopwords.words('english'))"
   ]
  },
  {
   "cell_type": "code",
   "execution_count": 10,
   "metadata": {},
   "outputs": [],
   "source": [
    "from nltk.stem import WordNetLemmatizer\n",
    "\n",
    "stop_words = custom_stopwords\n",
    "lemmatizer = WordNetLemmatizer()"
   ]
  },
  {
   "cell_type": "code",
   "execution_count": 11,
   "metadata": {},
   "outputs": [],
   "source": [
    "def advanced_clean_text(text):\n",
    "    text = text.lower()\n",
    "    text = re.sub(r'\\d+', '', text)  # Remove numbers\n",
    "    text = re.sub(r'[^a-z\\s]', '', text)  # Remove special characters\n",
    "    text = re.sub(r'\\b(u|ur|b4)\\b', 'you', text)  # Replace common abbreviations\n",
    "    words = word_tokenize(text)\n",
    "    words = [lemmatizer.lemmatize(word) for word in words if word not in stop_words]\n",
    "    words = [word for word in words if word not in string.punctuation]\n",
    "    return ' '.join(words)"
   ]
  },
  {
   "cell_type": "code",
   "execution_count": 12,
   "metadata": {},
   "outputs": [
    {
     "name": "stderr",
     "output_type": "stream",
     "text": [
      "/var/folders/fk/449tdf_12hzd2r7ps4659q0m0000gn/T/ipykernel_9383/2616607316.py:2: SettingWithCopyWarning: \n",
      "A value is trying to be set on a copy of a slice from a DataFrame.\n",
      "Try using .loc[row_indexer,col_indexer] = value instead\n",
      "\n",
      "See the caveats in the documentation: https://pandas.pydata.org/pandas-docs/stable/user_guide/indexing.html#returning-a-view-versus-a-copy\n",
      "  review_df['cleaned_review'] = review_df['review'].apply(advanced_clean_text)\n"
     ]
    }
   ],
   "source": [
    "# Apply preprocessing to the review texts\n",
    "review_df['cleaned_review'] = review_df['review'].apply(advanced_clean_text)\n",
    "\n",
    "# 2. สร้าง Word Embeddings ด้วย Word2Vec\n",
    "# word2vec_model = Word2Vec(sentences=review_df['cleaned_review'], vector_size=300, window=5, min_count=1, sg=1)  # ใช้ Skip-Gram\n",
    "sentences = [row.split() for row in review_df['cleaned_review']]\n",
    "word2vec_model = Word2Vec(sentences, vector_size=300, window=5, min_count=1, workers=4)  # เปลี่ยน vector_size เป็น 300\n",
    "\n"
   ]
  },
  {
   "cell_type": "code",
   "execution_count": 13,
   "metadata": {},
   "outputs": [],
   "source": [
    "# Parameters\n",
    "embedding_dim = 300  # Assuming Word2Vec has 300 dimensions\n",
    "dropout_rate = 0.5\n",
    "num_classes = 1  # Binary classification\n",
    "max_len = 100  # Maximum length of input sequences\n",
    "ngram_range = (1, 2)  # Unigrams and bigrams\n",
    "max_features = 20000  \n",
    "\n",
    "# Create the embedding matrix from the Word2Vec model\n",
    "word_index = {word: i for i, word in enumerate(word2vec_model.wv.index_to_key)}\n",
    "embedding_matrix = np.zeros((len(word_index) + 1, embedding_dim))"
   ]
  },
  {
   "cell_type": "code",
   "execution_count": 14,
   "metadata": {},
   "outputs": [
    {
     "name": "stderr",
     "output_type": "stream",
     "text": [
      "/var/folders/fk/449tdf_12hzd2r7ps4659q0m0000gn/T/ipykernel_9383/1367629667.py:9: SettingWithCopyWarning: \n",
      "A value is trying to be set on a copy of a slice from a DataFrame.\n",
      "Try using .loc[row_indexer,col_indexer] = value instead\n",
      "\n",
      "See the caveats in the documentation: https://pandas.pydata.org/pandas-docs/stable/user_guide/indexing.html#returning-a-view-versus-a-copy\n",
      "  review_df['embedding'] = review_df['cleaned_review'].apply(lambda x: text_to_word2vec(x, word2vec_model))\n"
     ]
    }
   ],
   "source": [
    "def text_to_word2vec(tokens, model, max_length=300):\n",
    "    vector = np.zeros((max_length, 300))\n",
    "    for i, word in enumerate(tokens):\n",
    "        if i < max_length:\n",
    "            if word in model.wv:\n",
    "                vector[i] = model.wv[word]\n",
    "    return vector\n",
    "\n",
    "review_df['embedding'] = review_df['cleaned_review'].apply(lambda x: text_to_word2vec(x, word2vec_model))\n"
   ]
  },
  {
   "cell_type": "code",
   "execution_count": 15,
   "metadata": {},
   "outputs": [
    {
     "name": "stderr",
     "output_type": "stream",
     "text": [
      "/var/folders/fk/449tdf_12hzd2r7ps4659q0m0000gn/T/ipykernel_9383/2638035927.py:9: SettingWithCopyWarning: \n",
      "A value is trying to be set on a copy of a slice from a DataFrame.\n",
      "Try using .loc[row_indexer,col_indexer] = value instead\n",
      "\n",
      "See the caveats in the documentation: https://pandas.pydata.org/pandas-docs/stable/user_guide/indexing.html#returning-a-view-versus-a-copy\n",
      "  review_df['sentiment'] = review_df['rating'].apply(map_rating_to_sentiment)\n"
     ]
    }
   ],
   "source": [
    "def map_rating_to_sentiment(rating):\n",
    "    if rating in [1, 2]:\n",
    "        return 'negative'\n",
    "    elif rating in [3, 4]:\n",
    "        return 'neutral'\n",
    "    else:  # 4 or 5\n",
    "        return 'positive'\n",
    "\n",
    "review_df['sentiment'] = review_df['rating'].apply(map_rating_to_sentiment)"
   ]
  },
  {
   "cell_type": "code",
   "execution_count": 16,
   "metadata": {},
   "outputs": [
    {
     "name": "stdout",
     "output_type": "stream",
     "text": [
      "sentiment\n",
      "neutral     2871\n",
      "positive    2871\n",
      "negative    2871\n",
      "Name: count, dtype: int64\n"
     ]
    }
   ],
   "source": [
    "from sklearn.utils import resample\n",
    "\n",
    "# Assuming `review_df` is your original DataFrame with a 'sentiment' column\n",
    "\n",
    "# 1. Separate the data by class\n",
    "df_positive = review_df[review_df.sentiment == 'positive']\n",
    "df_neutral = review_df[review_df.sentiment == 'neutral']\n",
    "df_negative = review_df[review_df.sentiment == 'negative']\n",
    "\n",
    "# 2. Resample the minority classes\n",
    "# For example, oversample the neutral and negative classes to match the positive class\n",
    "df_neutral_upsampled = resample(df_neutral,\n",
    "                                replace=True,  # Sample with replacement\n",
    "                                n_samples=len(df_positive),  # Match number of positive class samples\n",
    "                                random_state=42)  # Reproducible results\n",
    "\n",
    "df_negative_upsampled = resample(df_negative,\n",
    "                                 replace=True,  # Sample with replacement\n",
    "                                 n_samples=len(df_positive),  # Match number of positive class samples\n",
    "                                 random_state=42)  # Reproducible results\n",
    "\n",
    "# 3. Combine the resampled DataFrames\n",
    "df_balanced = pd.concat([df_positive, df_neutral_upsampled, df_negative_upsampled])\n",
    "\n",
    "# 4. Shuffle the combined DataFrame\n",
    "df_balanced = df_balanced.sample(frac=1, random_state=42).reset_index(drop=True)\n",
    "\n",
    "# 5. Check the distribution of the classes\n",
    "print(df_balanced['sentiment'].value_counts())\n"
   ]
  },
  {
   "cell_type": "code",
   "execution_count": 17,
   "metadata": {},
   "outputs": [],
   "source": [
    "tokenizer = Tokenizer(num_words=max_features)\n",
    "tokenizer.fit_on_texts(df_balanced['cleaned_review'])\n",
    "\n",
    "X = tokenizer.texts_to_sequences(df_balanced['cleaned_review'])\n",
    "X = pad_sequences(X, maxlen=max_len)\n",
    "\n",
    "# แปลงคอลัมน์ 'sentiment' เป็นข้อมูลตัวเลข\n",
    "label_mapping = {'negative': 0, 'neutral': 1, 'positive': 2}\n",
    "y = df_balanced['sentiment'].map(label_mapping)"
   ]
  },
  {
   "cell_type": "code",
   "execution_count": 18,
   "metadata": {},
   "outputs": [],
   "source": [
    "from imblearn.over_sampling import SMOTE\n",
    "smote = SMOTE(random_state=42)\n",
    "X_train_resampled, y_train_resampled = smote.fit_resample(X, y)\n",
    "\n",
    "# แบ่งข้อมูลใหม่อีกครั้งหลังจาก SMOTE\n",
    "X_train_resampled, X_val, y_train_resampled, y_val = train_test_split(X_train_resampled, y_train_resampled, test_size=0.2, random_state=42)"
   ]
  },
  {
   "cell_type": "code",
   "execution_count": 19,
   "metadata": {},
   "outputs": [
    {
     "name": "stdout",
     "output_type": "stream",
     "text": [
      "X_train shape: (6890, 100)\n",
      "y_train shape: (6890,)\n",
      "X_test shape: (1723, 100)\n",
      "y_test shape: (1723,)\n"
     ]
    }
   ],
   "source": [
    "# Check the shapes of the resulting arrays\n",
    "print(f\"X_train shape: {X_train_resampled.shape}\")\n",
    "print(f\"y_train shape: {y_train_resampled.shape}\")\n",
    "print(f\"X_test shape: {X_val.shape}\")\n",
    "print(f\"y_test shape: {y_val.shape}\")\n"
   ]
  },
  {
   "cell_type": "code",
   "execution_count": 21,
   "metadata": {},
   "outputs": [
    {
     "name": "stderr",
     "output_type": "stream",
     "text": [
      "/Users/ittichaiboonyarakthunya/Library/Caches/pypoetry/virtualenvs/is-project-thailand-tourism-recommendation-qwL-LsgH-py3.12/lib/python3.12/site-packages/keras/src/layers/core/embedding.py:90: UserWarning: Argument `input_length` is deprecated. Just remove it.\n",
      "  warnings.warn(\n"
     ]
    },
    {
     "data": {
      "text/html": [
       "<pre style=\"white-space:pre;overflow-x:auto;line-height:normal;font-family:Menlo,'DejaVu Sans Mono',consolas,'Courier New',monospace\"><span style=\"font-weight: bold\">Model: \"sequential_1\"</span>\n",
       "</pre>\n"
      ],
      "text/plain": [
       "\u001b[1mModel: \"sequential_1\"\u001b[0m\n"
      ]
     },
     "metadata": {},
     "output_type": "display_data"
    },
    {
     "data": {
      "text/html": [
       "<pre style=\"white-space:pre;overflow-x:auto;line-height:normal;font-family:Menlo,'DejaVu Sans Mono',consolas,'Courier New',monospace\">┏━━━━━━━━━━━━━━━━━━━━━━━━━━━━━━━━━┳━━━━━━━━━━━━━━━━━━━━━━━━┳━━━━━━━━━━━━━━━┓\n",
       "┃<span style=\"font-weight: bold\"> Layer (type)                    </span>┃<span style=\"font-weight: bold\"> Output Shape           </span>┃<span style=\"font-weight: bold\">       Param # </span>┃\n",
       "┡━━━━━━━━━━━━━━━━━━━━━━━━━━━━━━━━━╇━━━━━━━━━━━━━━━━━━━━━━━━╇━━━━━━━━━━━━━━━┩\n",
       "│ embedding (<span style=\"color: #0087ff; text-decoration-color: #0087ff\">Embedding</span>)           │ ?                      │   <span style=\"color: #00af00; text-decoration-color: #00af00\">0</span> (unbuilt) │\n",
       "├─────────────────────────────────┼────────────────────────┼───────────────┤\n",
       "│ conv1d (<span style=\"color: #0087ff; text-decoration-color: #0087ff\">Conv1D</span>)                 │ ?                      │   <span style=\"color: #00af00; text-decoration-color: #00af00\">0</span> (unbuilt) │\n",
       "├─────────────────────────────────┼────────────────────────┼───────────────┤\n",
       "│ global_max_pooling1d            │ ?                      │   <span style=\"color: #00af00; text-decoration-color: #00af00\">0</span> (unbuilt) │\n",
       "│ (<span style=\"color: #0087ff; text-decoration-color: #0087ff\">GlobalMaxPooling1D</span>)            │                        │               │\n",
       "├─────────────────────────────────┼────────────────────────┼───────────────┤\n",
       "│ dropout (<span style=\"color: #0087ff; text-decoration-color: #0087ff\">Dropout</span>)               │ ?                      │   <span style=\"color: #00af00; text-decoration-color: #00af00\">0</span> (unbuilt) │\n",
       "├─────────────────────────────────┼────────────────────────┼───────────────┤\n",
       "│ dense (<span style=\"color: #0087ff; text-decoration-color: #0087ff\">Dense</span>)                   │ ?                      │   <span style=\"color: #00af00; text-decoration-color: #00af00\">0</span> (unbuilt) │\n",
       "└─────────────────────────────────┴────────────────────────┴───────────────┘\n",
       "</pre>\n"
      ],
      "text/plain": [
       "┏━━━━━━━━━━━━━━━━━━━━━━━━━━━━━━━━━┳━━━━━━━━━━━━━━━━━━━━━━━━┳━━━━━━━━━━━━━━━┓\n",
       "┃\u001b[1m \u001b[0m\u001b[1mLayer (type)                   \u001b[0m\u001b[1m \u001b[0m┃\u001b[1m \u001b[0m\u001b[1mOutput Shape          \u001b[0m\u001b[1m \u001b[0m┃\u001b[1m \u001b[0m\u001b[1m      Param #\u001b[0m\u001b[1m \u001b[0m┃\n",
       "┡━━━━━━━━━━━━━━━━━━━━━━━━━━━━━━━━━╇━━━━━━━━━━━━━━━━━━━━━━━━╇━━━━━━━━━━━━━━━┩\n",
       "│ embedding (\u001b[38;5;33mEmbedding\u001b[0m)           │ ?                      │   \u001b[38;5;34m0\u001b[0m (unbuilt) │\n",
       "├─────────────────────────────────┼────────────────────────┼───────────────┤\n",
       "│ conv1d (\u001b[38;5;33mConv1D\u001b[0m)                 │ ?                      │   \u001b[38;5;34m0\u001b[0m (unbuilt) │\n",
       "├─────────────────────────────────┼────────────────────────┼───────────────┤\n",
       "│ global_max_pooling1d            │ ?                      │   \u001b[38;5;34m0\u001b[0m (unbuilt) │\n",
       "│ (\u001b[38;5;33mGlobalMaxPooling1D\u001b[0m)            │                        │               │\n",
       "├─────────────────────────────────┼────────────────────────┼───────────────┤\n",
       "│ dropout (\u001b[38;5;33mDropout\u001b[0m)               │ ?                      │   \u001b[38;5;34m0\u001b[0m (unbuilt) │\n",
       "├─────────────────────────────────┼────────────────────────┼───────────────┤\n",
       "│ dense (\u001b[38;5;33mDense\u001b[0m)                   │ ?                      │   \u001b[38;5;34m0\u001b[0m (unbuilt) │\n",
       "└─────────────────────────────────┴────────────────────────┴───────────────┘\n"
      ]
     },
     "metadata": {},
     "output_type": "display_data"
    },
    {
     "data": {
      "text/html": [
       "<pre style=\"white-space:pre;overflow-x:auto;line-height:normal;font-family:Menlo,'DejaVu Sans Mono',consolas,'Courier New',monospace\"><span style=\"font-weight: bold\"> Total params: </span><span style=\"color: #00af00; text-decoration-color: #00af00\">0</span> (0.00 B)\n",
       "</pre>\n"
      ],
      "text/plain": [
       "\u001b[1m Total params: \u001b[0m\u001b[38;5;34m0\u001b[0m (0.00 B)\n"
      ]
     },
     "metadata": {},
     "output_type": "display_data"
    },
    {
     "data": {
      "text/html": [
       "<pre style=\"white-space:pre;overflow-x:auto;line-height:normal;font-family:Menlo,'DejaVu Sans Mono',consolas,'Courier New',monospace\"><span style=\"font-weight: bold\"> Trainable params: </span><span style=\"color: #00af00; text-decoration-color: #00af00\">0</span> (0.00 B)\n",
       "</pre>\n"
      ],
      "text/plain": [
       "\u001b[1m Trainable params: \u001b[0m\u001b[38;5;34m0\u001b[0m (0.00 B)\n"
      ]
     },
     "metadata": {},
     "output_type": "display_data"
    },
    {
     "data": {
      "text/html": [
       "<pre style=\"white-space:pre;overflow-x:auto;line-height:normal;font-family:Menlo,'DejaVu Sans Mono',consolas,'Courier New',monospace\"><span style=\"font-weight: bold\"> Non-trainable params: </span><span style=\"color: #00af00; text-decoration-color: #00af00\">0</span> (0.00 B)\n",
       "</pre>\n"
      ],
      "text/plain": [
       "\u001b[1m Non-trainable params: \u001b[0m\u001b[38;5;34m0\u001b[0m (0.00 B)\n"
      ]
     },
     "metadata": {},
     "output_type": "display_data"
    }
   ],
   "source": [
    "from keras.models import Sequential\n",
    "from keras.layers import Embedding, Conv1D, GlobalMaxPooling1D, Dense, Dropout\n",
    "\n",
    "# Step 6: Build the LSTM Model\n",
    "dropout_rate = 0.5\n",
    "input_shape = X_train_resampled.shape[1:] \n",
    "\n",
    "# สร้างโมเดลด้วย L2 Regularization และ Dropout\n",
    "# CNN model\n",
    "model_cnn = Sequential()\n",
    "model_cnn.add(Embedding(input_dim=max_features, output_dim=128, input_length=max_len))\n",
    "model_cnn.add(Conv1D(128, kernel_size=5, activation='relu'))\n",
    "model_cnn.add(GlobalMaxPooling1D())\n",
    "model_cnn.add(Dropout(0.5))\n",
    "model_cnn.add(Dense(1, activation='sigmoid'))\n",
    "\n",
    "model_cnn.compile(optimizer='adam', loss='binary_crossentropy', metrics=['accuracy'])\n",
    "model_cnn.summary()"
   ]
  },
  {
   "cell_type": "code",
   "execution_count": 22,
   "metadata": {},
   "outputs": [],
   "source": [
    "word_index = tokenizer.word_index\n",
    "embedding_matrix = np.zeros((len(word_index) + 1, embedding_dim))\n",
    "\n",
    "for word, i in word_index.items():\n",
    "    if i < max_features:\n",
    "        # ใช้ [] แทนการใช้ get() เพื่อดึง embedding vector\n",
    "        if word in word2vec_model.wv:\n",
    "            embedding_vector = word2vec_model.wv[word]\n",
    "            if embedding_vector is not None:\n",
    "                embedding_matrix[i] = embedding_vector"
   ]
  },
  {
   "cell_type": "code",
   "execution_count": 23,
   "metadata": {},
   "outputs": [],
   "source": [
    "from sklearn.utils.class_weight import compute_class_weight\n",
    "\n",
    "unique_classes = np.unique(y_train_resampled)\n",
    "\n",
    "# Compute class weights\n",
    "class_weights = compute_class_weight('balanced', classes=unique_classes, y=y_train_resampled)\n",
    "class_weights_dict = dict(enumerate(class_weights))\n",
    "\n",
    "# Optional: Normalize class weights\n",
    "total = sum(class_weights_dict.values())\n",
    "class_weights_dict = {k: v / total for k, v in class_weights_dict.items()}"
   ]
  },
  {
   "cell_type": "code",
   "execution_count": 24,
   "metadata": {},
   "outputs": [],
   "source": [
    "class_weights_dict = dict(enumerate(class_weights))"
   ]
  },
  {
   "cell_type": "code",
   "execution_count": 37,
   "metadata": {},
   "outputs": [
    {
     "data": {
      "text/plain": [
       "{0: 1.0064271107215892, 1: 0.9869646182495344, 2: 1.0068683326026597}"
      ]
     },
     "execution_count": 37,
     "metadata": {},
     "output_type": "execute_result"
    }
   ],
   "source": [
    "class_weights_dict"
   ]
  },
  {
   "cell_type": "code",
   "execution_count": 25,
   "metadata": {},
   "outputs": [
    {
     "name": "stdout",
     "output_type": "stream",
     "text": [
      "Epoch 1/20\n",
      "\u001b[1m108/108\u001b[0m \u001b[32m━━━━━━━━━━━━━━━━━━━━\u001b[0m\u001b[37m\u001b[0m \u001b[1m2s\u001b[0m 15ms/step - accuracy: 0.3405 - loss: 0.1459 - val_accuracy: 0.3366 - val_loss: -2.5114\n",
      "Epoch 2/20\n",
      "\u001b[1m108/108\u001b[0m \u001b[32m━━━━━━━━━━━━━━━━━━━━\u001b[0m\u001b[37m\u001b[0m \u001b[1m2s\u001b[0m 15ms/step - accuracy: 0.3951 - loss: -10.9127 - val_accuracy: 0.4132 - val_loss: -81.0655\n",
      "Epoch 3/20\n",
      "\u001b[1m108/108\u001b[0m \u001b[32m━━━━━━━━━━━━━━━━━━━━\u001b[0m\u001b[37m\u001b[0m \u001b[1m2s\u001b[0m 14ms/step - accuracy: 0.4252 - loss: -140.5746 - val_accuracy: 0.3720 - val_loss: -451.3820\n",
      "Epoch 4/20\n",
      "\u001b[1m108/108\u001b[0m \u001b[32m━━━━━━━━━━━━━━━━━━━━\u001b[0m\u001b[37m\u001b[0m \u001b[1m2s\u001b[0m 15ms/step - accuracy: 0.4207 - loss: -615.3425 - val_accuracy: 0.3697 - val_loss: -1332.2675\n",
      "Epoch 5/20\n",
      "\u001b[1m108/108\u001b[0m \u001b[32m━━━━━━━━━━━━━━━━━━━━\u001b[0m\u001b[37m\u001b[0m \u001b[1m2s\u001b[0m 14ms/step - accuracy: 0.4225 - loss: -1673.4418 - val_accuracy: 0.3807 - val_loss: -2907.7068\n",
      "Epoch 6/20\n",
      "\u001b[1m108/108\u001b[0m \u001b[32m━━━━━━━━━━━━━━━━━━━━\u001b[0m\u001b[37m\u001b[0m \u001b[1m2s\u001b[0m 15ms/step - accuracy: 0.4290 - loss: -3454.7100 - val_accuracy: 0.3720 - val_loss: -5218.2646\n",
      "Epoch 7/20\n",
      "\u001b[1m108/108\u001b[0m \u001b[32m━━━━━━━━━━━━━━━━━━━━\u001b[0m\u001b[37m\u001b[0m \u001b[1m2s\u001b[0m 15ms/step - accuracy: 0.4136 - loss: -5926.2305 - val_accuracy: 0.3778 - val_loss: -8534.6123\n",
      "Epoch 8/20\n",
      "\u001b[1m108/108\u001b[0m \u001b[32m━━━━━━━━━━━━━━━━━━━━\u001b[0m\u001b[37m\u001b[0m \u001b[1m2s\u001b[0m 14ms/step - accuracy: 0.4187 - loss: -9641.2158 - val_accuracy: 0.3732 - val_loss: -12857.9531\n",
      "Epoch 9/20\n",
      "\u001b[1m108/108\u001b[0m \u001b[32m━━━━━━━━━━━━━━━━━━━━\u001b[0m\u001b[37m\u001b[0m \u001b[1m2s\u001b[0m 15ms/step - accuracy: 0.4248 - loss: -13740.0908 - val_accuracy: 0.3738 - val_loss: -18248.3984\n",
      "Epoch 10/20\n",
      "\u001b[1m108/108\u001b[0m \u001b[32m━━━━━━━━━━━━━━━━━━━━\u001b[0m\u001b[37m\u001b[0m \u001b[1m2s\u001b[0m 15ms/step - accuracy: 0.4116 - loss: -20808.1641 - val_accuracy: 0.3854 - val_loss: -25054.6074\n",
      "Epoch 11/20\n",
      "\u001b[1m108/108\u001b[0m \u001b[32m━━━━━━━━━━━━━━━━━━━━\u001b[0m\u001b[37m\u001b[0m \u001b[1m2s\u001b[0m 14ms/step - accuracy: 0.4321 - loss: -26942.9609 - val_accuracy: 0.3836 - val_loss: -32982.0312\n",
      "Epoch 12/20\n",
      "\u001b[1m108/108\u001b[0m \u001b[32m━━━━━━━━━━━━━━━━━━━━\u001b[0m\u001b[37m\u001b[0m \u001b[1m2s\u001b[0m 14ms/step - accuracy: 0.4222 - loss: -36200.9453 - val_accuracy: 0.3761 - val_loss: -42469.2695\n",
      "Epoch 13/20\n",
      "\u001b[1m108/108\u001b[0m \u001b[32m━━━━━━━━━━━━━━━━━━━━\u001b[0m\u001b[37m\u001b[0m \u001b[1m2s\u001b[0m 15ms/step - accuracy: 0.4198 - loss: -47171.3281 - val_accuracy: 0.3802 - val_loss: -53391.1445\n",
      "Epoch 14/20\n",
      "\u001b[1m108/108\u001b[0m \u001b[32m━━━━━━━━━━━━━━━━━━━━\u001b[0m\u001b[37m\u001b[0m \u001b[1m2s\u001b[0m 15ms/step - accuracy: 0.4207 - loss: -58261.5234 - val_accuracy: 0.3761 - val_loss: -65731.0469\n",
      "Epoch 15/20\n",
      "\u001b[1m108/108\u001b[0m \u001b[32m━━━━━━━━━━━━━━━━━━━━\u001b[0m\u001b[37m\u001b[0m \u001b[1m2s\u001b[0m 15ms/step - accuracy: 0.4231 - loss: -70176.6562 - val_accuracy: 0.3790 - val_loss: -79463.3906\n",
      "Epoch 16/20\n",
      "\u001b[1m108/108\u001b[0m \u001b[32m━━━━━━━━━━━━━━━━━━━━\u001b[0m\u001b[37m\u001b[0m \u001b[1m2s\u001b[0m 15ms/step - accuracy: 0.4198 - loss: -86399.6719 - val_accuracy: 0.3790 - val_loss: -95114.7500\n",
      "Epoch 17/20\n",
      "\u001b[1m108/108\u001b[0m \u001b[32m━━━━━━━━━━━━━━━━━━━━\u001b[0m\u001b[37m\u001b[0m \u001b[1m2s\u001b[0m 15ms/step - accuracy: 0.4289 - loss: -99874.9922 - val_accuracy: 0.3825 - val_loss: -112118.8594\n",
      "Epoch 18/20\n",
      "\u001b[1m108/108\u001b[0m \u001b[32m━━━━━━━━━━━━━━━━━━━━\u001b[0m\u001b[37m\u001b[0m \u001b[1m2s\u001b[0m 15ms/step - accuracy: 0.4265 - loss: -119359.9688 - val_accuracy: 0.3819 - val_loss: -130765.8672\n",
      "Epoch 19/20\n",
      "\u001b[1m108/108\u001b[0m \u001b[32m━━━━━━━━━━━━━━━━━━━━\u001b[0m\u001b[37m\u001b[0m \u001b[1m2s\u001b[0m 15ms/step - accuracy: 0.4191 - loss: -139902.1562 - val_accuracy: 0.3772 - val_loss: -151679.8125\n",
      "Epoch 20/20\n",
      "\u001b[1m108/108\u001b[0m \u001b[32m━━━━━━━━━━━━━━━━━━━━\u001b[0m\u001b[37m\u001b[0m \u001b[1m2s\u001b[0m 15ms/step - accuracy: 0.4239 - loss: -161649.1406 - val_accuracy: 0.3784 - val_loss: -173870.7656\n"
     ]
    }
   ],
   "source": [
    "from keras.callbacks import EarlyStopping, ModelCheckpoint\n",
    "\n",
    "# กำหนดการตั้งค่า Early Stopping และ Model Checkpoint\n",
    "early_stopping = EarlyStopping(monitor='val_loss', patience=5, restore_best_weights=True)\n",
    "model_checkpoint = ModelCheckpoint('../../models/BiLSTM_models_sample.keras', monitor='val_loss', save_best_only=True)  # เปลี่ยนจาก .h5 เป็น .keras\n",
    "\n",
    "# ฝึกโมเดล\n",
    "\n",
    "history = model_cnn.fit(X_train_resampled, \n",
    "                 y_train_resampled, \n",
    "                 epochs=20, \n",
    "                 batch_size=64, \n",
    "                 callbacks=[early_stopping, model_checkpoint],\n",
    "                 validation_data=(X_val, y_val),\n",
    "                 class_weight=None)\n",
    "\n"
   ]
  },
  {
   "cell_type": "code",
   "execution_count": 26,
   "metadata": {},
   "outputs": [
    {
     "data": {
      "image/png": "[encoded data removed]",
      "text/plain": [
       "<Figure size 1200x500 with 2 Axes>"
      ]
     },
     "metadata": {},
     "output_type": "display_data"
    }
   ],
   "source": [
    "import matplotlib.pyplot as plt\n",
    "\n",
    "acc = history.history['accuracy']      # Training accuracy\n",
    "val_acc = history.history['val_accuracy']  # Validation accuracy\n",
    "loss = history.history['loss']         # Training loss\n",
    "val_loss = history.history['val_loss']  # Validation loss\n",
    "\n",
    "# Plot Accuracy\n",
    "plt.figure(figsize=(12, 5))\n",
    "plt.subplot(1, 2, 1)  # Create subplot for accuracy\n",
    "plt.plot(acc, label='Training Accuracy')\n",
    "plt.plot(val_acc, label='Validation Accuracy')\n",
    "plt.title('Training and Validation Accuracy')\n",
    "plt.xlabel('Epoch')\n",
    "plt.ylabel('Accuracy')\n",
    "plt.legend()\n",
    "\n",
    "# Plot Loss\n",
    "plt.subplot(1, 2, 2)  # Create subplot for loss\n",
    "plt.plot(loss, label='Training Loss')\n",
    "plt.plot(val_loss, label='Validation Loss')\n",
    "plt.title('Training and Validation Loss')\n",
    "plt.xlabel('Epoch')\n",
    "plt.ylabel('Loss')\n",
    "plt.legend()\n",
    "\n",
    "# Display the plots\n",
    "plt.tight_layout()\n",
    "plt.show()"
   ]
  },
  {
   "cell_type": "code",
   "execution_count": 28,
   "metadata": {},
   "outputs": [],
   "source": [
    "from sklearn.ensemble import RandomForestClassifier, GradientBoostingClassifier\n",
    "from sklearn.metrics import accuracy_score, confusion_matrix\n",
    "from keras.models import load_model\n",
    "\n",
    "# โหลดโมเดล LSTM ที่ดีที่สุด\n",
    "best_model = load_model('../../models/CNN_models_sample.keras')"
   ]
  },
  {
   "cell_type": "code",
   "execution_count": 29,
   "metadata": {},
   "outputs": [
    {
     "name": "stdout",
     "output_type": "stream",
     "text": [
      "\u001b[1m54/54\u001b[0m \u001b[32m━━━━━━━━━━━━━━━━━━━━\u001b[0m\u001b[37m\u001b[0m \u001b[1m0s\u001b[0m 3ms/step\n",
      "              precision    recall  f1-score   support\n",
      "\n",
      "           0       0.00      0.00      0.00       589\n",
      "           1       0.00      0.00      0.00       544\n",
      "           2       0.34      1.00      0.51       590\n",
      "\n",
      "    accuracy                           0.34      1723\n",
      "   macro avg       0.11      0.33      0.17      1723\n",
      "weighted avg       0.12      0.34      0.17      1723\n",
      "\n",
      "[[  0   0 589]\n",
      " [  0   0 544]\n",
      " [  0   0 590]]\n"
     ]
    },
    {
     "name": "stderr",
     "output_type": "stream",
     "text": [
      "/Users/ittichaiboonyarakthunya/Library/Caches/pypoetry/virtualenvs/is-project-thailand-tourism-recommendation-qwL-LsgH-py3.12/lib/python3.12/site-packages/sklearn/metrics/_classification.py:1531: UndefinedMetricWarning: Precision is ill-defined and being set to 0.0 in labels with no predicted samples. Use `zero_division` parameter to control this behavior.\n",
      "  _warn_prf(average, modifier, f\"{metric.capitalize()} is\", len(result))\n",
      "/Users/ittichaiboonyarakthunya/Library/Caches/pypoetry/virtualenvs/is-project-thailand-tourism-recommendation-qwL-LsgH-py3.12/lib/python3.12/site-packages/sklearn/metrics/_classification.py:1531: UndefinedMetricWarning: Precision is ill-defined and being set to 0.0 in labels with no predicted samples. Use `zero_division` parameter to control this behavior.\n",
      "  _warn_prf(average, modifier, f\"{metric.capitalize()} is\", len(result))\n",
      "/Users/ittichaiboonyarakthunya/Library/Caches/pypoetry/virtualenvs/is-project-thailand-tourism-recommendation-qwL-LsgH-py3.12/lib/python3.12/site-packages/sklearn/metrics/_classification.py:1531: UndefinedMetricWarning: Precision is ill-defined and being set to 0.0 in labels with no predicted samples. Use `zero_division` parameter to control this behavior.\n",
      "  _warn_prf(average, modifier, f\"{metric.capitalize()} is\", len(result))\n"
     ]
    }
   ],
   "source": [
    "# ใช้โมเดล LSTM ทำนายข้อมูล validation set\n",
    "lstm_preds = best_model.predict(X_val)\n",
    "lstm_preds = np.argmax(lstm_preds, axis=1)\n",
    "\n",
    "# ฝึก Gradient Boosting Classifier บนผลลัพธ์จาก LSTM\n",
    "gb_clf = GradientBoostingClassifier(n_estimators=100, random_state=42)\n",
    "gb_clf.fit(lstm_preds.reshape(-1, 1), y_val)\n",
    "\n",
    "# ทำนายผลลัพธ์ด้วย Gradient Boosting\n",
    "ensemble_preds = gb_clf.predict(lstm_preds.reshape(-1, 1))\n",
    "\n",
    "# ตรวจสอบผลลัพธ์\n",
    "print(classification_report(y_val, ensemble_preds))\n",
    "print(confusion_matrix(y_val, ensemble_preds))"
   ]
  },
  {
   "cell_type": "code",
   "execution_count": 30,
   "metadata": {},
   "outputs": [
    {
     "name": "stdout",
     "output_type": "stream",
     "text": [
      "\u001b[1m54/54\u001b[0m \u001b[32m━━━━━━━━━━━━━━━━━━━━\u001b[0m\u001b[37m\u001b[0m \u001b[1m0s\u001b[0m 2ms/step\n",
      "              precision    recall  f1-score   support\n",
      "\n",
      "           0       0.34      1.00      0.51       589\n",
      "           1       0.00      0.00      0.00       544\n",
      "           2       0.00      0.00      0.00       590\n",
      "\n",
      "    accuracy                           0.34      1723\n",
      "   macro avg       0.11      0.33      0.17      1723\n",
      "weighted avg       0.12      0.34      0.17      1723\n",
      "\n",
      "[[589   0   0]\n",
      " [544   0   0]\n",
      " [590   0   0]]\n"
     ]
    },
    {
     "name": "stderr",
     "output_type": "stream",
     "text": [
      "/Users/ittichaiboonyarakthunya/Library/Caches/pypoetry/virtualenvs/is-project-thailand-tourism-recommendation-qwL-LsgH-py3.12/lib/python3.12/site-packages/sklearn/metrics/_classification.py:1531: UndefinedMetricWarning: Precision is ill-defined and being set to 0.0 in labels with no predicted samples. Use `zero_division` parameter to control this behavior.\n",
      "  _warn_prf(average, modifier, f\"{metric.capitalize()} is\", len(result))\n",
      "/Users/ittichaiboonyarakthunya/Library/Caches/pypoetry/virtualenvs/is-project-thailand-tourism-recommendation-qwL-LsgH-py3.12/lib/python3.12/site-packages/sklearn/metrics/_classification.py:1531: UndefinedMetricWarning: Precision is ill-defined and being set to 0.0 in labels with no predicted samples. Use `zero_division` parameter to control this behavior.\n",
      "  _warn_prf(average, modifier, f\"{metric.capitalize()} is\", len(result))\n",
      "/Users/ittichaiboonyarakthunya/Library/Caches/pypoetry/virtualenvs/is-project-thailand-tourism-recommendation-qwL-LsgH-py3.12/lib/python3.12/site-packages/sklearn/metrics/_classification.py:1531: UndefinedMetricWarning: Precision is ill-defined and being set to 0.0 in labels with no predicted samples. Use `zero_division` parameter to control this behavior.\n",
      "  _warn_prf(average, modifier, f\"{metric.capitalize()} is\", len(result))\n"
     ]
    }
   ],
   "source": [
    "lstm_preds = best_model.predict(X_val)\n",
    "lstm_preds = np.argmax(lstm_preds, axis=1)\n",
    "\n",
    "print(classification_report(y_val, lstm_preds))\n",
    "print(confusion_matrix(y_val, lstm_preds))"
   ]
  },
  {
   "cell_type": "code",
   "execution_count": 31,
   "metadata": {},
   "outputs": [
    {
     "name": "stdout",
     "output_type": "stream",
     "text": [
      "Random Forest Accuracy: 0.8276262333139872\n",
      "Gradient Boosting Accuracy: 0.6604759141033082\n"
     ]
    }
   ],
   "source": [
    "# สร้างโมเดล Random Forest (Bagging)\n",
    "rf_model = RandomForestClassifier(n_estimators=100, random_state=42)\n",
    "rf_model.fit(X_train_resampled, y_train_resampled)\n",
    "rf_predictions = rf_model.predict(X_val)\n",
    "\n",
    "# สร้างโมเดล Gradient Boosting (Boosting)\n",
    "gb_model = GradientBoostingClassifier(n_estimators=100, random_state=42)\n",
    "gb_model.fit(X_train_resampled, y_train_resampled)\n",
    "gb_predictions = gb_model.predict(X_val)\n",
    "\n",
    "# วัดผลลัพธ์ของแต่ละโมเดล\n",
    "print(\"Random Forest Accuracy:\", accuracy_score(y_val, rf_predictions))\n",
    "print(\"Gradient Boosting Accuracy:\", accuracy_score(y_val, gb_predictions))"
   ]
  },
  {
   "cell_type": "code",
   "execution_count": 97,
   "metadata": {},
   "outputs": [
    {
     "name": "stdout",
     "output_type": "stream",
     "text": [
      "Voting Ensemble Accuracy: 0.6993615786419036\n"
     ]
    }
   ],
   "source": [
    "# Ensemble วิธี Voting (Hard Voting)\n",
    "from sklearn.ensemble import VotingClassifier\n",
    "\n",
    "# รวมโมเดลทั้งสองด้วยการ Voting\n",
    "voting_model = VotingClassifier(estimators=[\n",
    "    ('rf', rf_model), ('gb', gb_model)],\n",
    "    voting='hard')\n",
    "\n",
    "voting_model.fit(X_train_resampled, y_train_resampled)\n",
    "voting_predictions = voting_model.predict(X_val)\n",
    "\n",
    "# วัดผลลัพธ์จากการใช้ Voting\n",
    "print(\"Voting Ensemble Accuracy:\", accuracy_score(y_val, voting_predictions))"
   ]
  },
  {
   "cell_type": "code",
   "execution_count": 98,
   "metadata": {},
   "outputs": [
    {
     "data": {
      "text/plain": [
       "4205    2\n",
       "1665    1\n",
       "3121    2\n",
       "3126    2\n",
       "3688    0\n",
       "       ..\n",
       "8510    1\n",
       "7445    2\n",
       "2132    0\n",
       "247     1\n",
       "4011    2\n",
       "Name: sentiment, Length: 1723, dtype: int64"
      ]
     },
     "execution_count": 98,
     "metadata": {},
     "output_type": "execute_result"
    }
   ],
   "source": [
    "y_val"
   ]
  },
  {
   "cell_type": "code",
   "execution_count": 112,
   "metadata": {},
   "outputs": [
    {
     "name": "stdout",
     "output_type": "stream",
     "text": [
      "Common indices count: 1170\n",
      "Missing indices count: 553\n"
     ]
    }
   ],
   "source": [
    "common_indices = y_val.index.intersection(review_df.index)\n",
    "missing_indices = y_val.index.difference(review_df.index)\n",
    "print(f\"Common indices count: {len(common_indices)}\")\n",
    "print(f\"Missing indices count: {len(missing_indices)}\")"
   ]
  },
  {
   "cell_type": "code",
   "execution_count": 110,
   "metadata": {},
   "outputs": [],
   "source": [
    "# y_val = y_val.iloc[:-1]"
   ]
  },
  {
   "cell_type": "code",
   "execution_count": 107,
   "metadata": {},
   "outputs": [],
   "source": [
    "predict_label = y_val"
   ]
  },
  {
   "cell_type": "code",
   "execution_count": 113,
   "metadata": {},
   "outputs": [],
   "source": [
    "redicted_df = pd.DataFrame({'predicted': ensemble_preds}, index=y_val.index)\n",
    "    \n",
    "    # Concatenate y_val and the new predicted_df to create a new DataFrame\n",
    "predict_df = pd.concat([y_val, redicted_df], axis=1)"
   ]
  },
  {
   "cell_type": "code",
   "execution_count": 115,
   "metadata": {},
   "outputs": [
    {
     "data": {
      "text/html": [
       "<div>\n",
       "<style scoped>\n",
       "    .dataframe tbody tr th:only-of-type {\n",
       "        vertical-align: middle;\n",
       "    }\n",
       "\n",
       "    .dataframe tbody tr th {\n",
       "        vertical-align: top;\n",
       "    }\n",
       "\n",
       "    .dataframe thead th {\n",
       "        text-align: right;\n",
       "    }\n",
       "</style>\n",
       "<table border=\"1\" class=\"dataframe\">\n",
       "  <thead>\n",
       "    <tr style=\"text-align: right;\">\n",
       "      <th></th>\n",
       "      <th>sentiment</th>\n",
       "      <th>predicted</th>\n",
       "    </tr>\n",
       "  </thead>\n",
       "  <tbody>\n",
       "    <tr>\n",
       "      <th>4205</th>\n",
       "      <td>2</td>\n",
       "      <td>1</td>\n",
       "    </tr>\n",
       "    <tr>\n",
       "      <th>1665</th>\n",
       "      <td>1</td>\n",
       "      <td>1</td>\n",
       "    </tr>\n",
       "    <tr>\n",
       "      <th>3121</th>\n",
       "      <td>2</td>\n",
       "      <td>2</td>\n",
       "    </tr>\n",
       "    <tr>\n",
       "      <th>3126</th>\n",
       "      <td>2</td>\n",
       "      <td>1</td>\n",
       "    </tr>\n",
       "    <tr>\n",
       "      <th>3688</th>\n",
       "      <td>0</td>\n",
       "      <td>0</td>\n",
       "    </tr>\n",
       "    <tr>\n",
       "      <th>...</th>\n",
       "      <td>...</td>\n",
       "      <td>...</td>\n",
       "    </tr>\n",
       "    <tr>\n",
       "      <th>8510</th>\n",
       "      <td>1</td>\n",
       "      <td>1</td>\n",
       "    </tr>\n",
       "    <tr>\n",
       "      <th>7445</th>\n",
       "      <td>2</td>\n",
       "      <td>2</td>\n",
       "    </tr>\n",
       "    <tr>\n",
       "      <th>2132</th>\n",
       "      <td>0</td>\n",
       "      <td>0</td>\n",
       "    </tr>\n",
       "    <tr>\n",
       "      <th>247</th>\n",
       "      <td>1</td>\n",
       "      <td>1</td>\n",
       "    </tr>\n",
       "    <tr>\n",
       "      <th>4011</th>\n",
       "      <td>2</td>\n",
       "      <td>2</td>\n",
       "    </tr>\n",
       "  </tbody>\n",
       "</table>\n",
       "<p>1723 rows × 2 columns</p>\n",
       "</div>"
      ],
      "text/plain": [
       "     sentiment  predicted\n",
       "4205         2          1\n",
       "1665         1          1\n",
       "3121         2          2\n",
       "3126         2          1\n",
       "3688         0          0\n",
       "...        ...        ...\n",
       "8510         1          1\n",
       "7445         2          2\n",
       "2132         0          0\n",
       "247          1          1\n",
       "4011         2          2\n",
       "\n",
       "[1723 rows x 2 columns]"
      ]
     },
     "execution_count": 115,
     "metadata": {},
     "output_type": "execute_result"
    }
   ],
   "source": [
    "predict_df"
   ]
  },
  {
   "cell_type": "code",
   "execution_count": 116,
   "metadata": {},
   "outputs": [],
   "source": [
    "valid_y_val = predict_df.loc[predict_df.index.isin(review_df.index)]\n",
    "\n",
    "# Now you can safely use .loc with valid_y_val indices\n",
    "filtered_reviews = review_df.loc[valid_y_val.index]"
   ]
  },
  {
   "cell_type": "code",
   "execution_count": 117,
   "metadata": {},
   "outputs": [
    {
     "data": {
      "text/html": [
       "<div>\n",
       "<style scoped>\n",
       "    .dataframe tbody tr th:only-of-type {\n",
       "        vertical-align: middle;\n",
       "    }\n",
       "\n",
       "    .dataframe tbody tr th {\n",
       "        vertical-align: top;\n",
       "    }\n",
       "\n",
       "    .dataframe thead th {\n",
       "        text-align: right;\n",
       "    }\n",
       "</style>\n",
       "<table border=\"1\" class=\"dataframe\">\n",
       "  <thead>\n",
       "    <tr style=\"text-align: right;\">\n",
       "      <th></th>\n",
       "      <th>helpful_votes</th>\n",
       "      <th>location_id</th>\n",
       "      <th>review_id</th>\n",
       "      <th>review</th>\n",
       "      <th>review_subject</th>\n",
       "      <th>trip_type</th>\n",
       "      <th>rating</th>\n",
       "      <th>location_name</th>\n",
       "      <th>province</th>\n",
       "      <th>place_id</th>\n",
       "      <th>emotion</th>\n",
       "      <th>cleaned_review</th>\n",
       "      <th>embedding</th>\n",
       "      <th>sentiment</th>\n",
       "    </tr>\n",
       "  </thead>\n",
       "  <tbody>\n",
       "    <tr>\n",
       "      <th>4205</th>\n",
       "      <td>0</td>\n",
       "      <td>11867768</td>\n",
       "      <td>660193827</td>\n",
       "      <td>The place is a real gem, nestling in the cool ...</td>\n",
       "      <td>Not to be Missed!</td>\n",
       "      <td>Couples</td>\n",
       "      <td>5</td>\n",
       "      <td>The Royal Agricultural Station Angkhang</td>\n",
       "      <td>Phetchabun</td>\n",
       "      <td>P03012884</td>\n",
       "      <td>joy</td>\n",
       "      <td>place real gem nestling cool green upland doi ...</td>\n",
       "      <td>[[-0.0031354371458292007, 0.08185625076293945,...</td>\n",
       "      <td>positive</td>\n",
       "    </tr>\n",
       "    <tr>\n",
       "      <th>1665</th>\n",
       "      <td>0</td>\n",
       "      <td>16868178</td>\n",
       "      <td>893223254</td>\n",
       "      <td>Nice view, but you need to be be careful when ...</td>\n",
       "      <td>Nice view</td>\n",
       "      <td>Friends getaway</td>\n",
       "      <td>5</td>\n",
       "      <td>Chado Cliff Viewpoint</td>\n",
       "      <td>Phra Nakhon Si Ayutthaya</td>\n",
       "      <td>P03017905</td>\n",
       "      <td>joy</td>\n",
       "      <td>nice view need careful hiking natural trail be...</td>\n",
       "      <td>[[-0.026523858308792114, 0.24474334716796875, ...</td>\n",
       "      <td>positive</td>\n",
       "    </tr>\n",
       "    <tr>\n",
       "      <th>3121</th>\n",
       "      <td>1</td>\n",
       "      <td>556614</td>\n",
       "      <td>874997345</td>\n",
       "      <td>Doi Mae Salong is a beautiful and interesting ...</td>\n",
       "      <td>Beautiful and peaceful</td>\n",
       "      <td>NONE</td>\n",
       "      <td>5</td>\n",
       "      <td>Doi Mae Salong</td>\n",
       "      <td>Nakhon Sawan</td>\n",
       "      <td>P03016134</td>\n",
       "      <td>joy</td>\n",
       "      <td>doi mae salong beautiful interesting place vis...</td>\n",
       "      <td>[[0.0, 0.0, 0.0, 0.0, 0.0, 0.0, 0.0, 0.0, 0.0,...</td>\n",
       "      <td>positive</td>\n",
       "    </tr>\n",
       "    <tr>\n",
       "      <th>3126</th>\n",
       "      <td>0</td>\n",
       "      <td>6669517</td>\n",
       "      <td>632751727</td>\n",
       "      <td>Located on the way we back to our accommodatio...</td>\n",
       "      <td>temple that next to the road</td>\n",
       "      <td>Couples</td>\n",
       "      <td>3</td>\n",
       "      <td>Chedi Phra Borommasaririkkathat Khao Kho</td>\n",
       "      <td>Nakhon Sawan</td>\n",
       "      <td>P03016132</td>\n",
       "      <td>joy</td>\n",
       "      <td>located way back accommodation look time avail...</td>\n",
       "      <td>[[-0.010012944228947163, 0.07716846466064453, ...</td>\n",
       "      <td>neutral</td>\n",
       "    </tr>\n",
       "    <tr>\n",
       "      <th>3688</th>\n",
       "      <td>1</td>\n",
       "      <td>7659431</td>\n",
       "      <td>613000573</td>\n",
       "      <td>i stayed on koh larn at the castello resort ov...</td>\n",
       "      <td>i love this island so much</td>\n",
       "      <td>Solo travel</td>\n",
       "      <td>5</td>\n",
       "      <td>Thong Lang Beach</td>\n",
       "      <td>Sukhothai</td>\n",
       "      <td>P03025214</td>\n",
       "      <td>joy</td>\n",
       "      <td>stayed koh larn castello resort christmas enjo...</td>\n",
       "      <td>[[5.367626727093011e-05, 0.012896074913442135,...</td>\n",
       "      <td>positive</td>\n",
       "    </tr>\n",
       "    <tr>\n",
       "      <th>...</th>\n",
       "      <td>...</td>\n",
       "      <td>...</td>\n",
       "      <td>...</td>\n",
       "      <td>...</td>\n",
       "      <td>...</td>\n",
       "      <td>...</td>\n",
       "      <td>...</td>\n",
       "      <td>...</td>\n",
       "      <td>...</td>\n",
       "      <td>...</td>\n",
       "      <td>...</td>\n",
       "      <td>...</td>\n",
       "      <td>...</td>\n",
       "      <td>...</td>\n",
       "    </tr>\n",
       "    <tr>\n",
       "      <th>469</th>\n",
       "      <td>0</td>\n",
       "      <td>8874054</td>\n",
       "      <td>875897422</td>\n",
       "      <td>Chaio por Phawo Shrine is the most popular pra...</td>\n",
       "      <td>Most Respect shine in Mae sot People</td>\n",
       "      <td>NONE</td>\n",
       "      <td>5</td>\n",
       "      <td>Chao Por Phawo Shrine</td>\n",
       "      <td>Nonthaburi</td>\n",
       "      <td>P03016494</td>\n",
       "      <td>joy</td>\n",
       "      <td>chaio por phawo shrine popular pray respect pl...</td>\n",
       "      <td>[[-0.013652702793478966, 0.11288685351610184, ...</td>\n",
       "      <td>positive</td>\n",
       "    </tr>\n",
       "    <tr>\n",
       "      <th>4129</th>\n",
       "      <td>1</td>\n",
       "      <td>1307603</td>\n",
       "      <td>750690836</td>\n",
       "      <td>Took a fast boat for a magical day at Hapla Be...</td>\n",
       "      <td>Blissful</td>\n",
       "      <td>Couples</td>\n",
       "      <td>5</td>\n",
       "      <td>Koh Kho Khao Island</td>\n",
       "      <td>Phetchabun</td>\n",
       "      <td>P03004050</td>\n",
       "      <td>joy</td>\n",
       "      <td>took fast boat magical day hapla beach real ro...</td>\n",
       "      <td>[[0.0, 0.0, 0.0, 0.0, 0.0, 0.0, 0.0, 0.0, 0.0,...</td>\n",
       "      <td>positive</td>\n",
       "    </tr>\n",
       "    <tr>\n",
       "      <th>2132</th>\n",
       "      <td>0</td>\n",
       "      <td>554864</td>\n",
       "      <td>696305303</td>\n",
       "      <td>in the twelfe-year animal cycle the rabbit is ...</td>\n",
       "      <td>the rabbit temple</td>\n",
       "      <td>Couples</td>\n",
       "      <td>5</td>\n",
       "      <td>Wat Phrathat Chae Haeng</td>\n",
       "      <td>Sing Buri</td>\n",
       "      <td>P03013402</td>\n",
       "      <td>joy</td>\n",
       "      <td>twelfeyear animal cycle rabbit one wat phra ch...</td>\n",
       "      <td>[[0.0, 0.0, 0.0, 0.0, 0.0, 0.0, 0.0, 0.0, 0.0,...</td>\n",
       "      <td>positive</td>\n",
       "    </tr>\n",
       "    <tr>\n",
       "      <th>247</th>\n",
       "      <td>0</td>\n",
       "      <td>25571501</td>\n",
       "      <td>929540899</td>\n",
       "      <td>We went on a weekday and was pleased that this...</td>\n",
       "      <td>Best Jodd Fair</td>\n",
       "      <td>Friends getaway</td>\n",
       "      <td>5</td>\n",
       "      <td>Jodd Fairs DanNeramit</td>\n",
       "      <td>Bangkok</td>\n",
       "      <td>P03022261</td>\n",
       "      <td>joy</td>\n",
       "      <td>went weekday pleased jodd fair wasnt packed ma...</td>\n",
       "      <td>[[-0.0012631779536604881, 0.031852032989263535...</td>\n",
       "      <td>positive</td>\n",
       "    </tr>\n",
       "    <tr>\n",
       "      <th>4011</th>\n",
       "      <td>1</td>\n",
       "      <td>2359241</td>\n",
       "      <td>931977927</td>\n",
       "      <td>A small group of shops and restaurants created...</td>\n",
       "      <td>A manufactured village …</td>\n",
       "      <td>Family</td>\n",
       "      <td>3</td>\n",
       "      <td>Turtle Village Shops &amp; Cuisine</td>\n",
       "      <td>Phichit</td>\n",
       "      <td>P03018368</td>\n",
       "      <td>joy</td>\n",
       "      <td>small group shop restaurant created support co...</td>\n",
       "      <td>[[5.367626727093011e-05, 0.012896074913442135,...</td>\n",
       "      <td>neutral</td>\n",
       "    </tr>\n",
       "  </tbody>\n",
       "</table>\n",
       "<p>1170 rows × 14 columns</p>\n",
       "</div>"
      ],
      "text/plain": [
       "      helpful_votes  location_id  review_id  \\\n",
       "4205              0     11867768  660193827   \n",
       "1665              0     16868178  893223254   \n",
       "3121              1       556614  874997345   \n",
       "3126              0      6669517  632751727   \n",
       "3688              1      7659431  613000573   \n",
       "...             ...          ...        ...   \n",
       "469               0      8874054  875897422   \n",
       "4129              1      1307603  750690836   \n",
       "2132              0       554864  696305303   \n",
       "247               0     25571501  929540899   \n",
       "4011              1      2359241  931977927   \n",
       "\n",
       "                                                 review  \\\n",
       "4205  The place is a real gem, nestling in the cool ...   \n",
       "1665  Nice view, but you need to be be careful when ...   \n",
       "3121  Doi Mae Salong is a beautiful and interesting ...   \n",
       "3126  Located on the way we back to our accommodatio...   \n",
       "3688  i stayed on koh larn at the castello resort ov...   \n",
       "...                                                 ...   \n",
       "469   Chaio por Phawo Shrine is the most popular pra...   \n",
       "4129  Took a fast boat for a magical day at Hapla Be...   \n",
       "2132  in the twelfe-year animal cycle the rabbit is ...   \n",
       "247   We went on a weekday and was pleased that this...   \n",
       "4011  A small group of shops and restaurants created...   \n",
       "\n",
       "                            review_subject        trip_type  rating  \\\n",
       "4205                     Not to be Missed!          Couples       5   \n",
       "1665                             Nice view  Friends getaway       5   \n",
       "3121                Beautiful and peaceful             NONE       5   \n",
       "3126          temple that next to the road          Couples       3   \n",
       "3688            i love this island so much      Solo travel       5   \n",
       "...                                    ...              ...     ...   \n",
       "469   Most Respect shine in Mae sot People             NONE       5   \n",
       "4129                              Blissful          Couples       5   \n",
       "2132                     the rabbit temple          Couples       5   \n",
       "247                         Best Jodd Fair  Friends getaway       5   \n",
       "4011              A manufactured village …           Family       3   \n",
       "\n",
       "                                 location_name                  province  \\\n",
       "4205   The Royal Agricultural Station Angkhang                Phetchabun   \n",
       "1665                     Chado Cliff Viewpoint  Phra Nakhon Si Ayutthaya   \n",
       "3121                            Doi Mae Salong              Nakhon Sawan   \n",
       "3126  Chedi Phra Borommasaririkkathat Khao Kho              Nakhon Sawan   \n",
       "3688                          Thong Lang Beach                 Sukhothai   \n",
       "...                                        ...                       ...   \n",
       "469                      Chao Por Phawo Shrine                Nonthaburi   \n",
       "4129                       Koh Kho Khao Island                Phetchabun   \n",
       "2132                   Wat Phrathat Chae Haeng                 Sing Buri   \n",
       "247                      Jodd Fairs DanNeramit                   Bangkok   \n",
       "4011            Turtle Village Shops & Cuisine                   Phichit   \n",
       "\n",
       "       place_id emotion                                     cleaned_review  \\\n",
       "4205  P03012884     joy  place real gem nestling cool green upland doi ...   \n",
       "1665  P03017905     joy  nice view need careful hiking natural trail be...   \n",
       "3121  P03016134     joy  doi mae salong beautiful interesting place vis...   \n",
       "3126  P03016132     joy  located way back accommodation look time avail...   \n",
       "3688  P03025214     joy  stayed koh larn castello resort christmas enjo...   \n",
       "...         ...     ...                                                ...   \n",
       "469   P03016494     joy  chaio por phawo shrine popular pray respect pl...   \n",
       "4129  P03004050     joy  took fast boat magical day hapla beach real ro...   \n",
       "2132  P03013402     joy  twelfeyear animal cycle rabbit one wat phra ch...   \n",
       "247   P03022261     joy  went weekday pleased jodd fair wasnt packed ma...   \n",
       "4011  P03018368     joy  small group shop restaurant created support co...   \n",
       "\n",
       "                                              embedding sentiment  \n",
       "4205  [[-0.0031354371458292007, 0.08185625076293945,...  positive  \n",
       "1665  [[-0.026523858308792114, 0.24474334716796875, ...  positive  \n",
       "3121  [[0.0, 0.0, 0.0, 0.0, 0.0, 0.0, 0.0, 0.0, 0.0,...  positive  \n",
       "3126  [[-0.010012944228947163, 0.07716846466064453, ...   neutral  \n",
       "3688  [[5.367626727093011e-05, 0.012896074913442135,...  positive  \n",
       "...                                                 ...       ...  \n",
       "469   [[-0.013652702793478966, 0.11288685351610184, ...  positive  \n",
       "4129  [[0.0, 0.0, 0.0, 0.0, 0.0, 0.0, 0.0, 0.0, 0.0,...  positive  \n",
       "2132  [[0.0, 0.0, 0.0, 0.0, 0.0, 0.0, 0.0, 0.0, 0.0,...  positive  \n",
       "247   [[-0.0012631779536604881, 0.031852032989263535...  positive  \n",
       "4011  [[5.367626727093011e-05, 0.012896074913442135,...   neutral  \n",
       "\n",
       "[1170 rows x 14 columns]"
      ]
     },
     "execution_count": 117,
     "metadata": {},
     "output_type": "execute_result"
    }
   ],
   "source": [
    "filtered_reviews"
   ]
  },
  {
   "cell_type": "code",
   "execution_count": 150,
   "metadata": {},
   "outputs": [
    {
     "data": {
      "text/html": [
       "<div>\n",
       "<style scoped>\n",
       "    .dataframe tbody tr th:only-of-type {\n",
       "        vertical-align: middle;\n",
       "    }\n",
       "\n",
       "    .dataframe tbody tr th {\n",
       "        vertical-align: top;\n",
       "    }\n",
       "\n",
       "    .dataframe thead th {\n",
       "        text-align: right;\n",
       "    }\n",
       "</style>\n",
       "<table border=\"1\" class=\"dataframe\">\n",
       "  <thead>\n",
       "    <tr style=\"text-align: right;\">\n",
       "      <th></th>\n",
       "      <th>location_id</th>\n",
       "      <th>location_name</th>\n",
       "      <th>trip_type</th>\n",
       "      <th>rating</th>\n",
       "      <th>helpful_voting</th>\n",
       "      <th>review_text</th>\n",
       "      <th>actual_sentiment</th>\n",
       "      <th>predicted_sentiment</th>\n",
       "    </tr>\n",
       "  </thead>\n",
       "  <tbody>\n",
       "    <tr>\n",
       "      <th>8</th>\n",
       "      <td>2273363.0</td>\n",
       "      <td>Wat Rajapradit Sathitmahasimaram Rajaworavihara</td>\n",
       "      <td>NONE</td>\n",
       "      <td>5.0</td>\n",
       "      <td>2.0</td>\n",
       "      <td>One of the least crowded temples but very beau...</td>\n",
       "      <td>2</td>\n",
       "      <td>1</td>\n",
       "    </tr>\n",
       "    <tr>\n",
       "      <th>14</th>\n",
       "      <td>311043.0</td>\n",
       "      <td>Wat Phra Chetuphon</td>\n",
       "      <td>Couples</td>\n",
       "      <td>5.0</td>\n",
       "      <td>0.0</td>\n",
       "      <td>The designs, the Buddhas, and other figures fe...</td>\n",
       "      <td>1</td>\n",
       "      <td>1</td>\n",
       "    </tr>\n",
       "    <tr>\n",
       "      <th>17</th>\n",
       "      <td>317504.0</td>\n",
       "      <td>Temple Of Dawn (Wat Arun)</td>\n",
       "      <td>Solo travel</td>\n",
       "      <td>5.0</td>\n",
       "      <td>15.0</td>\n",
       "      <td>Known as Temple of Dawn, I went to this temple...</td>\n",
       "      <td>0</td>\n",
       "      <td>0</td>\n",
       "    </tr>\n",
       "    <tr>\n",
       "      <th>19</th>\n",
       "      <td>317504.0</td>\n",
       "      <td>Temple Of Dawn (Wat Arun)</td>\n",
       "      <td>Family</td>\n",
       "      <td>4.0</td>\n",
       "      <td>0.0</td>\n",
       "      <td>I have to admit that this is a place i have al...</td>\n",
       "      <td>0</td>\n",
       "      <td>0</td>\n",
       "    </tr>\n",
       "    <tr>\n",
       "      <th>23</th>\n",
       "      <td>456322.0</td>\n",
       "      <td>Wat Umong</td>\n",
       "      <td>Family</td>\n",
       "      <td>5.0</td>\n",
       "      <td>0.0</td>\n",
       "      <td>The visit to this temple was a good pick for u...</td>\n",
       "      <td>1</td>\n",
       "      <td>2</td>\n",
       "    </tr>\n",
       "  </tbody>\n",
       "</table>\n",
       "</div>"
      ],
      "text/plain": [
       "    location_id                                    location_name    trip_type  \\\n",
       "8     2273363.0  Wat Rajapradit Sathitmahasimaram Rajaworavihara         NONE   \n",
       "14     311043.0                               Wat Phra Chetuphon      Couples   \n",
       "17     317504.0                        Temple Of Dawn (Wat Arun)  Solo travel   \n",
       "19     317504.0                        Temple Of Dawn (Wat Arun)       Family   \n",
       "23     456322.0                                        Wat Umong       Family   \n",
       "\n",
       "    rating  helpful_voting                                        review_text  \\\n",
       "8      5.0             2.0  One of the least crowded temples but very beau...   \n",
       "14     5.0             0.0  The designs, the Buddhas, and other figures fe...   \n",
       "17     5.0            15.0  Known as Temple of Dawn, I went to this temple...   \n",
       "19     4.0             0.0  I have to admit that this is a place i have al...   \n",
       "23     5.0             0.0  The visit to this temple was a good pick for u...   \n",
       "\n",
       "   actual_sentiment  predicted_sentiment  \n",
       "8                 2                    1  \n",
       "14                1                    1  \n",
       "17                0                    0  \n",
       "19                0                    0  \n",
       "23                1                    2  "
      ]
     },
     "execution_count": 150,
     "metadata": {},
     "output_type": "execute_result"
    }
   ],
   "source": [
    "\n",
    "predictions_df = pd.DataFrame({\n",
    "    'location_id': filtered_reviews['location_id'],\n",
    "    'location_name': filtered_reviews['location_name'],\n",
    "    'trip_type': filtered_reviews['trip_type'],\n",
    "    'rating': filtered_reviews['rating'],\n",
    "    'helpful_voting': filtered_reviews['helpful_votes'],\n",
    "    'review_text': filtered_reviews['review'],  # Assuming X_test is a subset with a specific index\n",
    "    'actual_sentiment': predict_df['sentiment'],  # The actual sentiment labels\n",
    "    'predicted_sentiment': predict_df['predicted']  # The predicted sentiment labels\n",
    "})\n",
    "\n",
    "# predictions_df['actual_sentiment'] = predictions_df['actual_sentiment'].map(label_mapping)\n",
    "# predictions_df['predicted_sentiment'] = predictions_df['predicted_sentiment'].map(label_mapping)\n",
    "\n",
    "predictions_df.head(5)\n"
   ]
  },
  {
   "cell_type": "code",
   "execution_count": 151,
   "metadata": {},
   "outputs": [],
   "source": [
    "predictions_df.to_csv('./output/LSTM_predictions.csv')"
   ]
  },
  {
   "cell_type": "code",
   "execution_count": 138,
   "metadata": {},
   "outputs": [],
   "source": [
    "y_val = y_val.astype(int)\n",
    "ensemble_preds_class = ensemble_preds.astype(int)\n"
   ]
  },
  {
   "cell_type": "code",
   "execution_count": 139,
   "metadata": {},
   "outputs": [
    {
     "name": "stdout",
     "output_type": "stream",
     "text": [
      "(1723,)\n",
      "(1723,)\n"
     ]
    }
   ],
   "source": [
    "print(y_val.shape)            # Shape of y_val\n",
    "print(ensemble_preds.shape) "
   ]
  },
  {
   "cell_type": "code",
   "execution_count": 140,
   "metadata": {},
   "outputs": [
    {
     "name": "stdout",
     "output_type": "stream",
     "text": [
      "Precision: 0.6930\n",
      "Recall: 0.6883\n",
      "F1-Score: 0.6807\n"
     ]
    }
   ],
   "source": [
    "from sklearn.metrics import precision_score, recall_score, f1_score\n",
    "\n",
    "# Calculate precision, recall, and F1-score directly using ensemble_preds\n",
    "precision = precision_score(y_val, ensemble_preds, average='weighted')\n",
    "recall = recall_score(y_val, ensemble_preds, average='weighted')\n",
    "f1 = f1_score(y_val, ensemble_preds, average='weighted')\n",
    "\n",
    "# Print the results\n",
    "print(f'Precision: {precision:.4f}')\n",
    "print(f'Recall: {recall:.4f}')\n",
    "print(f'F1-Score: {f1:.4f}')\n"
   ]
  },
  {
   "cell_type": "code",
   "execution_count": 167,
   "metadata": {},
   "outputs": [
    {
     "name": "stdout",
     "output_type": "stream",
     "text": [
      "Macro-Averaged AUC: 0.5000\n",
      "Micro-Averaged AUC: 0.8566\n"
     ]
    }
   ],
   "source": [
    "from sklearn.metrics import roc_auc_score\n",
    "from sklearn.preprocessing import label_binarize\n",
    "\n",
    "# Assume y_test contains true class labels, and y_pred_prob contains predicted probabilities\n",
    "\n",
    "# Binarize the output labels for calculating AUC\n",
    "y_test_bin = label_binarize(y_test, classes=[0, 1, 2])  # Assuming 3 classes: 0, 1, 2\n",
    "\n",
    "# Calculate the AUC for each class\n",
    "auc_macro = roc_auc_score(y_test_bin, y_pred_prob, average='macro', multi_class='ovr')\n",
    "auc_micro = roc_auc_score(y_test_bin, y_pred_prob, average='micro', multi_class='ovr')\n",
    "\n",
    "print(f'Macro-Averaged AUC: {auc_macro:.4f}')\n",
    "print(f'Micro-Averaged AUC: {auc_micro:.4f}')"
   ]
  },
  {
   "cell_type": "code",
   "execution_count": 165,
   "metadata": {},
   "outputs": [
    {
     "name": "stdout",
     "output_type": "stream",
     "text": [
      "Log Loss: 0.7264\n"
     ]
    }
   ],
   "source": [
    "from sklearn.metrics import log_loss\n",
    "\n",
    "# Calculate log loss\n",
    "log_loss_value = log_loss(y_test, y_pred_prob)\n",
    "print(f'Log Loss: {log_loss_value:.4f}')"
   ]
  },
  {
   "cell_type": "code",
   "execution_count": 166,
   "metadata": {},
   "outputs": [
    {
     "name": "stdout",
     "output_type": "stream",
     "text": [
      "Cohen's Kappa: 0.0000\n"
     ]
    }
   ],
   "source": [
    "from sklearn.metrics import cohen_kappa_score\n",
    "\n",
    "# Calculate Cohen's Kappa\n",
    "kappa = cohen_kappa_score(y_test, y_pred_class)\n",
    "print(f\"Cohen's Kappa: {kappa:.4f}\")"
   ]
  }
 ],
 "metadata": {
  "kernelspec": {
   "display_name": "is-project-thailand-tourism-recommendation-qwL-LsgH-py3.12",
   "language": "python",
   "name": "python3"
  },
  "language_info": {
   "codemirror_mode": {
    "name": "ipython",
    "version": 3
   },
   "file_extension": ".py",
   "mimetype": "text/x-python",
   "name": "python",
   "nbconvert_exporter": "python",
   "pygments_lexer": "ipython3",
   "version": "3.12.5"
  }
 },
 "nbformat": 4,
 "nbformat_minor": 2
}
